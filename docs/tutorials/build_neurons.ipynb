{
 "cells": [
  {
   "cell_type": "markdown",
   "metadata": {},
   "source": [
    "# Build Neurons"
   ]
  },
  {
   "cell_type": "markdown",
   "metadata": {},
   "source": [
    "**Contents**\n",
    "\n",
    "\n",
    "* [brainpy.NeuType](#brainpy.NeuType)\n",
    "* [brainpy.NeuGroup](#brainpy.NeuGroup)\n",
    "* [Reconcile the scalar- and vector-based model](#Reconcile-the-scalar--and-vector-based-model)\n",
    "* [NeuType requires and NeuGroup satisfies](#NeuType-requires-and-NeuGroup-satisfies)\n",
    "* [NeuType hand_overs data/func to NeuGroup](#NeuType-hand_overs-data/func-to-NeuGroup)\n",
    "* [The advantages of the vector-based model](#The-advantages-of-the-vector-based-model)\n",
    "* [Object-oriented programming for NeuGroup](#Object-oriented-programming-for-NeuGroup)"
   ]
  },
  {
   "cell_type": "markdown",
   "metadata": {},
   "source": [
    "In BrainPy, the *definition* and *usage* of the neuron model is separated from each other. In such a way, users can recycle the defined models to generate different neuron groups, or can use models defined by other people. Specifically, two class should be used:\n",
    "\n",
    "- ``brainpy.NeuType``: Define the abstract neuron model.\n",
    "- ``brainpy.NeuGroup``: Use the abstract neuron model to generate a concrete neuron group for computation."
   ]
  },
  {
   "cell_type": "code",
   "execution_count": 4,
   "metadata": {
    "ExecuteTime": {
     "end_time": "2020-11-24T03:12:37.820385Z",
     "start_time": "2020-11-24T03:12:34.962065Z"
    }
   },
   "outputs": [],
   "source": [
    "import sys\n",
    "sys.path.append('../../')\n",
    "\n",
    "import brainpy as bp\n",
    "import numpy as np\n",
    "\n",
    "bp.profile.set(dt=0.01)"
   ]
  },
  {
   "cell_type": "markdown",
   "metadata": {},
   "source": [
    "## brainpy.NeuType"
   ]
  },
  {
   "cell_type": "markdown",
   "metadata": {},
   "source": [
    "Three items should be specified to initialize a ``NeuType``:\n",
    "\n",
    "- ``ST``: The neuronal state.\n",
    "- ``name``: The neuron model name.\n",
    "- ``steps``: The step functions to update at each time step.\n",
    "- ``requires``: The data requires to run the defined model (optional)."
   ]
  },
  {
   "cell_type": "markdown",
   "metadata": {},
   "source": [
    "Two kinds of definition are provided in BrainPy to define a ``NeuType``: \n",
    "\n",
    "- ``scalar-based``: Each item in ``ST`` is a scalar, which represents the state of a single neuron. \n",
    "- ``vector-based``: Each item in ``ST`` is a vector, which represents the state of a group of neurons.\n",
    "\n",
    "The definition logic of ``scalar-based`` models may be more straightforward than ``vector-based`` models. We will see this in the example of LIF model."
   ]
  },
  {
   "cell_type": "markdown",
   "metadata": {},
   "source": [
    "### Hodgkin-Huxley model"
   ]
  },
  {
   "cell_type": "markdown",
   "metadata": {},
   "source": [
    "Let's first take the Hodgkin-Huxley (HH) neuron model as an example to see how to define a ``NeuType`` in BrainPy. "
   ]
  },
  {
   "cell_type": "code",
   "execution_count": 2,
   "metadata": {
    "ExecuteTime": {
     "end_time": "2020-11-24T03:30:37.766010Z",
     "start_time": "2020-11-24T03:30:37.760029Z"
    }
   },
   "outputs": [],
   "source": [
    "# parameters we need # \n",
    "# ------------------ #\n",
    "\n",
    "C = 1.0  # Membrane capacity per unit area (assumed constant).\n",
    "g_Na = 120.  # Voltage-controlled conductance per unit area\n",
    "             # associated with the Sodium (Na) ion-channel.\n",
    "E_Na = 50.   # The equilibrium potentials for the sodium ions.\n",
    "E_K = -77.   # The equilibrium potentials for the potassium ions.\n",
    "g_K = 36.  # Voltage-controlled conductance per unit area\n",
    "           # associated with the Potassium (K) ion-channel.\n",
    "E_Leak = -54.402  # The equilibrium potentials for the potassium ions.\n",
    "g_Leak = 0.003 # Conductance per unit area associated with the leak channels.\n",
    "Vth = 20.  # membrane potential threshold for spike"
   ]
  },
  {
   "cell_type": "markdown",
   "metadata": {},
   "source": [
    "Four differential equations exist in HH neuron model. Please check [Differential equations](https://brainpy.readthedocs.io/en/latest/advanced/differential_equations.html) to see how BrainPy supports differential equations. "
   ]
  },
  {
   "cell_type": "markdown",
   "metadata": {},
   "source": [
    "For $m$ channel, the difinition of the corresponding equations can be:"
   ]
  },
  {
   "cell_type": "markdown",
   "metadata": {},
   "source": [
    "$$\n",
    "\\begin{align}\n",
    "{\\frac {dm}{dt}} &=\\alpha _{m}(V)(1-m)-\\beta _{m}(V)m  \\\\\n",
    "\\alpha_m(V) &= {0.1 (V+ 40) \\over 1-\\exp\\big(-{ V+40 \\over 10}\\big)} \\\\\n",
    "\\beta_m(V) &= 4.0 \\cdot \\exp\\big(-{V+65 \\over 18}\\big)\n",
    "\\end{align}\n",
    "$$"
   ]
  },
  {
   "cell_type": "code",
   "execution_count": 3,
   "metadata": {
    "ExecuteTime": {
     "end_time": "2020-11-24T03:13:17.628936Z",
     "start_time": "2020-11-24T03:13:17.615937Z"
    }
   },
   "outputs": [],
   "source": [
    "@bp.integrate\n",
    "def int_m(m, t, V):\n",
    "    alpha = 0.1 * (V + 40) / (1 - np.exp(-(V + 40) / 10))\n",
    "    beta = 4.0 * np.exp(-(V + 65) / 18)\n",
    "    dmdt = alpha * (1 - m) - beta * m\n",
    "    return dmdt"
   ]
  },
  {
   "cell_type": "markdown",
   "metadata": {},
   "source": [
    "The $h$ channel is defined as:\n",
    "\n",
    "$$\n",
    "\\begin{align}\n",
    "{\\frac {dm}{dt}} &=\\alpha _{m}(V)(1-m)-\\beta _{m}(V)m  \\\\\n",
    "\\alpha_m(V) &= {0.1 (V+ 40) \\over 1-\\exp\\big(-{ V+40 \\over 10}\\big)} \\\\\n",
    "\\beta_m(V) &= 4.0 \\cdot \\exp\\big(-{V+65 \\over 18}\\big)\n",
    "\\end{align}\n",
    "$$"
   ]
  },
  {
   "cell_type": "code",
   "execution_count": 4,
   "metadata": {
    "ExecuteTime": {
     "end_time": "2020-11-24T03:13:33.719989Z",
     "start_time": "2020-11-24T03:13:33.712010Z"
    }
   },
   "outputs": [],
   "source": [
    "@bp.integrate\n",
    "def int_h(h, t, V):\n",
    "    alpha = 0.07 * np.exp(-(V + 65) / 20.)\n",
    "    beta = 1 / (1 + np.exp(-(V + 35) / 10))\n",
    "    dhdt = alpha * (1 - h) - beta * h\n",
    "    return dhdt"
   ]
  },
  {
   "cell_type": "markdown",
   "metadata": {},
   "source": [
    "The $n$ channel is defined as:\n",
    "\n",
    "$$\n",
    "\\begin{align}\n",
    "{\\frac {dn}{dt}} &=\\alpha _{n}(V)(1-n)-\\beta _{n}(V)n \\\\\n",
    "\\alpha_n(V) &= {0.1 \\cdot (V+55) \\over 1-\\exp\\big(-{V+55 \\over10}\\big)} \\\\\n",
    "\\beta_n(V) &= 0.125 \\cdot \\exp\\big(-{V+65 \\over 80}\\big)\n",
    "\\end{align}\n",
    "$$"
   ]
  },
  {
   "cell_type": "code",
   "execution_count": 5,
   "metadata": {
    "ExecuteTime": {
     "end_time": "2020-11-24T03:13:58.080211Z",
     "start_time": "2020-11-24T03:13:58.072228Z"
    }
   },
   "outputs": [],
   "source": [
    "@bp.integrate\n",
    "def int_n(n, t, V):\n",
    "    alpha = 0.01 * (V + 55) / (1 - np.exp(-(V + 55) / 10))\n",
    "    beta = 0.125 * np.exp(-(V + 65) / 80)\n",
    "    dndt = alpha * (1 - n) - beta * n\n",
    "    return dndt"
   ]
  },
  {
   "cell_type": "markdown",
   "metadata": {},
   "source": [
    "The membrane potential $V$ is defined as:\n",
    "\n",
    "$$\n",
    "\\begin{align}\n",
    "C_{m}{\\frac {d V}{dt}}&=-{\\bar {g}}_{\\text{K}}n^{4}(V-V_{K}) - {\\bar {g}}_{\\text{Na}}m^{3}h(V-V_{Na}) -{\\bar {g}}_{l}(V-V_{l}) + I_{syn}\n",
    "\\end{align}\n",
    "$$"
   ]
  },
  {
   "cell_type": "code",
   "execution_count": 6,
   "metadata": {
    "ExecuteTime": {
     "end_time": "2020-11-24T03:14:17.809645Z",
     "start_time": "2020-11-24T03:14:17.798673Z"
    }
   },
   "outputs": [],
   "source": [
    "@bp.integrate\n",
    "def int_V(V, t, m, h, n, Isyn):\n",
    "    INa = g_Na * m ** 3 * h * (V - E_Na)\n",
    "    IK = g_K * n ** 4 * (V - E_K)\n",
    "    IL = g_Leak * (V - E_Leak)\n",
    "    dvdt = (- INa - IK - IL + Isyn) / C\n",
    "    return dvdt"
   ]
  },
  {
   "cell_type": "markdown",
   "metadata": {},
   "source": [
    "In BrainPy, most of the integration of differential equations are implemented by the numerical methods, such as Euler, Exponential Euler, RK2, RK4 (please see [Numerical integrators](https://brainpy.readthedocs.io/en/latest/advanced/numerical_integrators.html)). Therefore, after defining the differential equations, the next important thing is to define the update logic for each variable from the current time point to the next. "
   ]
  },
  {
   "cell_type": "markdown",
   "metadata": {},
   "source": [
    "Here, let's first define the state of a HH model. We provide a data structure ``brainpy.types.NeuState`` to support the neuron state management."
   ]
  },
  {
   "cell_type": "code",
   "execution_count": 7,
   "metadata": {
    "ExecuteTime": {
     "end_time": "2020-11-24T03:29:35.517510Z",
     "start_time": "2020-11-24T03:29:35.511496Z"
    }
   },
   "outputs": [],
   "source": [
    "ST = bp.types.NeuState(\n",
    "     'm',  # denotes potassium channel activation probability.\n",
    "     'h',  # denotes sodium channel activation probability.\n",
    "     'n',  # denotes sodium channel inactivation probability.\n",
    "     'spike',  # denotes spiking state.\n",
    "     'input',  # denotes synaptic input.\n",
    "     V=-65.,  # denotes membrane potential.\n",
    ")"
   ]
  },
  {
   "cell_type": "markdown",
   "metadata": {},
   "source": [
    "In ``ST``, the dynamical variable $V$, $m$, $h$, and $n$ are inluded (without the value specification, the default value of $m$ and $n$ will be 0.). We also take care about whether the neuron produce a $spike$ at current time. Moreover, we define a $input$ item to receive the synaptic inputs and the external inputs."
   ]
  },
  {
   "cell_type": "markdown",
   "metadata": {},
   "source": [
    "Based on the neuron state ``ST``, the update logic of the HH model from the current time point ($t$) to the next time point $(t + dt)$ can be defined as:"
   ]
  },
  {
   "cell_type": "code",
   "execution_count": 8,
   "metadata": {
    "ExecuteTime": {
     "end_time": "2020-11-24T03:29:44.199256Z",
     "start_time": "2020-11-24T03:29:44.186295Z"
    }
   },
   "outputs": [],
   "source": [
    "def update(ST, _t):\n",
    "    m = np.clip(int_m(ST['m'], _t, ST['V']), 0., 1.)\n",
    "    h = np.clip(int_h(ST['h'], _t, ST['V']), 0., 1.)\n",
    "    n = np.clip(int_n(ST['n'], _t, ST['V']), 0., 1.)\n",
    "    V = int_V(ST['V'], _t, ST['m'], ST['h'], ST['n'], ST['input'])\n",
    "    \n",
    "    ST['spike'] = np.logical_and(ST['V'] < Vth, V >= Vth)\n",
    "    ST['V'] = V\n",
    "    ST['m'] = m\n",
    "    ST['h'] = h\n",
    "    ST['n'] = n\n",
    "    ST['input'] = 0."
   ]
  },
  {
   "cell_type": "markdown",
   "metadata": {},
   "source": [
    "In this example, the ``update()`` function of HH model needs two data:\n",
    "\n",
    "- ``ST``: The neuron state.\n",
    "- ``_t``: The system time at current point."
   ]
  },
  {
   "cell_type": "markdown",
   "metadata": {},
   "source": [
    "Putting together, a HH neuron model is defined as:"
   ]
  },
  {
   "cell_type": "code",
   "execution_count": 9,
   "metadata": {
    "ExecuteTime": {
     "end_time": "2020-11-24T03:34:33.455980Z",
     "start_time": "2020-11-24T03:34:33.450999Z"
    }
   },
   "outputs": [],
   "source": [
    "HH = bp.NeuType(name='HH_neuron', \n",
    "                ST=ST, \n",
    "                steps=update,\n",
    "                mode='vector')"
   ]
  },
  {
   "cell_type": "markdown",
   "metadata": {},
   "source": [
    "Here, we should note that we just define an abstract HH neuron model. This model can run with any number of neurons, and with any geometry (one dimension, or two dimension). Only after define a concrete [neuron group](#brainpy.NeuGroup), can we run it or use it to construct a network."
   ]
  },
  {
   "cell_type": "markdown",
   "metadata": {},
   "source": [
    "### LIF model (vector-based)"
   ]
  },
  {
   "cell_type": "markdown",
   "metadata": {},
   "source": [
    "Here, same with [HH model](#Hodgkin-Huxley-model) defined above, let's define a vector-based LIF model. The formal equations of a LIF model is given by:\n",
    "\n",
    "$$\n",
    "\\tau_m \\frac{dV}{dt} = - (V(t) - V_{rest}) + I(t) \n",
    "\\\\\n",
    "\\text{after}\\, V(t) \\gt V_{th}, V(t) =V_{rest}\n",
    "\\,\n",
    "\\text{last}\\, \\tau_{ref}\\, \\text{ms} \n",
    "$$\n",
    "\n",
    "where $V$ is the membrane potential, $V_{rest}$ is the rest membrane potential, $V_{th}$ is the spike threshold, $\\tau_m$ is the time constant, $\\tau_{ref}$ is the refractory time period, and $I$ is the time-variant synaptic inputs. "
   ]
  },
  {
   "cell_type": "markdown",
   "metadata": {},
   "source": [
    "Let's define the following item in neuron state:\n",
    "\n",
    "- ``V``: The membrane potential.\n",
    "- ``input``: The synaptic input.\n",
    "- ``spike``: Whether produce a spike.\n",
    "- ``refractory``: Whether the neuron is in refractory state.\n",
    "- ``t_last_spike``: The last spike time for calculating refractory state."
   ]
  },
  {
   "cell_type": "code",
   "execution_count": 10,
   "metadata": {
    "ExecuteTime": {
     "end_time": "2020-11-24T04:25:05.900622Z",
     "start_time": "2020-11-24T04:25:05.890683Z"
    }
   },
   "outputs": [],
   "source": [
    "ST = bp.types.NeuState(\n",
    "        'V',     # membrane potential\n",
    "         'input',  # synaptic input\n",
    "         'spike',  # spike state\n",
    "         'refractory',  # refractory state\n",
    "         t_last_spike=-1e7  # last spike time\n",
    "    )"
   ]
  },
  {
   "cell_type": "markdown",
   "metadata": {},
   "source": [
    "Assume the items in the neuron state ``ST`` of a LIF model are vectors, the update logic of vector-based LIF neuron model is:"
   ]
  },
  {
   "cell_type": "code",
   "execution_count": 11,
   "metadata": {
    "ExecuteTime": {
     "end_time": "2020-11-24T04:39:13.231721Z",
     "start_time": "2020-11-24T04:39:13.216761Z"
    }
   },
   "outputs": [],
   "source": [
    "tau_m=10.; Vr=0.; Vth=10.; tau_ref=0.\n",
    "\n",
    "@bp.integrate\n",
    "def int_f(V, t, Isyn):\n",
    "    return (-V + Vr + Isyn) / tau_m\n",
    "\n",
    "def update(ST, _t):\n",
    "    V = int_f(ST['V'], _t, ST['input'])\n",
    "    is_ref = _t - ST['t_last_spike'] < tau_ref\n",
    "    V = np.where(is_ref, ST['V'], V)\n",
    "    is_spike = V > Vth\n",
    "    \n",
    "    # get the position of neurons which produce spikes\n",
    "    spike_idx = np.where(is_spike)[0]\n",
    "    if len(spike_idx):\n",
    "        V[spike_idx] = Vr\n",
    "        is_ref[spike_idx] = 1.\n",
    "        ST['t_last_spike'][spike_idx] = _t\n",
    "    \n",
    "    # update the item\n",
    "    ST['V'] = V\n",
    "    ST['spike'] = is_spike\n",
    "    ST['refractory'] = is_ref\n",
    "    ST['input'] = 0.\n",
    "\n",
    "lif = bp.NeuType(name='LIF', \n",
    "                 ST=ST, \n",
    "                 steps=update, \n",
    "                 mode='vector')"
   ]
  },
  {
   "cell_type": "markdown",
   "metadata": {},
   "source": [
    "Here, for vector-based LIF model, we must differentiate the states for each neuron at every time point. For neurons in refractory period (``is_ref``), we must keep its $V$ unchange. For neurons in spiking state (``is_spike``), we must reset its membrane potential. So, it looks like the definition of vector-based LIF mode is somewhat complex. However, the good news is that BrainPy support the difinition of neuron models in scalar mode, which means at each time point, your model difinition can only consider the behavior of one single neuron. Let's take a look."
   ]
  },
  {
   "cell_type": "markdown",
   "metadata": {},
   "source": [
    "### LIF model (scalar-based)"
   ]
  },
  {
   "cell_type": "code",
   "execution_count": 12,
   "metadata": {
    "ExecuteTime": {
     "end_time": "2020-11-24T04:47:43.050010Z",
     "start_time": "2020-11-24T04:47:43.041032Z"
    }
   },
   "outputs": [],
   "source": [
    "def update(ST, _t):\n",
    "    if _t - ST['t_last_spike'] > tau_ref:\n",
    "        V = int_f(ST['V'], _t, ST['input'])\n",
    "        if V >= Vth:\n",
    "            V = Vr\n",
    "            ST['t_last_spike'] = _t\n",
    "            ST['spike'] = True\n",
    "        ST['V'] = V\n",
    "    else:\n",
    "        ST['spike'] = False\n",
    "    ST['input'] = 0.\n",
    "    \n",
    "lif = bp.NeuType(name='LIF', \n",
    "                 ST=ST, \n",
    "                 steps=update, \n",
    "                 mode='scalar')"
   ]
  },
  {
   "cell_type": "markdown",
   "metadata": {},
   "source": [
    "As you can see, the scalar-based LIF model is intuitive and straightforward in BrainPy. If the neuron is not in refractory period (``_t - ST['t_last_spike'] > tau_ref``), integrate the membrane potential by calling ``int_f()``. If the neuron reaches the spike threshold (``V >= Vth``), then reset the membrane potential (``V = Vr``) and set the spike state to bs ``True``. "
   ]
  },
  {
   "cell_type": "markdown",
   "metadata": {},
   "source": [
    "However, it's worthy to note that the scalar-based and the vector-based model have different flexibility ratio. The scalar-based model is convinient and easy to define, but is not flexible enough like the vector-based model. For the vector-based model, you can control everything, and define any data you want. For example, you can operate on the whole group level to count the total spikes by defining a variable `total_spike`, or get the instantaneous population firing rate, etc. Later, we will come back to this topic."
   ]
  },
  {
   "cell_type": "markdown",
   "metadata": {},
   "source": [
    "## brainpy.NeuGroup"
   ]
  },
  {
   "cell_type": "markdown",
   "metadata": {},
   "source": [
    "After we talk about ``brainpy.NeuType``, the uasge of ``brainpy.NeuGroup`` is a piece of cake. This is because in a real project the most efforts we pay is the *difinition* of the models, and BrainPy provide a very convenient way to *use* your defined models. Specifically, a ``brainpy.NeuGroup`` receives the following specifications:\n",
    "\n",
    "- ``model``: The neuron type will be used to generate a neuron group.\n",
    "- ``geometry``: The geometry of the neuron group. Can be a int, or a tuple/list of int.\n",
    "- ``monitors``: The items to monitor (record the history values.)\n",
    "- ``name``: The neuron group name."
   ]
  },
  {
   "cell_type": "markdown",
   "metadata": {},
   "source": [
    "Let's take our defined HH model as an example."
   ]
  },
  {
   "cell_type": "code",
   "execution_count": 14,
   "metadata": {
    "ExecuteTime": {
     "end_time": "2020-11-24T05:22:26.727483Z",
     "start_time": "2020-11-24T05:22:26.715548Z"
    }
   },
   "outputs": [],
   "source": [
    "group = bp.NeuGroup(HH, geometry=10, monitors=['V', 'm', 'n', 'h'])"
   ]
  },
  {
   "cell_type": "markdown",
   "metadata": {},
   "source": [
    "Each group has a powerful function: ``.run()``. In this function, it receives the following arguments:\n",
    "\n",
    "- ``duration``: Specify the simulation duration. Can be a tuple with ``(start time, end time)``. Or it can be a int to specify the duration ``length`` (then the default start time is ``0``).\n",
    "- ``inputs``: Specify the inputs for each model component. With the format of ``(target, value, [operation])``. The default operation is ``+``, which means the input ``value`` will be added to the ``target``. Or, the operation can be ``-``, ``*``, ``/``, or ``=``."
   ]
  },
  {
   "cell_type": "code",
   "execution_count": 15,
   "metadata": {},
   "outputs": [
    {
     "name": "stdout",
     "output_type": "stream",
     "text": [
      "Compilation used 0.0000 s.\n",
      "Start running ...\n",
      "Run 10.0% used 0.104 s.\n",
      "Run 20.0% used 0.208 s.\n",
      "Run 30.0% used 0.317 s.\n",
      "Run 40.0% used 0.420 s.\n",
      "Run 50.0% used 0.522 s.\n",
      "Run 60.0% used 0.632 s.\n",
      "Run 70.0% used 0.738 s.\n",
      "Run 80.0% used 0.844 s.\n",
      "Run 90.0% used 0.952 s.\n",
      "Run 100.0% used 1.059 s.\n",
      "Simulation is done in 1.059 s.\n"
     ]
    }
   ],
   "source": [
    "group.run(100., inputs=('ST.input', 5.), report=True)"
   ]
  },
  {
   "cell_type": "code",
   "execution_count": 16,
   "metadata": {},
   "outputs": [
    {
     "data": {
      "image/png": "[encoded data removed]",
      "text/plain": [
       "<Figure size 432x288 with 1 Axes>"
      ]
     },
     "metadata": {
      "needs_background": "light"
     },
     "output_type": "display_data"
    }
   ],
   "source": [
    "bp.visualize.line_plot(group.mon.ts, group.mon.V, show=True)"
   ]
  },
  {
   "cell_type": "code",
   "execution_count": 17,
   "metadata": {},
   "outputs": [
    {
     "data": {
      "image/png": "[encoded data removed]",
      "text/plain": [
       "<Figure size 432x288 with 1 Axes>"
      ]
     },
     "metadata": {
      "needs_background": "light"
     },
     "output_type": "display_data"
    }
   ],
   "source": [
    "bp.visualize.line_plot(group.mon.ts, group.mon.m, legend='m')\n",
    "bp.visualize.line_plot(group.mon.ts, group.mon.h, legend='h')\n",
    "bp.visualize.line_plot(group.mon.ts, group.mon.n, legend='n', show=True)"
   ]
  },
  {
   "cell_type": "markdown",
   "metadata": {},
   "source": [
    "## Reconcile the scalar- and vector-based model"
   ]
  },
  {
   "cell_type": "markdown",
   "metadata": {},
   "source": [
    "The scalar-bsed and the vector-based model have different performance under different settings. When the users run the model without JIT acceleration (or ``profile.set(jit=False)``), the vector-based model is much more efficient than the scalar-based model due to the powerful array-oriented programming support in NumPy. On the contrary, the scalar-based *LIF* model sometimes is efficient than the vector-based ones in ``JIT`` mode (However, for the neuron model without too many `if .. else ...` conditions, the vector-based nueron is much more efficient, for example, the HH model). This is thanks to the JIT acceleration of for loop provided in Numba. Therefore, we recommend you to choose different difinition mode for different running backend. For example, we can define a unified LIF model with the explicit backend judgement:"
   ]
  },
  {
   "cell_type": "code",
   "execution_count": 13,
   "metadata": {
    "ExecuteTime": {
     "end_time": "2020-11-24T05:04:09.328819Z",
     "start_time": "2020-11-24T05:04:09.310904Z"
    }
   },
   "outputs": [],
   "source": [
    "def get_lif(tau_m=10., Vr=0., Vth=10., tau_ref=0.):\n",
    "    ST = bp.types.NeuState({'V': 0, 'input':0, 'spike':0, \n",
    "                            'refractory': 0, 't_last_spike': -1e7})\n",
    "    \n",
    "    @bp.integrate\n",
    "    def int_f(V, t, Isyn):\n",
    "        return (-V + Vr + Isyn) / tau_m\n",
    "\n",
    "    if bp.profile.is_jit():\n",
    "    \n",
    "        def update(ST, _t):\n",
    "            if _t - ST['t_last_spike'] > tau_ref:\n",
    "                V = int_f(ST['V'], _t, ST['input'])\n",
    "                if V >= Vth:\n",
    "                    V = Vr\n",
    "                    ST['t_last_spike'] = _t\n",
    "                    ST['spike'] = True\n",
    "                ST['V'] = V\n",
    "            else:\n",
    "                ST['spike'] = False\n",
    "            ST['input'] = 0.\n",
    "\n",
    "        lif = bp.NeuType(name='LIF', ST=ST, steps=update, mode='scalar')\n",
    "        \n",
    "        \n",
    "    else:\n",
    "        \n",
    "        def update(ST, _t):\n",
    "            V = int_f(ST['V'], _t, ST['input'])\n",
    "            is_ref = _t - ST['t_last_spike'] < tau_ref\n",
    "            V = np.where(is_ref, ST['V'], V)\n",
    "            is_spike = V > Vth\n",
    "            spike_idx = np.where(is_spike)[0]\n",
    "            if len(spike_idx):\n",
    "                V[spike_idx] = Vr\n",
    "                is_ref[spike_idx] = 1.\n",
    "                ST['t_last_spike'][spike_idx] = _t\n",
    "            ST['V'] = V\n",
    "            ST['spike'] = is_spike\n",
    "            ST['refractory'] = is_ref\n",
    "            ST['input'] = 0.\n",
    "\n",
    "        lif = bp.NeuType(name='LIF', ST=ST, steps=update, mode='vector')\n",
    "    \n",
    "    return lif"
   ]
  },
  {
   "cell_type": "markdown",
   "metadata": {},
   "source": [
    "## NeuType `requires` and NeuGroup `satisfies`"
   ]
  },
  {
   "cell_type": "markdown",
   "metadata": {},
   "source": [
    "The design of BrainPy is constrained by the two goals:\n",
    "\n",
    "- JIT support. \n",
    "- The model definition and usage separation.\n",
    "\n",
    "BrainPy heavily relies on [Numba](https://numba.pydata.org/). Unfortunately, Numba has poor support for `Python class`. And the performance of class computation is greatly reduced. In order to get the best JIT performace, BrainPy only allow users to define models by using the `Python function`. \n",
    "\n",
    "On the other hand, in order to recycle the defined models and hold model reproducibility, BranPy provides ``NeuType`` for model definition and ``NeuGroup`` for model usage. "
   ]
  },
  {
   "cell_type": "markdown",
   "metadata": {},
   "source": [
    "Therefore, one core feature of BrainPy is to bring the computation of a class onto the function. In a class, any data you want can be accessed by ``self.xxx``. In the function, such data ``xxx`` you **require** can be defined as an argument in ``NeuType`` step function. When using ``NeuGroup``, user must initialize the data ``xxx`` to **satisfy** the step function requires."
   ]
  },
  {
   "cell_type": "markdown",
   "metadata": {},
   "source": [
    "![](../images/class_comp_to_func.png)"
   ]
  },
  {
   "cell_type": "markdown",
   "metadata": {},
   "source": [
    "Let's take the following illustrating model as an example:"
   ]
  },
  {
   "cell_type": "code",
   "execution_count": 6,
   "metadata": {},
   "outputs": [],
   "source": [
    "def update(ST, _t, data1, data2):\n",
    "    ...\n",
    "\n",
    "neu = bp.NeuType('test', ST=bp.NeuState(), steps=update,\n",
    "                 requires={'data1': bp.types.Array(dim=1),\n",
    "                           'data2': bp.types.Array(dim=2)})"
   ]
  },
  {
   "cell_type": "markdown",
   "metadata": {},
   "source": [
    "The neuron type ``neu`` *requires* `data1` (a one-dimensional array) and `data2` (a two-dimensional array) to compute its update function."
   ]
  },
  {
   "cell_type": "code",
   "execution_count": 7,
   "metadata": {},
   "outputs": [],
   "source": [
    "group = bp.NeuGroup(neu, geometry=1, \n",
    "                    satisfies={'data1': np.zeros(10), \n",
    "                               'data2':  np.ones((10, 10))})"
   ]
  },
  {
   "cell_type": "markdown",
   "metadata": {},
   "source": [
    "When someone uses this defined model, he/she must provide the corresponding data (`data1` and `data2`) in the ``NeuGroup`` to *satisfy* the ``NeuType`` requirements."
   ]
  },
  {
   "cell_type": "markdown",
   "metadata": {},
   "source": [
    "However, one can also provide the required data in the following ways:"
   ]
  },
  {
   "cell_type": "code",
   "execution_count": 8,
   "metadata": {},
   "outputs": [],
   "source": [
    "group = bp.NeuGroup(neu, geometry=1)\n",
    "group.data1 = np.zeros(10)\n",
    "group.data2 = np.ones((10, 10))"
   ]
  },
  {
   "cell_type": "markdown",
   "metadata": {},
   "source": [
    "## NeuType `hand_overs` data/func to NeuGroup"
   ]
  },
  {
   "cell_type": "markdown",
   "metadata": {},
   "source": [
    "Another useful keyword provided in ``NueType`` is ``hand_overs``, which means you can hand over the data or the functions defined in the ``NeuType`` to the ``NeuGroup`` when someone want to use. For example, you can define a ``init_state()`` function to initialize the HH neuron model state:"
   ]
  },
  {
   "cell_type": "code",
   "execution_count": 12,
   "metadata": {},
   "outputs": [],
   "source": [
    "ST = bp.types.NeuState('V', 'm', 'h', 'n', 'spike', 'input')\n",
    "\n",
    "@bp.integrate\n",
    "def int_m(m, _t, V):\n",
    "    alpha = 0.1 * (V + 40) / (1 - np.exp(-(V + 40) / 10))\n",
    "    beta = 4.0 * np.exp(-(V + 65) / 18)\n",
    "    return alpha * (1 - m) - beta * m\n",
    "\n",
    "@bp.integrate\n",
    "def int_h(h, _t, V):\n",
    "    alpha = 0.07 * np.exp(-(V + 65) / 20.)\n",
    "    beta = 1 / (1 + np.exp(-(V + 35) / 10))\n",
    "    return alpha * (1 - h) - beta * h\n",
    "\n",
    "@bp.integrate\n",
    "def int_n(n, _t, V):\n",
    "    alpha = 0.01 * (V + 55) / (1 - np.exp(-(V + 55) / 10))\n",
    "    beta = 0.125 * np.exp(-(V + 65) / 80)\n",
    "    return alpha * (1 - n) - beta * n\n",
    "\n",
    "@bp.integrate\n",
    "def int_V(V, _t, m, h, n, I_ext):\n",
    "    I_Na = (g_Na * np.power(m, 3.0) * h) * (V - E_Na)\n",
    "    I_K = (g_K * np.power(n, 4.0))* (V - E_K)\n",
    "    I_leak = g_leak * (V - E_leak)\n",
    "    dVdt = (- I_Na - I_K - I_leak + I_ext)/C \n",
    "    return dVdt, noise / C\n",
    "\n",
    "# update the variables change over time (for each step)\n",
    "def update(ST, _t):\n",
    "    m = np.clip(int_m(ST['m'], _t, ST['V']), 0., 1.)\n",
    "    h = np.clip(int_h(ST['h'], _t, ST['V']), 0., 1.)\n",
    "    n = np.clip(int_n(ST['n'], _t, ST['V']), 0., 1.)\n",
    "    V = int_V(ST['V'], _t, m, h, n, ST['input'])\n",
    "    spike = np.logical_and(ST['V'] < V_th, V >= V_th)\n",
    "    ST['spike'] = spike\n",
    "    ST['V'] = V\n",
    "    ST['m'] = m\n",
    "    ST['h'] = h\n",
    "    ST['n'] = n\n",
    "    ST['input'] = 0.   \n",
    "\n",
    "def init_state(ST, Vr):\n",
    "    ST['V'] = Vr\n",
    "    V = ST['V']\n",
    "    \n",
    "    alpha = 0.1 * (V + 40) / (1 - np.exp(-(V + 40) / 10))\n",
    "    beta = 4.0 * np.exp(-(V + 65) / 18)\n",
    "    ST['m'] = alpha / (alpha + beta)\n",
    "    \n",
    "    alpha = 0.07 * np.exp(-(V + 65) / 20.)\n",
    "    beta = 1 / (1 + np.exp(-(V + 35) / 10))\n",
    "    ST['h'] = alpha / (alpha + beta)\n",
    "    \n",
    "    alpha = 0.01 * (V + 55) / (1 - np.exp(-(V + 55) / 10))\n",
    "    beta = 0.125 * np.exp(-(V + 65) / 80)\n",
    "    ST['n'] = alpha / (alpha + beta)\n",
    "    \n",
    "HH_neu = bp.NeuType(name='HH_neuron', \n",
    "                    ST=ST, \n",
    "                    steps=update, \n",
    "                    mode='vector',\n",
    "                    hand_overs={'init_state': init_state})"
   ]
  },
  {
   "cell_type": "markdown",
   "metadata": {},
   "source": [
    "Once you use this model, you can easily initialize the model state by using:"
   ]
  },
  {
   "cell_type": "code",
   "execution_count": 15,
   "metadata": {},
   "outputs": [],
   "source": [
    "HH_group = bp.NeuGroup(HH_neu, geometry=10)\n",
    "HH_group.init_state(HH_group.ST, np.random.random(10) * 10 - 75.)"
   ]
  },
  {
   "cell_type": "code",
   "execution_count": 16,
   "metadata": {},
   "outputs": [
    {
     "data": {
      "text/plain": [
       "array([-70.9077187 , -66.55979129, -65.14340083, -69.51226795,\n",
       "       -73.38228859, -68.06085232, -72.08114256, -71.82573823,\n",
       "       -71.86175207, -72.1604964 ])"
      ]
     },
     "execution_count": 16,
     "metadata": {},
     "output_type": "execute_result"
    }
   ],
   "source": [
    "HH_group.ST['V']"
   ]
  },
  {
   "cell_type": "code",
   "execution_count": 17,
   "metadata": {},
   "outputs": [
    {
     "data": {
      "text/plain": [
       "array([0.02582321, 0.04396935, 0.05204429, 0.03070063, 0.01891655,\n",
       "       0.03667513, 0.02229492, 0.02302182, 0.02291798, 0.02207352])"
      ]
     },
     "execution_count": 17,
     "metadata": {},
     "output_type": "execute_result"
    }
   ],
   "source": [
    "HH_group.ST['m']"
   ]
  },
  {
   "cell_type": "markdown",
   "metadata": {},
   "source": [
    "## The advantages of the vector-based model"
   ]
  },
  {
   "cell_type": "markdown",
   "metadata": {},
   "source": [
    "The advantage of the vector-based model is that you can control all the things that will happend in a neuron group. "
   ]
  },
  {
   "cell_type": "markdown",
   "metadata": {},
   "source": [
    "For example, you can define a variable ``spike_num`` to count the spike number in a neuron group."
   ]
  },
  {
   "cell_type": "code",
   "execution_count": 18,
   "metadata": {},
   "outputs": [],
   "source": [
    "tau_m=10.; Vr=0.; Vth=10.; tau_ref=0.\n",
    "\n",
    "ST = bp.types.NeuState('V', 'input', 'spike', t_last_spike=-1e7 )\n",
    "\n",
    "@bp.integrate\n",
    "def int_f(V, t, Isyn):\n",
    "    return (-V + Vr + Isyn) / tau_m\n",
    "\n",
    "def update(ST, _t, spike_num):\n",
    "    V = int_f(ST['V'], _t, ST['input'])\n",
    "    is_spike = V > Vth\n",
    "    spike_idx = np.where(is_spike)[0]\n",
    "    num_sp = len(spike_idx)\n",
    "    spike_num[0] += num_sp\n",
    "    if num_sp > 0:\n",
    "        V[spike_idx] = Vr\n",
    "        ST['t_last_spike'][spike_idx] = _t\n",
    "    ST['V'] = V\n",
    "    ST['spike'] = is_spike\n",
    "    ST['input'] = 0.\n",
    "\n",
    "lif2 = bp.NeuType(name='LIF',ST=ST, steps=update, mode='vector',\n",
    "                  hand_overs={'spike_num': np.array([0])})"
   ]
  },
  {
   "cell_type": "markdown",
   "metadata": {},
   "source": [
    "Here, we define `spike_num` in ``update()`` function, and initialize `spike_num` as `np.array([0])` in the ``hand_overs``. In such a way, any instance of ``NeuGroup`` for such neuron type will automatically have the required data `spike_num`. Note here we use a array to get the spike number, this is because BrainPy do not support step function return (by using arrays, this problem can be easily solved)."
   ]
  },
  {
   "cell_type": "code",
   "execution_count": 19,
   "metadata": {},
   "outputs": [],
   "source": [
    "group = bp.NeuGroup(lif2, geometry=10, monitors=['spike'])\n",
    "group.run(100., inputs=('input', np.random.random(10) * 5 + 10.))"
   ]
  },
  {
   "cell_type": "code",
   "execution_count": 21,
   "metadata": {},
   "outputs": [
    {
     "data": {
      "text/plain": [
       "50"
      ]
     },
     "execution_count": 21,
     "metadata": {},
     "output_type": "execute_result"
    }
   ],
   "source": [
    "group.spike_num[0]"
   ]
  },
  {
   "cell_type": "code",
   "execution_count": 22,
   "metadata": {
    "scrolled": true
   },
   "outputs": [
    {
     "data": {
      "text/plain": [
       "50.0"
      ]
     },
     "execution_count": 22,
     "metadata": {},
     "output_type": "execute_result"
    }
   ],
   "source": [
    "group.mon.spike.sum()"
   ]
  },
  {
   "cell_type": "markdown",
   "metadata": {},
   "source": [
    "## Object-oriented programming for ``NeuGroup``"
   ]
  },
  {
   "cell_type": "markdown",
   "metadata": {},
   "source": [
    "BrainPy seperates the processes of model definition and model usage, and it is further constrained to use ``Python function`` to define models. However, there are always neuron-group-oriented models. \n",
    "\n",
    "Fortunately, in BrainPy, users can define specific neuron groups in a manner of object-oriented programming by inheriting ``bp.NeuGroup``. Let's take the poisson neuron group and the continuous-attractor network as examples to illustrate how to define group-oriented models."
   ]
  },
  {
   "cell_type": "markdown",
   "metadata": {},
   "source": [
    "### CANN example"
   ]
  },
  {
   "cell_type": "markdown",
   "metadata": {},
   "source": [
    "First of all, we here define a continuouse-attractor neural network, which is an implementation of the paper: \n",
    "\n",
    "- Si Wu, Kosuke Hamaguchi, and Shun-ichi Amari. “Dynamics and computation of continuous attractors.” Neural computation 20.4 (2008): 994-1025.\n",
    "\n",
    "Detailed implementation please see [Wu_2008_CANN](https://brainpy-models.readthedocs.io/en/latest/examples/from_papers/Wu_2008_CANN.html)."
   ]
  },
  {
   "cell_type": "code",
   "execution_count": 1,
   "metadata": {},
   "outputs": [],
   "source": [
    "bp.profile.set(numerical_method='rk4', dt=0.05)"
   ]
  },
  {
   "cell_type": "code",
   "execution_count": 3,
   "metadata": {},
   "outputs": [],
   "source": [
    "class CANN(bp.NeuGroup):\n",
    "    \"\"\"\n",
    "    Define a Continuous-attractor Neural Network neuron\n",
    "    group by using the object-oriented programming.\n",
    "    \"\"\"\n",
    "\n",
    "    def __init__(self,\n",
    "                 num,\n",
    "                 tau=1.,  # The synaptic time constant\n",
    "                 k=8.1,  # Degree of the rescaled inhibition\n",
    "                 a=0.5,  # Half-width of the range of excitatory connections\n",
    "                 A=10.,  # Magnitude of the external input\n",
    "                 J0=4.,  # maximum connection value\n",
    "                 z_min=-np.pi,\n",
    "                 z_max=np.pi,\n",
    "                 monitors=None):\n",
    "        self.a = a\n",
    "        self.A = A\n",
    "        self.J0 = J0\n",
    "        self.z_min = z_min\n",
    "        self.z_max = z_max\n",
    "        self.num = num\n",
    "\n",
    "        self.z_range = z_max - z_min\n",
    "        # The neural density\n",
    "        rho = num / self.z_range\n",
    "        # The stimulus density\n",
    "        dx = self.z_range / num\n",
    "        # The corresponding stimulus\n",
    "        xs = np.linspace(z_min, z_max, num)\n",
    "        # The connection matrix\n",
    "        conn_mat = self.make_conn(xs)\n",
    "\n",
    "        @bp.integrate\n",
    "        def int_u(u, t, Iext):\n",
    "            r1 = np.square(u)\n",
    "            r2 = 1.0 + k * rho * np.sum(r1) * dx\n",
    "            r = r1 / r2\n",
    "            Irec = rho * np.dot(conn_mat, r) * dx\n",
    "            dudt = (-u + Irec + Iext) / tau\n",
    "            return (dudt,), r\n",
    "\n",
    "        def neu_update(ST, _t):\n",
    "            ST['u'], ST['r'] = int_u(ST['u'], _t, ST['input'])\n",
    "            ST['input'] = 0.\n",
    "\n",
    "        # define the model\n",
    "        model = bp.NeuType(name='CANN',\n",
    "                           steps=neu_update,\n",
    "                           ST=bp.types.NeuState('x', 'u', 'r', 'input'),\n",
    "                           mode='vector')\n",
    "\n",
    "        super(CANN, self).__init__(model=model, geometry=num, monitors=monitors)\n",
    "\n",
    "        # initialize the \"x\"\n",
    "        self.ST['x'] = xs\n",
    "\n",
    "    def dist(self, d):\n",
    "        d = np.remainder(d, self.z_range)\n",
    "        d = np.where(d > 0.5 * self.z_range, d - self.z_range, d)\n",
    "        return d\n",
    "\n",
    "    def make_conn(self, x):\n",
    "        assert np.ndim(x) == 1\n",
    "        x_left = np.reshape(x, (len(x), 1))\n",
    "        x_right = np.repeat(x.reshape((1, -1)), len(x), axis=0)\n",
    "        d = self.dist(x_left - x_right)\n",
    "        jxx = self.J0 * np.exp(-0.5 * np.square(d / self.a)) / (np.sqrt(2 * np.pi) * self.a)\n",
    "        return jxx\n",
    "\n",
    "    def get_stimulus_by_pos(self, pos):\n",
    "        return self.A * np.exp(-0.25 * np.square(self.dist(self.ST['x'] - pos) / self.a))"
   ]
  },
  {
   "cell_type": "code",
   "execution_count": 4,
   "metadata": {},
   "outputs": [],
   "source": [
    "# instance the neuron group\n",
    "\n",
    "group = CANN(512, monitors=['u'])"
   ]
  },
  {
   "cell_type": "code",
   "execution_count": 5,
   "metadata": {},
   "outputs": [],
   "source": [
    "# define the moving stimulus\n",
    "\n",
    "dur1, dur2, dur3 = 20., 20., 20.\n",
    "num1 = int(dur1 / bp.profile.get_dt())\n",
    "num2 = int(dur2 / bp.profile.get_dt())\n",
    "num3 = int(dur3 / bp.profile.get_dt())\n",
    "position = np.zeros(num1 + num2 + num3)\n",
    "position[num1: num1 + num2] = np.linspace(0., 12., num2)\n",
    "position[num1 + num2:] = 12.\n",
    "position = position.reshape((-1, 1))\n",
    "Iext = group.get_stimulus_by_pos(position)\n",
    "group.run(duration=dur1 + dur2 + dur3, inputs=('ST.input', Iext))"
   ]
  },
  {
   "cell_type": "code",
   "execution_count": null,
   "metadata": {
    "scrolled": false
   },
   "outputs": [],
   "source": [
    "bp.visualize.animate_1D(\n",
    "    dynamical_vars=[{'ys': group.mon.u, 'xs': group.ST['x'], 'legend': 'u'},\n",
    "                    {'ys': Iext, 'xs': group.ST['x'], 'legend': 'Iext'}],\n",
    "    frame_step=5,\n",
    "    frame_delay=50,\n",
    "    show=True\n",
    ")"
   ]
  },
  {
   "cell_type": "markdown",
   "metadata": {},
   "source": [
    "Simulation results please see [Wu_2008_CANN](https://brainpy-models.readthedocs.io/en/latest/examples/from_papers/Wu_2008_CANN.html#Smooth-tracking)."
   ]
  },
  {
   "cell_type": "markdown",
   "metadata": {},
   "source": [
    "### Poisson noise example"
   ]
  },
  {
   "cell_type": "markdown",
   "metadata": {},
   "source": [
    "Poisson noise is usually used in the computational modeling. And, obviously, there is no dynamics in a Poisson group. Directly define a Poisson group by``PoissonGroup(freq=xxx, geometry=xxx)`` is much better than using ``NeuGroup(model=poisson(freq=xx), geometry=xxx)``. So, here is the example how to define a Poisson group model."
   ]
  },
  {
   "cell_type": "code",
   "execution_count": 9,
   "metadata": {},
   "outputs": [],
   "source": [
    "class PoissonInput(bp.NeuGroup):\n",
    "    def __init__(self, geometry, freqs, monitors=None):\n",
    "        dt = bp.profile.get_dt() / 1000.\n",
    "\n",
    "        def update(ST):\n",
    "            ST['spike'] = np.random.random(ST['spike'].shape) < freqs * dt\n",
    "\n",
    "        model = bp.NeuType(name='poisson', ST=bp.NeuState('spike'), steps=update, mode='vector')\n",
    "\n",
    "        super(PoissonInput, self).__init__(model=model, geometry=geometry, monitors=monitors)"
   ]
  },
  {
   "cell_type": "code",
   "execution_count": 10,
   "metadata": {},
   "outputs": [
    {
     "data": {
      "image/png": "[encoded data removed]",
      "text/plain": [
       "<Figure size 432x288 with 1 Axes>"
      ]
     },
     "metadata": {
      "needs_background": "light"
     },
     "output_type": "display_data"
    }
   ],
   "source": [
    "# 100 Hz Poisson noise\n",
    "\n",
    "group = PoissonInput(100, freqs=100., monitors=['spike'])\n",
    "group.run(100.)\n",
    "bp.visualize.raster_plot(group.mon.ts, group.mon.spike, show=True)"
   ]
  },
  {
   "cell_type": "code",
   "execution_count": 11,
   "metadata": {},
   "outputs": [
    {
     "data": {
      "image/png": "[encoded data removed]",
      "text/plain": [
       "<Figure size 432x288 with 1 Axes>"
      ]
     },
     "metadata": {
      "needs_background": "light"
     },
     "output_type": "display_data"
    }
   ],
   "source": [
    "# 500 Hz Poisson noise\n",
    "\n",
    "group = PoissonInput(100, freqs=500., monitors=['spike'])\n",
    "group.run(100.)\n",
    "bp.visualize.raster_plot(group.mon.ts, group.mon.spike, show=True)"
   ]
  }
 ],
 "metadata": {
  "hide_input": false,
  "kernelspec": {
   "display_name": "Python 3",
   "language": "python",
   "name": "python3"
  },
  "language_info": {
   "codemirror_mode": {
    "name": "ipython",
    "version": 3
   },
   "file_extension": ".py",
   "mimetype": "text/x-python",
   "name": "python",
   "nbconvert_exporter": "python",
   "pygments_lexer": "ipython3",
   "version": "3.7.7"
  },
  "toc": {
   "base_numbering": 1,
   "nav_menu": {},
   "number_sections": false,
   "sideBar": true,
   "skip_h1_title": false,
   "title_cell": "Table of Contents",
   "title_sidebar": "Contents",
   "toc_cell": false,
   "toc_position": {
    "height": "calc(100% - 180px)",
    "left": "10px",
    "top": "150px",
    "width": "243.07px"
   },
   "toc_section_display": true,
   "toc_window_display": true
  },
  "varInspector": {
   "cols": {
    "lenName": 16,
    "lenType": 16,
    "lenVar": 40
   },
   "kernels_config": {
    "python": {
     "delete_cmd_postfix": "",
     "delete_cmd_prefix": "del ",
     "library": "var_list.py",
     "varRefreshCmd": "print(var_dic_list())"
    },
    "r": {
     "delete_cmd_postfix": ") ",
     "delete_cmd_prefix": "rm(",
     "library": "var_list.r",
     "varRefreshCmd": "cat(var_dic_list()) "
    }
   },
   "types_to_exclude": [
    "module",
    "function",
    "builtin_function_or_method",
    "instance",
    "_Feature"
   ],
   "window_display": false
  }
 },
 "nbformat": 4,
 "nbformat_minor": 4
}
