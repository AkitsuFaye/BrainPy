{
 "cells": [
  {
   "cell_type": "markdown",
   "id": "premium-shield",
   "metadata": {},
   "source": [
    "# Numerical Solvers"
   ]
  },
  {
   "cell_type": "markdown",
   "id": "destroyed-smooth",
   "metadata": {},
   "source": [
    "Brain modeling toolkit provided in BrainPy is focused on **differential equations**. How to solve differential equations is the essence of the neurodynamics simulation. The exact algebraic solutions are only available for low-order differential equations. For the coupled high-dimensional non-linear brain dynamical systems, we need to resort to using numerical methods for solving such differential equations. In this section, I will illustrate how to define ordinary differential quations (ODEs), stochastic differential equations (SDEs), and how to define the numerical integration methods in BrainPy for these difined DEs."
   ]
  },
  {
   "cell_type": "code",
   "execution_count": 1,
   "id": "specialized-wyoming",
   "metadata": {
    "ExecuteTime": {
     "end_time": "2021-03-23T15:11:10.299805Z",
     "start_time": "2021-03-23T15:11:08.620690Z"
    }
   },
   "outputs": [],
   "source": [
    "import sys\n",
    "sys.path.append('../../')\n",
    "\n",
    "import brainpy as bp"
   ]
  },
  {
   "cell_type": "markdown",
   "id": "opposite-mixer",
   "metadata": {},
   "source": [
    "## ODEs"
   ]
  },
  {
   "cell_type": "markdown",
   "id": "complicated-italy",
   "metadata": {},
   "source": [
    "### How to define an ODE function?"
   ]
  },
  {
   "cell_type": "markdown",
   "id": "removed-championship",
   "metadata": {},
   "source": [
    "BrainPy provides a convenient and intuitive way to define ODE systems. For the ODE\n",
    "\n",
    "$$\n",
    "{dx \\over dt} = f_1(x, t, y, p_1)\\\\\n",
    "{dy \\over dt} = f_2(y, t, x, p_2)\n",
    "$$\n",
    "\n",
    "we can define this system as a Python function: "
   ]
  },
  {
   "cell_type": "code",
   "execution_count": 1,
   "id": "failing-headset",
   "metadata": {
    "ExecuteTime": {
     "end_time": "2021-03-23T14:10:54.574024Z",
     "start_time": "2021-03-23T14:10:54.545736Z"
    }
   },
   "outputs": [],
   "source": [
    "def diff(x, y, t, p1, p2):\n",
    "    dx = f1(x, t, y, p1)\n",
    "    dy = g1(y, t, x, p2)\n",
    "    return dx, dy"
   ]
  },
  {
   "cell_type": "markdown",
   "id": "devoted-television",
   "metadata": {},
   "source": [
    "where `t` denotes the current time, `p1` and `p2` which after the `t` are represented as parameters needed in this system, and `x` and `y` passed before `t` denotes the dynamical variables. In the function body, the derivative for each variable can be customized by the user need `f1` and `f2`. Finally, we return the corresponding derivatives `dx` and `dy` with the order the same as the variables in the function arguments.\n",
    "\n",
    "For each variable `x` or `y`, it can be a scalar (`var_type = bp.SCALAR_VAR`), a vector/matrix (`var_type = bp.POPU_VAR`), or a system (`var_type = bp.SYSTEM_VAR`). Here, the \"system\" means that the argument `x` denotes an array of vairables. Take the above example as the demonstration again, we can redefine it as:"
   ]
  },
  {
   "cell_type": "code",
   "execution_count": 6,
   "id": "historical-chapel",
   "metadata": {
    "ExecuteTime": {
     "end_time": "2021-03-23T15:30:04.376593Z",
     "start_time": "2021-03-23T15:30:04.368594Z"
    }
   },
   "outputs": [],
   "source": [
    "import numpy as np\n",
    "\n",
    "def diff(xy, t, p1, p2):\n",
    "    x, y = xy\n",
    "    dx = f1(x, t, y, p1)\n",
    "    dy = g1(y, t, x, p2)\n",
    "    return np.array([dx, dy])"
   ]
  },
  {
   "cell_type": "markdown",
   "id": "considered-surgery",
   "metadata": {},
   "source": [
    "### How to define the numerical integration for ODEs?"
   ]
  },
  {
   "cell_type": "markdown",
   "id": "mysterious-holiday",
   "metadata": {},
   "source": [
    "After the definition of ODE functions, the numerical integration of these functions are very easy in BrainPy. We just need put a decorator (`bp.odeint`). "
   ]
  },
  {
   "cell_type": "code",
   "execution_count": 2,
   "id": "apparent-structure",
   "metadata": {
    "ExecuteTime": {
     "end_time": "2021-03-23T15:07:37.736843Z",
     "start_time": "2021-03-23T15:07:37.716840Z"
    }
   },
   "outputs": [],
   "source": [
    "@bp.odeint\n",
    "def diff(x, y, t, p1, p2):\n",
    "    dx = f1(x, t, y, p1)\n",
    "    dy = g1(y, t, x, p2)\n",
    "    return dx, dy"
   ]
  },
  {
   "cell_type": "markdown",
   "id": "meaning-print",
   "metadata": {
    "ExecuteTime": {
     "end_time": "2021-03-23T15:04:17.122194Z",
     "start_time": "2021-03-23T15:04:15.983197Z"
    }
   },
   "source": [
    "`bp.odeint` receives \"method\", \"dt\" etc. specification. By providing \"method\", user can specify the numerical methods to integrate the ODE functions. The supported ODE method can be found by"
   ]
  },
  {
   "cell_type": "code",
   "execution_count": 3,
   "id": "artificial-curtis",
   "metadata": {
    "ExecuteTime": {
     "end_time": "2021-03-23T15:11:22.057190Z",
     "start_time": "2021-03-23T15:11:22.047195Z"
    }
   },
   "outputs": [
    {
     "data": {
      "text/plain": [
       "['bs',\n",
       " 'ck',\n",
       " 'euler',\n",
       " 'heun2',\n",
       " 'heun3',\n",
       " 'heun_euler',\n",
       " 'midpoint',\n",
       " 'ralston2',\n",
       " 'ralston3',\n",
       " 'ralston4',\n",
       " 'rk2',\n",
       " 'rk3',\n",
       " 'rk4',\n",
       " 'rk4_38rule',\n",
       " 'rkdp',\n",
       " 'rkf12',\n",
       " 'rkf45',\n",
       " 'ssprk3']"
      ]
     },
     "execution_count": 3,
     "metadata": {},
     "output_type": "execute_result"
    }
   ],
   "source": [
    "bp.integrators.SUPPORTED_ODE_METHODS"
   ]
  },
  {
   "cell_type": "markdown",
   "id": "surface-brush",
   "metadata": {},
   "source": [
    "Moreover, \"dt\" is a float which denotes the numerical integration precision. Here, for the above ODE function, we can define a four-order Runge-Kutta method for it:"
   ]
  },
  {
   "cell_type": "code",
   "execution_count": 4,
   "id": "bronze-sport",
   "metadata": {
    "ExecuteTime": {
     "end_time": "2021-03-23T15:13:54.738449Z",
     "start_time": "2021-03-23T15:13:54.729900Z"
    }
   },
   "outputs": [],
   "source": [
    "@bp.odeint(method='rk4', dt=0.01)\n",
    "def diff(x, y, t, p1, p2):\n",
    "    dx = f1(x, t, y, p1)\n",
    "    dy = g1(y, t, x, p2)\n",
    "    return dx, dy"
   ]
  },
  {
   "cell_type": "markdown",
   "id": "chubby-timing",
   "metadata": {},
   "source": [
    "### Example 1: FitzHugh–Nagumo model"
   ]
  },
  {
   "cell_type": "markdown",
   "id": "christian-receipt",
   "metadata": {},
   "source": [
    "Here, let's take the well known [FitzHugh–Nagumo model](https://en.wikipedia.org/wiki/FitzHugh%E2%80%93Nagumo_model) as an exmaple to illustrate how to define ODE solvers for brain modeling. The FitzHugh–Nagumo model (FHN) model has two dynamical variables, which are governed by the following equations:\n",
    "\n",
    "$$\n",
    "\\begin{align}\n",
    "\\tau {\\dot  {w}}&=v+a-bw\\\\\n",
    "{\\dot {v}} &=v-{\\frac {v^{3}}{3}}-w+I_{\\rm {ext}} \\\\\n",
    "\\end{align}\n",
    "$$\n",
    "\n",
    "For this FHN model, we can code it in BrainPy like this:"
   ]
  },
  {
   "cell_type": "code",
   "execution_count": 5,
   "id": "saved-participation",
   "metadata": {
    "ExecuteTime": {
     "end_time": "2021-03-23T15:29:53.081577Z",
     "start_time": "2021-03-23T15:29:53.073575Z"
    }
   },
   "outputs": [],
   "source": [
    "@bp.odeint(dt=0.01)\n",
    "def integral(V, w, t, Iext, a, b, tau):\n",
    "    dw = (V + a - b * w) / tau\n",
    "    dV = V - V * V * V / 3 - w + Iext\n",
    "    return dV, dw"
   ]
  },
  {
   "cell_type": "markdown",
   "id": "freelance-carpet",
   "metadata": {},
   "source": [
    "After defining the numerical solver, the solution of the ODE system in the given times can be easily solved. For example, for the given parameters,"
   ]
  },
  {
   "cell_type": "code",
   "execution_count": 9,
   "id": "annual-wrestling",
   "metadata": {
    "ExecuteTime": {
     "end_time": "2021-03-23T15:37:54.696961Z",
     "start_time": "2021-03-23T15:37:54.678955Z"
    }
   },
   "outputs": [],
   "source": [
    "dt = 0.01;   a=0.7;   b=0.8;   tau=12.5;   Iext=1."
   ]
  },
  {
   "cell_type": "markdown",
   "id": "competitive-transition",
   "metadata": {},
   "source": [
    "the solution of the FHN model between 0 and 100 ms can be approximated by "
   ]
  },
  {
   "cell_type": "code",
   "execution_count": 10,
   "id": "dated-sunset",
   "metadata": {
    "ExecuteTime": {
     "end_time": "2021-03-23T15:37:57.984245Z",
     "start_time": "2021-03-23T15:37:57.736440Z"
    }
   },
   "outputs": [
    {
     "data": {
      "text/plain": [
       "[<matplotlib.lines.Line2D at 0x15a91162a88>]"
      ]
     },
     "execution_count": 10,
     "metadata": {},
     "output_type": "execute_result"
    },
    {
     "data": {
      "image/png": "[encoded data removed]",
      "text/plain": [
       "<Figure size 432x288 with 1 Axes>"
      ]
     },
     "metadata": {
      "needs_background": "light"
     },
     "output_type": "display_data"
    }
   ],
   "source": [
    "hist_times = np.arange(0, 100, 0.1)\n",
    "hist_V = []\n",
    "V, w = 0., 0.\n",
    "for t in hist_times:\n",
    "    V, w = integral(V, w, t, Iext, a, b, tau)\n",
    "    hist_V.append(V)\n",
    "\n",
    "import matplotlib.pyplot as plt\n",
    "plt.plot(hist_times, hist_V)"
   ]
  },
  {
   "cell_type": "markdown",
   "id": "acute-prototype",
   "metadata": {},
   "source": [
    "### Example 2: Hodgkin–Huxley model"
   ]
  },
  {
   "cell_type": "markdown",
   "id": "whole-mother",
   "metadata": {},
   "source": [
    "Another more complex example is the classical [Hodgkin–Huxley neuron model](https://en.wikipedia.org/wiki/Hodgkin%E2%80%93Huxley_model). In HH model, four dynamical variables (`V, m, n, h`) are used for modeling the initiation and propagration of the action potential. Specificaly, they are governed by the following equations:\n",
    "\n",
    "$$\n",
    "\\begin{aligned}\n",
    "C_{m} \\frac{d V}{d t} &=-\\bar{g}_{\\mathrm{K}} n^{4}\\left(V-V_{K}\\right)- \\bar{g}_{\\mathrm{Na}} m^{3} h\\left(V-V_{N a}\\right)-\\bar{g}_{l}\\left(V-V_{l}\\right)+I_{s y n} \\\\\n",
    "\\frac{d m}{d t} &=\\alpha_{m}(V)(1-m)-\\beta_{m}(V) m \\\\\n",
    "\\frac{d h}{d t} &=\\alpha_{h}(V)(1-h)-\\beta_{h}(V) h \\\\\n",
    "\\frac{d n}{d t} &=\\alpha_{n}(V)(1-n)-\\beta_{n}(V) n\n",
    "\\end{aligned}\n",
    "$$\n",
    "\n",
    "In BrainPy, such dynamical system can be coded as:"
   ]
  },
  {
   "cell_type": "code",
   "execution_count": 11,
   "id": "sexual-butler",
   "metadata": {
    "ExecuteTime": {
     "end_time": "2021-03-23T15:42:17.921752Z",
     "start_time": "2021-03-23T15:42:17.896456Z"
    }
   },
   "outputs": [],
   "source": [
    "@bp.odeint(method='rk4', dt=0.01)\n",
    "def integral(V, m, h, n, t, Iext, gNa, ENa, gK, EK, gL, EL, C):\n",
    "    alpha = 0.1 * (V + 40) / (1 - np.exp(-(V + 40) / 10))\n",
    "    beta = 4.0 * np.exp(-(V + 65) / 18)\n",
    "    dmdt = alpha * (1 - m) - beta * m\n",
    "\n",
    "    alpha = 0.07 * np.exp(-(V + 65) / 20.)\n",
    "    beta = 1 / (1 + np.exp(-(V + 35) / 10))\n",
    "    dhdt = alpha * (1 - h) - beta * h\n",
    "\n",
    "    alpha = 0.01 * (V + 55) / (1 - np.exp(-(V + 55) / 10))\n",
    "    beta = 0.125 * np.exp(-(V + 65) / 80)\n",
    "    dndt = alpha * (1 - n) - beta * n\n",
    "\n",
    "    I_Na = (gNa * m ** 3.0 * h) * (V - ENa)\n",
    "    I_K = (gK * n ** 4.0) * (V - EK)\n",
    "    I_leak = gL * (V - EL)\n",
    "    dVdt = (- I_Na - I_K - I_leak + Iext) / C\n",
    "\n",
    "    return dVdt, dmdt, dhdt, dndt"
   ]
  },
  {
   "cell_type": "markdown",
   "id": "subjective-formation",
   "metadata": {},
   "source": [
    "Same as the FHN model, we can also integrate the HH model in the given parameters and time interval:"
   ]
  },
  {
   "cell_type": "code",
   "execution_count": 16,
   "id": "worthy-restriction",
   "metadata": {
    "ExecuteTime": {
     "end_time": "2021-03-23T15:48:24.927865Z",
     "start_time": "2021-03-23T15:48:24.919865Z"
    }
   },
   "outputs": [],
   "source": [
    "Iext=10.;   ENa=50.;   EK=-77.;   EL=-54.387\n",
    "C=1.0;      gNa=120.;  gK=36.;    gL=0.03"
   ]
  },
  {
   "cell_type": "code",
   "execution_count": 17,
   "id": "regular-kernel",
   "metadata": {
    "ExecuteTime": {
     "end_time": "2021-03-23T15:48:27.412192Z",
     "start_time": "2021-03-23T15:48:27.019017Z"
    }
   },
   "outputs": [
    {
     "data": {
      "text/plain": [
       "<matplotlib.legend.Legend at 0x15a92f653c8>"
      ]
     },
     "execution_count": 17,
     "metadata": {},
     "output_type": "execute_result"
    },
    {
     "data": {
      "image/png": "[encoded data removed]",
      "text/plain": [
       "<Figure size 432x288 with 2 Axes>"
      ]
     },
     "metadata": {
      "needs_background": "light"
     },
     "output_type": "display_data"
    }
   ],
   "source": [
    "hist_times = np.arange(0, 100, 0.1)\n",
    "hist_V, hist_m, hist_h, hist_n = [], [], [], []\n",
    "V, m, h, n = 0., 0., 0., 0.\n",
    "for t in hist_times:\n",
    "    V, m, h, n = integral(V, m, h, n, t, Iext, gNa, ENa, gK, EK, gL, EL, C)\n",
    "    hist_V.append(V)\n",
    "    hist_m.append(m)\n",
    "    hist_h.append(h)\n",
    "    hist_n.append(n)\n",
    "\n",
    "\n",
    "plt.subplot(211)\n",
    "plt.plot(hist_times, hist_V, label='V')\n",
    "plt.legend()\n",
    "plt.subplot(212)\n",
    "plt.plot(hist_times, hist_m, label='m')\n",
    "plt.plot(hist_times, hist_h, label='h')\n",
    "plt.plot(hist_times, hist_n, label='n')\n",
    "plt.legend()"
   ]
  },
  {
   "cell_type": "markdown",
   "id": "corrected-cream",
   "metadata": {},
   "source": [
    "## SDEs"
   ]
  },
  {
   "cell_type": "markdown",
   "id": "incoming-result",
   "metadata": {},
   "source": [
    "### How to define a SDE function?"
   ]
  },
  {
   "cell_type": "code",
   "execution_count": null,
   "id": "stopped-finding",
   "metadata": {},
   "outputs": [],
   "source": []
  },
  {
   "cell_type": "code",
   "execution_count": null,
   "id": "competitive-attack",
   "metadata": {},
   "outputs": [],
   "source": []
  },
  {
   "cell_type": "code",
   "execution_count": null,
   "id": "short-explanation",
   "metadata": {},
   "outputs": [],
   "source": []
  }
 ],
 "metadata": {
  "hide_input": false,
  "kernelspec": {
   "display_name": "Python 3",
   "language": "python",
   "name": "python3"
  },
  "language_info": {
   "codemirror_mode": {
    "name": "ipython",
    "version": 3
   },
   "file_extension": ".py",
   "mimetype": "text/x-python",
   "name": "python",
   "nbconvert_exporter": "python",
   "pygments_lexer": "ipython3",
   "version": "3.7.9"
  },
  "toc": {
   "base_numbering": 1,
   "nav_menu": {
    "height": "198px",
    "width": "397px"
   },
   "number_sections": false,
   "sideBar": true,
   "skip_h1_title": false,
   "title_cell": "Table of Contents",
   "title_sidebar": "Contents",
   "toc_cell": false,
   "toc_position": {},
   "toc_section_display": true,
   "toc_window_display": false
  },
  "varInspector": {
   "cols": {
    "lenName": 16,
    "lenType": 16,
    "lenVar": 40
   },
   "kernels_config": {
    "python": {
     "delete_cmd_postfix": "",
     "delete_cmd_prefix": "del ",
     "library": "var_list.py",
     "varRefreshCmd": "print(var_dic_list())"
    },
    "r": {
     "delete_cmd_postfix": ") ",
     "delete_cmd_prefix": "rm(",
     "library": "var_list.r",
     "varRefreshCmd": "cat(var_dic_list()) "
    }
   },
   "types_to_exclude": [
    "module",
    "function",
    "builtin_function_or_method",
    "instance",
    "_Feature"
   ],
   "window_display": false
  }
 },
 "nbformat": 4,
 "nbformat_minor": 5
}
