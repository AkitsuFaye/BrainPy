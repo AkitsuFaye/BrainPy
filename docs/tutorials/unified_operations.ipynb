{
 "cells": [
  {
   "cell_type": "markdown",
   "id": "8c1fab73",
   "metadata": {},
   "source": [
    "# Unified Operations"
   ]
  },
  {
   "cell_type": "markdown",
   "id": "a96af7bb",
   "metadata": {},
   "source": [
    "`BrainPy` is targeted on multiple backends. Flexible switch between various backends needs to solve the problem of how to unify the different operations between them. "
   ]
  },
  {
   "cell_type": "code",
   "execution_count": 1,
   "id": "e82caa24",
   "metadata": {},
   "outputs": [],
   "source": [
    "import brainpy as bp"
   ]
  },
  {
   "cell_type": "markdown",
   "id": "7d8ab444",
   "metadata": {},
   "source": [
    "Intrinsically, `BrainPy` needs several necessary operations for numerical solvers, dynamics simulation and data construction. "
   ]
  },
  {
   "cell_type": "code",
   "execution_count": 2,
   "id": "1bb14e0b",
   "metadata": {},
   "outputs": [
    {
     "data": {
      "text/plain": [
       "['normal', 'sum', 'exp', 'shape']"
      ]
     },
     "execution_count": 2,
     "metadata": {},
     "output_type": "execute_result"
    }
   ],
   "source": [
    "# necessary operations for numerical solvers\n",
    "\n",
    "bp.ops.OPS_FOR_SOLVER"
   ]
  },
  {
   "cell_type": "code",
   "execution_count": 3,
   "id": "dc72a339",
   "metadata": {},
   "outputs": [
    {
     "data": {
      "text/plain": [
       "['as_tensor', 'zeros', 'ones', 'arange', 'concatenate', 'where', 'reshape']"
      ]
     },
     "execution_count": 3,
     "metadata": {},
     "output_type": "execute_result"
    }
   ],
   "source": [
    "# necessary operations for neurodynamics simulation\n",
    "\n",
    "bp.ops.OPS_FOR_SIMULATION"
   ]
  },
  {
   "cell_type": "code",
   "execution_count": 4,
   "id": "c224af7c",
   "metadata": {},
   "outputs": [
    {
     "data": {
      "text/plain": [
       "['bool', 'int', 'int32', 'int64', 'float', 'float32', 'float64']"
      ]
     },
     "execution_count": 4,
     "metadata": {},
     "output_type": "execute_result"
    }
   ],
   "source": [
    "# necessary data types\n",
    "\n",
    "bp.ops.OPS_OF_DTYPE"
   ]
  },
  {
   "cell_type": "markdown",
   "id": "b9d2674b",
   "metadata": {},
   "source": [
    "However, if want to unify more commonly used operations, users can use `brainpy.ops.set_buffer(backend, **operations)` to set operation buffers."
   ]
  },
  {
   "cell_type": "markdown",
   "id": "6ae4644b",
   "metadata": {},
   "source": [
    "For example, if users want to implement unified `clip` and `square` operations across different backends, ones can define like this:"
   ]
  },
  {
   "cell_type": "code",
   "execution_count": 5,
   "id": "f168270a",
   "metadata": {},
   "outputs": [],
   "source": [
    "# NumPy\n",
    "\n",
    "import numpy as np\n",
    "\n",
    "bp.ops.set_buffer('numpy', clip=np.clip, sqrt=np.sqrt)"
   ]
  },
  {
   "cell_type": "code",
   "execution_count": 6,
   "id": "39279d05",
   "metadata": {},
   "outputs": [],
   "source": [
    "# PyTorch\n",
    "\n",
    "try:\n",
    "    import torch\n",
    "\n",
    "    bp.ops.set_buffer('pytorch', clip=torch.clamp, sqrt=torch.sqrt)\n",
    "\n",
    "except ModuleNotFoundError:\n",
    "    pass"
   ]
  },
  {
   "cell_type": "code",
   "execution_count": 7,
   "id": "0a758280",
   "metadata": {},
   "outputs": [],
   "source": [
    "# TensorFlow\n",
    "\n",
    "try:\n",
    "    import tensorflow as tf\n",
    "\n",
    "    bp.ops.set_buffer('tensorflow', clip=tf.clip_by_value, sqrt=tf.math.sqrt)\n",
    "\n",
    "except ModuleNotFoundError:\n",
    "    pass"
   ]
  },
  {
   "cell_type": "code",
   "execution_count": 8,
   "id": "56ed8efa",
   "metadata": {},
   "outputs": [],
   "source": [
    "# Numba\n",
    "\n",
    "try:\n",
    "    import numba as nb\n",
    "\n",
    "    @nb.njit\n",
    "    def nb_clip(x, x_min, x_max):\n",
    "        x = np.maximum(x, x_min)\n",
    "        x = np.minimum(x, x_max)\n",
    "        return x\n",
    "\n",
    "    bp.ops.set_buffer('numba', clip=nb_clip, sqrt=np.sqrt)\n",
    "    bp.ops.set_buffer('numba-parallel', clip=nb_clip, sqrt=np.sqrt)\n",
    "\n",
    "except ModuleNotFoundError:\n",
    "    pass"
   ]
  },
  {
   "cell_type": "code",
   "execution_count": 9,
   "id": "ad34b3c0",
   "metadata": {},
   "outputs": [],
   "source": [
    "# Numba-CUDA\n",
    "\n",
    "try:\n",
    "    import math\n",
    "    import numba as nb\n",
    "    from numba import cuda\n",
    "\n",
    "    @cuda.jit(devicde=True)\n",
    "    def cuda_clip(x, x_min, x_max):\n",
    "        if x < x_min: return x_min\n",
    "        elif x > x_max: return x_max\n",
    "        else: return x\n",
    "    \n",
    "    bp.ops.set_buffer('numba-cuda', clip=nb_clip, sqrt=math.sqrt)\n",
    "    \n",
    "except ModuleNotFoundError:\n",
    "    pass"
   ]
  },
  {
   "cell_type": "markdown",
   "id": "2ebdb7e6",
   "metadata": {},
   "source": [
    "After the buffer setting, users can use the unified operation to define models which will automatically works natively with buffered backends."
   ]
  },
  {
   "cell_type": "code",
   "execution_count": 10,
   "id": "6b99701e",
   "metadata": {},
   "outputs": [],
   "source": [
    "def test(arr):\n",
    "    return bp.ops.sqrt(bp.ops.clip(arr, 0., 1.))"
   ]
  },
  {
   "cell_type": "code",
   "execution_count": 11,
   "id": "d33ca0d2",
   "metadata": {},
   "outputs": [
    {
     "data": {
      "text/plain": [
       "array([0.        , 0.70710678, 1.        ])"
      ]
     },
     "execution_count": 11,
     "metadata": {},
     "output_type": "execute_result"
    }
   ],
   "source": [
    "bp.backend.set('numpy')\n",
    "\n",
    "test(bp.ops.as_tensor([-1, 0.5, 2.]))"
   ]
  },
  {
   "cell_type": "code",
   "execution_count": 12,
   "id": "8d6403c0",
   "metadata": {},
   "outputs": [
    {
     "data": {
      "text/plain": [
       "tensor([0.0000, 0.7071, 1.0000])"
      ]
     },
     "execution_count": 12,
     "metadata": {},
     "output_type": "execute_result"
    }
   ],
   "source": [
    "bp.backend.set('pytorch')\n",
    "\n",
    "test(bp.ops.as_tensor([-1, 0.5, 2.]))"
   ]
  },
  {
   "cell_type": "code",
   "execution_count": 13,
   "id": "06e638d0",
   "metadata": {},
   "outputs": [
    {
     "data": {
      "text/plain": [
       "<tf.Tensor: shape=(3,), dtype=float32, numpy=array([0.        , 0.70710677, 1.        ], dtype=float32)>"
      ]
     },
     "execution_count": 13,
     "metadata": {},
     "output_type": "execute_result"
    }
   ],
   "source": [
    "bp.backend.set('tensorflow')\n",
    "\n",
    "test(bp.ops.as_tensor([-1, 0.5, 2.]))"
   ]
  },
  {
   "cell_type": "code",
   "execution_count": 14,
   "id": "76536e6c",
   "metadata": {},
   "outputs": [
    {
     "data": {
      "text/plain": [
       "array([0.        , 0.70710678, 1.        ])"
      ]
     },
     "execution_count": 14,
     "metadata": {},
     "output_type": "execute_result"
    }
   ],
   "source": [
    "bp.backend.set('numba')\n",
    "\n",
    "test(bp.ops.as_tensor([-1, 0.5, 2.]))"
   ]
  },
  {
   "cell_type": "markdown",
   "id": "42ad7f96",
   "metadata": {},
   "source": [
    "---\n",
    "\n",
    "**Author**:\n",
    "\n",
    "- Chaoming Wang\n",
    "- Email: adaduo@outlook.com\n",
    "- Date: 2021.05.26\n",
    "\n",
    "---"
   ]
  }
 ],
 "metadata": {
  "kernelspec": {
   "display_name": "brainpy",
   "language": "python",
   "name": "brainpy"
  },
  "language_info": {
   "codemirror_mode": {
    "name": "ipython",
    "version": 3
   },
   "file_extension": ".py",
   "mimetype": "text/x-python",
   "name": "python",
   "nbconvert_exporter": "python",
   "pygments_lexer": "ipython3",
   "version": "3.8.8"
  },
  "toc": {
   "base_numbering": 1,
   "nav_menu": {},
   "number_sections": false,
   "sideBar": true,
   "skip_h1_title": false,
   "title_cell": "Table of Contents",
   "title_sidebar": "Contents",
   "toc_cell": false,
   "toc_position": {},
   "toc_section_display": true,
   "toc_window_display": true
  }
 },
 "nbformat": 4,
 "nbformat_minor": 5
}
