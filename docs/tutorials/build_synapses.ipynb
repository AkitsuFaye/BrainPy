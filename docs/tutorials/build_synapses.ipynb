{
 "cells": [
  {
   "cell_type": "markdown",
   "metadata": {},
   "source": [
    "# Build Synapses"
   ]
  },
  {
   "cell_type": "markdown",
   "metadata": {},
   "source": [
    "**Contents**\n",
    "\n",
    "- [brainpy.SynType](#brainpy.SynType)\n",
    "- [brainpy.SynConn](#brainpy.SynConn)\n",
    "- [brainpy.connect](#brainpy.connect)\n",
    "- [Other Operations](#Other-Operations)"
   ]
  },
  {
   "cell_type": "markdown",
   "metadata": {},
   "source": [
    "Same with the neuron models, the *definition* and *usage* of the synapse model are separated from each other. Specifically, two classes should be used:\n",
    "\n",
    "- ``brainpy.SynType``: Define the abstract synapse model.\n",
    "- ``brainpy.SynConn``: Use the abstract synapse model to generate a concrete synapse connection."
   ]
  },
  {
   "cell_type": "markdown",
   "metadata": {},
   "source": [
    "The synapse model should consider two things:\n",
    "\n",
    "- The ``connection`` between neuron groups: how the pre-synaptic neurons connect to the post-synaptic neurons.\n",
    "- What ``computation`` is used on each synaptic connection. "
   ]
  },
  {
   "cell_type": "markdown",
   "metadata": {},
   "source": [
    "In the next, I will illustrate how to define a synaptic model by using ``brainpy.SynType``, and then tell you how to use your defined model with ``brainpy.SynConn``. "
   ]
  },
  {
   "cell_type": "markdown",
   "metadata": {},
   "source": [
    "Before we start, let's import your favorite BrainPy and NumPy packages."
   ]
  },
  {
   "cell_type": "code",
   "execution_count": 1,
   "metadata": {
    "ExecuteTime": {
     "end_time": "2021-02-03T15:26:16.382159Z",
     "start_time": "2021-02-03T15:26:13.341526Z"
    }
   },
   "outputs": [],
   "source": [
    "import sys\n",
    "sys.path.append('../../')\n",
    "\n",
    "import brainpy as bp\n",
    "import numpy as np"
   ]
  },
  {
   "cell_type": "markdown",
   "metadata": {},
   "source": [
    "## brainpy.SynType"
   ]
  },
  {
   "cell_type": "markdown",
   "metadata": {},
   "source": [
    "### Support for `SynType` definition"
   ]
  },
  {
   "cell_type": "markdown",
   "metadata": {},
   "source": [
    "Same with the neuron models, BrainPy provides several interfaces to support the SynType definition. Users can combine them arbitrarily to define a synapse model. Specifically, the supports include:\n",
    "\n",
    "- **Numerical integration of [differential equations](https://brainpy.readthedocs.io/en/latest/advanced/differential_equations.html)**: by using the decorator `@brainpy.integrate`, users can define an integrator for a ODE or SDE. The numerical method for integration can be chosen from the supported [methods](https://brainpy.readthedocs.io/en/latest/advanced/numerical_integrators.html).\n",
    "\n",
    "- **Synaptic state management**: BrainPy provides `brainpy.SynState` for convenient synapse state management. \n",
    "\n",
    "- **Automatical synaptic delay**: The synapse modeling usually includes a delay time (typically 0.3–0.5 ms) required for a neurotransmitter to be released from a presynaptic membrane, diffuse across the synaptic cleft, and bind to a receptor site on the post-synaptic membrane. BrainPy provides `@brainpy.delayed` decorator for automatical state delay. On the functions which use the delayed state, you just need to add the `@delayed` decorator on them. "
   ]
  },
  {
   "cell_type": "markdown",
   "metadata": {},
   "source": [
    "### Scalar-based Synapse Model"
   ]
  },
  {
   "cell_type": "markdown",
   "metadata": {},
   "source": [
    "The updating logic of a synapse should consider the connections between groups and the computations on each connection. Fortunately, BrainPy provides a scalar-based definition paradigm, in which you only need to consider the computation on each connection. Let's first take the AMPA synapse model as an illustrating example."
   ]
  },
  {
   "cell_type": "markdown",
   "metadata": {},
   "source": [
    "The formal equations of an AMPA synapse is given by:\n",
    "\n",
    "$$\n",
    "\\frac{d s}{d t}=-\\frac{s}{\\tau_{decay}}+\\sum_{k} \\delta(t-t_{j}^{k}) \\quad (1) \\\\\n",
    "I_{syn}= \\bar{g}_{syn} s (V-E_{syn}) \\quad (2)\n",
    "$$\n",
    "\n",
    "\n",
    "where $\\bar{g}_{syn}$ is the maximum synaptic conductance, $s$ is the gating variable, and $V$ is the membrane potential of the postsynaptic neuron. The time constant $\\tau_{decay}$ is about 2ms and the equilibrium potential $E_{syn}$ for AMPA synapse is set to 0 mV."
   ]
  },
  {
   "cell_type": "code",
   "execution_count": 2,
   "metadata": {
    "ExecuteTime": {
     "end_time": "2021-02-03T15:26:16.390139Z",
     "start_time": "2021-02-03T15:26:16.385153Z"
    }
   },
   "outputs": [],
   "source": [
    "# model parameters \n",
    "\n",
    "tau_decay = 2.   # time constant of the dacay after synapse respond to a neurontransmitter.\n",
    "g_max = .10      # Voltage-controlled conductance per unit area\n",
    "                 # associated with the Sodium (Na) and Potassium (K) \n",
    "                 # ion-channels on the synapse (postsynaptic membrane).\n",
    "E = 0.           # The equilibrium potentials for the synapse."
   ]
  },
  {
   "cell_type": "code",
   "execution_count": 3,
   "metadata": {
    "ExecuteTime": {
     "end_time": "2021-02-03T15:26:16.482890Z",
     "start_time": "2021-02-03T15:26:16.394130Z"
    }
   },
   "outputs": [],
   "source": [
    "# use \"@integrate\" to define the gating variable dynamics\n",
    "\n",
    "@bp.integrate\n",
    "def int_s(s, t):\n",
    "    return - s / tau_decay"
   ]
  },
  {
   "cell_type": "code",
   "execution_count": 4,
   "metadata": {
    "ExecuteTime": {
     "end_time": "2021-02-03T15:26:16.490869Z",
     "start_time": "2021-02-03T15:26:16.485884Z"
    }
   },
   "outputs": [],
   "source": [
    "# use \"SynState\" to define the synapse state\n",
    "\n",
    "ST = bp.SynState('s', help='AMPA synapse state.')"
   ]
  },
  {
   "cell_type": "markdown",
   "metadata": {},
   "source": [
    "Based on the above definition, the update logic of the synapse model (equation (1)) from the current time point ($t$) to the next time point $(t + dt)$ can be defined as:"
   ]
  },
  {
   "cell_type": "code",
   "execution_count": 5,
   "metadata": {
    "ExecuteTime": {
     "end_time": "2021-02-03T15:26:16.502838Z",
     "start_time": "2021-02-03T15:26:16.494858Z"
    }
   },
   "outputs": [],
   "source": [
    "def update_by_scalar(ST, _t, pre):\n",
    "    s = int_s(ST['s'], _t)\n",
    "    if pre['spike'] == True:\n",
    "        s += 1\n",
    "    ST['s'] = s"
   ]
  },
  {
   "cell_type": "markdown",
   "metadata": {},
   "source": [
    "The output synaptic value onto the post-synaptic neurons (equation (2)) can be defined as:"
   ]
  },
  {
   "cell_type": "code",
   "execution_count": 6,
   "metadata": {
    "ExecuteTime": {
     "end_time": "2021-02-03T15:26:16.512811Z",
     "start_time": "2021-02-03T15:26:16.505831Z"
    }
   },
   "outputs": [],
   "source": [
    "@bp.delayed\n",
    "def output_by_scalar(ST, post):\n",
    "    I_syn = - g_max * ST['s'] * (post['V'] - E)\n",
    "    post['input'] += I_syn"
   ]
  },
  {
   "cell_type": "markdown",
   "metadata": {},
   "source": [
    "As you can see, the code writting is very similar to the original equations. \n",
    "\n",
    "Another thing we should pay attention to is that the `update()` function needs pre-synaptic neuron state `pre`, and the `output()` function requires post-synaptic neuron state `post`. If you want someone else to use this model, you can make clear statements about the data need to satisfy (optional). Like this,"
   ]
  },
  {
   "cell_type": "code",
   "execution_count": 7,
   "metadata": {
    "ExecuteTime": {
     "end_time": "2021-02-03T15:26:16.529765Z",
     "start_time": "2021-02-03T15:26:16.515802Z"
    }
   },
   "outputs": [],
   "source": [
    "requires = dict(\n",
    "    pre=bp.types.NeuState('spike', help='Presynaptic neuron state must have \"spike\" item.'),\n",
    "    post=bp.types.NeuState('V', 'input', help='Postsynaptic neuron state must have \"V\" and \"input\" item.')\n",
    ")"
   ]
  },
  {
   "cell_type": "markdown",
   "metadata": {},
   "source": [
    "Putting together, an AMPA synapse model is defined as:"
   ]
  },
  {
   "cell_type": "code",
   "execution_count": 8,
   "metadata": {
    "ExecuteTime": {
     "end_time": "2021-02-03T15:26:16.547718Z",
     "start_time": "2021-02-03T15:26:16.535751Z"
    }
   },
   "outputs": [],
   "source": [
    "AMPA1 = bp.SynType(name='AMPA_scalar',  ST=ST, requires=requires, \n",
    "                   steps=(update_by_scalar, output_by_scalar), mode='scalar')"
   ]
  },
  {
   "cell_type": "markdown",
   "metadata": {},
   "source": [
    "### Matrix-based Synapse Model"
   ]
  },
  {
   "cell_type": "markdown",
   "metadata": {},
   "source": [
    "Contrary to the scalar-based synapse model, the matrix-based model means each item in the synapse state ``ST`` is a matrix with the shape of `(num_pre, num_post)`. And the updating logic in the matrix-based model will explicitly utilize the synaptic connections (i.e., connectivity matrix with the shape of `(num_pre, num_post)`). "
   ]
  },
  {
   "cell_type": "markdown",
   "metadata": {},
   "source": [
    "For example, if you have the followng connection matrix (`conn_mat`), \n",
    "\n",
    "\n",
    "<img src=\"../images/syn-example-conn_mat.png\" width=\"400 px\" align=\"left\">"
   ]
  },
  {
   "cell_type": "markdown",
   "metadata": {},
   "source": [
    "the updating logic of the AMPA synapse can be coded as:"
   ]
  },
  {
   "cell_type": "code",
   "execution_count": 9,
   "metadata": {
    "ExecuteTime": {
     "end_time": "2021-02-03T15:26:16.557691Z",
     "start_time": "2021-02-03T15:26:16.551707Z"
    }
   },
   "outputs": [],
   "source": [
    "def update_by_mat(ST, _t, pre, conn_mat):\n",
    "    s = int_s(ST['s'], _t)\n",
    "    # when pre-synaptic neuron generate spikes, the  \n",
    "    # corresponding position in `s` will add 1.\n",
    "    s += pre['spike'].reshape((-1, 1)) * conn_mat\n",
    "    ST['s'] = s"
   ]
  },
  {
   "cell_type": "markdown",
   "metadata": {},
   "source": [
    "Similarly, the output function of the AMPA synapse will be adapted to"
   ]
  },
  {
   "cell_type": "code",
   "execution_count": 10,
   "metadata": {
    "ExecuteTime": {
     "end_time": "2021-02-03T15:26:16.568660Z",
     "start_time": "2021-02-03T15:26:16.561682Z"
    }
   },
   "outputs": [],
   "source": [
    "@bp.delayed\n",
    "def output_by_mat(ST, post):\n",
    "    g = g_max * np.sum(ST['s'], axis=0)\n",
    "    post['input'] -= g * (post['V'] - E)"
   ]
  },
  {
   "cell_type": "markdown",
   "metadata": {},
   "source": [
    "Here, in order to compute the AMPA updating logic, a new data `conn_mat` will be used. We can make a data declaration as (optional)"
   ]
  },
  {
   "cell_type": "code",
   "execution_count": 11,
   "metadata": {
    "ExecuteTime": {
     "end_time": "2021-02-03T15:26:16.578635Z",
     "start_time": "2021-02-03T15:26:16.571653Z"
    }
   },
   "outputs": [],
   "source": [
    "requires = dict(\n",
    "    pre=bp.types.NeuState('spike'),\n",
    "    post=bp.types.NeuState('V', 'input'),\n",
    "    conn_mat=bp.types.MatConn(help='Connection matrix between pre- and post- synaptic neuron group.')\n",
    ")"
   ]
  },
  {
   "cell_type": "markdown",
   "metadata": {},
   "source": [
    "Putting together, a matrix-based AMPA synapse model is defined as"
   ]
  },
  {
   "cell_type": "code",
   "execution_count": 12,
   "metadata": {
    "ExecuteTime": {
     "end_time": "2021-02-03T15:26:16.597585Z",
     "start_time": "2021-02-03T15:26:16.582625Z"
    }
   },
   "outputs": [],
   "source": [
    "AMPA2 = bp.SynType(name='AMPA_matrix',  ST=ST, requires=requires, \n",
    "                   steps=(update_by_mat, output_by_mat), mode='matrix')"
   ]
  },
  {
   "cell_type": "markdown",
   "metadata": {},
   "source": [
    "**Event-based upating**\n",
    "\n",
    "The computation logic defined in `update_by_mat()` is very inefficient. This is because it is uncommon for a neuron to generate a spike, and in a group of neuron, the generated spikes (`pre['spike']`) are usually sparse. Therefore, for many time points, there are many zeros in `pre['spike']`, which results `s` add many unnecessary zeros (`s += pre['spike'].reshape((-1, 1)) * conn_mat`). Alternatively, we can update `s` when the pre-synaptic neuron produces a spike event:"
   ]
  },
  {
   "cell_type": "code",
   "execution_count": 13,
   "metadata": {
    "ExecuteTime": {
     "end_time": "2021-02-03T15:26:16.608554Z",
     "start_time": "2021-02-03T15:26:16.600576Z"
    }
   },
   "outputs": [],
   "source": [
    "def update_by_mat(ST, _t, pre, conn_mat):\n",
    "    s = int_s(ST['s'], _t)\n",
    "    \n",
    "    # event-based updating\n",
    "    for i in range(pre['spike'].shape[0]):\n",
    "        if pre['spike'][i] > 0:\n",
    "            s[i] += conn_mat[i]\n",
    "    \n",
    "    ST['s'] = s"
   ]
  },
  {
   "cell_type": "markdown",
   "metadata": {},
   "source": [
    "In such a way, only when pre neuron $i$ produces a spike, the correponding `s[i]` will carry out the adding operation (`s[i] += conn_mat[i]`). In practice, this kind of updating method is much more efficient than the previous one."
   ]
  },
  {
   "cell_type": "markdown",
   "metadata": {},
   "source": [
    "### Vector-based Synapse Model"
   ]
  },
  {
   "cell_type": "markdown",
   "metadata": {},
   "source": [
    "Matrix-based model may be straightforward, but can cause severe wasted RAM memory and inefficient computation. Imaging you want to connect 10,000 pre-synaptic neurons to 10,000 post-synaptic neurons with a 10% random probability. Using *matrix*, you need $10^8$ floats to save the synaptic state, and at each update step, you need do computation on $10^8$ floats (for example, the computation in the above `int_s()`). Actually, the number of values you truely needed is $10^7$. See, there is a huge memory waste and computing resource inefficiency. "
   ]
  },
  {
   "cell_type": "markdown",
   "metadata": {},
   "source": [
    "An effective method to solve this problem is to use *vector* to store the connectivity between neuron groups and the corresponding synaptic states. For the above defined connectivity `conn_mat`, we can align the connected pre-synaptic neurons and the post-synaptic neurons by two one-dimensional arrays: *pre_ids* and *post_ids*,"
   ]
  },
  {
   "cell_type": "markdown",
   "metadata": {},
   "source": [
    "<img src=\"../images/syn-example-pre_ids-post_ids.png\" width=\"700 px\" align=\"left\">"
   ]
  },
  {
   "cell_type": "markdown",
   "metadata": {},
   "source": [
    "In such a way, we only need two vectors (each has $10^7$ floats). And, at each time step, we just compute `int_s()` on a synaptic state vector with $10^7$ floats. "
   ]
  },
  {
   "cell_type": "markdown",
   "metadata": {},
   "source": [
    "However, the synaptic computation based on vectors also has problems. That is, how to retrieve the synapse states which connected with the pre-synaptic neuron $i$ and the post-synaptic neuron $j$. "
   ]
  },
  {
   "cell_type": "markdown",
   "metadata": {},
   "source": [
    "A simple way is to create a `pre2syn` list, where each `pre2syn[i]` stores the synaptic state indexes projected from the pre-synaptic neuron $i$.  "
   ]
  },
  {
   "cell_type": "markdown",
   "metadata": {},
   "source": [
    "<img src=\"../images/syn-example-pre2syn.png\" width=\"200 px\" align=\"left\">"
   ]
  },
  {
   "cell_type": "markdown",
   "metadata": {},
   "source": [
    "Similarly, we can create a `post2syn` list to indicate the connections between synapses and postsynaptic neurons. For each post-synaptic neuron $j$, `post2syn[j]` stores the indexes of synaptic elements which connected to post neuron $j$. "
   ]
  },
  {
   "cell_type": "markdown",
   "metadata": {},
   "source": [
    "<img src=\"../images/syn-example-post2syn.png\" width=\"200 px\" align=\"left\">"
   ]
  },
  {
   "cell_type": "markdown",
   "metadata": {},
   "source": [
    "Also, the direct mapping between the pre-synaptic neurons and the post-synaptic neurons can be established. `pre2post` saves the connected post-synaptic neurons indexes, in which `pre2post[i]` retrieves the post neuron ids projected from pre-synaptic neuron $i$. `post2pre` saves the pre-synaptic neurons indexes, in which `post2pre[j]` retrieves the pre-syanptic neuron ids which project to post-synaptic neuron $j$. "
   ]
  },
  {
   "cell_type": "markdown",
   "metadata": {},
   "source": [
    "<img src=\"../images/syn-example-pre2post.png\" width=\"200 px\" align=\"left\">"
   ]
  },
  {
   "cell_type": "markdown",
   "metadata": {},
   "source": [
    "<img src=\"../images/syn-example-post2pre.png\" width=\"200 px\" align=\"left\">"
   ]
  },
  {
   "cell_type": "markdown",
   "metadata": {},
   "source": [
    "Based on these connectivity mappings, we can define another version of AMPA synapse model by using `pre2syn` and `post2syn`:"
   ]
  },
  {
   "cell_type": "code",
   "execution_count": 14,
   "metadata": {
    "ExecuteTime": {
     "end_time": "2021-02-03T15:26:16.638474Z",
     "start_time": "2021-02-03T15:26:16.612544Z"
    }
   },
   "outputs": [],
   "source": [
    "def update_by_vector(ST, _t, pre, pre2syn):\n",
    "    s = ints(ST['s'], _t)\n",
    "    \n",
    "    for i in range(pre['spike'].shape[0]):\n",
    "        if pre['spike'][i] > 0:\n",
    "            # if pre[i] produce a spike, then the  \n",
    "            # connected synapses should add 1.\n",
    "            syn_ids = pre2syn[i]\n",
    "            s[syn_ids] += 1.\n",
    "\n",
    "    ST['s'] = s\n",
    "\n",
    "@bp.delayed\n",
    "def output_by_vector(ST, post, post2syn):\n",
    "    g = np.zeros(len(post2syn), dtype=np.float_)\n",
    "    for post_id, syn_ids in enumerate(post2syn):\n",
    "        g[post_id] = np.sum(g_max * ST['s'][syn_ids])\n",
    "    \n",
    "    post['input'] -= post_cond * (post['V'] - E)\n",
    "    \n",
    "requires = dict(\n",
    "    pre=bp.types.NeuState('spike'),\n",
    "    post=bp.types.NeuState('V', 'input'),\n",
    "    pre2syn = bp.types.ListConn(),\n",
    "    post2syn = bp.types.ListConn()\n",
    ")\n",
    "\n",
    "AMPA3 = bp.SynType(name='AMPA_vector', ST=ST,  requires=requires,\n",
    "                   steps=(update_by_vector, output_by_vector),  mode='vector')"
   ]
  },
  {
   "cell_type": "markdown",
   "metadata": {},
   "source": [
    "Here, we get a vector-based synapse model. "
   ]
  },
  {
   "cell_type": "markdown",
   "metadata": {},
   "source": [
    "However, it is not perfect. This is because the computation of `s` and `g` relies on many indexing (`s[syn_ids]` and `ST['s'][syn_ids]`). When the number of the connected pre/post-synaptic neurons is big, the computation based on the indexing will be inefficient. On the contrary, the slicing is much effective than the indexing. Let's illustrate this by the following experiment."
   ]
  },
  {
   "cell_type": "code",
   "execution_count": 15,
   "metadata": {
    "ExecuteTime": {
     "end_time": "2021-02-03T15:26:16.647451Z",
     "start_time": "2021-02-03T15:26:16.642469Z"
    }
   },
   "outputs": [],
   "source": [
    "# we create an array, and want to retrieve the half of them\n",
    "\n",
    "num = 10000\n",
    "array = np.ones(num)"
   ]
  },
  {
   "cell_type": "code",
   "execution_count": 16,
   "metadata": {
    "ExecuteTime": {
     "end_time": "2021-02-03T15:26:19.152281Z",
     "start_time": "2021-02-03T15:26:16.652438Z"
    }
   },
   "outputs": [
    {
     "name": "stdout",
     "output_type": "stream",
     "text": [
      "13.9 µs ± 584 ns per loop (mean ± std. dev. of 7 runs, 100000 loops each)\n"
     ]
    }
   ],
   "source": [
    "# method 1: using indexing\n",
    "\n",
    "idx = np.arange(0, num//2)\n",
    "%timeit array[idx]"
   ]
  },
  {
   "cell_type": "code",
   "execution_count": 17,
   "metadata": {
    "ExecuteTime": {
     "end_time": "2021-02-03T15:26:23.202823Z",
     "start_time": "2021-02-03T15:26:19.160258Z"
    }
   },
   "outputs": [
    {
     "name": "stdout",
     "output_type": "stream",
     "text": [
      "194 ns ± 2.38 ns per loop (mean ± std. dev. of 7 runs, 10000000 loops each)\n"
     ]
    }
   ],
   "source": [
    "# method 2: using slicing\n",
    "\n",
    "%timeit array[0: num]"
   ]
  },
  {
   "cell_type": "markdown",
   "metadata": {},
   "source": [
    "As you can see, the above experiment demonstrates that the slicing is 72x faster than the indexing (13.9 µs / 194 ns)."
   ]
  },
  {
   "cell_type": "markdown",
   "metadata": {},
   "source": [
    "So, here, we should avoid to use the indexing of `post2syn`. Instead, we can create a `post_slice_syn` connection structure which stores the *start* and the *end* position on the synpase state for each connected post-synaptic neuron $j$. `post_slice_syn` can be implemented by aligning the pre ids according to the sequential post id $0, 1, 2, ...$ (look the following illustrating figure). For each post neuron $j$, `start, end = post_slice_syn[j]` retrieves the start/end position of the connected synapse states."
   ]
  },
  {
   "cell_type": "markdown",
   "metadata": {},
   "source": [
    "<img src=\"../images/syn-example-post_slice_syn.png\" width=\"700 px\" align=\"left\">"
   ]
  },
  {
   "cell_type": "markdown",
   "metadata": {},
   "source": [
    "Therefore, the updating logic of AMPA synapse can again be coded as:"
   ]
  },
  {
   "cell_type": "code",
   "execution_count": 18,
   "metadata": {
    "ExecuteTime": {
     "end_time": "2021-02-03T15:26:23.222770Z",
     "start_time": "2021-02-03T15:26:23.206812Z"
    }
   },
   "outputs": [],
   "source": [
    "@bp.delayed\n",
    "def output_by_vector2(ST, post, post_slice_syn):\n",
    "    g = np.zeros(len(post_slice_syn), dtype=np.float_)\n",
    "    for post_id, position in enumerate(post_slice_syn):\n",
    "        start = position[0]\n",
    "        end = position[1]\n",
    "        g[post_id] = np.sum(g_max * ST['s'][start: end])\n",
    "    \n",
    "    post['input'] -= post_cond * (post['V'] - E)\n",
    "    \n",
    "requires = dict(\n",
    "    pre=bp.types.NeuState('spike', ),\n",
    "    post=bp.types.NeuState('V', 'input'),\n",
    "    pre2syn = bp.types.ListConn(),\n",
    "    post_slice_syn = bp.types.Array(dim=2)\n",
    ")\n",
    "\n",
    "AMPA4 = bp.SynType(name='AMPA_vector', ST=ST,  requires=requires,\n",
    "                   steps=(update_by_vector, output_by_vector2), \n",
    "                   mode='vector')"
   ]
  },
  {
   "cell_type": "markdown",
   "metadata": {},
   "source": [
    "Similarly, a connection `pre_slice_syn` can also be implemented. "
   ]
  },
  {
   "cell_type": "markdown",
   "metadata": {},
   "source": [
    "<img src=\"../images/syn-example-pre_slice_syn.png\" width=\"700 px\" align=\"left\">"
   ]
  },
  {
   "cell_type": "markdown",
   "metadata": {},
   "source": [
    "## brainpy.SynConn"
   ]
  },
  {
   "cell_type": "markdown",
   "metadata": {},
   "source": [
    "The above `brainpy.SynType` only defines the abstract synaptic model. To implement concreate synaptic computation, we should use `brainpy.SynConn`. A ``brainpy.SynConn`` receives the following parameters:\n",
    "\n",
    "- ``model``: The synapse type will be used to generate a synapse connection. It must be an instance of `brainpy.SynType`.\n",
    "- ``pre_group``: The presynaptic neuron group. An instance of `brainpy.NeuGroup`.\n",
    "- ``post_group``: The postsynaptic neuron group. An instance of `brainpy.NeuGroup`.\n",
    "- ``conn``: The connection method to create synaptic connectivity between the neuron groups.\n",
    "- ``monitors``: The items to monitor (record the history values.)\n",
    "- ``delay``: The time of the synapse delay (in milliseconds).\n",
    "- ``satisfies``: The data to satisfy the model requires."
   ]
  },
  {
   "cell_type": "markdown",
   "metadata": {},
   "source": [
    "Let's illustrate the usage of `SynConn` by connecting two LIF neurons. The LIF neuron model can be get from our [BrainPy-Models](https://brainpy-models.readthedocs.io/) (a package named \"bpmodels\"), which implements commonly used neuron and synapse models. "
   ]
  },
  {
   "cell_type": "code",
   "execution_count": 19,
   "metadata": {
    "ExecuteTime": {
     "end_time": "2021-02-03T15:26:23.276628Z",
     "start_time": "2021-02-03T15:26:23.226759Z"
    }
   },
   "outputs": [],
   "source": [
    "from bpmodels.neurons import get_LIF\n",
    "\n",
    "LIF = get_LIF(V_rest=-65., V_reset=-65., V_th=-55.)\n",
    "\n",
    "pre = bp.NeuGroup(LIF, 1, monitors=['spike', 'V'])\n",
    "pre.ST['V'] = -65.\n",
    "\n",
    "post = bp.NeuGroup(LIF, 1, monitors=['V'])\n",
    "post.ST['V'] = -65."
   ]
  },
  {
   "cell_type": "code",
   "execution_count": 20,
   "metadata": {
    "ExecuteTime": {
     "end_time": "2021-02-03T15:26:23.292585Z",
     "start_time": "2021-02-03T15:26:23.280616Z"
    }
   },
   "outputs": [],
   "source": [
    "syn_conn = bp.SynConn(model=AMPA1,  # use above \"AMPA1\" to do the synaptic computation\n",
    "                      pre_group=pre, \n",
    "                      post_group=post,\n",
    "                      conn=bp.connect.All2All(),  # connect pre- and post- group by All2All method\n",
    "                      monitors=['s'], \n",
    "                      delay=1.5)\n",
    "\n",
    "# You can set the updating order for each step function\n",
    "# The functions can be scheduled can get from \"syn_conn.get_schedule()\"\n",
    "syn_conn.set_schedule(['input', 'update_by_scalar', 'output_by_scalar', 'monitor'])"
   ]
  },
  {
   "cell_type": "code",
   "execution_count": 21,
   "metadata": {
    "ExecuteTime": {
     "end_time": "2021-02-03T15:26:23.375363Z",
     "start_time": "2021-02-03T15:26:23.297571Z"
    }
   },
   "outputs": [],
   "source": [
    "net = bp.Network(pre, syn_conn, post)\n",
    "net.run(duration=100., inputs=(pre, \"ST.input\", 20.))"
   ]
  },
  {
   "cell_type": "code",
   "execution_count": 26,
   "metadata": {
    "ExecuteTime": {
     "end_time": "2021-02-03T15:26:23.798264Z",
     "start_time": "2021-02-03T15:26:23.379353Z"
    }
   },
   "outputs": [
    {
     "data": {
      "image/png": "[encoded data removed]",
      "text/plain": [
       "<Figure size 576x432 with 2 Axes>"
      ]
     },
     "metadata": {
      "needs_background": "light"
     },
     "output_type": "display_data"
    }
   ],
   "source": [
    "fig, gs = bp.visualize.get_figure(2, 1, 3, 8)\n",
    "\n",
    "fig.add_subplot(gs[0, 0])\n",
    "bp.visualize.line_plot(pre.mon.ts, pre.mon.spike, legend='pre-spike')\n",
    "\n",
    "fig.add_subplot(gs[1, 0])\n",
    "bp.visualize.line_plot(syn_conn.mon.ts, syn_conn.mon.s, legend='syn-s', show=True)"
   ]
  },
  {
   "cell_type": "markdown",
   "metadata": {},
   "source": [
    "## brainpy.connect"
   ]
  },
  {
   "cell_type": "markdown",
   "metadata": {},
   "source": [
    "The above example in [brainpy.SynConn](#brainpy.SynConn) shows a \"strange\" thing in which the data `requires` in abstract `SynType` model (such as *pre, post, post2syn, pre2syn*, ...) do not `satisfies` in concrete `SynConn` instance. Actually, this is because BrainPy automatically do these thing for you.\n",
    "\n",
    "- If you provide `pre_group` in brainpy.SynConn, the data `pre` will be automtically initialized. \n",
    "- If you provide `post_group` in brainpy.SynConn, the data `post` will be automtically initialized. \n",
    "- If you provide `conn` by using methods of `brainpy.connect.xxx`, the connection data like (`pre_ids`, `post_ids`, `conn_mat`, `pre2post`, `post2pre`, `pre2syn`, `post2syn`, `pre_slice_syn`, and `post_slice_syn`) will be initialized as needed. \n",
    "\n",
    "Otherwise, if users instantiate `brainpy.SynConn` without *pre_group*, *post_group*, *conn*, the data like *pre, post, post2syn, pre2syn* should provide by hand. Like, "
   ]
  },
  {
   "cell_type": "code",
   "execution_count": 27,
   "metadata": {},
   "outputs": [],
   "source": [
    "syn_conn = bp.SynConn(AMPA4, pre_group=pre, post_group=post)\n",
    "syn_conn.pre2syn = ...\n",
    "syn_conn.post_slice_syn = ..."
   ]
  },
  {
   "cell_type": "markdown",
   "metadata": {},
   "source": [
    "Actually, BrainPy provides several commonly used connection methods in ``brainpy.connect`` module (see the follows). They are all inherited from the base class `brainpy.connect.Connector`. Users can also customize their synaptic connectivity by class inheritance. "
   ]
  },
  {
   "cell_type": "markdown",
   "metadata": {},
   "source": [
    "### brainpy.connect.One2One\n",
    "\n",
    "The neurons in the pre-synaptic neuron group only connect to the neurons\n",
    "in the same position of the post-synaptic group. Thus, this connection\n",
    "requires the indices of two neuron groups same. Otherwise, an error will\n",
    "occurs.\n",
    "\n",
    "<img src=\"../images/one2one.png\" width=\"200 px\" align=\"left\">"
   ]
  },
  {
   "cell_type": "markdown",
   "metadata": {},
   "source": [
    "### brainpy.connect.All2All\n",
    "\n",
    "All neurons of the post-synaptic population form connections with all\n",
    "neurons of the pre-synaptic population (dense connectivity). Users can\n",
    "choose whether connect the neurons at the same position\n",
    "(`include_self=True or False`).\n",
    "\n",
    "<img src=\"../images/all2all.png\" width=\"200 px\" align=\"left\">"
   ]
  },
  {
   "cell_type": "markdown",
   "metadata": {},
   "source": [
    "### brainpy.connect.GridFour\n",
    "\n",
    "`GridFour` is the four nearest neighbors connection. Each neuron connect to its\n",
    "nearest four neurons.\n",
    "\n",
    "<img src=\"../images/grid_four.png\" width=\"250 px\" align=\"left\">"
   ]
  },
  {
   "cell_type": "markdown",
   "metadata": {},
   "source": [
    "### brainpy.connect.GridEight\n",
    "\n",
    "`GridEight` is eight nearest neighbors connection. Each neuron connect to its\n",
    "nearest eight neurons.\n",
    "\n",
    "<img src=\"../images/grid_eight.png\" width=\"250 px\" align=\"left\">"
   ]
  },
  {
   "cell_type": "markdown",
   "metadata": {},
   "source": [
    "### brainpy.connect.GridN\n",
    "\n",
    "`GridN` is also a nearest neighbors connection. Each neuron connect to its\n",
    "nearest $2N \\cdot 2N$ neurons.\n",
    "\n",
    "<img src=\"../images/grid_N.png\" width=\"250 px\" align=\"left\">"
   ]
  },
  {
   "cell_type": "markdown",
   "metadata": {},
   "source": [
    "### brainpy.connect.FixedProb\n",
    "\n",
    "For each post-synaptic neuron, there is a fixed probability that it forms a connection\n",
    "with a neuron of the pre-synaptic population. It is basically a all_to_all projection,\n",
    "except some synapses are not created, making the projection sparser.\n",
    "\n",
    "<img src=\"../images/fixed_proab.png\" width=\"200 px\" align=\"left\">"
   ]
  },
  {
   "cell_type": "markdown",
   "metadata": {},
   "source": [
    "### brainpy.connect.FixedPreNum\n",
    "\n",
    "Each neuron in the post-synaptic population receives connections from a\n",
    "fixed number of neurons of the pre-synaptic population chosen randomly.\n",
    "It may happen that two post-synaptic neurons are connected to the same\n",
    "pre-synaptic neuron and that some pre-synaptic neurons are connected to\n",
    "nothing.\n",
    "\n",
    "<img src=\"../images/fixed_pre_num.png\" width=\"200 px\" align=\"left\">"
   ]
  },
  {
   "cell_type": "markdown",
   "metadata": {},
   "source": [
    "### brainpy.connect.FixedPostNum\n",
    "\n",
    "Each neuron in the pre-synaptic population sends a connection to a fixed number of neurons\n",
    "of the post-synaptic population chosen randomly. It may happen that two pre-synaptic neurons\n",
    "are connected to the same post-synaptic neuron and that some post-synaptic neurons receive\n",
    "no connection at all.\n",
    "\n",
    "<img src=\"../images/fixed_post_num.png\" width=\"200 px\" align=\"left\">"
   ]
  },
  {
   "cell_type": "markdown",
   "metadata": {},
   "source": [
    "### brainpy.connect.GaussianProb\n",
    "\n",
    "\n",
    "Builds a Gaussian connection pattern between the two populations, where\n",
    "the connection probability decay according to the gaussian function.\n",
    "\n",
    "Specifically,\n",
    "\n",
    "$$\n",
    "p=\\exp(-\\frac{(x-x_c)^2+(y-y_c)^2}{2\\sigma^2})\n",
    "$$\n",
    "\n",
    "where $(x, y)$ is the position of the pre-synaptic neuron\n",
    "and $(x_c,y_c)$ is the position of the post-synaptic neuron.\n",
    "\n",
    "For example, in a $30 \\textrm{x} 30$ two-dimensional networks, when\n",
    "$\\beta = \\frac{1}{2\\sigma^2} = 0.1$, the connection pattern is shown\n",
    "as the follows:\n",
    "\n",
    "<img src=\"../images/gaussian_prob.png\" width=\"500 px\" align=\"left\">"
   ]
  },
  {
   "cell_type": "markdown",
   "metadata": {},
   "source": [
    "### brainpy.connect.GaussianWeight\n",
    "\n",
    "Builds a Gaussian connection pattern between the two populations, where\n",
    "the weights decay with gaussian function.\n",
    "\n",
    "Specifically,\n",
    "\n",
    "$$w(x, y) = w_{max} \\cdot \\exp(-\\frac{(x-x_c)^2+(y-y_c)^2}{2\\sigma^2})$$\n",
    "\n",
    "where $(x, y)$ is the position of the pre-synaptic neuron (normalized\n",
    "to [0,1]) and $(x_c,y_c)$ is the position of the post-synaptic neuron\n",
    "(normalized to [0,1]), $w_{max}$ is the maximum weight. In order to void\n",
    "creating useless synapses, $w_{min}$ can be set to restrict the creation\n",
    "of synapses to the cases where the value of the weight would be superior\n",
    "to $w_{min}$. Default is $0.01 w_{max}$.\n"
   ]
  },
  {
   "cell_type": "code",
   "execution_count": 23,
   "metadata": {
    "ExecuteTime": {
     "end_time": "2021-02-03T15:26:23.815188Z",
     "start_time": "2021-02-03T15:26:23.807215Z"
    }
   },
   "outputs": [],
   "source": [
    "import matplotlib.pyplot as plt\n",
    "\n",
    "def show_weight(pre_ids, post_ids, weights, geometry, neu_id):\n",
    "    height, width = geometry\n",
    "    ids = np.where(pre_ids == neu_id)[0]\n",
    "    post_ids = post_ids[ids]\n",
    "    weights = weights[ids]\n",
    "\n",
    "    X, Y = np.arange(height), np.arange(width)\n",
    "    X, Y = np.meshgrid(X, Y)\n",
    "    Z = np.zeros(geometry)\n",
    "    for id_, weight in zip(post_ids, weights):\n",
    "        h, w = id_ // width, id_ % width\n",
    "        Z[h, w] = weight\n",
    "\n",
    "    fig = plt.figure()\n",
    "    ax = fig.gca(projection='3d')\n",
    "    surf = ax.plot_surface(X, Y, Z, cmap=plt.cm.coolwarm, linewidth=0, antialiased=False)\n",
    "    fig.colorbar(surf, shrink=0.5, aspect=5)\n",
    "    plt.show()"
   ]
  },
  {
   "cell_type": "code",
   "execution_count": 24,
   "metadata": {
    "ExecuteTime": {
     "end_time": "2021-02-03T15:26:25.345429Z",
     "start_time": "2021-02-03T15:26:23.821174Z"
    }
   },
   "outputs": [
    {
     "data": {
      "image/png": "[encoded data removed]",
      "text/plain": [
       "<Figure size 432x288 with 2 Axes>"
      ]
     },
     "metadata": {
      "needs_background": "light"
     },
     "output_type": "display_data"
    }
   ],
   "source": [
    "gaussian_weight = bp.connect.GaussianWeight(\n",
    "    sigma=0.1, w_max=1., w_min=0.01,\n",
    "    normalize=True, include_self=True)\n",
    "pre_geom = post_geom = (40, 40)\n",
    "indices = np.arange(pre_geom[0] * pre_geom[1]).reshape(pre_geom)\n",
    "gaussian_weight(indices, indices)\n",
    "\n",
    "pre_ids = gaussian_weight.pre_ids\n",
    "post_ids = gaussian_weight.post_ids\n",
    "weights = gaussian_weight.weights\n",
    "show_weight(pre_ids, post_ids, weights, pre_geom, 820)"
   ]
  },
  {
   "cell_type": "markdown",
   "metadata": {},
   "source": [
    "### brainpy.connect.DOG\n",
    "\n",
    "\n",
    "Builds a Difference-Of-Gaussian (dog) connection pattern between the two populations.\n",
    "\n",
    "Mathematically,\n",
    "\n",
    "$$\n",
    "w(x, y) = w_{max}^+ \\cdot \\exp(-\\frac{(x-x_c)^2+(y-y_c)^2}{2\\sigma_+^2})\n",
    "    - w_{max}^- \\cdot \\exp(-\\frac{(x-x_c)^2+(y-y_c)^2}{2\\sigma_-^2})\n",
    "$$\n",
    "\n",
    "where weights smaller than $0.01 * abs(w_{max} - w_{min})$ are not created and\n",
    "self-connections are avoided by default (parameter allow_self_connections).\n"
   ]
  },
  {
   "cell_type": "code",
   "execution_count": 25,
   "metadata": {
    "ExecuteTime": {
     "end_time": "2021-02-03T15:26:26.919565Z",
     "start_time": "2021-02-03T15:26:25.345429Z"
    }
   },
   "outputs": [
    {
     "data": {
      "image/png": "[encoded data removed]",
      "text/plain": [
       "<Figure size 432x288 with 2 Axes>"
      ]
     },
     "metadata": {
      "needs_background": "light"
     },
     "output_type": "display_data"
    }
   ],
   "source": [
    "dog = bp.connect.DOG(\n",
    "    sigmas=(0.08, 0.15),\n",
    "    ws_max=(1.0, 0.7), w_min=0.01,\n",
    "    normalize=True, include_self=True)\n",
    "h = 40\n",
    "pre_geom = post_geom = (h, h)\n",
    "indices = np.arange(pre_geom[0] * pre_geom[1]).reshape(pre_geom)\n",
    "dog(indices, indices)\n",
    "\n",
    "pre_ids = dog.pre_ids\n",
    "post_ids = dog.post_ids\n",
    "weights = dog.weights\n",
    "show_weight(pre_ids, post_ids, weights, (h, h), h * h // 2 + h // 2)"
   ]
  },
  {
   "cell_type": "markdown",
   "metadata": {},
   "source": [
    "## Other Operations"
   ]
  },
  {
   "cell_type": "markdown",
   "metadata": {},
   "source": [
    "``brainpy.SynType`` and ``brainpy.SynConn`` are very similar with ``brainpy.NeuType`` and ``brainpy.NeuGroup``. The operations like the `requires`, `satisfies`, `hand_overs` are also supported. Object-oriented programming can also be implemented like that in ``brainpy.NeuGroup``. Details please check [Build neurons](https://brainpy.readthedocs.io/en/latest/tutorials/build_neurons.html)."
   ]
  }
 ],
 "metadata": {
  "hide_input": false,
  "kernelspec": {
   "display_name": "Python 3",
   "language": "python",
   "name": "python3"
  },
  "language_info": {
   "codemirror_mode": {
    "name": "ipython",
    "version": 3
   },
   "file_extension": ".py",
   "mimetype": "text/x-python",
   "name": "python",
   "nbconvert_exporter": "python",
   "pygments_lexer": "ipython3",
   "version": "3.7.7"
  },
  "toc": {
   "base_numbering": 1,
   "nav_menu": {},
   "number_sections": false,
   "sideBar": true,
   "skip_h1_title": false,
   "title_cell": "Table of Contents",
   "title_sidebar": "Contents",
   "toc_cell": false,
   "toc_position": {},
   "toc_section_display": true,
   "toc_window_display": true
  },
  "varInspector": {
   "cols": {
    "lenName": 16,
    "lenType": 16,
    "lenVar": 40
   },
   "kernels_config": {
    "python": {
     "delete_cmd_postfix": "",
     "delete_cmd_prefix": "del ",
     "library": "var_list.py",
     "varRefreshCmd": "print(var_dic_list())"
    },
    "r": {
     "delete_cmd_postfix": ") ",
     "delete_cmd_prefix": "rm(",
     "library": "var_list.r",
     "varRefreshCmd": "cat(var_dic_list()) "
    }
   },
   "types_to_exclude": [
    "module",
    "function",
    "builtin_function_or_method",
    "instance",
    "_Feature"
   ],
   "window_display": false
  }
 },
 "nbformat": 4,
 "nbformat_minor": 4
}
