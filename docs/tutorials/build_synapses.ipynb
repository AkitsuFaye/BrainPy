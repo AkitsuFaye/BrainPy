{
 "cells": [
  {
   "cell_type": "markdown",
   "metadata": {},
   "source": [
    "# Build Synapses"
   ]
  },
  {
   "cell_type": "markdown",
   "metadata": {},
   "source": [
    "When you have some neurons, you need to build synapses to connect them. This tutorial will show you how to use synapse models to connect neurons to networks.\n",
    "\n",
    "As neuron models, the *definition* and *usage* of the synapse model are separated from each other. Specifically, two classes should be used:\n",
    "\n",
    "- ``brainpy.SynType``: Define the abstract synapse model.\n",
    "- ``brainpy.SynConn``: Use the abstract synapse model to generate a concrete synapse connection.\n",
    "\n",
    "We will first take a look at the definition with ``brainpy.SynType``, then in the second part, we will show the usage with ``brainpy.SynConn``."
   ]
  },
  {
   "cell_type": "markdown",
   "metadata": {},
   "source": [
    "Before we start, let's import the BrainPy and Numpy packages."
   ]
  },
  {
   "cell_type": "code",
   "execution_count": 1,
   "metadata": {},
   "outputs": [],
   "source": [
    "import brainpy as bp\n",
    "import numpy as np"
   ]
  },
  {
   "cell_type": "markdown",
   "metadata": {},
   "source": [
    "## brainpy.SynType"
   ]
  },
  {
   "cell_type": "markdown",
   "metadata": {},
   "source": [
    "You can define any abstract synapse type with ``SynType``, which is very flexible."
   ]
  },
  {
   "cell_type": "markdown",
   "metadata": {},
   "source": [
    "As neuron models, four parameters should be specified to initialize a ``SynType``:\n",
    "\n",
    "- ``name``: The synapse model name.\n",
    "- ``steps``: The step functions to update at each time step. You can define your own update logic functions.\n",
    "- ``requires``: The data required to run this synapse model, such as synaptic states and neuronal states of the connected neurons.\n",
    "- ``mode``: Whether define the model based on scalar, vector, or matrix.\n",
    "\n",
    "We provide a data structure ``brainpy.types.SynState`` to support the synapse state management."
   ]
  },
  {
   "cell_type": "markdown",
   "metadata": {},
   "source": [
    "Three kinds of definition provided in BrainPy to define a ``SynType``: \n",
    "\n",
    "- ``mode = 'scalar'``: Synapse state ``ST`` represents the state of a single synapse connection. And, each item in ``ST`` is a scalar. \n",
    "- ``mode = 'vector'``:  Synapse state ``ST`` represents the state of a group of synapse connections. And each item in ``ST`` is a vector, \n",
    "- ``mode = 'matrix'``: Synapse state ``ST`` represents the state of a group of synapse connections. And each item in ``ST`` is a matrix with the shape of `(num_pre, num_post)`.\n",
    "\n",
    "The definition logic of scalar-based models may be more straightforward than vector- and matrix- based models. We will first introduce the definition of a simple synapse model in scalar-based mode."
   ]
  },
  {
   "cell_type": "markdown",
   "metadata": {},
   "source": [
    "### Example: AMPA synapse model (scalar mode)"
   ]
  },
  {
   "cell_type": "markdown",
   "metadata": {},
   "source": [
    "Let's first take the AMPA synapse model as an example to see how to define a ``SynType`` in BrainPy.\n",
    "\n",
    "The formal equations of an AMPA synapse is given by:\n",
    "\n",
    "$$I_{syn}= \\bar{g}_{syn} s (V-E_{syn})$$\n",
    "\n",
    "$$\\frac{d s}{d t}=-\\frac{s}{\\tau_{decay}}+\\sum_{k} \\delta(t-t_{j}^{k})$$\n",
    "\n",
    "where $\\bar{g}_{syn}$ is the maximum synaptic conductance, $s$ is the gating variable, and $V$ is the membrane potential of the postsynaptic neuron. The time constant $\\tau_{decay}$ is about 2ms and the equilibrium potential $E_{syn}$ for AMPA synapse is 0."
   ]
  },
  {
   "cell_type": "code",
   "execution_count": 2,
   "metadata": {},
   "outputs": [],
   "source": [
    "# parameters we need # \n",
    "# ------------------ #\n",
    "\n",
    "tau_decay = 2.   # time constant of the dacay after synapse respond to a neurontransmitter.\n",
    "g_max = .10      # Voltage-controlled conductance per unit area\n",
    "                 # associated with the Sodium (Na) and Potassium (K) ion-channels on the synapse (postsynaptic membrane).\n",
    "E = 0.           # The equilibrium potentials for the synapse."
   ]
  },
  {
   "cell_type": "markdown",
   "metadata": {},
   "source": [
    "Please check [Differential equations](https://brainpy.readthedocs.io/en/latest/advanced/differential_equations.html) to see how BrainPy supports differential equations. "
   ]
  },
  {
   "cell_type": "code",
   "execution_count": 3,
   "metadata": {},
   "outputs": [],
   "source": [
    "# dynamics of gating variable\n",
    "@bp.integrate\n",
    "def ints(s, t):\n",
    "    return - s / tau_decay"
   ]
  },
  {
   "cell_type": "markdown",
   "metadata": {},
   "source": [
    "Here, let's first define the state of a synapse model."
   ]
  },
  {
   "cell_type": "code",
   "execution_count": 4,
   "metadata": {},
   "outputs": [],
   "source": [
    "ST=bp.types.SynState(['s'], help='AMPA synapse state.')"
   ]
  },
  {
   "cell_type": "markdown",
   "metadata": {},
   "source": [
    "In ``ST``, the dynamical variable $s$ is included. \n",
    "\n",
    "Since a synapse connects a presynaptic neuron and a postsynaptic neuron, we need to know the state of the two neurons."
   ]
  },
  {
   "cell_type": "code",
   "execution_count": 5,
   "metadata": {},
   "outputs": [],
   "source": [
    "pre=bp.types.NeuState(['spike'], help='Presynaptic neuron state must have \"sp\" item.')\n",
    "post=bp.types.NeuState(['V', 'input'], help='Postsynaptic neuron state must have \"V\" and \"inp\" item.')"
   ]
  },
  {
   "cell_type": "markdown",
   "metadata": {},
   "source": [
    "From the equations of the AMPA synapse, we need to know whether the presynaptic neuron (``pre``) provides a $spike$ at current time. We also need to know the current membrane potential $V$ of the postsynaptic neuron, and add synaptic current to the $input$ item of the ``post``."
   ]
  },
  {
   "cell_type": "markdown",
   "metadata": {},
   "source": [
    "Based on the synapse state ``ST`` and neuron states, the update logic of the synapse model from the current time point ($t$) to the next time point $(t + dt)$ can be defined as:"
   ]
  },
  {
   "cell_type": "code",
   "execution_count": 6,
   "metadata": {},
   "outputs": [],
   "source": [
    "def update(ST, _t, pre):\n",
    "    s = ints(ST['s'], _t)\n",
    "    if pre['spike'] == True:\n",
    "        s += 1\n",
    "    ST['s'] = s"
   ]
  },
  {
   "cell_type": "markdown",
   "metadata": {},
   "source": [
    "In this example, the ``update()`` function of AMPA model needs three data:\n",
    "\n",
    "- ``ST``: The synapse state.\n",
    "- ``_t``: The system time at current point.\n",
    "- ``pre``: The neuron state of the presynaptic neuron."
   ]
  },
  {
   "cell_type": "markdown",
   "metadata": {},
   "source": [
    "We also need to define an output logic to compute the synaptic current and add it to the postsynaptic inputs.\n",
    "\n",
    "The synaptic delay between a presynaptic spike and the postsynaptic change can be implemented with a ``@bp.delayed`` decorator."
   ]
  },
  {
   "cell_type": "code",
   "execution_count": 7,
   "metadata": {},
   "outputs": [],
   "source": [
    "@bp.delayed\n",
    "def output(ST, post):\n",
    "    I_syn = - g_max * ST['s'] * (post['V'] - E)\n",
    "    post['input'] += I_syn"
   ]
  },
  {
   "cell_type": "markdown",
   "metadata": {},
   "source": [
    "Putting together, an AMPA synapse model is defined as:"
   ]
  },
  {
   "cell_type": "code",
   "execution_count": 8,
   "metadata": {},
   "outputs": [],
   "source": [
    "AMPA = bp.SynType(name='AMPA_synapse',\n",
    "                  ST=ST,\n",
    "                  requires=dict(pre=pre, post=post), \n",
    "                  steps=(update, output), \n",
    "                  mode='scalar')"
   ]
  },
  {
   "cell_type": "markdown",
   "metadata": {},
   "source": [
    "Here, we should note that we just define an abstract AMPA synapse model. This model can run with any number of synapse connections. Only after defining a concrete [synapse connection](#brainpy.SynConn), can we use it to construct a network."
   ]
  },
  {
   "cell_type": "markdown",
   "metadata": {},
   "source": [
    "### Example: AMPA synapse model (matrix mode)"
   ]
  },
  {
   "cell_type": "markdown",
   "metadata": {},
   "source": [
    "In matrix mode, each item in the synapse state ``ST`` is a matrix."
   ]
  },
  {
   "cell_type": "markdown",
   "metadata": {},
   "source": [
    "The differential equation part is the same as the scalar mode, and we also need a ``SynState`` and the ``NeuState`` of presynaptic and postsynaptic neurons."
   ]
  },
  {
   "cell_type": "code",
   "execution_count": 9,
   "metadata": {},
   "outputs": [],
   "source": [
    "tau_decay = 2.\n",
    "g_max = .10      \n",
    "E = 0.           \n",
    "\n",
    "@bp.integrate\n",
    "def ints(s, t):\n",
    "    return - s / tau_decay\n",
    "\n",
    "ST=bp.types.SynState(['s', 'g'], help='AMPA synapse state.')\n",
    "pre=bp.types.NeuState(['spike'], help='Presynaptic neuron state must have \"sp\" item.')\n",
    "post=bp.types.NeuState(['V', 'input'], help='Presynaptic neuron state must have \"V\" and \"inp\" item.')"
   ]
  },
  {
   "cell_type": "markdown",
   "metadata": {},
   "source": [
    "We also need to define a connectivity matrix to specify the connectivity patterns between the presynaptic neurons and postsynaptic neurons, which can be defined with ``brainpy.types.MatConn()``. "
   ]
  },
  {
   "cell_type": "code",
   "execution_count": 10,
   "metadata": {},
   "outputs": [],
   "source": [
    "conn_mat=bp.types.MatConn()"
   ]
  },
  {
   "cell_type": "markdown",
   "metadata": {},
   "source": [
    "Here is an example of the connectivity matrix:\n",
    "\n",
    "<img src=\"../images/syn-example-conn_mat.png\" width=\"400 px\" align=\"left\">"
   ]
  },
  {
   "cell_type": "markdown",
   "metadata": {},
   "source": [
    "The update and output are also similar to the scalar mode, but notice that the ``pre`` and ``post`` here are vectors, so all the operations are vectors."
   ]
  },
  {
   "cell_type": "code",
   "execution_count": 11,
   "metadata": {},
   "outputs": [],
   "source": [
    "def update(ST, _t, pre, conn_mat):\n",
    "    s = ints(ST['s'], _t)\n",
    "    s += pre['spike'].reshape((-1, 1)) * conn_mat\n",
    "    ST['s'] = s\n",
    "    ST['g'] = g_max * s\n",
    "\n",
    "@bp.delayed\n",
    "def output(ST, post):\n",
    "    g = np.sum(ST['g'], axis=0)\n",
    "    post['input'] -= g * (post['V'] - E)\n",
    "    \n",
    "AMPA = bp.SynType(name='AMPA_synapse',\n",
    "                  ST=ST,\n",
    "                  requires=dict(pre=pre, post=post, conn_mat=conn_mat), \n",
    "                  steps=(update, output), \n",
    "                  mode='matrix')"
   ]
  },
  {
   "cell_type": "markdown",
   "metadata": {},
   "source": [
    "### Vector mode"
   ]
  },
  {
   "cell_type": "markdown",
   "metadata": {},
   "source": [
    "In vector mode, each item in the synapse state ``ST`` is a vector.\n",
    "\n",
    "Let's look at the synaptic connections in vector form."
   ]
  },
  {
   "cell_type": "markdown",
   "metadata": {},
   "source": [
    "#### Synaptic connectivity"
   ]
  },
  {
   "cell_type": "markdown",
   "metadata": {},
   "source": [
    "Suppose we have two vectors of neurons and a vector of synapses connecting the neurons within the two neuron vectors. Many different connectivities are possible, and we use $index$ to recognize different synapses.\n",
    "\n",
    "Each synapse receives information from one presynaptic neuron, and, commonly, different synapses get inconsistent signals. Therefore, it is helpful to specify a map from the presynaptic neuron vector to the synapses vector.\n",
    "\n",
    "For example, we have a connectivity as below:"
   ]
  },
  {
   "cell_type": "markdown",
   "metadata": {},
   "source": [
    "<img src=\"../images/syn-example-conn_mat.png\" width=\"400 px\" align=\"left\">"
   ]
  },
  {
   "cell_type": "markdown",
   "metadata": {},
   "source": [
    "Where 1 and 0 indicate the presence and absence of synaptic connections, respectively. We can then arrange the synapses in the following manner:"
   ]
  },
  {
   "cell_type": "markdown",
   "metadata": {},
   "source": [
    "<img src=\"../images/syn-example-pre_ids-post_ids.png\" width=\"700 px\" align=\"left\">"
   ]
  },
  {
   "cell_type": "markdown",
   "metadata": {},
   "source": [
    "We can create a ``pre2syn`` list, the indexes of this list correspond to the indexes of the presynaptic neurons vector, and the elements indicate the indexes of synapses that having connections to the neuron. Here, the first neuron connects the 3rd, 5th, and 7th neurons with synapses 0, 1, 2, so we store [0, 1, 2] as the first element of the ``pre2syn`` list. Thus, if the first neuron fire, then we can get the indexes of synapses by ``syn_ids = pre2syn[0]`` and changes the states of those synapses."
   ]
  },
  {
   "cell_type": "markdown",
   "metadata": {},
   "source": [
    "<img src=\"../images/syn-example-pre2syn.png\" width=\"200 px\" align=\"left\">"
   ]
  },
  {
   "cell_type": "markdown",
   "metadata": {},
   "source": [
    "Similarly, we can use a ``post2syn`` list to indicate the connections between synapses and postsynaptic neurons. The indexes of this list correspond to the indexes of the presynaptic neurons vector, and the elements indicate the indexes of synapses that having connections to the neuron."
   ]
  },
  {
   "cell_type": "markdown",
   "metadata": {},
   "source": [
    "<img src=\"../images/syn-example-post2syn.png\" width=\"200 px\" align=\"left\">"
   ]
  },
  {
   "cell_type": "markdown",
   "metadata": {},
   "source": [
    "We can also create a map between two neurons vectors using a ``pre2post`` list and a ``post2pre`` list."
   ]
  },
  {
   "cell_type": "markdown",
   "metadata": {},
   "source": [
    "<img src=\"../images/syn-example-pre2post.png\" width=\"200 px\" align=\"left\">"
   ]
  },
  {
   "cell_type": "markdown",
   "metadata": {},
   "source": [
    "<img src=\"../images/syn-example-post2pre.png\" width=\"200 px\" align=\"left\">"
   ]
  },
  {
   "cell_type": "markdown",
   "metadata": {},
   "source": [
    "Other mapping ways are also possible."
   ]
  },
  {
   "cell_type": "markdown",
   "metadata": {},
   "source": [
    "<img src=\"../images/syn-example-post_slice_syn.png\" width=\"700 px\" align=\"left\">"
   ]
  },
  {
   "cell_type": "markdown",
   "metadata": {},
   "source": [
    "<img src=\"../images/syn-example-pre_slice_syn.png\" width=\"700 px\" align=\"left\">"
   ]
  },
  {
   "cell_type": "markdown",
   "metadata": {},
   "source": [
    "### Example: AMPA synapse model (vector mode)"
   ]
  },
  {
   "cell_type": "markdown",
   "metadata": {},
   "source": [
    "Now let's see how to implement a vector-based synapses model by taking AMPA model as example. The formal equations of an AMPA synapse is the same as the scalar-based one:\n",
    "\n",
    "$$I_{syn}= \\bar{g}_{syn} s (V-E_{syn})$$\n",
    "\n",
    "$$\\frac{d s}{d t}=-\\frac{s}{\\tau_{decay}}+\\sum_{k} \\delta(t-t_{j}^{k})$$\n",
    "\n",
    "where $\\bar{g}_{syn}$ is the maximum synaptic conductance, $s$ is the gating variable, and $V$ is the membrane potential of the postsynaptic neuron. The time constant $\\tau_{decay}$ is about 2ms and the equilibrium potential $E_{syn}$ for AMPA synapse is 0."
   ]
  },
  {
   "cell_type": "markdown",
   "metadata": {},
   "source": [
    "The differential equation part is the same as the scalar and matrix mode, and we also need a ``SynState`` and the ``NeuState`` of presynaptic and postsynaptic neurons."
   ]
  },
  {
   "cell_type": "code",
   "execution_count": 12,
   "metadata": {},
   "outputs": [],
   "source": [
    "tau_decay = 2.\n",
    "g_max = .10      \n",
    "E = 0.           \n",
    "\n",
    "@bp.integrate\n",
    "def ints(s, t):\n",
    "    return - s / tau_decay\n",
    "\n",
    "ST=bp.types.SynState(['s'], help='AMPA synapse state.')\n",
    "pre=bp.types.NeuState(['spike'], help='Presynaptic neuron state must have \"sp\" item.')\n",
    "post=bp.types.NeuState(['V', 'input'], help='Presynaptic neuron state must have \"V\" and \"inp\" item.')"
   ]
  },
  {
   "cell_type": "markdown",
   "metadata": {},
   "source": [
    "For the mapping between synapse and neurons, BrainPy provides ``brainpy.types.ListConn``."
   ]
  },
  {
   "cell_type": "code",
   "execution_count": 13,
   "metadata": {},
   "outputs": [],
   "source": [
    "pre2syn = bp.types.ListConn()\n",
    "post2syn = bp.types.ListConn()"
   ]
  },
  {
   "cell_type": "markdown",
   "metadata": {},
   "source": [
    "Assume the items in the synapse state ``ST`` and neuron states ``pre`` and ``post`` are vectors, and we have the mapping lists ``pre2syn`` and ``post2syn``, the update logic of vector-based AMPA synapse model is:"
   ]
  },
  {
   "cell_type": "code",
   "execution_count": 14,
   "metadata": {},
   "outputs": [],
   "source": [
    "def update(ST, _t, pre, pre2syn):\n",
    "    s = ints(ST['s'], _t)\n",
    "\n",
    "    spikeike_idx = np.where(pre['spike'] > 0.)[0]\n",
    "    for i in spikeike_idx:\n",
    "        syn_idx = pre2syn[i]\n",
    "        s[syn_idx] += 1.\n",
    "\n",
    "    # update values\n",
    "    ST['s'] = s\n",
    "    \n",
    "    \n",
    "@bp.delayed\n",
    "def output(ST, post, post2syn):\n",
    "    post_cond = np.zeros(len(post2syn), dtype=np.float_)\n",
    "    for post_id, syn_ids in enumerate(post2syn):\n",
    "        post_cond[post_id] = np.sum(g_max * ST['s'][syn_ids])\n",
    "    post['input'] -= post_cond * (post['V'] - E)\n",
    "    \n",
    "AMPA_vector = bp.SynType(name='AMPA_synapse',\n",
    "                         ST=ST,\n",
    "                         requires=dict(pre=pre, post=post,\n",
    "                                       pre2syn=pre2syn, post2syn=post2syn),\n",
    "                         steps=(update, output),\n",
    "                         mode='vector')"
   ]
  },
  {
   "cell_type": "markdown",
   "metadata": {},
   "source": [
    "## brainpy.SynConn"
   ]
  },
  {
   "cell_type": "markdown",
   "metadata": {},
   "source": [
    "Synapse connections determine the architecture of a network. A ``brainpy.SynConn`` receives the following parameters:\n",
    "\n",
    "- ``model``: The synapse type will be used to generate a synapse connection.\n",
    "- ``pre_group``: The presynaptic neuron group.\n",
    "- ``post_group``: The postsynaptic neuron group.\n",
    "- ``conn``: The connection method to create synaptic connectivity between the neuron groups.\n",
    "- ``monitors``: The items to monitor (record the history values.)\n",
    "- ``delay``: The time of the synapse delay (in milliseconds).\n",
    "\n",
    "BrainPy pre-defines several commonly used connection methods in ``brainpy.connect``, read [Usage of connect module](https://brainpy.readthedocs.io/en/latest/advanced/usage_of_connect_module.html) for more details."
   ]
  },
  {
   "cell_type": "markdown",
   "metadata": {},
   "source": [
    "Let's take our defined AMPA model as an exmaple."
   ]
  },
  {
   "cell_type": "markdown",
   "metadata": {},
   "source": [
    "We can get pre-defined neuron models from the ``bpmodels`` package. Here we use the leaky intergrate-and-fire (LIF) model to create neuron groups"
   ]
  },
  {
   "cell_type": "code",
   "execution_count": 15,
   "metadata": {},
   "outputs": [],
   "source": [
    "from bpmodels.neurons import get_LIF\n",
    "\n",
    "LIF = get_LIF(V_rest=-65., V_reset=-65., V_th=-55.)\n",
    "pre = bp.NeuGroup(LIF, 1, monitors=['spike', 'V'])\n",
    "pre.ST['V'] = -65.\n",
    "post = bp.NeuGroup(LIF, 1, monitors=['V'])\n",
    "post.ST['V'] = -65."
   ]
  },
  {
   "cell_type": "code",
   "execution_count": 16,
   "metadata": {},
   "outputs": [],
   "source": [
    "syn = bp.SynConn(model=AMPA, pre_group=pre, post_group=post,\n",
    "                  conn=bp.connect.All2All(),\n",
    "                  monitors=['s'], delay=1.5)"
   ]
  },
  {
   "cell_type": "markdown",
   "metadata": {},
   "source": [
    "You can specify the synapse behavior by using ``syn.runner.set_schedule``."
   ]
  },
  {
   "cell_type": "code",
   "execution_count": 17,
   "metadata": {},
   "outputs": [],
   "source": [
    "syn.runner.set_schedule(['input', 'update', 'output', 'monitor'])"
   ]
  },
  {
   "cell_type": "markdown",
   "metadata": {},
   "source": [
    "Note that you cannot run the synapse connection (unlike neuron groups). You have to run them in a network."
   ]
  },
  {
   "cell_type": "code",
   "execution_count": 18,
   "metadata": {},
   "outputs": [],
   "source": [
    "net = bp.Network(pre, syn, post)\n",
    "\n",
    "net.run(duration=100., inputs=(pre, \"ST.input\", 20.))"
   ]
  }
 ],
 "metadata": {
  "kernelspec": {
   "display_name": "Python 3",
   "language": "python",
   "name": "python3"
  },
  "language_info": {
   "codemirror_mode": {
    "name": "ipython",
    "version": 3
   },
   "file_extension": ".py",
   "mimetype": "text/x-python",
   "name": "python",
   "nbconvert_exporter": "python",
   "pygments_lexer": "ipython3",
   "version": "3.8.5"
  },
  "toc": {
   "base_numbering": 1,
   "nav_menu": {},
   "number_sections": false,
   "sideBar": true,
   "skip_h1_title": false,
   "title_cell": "Table of Contents",
   "title_sidebar": "Contents",
   "toc_cell": false,
   "toc_position": {},
   "toc_section_display": true,
   "toc_window_display": true
  }
 },
 "nbformat": 4,
 "nbformat_minor": 4
}
