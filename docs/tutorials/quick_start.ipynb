{
 "cells": [
  {
   "cell_type": "markdown",
   "metadata": {},
   "source": [
    "# BrainPy Quickstart"
   ]
  },
  {
   "cell_type": "markdown",
   "metadata": {},
   "source": [
    "Two main functions are provided in BrainPy: **neurodynamics simulation** and **neurodynamics analysis**. In this part, I will focus on neuronal dynamics simulation, and tell you how to code a dynamical network in BrainPy bu using the example of *(Wang & Buzsáki, 1996)*.\n",
    "\n",
    "- Wang, Xiao-Jing, and György Buzsáki. \"Gamma oscillation by synaptic inhibition in a hippocampal interneuronal network model.\" Journal of neuroscience 16.20 (1996): 6402-6413.\n",
    "\n",
    "*(Wang & Buzsáki, 1996)* demonstrates how a group of neuron with mutual inhibition produce the gamma oscillation (20–80 Hz) observed in the neocortex and hippocampus. In this network model, the neurons are modeled as a variant of Hodgkin–Huxley (HH) neuron model, and the inhibition connections between neurons are modeled as the GABA<sub>A</sub> synapses.\n",
    "\n",
    "Here, we will first build a HH neuron model. Then, construct a GABA<sub>A</sub> synapse model. Finally, combining the HH model and GABA<sub>A</sub> moldel together, we will build a network model. We expect at the suitable parameter regions, the network will produce gamma oscillation."
   ]
  },
  {
   "cell_type": "markdown",
   "metadata": {},
   "source": [
    "First of all, import your favorite ``brainpy`` and ``numpy`` package."
   ]
  },
  {
   "cell_type": "code",
   "execution_count": 1,
   "metadata": {
    "ExecuteTime": {
     "end_time": "2020-12-29T09:41:19.496166Z",
     "start_time": "2020-12-29T09:41:17.303190Z"
    }
   },
   "outputs": [],
   "source": [
    "import brainpy as bp\n",
    "import numpy as np"
   ]
  },
  {
   "cell_type": "markdown",
   "metadata": {},
   "source": [
    "In BrainPy, all the system-level settings are implmented in ``bp.profile``. By using ``bp.profile``, you can set the backend or the device of the models going to run on, the method and the precision of the numerical integrator, etc. Before diving into this tutorial, let's set the necessary profiles:"
   ]
  },
  {
   "cell_type": "code",
   "execution_count": 2,
   "metadata": {
    "ExecuteTime": {
     "end_time": "2020-12-29T09:41:20.149581Z",
     "start_time": "2020-12-29T09:41:20.144596Z"
    }
   },
   "outputs": [],
   "source": [
    "bp.profile.set(jit=True,\n",
    "               device='cpu',\n",
    "               dt=0.04,\n",
    "               numerical_method='exponential')"
   ]
  },
  {
   "cell_type": "markdown",
   "metadata": {},
   "source": [
    "This setting means we will JIT compile our model on ``cpu`` device, the default numerical method is set to [exponential euler method](https://brainpy.readthedocs.io/en/latest/advanced/numerical_integrators.html) (``exponential``), and the numerical step is set to ``0.04``."
   ]
  },
  {
   "cell_type": "markdown",
   "metadata": {},
   "source": [
    "## How to build a neuron model?"
   ]
  },
  {
   "cell_type": "markdown",
   "metadata": {},
   "source": [
    "In BrainPy, the solving of differential equations is based on [numerical methods](https://brainpy.readthedocs.io/en/latest/advanced/numerical_integrators.html), such as Euler method, Runge–Kutta methods. Therefore, the definition of a neuron/synapse model is the definition of the *step functions* which explicitly point out how variable state at the current time point $x(t)$ is transited to the next time point $x(t+1)$."
   ]
  },
  {
   "cell_type": "markdown",
   "metadata": {},
   "source": [
    "Let's take the neuron model as an example. \n",
    "\n",
    "To build a neuron model in BrainPy is to create an instance of ``NeuType``. The instantiation of ``NeuType`` requires three items:\n",
    "\n",
    "- *ST*: The neuron model state.\n",
    "- *steps*: The step function to update at each cycle of run.\n",
    "- *name* : The name of the neuron model (will be useful in error reporting and debugging)."
   ]
  },
  {
   "cell_type": "markdown",
   "metadata": {},
   "source": [
    "Here, we are going to create a HH neuron model. The parameters of HH model are defined in the follows:"
   ]
  },
  {
   "cell_type": "code",
   "execution_count": 3,
   "metadata": {
    "ExecuteTime": {
     "end_time": "2020-12-29T09:41:22.837169Z",
     "start_time": "2020-12-29T09:41:22.831188Z"
    }
   },
   "outputs": [],
   "source": [
    "V_th = 0.  # the spike threshold\n",
    "C = 1.0  # the membrane capacitance\n",
    "gLeak = 0.1  # the conductance of leaky channel\n",
    "ELeak = -65  # the reversal potential of the leaky channel\n",
    "gNa = 35.  # the conductance of sodium channel\n",
    "ENa = 55.  # the reversal potential of sodium\n",
    "gK = 9.  # the conductance of potassium channel\n",
    "EK = -90.  # the reversal potential of potassium\n",
    "phi = 5.0  # the temperature depdendent scaling  "
   ]
  },
  {
   "cell_type": "markdown",
   "metadata": {},
   "source": [
    "In this variant of HH model, three dynamical variables ($V$, $h$ and $n$) exist."
   ]
  },
  {
   "cell_type": "markdown",
   "metadata": {},
   "source": [
    "**Coding the differential equations**\n",
    "\n",
    "For any [ordinary differential equation](https://brainpy.readthedocs.io/en/latest/advanced/differential_equations.html)\n",
    "\n",
    "$$\n",
    "{dx \\over dt} = f(x, t)\n",
    "$$\n",
    "\n",
    "you only need write down the right-hand part of the differential equations $f(x, t)$. By adding a powerfull decorator porovided by BrainPy, ``@bp.integrate``, the framework will automatically numerically integrate the defined equations. Generally, an ordinary differential equation in BrainPy can be coded as:"
   ]
  },
  {
   "cell_type": "code",
   "execution_count": 4,
   "metadata": {
    "ExecuteTime": {
     "end_time": "2020-12-29T09:22:26.554214Z",
     "start_time": "2020-12-29T09:22:26.549230Z"
    },
    "scrolled": false
   },
   "outputs": [],
   "source": [
    "@bp.integrate\n",
    "def func(x, t, other_arguments):\n",
    "    # ... some computation ...\n",
    "    dxdt = ...\n",
    "    return dxdt"
   ]
  },
  {
   "cell_type": "markdown",
   "metadata": {},
   "source": [
    "``@bp.integrate`` receives ``method`` keyword to specify the numerical method you want to choose. For example, adding ``@bp.integrate(method='rk4')`` means you integrate the decorated function by using Fouth-order Runge–Kutta method (The full list of supportted numerical integrators please see the document of [Numerical integrators](https://brainpy.readthedocs.io/en/latest/guides/numerical_integrators.html)). Otherwise, the differential function will be integrated by the system default method."
   ]
  },
  {
   "cell_type": "markdown",
   "metadata": {},
   "source": [
    "Specifically, for **h channel**, the differential equation is mathematically formed as:\n",
    "\n",
    "$$\n",
    "\\begin{align}\n",
    "{\\frac {dh}{dt}} &=\\alpha _{h}(V)(1-h)-\\beta _{h}(V)h \\\\\n",
    "\\alpha_h(V) &= 0.07 \\cdot \\exp\\big(-{V+58 \\over 20}\\big) \\\\\n",
    "\\beta_h(V) &= {1 \\over 1 + \\exp\\big(-{V+28\\over 10}\\big)}\n",
    "\\end{align}\n",
    "$$"
   ]
  },
  {
   "cell_type": "markdown",
   "metadata": {},
   "source": [
    "In BrainPy, you can code $h$ channel equation like this:"
   ]
  },
  {
   "cell_type": "code",
   "execution_count": 4,
   "metadata": {
    "ExecuteTime": {
     "end_time": "2020-12-29T09:41:25.736424Z",
     "start_time": "2020-12-29T09:41:25.604764Z"
    }
   },
   "outputs": [],
   "source": [
    "@bp.integrate\n",
    "def int_h(h, t, V):\n",
    "    alpha = 0.07 * np.exp(-(V + 58) / 20)\n",
    "    beta = 1 / (np.exp(-0.1 * (V + 28)) + 1)\n",
    "    dhdt = alpha * (1 - h) - beta * h\n",
    "    return phi * dhdt"
   ]
  },
  {
   "cell_type": "markdown",
   "metadata": {},
   "source": [
    "The differential equation of **n channel**\n",
    "\n",
    "$$\n",
    "\\begin{align}\n",
    "{\\frac {dn}{dt}} &=\\alpha _{n}(V)(1-n)-\\beta _{n}(V)n \\\\\n",
    "\\alpha_n(V) &= {0.01 \\cdot (V+34) \\over 1-\\exp\\big(-{V+34 \\over10}\\big)} \\\\\n",
    "\\beta_n(V) &= 0.125 \\cdot \\exp\\big(-{V+44 \\over 80}\\big)\n",
    "\\end{align}\n",
    "$$\n",
    "\n",
    "can be coded as:"
   ]
  },
  {
   "cell_type": "code",
   "execution_count": 5,
   "metadata": {
    "ExecuteTime": {
     "end_time": "2020-12-29T09:41:28.240718Z",
     "start_time": "2020-12-29T09:41:28.052217Z"
    }
   },
   "outputs": [],
   "source": [
    "@bp.integrate\n",
    "def int_n(n, t, V):\n",
    "    alpha = -0.01 * (V + 34) / (np.exp(-0.1 * (V + 34)) - 1)\n",
    "    beta = 0.125 * np.exp(-(V + 44) / 80)\n",
    "    dndt = alpha * (1 - n) - beta * n\n",
    "    return phi * dndt"
   ]
  },
  {
   "cell_type": "markdown",
   "metadata": {},
   "source": [
    "Finally, the differential equation of **membrane potential V** is expressed as:\n",
    "\n",
    "$$\n",
    "\\begin{align}\n",
    "C_{m}{\\frac {d V}{dt}}&=-{\\bar {g}}_{\\text{K}}n^{4}(V-V_{K}) - {\\bar {g}}_{\\text{Na}}m^{3}h(V-V_{Na}) -{\\bar {g}}_{l}(V-V_{l}) + I_{syn}\n",
    "\\end{align}\n",
    "$$\n",
    "\n",
    "where $m$ is modeled as an instaneous channel (fast enough and substituted by its steady-state function)\n",
    "\n",
    "\n",
    "$$\n",
    "\\begin{align}\n",
    "\\alpha_m(V) &= {0.1 (V+ 40) \\over 1-\\exp\\big(-{ V+40 \\over 10}\\big)} \\\\\n",
    "\\beta_m(V) &= 4.0 \\cdot \\exp\\big(-{V+65 \\over 18}\\big) \\\\\n",
    "m &= {\\alpha_m(V) \\over \\alpha_m(V) + \\beta_m(V)}\n",
    "\\end{align}\n",
    "$$\n",
    "\n",
    "Therefore, the differential equations of $V$ is coded as:"
   ]
  },
  {
   "cell_type": "code",
   "execution_count": 6,
   "metadata": {
    "ExecuteTime": {
     "end_time": "2020-12-29T09:41:30.815501Z",
     "start_time": "2020-12-29T09:41:30.478242Z"
    }
   },
   "outputs": [],
   "source": [
    "@bp.integrate\n",
    "def int_V(V, t, h, n, Isyn):\n",
    "    m_alpha = -0.1 * (V + 35) / (np.exp(-0.1 * (V + 35)) - 1)\n",
    "    m_beta = 4 * np.exp(-(V + 60) / 18)\n",
    "    m = m_alpha / (m_alpha + m_beta)\n",
    "    INa = gNa * m ** 3 * h * (V - ENa)\n",
    "    IK = gK * n ** 4 * (V - EK)\n",
    "    IL = gLeak * (V - ELeak)\n",
    "    dvdt = (- INa - IK - IL + Isyn) / C\n",
    "    return dvdt"
   ]
  },
  {
   "cell_type": "markdown",
   "metadata": {},
   "source": [
    "**Neuron state**"
   ]
  },
  {
   "cell_type": "markdown",
   "metadata": {},
   "source": [
    "In order to support the convenient state management, BrainPy provides ``NeuState`` to help you manage your model state. "
   ]
  },
  {
   "cell_type": "markdown",
   "metadata": {},
   "source": [
    "In HH neuron, there are $V$, $h$ and $n$ dynamical variables. Moreover, the *input* of the neuron is time-varying. We can add a ``input`` item in HH neuron state to receive the varying input. Further, the neuron *spike* is also we take care of. So, the neuron state of HH model can be specified as"
   ]
  },
  {
   "cell_type": "code",
   "execution_count": 7,
   "metadata": {
    "ExecuteTime": {
     "end_time": "2020-12-29T09:41:32.650422Z",
     "start_time": "2020-12-29T09:41:32.643441Z"
    }
   },
   "outputs": [],
   "source": [
    "HH_ST = bp.types.NeuState({\n",
    "    'V': -55.,  # membrane potential, default initial value is -55.\n",
    "    'h': 0.,  # h channel, default initial value is 0.\n",
    "    'n': 0.,  # n channel, default initial value is 0.\n",
    "    'spike': 0.,  # neuron spike state, default initial value is 0., \n",
    "                  # if neuron emits a spike, it will be 1.\n",
    "    'input': 0.  # neuron synaptic input, default initial value is 0.\n",
    "})"
   ]
  },
  {
   "cell_type": "markdown",
   "metadata": {},
   "source": [
    "The instantiation of ``bp.types.NeuState`` can receive a dict (which means the fields and their default initial values), or a list/tuple of fields (in this case the default initial value will be set to 0.)."
   ]
  },
  {
   "cell_type": "markdown",
   "metadata": {},
   "source": [
    "**Step functions**"
   ]
  },
  {
   "cell_type": "markdown",
   "metadata": {},
   "source": [
    "For each model, the most important thing is to define the step functions. After the definition of differential equations, the step function of the HH model can be defined as: "
   ]
  },
  {
   "cell_type": "code",
   "execution_count": 8,
   "metadata": {
    "ExecuteTime": {
     "end_time": "2020-12-29T09:41:34.557323Z",
     "start_time": "2020-12-29T09:41:34.549342Z"
    }
   },
   "outputs": [],
   "source": [
    "def update(ST, _t):\n",
    "    h = int_h(ST['h'], _t, ST['V'])\n",
    "    n = int_n(ST['n'], _t, ST['V'])\n",
    "    V = int_V(ST['V'], _t, ST['h'], ST['n'], ST['input'])\n",
    "    sp = np.logical_and(ST['V'] < V_th, V >= V_th)\n",
    "    ST['spike'] = sp\n",
    "    ST['V'] = V\n",
    "    ST['h'] = h\n",
    "    ST['n'] = n\n",
    "    ST['input'] = 0."
   ]
  },
  {
   "cell_type": "markdown",
   "metadata": {},
   "source": [
    "To define a step function, you can pass any data you need into the function as the functional arguments. The order of the arguments in each step function can be arbitrary."
   ]
  },
  {
   "cell_type": "markdown",
   "metadata": {},
   "source": [
    "In HH model step function, as you can see, two arguments are required:\n",
    "\n",
    "- ``ST``: the neuron state.\n",
    "- ``_t``: the current time. "
   ]
  },
  {
   "cell_type": "markdown",
   "metadata": {},
   "source": [
    "``_t`` is a system keyword, which denotes the current time point. In BrainPy, there are three system keywords: ``_t``, ``_i`` (the current running step number), and ``_dt`` (the numerical integration step)."
   ]
  },
  {
   "cell_type": "markdown",
   "metadata": {},
   "source": [
    "**Define a NeuType**"
   ]
  },
  {
   "cell_type": "markdown",
   "metadata": {},
   "source": [
    "Finally, putting the above together, we get our HH neuron model as:"
   ]
  },
  {
   "cell_type": "code",
   "execution_count": 9,
   "metadata": {
    "ExecuteTime": {
     "end_time": "2020-12-29T09:41:37.598795Z",
     "start_time": "2020-12-29T09:41:37.590817Z"
    }
   },
   "outputs": [],
   "source": [
    "HH = bp.NeuType(ST=HH_ST, name='HH_neuron', steps=update)"
   ]
  },
  {
   "cell_type": "markdown",
   "metadata": {},
   "source": [
    "More advanced usage of ``NeuType`` definition please see [Build Neurons](https://brainpy.readthedocs.io/en/latest/tutorials/build_neurons.html)."
   ]
  },
  {
   "cell_type": "markdown",
   "metadata": {},
   "source": [
    "## How to build a synapse model?"
   ]
  },
  {
   "cell_type": "markdown",
   "metadata": {},
   "source": [
    "Like the ``NeuType`` definition, let's announce the parameters all we need in the following:"
   ]
  },
  {
   "cell_type": "code",
   "execution_count": 10,
   "metadata": {
    "ExecuteTime": {
     "end_time": "2020-12-29T09:41:39.286279Z",
     "start_time": "2020-12-29T09:41:39.282291Z"
    }
   },
   "outputs": [],
   "source": [
    "g_max = 0.1  # the maximal synaptic conductance\n",
    "E = -75.  # the reversal potential\n",
    "alpha = 12.  # the channel opening rate\n",
    "beta = 0.1  # the channel closing rate"
   ]
  },
  {
   "cell_type": "markdown",
   "metadata": {},
   "source": [
    "The GABA<sub>A</sub> synapse defined in *(Wang & Buzsáki, 1996)* is mathematically expressed as "
   ]
  },
  {
   "cell_type": "markdown",
   "metadata": {},
   "source": [
    "$$\n",
    "\\begin{align}\n",
    "\\frac{ds}{dt} &= \\alpha F(V_{pre})(1-s)-\\beta s   \\quad (1) \\\\\n",
    "F(V_{pre}) &= {1 \\over 1+\\exp\\left(-{V_{pre}- V_{th} \\over 2}\\right)}  \\quad (2) \n",
    "\\end{align}\n",
    "$$"
   ]
  },
  {
   "cell_type": "markdown",
   "metadata": {},
   "source": [
    "The synaptic current output onto the post-synaptic neuron is expressed as\n",
    "\n",
    "$$\n",
    "I_{ syn }=g_{max} s\\left(V-E\\right) \\quad (3)\n",
    "$$"
   ]
  },
  {
   "cell_type": "markdown",
   "metadata": {},
   "source": [
    "Obviously, GABA<sub>A</sub> synapse model has one dynamical variable `s`. Thus, we can create the synapse state by using  "
   ]
  },
  {
   "cell_type": "code",
   "execution_count": 11,
   "metadata": {
    "ExecuteTime": {
     "end_time": "2020-12-29T09:41:41.633001Z",
     "start_time": "2020-12-29T09:41:41.628018Z"
    }
   },
   "outputs": [],
   "source": [
    "ST = bp.types.SynState(['s'])"
   ]
  },
  {
   "cell_type": "markdown",
   "metadata": {},
   "source": [
    "Based on the equation (1) and (2), the state updating of GABA<sub>A</sub> synapse is coded as: "
   ]
  },
  {
   "cell_type": "code",
   "execution_count": 12,
   "metadata": {
    "ExecuteTime": {
     "end_time": "2020-12-29T09:41:43.040235Z",
     "start_time": "2020-12-29T09:41:43.006325Z"
    }
   },
   "outputs": [],
   "source": [
    "@bp.integrate\n",
    "def int_s(s, t, TT):\n",
    "    return alpha * TT * (1 - s) - beta * s\n",
    "\n",
    "def update(ST, _t, pre):\n",
    "    T = 1 / (1 + np.exp(-(pre['V'] - V_th) / 2))\n",
    "    s = int_s(ST['s'], _t, T)\n",
    "    ST['s'] = s"
   ]
  },
  {
   "cell_type": "markdown",
   "metadata": {},
   "source": [
    "Moreover, based on the equation (3), the delayed synaptic value output onto the post-synaptic neurons of GABA<sub>A</sub> synpase can be coded as:"
   ]
  },
  {
   "cell_type": "code",
   "execution_count": 13,
   "metadata": {
    "ExecuteTime": {
     "end_time": "2020-12-29T09:41:45.114684Z",
     "start_time": "2020-12-29T09:41:45.108700Z"
    },
    "code_folding": []
   },
   "outputs": [],
   "source": [
    "@bp.delayed\n",
    "def output(ST, post):\n",
    "    post['input'] -= g_max * ST['s'] * (post['V'] - E)"
   ]
  },
  {
   "cell_type": "markdown",
   "metadata": {},
   "source": [
    "The decorator ``@bp.delayed`` can be added on the function which need the delayed ``ST``. BrainPy will automatically recognize the delayed fileds. For example, in this ``output()`` function, the field ``s`` will be automatically delayed. When calling ``output()``, the ``ST['s']`` will be the delayed one."
   ]
  },
  {
   "cell_type": "markdown",
   "metadata": {},
   "source": [
    "Moreover, as you can see, the definition of the GABA<sub>A</sub> synapse requires the following data:\n",
    "\n",
    "- ``pre``: The pre-synaptic neuron state, in which the field ``V`` is needed to compute the synapatic state.\n",
    "- ``post``: The post-synaptic neuron state, in which the fields ``V`` and ``input`` are needed.\n",
    "\n",
    "If you use this model defined by yourself, you clearly know what data you need to run the model. However, when somebody use your defined model, they will be confused by what ``pre`` and ``post`` mean. So, here we can make declarations (optional):"
   ]
  },
  {
   "cell_type": "code",
   "execution_count": 14,
   "metadata": {
    "ExecuteTime": {
     "end_time": "2020-12-29T09:41:46.910972Z",
     "start_time": "2020-12-29T09:41:46.904990Z"
    }
   },
   "outputs": [],
   "source": [
    "requires = dict(\n",
    "    pre=bp.types.NeuState(['V']),\n",
    "    post=bp.types.NeuState(['V', 'input']),\n",
    ")"
   ]
  },
  {
   "cell_type": "markdown",
   "metadata": {},
   "source": [
    "Finally, let's put the above difinitions together, and we get our wantted synapse model:"
   ]
  },
  {
   "cell_type": "code",
   "execution_count": 15,
   "metadata": {
    "ExecuteTime": {
     "end_time": "2020-12-29T09:41:48.073860Z",
     "start_time": "2020-12-29T09:41:48.062895Z"
    }
   },
   "outputs": [],
   "source": [
    "GABAa = bp.SynType(ST=ST,\n",
    "                   name='GABAa', \n",
    "                   steps=(update, output), \n",
    "                   requires=requires, \n",
    "                   mode='scalar')"
   ]
  },
  {
   "cell_type": "markdown",
   "metadata": {},
   "source": [
    "## How to construct a network?"
   ]
  },
  {
   "cell_type": "markdown",
   "metadata": {},
   "source": [
    "It is worthy to note that the above defined ``HH`` NeuType and ``GABAa`` SynType are abstract models. They can not be used for concrete computation. Instead, we should define the ``NeuGroup`` and ``SynConn``. "
   ]
  },
  {
   "cell_type": "markdown",
   "metadata": {},
   "source": [
    "Here, by using ``bp.NeuGroup``, let's define a neuron group which contains 100 neurons. At the same time, we monitor the history trajectory of membrane potential ``V`` and spikes ``spike``."
   ]
  },
  {
   "cell_type": "code",
   "execution_count": 16,
   "metadata": {
    "ExecuteTime": {
     "end_time": "2020-12-29T09:41:50.188204Z",
     "start_time": "2020-12-29T09:41:50.183217Z"
    }
   },
   "outputs": [],
   "source": [
    "num = 100\n",
    "neu = bp.NeuGroup(HH, geometry=num, monitors=['spike', 'V'])"
   ]
  },
  {
   "cell_type": "markdown",
   "metadata": {},
   "source": [
    "Similarly, the concrete synaptic connection can be constructed by using ``bp.SynConn``. It receives an instance of SynType (argument ``model``), the pre-synaptic neuron group (argument ``pre_group``), the post-synaptic neuron group (argument ``post_group``), the connection methods between the two groups (argument ``conn``), and the delay length (argument ``delay``)."
   ]
  },
  {
   "cell_type": "code",
   "execution_count": 18,
   "metadata": {
    "ExecuteTime": {
     "end_time": "2020-12-29T09:41:53.494356Z",
     "start_time": "2020-12-29T09:41:53.121357Z"
    }
   },
   "outputs": [],
   "source": [
    "syn = bp.SynConn(model=GABAa, \n",
    "                 pre_group=neu, \n",
    "                 post_group=neu,\n",
    "                 conn=bp.connect.All2All(include_self=False),\n",
    "                 delay=0.5,\n",
    "                 monitors=['s'])"
   ]
  },
  {
   "cell_type": "markdown",
   "metadata": {},
   "source": [
    "The initial state value of a neuron group or an ensemble of synaptical connections can be updated by set ``neu_group.ST[key] = value``, or ``syn_conn.ST[key] = value``. In this example, we can update the initial value of ``neu`` as:"
   ]
  },
  {
   "cell_type": "code",
   "execution_count": 17,
   "metadata": {
    "ExecuteTime": {
     "end_time": "2020-12-29T09:41:51.673229Z",
     "start_time": "2020-12-29T09:41:51.664254Z"
    }
   },
   "outputs": [],
   "source": [
    "v_init = -70. + np.random.random(num) * 20\n",
    "h_alpha = 0.07 * np.exp(-(v_init + 58) / 20)\n",
    "h_beta = 1 / (np.exp(-0.1 * (v_init + 28)) + 1)\n",
    "h_init = h_alpha / (h_alpha + h_beta)\n",
    "n_alpha = -0.01 * (v_init + 34) / (np.exp(-0.1 * (v_init + 34)) - 1)\n",
    "n_beta = 0.125 * np.exp(-(v_init + 44) / 80)\n",
    "n_init = n_alpha / (n_alpha + n_beta)\n",
    "\n",
    "neu.ST['V'] = v_init\n",
    "neu.ST['h'] = h_init\n",
    "neu.ST['n'] = n_init"
   ]
  },
  {
   "cell_type": "markdown",
   "metadata": {},
   "source": [
    "Moreover, the parameters of the created neuron groups or synaptical connections can be updated by using ``neu_group.pars[key] = value``, or ``syn_conn.pars[key] = value``. In this example, we can update the parameter of ``syn`` as:"
   ]
  },
  {
   "cell_type": "code",
   "execution_count": 19,
   "metadata": {
    "ExecuteTime": {
     "end_time": "2020-12-29T09:41:54.410904Z",
     "start_time": "2020-12-29T09:41:54.406914Z"
    }
   },
   "outputs": [],
   "source": [
    "syn.pars['g_max'] = 0.1 / num"
   ]
  },
  {
   "cell_type": "markdown",
   "metadata": {},
   "source": [
    "Finally, by adding the created neuron groups and synapse connection into the ``bp.Network``, we get an instance of the network. Each ``bp.Network`` has a powerful function ``.run()``. You can specify the total duration to run (argument ``duration``), the inputs to various components (argument ``inputs``), and the option for progress reporting (arguments ``report`` and ``report_percent``). "
   ]
  },
  {
   "cell_type": "code",
   "execution_count": 20,
   "metadata": {
    "ExecuteTime": {
     "end_time": "2020-12-29T09:51:34.174420Z",
     "start_time": "2020-12-29T09:41:56.005637Z"
    }
   },
   "outputs": [],
   "source": [
    "net = bp.Network(neu, syn)\n",
    "net.run(duration=500., inputs=[neu, 'ST.input', 1.2], report=False)"
   ]
  },
  {
   "cell_type": "markdown",
   "metadata": {},
   "source": [
    "Let's visualize the network running results."
   ]
  },
  {
   "cell_type": "code",
   "execution_count": 21,
   "metadata": {
    "ExecuteTime": {
     "end_time": "2020-12-29T09:52:10.094494Z",
     "start_time": "2020-12-29T09:52:09.434039Z"
    },
    "scrolled": false
   },
   "outputs": [
    {
     "data": {
      "image/png": "[encoded data removed]",
      "text/plain": [
       "<Figure size 864x432 with 2 Axes>"
      ]
     },
     "metadata": {
      "needs_background": "light"
     },
     "output_type": "display_data"
    }
   ],
   "source": [
    "import matplotlib.pyplot as plt\n",
    "\n",
    "ts = net.ts\n",
    "fig, gs = bp.visualize.get_figure(2, 1, 3, 12)\n",
    "\n",
    "fig.add_subplot(gs[0, 0])\n",
    "plt.plot(ts, neu.mon.V[:, 0])\n",
    "plt.ylabel('Membrane potential (N0)')\n",
    "plt.xlim(net.t_start - 0.1, net.t_end + 0.1)\n",
    "\n",
    "fig.add_subplot(gs[1, 0])\n",
    "index, time = bp.measure.raster_plot(neu.mon.spike, net.ts)\n",
    "plt.plot(time, index, '.')\n",
    "plt.xlim(net.t_start - 0.1, net.t_end + 0.1)\n",
    "plt.xlabel('Time (ms)')\n",
    "plt.ylabel('Raster plot')\n",
    "\n",
    "plt.show()"
   ]
  },
  {
   "cell_type": "markdown",
   "metadata": {},
   "source": [
    "The full file of this example model can be obtained in [gamma_oscillation](https://brainpy-models.readthedocs.io/en/latest/examples/networks/Gamma_oscillations.html)."
   ]
  }
 ],
 "metadata": {
  "hide_input": false,
  "kernelspec": {
   "display_name": "Python 3",
   "language": "python",
   "name": "python3"
  },
  "language_info": {
   "codemirror_mode": {
    "name": "ipython",
    "version": 3
   },
   "file_extension": ".py",
   "mimetype": "text/x-python",
   "name": "python",
   "nbconvert_exporter": "python",
   "pygments_lexer": "ipython3",
   "version": "3.8.5"
  },
  "toc": {
   "base_numbering": 1,
   "nav_menu": {
    "height": "151px",
    "width": "305px"
   },
   "number_sections": false,
   "sideBar": true,
   "skip_h1_title": false,
   "title_cell": "Table of Contents",
   "title_sidebar": "Contents",
   "toc_cell": false,
   "toc_position": {
    "height": "calc(100% - 180px)",
    "left": "10px",
    "top": "150px",
    "width": "279.273px"
   },
   "toc_section_display": true,
   "toc_window_display": false
  },
  "varInspector": {
   "cols": {
    "lenName": 16,
    "lenType": 16,
    "lenVar": 40
   },
   "kernels_config": {
    "python": {
     "delete_cmd_postfix": "",
     "delete_cmd_prefix": "del ",
     "library": "var_list.py",
     "varRefreshCmd": "print(var_dic_list())"
    },
    "r": {
     "delete_cmd_postfix": ") ",
     "delete_cmd_prefix": "rm(",
     "library": "var_list.r",
     "varRefreshCmd": "cat(var_dic_list()) "
    }
   },
   "types_to_exclude": [
    "module",
    "function",
    "builtin_function_or_method",
    "instance",
    "_Feature"
   ],
   "window_display": false
  }
 },
 "nbformat": 4,
 "nbformat_minor": 4
}
