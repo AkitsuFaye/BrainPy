{
 "cells": [
  {
   "cell_type": "markdown",
   "id": "488d2624",
   "metadata": {},
   "source": [
    "# Note on Numba-CUDA Backend"
   ]
  },
  {
   "cell_type": "markdown",
   "id": "8b042697",
   "metadata": {},
   "source": [
    "BrainPy provides minimum support for Numba-CUDA backend. `numba-cuda` backend BrainPy is very suitable for vector-based models, which means the neuron/synapse models whose logic is based on vectors can obtain the well support in BrainPy `numba-cuda` driver. "
   ]
  },
  {
   "cell_type": "markdown",
   "id": "96e896ae",
   "metadata": {},
   "source": [
    "## Limitations"
   ]
  },
  {
   "cell_type": "markdown",
   "id": "c4719796",
   "metadata": {},
   "source": [
    "**Weak support for inputs**\n",
    "\n",
    "- Does not support inputs for int/float etc. scalar data. Which can be customized in `update()` function by users.\n",
    "- Only support inputs for 1D vector variables, and does not support inputs for data whose dimension is bigger than 2. However, for such high-dimensional data, users can make inputs by customized rules in `update()` function.\n"
   ]
  },
  {
   "cell_type": "markdown",
   "id": "fcd1ab0b",
   "metadata": {},
   "source": []
  },
  {
   "cell_type": "code",
   "execution_count": null,
   "id": "4003ec37",
   "metadata": {},
   "outputs": [],
   "source": []
  }
 ],
 "metadata": {
  "kernelspec": {
   "display_name": "brainpy",
   "language": "python",
   "name": "brainpy"
  },
  "language_info": {
   "codemirror_mode": {
    "name": "ipython",
    "version": 3
   },
   "file_extension": ".py",
   "mimetype": "text/x-python",
   "name": "python",
   "nbconvert_exporter": "python",
   "pygments_lexer": "ipython3",
   "version": "3.8.8"
  },
  "toc": {
   "base_numbering": 1,
   "nav_menu": {},
   "number_sections": false,
   "sideBar": true,
   "skip_h1_title": false,
   "title_cell": "Table of Contents",
   "title_sidebar": "Contents",
   "toc_cell": false,
   "toc_position": {},
   "toc_section_display": true,
   "toc_window_display": true
  }
 },
 "nbformat": 4,
 "nbformat_minor": 5
}
