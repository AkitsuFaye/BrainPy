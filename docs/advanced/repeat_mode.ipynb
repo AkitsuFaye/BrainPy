{
 "cells": [
  {
   "cell_type": "markdown",
   "metadata": {},
   "source": [
    "# Repeat Mode of ``Network``"
   ]
  },
  {
   "cell_type": "markdown",
   "metadata": {},
   "source": [
    "Another simple but powerful function provided in ``BrainPy`` is the repeat running mode of ``brainpy.Network``. This function allows users to run a compiled network model repeatly. Specifically, each ``brainpy.Network`` is instantiated  in the repeat mode by default. Once, the input structure of the model is changed, the network will be rebiuld and recompiled. "
   ]
  },
  {
   "cell_type": "markdown",
   "metadata": {},
   "source": [
    "Before each function call of ``net.run()``, users can arbitrarily set the values in ``ST`` state, or the input values in ``inputs``. However, user's parameter updating ``model.pars['xx'] = xx`` can not be done. This is because BrainPy compiles the ``ST`` and ``inputs`` as dynamical variables and treat them as the functional arguments, while for the ``pars``, BrainPy recognizes them as the static variables and can not be changed after the model compilation."
   ]
  },
  {
   "cell_type": "markdown",
   "metadata": {},
   "source": [
    "Repeat mode of ``brainpy.Network`` is very useful at least in the following two situations: *parameter searching* and *RAM memory saving*."
   ]
  },
  {
   "cell_type": "markdown",
   "metadata": {},
   "source": [
    "## Parameter Searching"
   ]
  },
  {
   "cell_type": "markdown",
   "metadata": {},
   "source": [
    "``Parameter searching`` is one of the most common things in computational modeling. When creating a \n",
    "model, we'll be presented with many parameters to control how our defined model evolves. Often times, \n",
    "we don't immediately know what the optimal parameter set should be for a given model, and thus we'd \n",
    "like to be able to explore a range of possibilities. "
   ]
  },
  {
   "cell_type": "markdown",
   "metadata": {},
   "source": [
    "Fortunately, with the ``repeat`` mode provided in ``brainpy.Network``, parameter searching is a very easy thing. "
   ]
  },
  {
   "cell_type": "markdown",
   "metadata": {},
   "source": [
    "Here, we illustrate this with the example of [gamma oscillation](https://brainpy.readthedocs.io/en/latest/tutorials/quick_start.html), and to see how different value of ``g_max`` (the maximal synaptic conductance) affect the network coherence. "
   ]
  },
  {
   "cell_type": "markdown",
   "metadata": {},
   "source": [
    "First, let's import the necessary packages and define the models first."
   ]
  },
  {
   "cell_type": "code",
   "execution_count": 1,
   "metadata": {},
   "outputs": [],
   "source": [
    "import sys\n",
    "sys.path.append('../../')\n",
    "\n",
    "import brainpy as bp\n",
    "import numpy as np\n",
    "import matplotlib.pyplot as plt\n",
    "\n",
    "bp.profile.set(jit=True, dt=0.04, numerical_method='exponential')"
   ]
  },
  {
   "cell_type": "markdown",
   "metadata": {},
   "source": [
    "Same with [gamma oscillation](https://brainpy.readthedocs.io/en/latest/tutorials/quick_start.html), the HH neuron model is defined as:"
   ]
  },
  {
   "cell_type": "code",
   "execution_count": 2,
   "metadata": {},
   "outputs": [],
   "source": [
    "# HH neuron model #\n",
    "# --------------- #\n",
    "\n",
    "V_th = 0.\n",
    "C = 1.0\n",
    "gLeak = 0.1\n",
    "ELeak = -65\n",
    "gNa = 35.\n",
    "ENa = 55.\n",
    "gK = 9.\n",
    "EK = -90.\n",
    "phi = 5.0\n",
    "\n",
    "HH_ST = bp.types.NeuState({'V': -55., 'h': 0., 'n': 0., 'spike': 0., 'inp': 0.})\n",
    "\n",
    "@bp.integrate\n",
    "def int_h(h, t, V):\n",
    "    alpha = 0.07 * np.exp(-(V + 58) / 20)\n",
    "    beta = 1 / (np.exp(-0.1 * (V + 28)) + 1)\n",
    "    dhdt = alpha * (1 - h) - beta * h\n",
    "    return phi * dhdt\n",
    "\n",
    "@bp.integrate\n",
    "def int_n(n, t, V):\n",
    "    alpha = -0.01 * (V + 34) / (np.exp(-0.1 * (V + 34)) - 1)\n",
    "    beta = 0.125 * np.exp(-(V + 44) / 80)\n",
    "    dndt = alpha * (1 - n) - beta * n\n",
    "    return phi * dndt\n",
    "\n",
    "@bp.integrate\n",
    "def int_V(V, t, h, n, Isyn):\n",
    "    m_alpha = -0.1 * (V + 35) / (np.exp(-0.1 * (V + 35)) - 1)\n",
    "    m_beta = 4 * np.exp(-(V + 60) / 18)\n",
    "    m = m_alpha / (m_alpha + m_beta)\n",
    "    INa = gNa * m ** 3 * h * (V - ENa)\n",
    "    IK = gK * n ** 4 * (V - EK)\n",
    "    IL = gLeak * (V - ELeak)\n",
    "    dvdt = (- INa - IK - IL + Isyn) / C\n",
    "    return dvdt\n",
    "\n",
    "def neu_update(ST, _t):\n",
    "    h = int_h(ST['h'], _t, ST['V'])\n",
    "    n = int_n(ST['n'], _t, ST['V'])\n",
    "    V = int_V(ST['V'], _t, ST['h'], ST['n'], ST['inp'])\n",
    "    sp = np.logical_and(ST['V'] < V_th, V >= V_th)\n",
    "    ST['spike'] = sp\n",
    "    ST['V'] = V\n",
    "    ST['h'] = h\n",
    "    ST['n'] = n\n",
    "    ST['inp'] = 0.\n",
    "\n",
    "HH = bp.NeuType(name='HH_neuron', ST=HH_ST, steps=neu_update)"
   ]
  },
  {
   "cell_type": "markdown",
   "metadata": {},
   "source": [
    "Different from the [orignal definition](https://brainpy.readthedocs.io/en/latest/tutorials/quick_start.html), \n",
    "here we add the parameter ``g_max`` into the ``ST``, because later we will change the value of ``g_max`` and rerun the model."
   ]
  },
  {
   "cell_type": "code",
   "execution_count": 3,
   "metadata": {},
   "outputs": [],
   "source": [
    "# GABAa #\n",
    "# ----- #\n",
    "\n",
    "g_max = 0.1\n",
    "E = -75.\n",
    "alpha = 12.\n",
    "beta = 0.1\n",
    "\n",
    "@bp.integrate\n",
    "def int_s(s, t, TT):\n",
    "    return alpha * TT * (1 - s) - beta * s\n",
    "\n",
    "def syn_update(ST, _t, pre):\n",
    "    T = 1 / (1 + np.exp(-(pre['V'] - V_th) / 2))\n",
    "    s = int_s(ST['s'], _t, T)\n",
    "    ST['s'] = s\n",
    "\n",
    "def syn_output(ST, post):\n",
    "    post['inp'] -= ST['g_max'] * ST['s'] * (post['V'] - E)\n",
    "\n",
    "GABAa = bp.SynType(name='GABAa',\n",
    "                   ST=bp.types.SynState(['g_max', 's']),\n",
    "                   steps=(syn_update, syn_output),\n",
    "                   requires=dict(pre=bp.types.NeuState(['V']),\n",
    "                                 post=bp.types.NeuState(['V', 'inp'])),\n",
    "                   mode='scalar')"
   ]
  },
  {
   "cell_type": "markdown",
   "metadata": {},
   "source": [
    "Putting the HH neuron and the GABA<sub>A</sub> syanpse together, let's define the network in which HH neurons are interconnected with the GABA<sub>A</sub> syanpses. Here, what's different is we add a term ``mode='repeat'`` into the ``bp.Network`` definition."
   ]
  },
  {
   "cell_type": "code",
   "execution_count": 4,
   "metadata": {},
   "outputs": [],
   "source": [
    "# Network #\n",
    "# ------- #\n",
    "\n",
    "num = 100\n",
    "v_init = -70. + np.random.random(num) * 20\n",
    "h_alpha = 0.07 * np.exp(-(v_init + 58) / 20)\n",
    "h_beta = 1 / (np.exp(-0.1 * (v_init + 28)) + 1)\n",
    "h_init = h_alpha / (h_alpha + h_beta)\n",
    "n_alpha = -0.01 * (v_init + 34) / (np.exp(-0.1 * (v_init + 34)) - 1)\n",
    "n_beta = 0.125 * np.exp(-(v_init + 44) / 80)\n",
    "n_init = n_alpha / (n_alpha + n_beta)\n",
    "\n",
    "group = bp.NeuGroup(HH, geometry=num, monitors=['spike'])\n",
    "conn = bp.SynConn(GABAa, pre_group=group, post_group=group,\n",
    "                  conn=bp.connect.All2All(include_self=False))\n",
    "net = bp.Network(group, conn)"
   ]
  },
  {
   "cell_type": "markdown",
   "metadata": {},
   "source": [
    "Now, by using the [cross correlation](https://en.wikipedia.org/wiki/Cross-correlation) measurement, we can evaluate the network coherence under the different parameter setting of ``g_max``."
   ]
  },
  {
   "cell_type": "code",
   "execution_count": 5,
   "metadata": {
    "scrolled": false
   },
   "outputs": [
    {
     "name": "stdout",
     "output_type": "stream",
     "text": [
      "When g_max = 0.00050 ...\n",
      "Compilation used 3.0192 s.\n",
      "Start running ...\n",
      "Run 20.0% used 0.658 s.\n",
      "Run 40.0% used 1.315 s.\n",
      "Run 60.0% used 1.972 s.\n",
      "Run 80.0% used 2.632 s.\n",
      "Run 100.0% used 3.304 s.\n",
      "Simulation is done in 3.304 s.\n",
      "\n",
      "\n",
      "When g_max = 0.00060 ...\n",
      "Compilation used 0.0010 s.\n",
      "Start running ...\n",
      "Run 20.0% used 0.669 s.\n",
      "Run 40.0% used 1.333 s.\n",
      "Run 60.0% used 1.992 s.\n",
      "Run 80.0% used 2.661 s.\n",
      "Run 100.0% used 3.335 s.\n",
      "Simulation is done in 3.335 s.\n",
      "\n",
      "\n",
      "When g_max = 0.00070 ...\n",
      "When g_max = 0.00080 ...\n",
      "When g_max = 0.00090 ...\n",
      "When g_max = 0.00100 ...\n",
      "When g_max = 0.00110 ...\n",
      "When g_max = 0.00120 ...\n",
      "When g_max = 0.00130 ...\n",
      "When g_max = 0.00140 ...\n",
      "When g_max = 0.00150 ...\n"
     ]
    }
   ],
   "source": [
    "# Parameter Searching #\n",
    "# ------------------- #\n",
    "\n",
    "all_g_max = np.arange(0.05, 0.151, 0.01) / num\n",
    "all_cc = []\n",
    "\n",
    "for i, g_max in enumerate(all_g_max):\n",
    "    print('When g_max = {:.5f} ...'.format(g_max))\n",
    "    \n",
    "    group.ST['V'] = v_init\n",
    "    group.ST['h'] = h_init\n",
    "    group.ST['n'] = n_init\n",
    "    group.ST['spike'] = 0.\n",
    "    group.ST['inp'] = 0.\n",
    "    \n",
    "    conn.ST['s'] = 0.\n",
    "    conn.ST['g_max'] = g_max\n",
    "    \n",
    "    report = i < 2\n",
    "    net.run(duration=500., inputs=[group, 'ST.inp', 1.2], report=report, report_percent=0.2)\n",
    "\n",
    "    cc = bp.measure.cross_correlation(group.mon.spike, bin_size=int(0.5 / bp.profile.get_dt()))\n",
    "    all_cc.append(cc)\n",
    "    \n",
    "    if report: print('\\n')"
   ]
  },
  {
   "cell_type": "markdown",
   "metadata": {},
   "source": [
    "As you can see, the network was only compiled at the fist time run. And the overall speed of the later running does not change."
   ]
  },
  {
   "cell_type": "markdown",
   "metadata": {},
   "source": [
    "Finally, we can plot the relationship between the ``g_max`` and network coherence ``cc``."
   ]
  },
  {
   "cell_type": "code",
   "execution_count": 6,
   "metadata": {},
   "outputs": [
    {
     "data": {
      "image/png": "[encoded data removed]",
      "text/plain": [
       "<Figure size 432x288 with 1 Axes>"
      ]
     },
     "metadata": {
      "needs_background": "light"
     },
     "output_type": "display_data"
    }
   ],
   "source": [
    "plt.plot(all_g_max, all_cc)\n",
    "plt.xlabel('g_max')\n",
    "plt.ylabel('cc')\n",
    "plt.show()"
   ]
  },
  {
   "cell_type": "markdown",
   "metadata": {},
   "source": [
    "It is worthy to note that in this example, before each ``net.run()``, we reset the ``ST`` state of the neuron group and the synaptical connection. This is because each repeat run is independent with each other in the case of the parameter tuning. However, in the following example, the current ``net.run()`` relies on the previous network running, the ``ST`` state should not be reset. "
   ]
  },
  {
   "cell_type": "markdown",
   "metadata": {},
   "source": [
    "## Memory Saving"
   ]
  },
  {
   "cell_type": "markdown",
   "metadata": {},
   "source": [
    "Another annoyance often occurs is that our computers have limited RAM memory. Once the model size is big, or the running duration is long, ``MemoryError`` usually occurs. "
   ]
  },
  {
   "cell_type": "markdown",
   "metadata": {},
   "source": [
    "Here, with ``brainpy.Network`` repeat running mode, BrainPy can partially solve this problem by allowing uers to split a long duration into multiple short durations. BrainPy allows user to repeatedly call ``run()``, **but with the same ``inputs`` structure**. In this section, we illustrate this function by using the above defined gamma oscillation network."
   ]
  },
  {
   "cell_type": "markdown",
   "metadata": {},
   "source": [
    "We define a network with the size of 200 HH neurons, and try to run this network in 2 seconds."
   ]
  },
  {
   "cell_type": "code",
   "execution_count": 7,
   "metadata": {},
   "outputs": [],
   "source": [
    "num = 200\n",
    "v_init = -70. + np.random.random(num) * 20\n",
    "h_alpha = 0.07 * np.exp(-(v_init + 58) / 20)\n",
    "h_beta = 1 / (np.exp(-0.1 * (v_init + 28)) + 1)\n",
    "h_init = h_alpha / (h_alpha + h_beta)\n",
    "n_alpha = -0.01 * (v_init + 34) / (np.exp(-0.1 * (v_init + 34)) - 1)\n",
    "n_beta = 0.125 * np.exp(-(v_init + 44) / 80)\n",
    "n_init = n_alpha / (n_alpha + n_beta)\n",
    "\n",
    "group = bp.NeuGroup(HH, geometry=num, monitors=['spike'])\n",
    "conn = bp.SynConn(GABAa, pre_group=group, post_group=group,\n",
    "                  conn=bp.connect.All2All(include_self=False))\n",
    "net = bp.Network(group, conn)\n",
    "\n",
    "group.ST['V'] = v_init\n",
    "group.ST['h'] = h_init\n",
    "group.ST['n'] = n_init\n",
    "\n",
    "conn.ST['g_max'] = 0.1 / num"
   ]
  },
  {
   "cell_type": "markdown",
   "metadata": {},
   "source": [
    "Here, we do not run the total 2 second at one time. On the contrary, we run the model with four steps, with each step of 0.5 second running duration."
   ]
  },
  {
   "cell_type": "code",
   "execution_count": 8,
   "metadata": {},
   "outputs": [
    {
     "name": "stdout",
     "output_type": "stream",
     "text": [
      "Compilation used 3.2405 s.\n",
      "Start running ...\n",
      "Run 20.0% used 2.605 s.\n",
      "Run 40.0% used 5.107 s.\n",
      "Run 60.0% used 7.631 s.\n",
      "Run 80.0% used 10.152 s.\n",
      "Run 100.0% used 12.653 s.\n",
      "Simulation is done in 12.653 s.\n"
     ]
    },
    {
     "data": {
      "image/png": "[encoded data removed]",
      "text/plain": [
       "<Figure size 432x288 with 1 Axes>"
      ]
     },
     "metadata": {
      "needs_background": "light"
     },
     "output_type": "display_data"
    }
   ],
   "source": [
    "# run 1: 0 - 500 ms\n",
    "\n",
    "net.run(duration=(0., 500.), inputs=[group, 'ST.inp', 1.2], report=True, report_percent=0.2)\n",
    "bp.visualize.raster_plot(net.ts, group.mon.spike, show=True)"
   ]
  },
  {
   "cell_type": "code",
   "execution_count": 9,
   "metadata": {},
   "outputs": [
    {
     "name": "stdout",
     "output_type": "stream",
     "text": [
      "Compilation used 0.0020 s.\n",
      "Start running ...\n",
      "Run 20.0% used 2.500 s.\n",
      "Run 40.0% used 5.018 s.\n",
      "Run 60.0% used 7.506 s.\n",
      "Run 80.0% used 10.019 s.\n",
      "Run 100.0% used 12.524 s.\n",
      "Simulation is done in 12.524 s.\n"
     ]
    },
    {
     "data": {
      "image/png": "[encoded data removed]",
      "text/plain": [
       "<Figure size 432x288 with 1 Axes>"
      ]
     },
     "metadata": {
      "needs_background": "light"
     },
     "output_type": "display_data"
    }
   ],
   "source": [
    "# run 2: 500 - 1000 ms\n",
    "\n",
    "net.run(duration=(500., 1000.), inputs=[group, 'ST.inp', 1.2], report=True, report_percent=0.2)\n",
    "bp.visualize.raster_plot(net.ts, group.mon.spike, show=True)"
   ]
  },
  {
   "cell_type": "markdown",
   "metadata": {},
   "source": [
    "Set a different inputs structure, the network will ne rebuild and recompiled."
   ]
  },
  {
   "cell_type": "code",
   "execution_count": 10,
   "metadata": {
    "scrolled": false
   },
   "outputs": [
    {
     "name": "stdout",
     "output_type": "stream",
     "text": [
      "The current \"ST.inp\" input shape (200,) is different from the last input shape (). The network will be recompiled.\n",
      "The network will be rebuild.\n",
      "Compilation used 3.0360 s.\n",
      "Start running ...\n",
      "Run 20.0% used 2.507 s.\n",
      "Run 40.0% used 5.002 s.\n",
      "Run 60.0% used 7.504 s.\n",
      "Run 80.0% used 10.014 s.\n",
      "Run 100.0% used 12.521 s.\n",
      "Simulation is done in 12.521 s.\n"
     ]
    },
    {
     "data": {
      "image/png": "[encoded data removed]",
      "text/plain": [
       "<Figure size 432x288 with 1 Axes>"
      ]
     },
     "metadata": {
      "needs_background": "light"
     },
     "output_type": "display_data"
    }
   ],
   "source": [
    "# run 1000 - 1500 ms\n",
    "\n",
    "Iext = np.ones(num) * 1.2\n",
    "net.run(duration=(1000., 1500.), inputs=[group, 'ST.inp', Iext], \n",
    "        report=True, report_percent=0.2)\n",
    "bp.visualize.raster_plot(net.ts, group.mon.spike, show=True)"
   ]
  },
  {
   "cell_type": "markdown",
   "metadata": {},
   "source": [
    "## Notes"
   ]
  },
  {
   "cell_type": "markdown",
   "metadata": {},
   "source": [
    "Another thing worthy noting is that if the model ``ST`` state relies on the time (for example, the LIF neuron model ``ST['t_last_spike']``). Setting the continuous time duration between each repeat run is necessary, because the model's logic is dependent on the current time ``_t``. However, in this gamma oscillation network, although we set the duration as ``duration=500.`` (not ``duration=(1000., 1500.)``) in the third repeat run, the model will also produce the correct results. This is because the network running logic is independent with the current time ``_t``."
   ]
  }
 ],
 "metadata": {
  "hide_input": false,
  "kernelspec": {
   "display_name": "base",
   "language": "python",
   "name": "base"
  },
  "language_info": {
   "codemirror_mode": {
    "name": "ipython",
    "version": 3
   },
   "file_extension": ".py",
   "mimetype": "text/x-python",
   "name": "python",
   "nbconvert_exporter": "python",
   "pygments_lexer": "ipython3",
   "version": "3.7.7"
  },
  "toc": {
   "base_numbering": 1,
   "nav_menu": {},
   "number_sections": false,
   "sideBar": true,
   "skip_h1_title": false,
   "title_cell": "Table of Contents",
   "title_sidebar": "Contents",
   "toc_cell": false,
   "toc_position": {},
   "toc_section_display": true,
   "toc_window_display": true
  },
  "varInspector": {
   "cols": {
    "lenName": 16,
    "lenType": 16,
    "lenVar": 40
   },
   "kernels_config": {
    "python": {
     "delete_cmd_postfix": "",
     "delete_cmd_prefix": "del ",
     "library": "var_list.py",
     "varRefreshCmd": "print(var_dic_list())"
    },
    "r": {
     "delete_cmd_postfix": ") ",
     "delete_cmd_prefix": "rm(",
     "library": "var_list.r",
     "varRefreshCmd": "cat(var_dic_list()) "
    }
   },
   "types_to_exclude": [
    "module",
    "function",
    "builtin_function_or_method",
    "instance",
    "_Feature"
   ],
   "window_display": false
  }
 },
 "nbformat": 4,
 "nbformat_minor": 4
}
