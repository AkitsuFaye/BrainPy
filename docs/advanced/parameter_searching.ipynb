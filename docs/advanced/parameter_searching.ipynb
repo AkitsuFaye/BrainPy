{
 "cells": [
  {
   "cell_type": "markdown",
   "metadata": {},
   "source": [
    "# Parameter Searching"
   ]
  },
  {
   "cell_type": "markdown",
   "metadata": {},
   "source": [
    "``Parameter searching`` is one of the most common things in computational modeling. When creating a \n",
    "model, we'll be presented with many parameters to control how our defined model evolves. Often times, \n",
    "we don't immediately know what the optimal parameter set should be for a given model, and thus we'd \n",
    "like to be able to explore a range of possibilities. "
   ]
  },
  {
   "cell_type": "markdown",
   "metadata": {},
   "source": [
    "Here, ``BrainPy`` provides a convinient and powerful way for parameter searching."
   ]
  },
  {
   "cell_type": "code",
   "execution_count": null,
   "metadata": {},
   "outputs": [],
   "source": [
    "import brainpy as bp\n",
    "import numpy as np"
   ]
  },
  {
   "cell_type": "code",
   "execution_count": null,
   "metadata": {},
   "outputs": [],
   "source": [
    "N = 5000\n",
    "Vr = 10  # mV\n",
    "theta = 20  # mV\n",
    "tau = 20  # ms\n",
    "delta = 2  # ms\n",
    "taurefr = 2  # ms\n",
    "duration = 100. # second\n",
    "C = 1000\n",
    "sparseness = float(C)/N\n",
    "J = .1  # mV\n",
    "muext = 25  # mV\n",
    "sigmaext = 1  # mV\n",
    "\n",
    "\n",
    "@bp.integrate\n",
    "def int_v(v, t):\n",
    "    return (-v + muext) / tau, sigmaext * np.sqrt(tau) / tau\n",
    "\n",
    "def update(ST, _t):\n",
    "    ST['spike'] = 0.\n",
    "    if (_t - ST['t_last_spike']) > taurefr:\n",
    "        v = int_v(ST['v'], _t)\n",
    "        if v > theta:\n",
    "            ST['spike'] = 1.\n",
    "            ST['v'] = Vr\n",
    "            ST['t_last_spike'] = _t\n",
    "        else:\n",
    "            ST['v'] = v\n",
    "    \n",
    "\n",
    "lif = bp.Ney\n",
    "\n",
    "\n",
    "eqs = \"\"\"\n",
    "dV/dt = (-V+muext + sigmaext * sqrt(tau) * xi)/tau : volt\n",
    "\"\"\"\n",
    "\n",
    "group = NeuronGroup(N, eqs, threshold='V>theta',\n",
    "                    reset='V=Vr', refractory=taurefr, method='euler')\n",
    "group.V = Vr\n",
    "conn = Synapses(group, group, on_pre='V += -J', delay=delta)\n",
    "conn.connect(p=sparseness)\n",
    "M = SpikeMonitor(group)\n",
    "LFP = PopulationRateMonitor(group)\n",
    "\n",
    "run(duration)\n",
    "\n",
    "subplot(211)\n",
    "plot(M.t/ms, M.i, '.')\n",
    "xlim(0, duration/ms)\n",
    "\n",
    "subplot(212)\n",
    "plot(LFP.t/ms, LFP.smooth_rate(window='flat', width=0.5*ms)/Hz)\n",
    "xlim(0, duration/ms)\n",
    "\n",
    "show()"
   ]
  }
 ],
 "metadata": {
  "hide_input": false,
  "kernelspec": {
   "display_name": "Python 3",
   "language": "python",
   "name": "python3"
  },
  "language_info": {
   "codemirror_mode": {
    "name": "ipython",
    "version": 3
   },
   "file_extension": ".py",
   "mimetype": "text/x-python",
   "name": "python",
   "nbconvert_exporter": "python",
   "pygments_lexer": "ipython3",
   "version": "3.8.5"
  },
  "toc": {
   "base_numbering": 1,
   "nav_menu": {},
   "number_sections": false,
   "sideBar": true,
   "skip_h1_title": false,
   "title_cell": "Table of Contents",
   "title_sidebar": "Contents",
   "toc_cell": false,
   "toc_position": {},
   "toc_section_display": true,
   "toc_window_display": false
  },
  "varInspector": {
   "cols": {
    "lenName": 16,
    "lenType": 16,
    "lenVar": 40
   },
   "kernels_config": {
    "python": {
     "delete_cmd_postfix": "",
     "delete_cmd_prefix": "del ",
     "library": "var_list.py",
     "varRefreshCmd": "print(var_dic_list())"
    },
    "r": {
     "delete_cmd_postfix": ") ",
     "delete_cmd_prefix": "rm(",
     "library": "var_list.r",
     "varRefreshCmd": "cat(var_dic_list()) "
    }
   },
   "types_to_exclude": [
    "module",
    "function",
    "builtin_function_or_method",
    "instance",
    "_Feature"
   ],
   "window_display": false
  }
 },
 "nbformat": 4,
 "nbformat_minor": 4
}
