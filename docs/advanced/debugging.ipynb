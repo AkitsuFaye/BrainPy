{
 "cells": [
  {
   "cell_type": "markdown",
   "metadata": {},
   "source": [
    "# Debugging"
   ]
  },
  {
   "cell_type": "markdown",
   "metadata": {},
   "source": [
    "Even if you write clear and readable code, even if you fully understand your codes, env if you are very familiar with your model, weird bugs will inevitably appear and you will need to debug them in some way. "
   ]
  },
  {
   "cell_type": "markdown",
   "metadata": {},
   "source": [
    "Fortunately, ``BrainPy`` supports debugging with [pdb](https://docs.python.org/3/library/pdb.html)\n",
    "module or [breakpoint](https://docs.python.org/3/library/functions.html#breakpoint) (The latest version of \n",
    "BrainPy removes the support of debugging in IDEs). That is to say, you do not need to resort to using bunch \n",
    "of `print` statements to see what's happening in their code. On the contrary, you can work with \n",
    "Python’s interactive source code debugger to see the state of any variable in your model."
   ]
  },
  {
   "cell_type": "markdown",
   "metadata": {},
   "source": [
    "For the variables you are interested in, you just need to add the ``pdb.set_trace()`` or ``breakpoint()`` after \n",
    "the code line. "
   ]
  },
  {
   "cell_type": "markdown",
   "metadata": {},
   "source": [
    "In this section, let's take the HH neuron model as an example to illustrate how to debug your\n",
    "model within BrainPy."
   ]
  },
  {
   "cell_type": "code",
   "execution_count": 1,
   "metadata": {
    "ExecuteTime": {
     "end_time": "2020-12-29T09:15:31.217240Z",
     "start_time": "2020-12-29T09:15:28.875338Z"
    }
   },
   "outputs": [],
   "source": [
    "import brainpy as bp\n",
    "import numpy as np\n",
    "import pdb"
   ]
  },
  {
   "cell_type": "markdown",
   "metadata": {},
   "source": [
    "If you want to debug your model, we would like to recommond you to open the ``show_code=True``."
   ]
  },
  {
   "cell_type": "code",
   "execution_count": 2,
   "metadata": {
    "ExecuteTime": {
     "end_time": "2020-12-29T09:15:31.233192Z",
     "start_time": "2020-12-29T09:15:31.220227Z"
    }
   },
   "outputs": [],
   "source": [
    "bp.profile.set(show_code=True, jit=False)"
   ]
  },
  {
   "cell_type": "markdown",
   "metadata": {},
   "source": [
    "Here, the HH neuron model is defined as:"
   ]
  },
  {
   "cell_type": "code",
   "execution_count": 3,
   "metadata": {
    "ExecuteTime": {
     "end_time": "2020-12-29T09:15:31.332935Z",
     "start_time": "2020-12-29T09:15:31.243166Z"
    }
   },
   "outputs": [],
   "source": [
    "E_Na = 50.\n",
    "E_K = -77.\n",
    "E_leak = -54.387\n",
    "C = 1.0\n",
    "g_Na = 120.\n",
    "g_K = 36.\n",
    "g_leak = 0.03\n",
    "V_th = 20.\n",
    "noise = 1.\n",
    "\n",
    "ST = bp.types.NeuState(\n",
    "    {'V': -65., 'm': 0.05, 'h': 0.60,\n",
    "     'n': 0.32, 'spike': 0., 'input': 0.}\n",
    ")\n",
    "\n",
    "@bp.integrate\n",
    "def int_m(m, _t, V):\n",
    "    alpha = 0.1 * (V + 40) / (1 - np.exp(-(V + 40) / 10))\n",
    "    beta = 4.0 * np.exp(-(V + 65) / 18)\n",
    "    return alpha * (1 - m) - beta * m\n",
    "\n",
    "@bp.integrate\n",
    "def int_h(h, _t, V):\n",
    "    alpha = 0.07 * np.exp(-(V + 65) / 20.)\n",
    "    beta = 1 / (1 + np.exp(-(V + 35) / 10))\n",
    "    return alpha * (1 - h) - beta * h\n",
    "\n",
    "@bp.integrate\n",
    "def int_n(n, _t, V):\n",
    "    alpha = 0.01 * (V + 55) / (1 - np.exp(-(V + 55) / 10))\n",
    "    beta = 0.125 * np.exp(-(V + 65) / 80)\n",
    "    return alpha * (1 - n) - beta * n\n",
    "\n",
    "@bp.integrate\n",
    "def int_V(V, _t, m, h, n, I_ext):\n",
    "    I_Na = (g_Na * np.power(m, 3.0) * h) * (V - E_Na)\n",
    "    I_K = (g_K * np.power(n, 4.0))* (V - E_K)\n",
    "    I_leak = g_leak * (V - E_leak)\n",
    "    dVdt = (- I_Na - I_K - I_leak + I_ext)/C\n",
    "    return dVdt, noise / C\n",
    "\n",
    "def update(ST, _t):\n",
    "    m = np.clip(int_m(ST['m'], _t, ST['V']), 0., 1.)\n",
    "    h = np.clip(int_h(ST['h'], _t, ST['V']), 0., 1.)\n",
    "    n = np.clip(int_n(ST['n'], _t, ST['V']), 0., 1.)\n",
    "    V = int_V(ST['V'], _t, m, h, n, ST['input'])\n",
    "    \n",
    "    pdb.set_trace()\n",
    "    \n",
    "    spike = np.logical_and(ST['V'] < V_th, V >= V_th)\n",
    "    ST['spike'] = spike\n",
    "    ST['V'] = V\n",
    "    ST['m'] = m\n",
    "    ST['h'] = h\n",
    "    ST['n'] = n\n",
    "    ST['input'] = 0.\n",
    "\n",
    "HH = bp.NeuType(ST=ST,\n",
    "                name='HH_neuron',\n",
    "                steps=update,\n",
    "                mode='vector')"
   ]
  },
  {
   "cell_type": "markdown",
   "metadata": {},
   "source": [
    "In this example, we add ``pdb.set_trace()`` after the variables $m$, $h$, $n$ and $V$. "
   ]
  },
  {
   "cell_type": "markdown",
   "metadata": {},
   "source": [
    "Then we can create a neuron group, and try to run this neuron model:"
   ]
  },
  {
   "cell_type": "code",
   "execution_count": 4,
   "metadata": {
    "ExecuteTime": {
     "end_time": "2020-12-29T09:16:43.061109Z",
     "start_time": "2020-12-29T09:15:31.334919Z"
    },
    "scrolled": false
   },
   "outputs": [
    {
     "name": "stdout",
     "output_type": "stream",
     "text": [
      "def NeuGroup0_input_step(ST, input_inp,):\n",
      "  # \"input\" step function of NeuGroup0\n",
      "  ST[5] += input_inp\n",
      "  \n",
      "\n",
      "\n",
      "def NeuGroup0_monitor_step(ST, _i, mon_ST_spike,):\n",
      "  # \"monitor\" step function of NeuGroup0\n",
      "  mon_ST_spike[_i] = ST[4]\n",
      "  \n",
      "\n",
      "\n",
      "def NeuGroup0_update(ST, _t,):\n",
      " # \"update\" step function of NeuGroup0\n",
      " _int_m_m = ST[1]\n",
      " _int_m__t = _t\n",
      " _int_m_V = ST[0]\n",
      " _int_m_alpha = 0.1 * (_int_m_V + 40) / (1 - np.exp(-(_int_m_V + 40) / 10))\n",
      " _int_m_beta = 4.0 * np.exp(-(_int_m_V + 65) / 18)\n",
      " _dfm_dt = _int_m_alpha * (1 - _int_m_m) - _int_m_beta * _int_m_m\n",
      " _int_m_m = 0.1*_dfm_dt + _int_m_m\n",
      " _int_m_res = _int_m_m\n",
      " m = np.clip(_int_m_res, 0.0, 1.0)\n",
      " \n",
      " _int_h_h = ST[2]\n",
      " _int_h__t = _t\n",
      " _int_h_V = ST[0]\n",
      " _int_h_alpha = 0.07 * np.exp(-(_int_h_V + 65) / 20.0)\n",
      " _int_h_beta = 1 / (1 + np.exp(-(_int_h_V + 35) / 10))\n",
      " _dfh_dt = _int_h_alpha * (1 - _int_h_h) - _int_h_beta * _int_h_h\n",
      " _int_h_h = 0.1*_dfh_dt + _int_h_h\n",
      " _int_h_res = _int_h_h\n",
      " h = np.clip(_int_h_res, 0.0, 1.0)\n",
      " \n",
      " _int_n_n = ST[3]\n",
      " _int_n__t = _t\n",
      " _int_n_V = ST[0]\n",
      " _int_n_alpha = 0.01 * (_int_n_V + 55) / (1 - np.exp(-(_int_n_V + 55) / 10))\n",
      " _int_n_beta = 0.125 * np.exp(-(_int_n_V + 65) / 80)\n",
      " _dfn_dt = _int_n_alpha * (1 - _int_n_n) - _int_n_beta * _int_n_n\n",
      " _int_n_n = 0.1*_dfn_dt + _int_n_n\n",
      " _int_n_res = _int_n_n\n",
      " n = np.clip(_int_n_res, 0.0, 1.0)\n",
      " \n",
      " _int_V_V = ST[0]\n",
      " _int_V__t = _t\n",
      " _int_V_m = m\n",
      " _int_V_h = h\n",
      " _int_V_n = n\n",
      " _int_V_I_ext = ST[5]\n",
      " _int_V_I_Na = g_Na * np.power(_int_V_m, 3.0) * _int_V_h * (_int_V_V - E_Na)\n",
      " _int_V_I_K = g_K * np.power(_int_V_n, 4.0) * (_int_V_V - E_K)\n",
      " _int_V_I_leak = g_leak * (_int_V_V - E_leak)\n",
      " _int_V_dVdt = (-_int_V_I_Na - _int_V_I_K - _int_V_I_leak + _int_V_I_ext) / C\n",
      " _dfV_dt = _int_V_dVdt\n",
      " _V_dW = _normal_like(_int_V_V)\n",
      " _dgV_dt = noise / C\n",
      " _int_V_V = _int_V_V + 0.316227766016838*_V_dW*_dgV_dt + 0.1*_dfV_dt\n",
      " _int_V_res = _int_V_V\n",
      " V = _int_V_res\n",
      " \n",
      " pdb.set_trace()\n",
      " \n",
      " spike = np.logical_and(ST[0] < V_th, V >= V_th)\n",
      " ST[4] = spike\n",
      " ST[0] = V\n",
      " ST[1] = m\n",
      " ST[2] = h\n",
      " ST[3] = n\n",
      " ST[5] = 0.0\n",
      " \n",
      "\n",
      "\n",
      "def step_func(_t, _i, _dt):\n",
      "  NeuGroup0_runner.input_step(NeuGroup0.ST[\"_data\"], NeuGroup0_runner.input_inp,)\n",
      "  NeuGroup0_runner.update(NeuGroup0.ST[\"_data\"], _t,)\n",
      "  NeuGroup0_runner.monitor_step(NeuGroup0.ST[\"_data\"], _i, NeuGroup0.mon[\"spike\"],)\n",
      "\n",
      "> \u001b[1;32mc:\\users\\oujag\\codes\\projects\\brainpy\\docs\\advanced\u001b[0m(52)\u001b[0;36mupdate\u001b[1;34m()\u001b[0m\n",
      "\n",
      "ipdb> p m\n",
      "array([0.05123855])\n",
      "ipdb> p n\n",
      "array([0.31995744])\n",
      "ipdb> p h\n",
      "array([0.59995445])\n",
      "ipdb> n\n",
      "> \u001b[1;32mc:\\users\\oujag\\codes\\projects\\brainpy\\docs\\advanced\u001b[0m(53)\u001b[0;36mupdate\u001b[1;34m()\u001b[0m\n",
      "\n",
      "ipdb> n\n",
      "> \u001b[1;32mc:\\users\\oujag\\codes\\projects\\brainpy\\docs\\advanced\u001b[0m(54)\u001b[0;36mupdate\u001b[1;34m()\u001b[0m\n",
      "\n",
      "ipdb> n\n",
      "> \u001b[1;32mc:\\users\\oujag\\codes\\projects\\brainpy\\docs\\advanced\u001b[0m(55)\u001b[0;36mupdate\u001b[1;34m()\u001b[0m\n",
      "\n",
      "ipdb> n\n",
      "> \u001b[1;32mc:\\users\\oujag\\codes\\projects\\brainpy\\docs\\advanced\u001b[0m(56)\u001b[0;36mupdate\u001b[1;34m()\u001b[0m\n",
      "\n",
      "ipdb> n\n",
      "> \u001b[1;32mc:\\users\\oujag\\codes\\projects\\brainpy\\docs\\advanced\u001b[0m(57)\u001b[0;36mupdate\u001b[1;34m()\u001b[0m\n",
      "\n",
      "ipdb> n\n",
      "> \u001b[1;32mc:\\users\\oujag\\codes\\projects\\brainpy\\docs\\advanced\u001b[0m(58)\u001b[0;36mupdate\u001b[1;34m()\u001b[0m\n",
      "\n",
      "ipdb> p ST\n",
      "array([[-6.41827214e+01],\n",
      "       [ 5.12385538e-02],\n",
      "       [ 5.99954448e-01],\n",
      "       [ 3.19957442e-01],\n",
      "       [ 0.00000000e+00],\n",
      "       [ 1.00000000e+01]])\n",
      "ipdb> q\n"
     ]
    },
    {
     "ename": "BdbQuit",
     "evalue": "",
     "output_type": "error",
     "traceback": [
      "\u001b[1;31m---------------------------------------------------------------------------\u001b[0m",
      "\u001b[1;31mBdbQuit\u001b[0m                                   Traceback (most recent call last)",
      "\u001b[1;32m<ipython-input-4-703915fa7809>\u001b[0m in \u001b[0;36m<module>\u001b[1;34m\u001b[0m\n\u001b[0;32m      1\u001b[0m \u001b[0mgroup\u001b[0m \u001b[1;33m=\u001b[0m \u001b[0mbp\u001b[0m\u001b[1;33m.\u001b[0m\u001b[0mNeuGroup\u001b[0m\u001b[1;33m(\u001b[0m\u001b[0mHH\u001b[0m\u001b[1;33m,\u001b[0m \u001b[0mgeometry\u001b[0m\u001b[1;33m=\u001b[0m\u001b[1;36m1\u001b[0m\u001b[1;33m,\u001b[0m \u001b[0mmonitors\u001b[0m\u001b[1;33m=\u001b[0m\u001b[1;33m[\u001b[0m\u001b[1;34m'spike'\u001b[0m\u001b[1;33m]\u001b[0m\u001b[1;33m)\u001b[0m\u001b[1;33m\u001b[0m\u001b[1;33m\u001b[0m\u001b[0m\n\u001b[1;32m----> 2\u001b[1;33m \u001b[0mgroup\u001b[0m\u001b[1;33m.\u001b[0m\u001b[0mrun\u001b[0m\u001b[1;33m(\u001b[0m\u001b[1;36m1000.\u001b[0m\u001b[1;33m,\u001b[0m \u001b[0minputs\u001b[0m\u001b[1;33m=\u001b[0m\u001b[1;33m(\u001b[0m\u001b[1;34m'input'\u001b[0m\u001b[1;33m,\u001b[0m \u001b[1;36m10.\u001b[0m\u001b[1;33m)\u001b[0m\u001b[1;33m)\u001b[0m\u001b[1;33m\u001b[0m\u001b[1;33m\u001b[0m\u001b[0m\n\u001b[0m",
      "\u001b[1;32m~\\codes\\projects\\BrainPy\\brainpy\\core\\base.py\u001b[0m in \u001b[0;36mrun\u001b[1;34m(self, duration, inputs, report, report_percent)\u001b[0m\n\u001b[0;32m    584\u001b[0m         \u001b[1;32melse\u001b[0m\u001b[1;33m:\u001b[0m\u001b[1;33m\u001b[0m\u001b[1;33m\u001b[0m\u001b[0m\n\u001b[0;32m    585\u001b[0m             \u001b[1;32mfor\u001b[0m \u001b[0mrun_idx\u001b[0m \u001b[1;32min\u001b[0m \u001b[0mrange\u001b[0m\u001b[1;33m(\u001b[0m\u001b[0mrun_length\u001b[0m\u001b[1;33m)\u001b[0m\u001b[1;33m:\u001b[0m\u001b[1;33m\u001b[0m\u001b[1;33m\u001b[0m\u001b[0m\n\u001b[1;32m--> 586\u001b[1;33m                 \u001b[0mstep_func\u001b[0m\u001b[1;33m(\u001b[0m\u001b[0m_t\u001b[0m\u001b[1;33m=\u001b[0m\u001b[0mtimes\u001b[0m\u001b[1;33m[\u001b[0m\u001b[0mrun_idx\u001b[0m\u001b[1;33m]\u001b[0m\u001b[1;33m,\u001b[0m \u001b[0m_i\u001b[0m\u001b[1;33m=\u001b[0m\u001b[0mrun_idx\u001b[0m\u001b[1;33m,\u001b[0m \u001b[0m_dt\u001b[0m\u001b[1;33m=\u001b[0m\u001b[0mdt\u001b[0m\u001b[1;33m)\u001b[0m\u001b[1;33m\u001b[0m\u001b[1;33m\u001b[0m\u001b[0m\n\u001b[0m\u001b[0;32m    587\u001b[0m \u001b[1;33m\u001b[0m\u001b[0m\n\u001b[0;32m    588\u001b[0m         \u001b[1;32mif\u001b[0m \u001b[0mprofile\u001b[0m\u001b[1;33m.\u001b[0m\u001b[0mrun_on_gpu\u001b[0m\u001b[1;33m(\u001b[0m\u001b[1;33m)\u001b[0m\u001b[1;33m:\u001b[0m\u001b[1;33m\u001b[0m\u001b[1;33m\u001b[0m\u001b[0m\n",
      "\u001b[1;32m?\u001b[0m in \u001b[0;36mstep_func\u001b[1;34m(_t, _i, _dt)\u001b[0m\n",
      "\u001b[1;32m?\u001b[0m in \u001b[0;36mupdate\u001b[1;34m(ST, _t)\u001b[0m\n",
      "\u001b[1;32m?\u001b[0m in \u001b[0;36mupdate\u001b[1;34m(ST, _t)\u001b[0m\n",
      "\u001b[1;32m~\\Miniconda3\\envs\\py38\\lib\\bdb.py\u001b[0m in \u001b[0;36mtrace_dispatch\u001b[1;34m(self, frame, event, arg)\u001b[0m\n\u001b[0;32m     86\u001b[0m             \u001b[1;32mreturn\u001b[0m \u001b[1;31m# None\u001b[0m\u001b[1;33m\u001b[0m\u001b[1;33m\u001b[0m\u001b[0m\n\u001b[0;32m     87\u001b[0m         \u001b[1;32mif\u001b[0m \u001b[0mevent\u001b[0m \u001b[1;33m==\u001b[0m \u001b[1;34m'line'\u001b[0m\u001b[1;33m:\u001b[0m\u001b[1;33m\u001b[0m\u001b[1;33m\u001b[0m\u001b[0m\n\u001b[1;32m---> 88\u001b[1;33m             \u001b[1;32mreturn\u001b[0m \u001b[0mself\u001b[0m\u001b[1;33m.\u001b[0m\u001b[0mdispatch_line\u001b[0m\u001b[1;33m(\u001b[0m\u001b[0mframe\u001b[0m\u001b[1;33m)\u001b[0m\u001b[1;33m\u001b[0m\u001b[1;33m\u001b[0m\u001b[0m\n\u001b[0m\u001b[0;32m     89\u001b[0m         \u001b[1;32mif\u001b[0m \u001b[0mevent\u001b[0m \u001b[1;33m==\u001b[0m \u001b[1;34m'call'\u001b[0m\u001b[1;33m:\u001b[0m\u001b[1;33m\u001b[0m\u001b[1;33m\u001b[0m\u001b[0m\n\u001b[0;32m     90\u001b[0m             \u001b[1;32mreturn\u001b[0m \u001b[0mself\u001b[0m\u001b[1;33m.\u001b[0m\u001b[0mdispatch_call\u001b[0m\u001b[1;33m(\u001b[0m\u001b[0mframe\u001b[0m\u001b[1;33m,\u001b[0m \u001b[0marg\u001b[0m\u001b[1;33m)\u001b[0m\u001b[1;33m\u001b[0m\u001b[1;33m\u001b[0m\u001b[0m\n",
      "\u001b[1;32m~\\Miniconda3\\envs\\py38\\lib\\bdb.py\u001b[0m in \u001b[0;36mdispatch_line\u001b[1;34m(self, frame)\u001b[0m\n\u001b[0;32m    111\u001b[0m         \u001b[1;32mif\u001b[0m \u001b[0mself\u001b[0m\u001b[1;33m.\u001b[0m\u001b[0mstop_here\u001b[0m\u001b[1;33m(\u001b[0m\u001b[0mframe\u001b[0m\u001b[1;33m)\u001b[0m \u001b[1;32mor\u001b[0m \u001b[0mself\u001b[0m\u001b[1;33m.\u001b[0m\u001b[0mbreak_here\u001b[0m\u001b[1;33m(\u001b[0m\u001b[0mframe\u001b[0m\u001b[1;33m)\u001b[0m\u001b[1;33m:\u001b[0m\u001b[1;33m\u001b[0m\u001b[1;33m\u001b[0m\u001b[0m\n\u001b[0;32m    112\u001b[0m             \u001b[0mself\u001b[0m\u001b[1;33m.\u001b[0m\u001b[0muser_line\u001b[0m\u001b[1;33m(\u001b[0m\u001b[0mframe\u001b[0m\u001b[1;33m)\u001b[0m\u001b[1;33m\u001b[0m\u001b[1;33m\u001b[0m\u001b[0m\n\u001b[1;32m--> 113\u001b[1;33m             \u001b[1;32mif\u001b[0m \u001b[0mself\u001b[0m\u001b[1;33m.\u001b[0m\u001b[0mquitting\u001b[0m\u001b[1;33m:\u001b[0m \u001b[1;32mraise\u001b[0m \u001b[0mBdbQuit\u001b[0m\u001b[1;33m\u001b[0m\u001b[1;33m\u001b[0m\u001b[0m\n\u001b[0m\u001b[0;32m    114\u001b[0m         \u001b[1;32mreturn\u001b[0m \u001b[0mself\u001b[0m\u001b[1;33m.\u001b[0m\u001b[0mtrace_dispatch\u001b[0m\u001b[1;33m\u001b[0m\u001b[1;33m\u001b[0m\u001b[0m\n\u001b[0;32m    115\u001b[0m \u001b[1;33m\u001b[0m\u001b[0m\n",
      "\u001b[1;31mBdbQuit\u001b[0m: "
     ]
    }
   ],
   "source": [
    "group = bp.NeuGroup(HH, geometry=1, monitors=['spike'])\n",
    "group.run(1000., inputs=('input', 10.))"
   ]
  }
 ],
 "metadata": {
  "hide_input": false,
  "kernelspec": {
   "display_name": "Python 3",
   "language": "python",
   "name": "python3"
  },
  "language_info": {
   "codemirror_mode": {
    "name": "ipython",
    "version": 3
   },
   "file_extension": ".py",
   "mimetype": "text/x-python",
   "name": "python",
   "nbconvert_exporter": "python",
   "pygments_lexer": "ipython3",
   "version": "3.8.5"
  },
  "toc": {
   "base_numbering": 1,
   "nav_menu": {},
   "number_sections": false,
   "sideBar": true,
   "skip_h1_title": false,
   "title_cell": "Table of Contents",
   "title_sidebar": "Contents",
   "toc_cell": false,
   "toc_position": {},
   "toc_section_display": true,
   "toc_window_display": false
  },
  "varInspector": {
   "cols": {
    "lenName": 16,
    "lenType": 16,
    "lenVar": 40
   },
   "kernels_config": {
    "python": {
     "delete_cmd_postfix": "",
     "delete_cmd_prefix": "del ",
     "library": "var_list.py",
     "varRefreshCmd": "print(var_dic_list())"
    },
    "r": {
     "delete_cmd_postfix": ") ",
     "delete_cmd_prefix": "rm(",
     "library": "var_list.r",
     "varRefreshCmd": "cat(var_dic_list()) "
    }
   },
   "types_to_exclude": [
    "module",
    "function",
    "builtin_function_or_method",
    "instance",
    "_Feature"
   ],
   "window_display": false
  }
 },
 "nbformat": 4,
 "nbformat_minor": 4
}
