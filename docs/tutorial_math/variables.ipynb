{
 "cells": [
  {
   "cell_type": "markdown",
   "id": "6445f581",
   "metadata": {},
   "source": [
    "# Variables"
   ]
  },
  {
   "cell_type": "markdown",
   "id": "e72cc93b",
   "metadata": {},
   "source": [
    "In BrainPy, the [JIT compilation](../quickstart/jit_compilation.ipynb) for class objects relies on [Variable](../apis/math/generated/brainpy.math.jax.Variable.rst). In this section, we are going to understand:\n",
    "\n",
    "- what is ``Variable``?\n",
    "- the subtypes of ``Variable``?"
   ]
  },
  {
   "cell_type": "code",
   "execution_count": 1,
   "id": "7188b466",
   "metadata": {},
   "outputs": [],
   "source": [
    "import brainpy as bp\n",
    "import brainpy.math as bm"
   ]
  },
  {
   "cell_type": "markdown",
   "id": "53b1704b",
   "metadata": {},
   "source": [
    "## Variable"
   ]
  },
  {
   "cell_type": "markdown",
   "id": "95f7dc2b",
   "metadata": {},
   "source": [
    "``brainpy.math.Variable`` is a pointer refers to a tensor. It stores the value of the tensor. The concrete value in a Variable can be changed. If a tensor is labeled as a Variable, it means that it is a dynamical variable, and its data can be changed. "
   ]
  },
  {
   "cell_type": "markdown",
   "id": "ecb246c1",
   "metadata": {},
   "source": [
    "During the JIT compilation, the tensors which are not marked as Variable will be compiled as static data. The change of the tensor will not work, or cause an error. "
   ]
  },
  {
   "cell_type": "markdown",
   "id": "5c80bdb1",
   "metadata": {},
   "source": [
    "- **Create a Variable**\n",
    "\n",
    "Passing a tensor into the ``brainpy.math.Variable`` creates a Variable, for example:"
   ]
  },
  {
   "cell_type": "code",
   "execution_count": 2,
   "id": "f49aadc4",
   "metadata": {
    "scrolled": true
   },
   "outputs": [
    {
     "data": {
      "text/plain": [
       "(array([0.33133975, 0.12552793, 0.93629203, 0.77514911, 0.22587844]),\n",
       " Variable([0.33133975, 0.12552793, 0.93629203, 0.77514911, 0.22587844]))"
      ]
     },
     "execution_count": 2,
     "metadata": {},
     "output_type": "execute_result"
    }
   ],
   "source": [
    "bm.use_backend('numpy')\n",
    "\n",
    "a1 = bm.random.random(5)\n",
    "a2 = bm.Variable(a1)\n",
    "\n",
    "a1, a2 "
   ]
  },
  {
   "cell_type": "code",
   "execution_count": 3,
   "id": "d9d16723",
   "metadata": {},
   "outputs": [
    {
     "data": {
      "text/plain": [
       "(JaxArray(DeviceArray([0.70530474, 0.99841356, 0.815271  , 0.926391  , 0.84018004],            dtype=float32)),\n",
       " Variable(DeviceArray([0.70530474, 0.99841356, 0.815271  , 0.926391  , 0.84018004],            dtype=float32)))"
      ]
     },
     "execution_count": 3,
     "metadata": {},
     "output_type": "execute_result"
    }
   ],
   "source": [
    "bm.use_backend('jax')\n",
    "\n",
    "b1 = bm.random.random(5)\n",
    "b2 = bm.Variable(b1)\n",
    "\n",
    "b1, b2"
   ]
  },
  {
   "cell_type": "markdown",
   "id": "214010c1",
   "metadata": {},
   "source": [
    "- **Access the value in a Variable**\n",
    "\n",
    "The concrete value of a Variable can be obtained through ``.value``."
   ]
  },
  {
   "cell_type": "code",
   "execution_count": 4,
   "id": "89683079",
   "metadata": {},
   "outputs": [
    {
     "data": {
      "text/plain": [
       "array([0.33133975, 0.12552793, 0.93629203, 0.77514911, 0.22587844])"
      ]
     },
     "execution_count": 4,
     "metadata": {},
     "output_type": "execute_result"
    }
   ],
   "source": [
    "a2.value"
   ]
  },
  {
   "cell_type": "code",
   "execution_count": 5,
   "id": "fd0a3fe8",
   "metadata": {},
   "outputs": [
    {
     "data": {
      "text/plain": [
       "True"
      ]
     },
     "execution_count": 5,
     "metadata": {},
     "output_type": "execute_result"
    }
   ],
   "source": [
    "(a2.value == a1).all()"
   ]
  },
  {
   "cell_type": "code",
   "execution_count": 6,
   "id": "a7c53a9a",
   "metadata": {},
   "outputs": [
    {
     "data": {
      "text/plain": [
       "DeviceArray([0.70530474, 0.99841356, 0.815271  , 0.926391  , 0.84018004],            dtype=float32)"
      ]
     },
     "execution_count": 6,
     "metadata": {},
     "output_type": "execute_result"
    }
   ],
   "source": [
    "b2.value"
   ]
  },
  {
   "cell_type": "code",
   "execution_count": 7,
   "id": "1c6621b7",
   "metadata": {},
   "outputs": [
    {
     "data": {
      "text/plain": [
       "DeviceArray(True, dtype=bool)"
      ]
     },
     "execution_count": 7,
     "metadata": {},
     "output_type": "execute_result"
    }
   ],
   "source": [
    "(b2.value == b1).all()"
   ]
  },
  {
   "cell_type": "markdown",
   "id": "6b5281a9",
   "metadata": {},
   "source": [
    "- **Supported operations on a Variable**\n",
    "\n",
    "A Variable support almost all the operations for a [tensor](./tensors.ipynb). Actually, ``brainpy.math.Variable`` is a subclass of ``brainpy.math.ndarray``. "
   ]
  },
  {
   "cell_type": "code",
   "execution_count": 8,
   "id": "cdcd2c97",
   "metadata": {},
   "outputs": [
    {
     "data": {
      "text/plain": [
       "True"
      ]
     },
     "execution_count": 8,
     "metadata": {},
     "output_type": "execute_result"
    }
   ],
   "source": [
    "isinstance(a2, bp.math.numpy.ndarray)"
   ]
  },
  {
   "cell_type": "code",
   "execution_count": 9,
   "id": "c7b121ae",
   "metadata": {},
   "outputs": [
    {
     "data": {
      "text/plain": [
       "True"
      ]
     },
     "execution_count": 9,
     "metadata": {},
     "output_type": "execute_result"
    }
   ],
   "source": [
    "isinstance(b2, bp.math.jax.ndarray)"
   ]
  },
  {
   "cell_type": "code",
   "execution_count": 10,
   "id": "6c11ce23",
   "metadata": {},
   "outputs": [
    {
     "data": {
      "text/plain": [
       "True"
      ]
     },
     "execution_count": 10,
     "metadata": {},
     "output_type": "execute_result"
    }
   ],
   "source": [
    "isinstance(b2, bp.math.jax.JaxArray)"
   ]
  },
  {
   "cell_type": "code",
   "execution_count": 11,
   "id": "d2861370",
   "metadata": {},
   "outputs": [
    {
     "data": {
      "text/plain": [
       "True"
      ]
     },
     "execution_count": 11,
     "metadata": {},
     "output_type": "execute_result"
    }
   ],
   "source": [
    "# `bp.math.jax.ndarray` is an alias for `bp.math.jax.JaxArray` in 'jax' backend\n",
    "\n",
    "bp.math.jax.ndarray is bp.math.jax.JaxArray"
   ]
  },
  {
   "cell_type": "markdown",
   "id": "2ed84eec",
   "metadata": {},
   "source": [
    "```{note}\n",
    "In 'jax' backend, after performing any operation on a Variable, the resulting value will be a JaxArray (``bp.math.jax.ndarray`` is an alias for ``bp.math.jax.JaxArray`` in 'jax' backend). This means that the Variable can only be used to refer to a value. \n",
    "```"
   ]
  },
  {
   "cell_type": "code",
   "execution_count": 12,
   "id": "0824d649",
   "metadata": {},
   "outputs": [
    {
     "data": {
      "text/plain": [
       "JaxArray(DeviceArray([1.7053047, 1.9984136, 1.815271 , 1.926391 , 1.84018  ], dtype=float32))"
      ]
     },
     "execution_count": 12,
     "metadata": {},
     "output_type": "execute_result"
    }
   ],
   "source": [
    "b2 + 1."
   ]
  },
  {
   "cell_type": "code",
   "execution_count": 13,
   "id": "628fbecc",
   "metadata": {},
   "outputs": [
    {
     "data": {
      "text/plain": [
       "JaxArray(DeviceArray([0.4974548 , 0.9968296 , 0.66466683, 0.8582003 , 0.7059025 ],            dtype=float32))"
      ]
     },
     "execution_count": 13,
     "metadata": {},
     "output_type": "execute_result"
    }
   ],
   "source": [
    "b2 ** 2"
   ]
  },
  {
   "cell_type": "code",
   "execution_count": 14,
   "id": "4bb90bb0",
   "metadata": {},
   "outputs": [
    {
     "data": {
      "text/plain": [
       "JaxArray(DeviceArray([0., 0., 0., 0., 0.], dtype=float32))"
      ]
     },
     "execution_count": 14,
     "metadata": {},
     "output_type": "execute_result"
    }
   ],
   "source": [
    "bp.math.jax.floor(b2)"
   ]
  },
  {
   "cell_type": "markdown",
   "id": "f4432226",
   "metadata": {},
   "source": [
    "- **Subtypes of Variable**\n",
    "\n",
    "``brainpy.math.Variable`` has several subtypes, including ``brainpy.math.TrainVar`` and ``brainpy.math.Parameter``. Subtypes can also be customized and extended by the user. We are going to talk about this."
   ]
  },
  {
   "cell_type": "markdown",
   "id": "ad677bf0",
   "metadata": {},
   "source": [
    "## TrainVar"
   ]
  },
  {
   "cell_type": "markdown",
   "id": "5504c217",
   "metadata": {},
   "source": [
    "``brainpy.math.TrainVar`` is a trainable variable (a subclass of ``brainpy.math.Variable``). Usually, the trainable variables are meant to require their gradients and compute the corresponding update values. However, users can also use TrainVar for other purpose. "
   ]
  },
  {
   "cell_type": "code",
   "execution_count": 15,
   "id": "ba195f50",
   "metadata": {},
   "outputs": [
    {
     "data": {
      "text/plain": [
       "(array([0.81515042, 0.40363449, 0.89924935, 0.29827197]),\n",
       " TrainVar([0.81515042, 0.40363449, 0.89924935, 0.29827197]))"
      ]
     },
     "execution_count": 15,
     "metadata": {},
     "output_type": "execute_result"
    }
   ],
   "source": [
    "bm.use_backend('numpy')\n",
    "\n",
    "a = bm.random.rand(4)\n",
    "\n",
    "a, bm.TrainVar(a)"
   ]
  },
  {
   "cell_type": "code",
   "execution_count": 16,
   "id": "f8357f81",
   "metadata": {},
   "outputs": [
    {
     "data": {
      "text/plain": [
       "(JaxArray(DeviceArray([0.4008    , 0.21182728, 0.9596069 , 0.6859863 ], dtype=float32)),\n",
       " TrainVar(DeviceArray([0.4008    , 0.21182728, 0.9596069 , 0.6859863 ], dtype=float32)))"
      ]
     },
     "execution_count": 16,
     "metadata": {},
     "output_type": "execute_result"
    }
   ],
   "source": [
    "bm.use_backend('jax')\n",
    "\n",
    "b = bm.random.rand(4)\n",
    "\n",
    "b, bm.TrainVar(b)"
   ]
  },
  {
   "cell_type": "markdown",
   "id": "e8284d53",
   "metadata": {},
   "source": [
    "## Parameter"
   ]
  },
  {
   "cell_type": "markdown",
   "id": "96aa1cf9",
   "metadata": {},
   "source": [
    "``brainpy.math.Parameter`` is to label a dynamically changed parameter. It is also a subclass of ``brainpy.math.Variable``. The advantage of using Parameter rather than Variable is that it can be easily retrieved by the ``Collector.subsets`` method (please see [Base class](./base.ipynb))."
   ]
  },
  {
   "cell_type": "code",
   "execution_count": 17,
   "id": "96a827cc",
   "metadata": {},
   "outputs": [
    {
     "data": {
      "text/plain": [
       "(array([0.5776296]), Parameter([0.5776296]))"
      ]
     },
     "execution_count": 17,
     "metadata": {},
     "output_type": "execute_result"
    }
   ],
   "source": [
    "bm.use_backend('numpy')\n",
    "\n",
    "a = bm.random.rand(1)\n",
    "\n",
    "a, bm.Parameter(a)"
   ]
  },
  {
   "cell_type": "code",
   "execution_count": 18,
   "id": "79105af2",
   "metadata": {},
   "outputs": [
    {
     "data": {
      "text/plain": [
       "(JaxArray(DeviceArray([0.61128676], dtype=float32)),\n",
       " Parameter(DeviceArray([0.61128676], dtype=float32)))"
      ]
     },
     "execution_count": 18,
     "metadata": {},
     "output_type": "execute_result"
    }
   ],
   "source": [
    "bm.use_backend('jax')\n",
    "\n",
    "b = bm.random.rand(1)\n",
    "\n",
    "b, bm.Parameter(b)"
   ]
  },
  {
   "cell_type": "markdown",
   "id": "afd5dfaa",
   "metadata": {},
   "source": [
    "## RandomState"
   ]
  },
  {
   "cell_type": "markdown",
   "id": "ba9c30c7",
   "metadata": {},
   "source": [
    "In 'jax' backend, ``brainpy.math.random.RandomState`` is also a subclass of ``brainpy.math.Variable``. This is because the RandomState in 'jax' backend must store the dynamically changed **key** information. Every time after a RandomState performs a random sampling, the \"key\" will change. For example, "
   ]
  },
  {
   "cell_type": "code",
   "execution_count": 19,
   "id": "e2ce1816",
   "metadata": {},
   "outputs": [
    {
     "data": {
      "text/plain": [
       "RandomState(DeviceArray([   0, 1234], dtype=uint32))"
      ]
     },
     "execution_count": 19,
     "metadata": {},
     "output_type": "execute_result"
    }
   ],
   "source": [
    "bm.use_backend('jax')\n",
    "\n",
    "state = bm.random.RandomState(seed=1234)\n",
    "\n",
    "state"
   ]
  },
  {
   "cell_type": "code",
   "execution_count": 20,
   "id": "b3360505",
   "metadata": {},
   "outputs": [
    {
     "data": {
      "text/plain": [
       "RandomState(DeviceArray([2113592192, 1902136347], dtype=uint32))"
      ]
     },
     "execution_count": 20,
     "metadata": {},
     "output_type": "execute_result"
    }
   ],
   "source": [
    "# perform a \"random\" sampling \n",
    "state.random(1)\n",
    "\n",
    "# the value changed\n",
    "state"
   ]
  },
  {
   "cell_type": "code",
   "execution_count": 21,
   "id": "27dfae54",
   "metadata": {},
   "outputs": [
    {
     "data": {
      "text/plain": [
       "RandomState(DeviceArray([1076515368, 3893328283], dtype=uint32))"
      ]
     },
     "execution_count": 21,
     "metadata": {},
     "output_type": "execute_result"
    }
   ],
   "source": [
    "# perform a \"sample\" sampling \n",
    "state.sample(1)\n",
    "\n",
    "# the value changed too\n",
    "state"
   ]
  },
  {
   "cell_type": "markdown",
   "id": "b5bcef7a",
   "metadata": {},
   "source": [
    "Every instance of RandomState can create a new seed from the current seed with ``.split_key()``. "
   ]
  },
  {
   "cell_type": "code",
   "execution_count": 22,
   "id": "ac30eb3d",
   "metadata": {},
   "outputs": [
    {
     "data": {
      "text/plain": [
       "DeviceArray([3028232624,  826525938], dtype=uint32)"
      ]
     },
     "execution_count": 22,
     "metadata": {},
     "output_type": "execute_result"
    }
   ],
   "source": [
    "state.split_key()"
   ]
  },
  {
   "cell_type": "markdown",
   "id": "f9f8f0fb",
   "metadata": {},
   "source": [
    "It can also create multiple seeds from the current seed with ``.split_keys(n)``. This is used internally by [pmap](../apis/math/generated/brainpy.math.jax.pmap.rst) and [vmap](../apis/math/generated/brainpy.math.jax.vmap.rst) to ensure that random numbers are different in parallel threads. "
   ]
  },
  {
   "cell_type": "code",
   "execution_count": 23,
   "id": "fd164f9e",
   "metadata": {},
   "outputs": [
    {
     "data": {
      "text/plain": [
       "DeviceArray([[4198471980, 1111166693],\n",
       "             [1457783592, 2493283834]], dtype=uint32)"
      ]
     },
     "execution_count": 23,
     "metadata": {},
     "output_type": "execute_result"
    }
   ],
   "source": [
    "state.split_keys(2)"
   ]
  },
  {
   "cell_type": "code",
   "execution_count": 24,
   "id": "32b018e1",
   "metadata": {},
   "outputs": [
    {
     "data": {
      "text/plain": [
       "DeviceArray([[3244149147, 2659778815],\n",
       "             [2548793527, 3057026599],\n",
       "             [ 874320145, 4142002431],\n",
       "             [3368470122, 3462971882],\n",
       "             [1756854521, 1662729797]], dtype=uint32)"
      ]
     },
     "execution_count": 24,
     "metadata": {},
     "output_type": "execute_result"
    }
   ],
   "source": [
    "state.split_keys(5)"
   ]
  },
  {
   "cell_type": "markdown",
   "id": "3bd9149a",
   "metadata": {},
   "source": [
    "There is a default RandomState in ``brainpy.math.jax.random`` module: `DEFAULT`. "
   ]
  },
  {
   "cell_type": "code",
   "execution_count": 25,
   "id": "4f13cfae",
   "metadata": {
    "scrolled": true
   },
   "outputs": [
    {
     "data": {
      "text/plain": [
       "RandomState(DeviceArray([2580684476, 2503630841], dtype=uint32))"
      ]
     },
     "execution_count": 25,
     "metadata": {},
     "output_type": "execute_result"
    }
   ],
   "source": [
    "bm.random.DEFAULT"
   ]
  },
  {
   "cell_type": "markdown",
   "id": "75b36c67",
   "metadata": {},
   "source": [
    "The inherent random methods like ``randint()``, ``rand()``, ``shuffle()``, etc. are using this DEFAULT state. If you try to change the default RandomState, please use ``seed()`` method. "
   ]
  },
  {
   "cell_type": "code",
   "execution_count": 26,
   "id": "9c93bdb6",
   "metadata": {},
   "outputs": [
    {
     "data": {
      "text/plain": [
       "RandomState(DeviceArray([     0, 654321], dtype=uint32))"
      ]
     },
     "execution_count": 26,
     "metadata": {},
     "output_type": "execute_result"
    }
   ],
   "source": [
    "bm.random.seed(654321)\n",
    "\n",
    "bm.random.DEFAULT"
   ]
  }
 ],
 "metadata": {
  "kernelspec": {
   "display_name": "Python 3 (ipykernel)",
   "language": "python",
   "name": "python3"
  },
  "language_info": {
   "codemirror_mode": {
    "name": "ipython",
    "version": 3
   },
   "file_extension": ".py",
   "mimetype": "text/x-python",
   "name": "python",
   "nbconvert_exporter": "python",
   "pygments_lexer": "ipython3",
   "version": "3.9.5"
  },
  "latex_envs": {
   "LaTeX_envs_menu_present": true,
   "autoclose": false,
   "autocomplete": true,
   "bibliofile": "biblio.bib",
   "cite_by": "apalike",
   "current_citInitial": 1,
   "eqLabelWithNumbers": true,
   "eqNumInitial": 1,
   "hotkeys": {
    "equation": "Ctrl-E",
    "itemize": "Ctrl-I"
   },
   "labels_anchors": false,
   "latex_user_defs": false,
   "report_style_numbering": false,
   "user_envs_cfg": false
  },
  "toc": {
   "base_numbering": 1,
   "nav_menu": {},
   "number_sections": false,
   "sideBar": true,
   "skip_h1_title": false,
   "title_cell": "Table of Contents",
   "title_sidebar": "Contents",
   "toc_cell": false,
   "toc_position": {},
   "toc_section_display": true,
   "toc_window_display": true
  }
 },
 "nbformat": 4,
 "nbformat_minor": 5
}
