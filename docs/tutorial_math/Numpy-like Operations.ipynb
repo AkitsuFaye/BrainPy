{
 "cells": [
  {
   "cell_type": "markdown",
   "id": "ac35e0b4",
   "metadata": {},
   "source": [
    "# NumPy-like Operations"
   ]
  },
  {
   "cell_type": "markdown",
   "id": "8e856b15",
   "metadata": {},
   "source": [
    "@[Xiaoyu Chen](mailto:c-xy17@tsinghua.org.cn)\n",
    "@[Chaoming Wang](https://github.com/chaoming0625)"
   ]
  },
  {
   "cell_type": "markdown",
   "id": "5ccd2442",
   "metadata": {},
   "source": [
    "## `brainpy.math.array`"
   ]
  },
  {
   "cell_type": "markdown",
   "id": "195e295f",
   "metadata": {},
   "source": [
    "Neural modeling often involves the computation of thousands or even millions of elements and requires large-scale computation. To support this, BrainPy provides a basic data structure `brainpy.math.array` with abundant operations. In fact, the concept of `brainpy.math.array` is the same as `ndarray` in NumPy, and the operations used in BrainPy closely resemble NumPy operations. \n",
    "\n",
    "```{note}\n",
    "Users who are not familiar with the Python package NumPy may refer to [https://numpy.org/](https://numpy.org/) for more information.\n",
    "```"
   ]
  },
  {
   "cell_type": "markdown",
   "id": "5d2fa1cd",
   "metadata": {},
   "source": [
    "## NumPy-like operations for arrays"
   ]
  },
  {
   "cell_type": "markdown",
   "id": "ab12bd3c",
   "metadata": {},
   "source": [
    "For `brainpy.math.array`, BrainPy provides array-related operations that have the same form as NumPy while capable of performing JIT transformations with the help of JAX. Almost all NumPy operations can be used in BrainPy as long as users transform `numpy.xxx` to `brainpy.math.xxx`.\n",
    "\n",
    "Specifically, the NumPy-like operations for `brainpy.math.array` include:\n",
    "\n",
    "1. Creating an array: users can use `bm.array()`， `bm.ones()`， `bm.zeros()`， `bm.arange()`， and so on to create an array.\n",
    "2. Element-wise operations: `+`, `-`, `*`, `/`, ...\n",
    "3. Aggregation functions: `.max()`, `.min()`, `.sum()`, `.mean()`, `.prod()`, ...\n",
    "4. Broadcasting: operating two arrays that have different dimensions (usually a smaller array is broadcast to a larger array with compatible shapes to complete operation).\n",
    "5. Indexing, slicing, and iterating: they are the same operations done on sequence data structures such as lists.\n",
    "6. Other mathematical and logical functions: `bm.sin()`, `bm.cos()`, `bm.sort()`, `bm.argmax()`, `bm.where()`, ..."
   ]
  },
  {
   "cell_type": "code",
   "execution_count": 11,
   "id": "ee870ad4",
   "metadata": {},
   "outputs": [],
   "source": [
    "import brainpy.math as bm\n",
    "\n",
    "bm.set_platform('cpu')"
   ]
  },
  {
   "cell_type": "markdown",
   "id": "01f00053",
   "metadata": {},
   "source": [
    "Here are some examples of array-related operations in BrainPy:"
   ]
  },
  {
   "cell_type": "code",
   "execution_count": 12,
   "id": "d180ee8d",
   "metadata": {},
   "outputs": [
    {
     "data": {
      "text/plain": [
       "Array(value=DeviceArray([[0, 1, 2],\n",
       "                         [3, 4, 5]]),\n",
       "      dtype=int32)"
      ]
     },
     "execution_count": 12,
     "metadata": {},
     "output_type": "execute_result"
    }
   ],
   "source": [
    "# to create an array\n",
    "a1 = bm.array([[0, 1, 2], [3, 4, 5]])\n",
    "a1"
   ]
  },
  {
   "cell_type": "code",
   "execution_count": 13,
   "id": "bfbcfa02",
   "metadata": {},
   "outputs": [
    {
     "data": {
      "text/plain": [
       "Array(value=DeviceArray([[1, 2, 3],\n",
       "                         [4, 5, 6]]),\n",
       "      dtype=int32)"
      ]
     },
     "execution_count": 13,
     "metadata": {},
     "output_type": "execute_result"
    }
   ],
   "source": [
    "# element-wise operation\n",
    "a1 += 1\n",
    "a1"
   ]
  },
  {
   "cell_type": "code",
   "execution_count": 14,
   "id": "bbe6fff9",
   "metadata": {},
   "outputs": [
    {
     "data": {
      "text/plain": [
       "Array(value=DeviceArray([1., 1., 1.]), dtype=float32)"
      ]
     },
     "execution_count": 14,
     "metadata": {},
     "output_type": "execute_result"
    }
   ],
   "source": [
    "a2 = bm.ones(3)\n",
    "a2"
   ]
  },
  {
   "cell_type": "code",
   "execution_count": 15,
   "id": "bdfae8f6",
   "metadata": {},
   "outputs": [
    {
     "data": {
      "text/plain": [
       "Array(value=DeviceArray([10., 10.,  1.]), dtype=float32)"
      ]
     },
     "execution_count": 15,
     "metadata": {},
     "output_type": "execute_result"
    }
   ],
   "source": [
    "# slicing\n",
    "a2[0:2] = 10\n",
    "a2"
   ]
  },
  {
   "cell_type": "code",
   "execution_count": 16,
   "id": "9a470aea",
   "metadata": {},
   "outputs": [
    {
     "data": {
      "text/plain": [
       "Array(value=DeviceArray([[11., 12.,  4.],\n",
       "                         [14., 15.,  7.]]),\n",
       "      dtype=float32)"
      ]
     },
     "execution_count": 16,
     "metadata": {},
     "output_type": "execute_result"
    }
   ],
   "source": [
    "# broadcasting\n",
    "a3 = a1 + a2\n",
    "a3"
   ]
  },
  {
   "cell_type": "code",
   "execution_count": 17,
   "id": "13d4609f",
   "metadata": {},
   "outputs": [
    {
     "data": {
      "text/plain": [
       "Array(value=DeviceArray([[ 4., 11., 12.],\n",
       "                         [ 7., 14., 15.]]),\n",
       "      dtype=float32)"
      ]
     },
     "execution_count": 17,
     "metadata": {},
     "output_type": "execute_result"
    }
   ],
   "source": [
    "# sorting\n",
    "bm.sort(a3)"
   ]
  },
  {
   "cell_type": "code",
   "execution_count": 18,
   "id": "e1af1f2a",
   "metadata": {},
   "outputs": [
    {
     "data": {
      "text/plain": [
       "Array(value=DeviceArray([[1],\n",
       "                         [2],\n",
       "                         [3],\n",
       "                         [4],\n",
       "                         [5],\n",
       "                         [6]]),\n",
       "      dtype=int32)"
      ]
     },
     "execution_count": 18,
     "metadata": {},
     "output_type": "execute_result"
    }
   ],
   "source": [
    "# reshaping\n",
    "a4 = a1.reshape(6, -1)\n",
    "a4"
   ]
  },
  {
   "cell_type": "markdown",
   "id": "2535f8ed",
   "metadata": {},
   "source": [
    "Besides all the operations mentioned above, BrainPy also offers NumPy-like random functions that are different from JAX. To enable random functions in JIT compilation, JAX requires users to pass an explicit key to define a random state, which is different from NumPy. Here is an example for random number generation in JAX:"
   ]
  },
  {
   "cell_type": "code",
   "execution_count": 23,
   "id": "1b781ee4",
   "metadata": {},
   "outputs": [
    {
     "data": {
      "text/plain": [
       "(DeviceArray(0.41845703, dtype=float32),\n",
       " DeviceArray(0.41845703, dtype=float32))"
      ]
     },
     "execution_count": 23,
     "metadata": {},
     "output_type": "execute_result"
    }
   ],
   "source": [
    "from jax import random\n",
    "\n",
    "key = random.PRNGKey(0)  # define a key explicitly\n",
    "r1 = random.uniform(key)  # a random number generated from a uniform distribution\n",
    "r2 = random.uniform(key)  # reusing the same key leads to the same result\n",
    "r1, r2"
   ]
  },
  {
   "cell_type": "markdown",
   "id": "ddaf0089",
   "metadata": {},
   "source": [
    "In BrainPy, however, users can use random functions in the same way as in NumPy, but with an extraordinary speed comparable to JAX:"
   ]
  },
  {
   "cell_type": "code",
   "execution_count": 29,
   "id": "700a6610",
   "metadata": {},
   "outputs": [
    {
     "data": {
      "text/plain": [
       "(DeviceArray(0.9309926, dtype=float32),\n",
       " DeviceArray(0.11815023, dtype=float32),\n",
       " DeviceArray(0.11815023, dtype=float32))"
      ]
     },
     "execution_count": 29,
     "metadata": {},
     "output_type": "execute_result"
    }
   ],
   "source": [
    "r3 = bm.random.uniform()\n",
    "r4 = bm.random.uniform(key=1)  # users can also assign an explicit key to generate a constant result\n",
    "r5 = bm.random.uniform(key=1)\n",
    "r3, r4, r5"
   ]
  },
  {
   "cell_type": "markdown",
   "id": "d7aec642",
   "metadata": {},
   "source": [
    "Users can also generate a random array using random functions in BrainPy:"
   ]
  },
  {
   "cell_type": "code",
   "execution_count": 34,
   "id": "2ee263d5",
   "metadata": {},
   "outputs": [
    {
     "data": {
      "text/plain": [
       "Array(value=DeviceArray([[0.33878195, 0.6672709 , 0.37249923],\n",
       "                         [0.4169147 , 0.7702857 , 0.28928375],\n",
       "                         [0.23907256, 0.08634043, 0.11700511],\n",
       "                         [0.37935913, 0.6523317 , 0.15176404],\n",
       "                         [0.6398171 , 0.7524489 , 0.18694246]]),\n",
       "      dtype=float32)"
      ]
     },
     "execution_count": 34,
     "metadata": {},
     "output_type": "execute_result"
    }
   ],
   "source": [
    "bm.random.random((5, 3))  # to generate random floats number in the interval [0.0, 1.0)"
   ]
  },
  {
   "cell_type": "markdown",
   "id": "d6c4a6f3",
   "metadata": {},
   "source": [
    "For all array-related operations, please refer to the [`brianpy.math` module](../apis/auto/math.html)."
   ]
  },
  {
   "cell_type": "markdown",
   "id": "27865417",
   "metadata": {},
   "source": [
    "## When to use `brainpy.math.array`?"
   ]
  },
  {
   "cell_type": "markdown",
   "id": "897b32b7",
   "metadata": {},
   "source": [
    "Simply speaking, users can use `brainpy.math.array` whenever array computation is involved in JIT compilation. While JIT compilation speeds up code execution, it also brings some limitations. Once an array is given to the JIT compiler, the values inside the array cannot be changed. This means `brainpy.math.array` can only be used to store values that do not change over time. Static neural properties such as the membrane capacitance, the voltage threshold, and the time constant of a neuron population, and static synaptic connections between neurons are good candidates to be defined as arrays (or a unified single value).\n",
    "\n",
    "To extend arrays to store changing values, BrainPy offers a new data structure named ``brainpy.math.Variable``. More details about Variables can be found in [`Variable` and `BrainPbject`](variables.ipynb)."
   ]
  },
  {
   "cell_type": "code",
   "execution_count": null,
   "id": "2b395ef1",
   "metadata": {},
   "outputs": [],
   "source": []
  }
 ],
 "metadata": {
  "kernelspec": {
   "display_name": "Python 3 (ipykernel)",
   "language": "python",
   "name": "python3"
  },
  "language_info": {
   "codemirror_mode": {
    "name": "ipython",
    "version": 3
   },
   "file_extension": ".py",
   "mimetype": "text/x-python",
   "name": "python",
   "nbconvert_exporter": "python",
   "pygments_lexer": "ipython3",
   "version": "3.9.13"
  }
 },
 "nbformat": 4,
 "nbformat_minor": 5
}
