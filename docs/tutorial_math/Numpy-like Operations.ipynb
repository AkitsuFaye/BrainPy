{
 "cells": [
  {
   "cell_type": "markdown",
   "id": "ac35e0b4",
   "metadata": {},
   "source": [
    "# NumPy-like Operations"
   ]
  },
  {
   "cell_type": "markdown",
   "id": "8e856b15",
   "metadata": {},
   "source": [
    "@[Xiaoyu Chen](mailto:c-xy17@tsinghua.org.cn)\n",
    "@[Chaoming Wang](https://github.com/chaoming0625)"
   ]
  },
  {
   "cell_type": "markdown",
   "id": "5ccd2442",
   "metadata": {},
   "source": [
    "## `brainpy.math.array` and `brainpy.math.Variable`"
   ]
  },
  {
   "cell_type": "markdown",
   "id": "195e295f",
   "metadata": {},
   "source": [
    "Neural modeling often involves the computation of thousands or even millions of elements and requires large-scale computation. To support this, BrainPy provides a basic data structure `brainpy.math.array` with abundant operations. In fact, the concept of `brainpy.math.array` is the same as `ndarray` in NumPy, and the operations used in BrainPy closely resemble NumPy operations. \n",
    "\n",
    "```{note}\n",
    "Users who are not familiar with the Python package NumPy may refer to [https://numpy.org/](https://numpy.org/) for more information.\n",
    "```\n",
    "\n",
    "Due to JIT compilation, however, once a array is given to the JIT compiler, the values inside the array cannot be changed. This gives rise to severe limitations because some dynamically changing variables like membrane potentials cannot be stored in `brainpy.math.array`. To extend arrays to store changing values, BrainPy offers a new data structure named ``brainpy.math.Variable``.\n",
    "\n",
    "Simply speaking, ``brainpy.math.Variable`` is a pointer referring to an array. If an array is wrapped into a Variable, its value can change over time. For more information about ``brainpy.math.Variable``, please refer to [`Variable` and `BrainPbject`](variables.ipynb)."
   ]
  },
  {
   "cell_type": "markdown",
   "id": "5d2fa1cd",
   "metadata": {},
   "source": [
    "## NumPy-like operations for arrays and variables"
   ]
  },
  {
   "cell_type": "markdown",
   "id": "ab12bd3c",
   "metadata": {},
   "source": [
    "For `brainpy.math.array`, BrainPy provides array-related operations that have the same form as NumPy while capable of performing JIT transformations. Almost all NumPy operations can be used in BrainPy as long as users transform `numpy.xxx` to `brainpy.math.xxx`.\n",
    "\n",
    "Specifically, the NumPy-like operations for `brainpy.math.array` include:\n",
    "\n",
    "1. Creating an array: users can use `bm.array()`， `bm.ones()`， `bm.zeros()`， `bm.arange()`， and so on to create an array.\n",
    "2. Element-wise operations: `+`, `-`, `*`, `/`, ...\n",
    "3. Aggregation functions: `.max()`, `.min()`, `.sum()`, `.mean()`, `.prod()`, ...\n",
    "4. Broadcasting: operating two arrays that have different dimensions (usually a smaller array is broadcast to a larger array with compatible shapes to complete operation).\n",
    "5. Indexing, slicing, and iterating: they are the same operations done on sequence data structures such as lists.\n",
    "6. Other mathematical and logical functions: `bm.sin()`, `bm.cos()`, `bm.sort()`, `bm.argmax()`, `bm.where()`, ..."
   ]
  },
  {
   "cell_type": "code",
   "execution_count": 31,
   "id": "ee870ad4",
   "metadata": {},
   "outputs": [],
   "source": [
    "import brainpy.math as bm\n",
    "\n",
    "bm.set_platform('cpu')"
   ]
  },
  {
   "cell_type": "markdown",
   "id": "01f00053",
   "metadata": {},
   "source": [
    "Here are some examples of array-related operations in BrainPy:"
   ]
  },
  {
   "cell_type": "code",
   "execution_count": 32,
   "id": "d180ee8d",
   "metadata": {},
   "outputs": [
    {
     "data": {
      "text/plain": [
       "Array(value=DeviceArray([[0, 1, 2],\n",
       "                         [3, 4, 5]]),\n",
       "      dtype=int32)"
      ]
     },
     "execution_count": 32,
     "metadata": {},
     "output_type": "execute_result"
    }
   ],
   "source": [
    "# to create an array\n",
    "a1 = bm.array([[0, 1, 2], [3, 4, 5]])\n",
    "a1"
   ]
  },
  {
   "cell_type": "code",
   "execution_count": 33,
   "id": "bfbcfa02",
   "metadata": {},
   "outputs": [
    {
     "data": {
      "text/plain": [
       "Array(value=DeviceArray([[1, 2, 3],\n",
       "                         [4, 5, 6]]),\n",
       "      dtype=int32)"
      ]
     },
     "execution_count": 33,
     "metadata": {},
     "output_type": "execute_result"
    }
   ],
   "source": [
    "# element-wise operation\n",
    "a1 += 1\n",
    "a1"
   ]
  },
  {
   "cell_type": "code",
   "execution_count": 34,
   "id": "bbe6fff9",
   "metadata": {},
   "outputs": [
    {
     "data": {
      "text/plain": [
       "Array(value=DeviceArray([1., 1., 1.]), dtype=float32)"
      ]
     },
     "execution_count": 34,
     "metadata": {},
     "output_type": "execute_result"
    }
   ],
   "source": [
    "a2 = bm.ones(3)\n",
    "a2"
   ]
  },
  {
   "cell_type": "code",
   "execution_count": 35,
   "id": "bdfae8f6",
   "metadata": {},
   "outputs": [
    {
     "data": {
      "text/plain": [
       "Array(value=DeviceArray([10., 10.,  1.]), dtype=float32)"
      ]
     },
     "execution_count": 35,
     "metadata": {},
     "output_type": "execute_result"
    }
   ],
   "source": [
    "# slicing\n",
    "a2[0:2] = 10\n",
    "a2"
   ]
  },
  {
   "cell_type": "code",
   "execution_count": 36,
   "id": "9a470aea",
   "metadata": {},
   "outputs": [
    {
     "data": {
      "text/plain": [
       "Array(value=DeviceArray([[11., 12.,  4.],\n",
       "                         [14., 15.,  7.]]),\n",
       "      dtype=float32)"
      ]
     },
     "execution_count": 36,
     "metadata": {},
     "output_type": "execute_result"
    }
   ],
   "source": [
    "# broadcasting\n",
    "a3 = a1 + a2\n",
    "a3"
   ]
  },
  {
   "cell_type": "code",
   "execution_count": 37,
   "id": "13d4609f",
   "metadata": {},
   "outputs": [
    {
     "data": {
      "text/plain": [
       "Array(value=DeviceArray([[ 4., 11., 12.],\n",
       "                         [ 7., 14., 15.]]),\n",
       "      dtype=float32)"
      ]
     },
     "execution_count": 37,
     "metadata": {},
     "output_type": "execute_result"
    }
   ],
   "source": [
    "# sorting\n",
    "bm.sort(a3)"
   ]
  },
  {
   "cell_type": "code",
   "execution_count": 38,
   "id": "e1af1f2a",
   "metadata": {},
   "outputs": [
    {
     "data": {
      "text/plain": [
       "Array(value=DeviceArray([[1],\n",
       "                         [2],\n",
       "                         [3],\n",
       "                         [4],\n",
       "                         [5],\n",
       "                         [6]]),\n",
       "      dtype=int32)"
      ]
     },
     "execution_count": 38,
     "metadata": {},
     "output_type": "execute_result"
    }
   ],
   "source": [
    "# reshaping\n",
    "a4 = a.reshape(6, -1)\n",
    "a4"
   ]
  },
  {
   "cell_type": "markdown",
   "id": "5e97479a",
   "metadata": {},
   "source": [
    "For `brainpy.math.Variable`, since the data inside a Variable is an array, many operations on arrays can be used on Variables as well. Nevertheless, there are some requirements for updating a Variable. For example, directly changing the value of a Variable will return an array but not a Variable:"
   ]
  },
  {
   "cell_type": "code",
   "execution_count": 39,
   "id": "deaab568",
   "metadata": {},
   "outputs": [
    {
     "data": {
      "text/plain": [
       "Variable(value=DeviceArray([[1, 2, 3],\n",
       "                            [4, 5, 6]]),\n",
       "         dtype=int32)"
      ]
     },
     "execution_count": 39,
     "metadata": {},
     "output_type": "execute_result"
    }
   ],
   "source": [
    "v1 = bm.Variable(a1)\n",
    "v1"
   ]
  },
  {
   "cell_type": "code",
   "execution_count": 40,
   "id": "e7b732c4",
   "metadata": {},
   "outputs": [
    {
     "data": {
      "text/plain": [
       "Array(value=DeviceArray([[2, 3, 4],\n",
       "                         [5, 6, 7]]),\n",
       "      dtype=int32)"
      ]
     },
     "execution_count": 40,
     "metadata": {},
     "output_type": "execute_result"
    }
   ],
   "source": [
    "# Directly changing the value of a Variable will return an array but not a Variable\n",
    "v1 = v1 + 1\n",
    "v1"
   ]
  },
  {
   "cell_type": "markdown",
   "id": "db5e5d6c",
   "metadata": {},
   "source": [
    "Though the value of the variable has changed in this example, similar operations will fail on JIT compilation. This is because the JIT compiler does not allow an array to be assigned with a new value. To update a Variable, users need to use **in-place updating**. Detailed instructions are contained in [`Variable` and `BrainPbject`](variables.ipynb)."
   ]
  },
  {
   "cell_type": "markdown",
   "id": "27865417",
   "metadata": {},
   "source": [
    "## When to use `brainpy.math.array` and `brainpy.math.Variable`?"
   ]
  },
  {
   "cell_type": "markdown",
   "id": "83bb80c7",
   "metadata": {},
   "source": [
    "Whether to use `brainpy.math.array` or `brainpy.math.Variable` depends on whether the values inside the array change when the code is running. Common neural features like the membrane potential and the gating variables of voltage-dependent ion channels should be defined as Variables, while static properties such as the membrane capacitance, the voltage threshold, and static synaptic connections should be defined as arrays (or a unified single value)."
   ]
  },
  {
   "cell_type": "code",
   "execution_count": null,
   "id": "4fcc53c9",
   "metadata": {},
   "outputs": [],
   "source": []
  }
 ],
 "metadata": {
  "kernelspec": {
   "display_name": "Python 3 (ipykernel)",
   "language": "python",
   "name": "python3"
  },
  "language_info": {
   "codemirror_mode": {
    "name": "ipython",
    "version": 3
   },
   "file_extension": ".py",
   "mimetype": "text/x-python",
   "name": "python",
   "nbconvert_exporter": "python",
   "pygments_lexer": "ipython3",
   "version": "3.9.13"
  }
 },
 "nbformat": 4,
 "nbformat_minor": 5
}
