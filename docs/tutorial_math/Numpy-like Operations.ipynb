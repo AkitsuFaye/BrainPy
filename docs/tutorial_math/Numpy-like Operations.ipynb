{
 "cells": [
  {
   "cell_type": "markdown",
   "id": "ac35e0b4",
   "metadata": {},
   "source": [
    "# Numpy-like Operations"
   ]
  },
  {
   "cell_type": "markdown",
   "id": "8e856b15",
   "metadata": {},
   "source": [
    "@[Xiaoyu Chen](mailto:c-xy17@tsinghua.org.cn)\n",
    "@[Chaoming Wang](https://github.com/chaoming0625)"
   ]
  },
  {
   "cell_type": "markdown",
   "id": "195e295f",
   "metadata": {},
   "source": [
    "Neural modeling often involves the computation of thousands or even millions of elements and requires large-scale computation. To support this, BrainPy provides a basic data structure `brainpy.math.array` with abundant operations. In fact, the concept of `brainpy.math.array` is the same as `ndarray` in NumPy, and the operations used in BrainPy closely resemble NumPy operations. \n",
    "\n",
    "```{note}\n",
    "Users who are not familiar with the Python package NumPy may refer to [https://numpy.org/](https://numpy.org/) for more information.\n",
    "```"
   ]
  },
  {
   "cell_type": "code",
   "execution_count": 3,
   "id": "ee870ad4",
   "metadata": {},
   "outputs": [],
   "source": [
    "import brainpy.math as bm\n",
    "\n",
    "bm.set_platform('cpu')"
   ]
  },
  {
   "cell_type": "markdown",
   "id": "01f00053",
   "metadata": {},
   "source": [
    "To create an array, users can use several numpy-like operations such as `bm.array()`， `bm.ones()`， `bm.zeros()`， `bm.arange()`， and so on."
   ]
  },
  {
   "cell_type": "code",
   "execution_count": 4,
   "id": "d180ee8d",
   "metadata": {},
   "outputs": [
    {
     "data": {
      "text/plain": [
       "Array([[0, 1, 2],\n",
       "       [3, 4, 5]], dtype=int32)"
      ]
     },
     "execution_count": 4,
     "metadata": {},
     "output_type": "execute_result"
    }
   ],
   "source": [
    "bm.array([[0, 1, 2], [3, 4, 5]])"
   ]
  },
  {
   "cell_type": "code",
   "execution_count": null,
   "id": "bfbcfa02",
   "metadata": {},
   "outputs": [],
   "source": []
  }
 ],
 "metadata": {
  "kernelspec": {
   "display_name": "Python 3 (ipykernel)",
   "language": "python",
   "name": "python3"
  },
  "language_info": {
   "codemirror_mode": {
    "name": "ipython",
    "version": 3
   },
   "file_extension": ".py",
   "mimetype": "text/x-python",
   "name": "python",
   "nbconvert_exporter": "python",
   "pygments_lexer": "ipython3",
   "version": "3.9.13"
  }
 },
 "nbformat": 4,
 "nbformat_minor": 5
}
