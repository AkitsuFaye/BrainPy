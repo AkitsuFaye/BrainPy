{
 "cells": [
  {
   "cell_type": "markdown",
   "id": "02e49b8f",
   "metadata": {},
   "source": [
    "# Dedicated Operations"
   ]
  },
  {
   "cell_type": "markdown",
   "id": "a4bcbd04",
   "metadata": {},
   "source": [
    "@[Xiaoyu Chen](mailto:c-xy17@tsinghua.org.cn)"
   ]
  },
  {
   "cell_type": "code",
   "execution_count": 29,
   "id": "a2b0b2b4",
   "metadata": {},
   "outputs": [],
   "source": [
    "import brainpy as bp\n",
    "import brainpy.math as bm\n",
    "\n",
    "bm.set_platform('cpu')"
   ]
  },
  {
   "cell_type": "code",
   "execution_count": 30,
   "id": "bed675e1",
   "metadata": {},
   "outputs": [],
   "source": [
    "data = bm.arange(8).astype(float)\n",
    "indices = bm.array([3, 5, 7, 0, 2, 4, 6, 1])\n",
    "indptr = bm.array([0, 3, 7, 8])"
   ]
  },
  {
   "cell_type": "code",
   "execution_count": 35,
   "id": "8b244a56",
   "metadata": {},
   "outputs": [],
   "source": [
    "event = bm.array([1, 1, 0]).astype(float)"
   ]
  },
  {
   "cell_type": "code",
   "execution_count": 36,
   "id": "ce6fd5b0",
   "metadata": {},
   "outputs": [
    {
     "data": {
      "text/plain": [
       "DeviceArray([3., 0., 4., 0., 5., 1., 6., 2.], dtype=float32)"
      ]
     },
     "execution_count": 36,
     "metadata": {},
     "output_type": "execute_result"
    }
   ],
   "source": [
    "bm.csr_matvec(data, indices, indptr, event, shape=(3, 8), transpose=True)"
   ]
  },
  {
   "cell_type": "code",
   "execution_count": 37,
   "id": "d08121b0",
   "metadata": {},
   "outputs": [
    {
     "data": {
      "text/plain": [
       "DeviceArray([3., 0., 4., 0., 5., 1., 6., 2.], dtype=float32)"
      ]
     },
     "execution_count": 37,
     "metadata": {},
     "output_type": "execute_result"
    }
   ],
   "source": [
    "bm.pre2post_event_sum(event, (indices, indptr), post_num=8, values=data)"
   ]
  },
  {
   "cell_type": "code",
   "execution_count": null,
   "id": "b9a017ad",
   "metadata": {},
   "outputs": [],
   "source": []
  }
 ],
 "metadata": {
  "kernelspec": {
   "display_name": "Python 3 (ipykernel)",
   "language": "python",
   "name": "python3"
  },
  "language_info": {
   "codemirror_mode": {
    "name": "ipython",
    "version": 3
   },
   "file_extension": ".py",
   "mimetype": "text/x-python",
   "name": "python",
   "nbconvert_exporter": "python",
   "pygments_lexer": "ipython3",
   "version": "3.9.13"
  }
 },
 "nbformat": 4,
 "nbformat_minor": 5
}
