{
 "cells": [
  {
   "cell_type": "markdown",
   "id": "02e49b8f",
   "metadata": {},
   "source": [
    "# Dedicated Operators"
   ]
  },
  {
   "cell_type": "markdown",
   "id": "a4bcbd04",
   "metadata": {},
   "source": [
    "@[Xiaoyu Chen](mailto:c-xy17@tsinghua.org.cn)"
   ]
  },
  {
   "cell_type": "code",
   "execution_count": null,
   "id": "0189ff4c",
   "metadata": {},
   "outputs": [],
   "source": []
  },
  {
   "cell_type": "code",
   "execution_count": 36,
   "id": "a2b0b2b4",
   "metadata": {},
   "outputs": [],
   "source": [
    "import brainpy as bp\n",
    "import brainpy.math as bm\n",
    "\n",
    "bm.set_platform('cpu')"
   ]
  },
  {
   "cell_type": "code",
   "execution_count": 45,
   "id": "bed675e1",
   "metadata": {},
   "outputs": [],
   "source": [
    "data = (bm.arange(7) + 1).astype(float)\n",
    "indices = bm.array([2, 3, 4, 0, 2, 4, 1])\n",
    "indptr = bm.array([0, 3, 6, 7])"
   ]
  },
  {
   "cell_type": "code",
   "execution_count": 46,
   "id": "8b244a56",
   "metadata": {},
   "outputs": [],
   "source": [
    "event = bm.array([True, True, False])"
   ]
  },
  {
   "cell_type": "code",
   "execution_count": 47,
   "id": "ce6fd5b0",
   "metadata": {},
   "outputs": [
    {
     "data": {
      "text/plain": [
       "DeviceArray([4., 0., 6., 2., 9.], dtype=float32)"
      ]
     },
     "execution_count": 47,
     "metadata": {},
     "output_type": "execute_result"
    }
   ],
   "source": [
    "bm.event.csrmv(data, indices, indptr, event, shape=(3, 5), transpose=True)"
   ]
  },
  {
   "cell_type": "code",
   "execution_count": 51,
   "id": "d08121b0",
   "metadata": {},
   "outputs": [
    {
     "data": {
      "text/plain": [
       "DeviceArray([4., 0., 6., 2., 9.], dtype=float32)"
      ]
     },
     "execution_count": 51,
     "metadata": {},
     "output_type": "execute_result"
    }
   ],
   "source": [
    "bm.pre2post_event_sum(event, (indices, indptr), post_num=5, values=data)"
   ]
  },
  {
   "cell_type": "code",
   "execution_count": 54,
   "id": "6c1fd3ca",
   "metadata": {},
   "outputs": [
    {
     "name": "stdout",
     "output_type": "stream",
     "text": [
      "time spent: 0.17084040000008827 s\n"
     ]
    }
   ],
   "source": [
    "from timeit import default_timer\n",
    "\n",
    "pre_num = post_num = 100000\n",
    "\n",
    "data = bm.arange(pre_num)\n",
    "indices = bm.arange(pre_num)\n",
    "indptr = bm.arange(pre_num + 1)\n",
    "\n",
    "event = bm.random.bernoulli(p=0.25, size=pre_num)\n",
    "\n",
    "start = default_timer()\n",
    "\n",
    "post = bm.pre2post_event_sum(event, (indices, indptr), post_num=post_num, values=data)\n",
    "\n",
    "duration = default_timer() - start\n",
    "\n",
    "print('time spent: {} s'.format(duration))"
   ]
  },
  {
   "cell_type": "code",
   "execution_count": 55,
   "id": "1bf26eaa",
   "metadata": {},
   "outputs": [
    {
     "name": "stdout",
     "output_type": "stream",
     "text": [
      "time spent: 0.0011178999998264771 s\n"
     ]
    }
   ],
   "source": [
    "start = default_timer()\n",
    "\n",
    "post = bm.event.csrmv(data, indices, indptr, event, shape=(pre_num, pre_num), transpose=True)\n",
    "\n",
    "duration = default_timer() - start\n",
    "\n",
    "print('time spent: {} s'.format(duration))"
   ]
  },
  {
   "cell_type": "markdown",
   "id": "7a2b6ae7",
   "metadata": {},
   "source": [
    "## Fast computation of synaptic transmission with specific connection patterns"
   ]
  },
  {
   "cell_type": "markdown",
   "id": "6a63c51b",
   "metadata": {},
   "source": []
  },
  {
   "cell_type": "code",
   "execution_count": 33,
   "id": "b9a017ad",
   "metadata": {},
   "outputs": [
    {
     "name": "stdout",
     "output_type": "stream",
     "text": [
      "time spent: 4.293853899999931 s\n"
     ]
    }
   ],
   "source": [
    "pre_num, post_num = 50000, 10000\n",
    "weight = 1.\n",
    "pre_event = bm.random.bernoulli(p=0.2, size=pre_num)\n",
    "conn_prob = 0.1\n",
    "\n",
    "start = default_timer()\n",
    "\n",
    "# generate the connection matrix\n",
    "conn = bp.connect.FixedProb(prob=conn_prob)(pre_num, post_num)\n",
    "conn_matrix = conn.require('conn_mat')\n",
    "\n",
    "# compute the product\n",
    "post = bm.matmul(pre_event, weight * conn_matrix)\n",
    "\n",
    "duration = default_timer() - start\n",
    "\n",
    "print('time spent: {} s'.format(duration))"
   ]
  },
  {
   "cell_type": "code",
   "execution_count": 34,
   "id": "713842fd",
   "metadata": {},
   "outputs": [
    {
     "name": "stdout",
     "output_type": "stream",
     "text": [
      "time spent: 3.794358599999896 s\n"
     ]
    }
   ],
   "source": [
    "start = default_timer()\n",
    "\n",
    "# generate the connection with the pre2post structure\n",
    "conn = bp.connect.FixedProb(prob=conn_prob)(pre_num, post_num)\n",
    "pre2post = conn.require('pre2post')\n",
    "\n",
    "# compute the event-driven synaptic summation\n",
    "post = bm.pre2post_event_sum(pre_event, pre2post=pre2post, post_num=post_num, values=weight)\n",
    "\n",
    "duration = default_timer() - start\n",
    "\n",
    "print('time spent: {} s'.format(duration))"
   ]
  },
  {
   "cell_type": "code",
   "execution_count": 49,
   "id": "57c8c53f",
   "metadata": {},
   "outputs": [
    {
     "name": "stdout",
     "output_type": "stream",
     "text": [
      "time spent: 0.3703867000001537 s\n"
     ]
    }
   ],
   "source": [
    "start = default_timer()\n",
    "\n",
    "# the connection is generated during computation, \n",
    "# so the entire connection information is not required to be stored or accessed\n",
    "# post = bm.event_matvec_prob_conn_homo_weight(pre_event, weight=weight, conn_prob=conn_prob, \n",
    "#                                              shape=(pre_num, post_num), transpose=True)\n",
    "bm.jitconn.event_mv_prob_homo(pre_event, weight=weight, conn_prob=conn_prob, \n",
    "                              shape=(pre_num, post_num), transpose=True)\n",
    "\n",
    "duration = default_timer() - start\n",
    "\n",
    "print('time spent: {} s'.format(duration))"
   ]
  },
  {
   "cell_type": "code",
   "execution_count": null,
   "id": "0dc5373e",
   "metadata": {},
   "outputs": [],
   "source": []
  }
 ],
 "metadata": {
  "kernelspec": {
   "display_name": "Python 3 (ipykernel)",
   "language": "python",
   "name": "python3"
  },
  "language_info": {
   "codemirror_mode": {
    "name": "ipython",
    "version": 3
   },
   "file_extension": ".py",
   "mimetype": "text/x-python",
   "name": "python",
   "nbconvert_exporter": "python",
   "pygments_lexer": "ipython3",
   "version": "3.9.13"
  }
 },
 "nbformat": 4,
 "nbformat_minor": 5
}
