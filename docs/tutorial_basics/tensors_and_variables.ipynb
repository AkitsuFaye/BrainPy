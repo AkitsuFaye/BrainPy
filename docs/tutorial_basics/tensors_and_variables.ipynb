{
 "cells": [
  {
   "cell_type": "markdown",
   "id": "e32b5d37",
   "metadata": {},
   "source": [
    "# Tensors and Variables"
   ]
  },
  {
   "cell_type": "markdown",
   "id": "e9be090e",
   "metadata": {},
   "source": [
    "@[Xiaoyu Chen](mailto:c-xy17@tsinghua.org.cn)\n",
    "@[Chaoming Wang](https://github.com/chaoming0625)"
   ]
  },
  {
   "cell_type": "markdown",
   "id": "b39bc3a4",
   "metadata": {},
   "source": [
    "In this section ,we will briefly intrduce some math knowledge related to brain dynamics programming (BDP)."
   ]
  },
  {
   "cell_type": "markdown",
   "id": "da80070c",
   "metadata": {},
   "source": [
    "## Tensors"
   ]
  },
  {
   "cell_type": "markdown",
   "id": "f723c438",
   "metadata": {},
   "source": [
    "```{note}\n",
    "If you have the basic knowledge about [NumPy](https://numpy.org/) (the ``tensor`` here is the same as the ``ndarray`` in NumPy), you can skip this section.\n",
    "```"
   ]
  },
  {
   "cell_type": "markdown",
   "id": "70835575",
   "metadata": {},
   "source": [
    "## Variables"
   ]
  },
  {
   "cell_type": "code",
   "execution_count": null,
   "id": "5f03e5a3",
   "metadata": {},
   "outputs": [],
   "source": []
  }
 ],
 "metadata": {
  "kernelspec": {
   "display_name": "Python [conda env:root] *",
   "language": "python",
   "name": "conda-root-py"
  },
  "language_info": {
   "codemirror_mode": {
    "name": "ipython",
    "version": 3
   },
   "file_extension": ".py",
   "mimetype": "text/x-python",
   "name": "python",
   "nbconvert_exporter": "python",
   "pygments_lexer": "ipython3",
   "version": "3.8.8"
  }
 },
 "nbformat": 4,
 "nbformat_minor": 5
}
