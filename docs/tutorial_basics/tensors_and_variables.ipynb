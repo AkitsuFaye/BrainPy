{
 "cells": [
  {
   "cell_type": "markdown",
   "id": "e32b5d37",
   "metadata": {},
   "source": [
    "# Tensors and Variables"
   ]
  },
  {
   "cell_type": "markdown",
   "id": "e9be090e",
   "metadata": {},
   "source": [
    "@[Xiaoyu Chen](mailto:c-xy17@tsinghua.org.cn)\n",
    "@[Chaoming Wang](https://github.com/chaoming0625)"
   ]
  },
  {
   "cell_type": "markdown",
   "id": "b39bc3a4",
   "metadata": {},
   "source": [
    "In this section ,we will briefly intrduce two basic and important data structures: tensors and vriables. They form the foundation for mathmatical operations of brain dynamics programming (BDP) in BrainPy."
   ]
  },
  {
   "cell_type": "markdown",
   "id": "da80070c",
   "metadata": {},
   "source": [
    "## Tensors"
   ]
  },
  {
   "cell_type": "markdown",
   "id": "f723c438",
   "metadata": {},
   "source": [
    "```{note}\n",
    "If you have the basic knowledge about [NumPy](https://numpy.org/) (the ``tensor`` here is the same as the ``ndarray`` in NumPy), you can skip this part.\n",
    "```"
   ]
  },
  {
   "cell_type": "markdown",
   "id": "1a5aabd4",
   "metadata": {},
   "source": [
    "### Definition"
   ]
  },
  {
   "cell_type": "markdown",
   "id": "964cf619",
   "metadata": {},
   "source": [
    "A tensor is a data structure that organizes algebraic objects in a multidimentional vector space. Simply speaking, in BrainPy, a tensor is a multidimensional array that contains the same type of data, most commonly of the numeric or boolean type. \n",
    "\n",
    "To enable tensor operations, users should import the ``brainpy.math`` module:"
   ]
  },
  {
   "cell_type": "code",
   "execution_count": 4,
   "id": "5f03e5a3",
   "metadata": {},
   "outputs": [],
   "source": [
    "import brainpy.math as bm\n",
    "\n",
    "bm.set_platform('cpu')"
   ]
  },
  {
   "cell_type": "code",
   "execution_count": 5,
   "id": "20cb90fe",
   "metadata": {},
   "outputs": [
    {
     "data": {
      "text/plain": [
       "JaxArray(DeviceArray([[[ 0,  1,  2,  3],\n",
       "                       [ 1,  2,  3,  4],\n",
       "                       [ 4,  5,  6,  7]],\n",
       "         \n",
       "                      [[ 0,  0,  0,  0],\n",
       "                       [-1,  1, -1,  1],\n",
       "                       [ 2, -2,  2, -2]]], dtype=int32))"
      ]
     },
     "execution_count": 5,
     "metadata": {},
     "output_type": "execute_result"
    }
   ],
   "source": [
    "t1 = bm.array([[[0, 1, 2, 3], [1, 2, 3, 4], [4, 5, 6, 7]], \n",
    "               [[0, 0, 0, 0], [-1, 1, -1, 1], [2, -2, 2, -2]]])\n",
    "t1"
   ]
  },
  {
   "cell_type": "markdown",
   "id": "d391e7f9",
   "metadata": {},
   "source": [
    "Here we create a 3-dimensional tensor with the type of `int32`. Tensors created by ``brainpy.math`` will be stored in ``JaxArray``, for their future operations will be accelerated by just-in-time (JIT) compilation."
   ]
  },
  {
   "cell_type": "code",
   "execution_count": 6,
   "id": "d4a5e216",
   "metadata": {},
   "outputs": [
    {
     "data": {
      "text/plain": [
       "(2, 3, 4)"
      ]
     },
     "execution_count": 6,
     "metadata": {},
     "output_type": "execute_result"
    }
   ],
   "source": [
    "t1.shape"
   ]
  },
  {
   "cell_type": "markdown",
   "id": "ef576177",
   "metadata": {},
   "source": [
    "The shape of the tensor refers to the length of each axis, or the size of the array in each dimension. For example, ``t1`` is firstly composed of 2 arrays:"
   ]
  },
  {
   "cell_type": "code",
   "execution_count": 9,
   "id": "7f58b7be",
   "metadata": {},
   "outputs": [
    {
     "name": "stdout",
     "output_type": "stream",
     "text": [
      "t1[0]:\n",
      "[[0 1 2 3]\n",
      " [1 2 3 4]\n",
      " [4 5 6 7]]\n",
      "t1[1]:\n",
      "[[ 0  0  0  0]\n",
      " [-1  1 -1  1]\n",
      " [ 2 -2  2 -2]]\n"
     ]
    }
   ],
   "source": [
    "print('t1[0]:\\n{}'.format(t1[0]))\n",
    "print('t1[1]:\\n{}'.format(t1[1]))"
   ]
  },
  {
   "cell_type": "markdown",
   "id": "875dfc88",
   "metadata": {},
   "source": [
    "Therefore, the first axis (dimension) is of length 2, and the first element of ``t1.shape`` is 2. Similarly, the second axis is of length 3, because each sub-array of ``t1`` contains 3 arrays, such as ``t[0, 0]``, ``t[0, 1]``, and ``t[0, 2]``."
   ]
  },
  {
   "cell_type": "code",
   "execution_count": 10,
   "id": "85b61602",
   "metadata": {},
   "outputs": [
    {
     "name": "stdout",
     "output_type": "stream",
     "text": [
      "t1[0, 0]:\n",
      "[0 1 2 3]\n",
      "t1[0, 1]:\n",
      "[1 2 3 4]\n",
      "t1[0, 2]:\n",
      "[4 5 6 7]\n"
     ]
    }
   ],
   "source": [
    "print('t1[0, 0]:\\n{}'.format(t1[0, 0]))\n",
    "print('t1[0, 1]:\\n{}'.format(t1[0, 1]))\n",
    "print('t1[0, 2]:\\n{}'.format(t1[0, 2]))"
   ]
  },
  {
   "cell_type": "markdown",
   "id": "8970676a",
   "metadata": {},
   "source": [
    "And the last dimension is of length 4 because there are 4 elements in each sub-sub-array. Below is the visualization of ``t1`` that helps users to better understand the structure of a tensor.\n",
    "\n",
    "<center><img src=\"../_static/tensor_shape.png\" width=\"400 px\"></center>"
   ]
  },
  {
   "cell_type": "markdown",
   "id": "6be487b0",
   "metadata": {},
   "source": [
    "In the [advanced tutorial](../tutorial_math/tensors.ipynb), various operations on tensors will be elaborated. Here we just give a few examples of tensor operations that are commonly used in brain dynamics programming."
   ]
  },
  {
   "cell_type": "markdown",
   "id": "d4b2c475",
   "metadata": {},
   "source": [
    "### Creating a tensor"
   ]
  },
  {
   "cell_type": "code",
   "execution_count": 16,
   "id": "d2d6d644",
   "metadata": {},
   "outputs": [],
   "source": [
    "t2 = bm.arange(4)\n",
    "# t2: JaxArray(DeviceArray([0, 1, 2, 3], dtype=int32))\n",
    "\n",
    "t3 = bm.ones((2, 4)) * 1.5\n",
    "# t3: JaxArray(DeviceArray([[1.5, 1.5, 1.5, 1.5],\n",
    "#                           [1.5, 1.5, 1.5, 1.5]], dtype=float32))"
   ]
  },
  {
   "cell_type": "markdown",
   "id": "a6af56ae",
   "metadata": {},
   "source": [
    "### tensor operations"
   ]
  },
  {
   "cell_type": "code",
   "execution_count": null,
   "id": "b7d9fe6c",
   "metadata": {},
   "outputs": [],
   "source": [
    "# indexing and slicing\n",
    "t3[1]\n",
    "# DeviceArray([1.5, 1.5, 1.5, 1.5], dtype=float32)\n",
    "\n",
    "t3[:, 2:]\n",
    "# DeviceArray([[1.5, 1.5],\n",
    "#              [1.5, 1.5]], dtype=float32)"
   ]
  },
  {
   "cell_type": "code",
   "execution_count": null,
   "id": "067def1a",
   "metadata": {},
   "outputs": [],
   "source": [
    "# algebraic operations\n",
    "t2 + t3[0]\n",
    "# JaxArray(DeviceArray([1.5, 2.5, 3.5, 4.5], dtype=float32))\n",
    "\n",
    "t3[0] / t1[0, 1]\n",
    "# DeviceArray([1.5  , 0.75 , 0.5  , 0.375], dtype=float32)\n",
    "\n",
    "# broadcasting\n",
    "t2 + 3\n",
    "# JaxArray(DeviceArray([3, 4, 5, 6], dtype=int32))\n",
    "\n",
    "t2 + t3\n",
    "# JaxArray(DeviceArray([[1.5, 2.5, 3.5, 4.5],\n",
    "#                       [1.5, 2.5, 3.5, 4.5]], dtype=float32))"
   ]
  },
  {
   "cell_type": "code",
   "execution_count": null,
   "id": "be731099",
   "metadata": {},
   "outputs": [],
   "source": [
    "# some functions\n",
    "bm.dot(t2, t3.T)\n",
    "# JaxArray(DeviceArray([9., 9.], dtype=float32))\n",
    "\n",
    "bm.max(t1, axis=2)\n",
    "# JaxArray(DeviceArray([[3, 4, 7],\n",
    "#                       [0, 1, 2]], dtype=int32))\n",
    "\n",
    "t3.flatten()\n",
    "# JaxArray(DeviceArray([1.5, 1.5, 1.5, 1.5, 1.5, 1.5, 1.5, 1.5], dtype=float32))"
   ]
  },
  {
   "cell_type": "markdown",
   "id": "adf388d0",
   "metadata": {},
   "source": [
    "In BrainPy, tensors can be used to store some parameters related to dynamical models. For example, if we define a group of Integrate-and-Fire (LIF) neurons and wish to assign each neuron with a different time constant $\\tau$, then we can generate a tensor containing an array of time constants."
   ]
  },
  {
   "cell_type": "code",
   "execution_count": 34,
   "id": "c1c11eba",
   "metadata": {},
   "outputs": [
    {
     "data": {
      "text/plain": [
       "JaxArray(DeviceArray([19.108969, 19.941414, 18.535835, 17.674583, 22.794453,\n",
       "                      17.256771], dtype=float32))"
      ]
     },
     "execution_count": 34,
     "metadata": {},
     "output_type": "execute_result"
    }
   ],
   "source": [
    "n = 6  # assume there are 6 LIF neurons\n",
    "tau = bm.random.randn(n)*2. + 20.\n",
    "tau"
   ]
  },
  {
   "cell_type": "markdown",
   "id": "309a04b0",
   "metadata": {},
   "source": [
    "Through the code above, a group of time constants is generated from a normal distribution, with a mean of 20 and a variance of 2."
   ]
  },
  {
   "cell_type": "markdown",
   "id": "6cd5e9bf",
   "metadata": {},
   "source": [
    "## Variables"
   ]
  },
  {
   "cell_type": "markdown",
   "id": "df4fa849",
   "metadata": {},
   "source": [
    "We have talked about the definition, operations, and application of tensors in BrainPy. There are some situations, however, where tensors are not applicable. Due to [JIT compilation](jit_compilation.ipynb), once a tensor is given to the JIT compiler, the values inside the tensor cannot be changed. This gives rise to severe limitations, because some properties of the dynamical system, such as the membrane potential, dynamically changes over time. Therefore, we need a new data structure to store such dynamic variables, and that is ``brainpy.math.Variable``."
   ]
  },
  {
   "cell_type": "markdown",
   "id": "95334da1",
   "metadata": {},
   "source": [
    "### ``brainpy.math.Variable``"
   ]
  },
  {
   "cell_type": "markdown",
   "id": "dadd6b45",
   "metadata": {},
   "source": [
    "``brainpy.math.Variable`` is a pointer referring to a tensor. The tensor is stored as its value. The data in a Variable can be changed during JIT compilation. **If a tensor is labeled as a Variable, it means that it is a dynamical variable that changes over time.**"
   ]
  },
  {
   "cell_type": "markdown",
   "id": "27c7f7a1",
   "metadata": {},
   "source": [
    "To create or change a tensor into a variable, users just need to wrap the tensor into ``brainpy.math.Variable``:"
   ]
  },
  {
   "cell_type": "code",
   "execution_count": 68,
   "id": "775db063",
   "metadata": {},
   "outputs": [
    {
     "data": {
      "text/plain": [
       "Variable(DeviceArray([0, 1, 2, 3], dtype=int32))"
      ]
     },
     "execution_count": 68,
     "metadata": {},
     "output_type": "execute_result"
    }
   ],
   "source": [
    "v = bm.Variable(t2)\n",
    "v"
   ]
  },
  {
   "cell_type": "markdown",
   "id": "01e6f148",
   "metadata": {},
   "source": [
    "Note that the array is contained in a \"Variable\" instead of a \"JaxArray\"."
   ]
  },
  {
   "cell_type": "markdown",
   "id": "2842e288",
   "metadata": {},
   "source": [
    "```{note}\n",
    "Tensors that are not marked as Variables will be JIT compiled as static data. In [JIT compilation](jit_compilation.ipynb), it is shown that modifications of tensors are invalid in a JIT-compilation environment.\n",
    "```"
   ]
  },
  {
   "cell_type": "markdown",
   "id": "8905e1bd",
   "metadata": {},
   "source": [
    "Users can access the value in the Variable through its attribute `.value`:"
   ]
  },
  {
   "cell_type": "code",
   "execution_count": 69,
   "id": "a90a833e",
   "metadata": {},
   "outputs": [
    {
     "data": {
      "text/plain": [
       "DeviceArray([0, 1, 2, 3], dtype=int32)"
      ]
     },
     "execution_count": 69,
     "metadata": {},
     "output_type": "execute_result"
    }
   ],
   "source": [
    "v.value"
   ]
  },
  {
   "cell_type": "markdown",
   "id": "35c0bf25",
   "metadata": {},
   "source": [
    "Since the data inside a Variable is a tensor, common operations on tensors can be directly grafted to Variables."
   ]
  },
  {
   "cell_type": "markdown",
   "id": "5f41a846",
   "metadata": {},
   "source": [
    "### In-place updating"
   ]
  },
  {
   "cell_type": "markdown",
   "id": "02531880",
   "metadata": {},
   "source": [
    "Though the operations are the same, there are some requirements for updating a Variable. If we directly change a Variable, The returning data will become a tensor but not a Variable."
   ]
  },
  {
   "cell_type": "code",
   "execution_count": 77,
   "id": "38170c78",
   "metadata": {},
   "outputs": [
    {
     "data": {
      "text/plain": [
       "JaxArray(DeviceArray([5, 6, 7, 8], dtype=int32))"
      ]
     },
     "execution_count": 77,
     "metadata": {},
     "output_type": "execute_result"
    }
   ],
   "source": [
    "v2 = v + 2\n",
    "v2"
   ]
  },
  {
   "cell_type": "markdown",
   "id": "6805368a",
   "metadata": {},
   "source": [
    "To update the Variable, users are required to use in-place updating, which only modifies the value inside the Variable but does not change the reference pointing to the Variable. In-place updating operations include:"
   ]
  },
  {
   "cell_type": "markdown",
   "id": "cccb2553",
   "metadata": {},
   "source": [
    "**1\\. Indexing and slicing**\n",
    "\n",
    "  - Indexing: ``v[i] = a``\n",
    "  - Slicing: ``v[i:j] = b``\n",
    "  - Slicing the specific values: ``v[[1, 3]] = c``\n",
    "  - Slicing all values, ``v[:] = d``, ``v[...] = e``\n",
    "\n",
    "for more details, please refer to [Array Objects Indexing](https://numpy.org/doc/stable/reference/arrays.indexing.html)."
   ]
  },
  {
   "cell_type": "code",
   "execution_count": 70,
   "id": "0f0c7b60",
   "metadata": {},
   "outputs": [
    {
     "data": {
      "text/plain": [
       "Variable(DeviceArray([10,  9,  9,  3], dtype=int32))"
      ]
     },
     "execution_count": 70,
     "metadata": {},
     "output_type": "execute_result"
    }
   ],
   "source": [
    "v[0] = 10\n",
    "v[1:3] = 9\n",
    "v"
   ]
  },
  {
   "cell_type": "markdown",
   "id": "cbedbc1b",
   "metadata": {},
   "source": [
    "**2\\. Augmented assignment**\n",
    "\n",
    "- ``+=`` (add)\n",
    "  - ``-=`` (subtract)\n",
    "  - ``/=`` (divide)\n",
    "  - ``*=`` (multiply)\n",
    "  - ``//=`` (floor divide)\n",
    "  - ``%=`` (modulo)\n",
    "  - ``**=`` (power)\n",
    "  - ``&=`` (and)\n",
    "  - ``|=`` (or)\n",
    "  - ``^=`` (xor)\n",
    "  - ``<<=`` (left shift)\n",
    "  - ``>>=`` (right shift) "
   ]
  },
  {
   "cell_type": "code",
   "execution_count": 71,
   "id": "96e5fd0e",
   "metadata": {},
   "outputs": [
    {
     "data": {
      "text/plain": [
       "Variable(DeviceArray([14, 12, 12,  0], dtype=int32))"
      ]
     },
     "execution_count": 71,
     "metadata": {},
     "output_type": "execute_result"
    }
   ],
   "source": [
    "v -= 3\n",
    "v <<= 1\n",
    "v"
   ]
  },
  {
   "cell_type": "markdown",
   "id": "1ef372a7",
   "metadata": {},
   "source": [
    "**3\\. ``.value`` assignment**"
   ]
  },
  {
   "cell_type": "code",
   "execution_count": 73,
   "id": "1c245c84",
   "metadata": {},
   "outputs": [
    {
     "data": {
      "text/plain": [
       "Variable(DeviceArray([0, 1, 2, 3], dtype=int32))"
      ]
     },
     "execution_count": 73,
     "metadata": {},
     "output_type": "execute_result"
    }
   ],
   "source": [
    "v.value = bm.arange(4)\n",
    "v"
   ]
  },
  {
   "cell_type": "markdown",
   "id": "a81a9857",
   "metadata": {},
   "source": [
    "`` .value`` assignment directly accesses the data stored in the JaxArray. When using `.value`, the new data should be of the same type and shape as the original ones."
   ]
  },
  {
   "cell_type": "code",
   "execution_count": 75,
   "id": "4038eb25",
   "metadata": {},
   "outputs": [
    {
     "name": "stdout",
     "output_type": "stream",
     "text": [
      "<class 'brainpy.errors.MathError'> The dtype of the original data is int32, while we got float32.\n"
     ]
    }
   ],
   "source": [
    "try:\n",
    "    v.value = bm.array([1., 1., 1., 0.])\n",
    "except Exception as e:\n",
    "    print(type(e), e)"
   ]
  },
  {
   "cell_type": "markdown",
   "id": "0bcbce40",
   "metadata": {},
   "source": [
    "**4\\. ``.update()`` method**\n",
    "\n",
    "This method will also check if the new data is of the same type and shape as the original ones."
   ]
  },
  {
   "cell_type": "code",
   "execution_count": 76,
   "id": "0d4e67ae",
   "metadata": {},
   "outputs": [
    {
     "data": {
      "text/plain": [
       "Variable(DeviceArray([3, 4, 5, 6], dtype=int32))"
      ]
     },
     "execution_count": 76,
     "metadata": {},
     "output_type": "execute_result"
    }
   ],
   "source": [
    "v.update(bm.array([3, 4, 5, 6]))\n",
    "v"
   ]
  },
  {
   "cell_type": "markdown",
   "id": "4e0b9e6c",
   "metadata": {},
   "source": [
    "For more details, such as the subtypes of Variables and more information about in-place updating, please see the [advanced tutorial for Variables](../tutorial_math/variables.ipynb)."
   ]
  },
  {
   "cell_type": "code",
   "execution_count": null,
   "id": "e4637fbd",
   "metadata": {},
   "outputs": [],
   "source": []
  }
 ],
 "metadata": {
  "kernelspec": {
   "display_name": "Python [conda env:root] *",
   "language": "python",
   "name": "conda-root-py"
  },
  "language_info": {
   "codemirror_mode": {
    "name": "ipython",
    "version": 3
   },
   "file_extension": ".py",
   "mimetype": "text/x-python",
   "name": "python",
   "nbconvert_exporter": "python",
   "pygments_lexer": "ipython3",
   "version": "3.8.8"
  }
 },
 "nbformat": 4,
 "nbformat_minor": 5
}
