{
 "cells": [
  {
   "cell_type": "markdown",
   "metadata": {},
   "source": [
    "# How BrainPy Works"
   ]
  },
  {
   "cell_type": "markdown",
   "metadata": {},
   "source": [
    "## Design philosophy"
   ]
  },
  {
   "cell_type": "markdown",
   "metadata": {},
   "source": [
    "The goal of ``BrainPy`` is to provide a highly flexible and\n",
    "efficient neural simulator for Python users. Specifically,\n",
    "several principles are kept in mind during the development of BrainPy.\n",
    "\n",
    "- **Easy to learn and use**.\n",
    "  The aim of BrainPy is to accelerate your reaches on neuronal dynamics modeling.\n",
    "  We don't want BrainPy make you pay much time on the learning of how to code. \n",
    "  On the contrary, all you need is to focus on the implementation logic\n",
    "  of the network model by using your familiar [NumPy](https://numpy.org/doc/stable/)\n",
    "  APIs. Although you've never used NumPy, even you are unfamiliar with Python, using\n",
    "  BrainPy is also a easy thing. This is because the\n",
    "  [Python](https://www.w3schools.com/python/) and [NumPy](https://numpy.org/doc/stable/) \n",
    "  syntax is simple, elegant and human-like.\n",
    "\n",
    "- **Flexible and Transparent**.\n",
    "  Another consideration of BrainPy is the flexibility. \n",
    "  Traditional simulators with [code generation](https://www.frontiersin.org/articles/10.3389/fninf.2018.00068/full) \n",
    "  approach have intrinsic limitations. In order to generate efficient low-level (such as c++) codes, \n",
    "  these simulators make assumptions for models to simulate, and require users to \n",
    "  provide string descriptions to define models. Such string descriptions greatly reduce\n",
    "  the programming capacity. Moreover, there will always be exceptions beyond the \n",
    "  framework assumptions, such as the data or logical flows that the framework did not \n",
    "  consider before. Once such frameworks are not tailored to the user needs, extensions \n",
    "  becomes difficult and even impossible. Furthermore, no framework is immune to errors when dealing with\n",
    "  user's incredible models (even the well-tested framework \n",
    "  [TensorFlow](https://www.reddit.com/r/MachineLearning/comments/hrawam/d_theres_a_flawbug_in_tensorflow_thats_preventing/)). \n",
    "  Therefore, making the\n",
    "  framework transparent to users becomes indispensable. Considering this, \n",
    "  BrainPy enables the users to directly modify the final formatted code once some errors are \n",
    "  found (see examples comming soon). \n",
    "  Actually, BrainPy endows the users with the fully data/logic flow control. \n",
    "  \n",
    "- **Simulation with the guidance of the analysis**. \n",
    "  Simulation, although very important in neurodynamics, has to be guided by theory. Blind simulation of nonlinear systems is likely to produce few results or misleading results. A \"brute force\" simulation approach is hardly effective and accurate in practice. For example, *attractors* and *repellors* can be easily obtained through simulation, forward and backward in time, while *saddles* can be hard to find. Moreover, some complex dynamical equations are hard to analyze by hand, and can only be analyzed by computer optimization. However, current popular neural simulators (including NEURON, NEST, BRIAN, etc.) cannot give any insights for the defined dynamical models. Traditionally, users need define the models twice by two different ways, one for simulation in neural simulators, and one for model analysis in other programming language. There, BrainPy provides an integrated simulation and analysis environment for neuronal dynamics. The same codes defined by users can not only be used for simulation, but also for neurodyanmics analysis.\n",
    "  \n",
    "- **Running Efficient**.\n",
    "  The final consideration of BrainPy is to accelerate the running speed of\n",
    "  of your coded models. In order to achieve high efficiency, we incorporate several \n",
    "  Just-In-Time compilers (such as Numba) into BrainPy. \n"
   ]
  },
  {
   "cell_type": "markdown",
   "metadata": {},
   "source": [
    "## Framework Architecture"
   ]
  },
  {
   "cell_type": "markdown",
   "metadata": {},
   "source": [
    "`BrainPy` is designed to support general computing backends on multiple devices. The overall architecture is shown in the following figure:"
   ]
  },
  {
   "cell_type": "markdown",
   "metadata": {},
   "source": [
    "![](../_static/design_architecture.png)"
   ]
  },
  {
   "cell_type": "markdown",
   "metadata": {},
   "source": [
    "`BrainPy` is aimed to provide a general operating system for neuronal dynamics programming. At the first step, BrainPy provides general numerical solvers for ordinary differential equations (ODEs), stochastic differential equations (SDEs), delay differential equations (DDEs), fractional differential equations (FDEs). Then, based on the numerical solvers of various DEs, at one hand, BrainPy supports neuronal dynamics simulation, at the other hand, such general coded differential equations can be used for neuronal dynamics analysis. "
   ]
  },
  {
   "cell_type": "markdown",
   "metadata": {},
   "source": [
    "Behind the programming interface, BrainPy provides various drivers for different backends. For example, when users run models on NumPy or PyTorch backend (`brainpy.backend.set('numpy')` or `brainpy.backend.set('pytorch')`), the tensor-based drivers will be automatically utilized. Moreover, BrainPy support JIT compilers (such as Numba, JAX) because of the powerful JIT drivers. For the other accessible devices and corresponding backends in the future, BrainPy can have a seamless support because of the new driver can be defined. "
   ]
  },
  {
   "cell_type": "markdown",
   "metadata": {},
   "source": [
    "\n",
    "---\n",
    "\n",
    "**Author**:\n",
    "\n",
    "- Chaoming Wang\n",
    "- Email: adaduo@outlook.com\n",
    "- Date: 2020.10.01, updated at 2021.05.29\n",
    "\n",
    "---"
   ]
  }
 ],
 "metadata": {
  "hide_input": false,
  "kernelspec": {
   "display_name": "brainpy",
   "language": "python",
   "name": "brainpy"
  },
  "language_info": {
   "codemirror_mode": {
    "name": "ipython",
    "version": 3
   },
   "file_extension": ".py",
   "mimetype": "text/x-python",
   "name": "python",
   "nbconvert_exporter": "python",
   "pygments_lexer": "ipython3",
   "version": "3.8.8"
  },
  "toc": {
   "base_numbering": 1,
   "nav_menu": {},
   "number_sections": false,
   "sideBar": true,
   "skip_h1_title": false,
   "title_cell": "Table of Contents",
   "title_sidebar": "Contents",
   "toc_cell": false,
   "toc_position": {},
   "toc_section_display": true,
   "toc_window_display": false
  },
  "varInspector": {
   "cols": {
    "lenName": 16,
    "lenType": 16,
    "lenVar": 40
   },
   "kernels_config": {
    "python": {
     "delete_cmd_postfix": "",
     "delete_cmd_prefix": "del ",
     "library": "var_list.py",
     "varRefreshCmd": "print(var_dic_list())"
    },
    "r": {
     "delete_cmd_postfix": ") ",
     "delete_cmd_prefix": "rm(",
     "library": "var_list.r",
     "varRefreshCmd": "cat(var_dic_list()) "
    }
   },
   "types_to_exclude": [
    "module",
    "function",
    "builtin_function_or_method",
    "instance",
    "_Feature"
   ],
   "window_display": false
  }
 },
 "nbformat": 4,
 "nbformat_minor": 4
}
