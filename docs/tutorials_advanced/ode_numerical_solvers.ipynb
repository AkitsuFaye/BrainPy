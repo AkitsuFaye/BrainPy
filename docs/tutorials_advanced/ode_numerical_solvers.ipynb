{
 "cells": [
  {
   "cell_type": "markdown",
   "id": "b1c05dfa",
   "metadata": {},
   "source": [
    "# Numerical Solvers for ODEs"
   ]
  },
  {
   "cell_type": "markdown",
   "id": "e037b23b",
   "metadata": {},
   "source": [
    "`BrainPy` provides several numerical methods for ordinary differential equations (ODEs). Specifically, we provide explicit Runge-Kutta methods, adaptive Runge-Kutta methods, and exponential Euler method for ODE numerical integration."
   ]
  },
  {
   "cell_type": "code",
   "execution_count": 1,
   "id": "53ff69b9",
   "metadata": {},
   "outputs": [],
   "source": [
    "import sys\n",
    "\n",
    "sys.path.append('../../')"
   ]
  },
  {
   "cell_type": "code",
   "execution_count": 2,
   "id": "79a4911e",
   "metadata": {},
   "outputs": [],
   "source": [
    "import brainpy as bp"
   ]
  },
  {
   "cell_type": "markdown",
   "id": "fe620221",
   "metadata": {},
   "source": [
    "## Explicit Runge-Kutta methods"
   ]
  },
  {
   "cell_type": "markdown",
   "id": "a4b172ea",
   "metadata": {},
   "source": [
    "| Methods                                                 | Keywords    |\n",
    "|-----------------------------------------------------|-------------|\n",
    "| [Euler](../apis/integrators/_autosummary/brainpy.integrators.ode.euler.html) | euler       |\n",
    "| [Midpoint](../apis/integrators/_autosummary/brainpy.integrators.ode.midpoint.html) | midpoint    |\n",
    "| [Heun's second-order method](../apis/integrators/_autosummary/brainpy.integrators.ode.heun2.html) | heun2       |\n",
    "| [Ralston's second-order method](../apis/integrators/_autosummary/brainpy.integrators.ode.ralston2.html) | ralston2    |\n",
    "| [RK2](../apis/integrators/_autosummary/brainpy.integrators.ode.rk2.html)| rk2         |\n",
    "| [RK3](../apis/integrators/_autosummary/brainpy.integrators.ode.rk3.html) | rk3         |\n",
    "| [RK4](../apis/integrators/_autosummary/brainpy.integrators.ode.rk4.html) | rk4         |\n",
    "| [Heun's third-order method](../apis/integrators/_autosummary/brainpy.integrators.ode.heun3.html) | heun3       |\n",
    "| [Ralston's third-order method](../apis/integrators/_autosummary/brainpy.integrators.ode.ralston3.html) | ralston3    |\n",
    "| [Third-order Strong Stability Preserving Runge-Kutta](../apis/integrators/_autosummary/brainpy.integrators.ode.ssprk3.html) | ssprk3      |\n",
    "| [Ralston's fourth-order method](../apis/integrators/_autosummary/brainpy.integrators.ode.ralston4.html) | ralston4    |\n",
    "| [Runge-Kutta 3/8-rule fourth-order method](../apis/integrators/_autosummary/brainpy.integrators.ode.rk4_38rule.html)| rk4_38rule |"
   ]
  },
  {
   "cell_type": "markdown",
   "id": "a2315e6c",
   "metadata": {},
   "source": [
    "## Adaptive Runge-Kutta methods"
   ]
  },
  {
   "cell_type": "markdown",
   "id": "cb6c3be1",
   "metadata": {},
   "source": [
    "| Methods                   | keywords    |\n",
    "|---------------------------|-------------|\n",
    "| [Runge–Kutta–Fehlberg 4(5)](../apis/integrators/_autosummary/brainpy.integrators.ode.rkf45.html)  | rkf45       |\n",
    "| [Runge–Kutta–Fehlberg 1(2)](../apis/integrators/_autosummary/brainpy.integrators.ode.rkf12.html) | rkf12       |\n",
    "| [Dormand–Prince method](../apis/integrators/_autosummary/brainpy.integrators.ode.rkdp.html) | rkdp        |\n",
    "| [Cash–Karp method](../apis/integrators/_autosummary/brainpy.integrators.ode.ck.html) | ck          |\n",
    "| [Bogacki–Shampine method](../apis/integrators/_autosummary/brainpy.integrators.ode.bs.html) | bs          |\n",
    "| [Heun–Euler method](../apis/integrators/_autosummary/brainpy.integrators.ode.heun_euler.html)  | heun_euler |"
   ]
  },
  {
   "cell_type": "markdown",
   "id": "218162c4",
   "metadata": {},
   "source": [
    "## Other methods"
   ]
  },
  {
   "cell_type": "markdown",
   "id": "20692566",
   "metadata": {},
   "source": [
    "| Methods           | keywords           |\n",
    "|-------------------|--------------------|\n",
    "| [Exponential Euler](../apis/integrators/_autosummary/brainpy.integrators.ode.exponential_euler.html) | exponential_euler |"
   ]
  }
 ],
 "metadata": {
  "kernelspec": {
   "display_name": "brainpy",
   "language": "python",
   "name": "brainpy"
  },
  "language_info": {
   "codemirror_mode": {
    "name": "ipython",
    "version": 3
   },
   "file_extension": ".py",
   "mimetype": "text/x-python",
   "name": "python",
   "nbconvert_exporter": "python",
   "pygments_lexer": "ipython3",
   "version": "3.8.8"
  },
  "toc": {
   "base_numbering": 1,
   "nav_menu": {},
   "number_sections": false,
   "sideBar": true,
   "skip_h1_title": false,
   "title_cell": "Table of Contents",
   "title_sidebar": "Contents",
   "toc_cell": false,
   "toc_position": {},
   "toc_section_display": true,
   "toc_window_display": false
  }
 },
 "nbformat": 4,
 "nbformat_minor": 5
}
