{
 "cells": [
  {
   "cell_type": "markdown",
   "id": "2ea2b896",
   "metadata": {},
   "source": [
    "# Numerical Solvers for SDEs"
   ]
  },
  {
   "cell_type": "markdown",
   "id": "5319b8a4",
   "metadata": {},
   "source": [
    "`BrainPy` provides several numerical methods for stochastic differential equations (SDEs). Specifically, we provide explicit Runge-Kutta methods, derivative-free Milstein methods, and exponential Euler method for SDE numerical integration. For the introductionary tutorial for how to use  BrainPy provided numerical solversfor SDEs, please see the document in [Quickstart/Numerical Solvers](../quickstart/numerical_solvers.ipynb). "
   ]
  },
  {
   "cell_type": "code",
   "execution_count": 1,
   "id": "a2ab8bd2",
   "metadata": {},
   "outputs": [
    {
     "data": {
      "text/plain": [
       "'1.0.3'"
      ]
     },
     "execution_count": 1,
     "metadata": {},
     "output_type": "execute_result"
    }
   ],
   "source": [
    "import brainpy as bp\n",
    "\n",
    "bp.__version__"
   ]
  },
  {
   "cell_type": "markdown",
   "id": "318047d8",
   "metadata": {},
   "source": [
    "| Methods                   | Keywords           | Ito SDE support | Stratonovich SDE support | Scalar Wiener support | Vector Wiener support |\n",
    "| ------------------------- | ------------------ | --------------- | ------------------------ | --------------------- | --------------------- |\n",
    "| [Strong SRK scheme: SRI1W1](../apis/integrators/_autosummary/brainpy.integrators.sde.srk1w1_scalar.html) | srk1w1_scalar     | Yes             |                          | Yes                   |                       |\n",
    "| [Strong SRK scheme: SRI2W1](../apis/integrators/_autosummary/brainpy.integrators.sde.srk2w1_scalar.html) | srk2w1_scalar     | Yes             |                          | Yes                   |                       |\n",
    "|  [Strong SRK scheme: KlPl](../apis/integrators/_autosummary/brainpy.integrators.sde.KlPl_scalar.html)  | KlPl_scalar       | Yes             |                          | Yes                   |                       |\n",
    "| [Euler method](../apis/integrators/_autosummary/brainpy.integrators.sde.euler.html) | euler              | Yes             | Yes                      | Yes                   | Yes                   |\n",
    "| [Heun method](../apis/integrators/_autosummary/brainpy.integrators.sde.heun.html) | heun               |                 | Yes                      | Yes                   | Yes                   |\n",
    "| [Derivative-free Milstein](../apis/integrators/_autosummary/brainpy.integrators.sde.milstein.html) | milstein           | Yes             | Yes                      | Yes                   | Yes                   |\n",
    "| [Exponential Euler](../apis/integrators/_autosummary/brainpy.integrators.sde.exponential_euler.html) | exponential_euler | Yes             |                          | Yes                   | Yes                   |"
   ]
  },
  {
   "cell_type": "markdown",
   "id": "dac81c80",
   "metadata": {},
   "source": [
    "\n",
    "---\n",
    "\n",
    "**Author**:\n",
    "\n",
    "- Chaoming Wang\n",
    "- Email: adaduo@outlook.com\n",
    "- Date: 2021.05.29\n",
    "\n",
    "---"
   ]
  }
 ],
 "metadata": {
  "kernelspec": {
   "display_name": "brainpy",
   "language": "python",
   "name": "brainpy"
  },
  "language_info": {
   "codemirror_mode": {
    "name": "ipython",
    "version": 3
   },
   "file_extension": ".py",
   "mimetype": "text/x-python",
   "name": "python",
   "nbconvert_exporter": "python",
   "pygments_lexer": "ipython3",
   "version": "3.8.8"
  },
  "toc": {
   "base_numbering": 1,
   "nav_menu": {},
   "number_sections": false,
   "sideBar": true,
   "skip_h1_title": false,
   "title_cell": "Table of Contents",
   "title_sidebar": "Contents",
   "toc_cell": false,
   "toc_position": {},
   "toc_section_display": true,
   "toc_window_display": false
  }
 },
 "nbformat": 4,
 "nbformat_minor": 5
}
