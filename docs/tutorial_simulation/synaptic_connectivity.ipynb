{
 "cells": [
  {
   "cell_type": "markdown",
   "metadata": {},
   "source": [
    "# Synaptic Connectivity"
   ]
  },
  {
   "cell_type": "markdown",
   "metadata": {},
   "source": [
    "**Contents**\n",
    "\n",
    "- [Build-in regular connections](#Build-in-regular-connections)\n",
    "- [Build-in random connections](#Build-in-random-connections)\n",
    "- [Customize your connections](#Customize-your-connections)"
   ]
  },
  {
   "cell_type": "markdown",
   "metadata": {},
   "source": [
    "BrainPy provides several commonly used connection methods in ``brainpy.connect`` module (see the follows).\n",
    "They are all inherited from the base class `brainpy.connect.Connector`. Users can also customize their synaptic connectivity by the class inheritance.\n",
    "\n",
    "There are two classes inherited from the base class `brainpy.connect.Connector`:\n",
    "- [`brainpy.simulation.connect.TwoEndConnector`](https://brainpy.readthedocs.io/en/v2.0.0/apis/auto/simulation/generated/brainpy.simulation.connect.TwoEndConnector.html)\n",
    "- [`brainpy.simulation.connect.OneEndConnector`](https://brainpy.readthedocs.io/en/v2.0.0/apis/auto/simulation/generated/brainpy.simulation.connect.OneEndConnector.html)\n",
    "\n",
    "Class `brainpy.simulation.connect.TwoEndConnector` is used as a synaptical connector to build synapse connections between **two neuron groups**.\n",
    "\n",
    "Class `brainpy.simulation.connect.OneEndConnector` is used as a synaptical connector to build synapse connections within **a population of neurons**.\n",
    "\n",
    "If users want to learn more about these two classes, please click the link of each class above to check the API documentation."
   ]
  },
  {
   "cell_type": "code",
   "execution_count": 1,
   "metadata": {
    "ExecuteTime": {
     "end_time": "2021-03-25T03:02:48.939126Z",
     "start_time": "2021-03-25T03:02:47.073698Z"
    },
    "pycharm": {
     "name": "#%%\n"
    }
   },
   "outputs": [],
   "source": [
    "import brainpy as bp\n",
    "\n",
    "import numpy as np\n",
    "import matplotlib.pyplot as plt"
   ]
  },
  {
   "cell_type": "markdown",
   "metadata": {},
   "source": [
    "## Build-in regular connections"
   ]
  },
  {
   "cell_type": "markdown",
   "metadata": {},
   "source": [
    "### brainpy.connect.One2One\n",
    "\n",
    "The neurons in the pre-synaptic neuron group only connect to the neurons\n",
    "in the same position of the post-synaptic group. Thus, this connection\n",
    "requires the indices of two neuron groups same. Otherwise, an error will\n",
    "occurs.\n",
    "\n",
    "<img src=\"../_static/one2one.png\" width=\"200 px\">"
   ]
  },
  {
   "cell_type": "code",
   "execution_count": 2,
   "outputs": [],
   "source": [
    "conn = bp.connect.One2One()\n",
    "conn(pre_size=size, post_size=size)"
   ],
   "metadata": {
    "collapsed": false,
    "pycharm": {
     "name": "#%%\n"
    }
   }
  },
  {
   "cell_type": "markdown",
   "source": [
    "where `pre_size` denotes the size of the pre-synaptic neuron group, `post_size` denotes the size of the post-synaptic neuron group.\n",
    "Note that parameter `size` can be *int*, *tuple of int* or *list of int* where each element represent each dimension of neuron group.\n",
    "\n",
    "In One2One connection, particularly, `pre_size` and `post_size` must be the same."
   ],
   "metadata": {
    "collapsed": false,
    "pycharm": {
     "name": "#%% md\n"
    }
   }
  },
  {
   "cell_type": "markdown",
   "metadata": {
    "pycharm": {
     "name": "#%% md\n"
    }
   },
   "source": [
    "Class `One2One` is inherited from `TwoEndConnector`. Users can use method `require` or `requires` to get specific connection types.\n",
    "\n",
    "Here is an example:"
   ]
  },
  {
   "cell_type": "code",
   "execution_count": 6,
   "outputs": [
    {
     "name": "stderr",
     "output_type": "stream",
     "text": [
      "/Users/ztqakita/opt/miniconda3/lib/python3.9/site-packages/jax/_src/numpy/lax_numpy.py:3610: UserWarning: Explicitly requested dtype <class 'numpy.uint64'> requested in asarray is not available, and will be truncated to dtype uint32. To enable more dtypes, set the jax_enable_x64 configuration option or the JAX_ENABLE_X64 shell environment variable. See https://github.com/google/jax#current-gotchas for more.\n",
      "  lax._check_user_dtype_supported(dtype, \"asarray\")\n"
     ]
    },
    {
     "name": "stdout",
     "output_type": "stream",
     "text": [
      "pre_ids JaxArray(DeviceArray([0, 1, 2, 3, 4], dtype=uint32))\n",
      "post_ids JaxArray(DeviceArray([0, 1, 2, 3, 4], dtype=uint32))\n",
      "pre2post [JaxArray(DeviceArray([0], dtype=uint32)), JaxArray(DeviceArray([1], dtype=uint32)), JaxArray(DeviceArray([2], dtype=uint32)), JaxArray(DeviceArray([3], dtype=uint32)), JaxArray(DeviceArray([4], dtype=uint32))]\n",
      "conn_mat JaxArray(DeviceArray([[ True, False, False, False, False],\n",
      "                      [False,  True, False, False, False],\n",
      "                      [False, False,  True, False, False],\n",
      "                      [False, False, False,  True, False],\n",
      "                      [False, False, False, False,  True]], dtype=bool))\n"
     ]
    },
    {
     "name": "stderr",
     "output_type": "stream",
     "text": [
      "/Users/ztqakita/opt/miniconda3/lib/python3.9/site-packages/jax/_src/numpy/lax_numpy.py:3552: UserWarning: Explicitly requested dtype <class 'numpy.uint64'> requested in array is not available, and will be truncated to dtype uint32. To enable more dtypes, set the jax_enable_x64 configuration option or the JAX_ENABLE_X64 shell environment variable. See https://github.com/google/jax#current-gotchas for more.\n",
      "  lax._check_user_dtype_supported(dtype, \"array\")\n"
     ]
    }
   ],
   "source": [
    "size = 5\n",
    "conn = bp.connect.One2One()(pre_size=size, post_size=size)\n",
    "res = conn.require('pre_ids', 'post_ids', 'pre2post', 'conn_mat')\n",
    "\n",
    "print('pre_ids', res[0])\n",
    "print('post_ids', res[1])\n",
    "print('pre2post', res[2])\n",
    "print('conn_mat', res[3])"
   ],
   "metadata": {
    "collapsed": false,
    "pycharm": {
     "name": "#%%\n"
    }
   }
  },
  {
   "cell_type": "markdown",
   "metadata": {},
   "source": [
    "### brainpy.connect.All2All\n",
    "\n",
    "All neurons of the post-synaptic population form connections with all\n",
    "neurons of the pre-synaptic population (dense connectivity). Users can\n",
    "choose whether connect the neurons at the same position\n",
    "(`include_self=True or False`).\n",
    "\n",
    "<img src=\"../_static/all2all.png\" width=\"200 px\">"
   ]
  },
  {
   "cell_type": "code",
   "execution_count": 3,
   "metadata": {},
   "outputs": [],
   "source": [
    "conn = bp.connect.All2All(include_self=False)\n",
    "conn(pre_size=size, post_size=size)"
   ]
  },
  {
   "cell_type": "markdown",
   "source": [
    "Class `All2All` is inherited from `TwoEndConnector`. Users can use method `require` or `requires` to get specific connection types.\n",
    "\n",
    "Here is an example:"
   ],
   "metadata": {
    "collapsed": false,
    "pycharm": {
     "name": "#%% md\n"
    }
   }
  },
  {
   "cell_type": "code",
   "execution_count": 7,
   "outputs": [
    {
     "name": "stdout",
     "output_type": "stream",
     "text": [
      "pre_ids JaxArray(DeviceArray([0, 0, 0, 0, 1, 1, 1, 1, 2, 2, 2, 2, 3, 3, 3, 3, 4, 4, 4, 4],            dtype=uint32))\n",
      "post_ids JaxArray(DeviceArray([1, 2, 3, 4, 0, 2, 3, 4, 0, 1, 3, 4, 0, 1, 2, 4, 0, 1, 2, 3],            dtype=uint32))\n",
      "pre2post [JaxArray(DeviceArray([1, 2, 3, 4], dtype=uint32)), JaxArray(DeviceArray([0, 2, 3, 4], dtype=uint32)), JaxArray(DeviceArray([0, 1, 3, 4], dtype=uint32)), JaxArray(DeviceArray([0, 1, 2, 4], dtype=uint32)), JaxArray(DeviceArray([0, 1, 2, 3], dtype=uint32))]\n",
      "conn_mat JaxArray(DeviceArray([[False,  True,  True,  True,  True],\n",
      "                      [ True, False,  True,  True,  True],\n",
      "                      [ True,  True, False,  True,  True],\n",
      "                      [ True,  True,  True, False,  True],\n",
      "                      [ True,  True,  True,  True, False]], dtype=bool))\n"
     ]
    }
   ],
   "source": [
    "conn = bp.connect.All2All(include_self=False)(pre_size=size, post_size=size)\n",
    "res = conn.require('pre_ids', 'post_ids', 'pre2post', 'conn_mat')\n",
    "\n",
    "print('pre_ids', res[0])\n",
    "print('post_ids', res[1])\n",
    "print('pre2post', res[2])\n",
    "print('conn_mat', res[3])"
   ],
   "metadata": {
    "collapsed": false,
    "pycharm": {
     "name": "#%%\n"
    }
   }
  },
  {
   "cell_type": "markdown",
   "metadata": {},
   "source": [
    "### brainpy.connect.GridFour\n",
    "\n",
    "`GridFour` is the four nearest neighbors connection. Each neuron connect to its\n",
    "nearest four neurons.\n",
    "\n",
    "<img src=\"../_static/grid_four.png\" width=\"250 px\">"
   ]
  },
  {
   "cell_type": "code",
   "execution_count": 4,
   "metadata": {},
   "outputs": [],
   "source": [
    "conn = bp.connect.GridFour(include_self=False)\n",
    "conn(pre_size=size)"
   ]
  },
  {
   "cell_type": "markdown",
   "source": [
    "Class `GridFour` is inherited from `OneEndConnector`, therefore there is only one parameter `pre_size` representing the size of neuron group, which should be **two-dimensional geometry**.\n",
    "\n",
    "Here is an example:"
   ],
   "metadata": {
    "collapsed": false,
    "pycharm": {
     "name": "#%% md\n"
    }
   }
  },
  {
   "cell_type": "code",
   "execution_count": 12,
   "outputs": [
    {
     "name": "stdout",
     "output_type": "stream",
     "text": [
      "pre_ids JaxArray(DeviceArray([0, 0, 1, 1, 2, 2, 3, 3], dtype=uint32))\n",
      "conn_mat JaxArray(DeviceArray([[False,  True,  True, False],\n",
      "                      [ True, False, False,  True],\n",
      "                      [ True, False, False,  True],\n",
      "                      [False,  True,  True, False]], dtype=bool))\n"
     ]
    },
    {
     "name": "stderr",
     "output_type": "stream",
     "text": [
      "/Users/ztqakita/opt/miniconda3/lib/python3.9/site-packages/jax/_src/numpy/lax_numpy.py:3610: UserWarning: Explicitly requested dtype <class 'numpy.uint64'> requested in asarray is not available, and will be truncated to dtype uint32. To enable more dtypes, set the jax_enable_x64 configuration option or the JAX_ENABLE_X64 shell environment variable. See https://github.com/google/jax#current-gotchas for more.\n",
      "  lax._check_user_dtype_supported(dtype, \"asarray\")\n"
     ]
    }
   ],
   "source": [
    "size = (2, 2)\n",
    "conn = bp.connect.GridFour(include_self=False)(pre_size=size)\n",
    "res = conn.require('pre_ids', 'conn_mat')\n",
    "\n",
    "print('pre_ids', res[0])\n",
    "print('conn_mat', res[1])"
   ],
   "metadata": {
    "collapsed": false,
    "pycharm": {
     "name": "#%%\n"
    }
   }
  },
  {
   "cell_type": "markdown",
   "metadata": {},
   "source": [
    "### brainpy.connect.GridEight\n",
    "\n",
    "`GridEight` is eight nearest neighbors connection. Each neuron connect to its\n",
    "nearest eight neurons.\n",
    "\n",
    "<img src=\"../_static/grid_eight.png\" width=\"250 px\">"
   ]
  },
  {
   "cell_type": "code",
   "execution_count": 5,
   "metadata": {},
   "outputs": [],
   "source": [
    "conn = bp.connect.GridEight(include_self=False)\n",
    "conn(pre_size=size)"
   ]
  },
  {
   "cell_type": "markdown",
   "source": [
    "Class `GridEight` is inherited from `GridN`, which will be introduced as followed.\n",
    "\n",
    "Here is an example:"
   ],
   "metadata": {
    "collapsed": false,
    "pycharm": {
     "name": "#%% md\n"
    }
   }
  },
  {
   "cell_type": "code",
   "execution_count": 14,
   "outputs": [
    {
     "name": "stdout",
     "output_type": "stream",
     "text": [
      "pre_ids JaxArray(DeviceArray([0, 0, 0, 1, 1, 1, 1, 1, 2, 2, 2, 3, 3, 3, 3, 3, 4, 4, 4, 4,\n",
      "                      4, 4, 4, 4, 5, 5, 5, 5, 5, 6, 6, 6, 7, 7, 7, 7, 7, 8, 8, 8],            dtype=uint32))\n",
      "conn_mat JaxArray(DeviceArray([[False,  True, False,  True,  True, False, False, False,\n",
      "                       False],\n",
      "                      [ True, False,  True,  True,  True,  True, False, False,\n",
      "                       False],\n",
      "                      [False,  True, False, False,  True,  True, False, False,\n",
      "                       False],\n",
      "                      [ True,  True, False, False,  True, False,  True,  True,\n",
      "                       False],\n",
      "                      [ True,  True,  True,  True, False,  True,  True,  True,\n",
      "                        True],\n",
      "                      [False,  True,  True, False,  True, False, False,  True,\n",
      "                        True],\n",
      "                      [False, False, False,  True,  True, False, False,  True,\n",
      "                       False],\n",
      "                      [False, False, False,  True,  True,  True,  True, False,\n",
      "                        True],\n",
      "                      [False, False, False, False,  True,  True, False,  True,\n",
      "                       False]], dtype=bool))\n"
     ]
    },
    {
     "name": "stderr",
     "output_type": "stream",
     "text": [
      "/Users/ztqakita/opt/miniconda3/lib/python3.9/site-packages/jax/_src/numpy/lax_numpy.py:3610: UserWarning: Explicitly requested dtype <class 'numpy.uint64'> requested in asarray is not available, and will be truncated to dtype uint32. To enable more dtypes, set the jax_enable_x64 configuration option or the JAX_ENABLE_X64 shell environment variable. See https://github.com/google/jax#current-gotchas for more.\n",
      "  lax._check_user_dtype_supported(dtype, \"asarray\")\n"
     ]
    }
   ],
   "source": [
    "size = (3, 3)\n",
    "conn = bp.connect.GridEight(include_self=False)(pre_size=size)\n",
    "res = conn.require('pre_ids', 'conn_mat')\n",
    "\n",
    "print('pre_ids', res[0])\n",
    "print('conn_mat', res[1])"
   ],
   "metadata": {
    "collapsed": false,
    "pycharm": {
     "name": "#%%\n"
    }
   }
  },
  {
   "cell_type": "markdown",
   "source": [
    "Take the central point (id = 4) as an example, its neighbors are all the other point except itself.\n",
    "Therefore, its row in `conn_mat` has `True` for all values except itself."
   ],
   "metadata": {
    "collapsed": false,
    "pycharm": {
     "name": "#%% md\n"
    }
   }
  },
  {
   "cell_type": "markdown",
   "metadata": {},
   "source": [
    "### brainpy.connect.GridN\n",
    "\n",
    "`GridN` is also a nearest neighbors connection. Each neuron connect to its\n",
    "nearest $(2N+1) \\cdot (2N+1)$ neurons (if including itself).\n",
    "\n",
    "<img src=\"../_static/grid_N.png\" width=\"250 px\" >\n",
    "\n",
    "Here are some examples to fully understand `GridN`. It is slightly different from `GridEight`:\n",
    "`GridEight` is equivalent to `GridN` when N = 1.\n",
    "\n",
    "- When N = 1:\n",
    "    \\begin{bmatrix}\n",
    "    x & x & x\\\\\n",
    "    x & I & x\\\\\n",
    "    x & x & x\n",
    "    \\end{bmatrix}\n",
    "\n",
    "- When N = 2:\n",
    "     \\begin{bmatrix}\n",
    "    x & x & x & x & x\\\\\n",
    "    x & x & x & x & x\\\\\n",
    "    x & x & I & x & x\\\\\n",
    "    x & x & x & x & x\\\\\n",
    "    x & x & x & x & x\n",
    "    \\end{bmatrix}"
   ]
  },
  {
   "cell_type": "code",
   "execution_count": 6,
   "metadata": {},
   "outputs": [],
   "source": [
    "conn = bp.connect.GridN(N=2, include_self=False)\n",
    "conn(pre_size=size)"
   ]
  },
  {
   "cell_type": "markdown",
   "source": [
    "Here is an example:"
   ],
   "metadata": {
    "collapsed": false,
    "pycharm": {
     "name": "#%% md\n"
    }
   }
  },
  {
   "cell_type": "code",
   "execution_count": 15,
   "outputs": [
    {
     "name": "stdout",
     "output_type": "stream",
     "text": [
      "pre_ids JaxArray(DeviceArray([0, 0, 0, 1, 1, 1, 1, 1, 2, 2, 2, 3, 3, 3, 3, 3, 4, 4, 4, 4,\n",
      "                      4, 4, 4, 4, 5, 5, 5, 5, 5, 6, 6, 6, 7, 7, 7, 7, 7, 8, 8, 8],            dtype=uint32))\n",
      "conn_mat JaxArray(DeviceArray([[False,  True, False,  True,  True, False, False, False,\n",
      "                       False],\n",
      "                      [ True, False,  True,  True,  True,  True, False, False,\n",
      "                       False],\n",
      "                      [False,  True, False, False,  True,  True, False, False,\n",
      "                       False],\n",
      "                      [ True,  True, False, False,  True, False,  True,  True,\n",
      "                       False],\n",
      "                      [ True,  True,  True,  True, False,  True,  True,  True,\n",
      "                        True],\n",
      "                      [False,  True,  True, False,  True, False, False,  True,\n",
      "                        True],\n",
      "                      [False, False, False,  True,  True, False, False,  True,\n",
      "                       False],\n",
      "                      [False, False, False,  True,  True,  True,  True, False,\n",
      "                        True],\n",
      "                      [False, False, False, False,  True,  True, False,  True,\n",
      "                       False]], dtype=bool))\n"
     ]
    },
    {
     "name": "stderr",
     "output_type": "stream",
     "text": [
      "/Users/ztqakita/opt/miniconda3/lib/python3.9/site-packages/jax/_src/numpy/lax_numpy.py:3610: UserWarning: Explicitly requested dtype <class 'numpy.uint64'> requested in asarray is not available, and will be truncated to dtype uint32. To enable more dtypes, set the jax_enable_x64 configuration option or the JAX_ENABLE_X64 shell environment variable. See https://github.com/google/jax#current-gotchas for more.\n",
      "  lax._check_user_dtype_supported(dtype, \"asarray\")\n"
     ]
    }
   ],
   "source": [
    "size = (3, 3)\n",
    "conn = bp.connect.GridN(N=1, include_self=False)(pre_size=size)\n",
    "res = conn.require('pre_ids', 'conn_mat')\n",
    "\n",
    "print('pre_ids', res[0])\n",
    "print('conn_mat', res[1])"
   ],
   "metadata": {
    "collapsed": false,
    "pycharm": {
     "name": "#%%\n"
    }
   }
  },
  {
   "cell_type": "markdown",
   "metadata": {},
   "source": [
    "## Build-in random connections"
   ]
  },
  {
   "cell_type": "markdown",
   "metadata": {},
   "source": [
    "### brainpy.connect.FixedProb\n",
    "\n",
    "For each post-synaptic neuron, there is a fixed probability that it forms a connection\n",
    "with a neuron of the pre-synaptic population. It is basically a all_to_all projection,\n",
    "except some synapses are not created, making the projection sparser.\n",
    "\n",
    "<img src=\"../_static/fixed_proab.png\" width=\"200 px\" >"
   ]
  },
  {
   "cell_type": "code",
   "execution_count": 7,
   "metadata": {},
   "outputs": [],
   "source": [
    "conn = bp.connect.FixedProb(prob=0.5, include_self=False, seed=1234)"
   ]
  },
  {
   "cell_type": "markdown",
   "metadata": {},
   "source": [
    "### brainpy.connect.FixedPreNum\n",
    "\n",
    "Each neuron in the post-synaptic population receives connections from a\n",
    "fixed number of neurons of the pre-synaptic population chosen randomly.\n",
    "It may happen that two post-synaptic neurons are connected to the same\n",
    "pre-synaptic neuron and that some pre-synaptic neurons are connected to\n",
    "nothing.\n",
    "\n",
    "<img src=\"../_static/fixed_pre_num.png\" width=\"200 px\">"
   ]
  },
  {
   "cell_type": "code",
   "execution_count": 8,
   "metadata": {},
   "outputs": [],
   "source": [
    "conn = bp.connect.FixedPreNum(num=10, include_self=True, seed=1234)"
   ]
  },
  {
   "cell_type": "markdown",
   "metadata": {},
   "source": [
    "### brainpy.connect.FixedPostNum\n",
    "\n",
    "Each neuron in the pre-synaptic population sends a connection to a fixed number of neurons\n",
    "of the post-synaptic population chosen randomly. It may happen that two pre-synaptic neurons\n",
    "are connected to the same post-synaptic neuron and that some post-synaptic neurons receive\n",
    "no connection at all.\n",
    "\n",
    "<img src=\"../_static/fixed_post_num.png\" width=\"200 px\">"
   ]
  },
  {
   "cell_type": "code",
   "execution_count": 9,
   "metadata": {},
   "outputs": [],
   "source": [
    "conn = bp.connect.FixedPostNum(num=10, include_self=True, seed=1234)"
   ]
  },
  {
   "cell_type": "markdown",
   "metadata": {},
   "source": [
    "### brainpy.connect.GaussianProb\n",
    "\n",
    "\n",
    "Builds a Gaussian connection pattern between the two populations, where\n",
    "the connection probability decay according to the gaussian function.\n",
    "\n",
    "Specifically,\n",
    "\n",
    "$$\n",
    "p=\\exp\\left(-\\frac{(x-x_c)^2+(y-y_c)^2}{2\\sigma^2}\\right)\n",
    "$$\n",
    "\n",
    "where $(x, y)$ is the position of the pre-synaptic neuron\n",
    "and $(x_c,y_c)$ is the position of the post-synaptic neuron.\n",
    "\n",
    "For example, in a $30 \\textrm{x} 30$ two-dimensional networks, when\n",
    "$\\beta = \\frac{1}{2\\sigma^2} = 0.1$, the connection pattern is shown\n",
    "as the follows:\n",
    "\n",
    "<img src=\"../_static/gaussian_prob.png\" width=\"500 px\">"
   ]
  },
  {
   "cell_type": "code",
   "execution_count": 10,
   "metadata": {},
   "outputs": [],
   "source": [
    "conn = bp.connect.GaussianProb(sigma=0.2, p_min=0.01, normalize=True, include_self=True, seed=1234)"
   ]
  },
  {
   "cell_type": "markdown",
   "metadata": {},
   "source": [
    "### brainpy.connect.GaussianWeight\n",
    "\n",
    "Builds a Gaussian connection pattern between the two populations, where\n",
    "the weights decay with gaussian function.\n",
    "\n",
    "Specifically,\n",
    "\n",
    "$$w(x, y) = w_{max} \\cdot \\exp\\left(-\\frac{(x-x_c)^2+(y-y_c)^2}{2\\sigma^2}\\right)$$\n",
    "\n",
    "where $(x, y)$ is the position of the pre-synaptic neuron (normalized\n",
    "to [0,1]) and $(x_c,y_c)$ is the position of the post-synaptic neuron\n",
    "(normalized to [0,1]), $w_{max}$ is the maximum weight. In order to void\n",
    "creating useless synapses, $w_{min}$ can be set to restrict the creation\n",
    "of synapses to the cases where the value of the weight would be superior\n",
    "to $w_{min}$. Default is $0.01 w_{max}$.\n"
   ]
  },
  {
   "cell_type": "code",
   "execution_count": 11,
   "metadata": {
    "ExecuteTime": {
     "end_time": "2021-03-25T03:03:15.602031Z",
     "start_time": "2021-03-25T03:03:15.587416Z"
    }
   },
   "outputs": [],
   "source": [
    "def show_weight(pre_ids, post_ids, weights, geometry, neu_id):\n",
    "    height, width = geometry\n",
    "    ids = np.where(pre_ids == neu_id)[0]\n",
    "    post_ids = post_ids[ids]\n",
    "    weights = weights[ids]\n",
    "\n",
    "    X, Y = np.arange(height), np.arange(width)\n",
    "    X, Y = np.meshgrid(X, Y)\n",
    "    Z = np.zeros(geometry)\n",
    "    for id_, weight in zip(post_ids, weights):\n",
    "        h, w = id_ // width, id_ % width\n",
    "        Z[h, w] = weight\n",
    "\n",
    "    fig = plt.figure()\n",
    "    ax = fig.gca(projection='3d')\n",
    "    surf = ax.plot_surface(X, Y, Z, cmap=plt.cm.coolwarm, linewidth=0, antialiased=False)\n",
    "    fig.colorbar(surf, shrink=0.5, aspect=5)\n",
    "    plt.show()"
   ]
  },
  {
   "cell_type": "code",
   "execution_count": 12,
   "metadata": {},
   "outputs": [],
   "source": [
    "conn = bp.connect.GaussianWeight(sigma=0.1, w_max=1., w_min=0.01,\n",
    "                                 normalize=True, include_self=True)"
   ]
  },
  {
   "cell_type": "code",
   "execution_count": 13,
   "metadata": {
    "ExecuteTime": {
     "end_time": "2021-03-25T03:03:18.031905Z",
     "start_time": "2021-03-25T03:03:15.606977Z"
    },
    "scrolled": true
   },
   "outputs": [
    {
     "data": {
      "image/png": "[encoded data removed]",
      "text/plain": [
       "<Figure size 432x288 with 2 Axes>"
      ]
     },
     "metadata": {
      "needs_background": "light"
     },
     "output_type": "display_data"
    }
   ],
   "source": [
    "pre_geom = post_geom = (40, 40)\n",
    "conn(pre_geom, post_geom)\n",
    "\n",
    "pre_ids = conn.pre_ids\n",
    "post_ids = conn.post_ids\n",
    "weights = conn.weights\n",
    "show_weight(pre_ids, post_ids, weights, pre_geom, 820)"
   ]
  },
  {
   "cell_type": "markdown",
   "metadata": {},
   "source": [
    "### brainpy.connect.DOG\n",
    "\n",
    "\n",
    "Builds a Difference-Of-Gaussian (dog) connection pattern between the two populations.\n",
    "\n",
    "Mathematically,\n",
    "\n",
    "$$\n",
    "w(x, y) = w_{max}^+ \\cdot \\exp\\left(-\\frac{(x-x_c)^2+(y-y_c)^2}{2\\sigma_+^2}\\right)\n",
    "    - w_{max}^- \\cdot \\exp\\left(-\\frac{(x-x_c)^2+(y-y_c)^2}{2\\sigma_-^2}\\right)\n",
    "$$\n",
    "\n",
    "where weights smaller than $0.01 * abs(w_{max} - w_{min})$ are not created and\n",
    "self-connections are avoided by default (parameter allow_self_connections).\n"
   ]
  },
  {
   "cell_type": "code",
   "execution_count": 14,
   "metadata": {
    "ExecuteTime": {
     "end_time": "2021-03-25T03:03:20.846295Z",
     "start_time": "2021-03-25T03:03:18.032908Z"
    },
    "scrolled": true
   },
   "outputs": [
    {
     "data": {
      "image/png": "[encoded data removed]",
      "text/plain": [
       "<Figure size 432x288 with 2 Axes>"
      ]
     },
     "metadata": {
      "needs_background": "light"
     },
     "output_type": "display_data"
    }
   ],
   "source": [
    "dog = bp.connect.DOG(sigmas=(0.08, 0.15), ws_max=(1.0, 0.7), w_min=0.01,\n",
    "                     normalize=True, include_self=True)\n",
    "h = 40\n",
    "pre_geom = post_geom = (h, h)\n",
    "dog(pre_geom, post_geom)\n",
    "\n",
    "pre_ids = dog.pre_ids\n",
    "post_ids = dog.post_ids\n",
    "weights = dog.weights\n",
    "show_weight(pre_ids, post_ids, weights, (h, h), h * h // 2 + h // 2)"
   ]
  },
  {
   "cell_type": "markdown",
   "metadata": {},
   "source": [
    "### brainpy.connect.SmallWorld"
   ]
  },
  {
   "cell_type": "markdown",
   "metadata": {},
   "source": [
    "`SmallWorld` is a connector class to help build a [small-world network](https://en.wikipedia.org/wiki/Small-world_network) [1].  small-world network is defined to be a network where the typical distance L between two randomly chosen nodes (the number of steps required) grows proportionally to the logarithm of the number of nodes N in the network, that is:\n",
    "\n",
    "$$\n",
    "L\\propto \\log N\n",
    "$$\n",
    "\n",
    "[1] Duncan J. Watts and Steven H. Strogatz, Collective dynamics of small-world networks, Nature, 393, pp. 440–442, 1998."
   ]
  },
  {
   "cell_type": "markdown",
   "metadata": {},
   "source": [
    "Currently, `SmallWorld` only support a one-dimensional network with the ring structure. It receives four settings:\n",
    "\n",
    "- `num_neighbor`: the number of the nearest neighbors to connect.\n",
    "- `prob`: the probability of rewiring each edge.\n",
    "- `directed`: whether the edge is the directed (\"directed=True\") or undirected (\"directed=False\") connection.\n",
    "- `include_self`: whether allow to connect to itself."
   ]
  },
  {
   "cell_type": "code",
   "execution_count": 15,
   "metadata": {},
   "outputs": [],
   "source": [
    "conn = bp.connect.SmallWorld(num_neighbor=5, prob=0.2, directed=False, include_self=False)"
   ]
  },
  {
   "cell_type": "markdown",
   "metadata": {},
   "source": [
    "### brainpy.connect.ScaleFreeBA"
   ]
  },
  {
   "cell_type": "markdown",
   "metadata": {},
   "source": [
    "`ScaleFreeBA` is a connector class to help build a random scale-free network according to the [Barabási–Albert preferential attachment model](https://en.wikipedia.org/wiki/Barab%C3%A1si%E2%80%93Albert_model) [2]. `ScaleFreeBA` receives the following settings:\n",
    "\n",
    "- `m`: Number of edges to attach from a new node to existing nodes.\n",
    "- `directed`: whether the edge is the directed (\"directed=True\") or undirected (\"directed=False\") connection.\n",
    "- `seed`: Indicator of random number generation state.\n",
    "\n",
    "[2] A. L. Barabási and R. Albert “Emergence of scaling in random networks”, Science 286, pp 509-512, 1999."
   ]
  },
  {
   "cell_type": "code",
   "execution_count": 16,
   "metadata": {},
   "outputs": [],
   "source": [
    "conn = bp.connect.ScaleFreeBA(m=5, directed=False, seed=12345)"
   ]
  },
  {
   "cell_type": "markdown",
   "metadata": {},
   "source": [
    "### brainpy.connect.ScaleFreeBADual"
   ]
  },
  {
   "cell_type": "markdown",
   "metadata": {},
   "source": [
    "`ScaleFreeBADual` is a connector class to help build a random scale-free network according to the dual Barabási–Albert preferential attachment model [3]. ScaleFreeBA receives the following settings:\n",
    "\n",
    "- `p`: The probability of attaching $m_1$ edges (as opposed to $m_2$ edges).\n",
    "- `m1` : Number of edges to attach from a new node to existing nodes with probability $p$.\n",
    "- `m2`: Number of edges to attach from a new node to existing nodes with probability $1-p$.   \n",
    "- `directed`: whether the edge is the directed (\"directed=True\") or undirected (\"directed=False\") connection.\n",
    "- `seed`: Indicator of random number generation state.\n",
    "\n",
    "[3] N. Moshiri. \"The dual-Barabasi-Albert model\", arXiv:1810.10538."
   ]
  },
  {
   "cell_type": "code",
   "execution_count": 17,
   "metadata": {},
   "outputs": [],
   "source": [
    "conn = bp.connect.ScaleFreeBADual(m1=3, m2=5, p=0.5, directed=False, seed=12345)"
   ]
  },
  {
   "cell_type": "markdown",
   "metadata": {},
   "source": [
    "### brainpy.connect.PowerLaw"
   ]
  },
  {
   "cell_type": "markdown",
   "metadata": {},
   "source": [
    "`PowerLaw` is a connector class to help build a random graph with powerlaw degree distribution and approximate average clustering [4]. It receives the following settings:\n",
    "\n",
    "- `m` : the number of random edges to add for each new node\n",
    "- `p` : Probability of adding a triangle after adding a random edge\n",
    "- `directed`: whether the edge is the directed (\"directed=True\") or undirected (\"directed=False\") connection.\n",
    "- `seed` : Indicator of random number generation state.\n",
    "\n",
    "[4] P. Holme and B. J. Kim, “Growing scale-free networks with tunable clustering”, Phys. Rev. E, 65, 026107, 2002."
   ]
  },
  {
   "cell_type": "code",
   "execution_count": 18,
   "metadata": {},
   "outputs": [],
   "source": [
    "conn = bp.connect.PowerLaw(m=3, p=0.5, directed=False, seed=12345)"
   ]
  },
  {
   "cell_type": "markdown",
   "metadata": {},
   "source": [
    "## Customize your connections"
   ]
  },
  {
   "cell_type": "markdown",
   "metadata": {},
   "source": [
    "BrainPy also allows you to customize your model connections. What need users do is only two aspects:\n",
    "\n",
    "- Your connection class should inherit `brainpy.connect.Connector`. \n",
    "- Initialize the `conn_mat`  or `pre_ids`+ `post_ids` synaptic structures.\n",
    "- Provide `num_pre` and `num_post` information.\n",
    "\n",
    "In such a way, based on this customized connection class, users can generate any other synaptic structures (such like `pre2post`, `pre2syn`, `pre_slice_syn`, etc.) easily."
   ]
  },
  {
   "cell_type": "markdown",
   "metadata": {},
   "source": [
    "Here, let's take a simple connection as an example. In this example, we create a connection method which receives users' handful index projection. "
   ]
  },
  {
   "cell_type": "code",
   "execution_count": 19,
   "metadata": {},
   "outputs": [],
   "source": [
    "class IndexConn(bp.connect.Connector):\n",
    "    def __init__(self, i, j):\n",
    "        super(IndexConn, self).__init__()\n",
    "        \n",
    "        # initialize the class via \"pre_ids\" and \"post_ids\"\n",
    "        self.pre_ids = bp.ops.as_tensor(i)\n",
    "        self.post_ids = bp.ops.as_tensor(j)\n",
    "    \n",
    "    def __call__(self, pre_size, post_size):\n",
    "        self.num_pre = bp.size2len(pre_size)  # this is ncessary when create \"pre2post\" , \n",
    "                                              # \"pre2syn\"  etc. structures\n",
    "        self.num_post = bp.size2len(post_size) # this is ncessary when create \"post2pre\" , \n",
    "                                               # \"post2syn\"  etc. structures\n",
    "        return self"
   ]
  },
  {
   "cell_type": "markdown",
   "metadata": {},
   "source": [
    "Let's try to use it."
   ]
  },
  {
   "cell_type": "code",
   "execution_count": 20,
   "metadata": {},
   "outputs": [],
   "source": [
    "conn = IndexConn(i=[0, 1, 2], j=[0, 0, 0])\n",
    "conn = conn(pre_size=5, post_size=3)"
   ]
  },
  {
   "cell_type": "code",
   "execution_count": 21,
   "metadata": {},
   "outputs": [
    {
     "data": {
      "text/plain": [
       "array([[1., 0., 0.],\n",
       "       [1., 0., 0.],\n",
       "       [1., 0., 0.],\n",
       "       [0., 0., 0.],\n",
       "       [0., 0., 0.]])"
      ]
     },
     "execution_count": 21,
     "metadata": {},
     "output_type": "execute_result"
    }
   ],
   "source": [
    "conn.requires('conn_mat')"
   ]
  },
  {
   "cell_type": "code",
   "execution_count": 22,
   "metadata": {},
   "outputs": [
    {
     "data": {
      "text/plain": [
       "[array([0]),\n",
       " array([0]),\n",
       " array([0]),\n",
       " array([], dtype=int32),\n",
       " array([], dtype=int32)]"
      ]
     },
     "execution_count": 22,
     "metadata": {},
     "output_type": "execute_result"
    }
   ],
   "source": [
    "conn.requires('pre2post')"
   ]
  },
  {
   "cell_type": "code",
   "execution_count": 23,
   "metadata": {
    "scrolled": true
   },
   "outputs": [
    {
     "data": {
      "text/plain": [
       "[array([0]),\n",
       " array([1]),\n",
       " array([2]),\n",
       " array([], dtype=int32),\n",
       " array([], dtype=int32)]"
      ]
     },
     "execution_count": 23,
     "metadata": {},
     "output_type": "execute_result"
    }
   ],
   "source": [
    "conn.requires('pre2syn')"
   ]
  },
  {
   "cell_type": "code",
   "execution_count": 24,
   "metadata": {
    "scrolled": true
   },
   "outputs": [
    {
     "data": {
      "text/plain": [
       "array([[0, 1],\n",
       "       [1, 2],\n",
       "       [2, 3],\n",
       "       [3, 3],\n",
       "       [3, 3]])"
      ]
     },
     "execution_count": 24,
     "metadata": {},
     "output_type": "execute_result"
    }
   ],
   "source": [
    "conn.requires('pre_slice_syn')"
   ]
  },
  {
   "cell_type": "markdown",
   "metadata": {},
   "source": [
    "---\n",
    "\n",
    "- Chaoming Wang (adaduo@outlook.com)\n",
    "- Update at 2021.04.16\n",
    "\n",
    "---"
   ]
  }
 ],
 "metadata": {
  "kernelspec": {
   "name": "pycharm-a7ce89d2",
   "language": "python",
   "display_name": "PyCharm (assignments)"
  },
  "language_info": {
   "codemirror_mode": {
    "name": "ipython",
    "version": 3
   },
   "file_extension": ".py",
   "mimetype": "text/x-python",
   "name": "python",
   "nbconvert_exporter": "python",
   "pygments_lexer": "ipython3",
   "version": "3.8.5"
  },
  "latex_envs": {
   "LaTeX_envs_menu_present": true,
   "autoclose": false,
   "autocomplete": true,
   "bibliofile": "biblio.bib",
   "cite_by": "apalike",
   "current_citInitial": 1,
   "eqLabelWithNumbers": true,
   "eqNumInitial": 1,
   "hotkeys": {
    "equation": "Ctrl-E",
    "itemize": "Ctrl-I"
   },
   "labels_anchors": false,
   "latex_user_defs": false,
   "report_style_numbering": false,
   "user_envs_cfg": false
  },
  "toc": {
   "base_numbering": 1,
   "nav_menu": {
    "height": "411px",
    "width": "316px"
   },
   "number_sections": false,
   "sideBar": true,
   "skip_h1_title": false,
   "title_cell": "Table of Contents",
   "title_sidebar": "Contents",
   "toc_cell": false,
   "toc_position": {
    "height": "calc(100% - 180px)",
    "left": "10px",
    "top": "150px",
    "width": "243.068px"
   },
   "toc_section_display": true,
   "toc_window_display": true
  },
  "varInspector": {
   "cols": {
    "lenName": 16,
    "lenType": 16,
    "lenVar": 40
   },
   "kernels_config": {
    "python": {
     "delete_cmd_postfix": "",
     "delete_cmd_prefix": "del ",
     "library": "var_list.py",
     "varRefreshCmd": "print(var_dic_list())"
    },
    "r": {
     "delete_cmd_postfix": ") ",
     "delete_cmd_prefix": "rm(",
     "library": "var_list.r",
     "varRefreshCmd": "cat(var_dic_list()) "
    }
   },
   "types_to_exclude": [
    "module",
    "function",
    "builtin_function_or_method",
    "instance",
    "_Feature"
   ],
   "window_display": false
  }
 },
 "nbformat": 4,
 "nbformat_minor": 4
}