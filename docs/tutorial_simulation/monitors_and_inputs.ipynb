{
 "cells": [
  {
   "cell_type": "markdown",
   "id": "f753f3ab",
   "metadata": {},
   "source": [
    "# Monitors and Inputs"
   ]
  },
  {
   "cell_type": "markdown",
   "id": "904397dd",
   "metadata": {},
   "source": [
    "@[Chaoming Wang](https://github.com/chaoming0625)"
   ]
  },
  {
   "cell_type": "markdown",
   "id": "7717e918",
   "metadata": {},
   "source": [
    "BrainPy has a [systematic naming system](../tutorial_math/base.ipynb). Any model in BrainPy have a unique name. Thus, nodes, integrators, and variables can be easily accessed in a huge network. Based on this naming system, BrainPy provides a set of convenient monitoring and input supports. In this tutorial, we are going to talk about this. "
   ]
  },
  {
   "cell_type": "code",
   "execution_count": 1,
   "id": "19ba3a79",
   "metadata": {},
   "outputs": [],
   "source": [
    "import brainpy as bp\n",
    "import brainpy.math as bm\n",
    "\n",
    "bp.math.set_platform('cpu')\n",
    "bp.math.set_dt(0.02)"
   ]
  },
  {
   "cell_type": "code",
   "execution_count": 2,
   "id": "8cfa1c32",
   "metadata": {},
   "outputs": [],
   "source": [
    "import numpy as np\n",
    "import matplotlib.pyplot as plt"
   ]
  },
  {
   "cell_type": "markdown",
   "id": "596a3c54",
   "metadata": {},
   "source": [
    "## Monitors"
   ]
  },
  {
   "cell_type": "markdown",
   "id": "1143dc69",
   "metadata": {},
   "source": [
    "In BrainPy, any instance of ``brainpy.Runner`` has a build-in monitor. Users can set up the monitor when initializing a runner. \n",
    "\n",
    "Here, we have the following `HH` neuron model,"
   ]
  },
  {
   "cell_type": "code",
   "execution_count": 3,
   "id": "b326e5af",
   "metadata": {},
   "outputs": [],
   "source": [
    "class HH(bp.NeuGroup):\n",
    "  def __init__(self, size, ENa=50., EK=-77., EL=-54.387, C=1.0, \n",
    "               gNa=120., gK=36., gL=0.03, V_th=20., name=None):\n",
    "    super(HH, self).__init__(size=size, name=name)\n",
    "\n",
    "    # parameters\n",
    "    self.ENa = ENa\n",
    "    self.EK = EK\n",
    "    self.EL = EL\n",
    "    self.C = C\n",
    "    self.gNa = gNa\n",
    "    self.gK = gK\n",
    "    self.gL = gL\n",
    "    self.V_th = V_th\n",
    "\n",
    "    # variables\n",
    "    self.V = bm.Variable(bm.ones(self.num) * -65.)\n",
    "    self.m = bm.Variable(bm.ones(self.num) * 0.5)\n",
    "    self.h = bm.Variable(bm.ones(self.num) * 0.6)\n",
    "    self.n = bm.Variable(bm.ones(self.num) * 0.32)\n",
    "    self.input = bm.Variable(bm.zeros(self.num))\n",
    "    self.spike = bm.Variable(bm.zeros(self.num, dtype=bool))\n",
    "    \n",
    "    # functions\n",
    "    self.integral = bp.odeint(self.derivative, method='rk4')\n",
    "\n",
    "  def derivative(self, V, m, h, n, t, Iext):\n",
    "    alpha = 0.1 * (V + 40) / (1 - bm.exp(-(V + 40) / 10))\n",
    "    beta = 4.0 * bm.exp(-(V + 65) / 18)\n",
    "    dmdt = alpha * (1 - m) - beta * m\n",
    "\n",
    "    alpha = 0.07 * bm.exp(-(V + 65) / 20.)\n",
    "    beta = 1 / (1 + bm.exp(-(V + 35) / 10))\n",
    "    dhdt = alpha * (1 - h) - beta * h\n",
    "\n",
    "    alpha = 0.01 * (V + 55) / (1 - bm.exp(-(V + 55) / 10))\n",
    "    beta = 0.125 * bm.exp(-(V + 65) / 80)\n",
    "    dndt = alpha * (1 - n) - beta * n\n",
    "\n",
    "    I_Na = (self.gNa * m ** 3 * h) * (V - self.ENa)\n",
    "    I_K = (self.gK * n ** 4) * (V - self.EK)\n",
    "    I_leak = self.gL * (V - self.EL)\n",
    "    dVdt = (- I_Na - I_K - I_leak + Iext) / self.C\n",
    "\n",
    "    return dVdt, dmdt, dhdt, dndt\n",
    "\n",
    "  def update(self, _t, _dt):\n",
    "    V, m, h, n = self.integral(self.V, self.m, self.h, self.n, _t, self.input)\n",
    "    self.spike.value = bm.logical_and(self.V < self.V_th, V >= self.V_th)\n",
    "    self.V.value = V\n",
    "    self.m.value = m\n",
    "    self.h.value = h\n",
    "    self.n.value = n\n",
    "    self.input[:] = 0"
   ]
  },
  {
   "cell_type": "code",
   "execution_count": 4,
   "id": "243db637",
   "metadata": {},
   "outputs": [],
   "source": [
    "model  = HH(1)"
   ]
  },
  {
   "cell_type": "markdown",
   "id": "cedf74d0",
   "metadata": {},
   "source": [
    "First method is to initialize a monitor is using a list/tuple of strings. "
   ]
  },
  {
   "cell_type": "code",
   "execution_count": 15,
   "id": "db284f81",
   "metadata": {
    "scrolled": true
   },
   "outputs": [
    {
     "data": {
      "text/plain": [
       "brainpy.simulation.monitor.Monitor"
      ]
     },
     "execution_count": 15,
     "metadata": {},
     "output_type": "execute_result"
    }
   ],
   "source": [
    "# set up a monitor using a list of str\n",
    "runner1 = bp.StructRunner(model, \n",
    "                          monitors=['V', 'spike'], \n",
    "                          inputs=('input', 10))\n",
    "\n",
    "type(runner1.mon)"
   ]
  },
  {
   "cell_type": "markdown",
   "id": "b42f65b5",
   "metadata": {},
   "source": [
    "The initialized monitor is an instance of ``brainpy.Monitor``. Therefore, users can also directly use ``Monitor`` class to initialize a monitor. "
   ]
  },
  {
   "cell_type": "code",
   "execution_count": 8,
   "id": "85524b4f",
   "metadata": {},
   "outputs": [],
   "source": [
    "# set up a monitor using brainpy.Monitor\n",
    "runner2 = bp.StructRunner(model, monitors=bp.Monitor(variables=['V', 'spike']))"
   ]
  },
  {
   "cell_type": "markdown",
   "id": "fff55d35",
   "metadata": {},
   "source": [
    "Once we call the ``.run()`` function in the runner, the monitor will automatically record the variable evolutions in the corresponding models. Afterwards, users can access these variable trajectories by using ``.mon.[variable_name]``. The default history times ``.mon.ts`` will also be generated after the model finishes its running. Let's see an example. "
   ]
  },
  {
   "cell_type": "code",
   "execution_count": 16,
   "id": "43451236",
   "metadata": {},
   "outputs": [
    {
     "data": {
      "image/png": "[encoded data removed]",
      "text/plain": [
       "<Figure size 640x480 with 1 Axes>"
      ]
     },
     "metadata": {},
     "output_type": "display_data"
    }
   ],
   "source": [
    "runner1.run(100.)\n",
    "\n",
    "bp.visualize.line_plot(runner1.mon.ts, runner1.mon.V, show=True)"
   ]
  },
  {
   "cell_type": "markdown",
   "id": "8389cad4",
   "metadata": {},
   "source": [
    "The monitor in ``runner1`` has recorded the evolution of `V`. Therefore, it can be accessed by ``runner1.mon.V`` or equivalently ``runner1.mon['V']``. Similarly, the recorded trajectory of variable `spike` can also be obtained through ``runner1.mon.spike``. "
   ]
  },
  {
   "cell_type": "code",
   "execution_count": 17,
   "id": "4d08caa4",
   "metadata": {},
   "outputs": [
    {
     "data": {
      "text/plain": [
       "array([[False],\n",
       "       [False],\n",
       "       [False],\n",
       "       ...,\n",
       "       [False],\n",
       "       [False],\n",
       "       [False]])"
      ]
     },
     "execution_count": 17,
     "metadata": {},
     "output_type": "execute_result"
    }
   ],
   "source": [
    "runner1.mon.spike"
   ]
  },
  {
   "cell_type": "markdown",
   "id": "8e46f299",
   "metadata": {},
   "source": [
    "### The mechanism of ``monitors``"
   ]
  },
  {
   "cell_type": "markdown",
   "id": "f4cd5f06",
   "metadata": {},
   "source": [
    "We want to record ``HH.V`` and ``HH.spike``, why we define ``monitors=['V', 'spike']`` during ``HH`` initialization is successful? How does ``brainpy.Monitor`` recognize what variables I want to trace?"
   ]
  },
  {
   "cell_type": "markdown",
   "id": "2a95ada6",
   "metadata": {},
   "source": [
    "Actually, BrainPy first tries to find the interested variables in the simulation target by [the relative path](../tutorial_math/base.ipynb). If not found, BrainPy checks whether the variable can be accessed by [the absolute path](../tutorial_math/base.ipynb) by the simluation target. Not found again? An error will be raised. "
   ]
  },
  {
   "cell_type": "code",
   "execution_count": 20,
   "id": "1f2acef5",
   "metadata": {},
   "outputs": [
    {
     "data": {
      "text/plain": [
       "<function monitor_step(_t, _dt)>"
      ]
     },
     "execution_count": 20,
     "metadata": {},
     "output_type": "execute_result"
    }
   ],
   "source": [
    "net = bp.Network(HH(size=10, name='X'), \n",
    "                 HH(size=20, name='Y'), \n",
    "                 HH(size=30))\n",
    "\n",
    "# it's ok\n",
    "bp.StructRunner(net, monitors=['X.V', 'Y.spike']).build_monitors()  "
   ]
  },
  {
   "cell_type": "markdown",
   "id": "1a290ec8",
   "metadata": {},
   "source": [
    "In the above ``net``, there are ``HH`` instances named as \"X\" and \"Y\". Therefore, trying to monitor \"X.V\" and \"Y.spike\" is successful. "
   ]
  },
  {
   "cell_type": "markdown",
   "id": "a143e5ab",
   "metadata": {},
   "source": [
    "However, in the following example, node named with \"Z\" is not accessible in the generated ``net``. Therefore the monitoring setup failed. "
   ]
  },
  {
   "cell_type": "code",
   "execution_count": 5,
   "id": "2730ace5",
   "metadata": {},
   "outputs": [
    {
     "name": "stdout",
     "output_type": "stream",
     "text": [
      "RunningError : Cannot find target Z.V in monitor of <brainpy.simulation.brainobjects.network.Network object at 0x000002A3D28D19A0>, please check.\n"
     ]
    }
   ],
   "source": [
    "z = HH(size=30, name='Z')\n",
    "net = bp.Network(HH(size=10), HH(size=20))\n",
    "\n",
    "# node \"Z\" can not be accessed in the simulation target 'net'\n",
    "try:\n",
    "    bp.StructRunner(net, monitors=['Z.V']).build_monitors()  \n",
    "except Exception as e:\n",
    "    print(type(e).__name__, \":\", e)"
   ]
  },
  {
   "cell_type": "markdown",
   "id": "50ee199f",
   "metadata": {},
   "source": [
    "```{note}\n",
    "BrainPy only supports to monitor [Variable](../tutorial_math/variables.ipynb). This is because monitoring [Variable](../tutorial_math/variables.ipynb)'s trajectory is meaningful. They are dynamically changed, and others not marked as Variable will be compiled as constants. \n",
    "```"
   ]
  },
  {
   "cell_type": "code",
   "execution_count": 6,
   "id": "8bacf930",
   "metadata": {},
   "outputs": [
    {
     "name": "stdout",
     "output_type": "stream",
     "text": [
      "RunningError : \"gNa\" in <__main__.HH object at 0x000002A3D239ADF0> is not a dynamically changed Variable, its value will not change, we think there is no need to monitor its trajectory.\n"
     ]
    }
   ],
   "source": [
    "try:\n",
    "    bp.StructRunner(HH(size=1), monitors=['gNa']).build_monitors() \n",
    "except Exception as e:\n",
    "    print(type(e).__name__, \":\", e)"
   ]
  },
  {
   "cell_type": "markdown",
   "id": "a6732c5b",
   "metadata": {},
   "source": [
    "```{note}\n",
    "The monitors in BrainPy only record the flattened tensor values. This means if your target variable is a matrix with the shape of ``(N, M)``, the resulting trajectory value in the monitor after running ``T`` times will be a tensor with the shape of ``(T, N x M)``.\n",
    "```"
   ]
  },
  {
   "cell_type": "code",
   "execution_count": 8,
   "id": "78583b04",
   "metadata": {},
   "outputs": [
    {
     "name": "stdout",
     "output_type": "stream",
     "text": [
      "The expected shape of \"model.mon.a\" is: (500, 16)\n",
      "The actual shape of \"model.mon.a\" is: (500, 16)\n"
     ]
    }
   ],
   "source": [
    "class MatrixVarModel(bp.DynamicalSystem):\n",
    "    def __init__(self, **kwargs):\n",
    "        super(MatrixVarModel, self).__init__(**kwargs)\n",
    "        \n",
    "        self.a = bm.Variable(bm.zeros((4, 4)))\n",
    "    \n",
    "    def update(self, _t, _dt):\n",
    "        self.a += 0.01\n",
    "        \n",
    "        \n",
    "model = MatrixVarModel()\n",
    "duration = 10\n",
    "runner = bp.StructRunner(model, monitors=['a'])\n",
    "runner.run(duration)\n",
    "\n",
    "print(f'The expected shape of \"model.mon.a\" is: {(int(duration/bm.get_dt()), model.a.size)}')\n",
    "print(f'The actual shape of \"model.mon.a\" is: {runner.mon.a.shape}')"
   ]
  },
  {
   "cell_type": "markdown",
   "id": "8c2c00ae",
   "metadata": {},
   "source": [
    "### Monitor variables at the selected index"
   ]
  },
  {
   "cell_type": "markdown",
   "id": "92e07213",
   "metadata": {},
   "source": [
    "Sometimes, we do not always take care of the all the content in a variable. We may be only interested in the values at the selected index. Moreover, for a huge network with a long time simulation, monitors will be a big part to consume RAM. So, only monitoring variables at the selected index will be a good solution. Fortunately, BrainPy supports to monitor a part of elements in a Variable with the format of tuple/dict like this:"
   ]
  },
  {
   "cell_type": "code",
   "execution_count": 9,
   "id": "b7d0d089",
   "metadata": {
    "scrolled": false
   },
   "outputs": [
    {
     "name": "stdout",
     "output_type": "stream",
     "text": [
      "The monitor shape of \"V\" is (run length, variable size) = (5000, 10)\n",
      "The monitor shape of \"spike\" is (run length, index size) = (5000, 3)\n"
     ]
    }
   ],
   "source": [
    "runner = bp.StructRunner(\n",
    "    HH(10),\n",
    "    monitors=['V',  # monitor all values of Variable 'V' \n",
    "              ('spike', [1, 2, 3])], # monitor values of Variable at index of [1, 2, 3]\n",
    "    inputs=('input', 10.)\n",
    ")\n",
    "runner.run(100.)\n",
    "\n",
    "print(f'The monitor shape of \"V\" is (run length, variable size) = {runner.mon.V.shape}')\n",
    "print(f'The monitor shape of \"spike\" is (run length, index size) = {runner.mon.spike.shape}')"
   ]
  },
  {
   "cell_type": "markdown",
   "id": "6d6ca9e4",
   "metadata": {},
   "source": [
    "Or, we can use a dictionary to specify the interested index of the variable:"
   ]
  },
  {
   "cell_type": "code",
   "execution_count": 11,
   "id": "a9b258e9",
   "metadata": {},
   "outputs": [
    {
     "name": "stdout",
     "output_type": "stream",
     "text": [
      "The monitor shape of \"V\" is (run length, variable size) = (5000, 10)\n",
      "The monitor shape of \"spike\" is (run length, index size) = (5000, 3)\n"
     ]
    }
   ],
   "source": [
    "runner = bp.StructRunner(\n",
    "    HH(10),\n",
    "    monitors={'V': None,  # 'None' means all values will be monitored\n",
    "              'spike': [1, 2, 3]},  # specify the interested index \n",
    "    inputs=('input', 10.),\n",
    ")\n",
    "runner.run(100.)\n",
    "\n",
    "print(f'The monitor shape of \"V\" is (run length, variable size) = {runner.mon.V.shape}')\n",
    "print(f'The monitor shape of \"spike\" is (run length, index size) = {runner.mon.spike.shape}')"
   ]
  },
  {
   "cell_type": "markdown",
   "id": "c80036de",
   "metadata": {},
   "source": [
    "Also, we can directly instantiate a `brainpy.Monitor` class:"
   ]
  },
  {
   "cell_type": "code",
   "execution_count": 12,
   "id": "b36030d1",
   "metadata": {},
   "outputs": [
    {
     "name": "stdout",
     "output_type": "stream",
     "text": [
      "The monitor shape of \"V\" is (run length, variable size) = (5000, 10)\n",
      "The monitor shape of \"spike\" is (run length, index size) = (5000, 3)\n"
     ]
    }
   ],
   "source": [
    "runner = bp.StructRunner(\n",
    "    HH(10),\n",
    "    monitors=bp.Monitor(variables=['V', ('spike', [1, 2, 3])]), \n",
    "    inputs=('input', 10.),\n",
    ")\n",
    "runner.run(100.)\n",
    "\n",
    "print(f'The monitor shape of \"V\" is (run length, variable size) = {runner.mon.V.shape}')\n",
    "print(f'The monitor shape of \"spike\" is (run length, index size) = {runner.mon.spike.shape}')"
   ]
  },
  {
   "cell_type": "code",
   "execution_count": 14,
   "id": "1440d3c1",
   "metadata": {},
   "outputs": [
    {
     "name": "stdout",
     "output_type": "stream",
     "text": [
      "The monitor shape of \"V\" is (run length, variable size) = (5000, 10)\n",
      "The monitor shape of \"spike\" is (run length, index size) = (5000, 3)\n"
     ]
    }
   ],
   "source": [
    "runner = bp.StructRunner(\n",
    "    HH(10),\n",
    "    monitors=bp.Monitor(variables={'V': None, 'spike': [1, 2, 3]}),\n",
    "    inputs=('input', 10.),\n",
    ")\n",
    "runner.run(100.)\n",
    "\n",
    "print(f'The monitor shape of \"V\" is (run length, variable size) = {runner.mon.V.shape}')\n",
    "print(f'The monitor shape of \"spike\" is (run length, index size) = {runner.mon.spike.shape}')"
   ]
  },
  {
   "cell_type": "markdown",
   "id": "e80bf355",
   "metadata": {},
   "source": [
    "\n",
    "```{note}\n",
    "When users want to record a small part of a variable whose dimension > 1,  due to ``brainpy.Monitor`` records a flattened tensor variable, they must provide the index positions at the flattened tensor.  \n",
    "```"
   ]
  },
  {
   "cell_type": "markdown",
   "id": "ccca1048",
   "metadata": {},
   "source": [
    "### Monitor variables with a customized period"
   ]
  },
  {
   "cell_type": "markdown",
   "id": "e77b6a76",
   "metadata": {},
   "source": [
    "In a long simulation with a small time step `dt` , what we take care about is the trend of the variable evolution, not the exact values at each time point (especially when `dt` is very small). For this scenario, we can initialize the monitors with the `intervals` item specification. "
   ]
  },
  {
   "cell_type": "markdown",
   "id": "57696405",
   "metadata": {},
   "source": [
    "However, ``intervals`` setting is only supported in the ``brainpy.ReportRunner``. "
   ]
  },
  {
   "cell_type": "code",
   "execution_count": 15,
   "id": "2ff12f76",
   "metadata": {},
   "outputs": [],
   "source": [
    "runner = bp.ReportRunner(\n",
    "    HH(10),\n",
    "    monitors=bp.Monitor(variables={'V': None, 'spike': [1, 2, 3]},\n",
    "                        intervals={'V': None, 'spike': 1.}),  # in 1 ms, we record 'spike' only once\n",
    "    inputs=('input', 10.),\n",
    ")"
   ]
  },
  {
   "cell_type": "markdown",
   "id": "b3015fb9",
   "metadata": {},
   "source": [
    "In this example, we monitor \"spike\" variables at the index of [1, 2, 3] for each `1 ms`. "
   ]
  },
  {
   "cell_type": "code",
   "execution_count": 16,
   "id": "fafa9cf7",
   "metadata": {},
   "outputs": [
    {
     "name": "stdout",
     "output_type": "stream",
     "text": [
      "Compilation used 0.2560 s.\n",
      "Start running ...\n",
      "Run 10.0% used 3.361 s.\n",
      "Run 20.0% used 6.620 s.\n",
      "Run 30.0% used 9.808 s.\n",
      "Run 40.0% used 12.977 s.\n",
      "Run 50.0% used 16.157 s.\n",
      "Run 60.0% used 19.337 s.\n",
      "Run 70.0% used 22.539 s.\n",
      "Run 80.0% used 25.746 s.\n",
      "Run 90.0% used 28.946 s.\n",
      "Run 100.0% used 32.139 s.\n",
      "Simulation is done in 32.139 s.\n",
      "\n",
      "The monitor shape of \"V\" = (5000, 10)\n",
      "The monitor shape of \"spike\" = (99, 3)\n"
     ]
    }
   ],
   "source": [
    "runner.run(100.)\n",
    "\n",
    "print(f'The monitor shape of \"V\" = {runner.mon.V.shape}')\n",
    "print(f'The monitor shape of \"spike\" = {runner.mon.spike.shape}')"
   ]
  },
  {
   "cell_type": "markdown",
   "id": "3b7c7152",
   "metadata": {},
   "source": [
    "It's worthy to note that for the monitor variable `[variable_name]` with a non-none ``intervals`` specification, a corresponding time item `[variable_name].t` will be generated in the monitor. This is because it's time trajectory will be different from the default time trajectory. "
   ]
  },
  {
   "cell_type": "code",
   "execution_count": 17,
   "id": "078dde12",
   "metadata": {},
   "outputs": [
    {
     "name": "stdout",
     "output_type": "stream",
     "text": [
      "The shape of [\"spike\"]:  (99, 3)\n",
      "The shape of [\"spike.t\"]:  (99,)\n",
      "group7.mon[\"spike.t\"]:  [ 1.  2.  3.  4.  5.  6.  7.  8.  9. 10. 11. 12. 13. 14. 15. 16. 17. 18.\n",
      " 19. 20. 21. 22. 23. 24. 25. 26. 27. 28. 29. 30. 31. 32. 33. 34. 35. 36.\n",
      " 37. 38. 39. 40. 41. 42. 43. 44. 45. 46. 47. 48. 49. 50. 51. 52. 53. 54.\n",
      " 55. 56. 57. 58. 59. 60. 61. 62. 63. 64. 65. 66. 67. 68. 69. 70. 71. 72.\n",
      " 73. 74. 75. 76. 77. 78. 79. 80. 81. 82. 83. 84. 85. 86. 87. 88. 89. 90.\n",
      " 91. 92. 93. 94. 95. 96. 97. 98. 99.]\n"
     ]
    }
   ],
   "source": [
    "print('The shape of [\"spike\"]: ', runner.mon['spike'].shape)\n",
    "print('The shape of [\"spike.t\"]: ', runner.mon['spike.t'].shape)\n",
    "\n",
    "print('group7.mon[\"spike.t\"]: ', runner.mon[\"spike.t\"])"
   ]
  },
  {
   "cell_type": "markdown",
   "id": "2874d81d",
   "metadata": {},
   "source": [
    "## Inputs"
   ]
  },
  {
   "cell_type": "markdown",
   "id": "646da5b0",
   "metadata": {},
   "source": [
    "BrainPy also provides `inputs` operation for each instance of ``brainpy.Runner``."
   ]
  },
  {
   "cell_type": "markdown",
   "id": "8802c474",
   "metadata": {},
   "source": [
    "The aim of ``inputs`` is to mimic the input operations in experiments like Transcranial Magnetic Stimulation (TMS) and patch clamp recording. ``inputs`` should have the format like ``(target, value, [type, operation])``, where \n",
    "\n",
    "- ``target`` is the target variable to inject the input. \n",
    "- ``value`` is the input value. It can be a scalar, a tensor, or a iterable object/function. \n",
    "- ``type`` is the type of the input value. It support two types of input: ``fix`` and ``iter``. \n",
    "- ``operation`` is the input operation on the target variable. It should be set as one of `{ + , - , * , / , = }`, and if users do not provide this item explicitly, it will be set to '+' by default, which means that the target variable will be updated as ``val = val + input``. "
   ]
  },
  {
   "cell_type": "markdown",
   "id": "17db6d54",
   "metadata": {},
   "source": [
    "You can also give multiple inputs for different target variables, like:\n",
    "\n",
    "```python\n",
    "\n",
    "inputs=[(target1, value1, [type1, op1]),  \n",
    "        (target2, value2, [type2, op2]),\n",
    "              ... ]\n",
    "```"
   ]
  },
  {
   "cell_type": "markdown",
   "id": "fc4f4bb5",
   "metadata": {},
   "source": [
    "### The mechanism of ``inputs``"
   ]
  },
  {
   "cell_type": "markdown",
   "id": "ec25edfc",
   "metadata": {},
   "source": [
    "The mechanism of ``inputs`` is the same with ``monitors``. BrainPy finds out the target variables to do the input operation through [the absolute or relative path](../tutorial_math/base.ipynb). "
   ]
  },
  {
   "cell_type": "code",
   "execution_count": 23,
   "id": "e79596b4",
   "metadata": {},
   "outputs": [],
   "source": [
    "class Model(bp.DynamicalSystem):\n",
    "    def __init__(self, num_sizes, **kwargs):\n",
    "        super(Model, self).__init__(**kwargs)\n",
    "        \n",
    "        self.l1 = HH(num_sizes[0], name='L')\n",
    "        self.l2 = HH(num_sizes[1])\n",
    "        self.l3 = HH(num_sizes[2])\n",
    "        \n",
    "    def update(self, _t, _dt):\n",
    "        self.l1.update(_t, _dt)\n",
    "        self.l2.update(_t, _dt)\n",
    "        self.l3.update(_t, _dt)\n",
    "        \n",
    "model = Model([10, 20, 30])"
   ]
  },
  {
   "cell_type": "code",
   "execution_count": 24,
   "id": "88c68ff4",
   "metadata": {
    "code_folding": []
   },
   "outputs": [
    {
     "data": {
      "text/plain": [
       "2.9371795654296875"
      ]
     },
     "execution_count": 24,
     "metadata": {},
     "output_type": "execute_result"
    }
   ],
   "source": [
    "runner = bp.StructRunner(\n",
    "    model,\n",
    "    inputs=[('L.V', 2.0),  # access with the absolute path\n",
    "            ('l2.V', 1),]  # access with the relative path\n",
    ")\n",
    "runner.run(100.)"
   ]
  },
  {
   "cell_type": "markdown",
   "id": "164a9026",
   "metadata": {},
   "source": [
    "``inputs`` supports two types of data: ``fix`` and ``iter``. The first one means that the data is static; the second one denotes the data can be iterable, no matter the input value is a tensor or a function. Note, `'iter'` type must be explicitly stated. "
   ]
  },
  {
   "cell_type": "code",
   "execution_count": 25,
   "id": "fb3e1e7e",
   "metadata": {},
   "outputs": [
    {
     "data": {
      "text/plain": [
       "2.8953235149383545"
      ]
     },
     "execution_count": 25,
     "metadata": {},
     "output_type": "execute_result"
    }
   ],
   "source": [
    "# a tensor\n",
    "\n",
    "runner = bp.StructRunner(model, inputs=('L.V', bm.ones(1000) * 2., 'iter'))\n",
    "runner.run(100.)"
   ]
  },
  {
   "cell_type": "code",
   "execution_count": 27,
   "id": "c9443cc6",
   "metadata": {},
   "outputs": [
    {
     "data": {
      "text/plain": [
       "2.9955742359161377"
      ]
     },
     "execution_count": 27,
     "metadata": {},
     "output_type": "execute_result"
    }
   ],
   "source": [
    "# a function\n",
    "\n",
    "def current():\n",
    "    while True: yield 2.\n",
    "\n",
    "runner = bp.StructRunner(model, inputs=('L.V', current(), 'iter'))\n",
    "runner.run(100.)"
   ]
  },
  {
   "cell_type": "markdown",
   "id": "5bdf9c2a",
   "metadata": {},
   "source": [
    "## Input construction functions "
   ]
  },
  {
   "cell_type": "markdown",
   "id": "7bb279a6",
   "metadata": {},
   "source": [
    "Inputs are common in a computational experiment. Also, we need various kind of inputs. In BrainPy, we provide several convenient input functions to help users construct input currents. "
   ]
  },
  {
   "cell_type": "markdown",
   "id": "bce8c56a",
   "metadata": {},
   "source": [
    "### ``brainpy.inputs.section_input()``"
   ]
  },
  {
   "cell_type": "markdown",
   "id": "f6cd95a4",
   "metadata": {},
   "source": [
    "[brainpy.inputs.section_input()](../apis/simulation/generated/brainpy.simulation.inputs.section_input.rst) is an updated function of previous `brainpy.inputs.constant_input()` (see below). \n",
    "\n",
    "Sometimes, we need input currents with different values in different periods. For example, if you want to get an input in which 0-100 ms is zero, 100-400 ms is value 1., and 400-500 ms is zero, then, you can define:"
   ]
  },
  {
   "cell_type": "code",
   "execution_count": 23,
   "id": "38a1450d",
   "metadata": {},
   "outputs": [],
   "source": [
    "current, duration = bp.inputs.section_input(values=[0, 1., 0.],\n",
    "                                            durations=[100, 300, 100],\n",
    "                                            return_length=True)"
   ]
  },
  {
   "cell_type": "code",
   "execution_count": 24,
   "id": "a129d088",
   "metadata": {},
   "outputs": [],
   "source": [
    "def show(current, duration, title):\n",
    "    ts = np.arange(0, duration, 0.1)\n",
    "    plt.plot(ts, current)\n",
    "    plt.title(title)\n",
    "    plt.xlabel('Time [ms]')\n",
    "    plt.ylabel('Current Value')\n",
    "    plt.show()"
   ]
  },
  {
   "cell_type": "code",
   "execution_count": 25,
   "id": "b7a94488",
   "metadata": {
    "scrolled": true
   },
   "outputs": [
    {
     "data": {
      "image/png": "[encoded data removed]",
      "text/plain": [
       "<Figure size 432x288 with 1 Axes>"
      ]
     },
     "metadata": {
      "needs_background": "light"
     },
     "output_type": "display_data"
    }
   ],
   "source": [
    "show(current, duration, 'values=[0, 1, 0], durations=[100, 300, 100]')"
   ]
  },
  {
   "cell_type": "markdown",
   "id": "f6e3e6c8",
   "metadata": {},
   "source": [
    "### ``brainpy.inputs.constant_input()``"
   ]
  },
  {
   "cell_type": "markdown",
   "id": "69b4911a",
   "metadata": {},
   "source": [
    "[brainpy.inputs.constant_input()](../apis/simulation/generated/brainpy.simulation.inputs.constant_input.rst) function helps you to format constant currents in several periods.\n",
    "\n",
    "For the input created above, we can define it again with `constant_input()` by:"
   ]
  },
  {
   "cell_type": "code",
   "execution_count": 26,
   "id": "e261c8a3",
   "metadata": {},
   "outputs": [],
   "source": [
    "current, duration = bp.inputs.constant_input([(0, 100), (1, 300), (0, 100)])"
   ]
  },
  {
   "cell_type": "code",
   "execution_count": 27,
   "id": "48e80f50",
   "metadata": {
    "scrolled": false
   },
   "outputs": [
    {
     "data": {
      "image/png": "[encoded data removed]",
      "text/plain": [
       "<Figure size 432x288 with 1 Axes>"
      ]
     },
     "metadata": {
      "needs_background": "light"
     },
     "output_type": "display_data"
    }
   ],
   "source": [
    "show(current, duration, '[(0, 100), (1, 300), (0, 100)]')"
   ]
  },
  {
   "cell_type": "markdown",
   "id": "d923f98c",
   "metadata": {},
   "source": [
    "Another example is this:"
   ]
  },
  {
   "cell_type": "code",
   "execution_count": 28,
   "id": "0c6f17eb",
   "metadata": {},
   "outputs": [],
   "source": [
    "current, duration = bp.inputs.constant_input([(-1, 10), (1, 3), (3, 30), (-0.5, 10)], dt=0.1)"
   ]
  },
  {
   "cell_type": "code",
   "execution_count": 29,
   "id": "dd61f603",
   "metadata": {},
   "outputs": [
    {
     "data": {
      "image/png": "[encoded data removed]",
      "text/plain": [
       "<Figure size 432x288 with 1 Axes>"
      ]
     },
     "metadata": {
      "needs_background": "light"
     },
     "output_type": "display_data"
    }
   ],
   "source": [
    "show(current, duration, '[(-1, 10), (1, 3), (3, 30), (-0.5, 10)]')"
   ]
  },
  {
   "cell_type": "markdown",
   "id": "b0e2cd80",
   "metadata": {},
   "source": [
    "### ``brainpy.inputs.spike_input()``"
   ]
  },
  {
   "cell_type": "markdown",
   "id": "424dd771",
   "metadata": {},
   "source": [
    "[brainpy.inputs.spike_input()](../apis/simulation/generated/brainpy.simulation.inputs.spike_input.rst) helps you to construct an input like a series of short-time spikes. It receives the following settings:\n",
    "\n",
    "- `sp_times` :  The spike time-points. Must be an iterable object. For example, list, tuple, or arrays.\n",
    "- `sp_lens` : The length of each point-current, mimicking the spike durations. It can be a scalar float to specify the unified duration. Or, it can be list/tuple/array of time lengths with the length same with `sp_times`. \n",
    "- `sp_sizes` : The current sizes. It can be a scalar value. Or, it can be a list/tuple/array of spike current sizes with the length same with `sp_times`.\n",
    "- `duration` : The total current duration.\n",
    "- `dt` : The time step precision. The default is None (will be initialized as the default `dt` step). "
   ]
  },
  {
   "cell_type": "markdown",
   "id": "fcf35ddd",
   "metadata": {},
   "source": [
    "For example, if you want to generate a spike train at 10 ms, 20 ms, 30 ms, 200 ms, 300 ms,\n",
    "    and each spike lasts 1 ms and the spike current is 0.5, then you can use the\n",
    "    following funtions:"
   ]
  },
  {
   "cell_type": "code",
   "execution_count": 30,
   "id": "a3a33329",
   "metadata": {},
   "outputs": [],
   "source": [
    "current = bp.inputs.spike_input(\n",
    "    sp_times=[10, 20, 30, 200, 300],\n",
    "    sp_lens=1.,  # can be a list to specify the spike length at each point\n",
    "    sp_sizes=0.5,  # can be a list to specify the spike current size at each point\n",
    "    duration=400.)"
   ]
  },
  {
   "cell_type": "code",
   "execution_count": 31,
   "id": "ef0a6a92",
   "metadata": {
    "scrolled": true
   },
   "outputs": [
    {
     "data": {
      "image/png": "[encoded data removed]",
      "text/plain": [
       "<Figure size 432x288 with 1 Axes>"
      ]
     },
     "metadata": {
      "needs_background": "light"
     },
     "output_type": "display_data"
    }
   ],
   "source": [
    "show(current, 400, 'Spike Input Example')"
   ]
  },
  {
   "cell_type": "markdown",
   "id": "6f49d021",
   "metadata": {},
   "source": [
    "### ``brainpy.inputs.ramp_input()``"
   ]
  },
  {
   "cell_type": "markdown",
   "id": "5ab222e7",
   "metadata": {},
   "source": [
    "[brainpy.inputs.ramp_input()](../apis/simulation/generated/brainpy.simulation.inputs.ramp_input.rst) mimics a ramp or a step current to the input of the circuit. It receives the following settings:\n",
    "\n",
    "- `c_start` : The minimum (or maximum) current size.\n",
    "- `c_end` : The maximum (or minimum) current size.\n",
    "- `duration` : The total duration.\n",
    "- `t_start` : The ramped current start time-point.\n",
    "- `t_end` : The ramped current end time-point. Default is the None.\n",
    "- `dt` : The current precision.\n",
    "\n",
    "We illustrate the usage of `brainpy.inputs.ramp_input()` by two examples."
   ]
  },
  {
   "cell_type": "markdown",
   "id": "b2556c16",
   "metadata": {},
   "source": [
    "In the first example, we increase the current size from 0. to 1. between the start time (0 ms) and the end time (1000 ms). "
   ]
  },
  {
   "cell_type": "code",
   "execution_count": 32,
   "id": "15e7a0f9",
   "metadata": {},
   "outputs": [
    {
     "data": {
      "image/png": "[encoded data removed]",
      "text/plain": [
       "<Figure size 432x288 with 1 Axes>"
      ]
     },
     "metadata": {
      "needs_background": "light"
     },
     "output_type": "display_data"
    }
   ],
   "source": [
    "duration = 1000\n",
    "current = bp.inputs.ramp_input(0, 1, duration)\n",
    "\n",
    "show(current, duration, r'$c_{start}$=0, $c_{end}$=%d, duration, '\n",
    "                        r'$t_{start}$=0, $t_{end}$=None' % (duration))"
   ]
  },
  {
   "cell_type": "markdown",
   "id": "f6c58e3b",
   "metadata": {},
   "source": [
    "In the second example, we increase the current size from 0. to 1. from the 200 ms to 800 ms."
   ]
  },
  {
   "cell_type": "code",
   "execution_count": 33,
   "id": "eb3ea0d9",
   "metadata": {
    "scrolled": false
   },
   "outputs": [
    {
     "data": {
      "image/png": "[encoded data removed]",
      "text/plain": [
       "<Figure size 432x288 with 1 Axes>"
      ]
     },
     "metadata": {
      "needs_background": "light"
     },
     "output_type": "display_data"
    }
   ],
   "source": [
    "duration, t_start, t_end = 1000, 200, 800\n",
    "current = bp.inputs.ramp_input(0, 1, duration, t_start, t_end)\n",
    "\n",
    "show(current, duration, r'$c_{start}$=0, $c_{end}$=1, duration=%d, '\n",
    "                        r'$t_{start}$=%d, $t_{end}$=%d' % (duration, t_start, t_end))"
   ]
  },
  {
   "cell_type": "markdown",
   "id": "97f3030b",
   "metadata": {},
   "source": [
    "### General property of input functions"
   ]
  },
  {
   "cell_type": "markdown",
   "id": "e97f69f3",
   "metadata": {},
   "source": [
    "There are several general properties for input construction functions. "
   ]
  },
  {
   "cell_type": "markdown",
   "id": "6ca717bc",
   "metadata": {},
   "source": [
    "**Property 1**: All input functions can automatically broadcast the current shapes, if they are heterogenous among different periods. For example, during period 1 we give an input with a scalar value, during period 2 we give an input with a vector shape, and during period 3 we give a matrix input value. Input functions will broadcast them to the maximum shape. For example, "
   ]
  },
  {
   "cell_type": "code",
   "execution_count": 34,
   "id": "97feb17c",
   "metadata": {},
   "outputs": [
    {
     "data": {
      "text/plain": [
       "(5000, 3, 10)"
      ]
     },
     "execution_count": 34,
     "metadata": {},
     "output_type": "execute_result"
    }
   ],
   "source": [
    "current = bp.inputs.section_input(values=[0, bm.ones(10), bm.random.random((3, 10))],\n",
    "                                  durations=[100, 300, 100])\n",
    "\n",
    "current.shape"
   ]
  },
  {
   "cell_type": "markdown",
   "id": "70cab95b",
   "metadata": {},
   "source": [
    "**Property 2**: Every input function receives a ``dt`` specification. If ``dt`` is not provided, input functions will use the default ``dt`` in the whole BrainPy system. "
   ]
  },
  {
   "cell_type": "code",
   "execution_count": 35,
   "id": "6773b4a4",
   "metadata": {
    "scrolled": true
   },
   "outputs": [
    {
     "data": {
      "text/plain": [
       "(3000,)"
      ]
     },
     "execution_count": 35,
     "metadata": {},
     "output_type": "execute_result"
    }
   ],
   "source": [
    "bp.inputs.section_input(values=[0, 1, 2], durations=[10, 20, 30], dt=0.02).shape"
   ]
  },
  {
   "cell_type": "code",
   "execution_count": 36,
   "id": "7d7a8ecc",
   "metadata": {},
   "outputs": [
    {
     "data": {
      "text/plain": [
       "(300,)"
      ]
     },
     "execution_count": 36,
     "metadata": {},
     "output_type": "execute_result"
    }
   ],
   "source": [
    "bp.inputs.section_input(values=[0, 1, 2], durations=[10, 20, 30], dt=0.2).shape"
   ]
  },
  {
   "cell_type": "code",
   "execution_count": 37,
   "id": "9b3fe4e9",
   "metadata": {},
   "outputs": [
    {
     "data": {
      "text/plain": [
       "(600,)"
      ]
     },
     "execution_count": 37,
     "metadata": {},
     "output_type": "execute_result"
    }
   ],
   "source": [
    "# the default 'dt' in 0.1\n",
    "\n",
    "bp.inputs.section_input(values=[0, 1, 2], durations=[10, 20, 30]).shape"
   ]
  }
 ],
 "metadata": {
  "jupytext": {
   "main_language": "python"
  },
  "kernelspec": {
   "display_name": "Python 3 (ipykernel)",
   "language": "python",
   "name": "python3"
  },
  "language_info": {
   "codemirror_mode": {
    "name": "ipython",
    "version": 3
   },
   "file_extension": ".py",
   "mimetype": "text/x-python",
   "name": "python",
   "nbconvert_exporter": "python",
   "pygments_lexer": "ipython3",
   "version": "3.9.7"
  },
  "latex_envs": {
   "LaTeX_envs_menu_present": true,
   "autoclose": false,
   "autocomplete": true,
   "bibliofile": "biblio.bib",
   "cite_by": "apalike",
   "current_citInitial": 1,
   "eqLabelWithNumbers": true,
   "eqNumInitial": 1,
   "hotkeys": {
    "equation": "Ctrl-E",
    "itemize": "Ctrl-I"
   },
   "labels_anchors": false,
   "latex_user_defs": false,
   "report_style_numbering": false,
   "user_envs_cfg": false
  },
  "toc": {
   "base_numbering": 1,
   "nav_menu": {},
   "number_sections": false,
   "sideBar": true,
   "skip_h1_title": false,
   "title_cell": "Table of Contents",
   "title_sidebar": "Contents",
   "toc_cell": false,
   "toc_position": {
    "height": "calc(100% - 180px)",
    "left": "10px",
    "top": "150px",
    "width": "279.273px"
   },
   "toc_section_display": true,
   "toc_window_display": true
  }
 },
 "nbformat": 4,
 "nbformat_minor": 5
}
