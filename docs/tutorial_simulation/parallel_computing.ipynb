{
 "cells": [
  {
   "cell_type": "markdown",
   "metadata": {},
   "source": [
    "# Parallel Simulation for Parameter Exploration"
   ]
  },
  {
   "cell_type": "markdown",
   "metadata": {
    "collapsed": true
   },
   "source": [
    "@[Tianqiu Zhang](mailto:tianqiuakita@gmail.com) @[Chaoming Wang](mailto:adaduo@outlook.com)"
   ]
  },
  {
   "cell_type": "markdown",
   "metadata": {},
   "source": [
    "Parameter exploration and selection is an essential part in brain dynamics modeling. In general, there are two problems for the parameter exploration:\n",
    "\n",
    "1. how to run multiple models concurrently?\n",
    "2. how to manage device memory allowing multiple models to run concurrently?\n",
    "\n",
    "First, most of the BrainPy models supports multiple kinds of parallelization, including parallelization of multi-threading and multi-processing on a single machine, and parallelization across multiple devices. In the below, we will illustrate these parallelization APIs one-by-one.\n",
    "\n",
    "Second, every call of a BrainPy model will consume a fraction of device memory. Therefore, BrainPy provides a API ``brainpy.math.clear_buffer_memory()`` for memory clean.\n",
    "\n",
    "In the following, we will illustrate how to combine them together to get an efficient parameter exploration for your models."
   ]
  },
  {
   "cell_type": "code",
   "execution_count": 1,
   "metadata": {},
   "outputs": [],
   "source": [
    "import brainpy as bp\n",
    "import brainpy.math as bm\n",
    "import numpy as np\n",
    "\n",
    "bm.set_platform('cpu')"
   ]
  },
  {
   "cell_type": "markdown",
   "metadata": {},
   "source": [
    "## Parallelization across different CPU processors"
   ]
  },
  {
   "cell_type": "markdown",
   "metadata": {},
   "source": [
    "Parallelization across multiple CPU processors can be easily achieved with a single line of functional call ``brainpy.running.cpu_ordered_parallel()``. The following pseudocode demonstrates the usage of this API."
   ]
  },
  {
   "cell_type": "markdown",
   "source": [
    "```python\n",
    "import brainpy as bp\n",
    "\n",
    "# define your function\n",
    "def run_model(par):\n",
    "  model = YourModel(par)\n",
    "  runner = bp.dyn.DSRunner(model)\n",
    "  runner.run(duration)\n",
    "  return runner.mon\n",
    "\n",
    "# define all parameter values need to explore\n",
    "all_params = [...]\n",
    "\n",
    "# run models in Jupyter\n",
    "results = bp.running.cpu_ordered_parallel(run_model, all_params, num_process=10)\n",
    "\n",
    "# run models in python file\n",
    "if __name__ == '__main__':\n",
    "  results = bp.running.cpu_ordered_parallel(run_model, all_params, num_process=10)\n",
    "```"
   ],
   "metadata": {
    "collapsed": false
   }
  },
  {
   "cell_type": "markdown",
   "source": [
    "We will use a simple HH neuron model as an example to show this kind of parallelization method. In this example, we use multi-processing technique to test four different current values as input."
   ],
   "metadata": {
    "collapsed": false
   }
  },
  {
   "cell_type": "markdown",
   "source": [
    "First, define your running function with the well-defined `input` and `output` data."
   ],
   "metadata": {
    "collapsed": false
   }
  },
  {
   "cell_type": "code",
   "execution_count": 8,
   "outputs": [],
   "source": [
    "def hh_spike_num(bg_current): # \"input\" is the bg_current\n",
    "  import brainpy as bp  # needed to reimport packages when\n",
    "                        # run the function in Jupyter\n",
    "  model = bp.neurons.HH(1)\n",
    "  runner = bp.dyn.DSRunner(model, monitors=['spike'], inputs=['input', bg_current])\n",
    "  runner.run(1000.)\n",
    "  return runner.mon['spike'].sum()  # \"output\" is the spike number"
   ],
   "metadata": {
    "collapsed": false
   }
  },
  {
   "cell_type": "markdown",
   "source": [
    "Then, define all your parameter spaces."
   ],
   "metadata": {
    "collapsed": false
   }
  },
  {
   "cell_type": "code",
   "execution_count": 15,
   "outputs": [],
   "source": [
    "current = bm.linspace(1, 10.1, 10)  # here only one parameter"
   ],
   "metadata": {
    "collapsed": false
   }
  },
  {
   "cell_type": "markdown",
   "source": [
    "Finally, run your model concurrently with the  parallelization syntax."
   ],
   "metadata": {
    "collapsed": false
   }
  },
  {
   "cell_type": "code",
   "execution_count": 16,
   "outputs": [
    {
     "data": {
      "text/plain": "  0%|          | 0/10 [00:00<?, ?it/s]",
      "application/vnd.jupyter.widget-view+json": {
       "version_major": 2,
       "version_minor": 0,
       "model_id": "c84de99cfcad4b528dc75cc44f911b3e"
      }
     },
     "metadata": {},
     "output_type": "display_data"
    },
    {
     "data": {
      "text/plain": "[0, 1, 0, 0, 0, 0, 60, 62, 66, 68]"
     },
     "execution_count": 16,
     "metadata": {},
     "output_type": "execute_result"
    }
   ],
   "source": [
    "r = bp.running.cpu_ordered_parallel(hh_spike_num, [current], num_process=10)\n",
    "\n",
    "r"
   ],
   "metadata": {
    "collapsed": false
   }
  },
  {
   "cell_type": "markdown",
   "source": [
    "However, the above usage will accumulate buffer memory in the running device. If your single model occupies too much memory, the out-of-memory error will be raised during the parameter exploration.\n",
    "\n",
    "A simple way to solve this issue is clear all buffers after each running of the function. For example, before returning your results, call `brainpy.math.clear_buffer_memory()` first."
   ],
   "metadata": {
    "collapsed": false
   }
  },
  {
   "cell_type": "code",
   "execution_count": 12,
   "outputs": [],
   "source": [
    "def hh_spike_num2(bg_current): # \"input\" is the bg_current\n",
    "  import brainpy as bp  # needed to reimport packages when\n",
    "                        # run the function in Jupyter\n",
    "\n",
    "  bg_current = bm.as_jax(bg_current)\n",
    "  model = bp.neurons.HH(1)\n",
    "  runner = bp.dyn.DSRunner(model, monitors=['spike'], inputs=['input', bg_current])\n",
    "  runner.run(1000.)\n",
    "\n",
    "  bp.math.clear_buffer_memory()\n",
    "  return runner.mon['spike'].sum()  # \"output\" is the spike number"
   ],
   "metadata": {
    "collapsed": false
   }
  },
  {
   "cell_type": "markdown",
   "source": [
    "Note that ``clear_buffer_memory()`` will clear all JAX arrays in the device, therefore, it's better to give inputs as NumPy arrays, and return outputs as NumPy arrays."
   ],
   "metadata": {
    "collapsed": false
   }
  },
  {
   "cell_type": "code",
   "execution_count": 17,
   "outputs": [
    {
     "data": {
      "text/plain": "  0%|          | 0/10 [00:00<?, ?it/s]",
      "application/vnd.jupyter.widget-view+json": {
       "version_major": 2,
       "version_minor": 0,
       "model_id": "a85026f739154dfd9627ecd4964aabb3"
      }
     },
     "metadata": {},
     "output_type": "display_data"
    },
    {
     "data": {
      "text/plain": "[0, 1, 0, 0, 53, 57, 58, 63, 65, 68]"
     },
     "execution_count": 17,
     "metadata": {},
     "output_type": "execute_result"
    }
   ],
   "source": [
    "current = np.linspace(1., 10., 10)\n",
    "\n",
    "r = bp.running.cpu_ordered_parallel(hh_spike_num2, [current], num_process=10)\n",
    "r"
   ],
   "metadata": {
    "collapsed": false
   }
  },
  {
   "cell_type": "markdown",
   "source": [
    "## Parallelization with `jax.vmap`"
   ],
   "metadata": {
    "collapsed": false
   }
  },
  {
   "cell_type": "markdown",
   "source": [
    "The second approach of realizing multi-threading parallelization is the vectorization map of JAX `jax.vmap`. `jax.vmap` vectorizes functions by compiling the mapped axis as primitive operations. It can avoid the recompilation of models in the same batch, and automatically parallelize the model running on the given machine. Following pseudocode demonstrates how simple of this parallelization approach is."
   ],
   "metadata": {
    "collapsed": false
   }
  },
  {
   "cell_type": "markdown",
   "source": [
    "```python\n",
    "from jax import vmap\n",
    "\n",
    "def run_model(par):\n",
    "  model = YourModel(par)\n",
    "  runner = bp.dyn.DSRunner(model)\n",
    "  runner.run(duration)\n",
    "  return runner.mon\n",
    "\n",
    "# define all parameter values need to explore\n",
    "all_params = [...]\n",
    "\n",
    "# batch simulation through jax.vmap\n",
    "r = vmap(run_model)(*all_params)\n",
    "```"
   ],
   "metadata": {
    "collapsed": false
   }
  },
  {
   "cell_type": "markdown",
   "source": [
    "Note that if you have too many parameters to search, ``jax.vmap`` will consume too much memory. For this time, you can use our wrapped API ``brainpy.running.jax_vectorize_map()``, which controls the running batch size by ``num_parallel`` parameter. You can set a smaller value of ``num_parallel`` when your device memory is not enough (no matter on the CPU or GPU device)."
   ],
   "metadata": {
    "collapsed": false
   }
  },
  {
   "cell_type": "code",
   "execution_count": 18,
   "outputs": [],
   "source": [
    "def hh_spike_num3(bg_current): # \"input\" is the bg_current\n",
    "  model = bp.neurons.HH(1)\n",
    "  runner = bp.dyn.DSRunner(model, monitors=['spike'], inputs=['input', bg_current],\n",
    "                           numpy_mon_after_run=False)\n",
    "  runner.run(1000.)\n",
    "  return runner.mon['spike'].sum()  # \"output\" is the spike number"
   ],
   "metadata": {
    "collapsed": false
   }
  },
  {
   "cell_type": "code",
   "execution_count": 19,
   "outputs": [
    {
     "data": {
      "text/plain": "  0%|          | 0/10000 [00:00<?, ?it/s]",
      "application/vnd.jupyter.widget-view+json": {
       "version_major": 2,
       "version_minor": 0,
       "model_id": "63fd00c7f08c4f89891c286bcad2b55d"
      }
     },
     "metadata": {},
     "output_type": "display_data"
    },
    {
     "data": {
      "text/plain": "  0%|          | 0/10000 [00:00<?, ?it/s]",
      "application/vnd.jupyter.widget-view+json": {
       "version_major": 2,
       "version_minor": 0,
       "model_id": "4826a51fb553470fa0fb4149a5b3d7e6"
      }
     },
     "metadata": {},
     "output_type": "display_data"
    },
    {
     "data": {
      "text/plain": "  0%|          | 0/10000 [00:00<?, ?it/s]",
      "application/vnd.jupyter.widget-view+json": {
       "version_major": 2,
       "version_minor": 0,
       "model_id": "2dacbf527e5e4b2f8a83be2cc94d3560"
      }
     },
     "metadata": {},
     "output_type": "display_data"
    },
    {
     "data": {
      "text/plain": "  0%|          | 0/10000 [00:00<?, ?it/s]",
      "application/vnd.jupyter.widget-view+json": {
       "version_major": 2,
       "version_minor": 0,
       "model_id": "1224b579ba7d49e4a930f6e7ce2d82fe"
      }
     },
     "metadata": {},
     "output_type": "display_data"
    },
    {
     "data": {
      "text/plain": "JaxArray([ 0,  1,  1, 47, 53, 57, 45, 62, 66, 68], dtype=int32)"
     },
     "execution_count": 19,
     "metadata": {},
     "output_type": "execute_result"
    }
   ],
   "source": [
    "current = bm.linspace(1., 10.1, 10)\n",
    "r = bp.running.jax_vectorize_map(hh_spike_num3, [current], num_parallel=3)\n",
    "r"
   ],
   "metadata": {
    "collapsed": false
   }
  },
  {
   "cell_type": "markdown",
   "source": [
    "The function throw into the ``jax_vectorize_map()`` can not call ``clear_buffer_memory()``. Otherwise will raise errors. Instead, uses can set ``clear_buffer=True/False`` using ``jax_vectorize_map()``. For such kind of usage, all inputs and outputs will be automatically transformed in to NumPy arrays."
   ],
   "metadata": {
    "collapsed": false
   }
  },
  {
   "cell_type": "code",
   "execution_count": 20,
   "outputs": [
    {
     "data": {
      "text/plain": "  0%|          | 0/10000 [00:00<?, ?it/s]",
      "application/vnd.jupyter.widget-view+json": {
       "version_major": 2,
       "version_minor": 0,
       "model_id": "845008715fb04111bea98520eb0d140e"
      }
     },
     "metadata": {},
     "output_type": "display_data"
    },
    {
     "data": {
      "text/plain": "  0%|          | 0/10000 [00:00<?, ?it/s]",
      "application/vnd.jupyter.widget-view+json": {
       "version_major": 2,
       "version_minor": 0,
       "model_id": "919c9c8484144eb48a77d7172162b599"
      }
     },
     "metadata": {},
     "output_type": "display_data"
    },
    {
     "data": {
      "text/plain": "  0%|          | 0/10000 [00:00<?, ?it/s]",
      "application/vnd.jupyter.widget-view+json": {
       "version_major": 2,
       "version_minor": 0,
       "model_id": "dda8f8878d1643ec9c4bdfd2bab5be9f"
      }
     },
     "metadata": {},
     "output_type": "display_data"
    },
    {
     "data": {
      "text/plain": "  0%|          | 0/10000 [00:00<?, ?it/s]",
      "application/vnd.jupyter.widget-view+json": {
       "version_major": 2,
       "version_minor": 0,
       "model_id": "e21c4351ca884c43a54df14763b1373d"
      }
     },
     "metadata": {},
     "output_type": "display_data"
    },
    {
     "data": {
      "text/plain": "array([ 0,  0,  1, 48, 53, 57, 60, 63, 66, 68])"
     },
     "execution_count": 20,
     "metadata": {},
     "output_type": "execute_result"
    }
   ],
   "source": [
    "current = bm.linspace(1., 10.1, 10)\n",
    "r = bp.running.jax_vectorize_map(hh_spike_num3, [current], num_parallel=3, clear_buffer=True)\n",
    "r"
   ],
   "metadata": {
    "collapsed": false
   }
  },
  {
   "cell_type": "markdown",
   "source": [
    "## Parallelization across multiple devices"
   ],
   "metadata": {
    "collapsed": false
   }
  },
  {
   "cell_type": "markdown",
   "source": [
    "BrainPy support parallelization running on multiple devices (e.g., multiple GPU devices or TPU cores) or HPC systems (e.g., supercomputers). Different from the above thread-based and processor-based parallelization methods, in which the same model runs in parallel on the same device, device-based parallelization runs the same model in parallel on multiple devices.\n",
    "\n",
    "One way to express the multi-device parallelization of BrainPy models is using `jax.pmap` instruction. JAX delivers `jax.pmap` to express SIMD programs. It provides an interface to run the same model on multiple devices with different parameter values. It usage is analogy to `jax.vmap`. Following pseudocode presents an example to run BrainPy models on multiple devices."
   ],
   "metadata": {
    "collapsed": false
   }
  },
  {
   "cell_type": "markdown",
   "source": [
    "```python\n",
    "from jax import pmap\n",
    "\n",
    "def run_model(par):\n",
    "  model = YourModel(par)\n",
    "  runner = bp.dyn.DSRunner(model)\n",
    "  runner.run(<int>)\n",
    "  return runner.mon\n",
    "\n",
    "# define all parameter values need to explore\n",
    "all_params = [...]\n",
    "\n",
    "# parallel simulation through jax.pmap\n",
    "r = pmap(run_model)(*all_params)\n",
    "```"
   ],
   "metadata": {
    "collapsed": false
   }
  },
  {
   "cell_type": "markdown",
   "source": [
    "``jax.pmap`` has the similar issue to ``jax.vmap`` when you parallelize across many parameters. This time you can use the wrapped function ``brainpy.running.jax_parallelize_map()``.\n",
    "\n",
    "If you are using ``pmap`` in you CPU device, you can set the virtual number of the device by calling ``brainpy.math.set_host_device_count(n)``. Then, you can call ``jax_parallelize_map()`` safely one your CPU platform."
   ],
   "metadata": {
    "collapsed": false
   }
  },
  {
   "cell_type": "code",
   "execution_count": 21,
   "outputs": [
    {
     "data": {
      "text/plain": "  0%|          | 0/10000 [00:00<?, ?it/s]",
      "application/vnd.jupyter.widget-view+json": {
       "version_major": 2,
       "version_minor": 0,
       "model_id": "309900c672e7486cac5ef417b2e821de"
      }
     },
     "metadata": {},
     "output_type": "display_data"
    },
    {
     "data": {
      "text/plain": "  0%|          | 0/10000 [00:00<?, ?it/s]",
      "application/vnd.jupyter.widget-view+json": {
       "version_major": 2,
       "version_minor": 0,
       "model_id": "9dedc7a8c96c4f6ab4d290f246b94274"
      }
     },
     "metadata": {},
     "output_type": "display_data"
    },
    {
     "data": {
      "text/plain": "array([ 0,  0,  0,  0,  0,  0,  0, 49, 52, 54,  0, 50, 59, 61, 62, 63, 65,\n       66, 67, 68])"
     },
     "execution_count": 21,
     "metadata": {},
     "output_type": "execute_result"
    }
   ],
   "source": [
    "bp.math.set_host_device_count(10)\n",
    "current = bm.linspace(1., 10.1, 20)\n",
    "r = bp.running.jax_vectorize_map(hh_spike_num3, [current], num_parallel=10, clear_buffer=True)\n",
    "r"
   ],
   "metadata": {
    "collapsed": false
   }
  },
  {
   "cell_type": "markdown",
   "source": [
    "BrainPy also works well with job scheduling systems such as SLURM on a supercomputer center. Therefore, another way to express multi-device parallelization is to employ the classical resource management system. Following script demonstrates an example that submits a batch script to SLURM."
   ],
   "metadata": {
    "collapsed": false
   }
  },
  {
   "cell_type": "code",
   "execution_count": null,
   "outputs": [],
   "source": [
    "#!/bin/bash\n",
    "#SBATCH -J <name>\n",
    "#SBATCH -o <file name>\n",
    "#SBATCH -p <str>\n",
    "#SBATCH -n <int>\n",
    "#SBATCH -N <int>\n",
    "#SBATCH -c <int>\n",
    "\n",
    "python your_script.py"
   ],
   "metadata": {
    "collapsed": false
   }
  }
 ],
 "metadata": {
  "kernelspec": {
   "name": "brainpy",
   "language": "python",
   "display_name": "brainpy"
  },
  "language_info": {
   "codemirror_mode": {
    "name": "ipython",
    "version": 3
   },
   "file_extension": ".py",
   "mimetype": "text/x-python",
   "name": "python",
   "nbconvert_exporter": "python",
   "pygments_lexer": "ipython3",
   "version": "3.9.12"
  },
  "vscode": {
   "interpreter": {
    "hash": "f37317bd3e2379aba54e3aa76414bc918141342cb86849b10e642bf3607e7693"
   }
  }
 },
 "nbformat": 4,
 "nbformat_minor": 0
}
