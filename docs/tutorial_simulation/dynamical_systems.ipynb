{
 "cells": [
  {
   "cell_type": "markdown",
   "metadata": {},
   "source": [
    "# Building General Dynamical Systems"
   ]
  },
  {
   "cell_type": "markdown",
   "metadata": {},
   "source": [
    "@[Xiaoyu Chen](mailto:c-xy17@tsinghua.org.cn) @[Chaoming Wang](mailto:adaduo@outlook.com)"
   ]
  },
  {
   "cell_type": "markdown",
   "metadata": {},
   "source": [
    "The previous sections have shown how to build neuron models, synapse models, and network models. In fact, these brain objects all inherit the base class [brainpy.dyn.DynamicalSystem](../apis/auto/building/generated/brainpy.dyn.DynamicalSystem.rst), ``brainpy.dyn.DynamicalSystem`` is the universal language to define dynamical models in BrainPy.\n",
    "\n",
    "To begin with, let's make a rief summary of previous dynamic models and give the definition of a dynamical system."
   ]
  },
  {
   "cell_type": "code",
   "execution_count": 34,
   "metadata": {
    "ExecuteTime": {
     "end_time": "2021-03-25T03:02:48.939126Z",
     "start_time": "2021-03-25T03:02:47.073698Z"
    }
   },
   "outputs": [],
   "source": [
    "import brainpy as bp\n",
    "import brainpy.math as bm\n",
    "\n",
    "bm.set_platform('cpu')"
   ]
  },
  {
   "cell_type": "markdown",
   "metadata": {},
   "source": [
    "## What is a dynamical system?"
   ]
  },
  {
   "cell_type": "markdown",
   "metadata": {},
   "source": [
    "Looking back to the neuron and synapse models defined in the previous sections, they share a common feature that **they all contain some variables that change over time**. Because of these variables, the models become 'dynamic' and behave differently at different times.\n",
    "\n",
    "Actually, a *dynamical system* is defined as a system with time-dependent states. These time-dependent states are displayed as variables in the previous models.\n",
    "\n",
    "Mathematically, the change of a state $X$ can be expressed as\n",
    "\n",
    "$$\n",
    "\\dot{X} = f(X, t)\n",
    "$$\n",
    "\n",
    "where $X$ is the state of the system, $t$ is the time, and $f$ is a function describing the time dependence of the state. \n",
    "\n",
    "Alternatively, the evolution of the system over time can be given by\n",
    "\n",
    "$$\n",
    "X(t+dt) = F\\left(X(t), t, dt\\right)\n",
    "$$\n",
    "\n",
    "where $dt$ is the time step and $F$ is the evolution rule to update the system's state."
   ]
  },
  {
   "cell_type": "markdown",
   "metadata": {},
   "source": [
    "## ``brainpy.dyn.DynamicalSystem``"
   ]
  },
  {
   "cell_type": "markdown",
   "metadata": {},
   "source": [
    "### General structure of `brainpy.dyn.DynamicalSystem`\n",
    "\n",
    "For efficient dynamics simulation, [`brainpy.dyn.DynamicalSystem`](../apis/auto/building/generated/brainpy.dyn.DynamicalSystem.rst) is provided in BrainPy to define brain objects with dynamic properties. Various subclasses are implemented to model these objects, such as [brainpy.Channel](../apis/auto/building/generated/brainpy.dyn.Channel.rst) for neuron channels, [brainpy.NeuGroup](../apis/auto/building/generated/brainpy.dyn.NeuGroup.rst) for neuron groups, [brainpy.TwoEndConn](../apis/auto/building/generated/brainpy.dyn.TwoEndConn.rst) for synaptic connections, [brainpy.Network](../apis/auto/building/generated/brainpy.dyn.Network.rst) for networks, etc. Arbitrary composition of these objects is also an instance of ``brainpy.dyn.DynamicalSystem``."
   ]
  },
  {
   "cell_type": "markdown",
   "metadata": {},
   "source": [
    "Below is the inheritance of different brain objects from `brainpy.dyn.DynamicalSystem`.\n",
    "\n",
    "<img src=\"../_static/inheritance.png\" width=\"750 px\">"
   ]
  },
  {
   "cell_type": "markdown",
   "metadata": {},
   "source": [
    "According to the mathematic expression of a dynamic state, any subclass of ``brainpy.dyn.DynamicalSystem`` must implement an updating rule in the ``update(self, _t, _dt)`` function. A dynamical system may have multiple updating rules, so users can define multiple *update* functions. All updating functions are wrapped into an inner data structure **self.steps** (a Python dictionary specifies the *name* and the *function* of updating rules). "
   ]
  },
  {
   "cell_type": "markdown",
   "metadata": {},
   "source": [
    "### Customizing your dynamical systems\n",
    "\n",
    "Besides the objects that are pre-defined in BrainPy, users are allowed to customize their dynamical systems as well. To define a dynamical system, the following requirements should be satisfied:\n",
    "- Inherit `brainpy.dyn.DynamicalSystem`.\n",
    "- Implement the `update(self, _t, _dt)` function.\n",
    "- When defining variables, they should be packed by `brainpy.math.Variable`.\n",
    "- When updating the variables, it should be realized by in-place operations.\n",
    "\n",
    "Below is a simple example of a dynamical system."
   ]
  },
  {
   "cell_type": "code",
   "execution_count": 2,
   "metadata": {},
   "outputs": [],
   "source": [
    "class FitzHughNagumoModel(bp.dyn.DynamicalSystem):\n",
    "    def __init__(self, a=0.8, b=0.7, tau=12.5, **kwargs):\n",
    "        super(FitzHughNagumoModel, self).__init__(**kwargs)\n",
    "        \n",
    "        # parameters\n",
    "        self.a = a\n",
    "        self.b = b\n",
    "        self.tau = tau\n",
    "        \n",
    "        # variables should be packed by brainpy.math.Variable\n",
    "        self.v = bm.Variable([0.])\n",
    "        self.w = bm.Variable([0.])\n",
    "        self.I = bm.Variable([0.])\n",
    "        \n",
    "    def update(self, _t, _dt):\n",
    "        # _t : the current time, the system keyword \n",
    "        # _dt : the time step, the system keyword \n",
    "        \n",
    "        # in-place update\n",
    "        self.w += (self.v + self.a - self.b * self.w) / self.tau * _dt\n",
    "        self.v += (self.v - self.v ** 3 / 3 - self.w + self.I) * _dt\n",
    "        self.I[:] = 0."
   ]
  },
  {
   "cell_type": "markdown",
   "metadata": {},
   "source": [
    "Here, we have defined a dynamical system called [FitzHugh–Nagumo neuron model](https://en.wikipedia.org/wiki/FitzHugh%E2%80%93Nagumo_model), whose dynamics is given by: \n",
    "\n",
    "$$\n",
    "{\\dot {v}}=v-{\\frac {v^{3}}{3}}-w+I, \\\\\n",
    "\\tau {\\dot {w}}=v+a-bw.\n",
    "$$\n",
    "\n",
    "By using the [Euler method](../apis/integrators/generated/brainpy.integrators.ode.explicit_rk.Euler.rst), this system can be updated by the following rule:\n",
    "\n",
    "$$\n",
    "\\begin{aligned}\n",
    "v(t+dt) &= v(t) + [v(t)-{v(t)^{3}/3}-w(t)+RI] * dt, \\\\\n",
    "w(t + dt) &= w(t) + [v(t) + a - b w(t)] * dt.\n",
    "\\end{aligned}\n",
    "$$"
   ]
  },
  {
   "cell_type": "markdown",
   "metadata": {},
   "source": [
    "## Advantages of using `brainpy.dyn.DynamicalSystem`"
   ]
  },
  {
   "cell_type": "markdown",
   "metadata": {},
   "source": [
    "There are several advantages of defining a dynamical system as `brainpy.dyn.DynamicalSystem`. "
   ]
  },
  {
   "cell_type": "markdown",
   "metadata": {},
   "source": [
    "### 1. A systematic naming system. "
   ]
  },
  {
   "cell_type": "markdown",
   "metadata": {},
   "source": [
    "First, every instance of ``DynamicalSystem`` has its unique name."
   ]
  },
  {
   "cell_type": "code",
   "execution_count": 5,
   "metadata": {},
   "outputs": [
    {
     "data": {
      "text/plain": [
       "'FitzHughNagumoModel1'"
      ]
     },
     "execution_count": 5,
     "metadata": {},
     "output_type": "execute_result"
    }
   ],
   "source": [
    "fnh.name  # name for \"fnh\" instance"
   ]
  },
  {
   "cell_type": "markdown",
   "metadata": {},
   "source": [
    "Every instance has its unique name:"
   ]
  },
  {
   "cell_type": "code",
   "execution_count": 6,
   "metadata": {},
   "outputs": [
    {
     "name": "stdout",
     "output_type": "stream",
     "text": [
      "FitzHughNagumoModel2\n",
      "FitzHughNagumoModel3\n",
      "FitzHughNagumoModel4\n"
     ]
    }
   ],
   "source": [
    "for _ in range(3):\n",
    "    print(FitzHughNagumoModel().name)"
   ]
  },
  {
   "cell_type": "markdown",
   "metadata": {},
   "source": [
    "Users can also specify the name of a dynamic system:"
   ]
  },
  {
   "cell_type": "code",
   "execution_count": 7,
   "metadata": {},
   "outputs": [
    {
     "data": {
      "text/plain": [
       "'X'"
      ]
     },
     "execution_count": 7,
     "metadata": {},
     "output_type": "execute_result"
    }
   ],
   "source": [
    "fnh2 = FitzHughNagumoModel(name='X')\n",
    "\n",
    "fnh2.name"
   ]
  },
  {
   "cell_type": "code",
   "execution_count": 8,
   "metadata": {},
   "outputs": [
    {
     "name": "stdout",
     "output_type": "stream",
     "text": [
      "In BrainPy, each object should have a unique name. However, we detect that <__main__.FitzHughNagumoModel object at 0x144e37e50> has a used name \"X\". \n",
      "\n",
      "If you try t0 run multiple trials, you may need \"brainpy.base.clear_name_cache()\" to clear all used names. \n"
     ]
    }
   ],
   "source": [
    "# same name will cause error\n",
    "\n",
    "try:\n",
    "    FitzHughNagumoModel(name='X')\n",
    "except bp.errors.UniqueNameError as e:\n",
    "    print(e)"
   ]
  },
  {
   "cell_type": "markdown",
   "metadata": {},
   "source": [
    "Second, variables, children nodes, etc. inside an instance can be easily accessed by their *absolute* or *relative* path. "
   ]
  },
  {
   "cell_type": "code",
   "execution_count": 9,
   "metadata": {},
   "outputs": [
    {
     "data": {
      "text/plain": [
       "{'X.I': Variable([0.], dtype=float32),\n",
       " 'X.v': Variable([0.], dtype=float32),\n",
       " 'X.w': Variable([0.], dtype=float32)}"
      ]
     },
     "execution_count": 9,
     "metadata": {},
     "output_type": "execute_result"
    }
   ],
   "source": [
    "# All variables can be acessed by \n",
    "# 1). the absolute path\n",
    "\n",
    "fnh2.vars()"
   ]
  },
  {
   "cell_type": "code",
   "execution_count": 10,
   "metadata": {
    "scrolled": true
   },
   "outputs": [
    {
     "data": {
      "text/plain": [
       "{'I': Variable([0.], dtype=float32),\n",
       " 'v': Variable([0.], dtype=float32),\n",
       " 'w': Variable([0.], dtype=float32)}"
      ]
     },
     "execution_count": 10,
     "metadata": {},
     "output_type": "execute_result"
    }
   ],
   "source": [
    "# 2). or, the relative path\n",
    "\n",
    "fnh2.vars(method='relative')"
   ]
  },
  {
   "cell_type": "markdown",
   "metadata": {},
   "source": [
    "### 2. Convenient operations for simulation and analysis.\n",
    "Brainpy provides different runners for dynamics simulation and analyzers for dynamics analysis, both of which require the dynamic model to be `Brainpy.dyn.DynamicalSystem`. For example, dynamic models can be packed by a runner for simulation:"
   ]
  },
  {
   "cell_type": "code",
   "execution_count": 32,
   "metadata": {},
   "outputs": [
    {
     "data": {
      "application/vnd.jupyter.widget-view+json": {
       "model_id": "c073a817180b4df0afec4aee12078995",
       "version_major": 2,
       "version_minor": 0
      },
      "text/plain": [
       "  0%|          | 0/1000 [00:00<?, ?it/s]"
      ]
     },
     "metadata": {},
     "output_type": "display_data"
    },
    {
     "data": {
      "image/png": "[encoded data removed]",
      "text/plain": [
       "<Figure size 432x288 with 1 Axes>"
      ]
     },
     "metadata": {
      "needs_background": "light"
     },
     "output_type": "display_data"
    }
   ],
   "source": [
    "runner = bp.dyn.DSRunner(fnh2, monitors=['v', 'w'], inputs=('I', 1.5))\n",
    "runner(duration=100)\n",
    "\n",
    "bp.visualize.line_plot(runner.mon.ts, runner.mon.v, legend='v', show=False)\n",
    "bp.visualize.line_plot(runner.mon.ts, runner.mon.w, legend='w', show=True)"
   ]
  },
  {
   "cell_type": "markdown",
   "metadata": {},
   "source": [
    "Please see [Runners](../tutorial_toolbox/runners.ipynb) to know more about the operations in runners."
   ]
  },
  {
   "cell_type": "markdown",
   "metadata": {},
   "source": [
    "### 3. Efficient computation.\n",
    "\n",
    "``brainpy.dyn.DynamicalSystem`` is a subclass of [brainpy.Base](../apis/generated/brainpy.base.Base.rst), and therefore, any instance of ``brainpy.dyn.DynamicalSystem`` can be complied [just-in-time](../tutorial_basics/jit_compilation.ipynb) into efficient machine codes targeting on CPUs, GPUs, and TPUs. "
   ]
  },
  {
   "cell_type": "code",
   "execution_count": 33,
   "metadata": {
    "scrolled": true
   },
   "outputs": [
    {
     "data": {
      "application/vnd.jupyter.widget-view+json": {
       "model_id": "4669ebec086e4dc5a966c7fa0ed7e28f",
       "version_major": 2,
       "version_minor": 0
      },
      "text/plain": [
       "  0%|          | 0/1000 [00:00<?, ?it/s]"
      ]
     },
     "metadata": {},
     "output_type": "display_data"
    },
    {
     "data": {
      "image/png": "[encoded data removed]",
      "text/plain": [
       "<Figure size 432x288 with 1 Axes>"
      ]
     },
     "metadata": {
      "needs_background": "light"
     },
     "output_type": "display_data"
    }
   ],
   "source": [
    "runner = bp.dyn.DSRunner(fnh2, monitors=['v', 'w'], inputs=('I', 1.5), jit=True)\n",
    "runner(duration=100)\n",
    "\n",
    "bp.visualize.line_plot(runner.mon.ts, runner.mon.v, legend='v', show=False)\n",
    "bp.visualize.line_plot(runner.mon.ts, runner.mon.w, legend='w', show=True)"
   ]
  },
  {
   "cell_type": "markdown",
   "metadata": {},
   "source": [
    "### 4. Support composable programming.\n",
    "Instances of ``brainpy.dyn.DynamicalSystem`` can be combined at will. The combined system is also a `brainpy.dyn.DynamicalSystem` and enjoys all the properties, methods, and interfaces provided by `brainpy.dyn.DynamicalSystem`."
   ]
  },
  {
   "cell_type": "markdown",
   "metadata": {},
   "source": [
    "For example, if the instances are wrapped into a container, i.e. `brainpy.dyn.Network`, variables and nodes can also be accessed by their absolute or relative path."
   ]
  },
  {
   "cell_type": "code",
   "execution_count": 13,
   "metadata": {},
   "outputs": [],
   "source": [
    "fnh_net = bp.dyn.Network(f1=fnh, f2=fnh2)"
   ]
  },
  {
   "cell_type": "code",
   "execution_count": 14,
   "metadata": {},
   "outputs": [
    {
     "data": {
      "text/plain": [
       "{'FitzHughNagumoModel1.I': Variable([0.], dtype=float32),\n",
       " 'FitzHughNagumoModel1.v': Variable([0.], dtype=float32),\n",
       " 'FitzHughNagumoModel1.w': Variable([0.], dtype=float32),\n",
       " 'X.I': Variable([0.], dtype=float32),\n",
       " 'X.v': Variable([-0.54823834], dtype=float32),\n",
       " 'X.w': Variable([2.1766675], dtype=float32)}"
      ]
     },
     "execution_count": 14,
     "metadata": {},
     "output_type": "execute_result"
    }
   ],
   "source": [
    "# absolute access of variables\n",
    "\n",
    "fnh_net.vars()"
   ]
  },
  {
   "cell_type": "code",
   "execution_count": 15,
   "metadata": {},
   "outputs": [
    {
     "data": {
      "text/plain": [
       "{'f1.I': Variable([0.], dtype=float32),\n",
       " 'f1.v': Variable([0.], dtype=float32),\n",
       " 'f1.w': Variable([0.], dtype=float32),\n",
       " 'f2.I': Variable([0.], dtype=float32),\n",
       " 'f2.v': Variable([-0.54823834], dtype=float32),\n",
       " 'f2.w': Variable([2.1766675], dtype=float32)}"
      ]
     },
     "execution_count": 15,
     "metadata": {},
     "output_type": "execute_result"
    }
   ],
   "source": [
    "# relative access of variables\n",
    "\n",
    "fnh_net.vars(method='relative')"
   ]
  },
  {
   "cell_type": "code",
   "execution_count": 16,
   "metadata": {},
   "outputs": [
    {
     "data": {
      "text/plain": [
       "{'FitzHughNagumoModel1': <__main__.FitzHughNagumoModel at 0x144e37d00>,\n",
       " 'X': <__main__.FitzHughNagumoModel at 0x144e37970>,\n",
       " 'Network0': <brainpy.dyn.base.Network at 0x14508bb80>}"
      ]
     },
     "execution_count": 16,
     "metadata": {},
     "output_type": "execute_result"
    }
   ],
   "source": [
    "# absolute access of nodes\n",
    "\n",
    "fnh_net.nodes()"
   ]
  },
  {
   "cell_type": "code",
   "execution_count": 17,
   "metadata": {
    "scrolled": false
   },
   "outputs": [
    {
     "data": {
      "text/plain": [
       "{'': <brainpy.dyn.base.Network at 0x14508bb80>,\n",
       " 'f1': <__main__.FitzHughNagumoModel at 0x144e37d00>,\n",
       " 'f2': <__main__.FitzHughNagumoModel at 0x144e37970>}"
      ]
     },
     "execution_count": 17,
     "metadata": {},
     "output_type": "execute_result"
    }
   ],
   "source": [
    "# relative access of nodes\n",
    "\n",
    "fnh_net.nodes(method='relative')"
   ]
  },
  {
   "cell_type": "code",
   "execution_count": 18,
   "metadata": {
    "scrolled": true
   },
   "outputs": [
    {
     "data": {
      "application/vnd.jupyter.widget-view+json": {
       "model_id": "28b98ea950eb45059c101f31dd6ae788",
       "version_major": 2,
       "version_minor": 0
      },
      "text/plain": [
       "  0%|          | 0/1000 [00:00<?, ?it/s]"
      ]
     },
     "metadata": {},
     "output_type": "display_data"
    },
    {
     "data": {
      "image/png": "[encoded data removed]",
      "text/plain": [
       "<Figure size 432x288 with 1 Axes>"
      ]
     },
     "metadata": {
      "needs_background": "light"
     },
     "output_type": "display_data"
    }
   ],
   "source": [
    "runner = bp.dyn.DSRunner(fnh_net, \n",
    "                         monitors=['f1.v', 'X.v'], \n",
    "                         inputs=[('f1.I', 1.5),   # relative access to variable \"I\" in 'fnh1'\n",
    "                                 ('X.I', 1.0),])  # absolute access to variable \"I\" in 'fnh2'\n",
    "runner(duration=100)\n",
    "\n",
    "bp.visualize.line_plot(runner.mon.ts, runner.mon['f1.v'], legend='fnh1.v', show=False)\n",
    "bp.visualize.line_plot(runner.mon.ts, runner.mon['X.v'], legend='fnh2.v', show=True)"
   ]
  }
 ],
 "metadata": {
  "hide_input": false,
  "jupytext": {
   "encoding": "# -*- coding: utf-8 -*-"
  },
  "kernelspec": {
   "display_name": "Python 3 (ipykernel)",
   "language": "python",
   "name": "python3"
  },
  "language_info": {
   "codemirror_mode": {
    "name": "ipython",
    "version": 3
   },
   "file_extension": ".py",
   "mimetype": "text/x-python",
   "name": "python",
   "nbconvert_exporter": "python",
   "pygments_lexer": "ipython3",
   "version": "3.9.7"
  },
  "latex_envs": {
   "LaTeX_envs_menu_present": true,
   "autoclose": false,
   "autocomplete": true,
   "bibliofile": "biblio.bib",
   "cite_by": "apalike",
   "current_citInitial": 1,
   "eqLabelWithNumbers": true,
   "eqNumInitial": 1,
   "hotkeys": {
    "equation": "Ctrl-E",
    "itemize": "Ctrl-I"
   },
   "labels_anchors": false,
   "latex_user_defs": false,
   "report_style_numbering": false,
   "user_envs_cfg": false
  },
  "toc": {
   "base_numbering": 1,
   "nav_menu": {
    "height": "411px",
    "width": "316px"
   },
   "number_sections": false,
   "sideBar": true,
   "skip_h1_title": false,
   "title_cell": "Table of Contents",
   "title_sidebar": "Contents",
   "toc_cell": false,
   "toc_position": {
    "height": "calc(100% - 180px)",
    "left": "10px",
    "top": "150px",
    "width": "243.068px"
   },
   "toc_section_display": true,
   "toc_window_display": true
  },
  "varInspector": {
   "cols": {
    "lenName": 16,
    "lenType": 16,
    "lenVar": 40
   },
   "kernels_config": {
    "python": {
     "delete_cmd_postfix": "",
     "delete_cmd_prefix": "del ",
     "library": "var_list.py",
     "varRefreshCmd": "print(var_dic_list())"
    },
    "r": {
     "delete_cmd_postfix": ") ",
     "delete_cmd_prefix": "rm(",
     "library": "var_list.r",
     "varRefreshCmd": "cat(var_dic_list()) "
    }
   },
   "types_to_exclude": [
    "module",
    "function",
    "builtin_function_or_method",
    "instance",
    "_Feature"
   ],
   "window_display": false
  }
 },
 "nbformat": 4,
 "nbformat_minor": 4
}