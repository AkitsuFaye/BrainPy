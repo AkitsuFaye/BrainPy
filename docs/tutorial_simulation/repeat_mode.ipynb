{
 "cells": [
  {
   "cell_type": "markdown",
   "metadata": {},
   "source": [
    "# Repeat Running Mode"
   ]
  },
  {
   "cell_type": "markdown",
   "metadata": {},
   "source": [
    "Another simple but powerful function provided in ``BrainPy`` is the repeat running mode of ``brainpy.Network``. This function allows users to run a compiled network model repetitively. Specifically, each ``brainpy.Network`` is instantiated in the repeat mode by default. The parameters and the variables in the step functions can be arbitrarily changed without the need to recompile the network models."
   ]
  },
  {
   "cell_type": "markdown",
   "metadata": {},
   "source": [
    "Repeat mode of ``brainpy.Network`` is very useful at least in the following two situations: *parameter searching* and *RAM memory saving*."
   ]
  },
  {
   "cell_type": "markdown",
   "metadata": {},
   "source": [
    "## Parameter Searching"
   ]
  },
  {
   "cell_type": "markdown",
   "metadata": {},
   "source": [
    "``Parameter searching`` is one of the most common things in computational modeling. When creating a \n",
    "model, we'll be presented with many parameters to control how our defined model evolves. Often times, \n",
    "we don't immediately know what the optimal parameter set should be for a given model, and thus we'd \n",
    "like to be able to explore a range of possibilities. "
   ]
  },
  {
   "cell_type": "markdown",
   "metadata": {},
   "source": [
    "Fortunately, with the ``repeat`` mode provided in ``brainpy.Network``, parameter searching is a very easy thing. "
   ]
  },
  {
   "cell_type": "markdown",
   "metadata": {},
   "source": [
    "Here, we illustrate this with the example of [gamma oscillation](https://brainmodels.readthedocs.io/en/latest/from_papers/Wang_1996_gamma_oscillation.html), and to see how different value of ``g_max`` (the maximal synaptic conductance) affect the network coherence. "
   ]
  },
  {
   "cell_type": "markdown",
   "metadata": {},
   "source": [
    "First, let's import the necessary packages and define the models first."
   ]
  },
  {
   "cell_type": "code",
   "execution_count": 1,
   "metadata": {},
   "outputs": [],
   "source": [
    "import brainpy as bp\n",
    "\n",
    "import numpy as np\n",
    "import matplotlib.pyplot as plt"
   ]
  },
  {
   "cell_type": "code",
   "execution_count": 2,
   "metadata": {},
   "outputs": [],
   "source": [
    "bp.backend.set('numba', dt=0.04)\n",
    "bp.integrators.set_default_odeint('exponential_euler')"
   ]
  },
  {
   "cell_type": "markdown",
   "metadata": {},
   "source": [
    "We first define the HH neuron model:"
   ]
  },
  {
   "cell_type": "code",
   "execution_count": 3,
   "metadata": {},
   "outputs": [],
   "source": [
    "# Neuron Group #\n",
    "# ------------ #\n",
    "\n",
    "class HH(bp.NeuGroup):\n",
    "    target_backend = 'general'\n",
    "\n",
    "    def __init__(self, size, ENa=55., EK=-90., EL=-65,\n",
    "                 C=1.0, gNa=35., gK=9., gL=0.1, V_th=20.,\n",
    "                 phi=5.0, **kwargs):\n",
    "        super(HH, self).__init__(size=size, **kwargs)\n",
    "        \n",
    "        # parameters\n",
    "        self.ENa = ENa\n",
    "        self.EK = EK\n",
    "        self.EL = EL\n",
    "        self.C = C\n",
    "        self.gNa = gNa\n",
    "        self.gK = gK\n",
    "        self.gL = gL\n",
    "        self.V_th = V_th\n",
    "        self.phi = phi\n",
    "\n",
    "        # variables\n",
    "        self.V = bp.ops.ones(self.num) * -65.\n",
    "        self.h = bp.ops.ones(self.num) * 0.6\n",
    "        self.n = bp.ops.ones(self.num) * 0.32\n",
    "        self.spike = bp.ops.zeros(self.num, dtype=bool)\n",
    "        self.input = bp.ops.zeros(self.num)\n",
    "\n",
    "    def reset(self):\n",
    "        self.V[:] = -70. + np.random.random(self.num) * 20\n",
    "\n",
    "        h_alpha = 0.07 * np.exp(-(self.V + 58) / 20)\n",
    "        h_beta = 1 / (np.exp(-0.1 * (self.V + 28)) + 1)\n",
    "        self.h[:] = h_alpha / (h_alpha + h_beta)\n",
    "\n",
    "        n_alpha = -0.01 * (self.V + 34) / (np.exp(-0.1 * (self.V + 34)) - 1)\n",
    "        n_beta = 0.125 * np.exp(-(self.V + 44) / 80)\n",
    "        self.n[:] = n_alpha / (n_alpha + n_beta)\n",
    "\n",
    "        self.spike[:] = False\n",
    "        self.input[:] = 0.\n",
    "\n",
    "    @staticmethod\n",
    "    @bp.odeint\n",
    "    def integral(V, h, n, t, Iext, gNa, ENa, gK, EK, gL, EL, C, phi):\n",
    "        alpha = 0.07 * bp.ops.exp(-(V + 58) / 20)\n",
    "        beta = 1 / (bp.ops.exp(-0.1 * (V + 28)) + 1)\n",
    "        dhdt = phi * (alpha * (1 - h) - beta * h)\n",
    "\n",
    "        alpha = -0.01 * (V + 34) / (bp.ops.exp(-0.1 * (V + 34)) - 1)\n",
    "        beta = 0.125 * bp.ops.exp(-(V + 44) / 80)\n",
    "        dndt = phi * (alpha * (1 - n) - beta * n)\n",
    "\n",
    "        m_alpha = -0.1 * (V + 35) / (bp.ops.exp(-0.1 * (V + 35)) - 1)\n",
    "        m_beta = 4 * bp.ops.exp(-(V + 60) / 18)\n",
    "        m = m_alpha / (m_alpha + m_beta)\n",
    "        INa = gNa * m ** 3 * h * (V - ENa)\n",
    "        IK = gK * n ** 4 * (V - EK)\n",
    "        IL = gL * (V - EL)\n",
    "        dVdt = (- INa - IK - IL + Iext) / C\n",
    "\n",
    "        return dVdt, dhdt, dndt\n",
    "\n",
    "    def update(self, _t):\n",
    "        V, h, n = self.integral(self.V, self.h, self.n, _t,\n",
    "                                self.input, self.gNa, self.ENa, self.gK,\n",
    "                                self.EK, self.gL, self.EL, self.C, self.phi)\n",
    "        self.spike = np.logical_and(self.V < self.V_th, V >= self.V_th)\n",
    "        self.V = V\n",
    "        self.h = h\n",
    "        self.n = n\n",
    "        self.input[:] = 0"
   ]
  },
  {
   "cell_type": "markdown",
   "metadata": {},
   "source": [
    "Then, the inter-connected synapse GABAA can be defined as:"
   ]
  },
  {
   "cell_type": "code",
   "execution_count": 4,
   "metadata": {},
   "outputs": [],
   "source": [
    "# GABAa Synapse #\n",
    "# ------------- #\n",
    "\n",
    "class GABAa(bp.TwoEndConn):\n",
    "    target_backend = ['numpy', 'numba']\n",
    "\n",
    "    def __init__(self, pre, post, conn, delay=0., E=-75., g_max=0.1,\n",
    "                 alpha=12., beta=0.1, T=1.0, T_duration=1.0, **kwargs):\n",
    "        # parameters\n",
    "        self.E = E\n",
    "        self.alpha = alpha\n",
    "        self.beta = beta\n",
    "        self.T = T\n",
    "        self.T_duration = T_duration\n",
    "        self.delay = delay\n",
    "        self.g_max = g_max\n",
    "\n",
    "        # connections\n",
    "        self.conn = conn(pre.size, post.size)\n",
    "        self.conn_mat = self.conn.requires('conn_mat')\n",
    "        self.num = bp.ops.shape(self.conn_mat)\n",
    "\n",
    "        # variables\n",
    "        self.s = bp.ops.zeros(self.num)\n",
    "        self.t_last_pre_spike = bp.ops.ones(self.num) * -1e7\n",
    "        self.g = self.register_constant_delay('g', size=self.num, delay_time=delay)\n",
    "        \n",
    "        super(GABAa, self).__init__(pre=pre, post=post, **kwargs)\n",
    "\n",
    "    def reset(self):\n",
    "        self.s[:] = 0.\n",
    "        self.t_last_pre_spike[:] = -1e7\n",
    "        self.g.reset()\n",
    "\n",
    "    @staticmethod\n",
    "    @bp.odeint\n",
    "    def int_s(s, t, TT, alpha, beta):\n",
    "        dsdt = alpha * TT * (1 - s) - beta * s\n",
    "        return dsdt\n",
    "\n",
    "    def update(self, _t):\n",
    "        for i in range(self.pre.size[0]):\n",
    "            if self.pre.spike[i] > 0:\n",
    "                self.t_last_pre_spike[i] = _t\n",
    "        TT = ((_t - self.t_last_pre_spike) < self.T_duration) * self.T\n",
    "        self.s = self.int_s(self.s, _t, TT, self.alpha, self.beta)\n",
    "        self.g.push(self.g_max * self.s)\n",
    "        g = self.g.pull()\n",
    "        self.post.input -= bp.ops.sum(g, axis=0) * (self.post.V - self.E)"
   ]
  },
  {
   "cell_type": "markdown",
   "metadata": {},
   "source": [
    "Putting the HH neuron and the GABA<sub>A</sub> syanpse together, let's define the network in which HH neurons are interconnected with the GABA<sub>A</sub> syanpses. "
   ]
  },
  {
   "cell_type": "code",
   "execution_count": 5,
   "metadata": {},
   "outputs": [],
   "source": [
    "# Network #\n",
    "# ------- #\n",
    "\n",
    "num = 100\n",
    "\n",
    "group = HH(num, monitors=['spike', 'V'])\n",
    "conn = GABAa(pre=group, post=group, g_max=0.1/num, \n",
    "             conn=bp.connect.All2All(include_self=False))\n",
    "net = bp.Network(group, conn)"
   ]
  },
  {
   "cell_type": "markdown",
   "metadata": {},
   "source": [
    "Now, by using the [cross correlation](https://en.wikipedia.org/wiki/Cross-correlation) measurement, we can evaluate the network coherence under the different parameter setting of ``g_max``."
   ]
  },
  {
   "cell_type": "code",
   "execution_count": 6,
   "metadata": {
    "lines_to_next_cell": 2,
    "scrolled": false
   },
   "outputs": [
    {
     "name": "stdout",
     "output_type": "stream",
     "text": [
      "When g_max = 0.00050 ...\n",
      "Compilation used 5.6063 s.\n",
      "Start running ...\n",
      "Run 100.0% used 1.334 s.\n",
      "Simulation is done in 1.334 s.\n",
      "\n",
      "When g_max = 0.00060 ...\n",
      "Compilation used 0.0000 s.\n",
      "Start running ...\n",
      "Run 100.0% used 1.332 s.\n",
      "Simulation is done in 1.332 s.\n",
      "\n",
      "When g_max = 0.00070 ...\n",
      "Compilation used 0.0000 s.\n",
      "Start running ...\n",
      "Run 100.0% used 1.353 s.\n",
      "Simulation is done in 1.353 s.\n",
      "\n",
      "When g_max = 0.00080 ...\n",
      "Compilation used 0.0000 s.\n",
      "Start running ...\n",
      "Run 100.0% used 1.373 s.\n",
      "Simulation is done in 1.373 s.\n",
      "\n",
      "When g_max = 0.00090 ...\n",
      "Compilation used 0.0000 s.\n",
      "Start running ...\n",
      "Run 100.0% used 1.354 s.\n",
      "Simulation is done in 1.354 s.\n",
      "\n",
      "When g_max = 0.00100 ...\n",
      "Compilation used 0.0000 s.\n",
      "Start running ...\n",
      "Run 100.0% used 1.358 s.\n",
      "Simulation is done in 1.358 s.\n",
      "\n",
      "When g_max = 0.00110 ...\n",
      "Compilation used 0.0010 s.\n",
      "Start running ...\n",
      "Run 100.0% used 1.364 s.\n",
      "Simulation is done in 1.364 s.\n",
      "\n",
      "When g_max = 0.00120 ...\n",
      "Compilation used 0.0000 s.\n",
      "Start running ...\n",
      "Run 100.0% used 1.352 s.\n",
      "Simulation is done in 1.352 s.\n",
      "\n",
      "When g_max = 0.00130 ...\n",
      "Compilation used 0.0000 s.\n",
      "Start running ...\n",
      "Run 100.0% used 1.348 s.\n",
      "Simulation is done in 1.348 s.\n",
      "\n",
      "When g_max = 0.00140 ...\n",
      "Compilation used 0.0000 s.\n",
      "Start running ...\n",
      "Run 100.0% used 1.350 s.\n",
      "Simulation is done in 1.350 s.\n",
      "\n",
      "When g_max = 0.00150 ...\n",
      "Compilation used 0.0000 s.\n",
      "Start running ...\n",
      "Run 100.0% used 1.353 s.\n",
      "Simulation is done in 1.353 s.\n",
      "\n"
     ]
    }
   ],
   "source": [
    "# Parameter Searching #\n",
    "# ------------------- #\n",
    "\n",
    "all_g_max = np.arange(0.05, 0.151, 0.01) / num\n",
    "all_cc = []\n",
    "\n",
    "for i, g_max in enumerate(all_g_max):\n",
    "    print('When g_max = {:.5f} ...'.format(g_max))\n",
    "    \n",
    "    group.reset()\n",
    "    conn.reset()\n",
    "\n",
    "    net.run(duration=500., inputs=[group, 'input', 1.2], report=True, report_percent=1.)\n",
    "\n",
    "    cc = bp.measure.cross_correlation(group.mon.spike, bin=0.5)\n",
    "    all_cc.append(cc)"
   ]
  },
  {
   "cell_type": "markdown",
   "metadata": {},
   "source": [
    "As you can see, the network was only compiled at the fist time run. And the overall speed of the later running does not change."
   ]
  },
  {
   "cell_type": "markdown",
   "metadata": {},
   "source": [
    "Finally, we can plot the relationship between the ``g_max`` and network coherence ``cc``."
   ]
  },
  {
   "cell_type": "code",
   "execution_count": 7,
   "metadata": {},
   "outputs": [
    {
     "data": {
      "image/png": "[encoded data removed]",
      "text/plain": [
       "<Figure size 432x288 with 1 Axes>"
      ]
     },
     "metadata": {
      "needs_background": "light"
     },
     "output_type": "display_data"
    }
   ],
   "source": [
    "plt.plot(all_g_max, all_cc)\n",
    "plt.xlabel('g_max')\n",
    "plt.ylabel('cc')\n",
    "plt.show()"
   ]
  },
  {
   "cell_type": "markdown",
   "metadata": {},
   "source": [
    "It is worthy to note that in this example, before each ``net.run()``, we reset the variable state of the neuron group and the synaptic connection. This is because each repeat run is independent with each other in the case of the parameter tuning. However, in the following example, the current ``net.run()`` relies on the previous network running, the variable state should not be reset. "
   ]
  },
  {
   "cell_type": "markdown",
   "metadata": {},
   "source": [
    "## Memory Saving"
   ]
  },
  {
   "cell_type": "markdown",
   "metadata": {},
   "source": [
    "Another annoyance often occurs is that our computers have limited RAM memory. Once the model size is big, or the running duration is long, ``MemoryError`` usually occurs. "
   ]
  },
  {
   "cell_type": "markdown",
   "metadata": {},
   "source": [
    "Here, with ``brainpy.Network`` repeat running mode, BrainPy can partially solve this problem by allowing uers to split a long duration into multiple short durations. BrainPy allows user to repeatedly call ``run()``. In this section, we illustrate this function by using the above defined gamma oscillation network."
   ]
  },
  {
   "cell_type": "markdown",
   "metadata": {},
   "source": [
    "We define a network with the size of 200 HH neurons, and try to run this network in 2 seconds."
   ]
  },
  {
   "cell_type": "code",
   "execution_count": 8,
   "metadata": {},
   "outputs": [],
   "source": [
    "group2 = HH(200, monitors=['spike', 'V'])\n",
    "group2.reset()\n",
    "\n",
    "conn2 = GABAa(pre=group2, post=group2, g_max=0.1/200,\n",
    "              conn=bp.connect.All2All(include_self=False))\n",
    "net2 = bp.Network(group2, conn2)"
   ]
  },
  {
   "cell_type": "markdown",
   "metadata": {},
   "source": [
    "Here, we do not run the total 1.5 second at one time. On the contrary, we run the model with four steps, with each step of 0.5 second running duration."
   ]
  },
  {
   "cell_type": "code",
   "execution_count": 9,
   "metadata": {},
   "outputs": [
    {
     "name": "stdout",
     "output_type": "stream",
     "text": [
      "Compilation used 2.1291 s.\n",
      "Start running ...\n",
      "Run 50.0% used 2.095 s.\n",
      "Run 100.0% used 4.187 s.\n",
      "Simulation is done in 4.187 s.\n",
      "\n"
     ]
    },
    {
     "data": {
      "image/png": "[encoded data removed]",
      "text/plain": [
       "<Figure size 432x288 with 1 Axes>"
      ]
     },
     "metadata": {
      "needs_background": "light"
     },
     "output_type": "display_data"
    }
   ],
   "source": [
    "# run 1: 0 - 500 ms\n",
    "\n",
    "net2.run(duration=(0., 500.), inputs=[group2, 'input', 1.2], report=True, report_percent=0.5)\n",
    "bp.visualize.raster_plot(group2.mon.spike_t, group2.mon.spike, show=True)"
   ]
  },
  {
   "cell_type": "code",
   "execution_count": 10,
   "metadata": {},
   "outputs": [
    {
     "name": "stdout",
     "output_type": "stream",
     "text": [
      "Compilation used 0.0000 s.\n",
      "Start running ...\n",
      "Run 50.0% used 2.128 s.\n",
      "Run 100.0% used 4.249 s.\n",
      "Simulation is done in 4.249 s.\n",
      "\n"
     ]
    },
    {
     "data": {
      "image/png": "[encoded data removed]",
      "text/plain": [
       "<Figure size 432x288 with 1 Axes>"
      ]
     },
     "metadata": {
      "needs_background": "light"
     },
     "output_type": "display_data"
    }
   ],
   "source": [
    "# run 2: 500 - 1000 ms\n",
    "\n",
    "net2.run(duration=(500., 1000.), inputs=[group2, 'input', 1.2], report=True, report_percent=0.5)\n",
    "bp.visualize.raster_plot(group2.mon.spike_t, group2.mon.spike, show=True)"
   ]
  },
  {
   "cell_type": "markdown",
   "metadata": {},
   "source": [
    "Set a different inputs structure (the previous is a \"float\", now it's a vector), the network will rebuild the input function and run the network continuously."
   ]
  },
  {
   "cell_type": "code",
   "execution_count": 11,
   "metadata": {
    "scrolled": false
   },
   "outputs": [
    {
     "name": "stdout",
     "output_type": "stream",
     "text": [
      "Compilation used 0.0010 s.\n",
      "Start running ...\n",
      "Run 50.0% used 2.134 s.\n",
      "Run 100.0% used 4.284 s.\n",
      "Simulation is done in 4.284 s.\n",
      "\n"
     ]
    },
    {
     "data": {
      "image/png": "[encoded data removed]",
      "text/plain": [
       "<Figure size 432x288 with 1 Axes>"
      ]
     },
     "metadata": {
      "needs_background": "light"
     },
     "output_type": "display_data"
    }
   ],
   "source": [
    "# run 1000 - 1500 ms\n",
    "\n",
    "Iext = np.ones(group2.num) * 1.2\n",
    "net2.run(duration=(1000., 1500.), inputs=[group2, 'input', Iext],\n",
    "        report=True, report_percent=0.5)\n",
    "bp.visualize.raster_plot(group2.mon.spike_t, group2.mon.spike, show=True)"
   ]
  },
  {
   "cell_type": "markdown",
   "metadata": {},
   "source": [
    "---\n",
    "\n",
    "**NOTE**\n",
    "\n",
    "\n",
    "Another thing worthy noting is that if the model variable states rely on the time (for example, the LIF neuron model ``self.t_last_spike``). Setting the continuous time duration between each repeat run is necessary, because the model's logic is dependent on the current time ``_t``. \n",
    "\n",
    "\n",
    "**Author**:\n",
    "\n",
    "- Chaoming Wang\n",
    "- Email: adaduo@outlook.com\n",
    "- Date: 2021.05.25\n",
    "\n",
    "---\n"
   ]
  }
 ],
 "metadata": {
  "hide_input": false,
  "kernelspec": {
   "display_name": "brainpy",
   "language": "python",
   "name": "brainpy"
  },
  "language_info": {
   "codemirror_mode": {
    "name": "ipython",
    "version": 3
   },
   "file_extension": ".py",
   "mimetype": "text/x-python",
   "name": "python",
   "nbconvert_exporter": "python",
   "pygments_lexer": "ipython3",
   "version": "3.8.8"
  },
  "toc": {
   "base_numbering": 1,
   "nav_menu": {},
   "number_sections": false,
   "sideBar": true,
   "skip_h1_title": false,
   "title_cell": "Table of Contents",
   "title_sidebar": "Contents",
   "toc_cell": false,
   "toc_position": {
    "height": "calc(100% - 180px)",
    "left": "10px",
    "top": "150px",
    "width": "180.07px"
   },
   "toc_section_display": true,
   "toc_window_display": true
  },
  "varInspector": {
   "cols": {
    "lenName": 16,
    "lenType": 16,
    "lenVar": 40
   },
   "kernels_config": {
    "python": {
     "delete_cmd_postfix": "",
     "delete_cmd_prefix": "del ",
     "library": "var_list.py",
     "varRefreshCmd": "print(var_dic_list())"
    },
    "r": {
     "delete_cmd_postfix": ") ",
     "delete_cmd_prefix": "rm(",
     "library": "var_list.r",
     "varRefreshCmd": "cat(var_dic_list()) "
    }
   },
   "types_to_exclude": [
    "module",
    "function",
    "builtin_function_or_method",
    "instance",
    "_Feature"
   ],
   "window_display": false
  }
 },
 "nbformat": 4,
 "nbformat_minor": 4
}
