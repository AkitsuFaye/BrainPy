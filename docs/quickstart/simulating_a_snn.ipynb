{
 "cells": [
  {
   "cell_type": "markdown",
   "id": "2e1966cc",
   "metadata": {},
   "source": [
    "# Simulating a SNN"
   ]
  },
  {
   "cell_type": "markdown",
   "id": "724ccd02",
   "metadata": {},
   "source": [
    "@[Xiaoyu Chen](mailto:c-xy17@tsinghua.org.cn)"
   ]
  },
  {
   "cell_type": "markdown",
   "id": "66f9a769",
   "metadata": {},
   "source": [
    "Spiking neural networks (SNN) are one of the most important tools to study brian dynamcis in computational neuroscience. They simulate the biological processes of information transmission in the brain, including the change of membrane potentials, neuronal firing, and synaptic transmission. In this section, we will illustrate how to build and simulate a SNN.\n",
    "\n",
    "Before we start, the BrainPy package should be imported:"
   ]
  },
  {
   "cell_type": "code",
   "execution_count": 4,
   "id": "c4fbe84d",
   "metadata": {},
   "outputs": [],
   "source": [
    "import brainpy as bp\n",
    "\n",
    "bp.math.set_platform('cpu')"
   ]
  },
  {
   "cell_type": "markdown",
   "id": "dd03123d",
   "metadata": {},
   "source": [
    "## Building a SNN"
   ]
  },
  {
   "cell_type": "markdown",
   "id": "63354c42",
   "metadata": {},
   "source": [
    "Let's try to build a E-I balance network. The structure of a E-I balance network is as follows:\n",
    "\n",
    "<img src=\"../_static/E_I_balance_network.png\" width=\"400 px\">\n",
    "<center>Illustration of an E-I Balance Network<center>"
   ]
  },
  {
   "cell_type": "markdown",
   "id": "62d35f9b",
   "metadata": {},
   "source": [
    "A E-I balance network is composed of two neuron groups and the synaptic connections between them. Specifically, they include:\n",
    "1. a group of excitatory neurons (E),\n",
    "2. a group of inhibitory neurons (I),\n",
    "3. synaptic connections within the excitatory and inhibitory neuron groups, respectively, and \n",
    "4. the inter-connections between these two groups."
   ]
  },
  {
   "cell_type": "markdown",
   "id": "c367fbf1",
   "metadata": {},
   "source": [
    "Let's choose the simplest yet the most canonical neuron model, the Leaky Integrate-and-Fire (LIF) model, to build the excitatory and inhibitory neuron groups:"
   ]
  },
  {
   "cell_type": "code",
   "execution_count": 5,
   "id": "69556409",
   "metadata": {},
   "outputs": [],
   "source": [
    "E = bp.dyn.LIF(3200, V_rest=-60., V_th=-50., V_reset=-60., tau=20., tau_ref=5., method='exp_auto')\n",
    "I = bp.dyn.LIF(800, V_rest=-60., V_th=-50., V_reset=-60., tau=20., tau_ref=5., method='exp_auto')"
   ]
  },
  {
   "cell_type": "markdown",
   "id": "931a0a84",
   "metadata": {},
   "source": [
    "When defining the LIF neuron group, the parameters can be set according to users' need. The first parameter denotes the number of neurons. Here the ratio of excitatory and inhibitory neurons is set 4:1. ``V_rest`` denotes the resting potential, ``V_th`` denotes the firing threshold, ``V_reset`` denotes the reset value after firing, ``tau`` is the time constant, and ``tau_ref`` is the duration of the refractory period. ``method`` refers to the numerical integration method to be used in simulation. "
   ]
  },
  {
   "cell_type": "markdown",
   "id": "abe09b1b",
   "metadata": {},
   "source": [
    "Then the synaptic connections between these two groups can be defined:"
   ]
  },
  {
   "cell_type": "code",
   "execution_count": 8,
   "id": "8be1733f",
   "metadata": {},
   "outputs": [],
   "source": [
    "E2E = bp.models.ExpCOBA(E, E, bp.conn.FixedProb(prob=0.02), E=0., g_max=0.6, tau=5., method='exp_auto')\n",
    "E2I = bp.models.ExpCOBA(E, I, bp.conn.FixedProb(prob=0.02), E=0., g_max=0.6, tau=5., method='exp_auto')\n",
    "I2E = bp.models.ExpCOBA(I, E, bp.conn.FixedProb(prob=0.02), E=-80., g_max=0.7, tau=10., method='exp_auto')\n",
    "I2I = bp.models.ExpCOBA(I, I, bp.conn.FixedProb(prob=0.02), E=-80., g_max=0.7, tau=10., method='exp_auto')"
   ]
  },
  {
   "cell_type": "code",
   "execution_count": 10,
   "id": "f8a6c731",
   "metadata": {},
   "outputs": [],
   "source": [
    "net = bp.dyn.Network(E2E, E2I, I2E, I2I, E=E, I=I)"
   ]
  },
  {
   "cell_type": "code",
   "execution_count": 11,
   "id": "8e16cd97",
   "metadata": {},
   "outputs": [],
   "source": [
    "runner = bp.dyn.DSRunner(net,\n",
    "                         monitors=['E.spike'],\n",
    "                         inputs=[('E.input', 20.), ('I.input', 20.)])"
   ]
  },
  {
   "cell_type": "code",
   "execution_count": null,
   "id": "f3aab08c",
   "metadata": {},
   "outputs": [],
   "source": [
    "runner(200)\n",
    "bp.visualize.raster_plot(runner.mon.ts, runner.mon['E.spike'], show=True)"
   ]
  },
  {
   "cell_type": "code",
   "execution_count": null,
   "id": "9c683b09",
   "metadata": {},
   "outputs": [],
   "source": []
  }
 ],
 "metadata": {
  "kernelspec": {
   "display_name": "Python [conda env:root] *",
   "language": "python",
   "name": "conda-root-py"
  },
  "language_info": {
   "codemirror_mode": {
    "name": "ipython",
    "version": 3
   },
   "file_extension": ".py",
   "mimetype": "text/x-python",
   "name": "python",
   "nbconvert_exporter": "python",
   "pygments_lexer": "ipython3",
   "version": "3.8.8"
  }
 },
 "nbformat": 4,
 "nbformat_minor": 5
}
