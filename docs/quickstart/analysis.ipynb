{
 "cells": [
  {
   "cell_type": "markdown",
   "id": "ae1512d8",
   "metadata": {},
   "source": [
    "# Analyzing Dynamic Models"
   ]
  },
  {
   "cell_type": "markdown",
   "id": "6ab49f7e",
   "metadata": {},
   "source": [
    "## Phase Plane Analysis"
   ]
  },
  {
   "cell_type": "markdown",
   "id": "84381c30",
   "metadata": {},
   "source": [
    "@[Xiaoyu Chen](mailto:c-xy17@tsinghua.org.cn)"
   ]
  },
  {
   "cell_type": "markdown",
   "id": "0a3a0e53",
   "metadata": {},
   "source": [
    "Let's take the [FitzHugh–Nagumo (FHN) neuron model](https://brainmodels.readthedocs.io/en/latest/apis/generated/brainmodels.neurons.FHN.html) model as an example. The dynamics of the FHN model is given by: \n",
    "\n",
    "$$\n",
    "{\\dot {v}}=v-{\\frac {v^{3}}{3}}-w+I, \\\\\n",
    "\\tau {\\dot {w}}=v+a-bw.\n",
    "$$"
   ]
  },
  {
   "cell_type": "code",
   "execution_count": 3,
   "id": "b71ca7e2",
   "metadata": {},
   "outputs": [],
   "source": [
    "import brainpy as bp\n",
    "\n",
    "bp.math.set_platform('cpu')\n",
    "\n",
    "bp.math.enable_x64()"
   ]
  },
  {
   "cell_type": "code",
   "execution_count": null,
   "id": "bdbb963c",
   "metadata": {},
   "outputs": [],
   "source": [
    "fhn = bp.dyn.FHN(1)\n",
    "\n",
    "analyzer = bp.analysis.PhasePlane2D(\n",
    "  fhn,\n",
    "  target_vars={'V': [-3, 3], 'w': [-3., 3.]},\n",
    "  pars_update={'Iext': 0.8}, \n",
    "  resolutions=0.01,\n",
    ")\n",
    "analyzer.plot_nullcline()\n",
    "analyzer.plot_vector_field()\n",
    "analyzer.plot_fixed_point()\n",
    "analyzer.plot_trajectory({'V': [-2.8], 'w': [-1.8]}, duration=100.)\n",
    "analyzer.show_figure()"
   ]
  },
  {
   "cell_type": "markdown",
   "id": "a5c9a5d9",
   "metadata": {},
   "source": [
    "## Bifurcation Analysis"
   ]
  },
  {
   "cell_type": "code",
   "execution_count": null,
   "id": "8955c420",
   "metadata": {},
   "outputs": [],
   "source": []
  }
 ],
 "metadata": {
  "kernelspec": {
   "display_name": "Python [conda env:root] *",
   "language": "python",
   "name": "conda-root-py"
  },
  "language_info": {
   "codemirror_mode": {
    "name": "ipython",
    "version": 3
   },
   "file_extension": ".py",
   "mimetype": "text/x-python",
   "name": "python",
   "nbconvert_exporter": "python",
   "pygments_lexer": "ipython3",
   "version": "3.8.8"
  }
 },
 "nbformat": 4,
 "nbformat_minor": 5
}
