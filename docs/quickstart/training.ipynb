{
 "cells": [
  {
   "cell_type": "markdown",
   "id": "39d2c36a",
   "metadata": {},
   "source": [
    "# Training a RNN"
   ]
  },
  {
   "cell_type": "markdown",
   "id": "963febbb",
   "metadata": {},
   "source": [
    "In recent years, we saw the revolution that training a dynamical system from data or tasks has provided important insights to understand brain functions. To support this, BrainPy porvides various interfaces to help users train dynamical systems. \n",
    "\n",
    "Examples of using FORCE learning algorithm, back-propagation algorithm or others to train recurrent neural networks can be found in [BrainPy-Examples](https://brainpy-examples.readthedocs.io/en/brainpy-2.x/recurrent_networks/index.html). "
   ]
  },
  {
   "cell_type": "code",
   "execution_count": null,
   "id": "215cd4cc",
   "metadata": {},
   "outputs": [],
   "source": []
  }
 ],
 "metadata": {
  "kernelspec": {
   "display_name": "Python [conda env:root] *",
   "language": "python",
   "name": "conda-root-py"
  },
  "language_info": {
   "codemirror_mode": {
    "name": "ipython",
    "version": 3
   },
   "file_extension": ".py",
   "mimetype": "text/x-python",
   "name": "python",
   "nbconvert_exporter": "python",
   "pygments_lexer": "ipython3",
   "version": "3.8.8"
  }
 },
 "nbformat": 4,
 "nbformat_minor": 5
}
