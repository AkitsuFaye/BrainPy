{
 "cells": [
  {
   "cell_type": "markdown",
   "metadata": {},
   "source": [
    "# Neurodynamics Simulation"
   ]
  },
  {
   "cell_type": "markdown",
   "metadata": {},
   "source": [
    "**Contents**\n",
    "\n",
    "- [brainpy.NeuGroup](#brainpy.NeuGroup)\n",
    "- [brainpy.TwoEndConn](#brainpy.TwoEndConn)\n",
    "- [brainpy.Network](#brainpy.Network)"
   ]
  },
  {
   "cell_type": "markdown",
   "metadata": {},
   "source": [
    "For brain modeling, BrainPy provides the interface of `brainpy.NeuGroup`, `brainpy.TwoEndConn`, and `brainpy.Network` for convenient neurodynamics simulation."
   ]
  },
  {
   "cell_type": "code",
   "execution_count": 1,
   "metadata": {
    "ExecuteTime": {
     "end_time": "2021-03-25T03:02:48.939126Z",
     "start_time": "2021-03-25T03:02:47.073698Z"
    }
   },
   "outputs": [],
   "source": [
    "import brainpy as bp\n",
    "import numpy as np"
   ]
  },
  {
   "cell_type": "markdown",
   "metadata": {},
   "source": [
    "## brainpy.NeuGroup"
   ]
  },
  {
   "cell_type": "markdown",
   "metadata": {},
   "source": [
    "`brainpy.NeuGroup` is used for neuron group modeling. User-defined neuron group models must inherit from the `brainpy.NeuGroup`. Let's take the [leaky integrate-and-fire](https://en.wikipedia.org/wiki/Biological_neuron_model#Leaky_integrate-and-fire) (LIF) model and [Hodgkin–Huxley neuron model](https://en.wikipedia.org/wiki/Hodgkin%E2%80%93Huxley_model) as the illustrated examples. "
   ]
  },
  {
   "cell_type": "markdown",
   "metadata": {},
   "source": [
    "### LIF model"
   ]
  },
  {
   "cell_type": "markdown",
   "metadata": {},
   "source": [
    "The formal equations of a LIF model is given by:\n",
    "\n",
    "$$\n",
    "\\tau_m \\frac{dV}{dt} = - (V(t) - V_{rest}) + I(t) \n",
    "\\\\\n",
    "\\text{after}\\, V(t) \\gt V_{th}, V(t) =V_{rest}\n",
    "\\,\n",
    "\\text{last}\\, \\tau_{ref}\\, \\text{ms} \n",
    "$$\n",
    "\n",
    "where $V$ is the membrane potential, $V_{rest}$ is the rest membrane potential, $V_{th}$ is the spike threshold, $\\tau_m$ is the time constant, $\\tau_{ref}$ is the refractory time period, and $I$ is the time-variant synaptic inputs. "
   ]
  },
  {
   "cell_type": "markdown",
   "metadata": {},
   "source": [
    "As stated above, the numerical integration of the differential equation in LIF model can be coded as:"
   ]
  },
  {
   "cell_type": "code",
   "execution_count": 2,
   "metadata": {
    "ExecuteTime": {
     "end_time": "2021-03-25T03:02:48.959138Z",
     "start_time": "2021-03-25T03:02:48.941426Z"
    }
   },
   "outputs": [],
   "source": [
    "@bp.odeint\n",
    "def int_V(V, t, Iext, V_rest, R, tau):\n",
    "    return (- (V - V_rest) + R * Iext) / tau"
   ]
  },
  {
   "cell_type": "markdown",
   "metadata": {},
   "source": [
    "Then, we will define the following items to store the neuron state:\n",
    "\n",
    "- ``V``: The membrane potential.\n",
    "- ``input``: The synaptic input.\n",
    "- ``spike``: Whether produce a spike.\n",
    "- ``refractory``: Whether the neuron is in refractory state.\n",
    "- ``t_last_spike``: The last spike time for calculating refractory state.\n",
    "\n",
    "Based on these states, the updating logic of LIF model from the current time $t$ to the next time $t+dt$ will be coded as:"
   ]
  },
  {
   "cell_type": "code",
   "execution_count": 3,
   "metadata": {
    "ExecuteTime": {
     "end_time": "2021-03-25T03:02:48.995265Z",
     "start_time": "2021-03-25T03:02:48.969008Z"
    }
   },
   "outputs": [],
   "source": [
    "class LIF(bp.NeuGroup):\n",
    "    target_backend = ['numpy', 'numba']\n",
    "\n",
    "    def __init__(self, size, t_refractory=1., V_rest=0.,\n",
    "                 V_reset=-5., V_th=20., R=1., tau=10., **kwargs):\n",
    "        # parameters\n",
    "        self.V_rest = V_rest\n",
    "        self.V_reset = V_reset\n",
    "        self.V_th = V_th\n",
    "        self.R = R\n",
    "        self.tau = tau\n",
    "        self.t_refractory = t_refractory\n",
    "\n",
    "        # variables\n",
    "        self.t_last_spike = bp.ops.ones(size) * -1e7\n",
    "        self.refractory = bp.ops.zeros(size)\n",
    "        self.input = bp.ops.zeros(size)\n",
    "        self.spike = bp.ops.zeros(size)\n",
    "        self.V = bp.ops.ones(size) * V_reset\n",
    "\n",
    "        super(LIF, self).__init__(size=size, **kwargs)\n",
    "    \n",
    "    @staticmethod\n",
    "    @bp.odeint\n",
    "    def int_V(V, t, Iext, V_rest, R, tau):\n",
    "        return (- (V - V_rest) + R * Iext) / tau\n",
    "    \n",
    "    def update(self, _t):\n",
    "        for i in range(self.size[0]):\n",
    "            if _t - self.t_last_spike[i] <= self.t_refractory:\n",
    "                self.refractory[i] = 1.\n",
    "            else:\n",
    "                self.refractory[0] = 0.\n",
    "                V = self.int_V(self.V[i], _t, self.input[i], self.V_rest, self.R, self.tau)\n",
    "                if V >= self.V_th:\n",
    "                    self.V[i] = self.V_reset\n",
    "                    self.spike[i] = 1.\n",
    "                    self.t_last_spike[i] = _t\n",
    "                else:\n",
    "                    self.spike[i] = 0.\n",
    "                    self.V[i] = V\n",
    "            self.input[i] = 0."
   ]
  },
  {
   "cell_type": "markdown",
   "metadata": {},
   "source": [
    "That's all, we have coded a LIF neuron model. \n",
    "\n",
    "Each NeuGroup has a powerful function: ``.run()``. In this function, it receives the following arguments:\n",
    "\n",
    "- ``duration``: Specify the simulation duration. Can be a tuple with ``(start time, end time)``. Or it can be a int to specify the duration ``length`` (then the default start time is ``0``).\n",
    "- ``inputs``: Specify the inputs for each model component. With the format of ``(target, value, [operation])``. The default operation is ``+``, which means the input ``value`` will be added to the ``target``. Or, the operation can be ``+``, ``-``, ``*``, ``/``, or ``=``.\n",
    "\n",
    "Now, let's run it."
   ]
  },
  {
   "cell_type": "code",
   "execution_count": 4,
   "metadata": {
    "ExecuteTime": {
     "end_time": "2021-03-25T03:02:49.010946Z",
     "start_time": "2021-03-25T03:02:49.000504Z"
    }
   },
   "outputs": [],
   "source": [
    "group = LIF(100, monitors=['V'])"
   ]
  },
  {
   "cell_type": "code",
   "execution_count": 5,
   "metadata": {
    "ExecuteTime": {
     "end_time": "2021-03-25T03:02:49.941507Z",
     "start_time": "2021-03-25T03:02:49.014011Z"
    }
   },
   "outputs": [
    {
     "name": "stdout",
     "output_type": "stream",
     "text": [
      "Compilation used 0.0000 s.\n",
      "Start running ...\n",
      "Run 10.0% used 0.054 s.\n",
      "Run 20.0% used 0.121 s.\n",
      "Run 30.0% used 0.177 s.\n",
      "Run 40.0% used 0.231 s.\n",
      "Run 50.0% used 0.283 s.\n",
      "Run 60.0% used 0.337 s.\n",
      "Run 70.0% used 0.387 s.\n",
      "Run 80.0% used 0.440 s.\n",
      "Run 90.0% used 0.496 s.\n",
      "Run 100.0% used 0.550 s.\n",
      "Simulation is done in 0.550 s.\n",
      "\n"
     ]
    },
    {
     "data": {
      "image/png": "[encoded data removed]",
      "text/plain": [
       "<Figure size 432x288 with 1 Axes>"
      ]
     },
     "metadata": {
      "needs_background": "light"
     },
     "output_type": "display_data"
    }
   ],
   "source": [
    "group.run(duration=200., inputs=('input', 26.), report=True)\n",
    "bp.visualize.line_plot(group.mon.ts, group.mon.V, show=True)"
   ]
  },
  {
   "cell_type": "code",
   "execution_count": 6,
   "metadata": {
    "ExecuteTime": {
     "end_time": "2021-03-25T03:02:50.811867Z",
     "start_time": "2021-03-25T03:02:49.944594Z"
    },
    "scrolled": false
   },
   "outputs": [
    {
     "name": "stdout",
     "output_type": "stream",
     "text": [
      "Compilation used 0.0010 s.\n",
      "Start running ...\n",
      "Run 10.0% used 0.052 s.\n",
      "Run 20.0% used 0.108 s.\n",
      "Run 30.0% used 0.161 s.\n",
      "Run 40.0% used 0.214 s.\n",
      "Run 50.0% used 0.273 s.\n",
      "Run 60.0% used 0.319 s.\n",
      "Run 70.0% used 0.379 s.\n",
      "Run 80.0% used 0.432 s.\n",
      "Run 90.0% used 0.483 s.\n",
      "Run 100.0% used 0.542 s.\n",
      "Simulation is done in 0.542 s.\n",
      "\n"
     ]
    },
    {
     "data": {
      "image/png": "[encoded data removed]",
      "text/plain": [
       "<Figure size 432x288 with 1 Axes>"
      ]
     },
     "metadata": {
      "needs_background": "light"
     },
     "output_type": "display_data"
    }
   ],
   "source": [
    "group.run(duration=(200, 400.), report=True)\n",
    "bp.visualize.line_plot(group.mon.ts, group.mon.V, show=True)"
   ]
  },
  {
   "cell_type": "markdown",
   "metadata": {},
   "source": [
    "As you experienced just now, the benefit of inheriting `brainpy.NeuGroup` lies at the following several ways:\n",
    "\n",
    "- Easy way to monitor variable trajectories.\n",
    "- Powerful \"inputs\" support.\n",
    "- Continuous running support. \n",
    "- Progress report. "
   ]
  },
  {
   "cell_type": "markdown",
   "metadata": {},
   "source": [
    "On the model definition, BrainPy endows you the fully data/logic flow control. You can define models with any data you need and any logic you want. There are little limitations/constrains on your customization. 1, you should set what computing backend do your defined model support by the keyword `target_backend`. 2, you should \"super()\" initialize the `brainpy.NeuGroup` with the keyword of the group `size`. 3, you should define the `update` function."
   ]
  },
  {
   "cell_type": "markdown",
   "metadata": {},
   "source": [
    "### Hodgkin–Huxley model"
   ]
  },
  {
   "cell_type": "markdown",
   "metadata": {},
   "source": [
    "The updating logic in the above LIF model is coded with a for loop, which is very suitable for Numba backend (because Numba is a Just-In-Time compiler, and it is good at the for loop optimization). However, for array-oriented programming languages, such as NumPy, PyTorch and TensorFlow, this coding schema is inefficient. Here, let's use the HH neuron model as example to demonstrate how to code an array-based neuron model for general backends."
   ]
  },
  {
   "cell_type": "code",
   "execution_count": 7,
   "metadata": {
    "ExecuteTime": {
     "end_time": "2021-03-25T03:02:50.837658Z",
     "start_time": "2021-03-25T03:02:50.814760Z"
    }
   },
   "outputs": [],
   "source": [
    "class HH(bp.NeuGroup):\n",
    "    target_backend = 'general'\n",
    "    \n",
    "    @staticmethod\n",
    "    def diff(V, m, h, n, t, Iext, gNa, ENa, gK, EK, gL, EL, C):\n",
    "        alpha = 0.1 * (V + 40) / (1 - bp.ops.exp(-(V + 40) / 10))\n",
    "        beta = 4.0 * bp.ops.exp(-(V + 65) / 18)\n",
    "        dmdt = alpha * (1 - m) - beta * m\n",
    "\n",
    "        alpha = 0.07 * bp.ops.exp(-(V + 65) / 20.)\n",
    "        beta = 1 / (1 + bp.ops.exp(-(V + 35) / 10))\n",
    "        dhdt = alpha * (1 - h) - beta * h\n",
    "\n",
    "        alpha = 0.01 * (V + 55) / (1 - bp.ops.exp(-(V + 55) / 10))\n",
    "        beta = 0.125 * bp.ops.exp(-(V + 65) / 80)\n",
    "        dndt = alpha * (1 - n) - beta * n\n",
    "\n",
    "        I_Na = (gNa * m ** 3.0 * h) * (V - ENa)\n",
    "        I_K = (gK * n ** 4.0) * (V - EK)\n",
    "        I_leak = gL * (V - EL)\n",
    "        dVdt = (- I_Na - I_K - I_leak + Iext) / C\n",
    "\n",
    "        return dVdt, dmdt, dhdt, dndt\n",
    "\n",
    "    def __init__(self, size, ENa=50., EK=-77., EL=-54.387,\n",
    "                 C=1.0, gNa=120., gK=36., gL=0.03, V_th=20.,\n",
    "                 **kwargs):\n",
    "        # parameters\n",
    "        self.ENa = ENa\n",
    "        self.EK = EK\n",
    "        self.EL = EL\n",
    "        self.C = C\n",
    "        self.gNa = gNa\n",
    "        self.gK = gK\n",
    "        self.gL = gL\n",
    "        self.V_th = V_th\n",
    "\n",
    "        # variables\n",
    "        self.V = bp.ops.ones(size) * -65.\n",
    "        self.m = bp.ops.ones(size) * 0.5\n",
    "        self.h = bp.ops.ones(size) * 0.6\n",
    "        self.n = bp.ops.ones(size) * 0.32\n",
    "        self.spike = bp.ops.zeros(size)\n",
    "        self.input = bp.ops.zeros(size)\n",
    "        \n",
    "        self.integral = bp.odeint(f=self.diff, method='rk4', dt=0.01)\n",
    "        super(HH, self).__init__(size=size, **kwargs)\n",
    "\n",
    "    def update(self, _t):\n",
    "        V, m, h, n = self.integral(self.V, self.m, self.h, self.n, _t,\n",
    "                                   self.input, self.gNa, self.ENa, self.gK,\n",
    "                                   self.EK, self.gL, self.EL, self.C)\n",
    "        self.spike = (self.V < self.V_th) * (V >= self.V_th)\n",
    "        self.V = V\n",
    "        self.m = m\n",
    "        self.h = h\n",
    "        self.n = n\n",
    "        self.input[:] = 0"
   ]
  },
  {
   "cell_type": "markdown",
   "metadata": {},
   "source": [
    "In HH example, all the operations (including \"zeros\", \"ones\" and \"exp\") are used from the `brainpy.ops` as `bp.ops.zeros`, `bp.ops.ones` and `bp.ops.exp`. What's more, we set the \"target_backend\" as `general`, which means it can run on any backends. So, let's try to run this model on various backends."
   ]
  },
  {
   "cell_type": "markdown",
   "metadata": {},
   "source": [
    "First is PyTorch."
   ]
  },
  {
   "cell_type": "code",
   "execution_count": 8,
   "metadata": {
    "ExecuteTime": {
     "end_time": "2021-03-25T03:02:58.556910Z",
     "start_time": "2021-03-25T03:02:50.842667Z"
    }
   },
   "outputs": [
    {
     "data": {
      "image/png": "[encoded data removed]",
      "text/plain": [
       "<Figure size 432x288 with 1 Axes>"
      ]
     },
     "metadata": {
      "needs_background": "light"
     },
     "output_type": "display_data"
    }
   ],
   "source": [
    "bp.backend.set('pytorch')\n",
    "\n",
    "group = HH(100, monitors=['V'])\n",
    "group.run(200., inputs=('input', 10.))\n",
    "bp.visualize.line_plot(group.mon.ts, group.mon.V, show=True)"
   ]
  },
  {
   "cell_type": "markdown",
   "metadata": {},
   "source": [
    "Second is NumPy."
   ]
  },
  {
   "cell_type": "code",
   "execution_count": 9,
   "metadata": {
    "ExecuteTime": {
     "end_time": "2021-03-25T03:03:00.330366Z",
     "start_time": "2021-03-25T03:02:58.561102Z"
    },
    "scrolled": true
   },
   "outputs": [
    {
     "data": {
      "image/png": "[encoded data removed]",
      "text/plain": [
       "<Figure size 432x288 with 1 Axes>"
      ]
     },
     "metadata": {
      "needs_background": "light"
     },
     "output_type": "display_data"
    }
   ],
   "source": [
    "bp.backend.set('numpy')\n",
    "\n",
    "group = HH(100, monitors=['V'])\n",
    "\n",
    "group.run(200., inputs=('input', 10.))\n",
    "\n",
    "bp.visualize.line_plot(group.mon.ts, group.mon.V, show=True)"
   ]
  },
  {
   "cell_type": "markdown",
   "metadata": {},
   "source": [
    "The last is Numba."
   ]
  },
  {
   "cell_type": "code",
   "execution_count": 10,
   "metadata": {
    "ExecuteTime": {
     "end_time": "2021-03-25T03:03:12.362447Z",
     "start_time": "2021-03-25T03:03:00.335509Z"
    }
   },
   "outputs": [
    {
     "data": {
      "image/png": "[encoded data removed]",
      "text/plain": [
       "<Figure size 432x288 with 1 Axes>"
      ]
     },
     "metadata": {
      "needs_background": "light"
     },
     "output_type": "display_data"
    }
   ],
   "source": [
    "bp.backend.set('numba')\n",
    "\n",
    "group = HH(100, monitors=['V'])\n",
    "group.run(200., inputs=('input', 10.))\n",
    "bp.visualize.line_plot(group.mon.ts, group.mon.V, show=True)"
   ]
  },
  {
   "cell_type": "markdown",
   "metadata": {},
   "source": [
    "## brainpy.TwoEndConn"
   ]
  },
  {
   "cell_type": "markdown",
   "metadata": {},
   "source": [
    "For synaptic connections, BrainPy provides `brainpy.TwoEndConn` to help you construct the projection between pre-synaptic and post-synaptic neuron groups, and provides `brainpy.connect.Connector` for synaptic connectivity between pre- and post- groups. \n",
    "\n",
    "- The benefit of using `brainpy.TwoEndConn` lies at the **automatical synaptic delay**. The synapse modeling usually includes a delay time (typically 0.3–0.5 ms) required for a neurotransmitter to be released from a presynaptic membrane, diffuse across the synaptic cleft, and bind to a receptor site on the post-synaptic membrane. BrainPy provides `register_constant_dely()` for automatical state delay. \n",
    "\n",
    "- Another benefit of using `brainpy.connect.Connector` lies at the **connectivity structure construction**. `brainpy.connect.Connector` provides various synaptic structures, like \"pre_ids\", \"post_ids\", \"conn_mat\", \"pre2post\", \"post2pre\", \"pre2syn\", \"post2syn\", \"pre_slice\", and \"post_slice\". Users can \"requires\" such data structures by calling `connector.requires('pre_ids', 'post_ids', ...)`. We will detail this function in [Synaptic Connections](../tutorials/efficient_synaptic_computation.ipynb)."
   ]
  },
  {
   "cell_type": "markdown",
   "metadata": {},
   "source": [
    "Here, let's illustrate how to use `brainpy.TwoEndConn` with the AMPA synapse model."
   ]
  },
  {
   "cell_type": "markdown",
   "metadata": {},
   "source": [
    "### AMPA Synapse Model"
   ]
  },
  {
   "cell_type": "code",
   "execution_count": 11,
   "metadata": {
    "ExecuteTime": {
     "end_time": "2021-03-25T03:03:12.401462Z",
     "start_time": "2021-03-25T03:03:12.369072Z"
    }
   },
   "outputs": [],
   "source": [
    "class AMPA(bp.TwoEndConn):\n",
    "    target_backend = ['numpy', 'numba']\n",
    "\n",
    "    def __init__(self, pre, post, conn, delay=0., g_max=0.10, E=0., tau=2.0, **kwargs):\n",
    "        # parameters\n",
    "        self.g_max = g_max\n",
    "        self.E = E\n",
    "        self.tau = tau\n",
    "        self.delay = delay\n",
    "\n",
    "        # connections\n",
    "        self.conn = conn(pre.size, post.size)\n",
    "        self.conn_mat = conn.requires('conn_mat')\n",
    "        self.size = bp.ops.shape(self.conn_mat)\n",
    "\n",
    "        # variables\n",
    "        self.s = bp.ops.zeros(self.size)\n",
    "        self.g = self.register_constant_delay('g', size=self.size, delay_time=delay)\n",
    "\n",
    "        super(AMPA, self).__init__(pre=pre, post=post, **kwargs)\n",
    "\n",
    "    @staticmethod\n",
    "    @bp.odeint(dt=0.01)\n",
    "    def int_s(s, t, tau):\n",
    "        return - s / tau\n",
    "\n",
    "    def update(self, _t):\n",
    "        self.s = self.int_s(self.s, _t, self.tau)\n",
    "        for i in range(self.pre.size[0]):\n",
    "            if self.pre.spike[i] > 0:\n",
    "                self.s[i] += self.conn_mat[i]\n",
    "        self.g.push(self.g_max * self.s)\n",
    "        g = self.g.pull()\n",
    "        self.post.input -= bp.ops.sum(g, axis=0) * (self.post.V - self.E)"
   ]
  },
  {
   "cell_type": "markdown",
   "metadata": {},
   "source": [
    "To define a two-end synaptic projection is very much like the NeuGroup. Users need to inherit the `brainpy.TwoEndConn`, and provide the \"target_backend\" specification, \"update\" function and then \"super()\" initialize the parent class. But what different are two aspects: 1. connection. We need construct the synaptic connectivity by \"connector.requires\". 2. delay. We can register a constant delay variable by \"self.register_constant_delay()\"."
   ]
  },
  {
   "cell_type": "markdown",
   "metadata": {},
   "source": [
    "Here, we create a matrix-based connectivity (with the shape of `(num_pre, num_post)`). "
   ]
  },
  {
   "cell_type": "markdown",
   "metadata": {},
   "source": [
    "<img src=\"../_static/syn-example-conn_mat.png\" width=\"400 px\" align=\"left\">"
   ]
  },
  {
   "cell_type": "markdown",
   "metadata": {},
   "source": [
    "And then register a delay variable \"self.g\" with the shape of `(num_pre, num_post)`."
   ]
  },
  {
   "cell_type": "markdown",
   "metadata": {},
   "source": [
    "## brainpy.Network"
   ]
  },
  {
   "cell_type": "markdown",
   "metadata": {},
   "source": [
    "Now, let's put the above defined HH model and AMPA synapse together to construct a network with `brainpy.Network`."
   ]
  },
  {
   "cell_type": "code",
   "execution_count": 12,
   "metadata": {
    "ExecuteTime": {
     "end_time": "2021-03-25T03:03:12.416738Z",
     "start_time": "2021-03-25T03:03:12.406188Z"
    }
   },
   "outputs": [],
   "source": [
    "bp.backend.set('numpy')"
   ]
  },
  {
   "cell_type": "code",
   "execution_count": 13,
   "metadata": {
    "ExecuteTime": {
     "end_time": "2021-03-25T03:03:12.440969Z",
     "start_time": "2021-03-25T03:03:12.421049Z"
    }
   },
   "outputs": [],
   "source": [
    "group = HH(10, monitors=['V', 'spike'])\n",
    "syn = AMPA(pre=group, post=group, conn=bp.connect.All2All(), delay=1.5, monitors=['s'])"
   ]
  },
  {
   "cell_type": "code",
   "execution_count": 14,
   "metadata": {
    "ExecuteTime": {
     "end_time": "2021-03-25T03:03:14.861988Z",
     "start_time": "2021-03-25T03:03:12.443012Z"
    }
   },
   "outputs": [
    {
     "name": "stdout",
     "output_type": "stream",
     "text": [
      "Compilation used 0.3254 s.\n",
      "Start running ...\n",
      "Run 10.0% used 0.060 s.\n",
      "Run 20.0% used 0.120 s.\n",
      "Run 30.0% used 0.180 s.\n",
      "Run 40.0% used 0.250 s.\n",
      "Run 50.0% used 0.310 s.\n",
      "Run 60.0% used 0.370 s.\n",
      "Run 70.0% used 0.420 s.\n",
      "Run 80.0% used 0.490 s.\n",
      "Run 90.0% used 0.547 s.\n",
      "Run 100.0% used 0.611 s.\n",
      "Simulation is done in 0.611 s.\n",
      "\n"
     ]
    },
    {
     "data": {
      "text/plain": [
       "0.6110615730285645"
      ]
     },
     "execution_count": 14,
     "metadata": {},
     "output_type": "execute_result"
    }
   ],
   "source": [
    "net = bp.Network(group, syn)\n",
    "net.run(duration=200., inputs=(group, \"input\", 20.), report=True)"
   ]
  },
  {
   "cell_type": "code",
   "execution_count": 15,
   "metadata": {
    "ExecuteTime": {
     "end_time": "2021-03-25T03:03:15.584605Z",
     "start_time": "2021-03-25T03:03:14.865850Z"
    },
    "scrolled": false
   },
   "outputs": [
    {
     "data": {
      "image/png": "[encoded data removed]",
      "text/plain": [
       "<Figure size 576x432 with 2 Axes>"
      ]
     },
     "metadata": {
      "needs_background": "light"
     },
     "output_type": "display_data"
    }
   ],
   "source": [
    "fig, gs = bp.visualize.get_figure(2, 1, 3, 8)\n",
    "\n",
    "fig.add_subplot(gs[0, 0])\n",
    "bp.visualize.line_plot(group.mon.ts, group.mon.V, legend='pre-V')\n",
    "\n",
    "fig.add_subplot(gs[1, 0])\n",
    "bp.visualize.line_plot(syn.mon.ts, syn.mon.s, legend='syn-s', show=True)"
   ]
  },
  {
   "cell_type": "markdown",
   "metadata": {},
   "source": [
    "## Backend-independent Property"
   ]
  },
  {
   "cell_type": "markdown",
   "metadata": {},
   "source": [
    "Neurodynamics simulation in BrainPy has characteristics of high portability. It's also backend-independent. Currently, BrainPy inherently supports the tensor-oriented backends (such like NumPy, PyTorch, TensorFlow), and the JIT compilers (like Numba). After model coding, users can switch the backend easily by using `brainpy.backend.set(backend_name)`:"
   ]
  },
  {
   "cell_type": "code",
   "execution_count": 16,
   "metadata": {},
   "outputs": [],
   "source": [
    "# deploy all models to NumPy backend\n",
    "\n",
    "bp.backend.set('numpy')"
   ]
  },
  {
   "cell_type": "code",
   "execution_count": 17,
   "metadata": {},
   "outputs": [],
   "source": [
    "# deploy all models to Numba CPU backend\n",
    "\n",
    "bp.backend.set('numba')"
   ]
  },
  {
   "cell_type": "markdown",
   "metadata": {},
   "source": [
    "Moreover, customize your preferred backend is also easy. "
   ]
  },
  {
   "cell_type": "code",
   "execution_count": 18,
   "metadata": {},
   "outputs": [
    {
     "data": {
      "text/plain": [
       "['as_tensor', 'zeros', 'ones', 'arange', 'concatenate', 'where', 'reshape']"
      ]
     },
     "execution_count": 18,
     "metadata": {},
     "output_type": "execute_result"
    }
   ],
   "source": [
    "bp.ops.OPS_FOR_SIMULATION"
   ]
  },
  {
   "cell_type": "code",
   "execution_count": 19,
   "metadata": {
    "scrolled": true
   },
   "outputs": [],
   "source": [
    "bp.drivers.set_buffer('numpy', \n",
    "                      node_driver=bp.drivers.GeneralNodeDriver,\n",
    "                      net_driver=bp.drivers.GeneralNetDriver,\n",
    "                      diffint_driver=bp.drivers.GeneralDiffIntDriver)"
   ]
  },
  {
   "cell_type": "markdown",
   "metadata": {},
   "source": [
    "---\n",
    "\n",
    "**Author**:\n",
    "\n",
    "- Chaoming Wang\n",
    "- Email: adaduo@outlook.com\n",
    "- Date: 2021.03.25, update at 2021.05.29\n",
    "\n",
    "---"
   ]
  }
 ],
 "metadata": {
  "hide_input": false,
  "kernelspec": {
   "display_name": "brainpy",
   "language": "python",
   "name": "brainpy"
  },
  "language_info": {
   "codemirror_mode": {
    "name": "ipython",
    "version": 3
   },
   "file_extension": ".py",
   "mimetype": "text/x-python",
   "name": "python",
   "nbconvert_exporter": "python",
   "pygments_lexer": "ipython3",
   "version": "3.8.8"
  },
  "toc": {
   "base_numbering": 1,
   "nav_menu": {
    "height": "411px",
    "width": "316px"
   },
   "number_sections": false,
   "sideBar": true,
   "skip_h1_title": false,
   "title_cell": "Table of Contents",
   "title_sidebar": "Contents",
   "toc_cell": false,
   "toc_position": {
    "height": "calc(100% - 180px)",
    "left": "10px",
    "top": "150px",
    "width": "243.07px"
   },
   "toc_section_display": true,
   "toc_window_display": true
  },
  "varInspector": {
   "cols": {
    "lenName": 16,
    "lenType": 16,
    "lenVar": 40
   },
   "kernels_config": {
    "python": {
     "delete_cmd_postfix": "",
     "delete_cmd_prefix": "del ",
     "library": "var_list.py",
     "varRefreshCmd": "print(var_dic_list())"
    },
    "r": {
     "delete_cmd_postfix": ") ",
     "delete_cmd_prefix": "rm(",
     "library": "var_list.r",
     "varRefreshCmd": "cat(var_dic_list()) "
    }
   },
   "types_to_exclude": [
    "module",
    "function",
    "builtin_function_or_method",
    "instance",
    "_Feature"
   ],
   "window_display": false
  }
 },
 "nbformat": 4,
 "nbformat_minor": 4
}
