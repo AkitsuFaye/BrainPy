{
 "cells": [
  {
   "cell_type": "markdown",
   "metadata": {},
   "source": [
    "# Dynamics Simulation"
   ]
  },
  {
   "cell_type": "markdown",
   "metadata": {},
   "source": [
    "> What I cannot create, I do not understand.   --- Richard Feynman"
   ]
  },
  {
   "cell_type": "markdown",
   "metadata": {},
   "source": [
    "Brain is a complex dynamical system. In order to simulate it, we provide [brainpy.DynamicalSystem](../apis/simulation/generated/brainpy.simulation.brainobjects.DynamicalSystem.rst). ``brainpy.DynamicalSystem`` can be used to define any brain objects which have dynamics. Various children classes are implemented to model these brain elements, such like: [brainpy.Channel](../apis/simulation/generated/brainpy.simulation.brainobjects.Channel.rst) for neuron channels, [brainpy.NeuGroup](../apis/simulation/generated/brainpy.simulation.brainobjects.NeuGroup.rst) for neuron groups, [brainpy.TwoEndConn](../apis/simulation/generated/brainpy.simulation.brainobjects.TwoEndConn.rst) for synaptic connections, [brainpy.Network](../apis/simulation/generated/brainpy.simulation.brainobjects.Network.rst) for networks, etc. Arbitrary composition of these objects is also an instance of ``brainpy.DynamicalSystem``. Therefore, ``brainpy.DynamicalSystem`` is the universal language to define dynamical models in BrainPy. "
   ]
  },
  {
   "cell_type": "code",
   "execution_count": 1,
   "metadata": {
    "ExecuteTime": {
     "end_time": "2021-03-25T03:02:48.939126Z",
     "start_time": "2021-03-25T03:02:47.073698Z"
    }
   },
   "outputs": [
    {
     "data": {
      "text/plain": [
       "'1.1.0rc1'"
      ]
     },
     "execution_count": 1,
     "metadata": {},
     "output_type": "execute_result"
    }
   ],
   "source": [
    "import brainpy as bp\n",
    "\n",
    "bp.__version__"
   ]
  },
  {
   "cell_type": "markdown",
   "metadata": {},
   "source": [
    "## ``brainpy.DynamicalSystem``"
   ]
  },
  {
   "cell_type": "markdown",
   "metadata": {},
   "source": [
    "In this section, let's try to understand the mechanism and the function of ``brainpy.DynamicalSystem``. "
   ]
  },
  {
   "cell_type": "markdown",
   "metadata": {},
   "source": [
    "### What is DynamicalSystem?"
   ]
  },
  {
   "cell_type": "markdown",
   "metadata": {},
   "source": [
    "First, *what can be defined as DynamicalSystem?*"
   ]
  },
  {
   "cell_type": "markdown",
   "metadata": {},
   "source": [
    "Intuitively, a `dynamical system` is a system which has the time-dependent state. \n",
    "\n",
    "Mathematically, it can be expressed as\n",
    "\n",
    "$$\n",
    "\\dot{X} = f(X, t)\n",
    "$$\n",
    "\n",
    "where $X$ is the state of the system, $t$ is the time, and $f$ is a function describes the time dependence of the system state. \n",
    "\n",
    "Alternatively, the evolution of the system along the time can be given by\n",
    "\n",
    "$$\n",
    "X(t+dt) = F\\left(X(t), t, dt\\right)\n",
    "$$\n",
    "\n",
    "where $dt$ is the time step, and $F$ is the evolution rule to update the system's state."
   ]
  },
  {
   "cell_type": "markdown",
   "metadata": {},
   "source": [
    "Accordingly, in BrainPy, any subclass of ``brainpy.DynamicalSystem`` must implement this updating rule in the *update* function (``def update(self, _t, _dt)``). One dynamical system may have multiple updating rules, therefore, users can define multiple *update* functions. All updating functions are wrapped into an inner data structure **self.steps** (a Python dictionary specifies the *name* and the *function* of updating rules). Let's take a look."
   ]
  },
  {
   "cell_type": "code",
   "execution_count": 2,
   "metadata": {},
   "outputs": [],
   "source": [
    "class FitzHughNagumoModel(bp.DynamicalSystem):\n",
    "    def __init__(self, a=0.8, b=0.7, tau=12.5, **kwargs):\n",
    "        super(FitzHughNagumoModel, self).__init__(**kwargs)\n",
    "        \n",
    "        # parameters\n",
    "        self.a = a\n",
    "        self.b = b\n",
    "        self.tau = tau\n",
    "        \n",
    "        # variables\n",
    "        self.v = bp.math.Variable(0.)\n",
    "        self.w = bp.math.Variable(0.)\n",
    "        self.I = bp.math.Variable(0.)\n",
    "        \n",
    "    def update(self, _t, _dt):\n",
    "        # _t : the current time, the system keyword \n",
    "        # _dt : the time step, the system keyword \n",
    "        \n",
    "        self.w += (self.v + self.a - self.b * self.w) / self.tau * _dt\n",
    "        self.v += (self.v - self.v ** 3 / 3 - self.w + self.I) * _dt\n",
    "        self.I[...] = 0."
   ]
  },
  {
   "cell_type": "markdown",
   "metadata": {},
   "source": [
    "Here, we have defined a dynamical system called [FitzHugh–Nagumo neuron model](https://en.wikipedia.org/wiki/FitzHugh%E2%80%93Nagumo_model), whose dynamics is given by: \n",
    "\n",
    "$$\n",
    "{\\dot {v}}=v-{\\frac {v^{3}}{3}}-w+I, \\\\\n",
    "\\tau {\\dot {w}}=v+a-bw.\n",
    "$$\n",
    "\n",
    "By using the [Euler method](../apis/integrators/generated/brainpy.integrators.ode.explicit_rk.euler.rst), this system can be updated by the following rule:\n",
    "\n",
    "$$\n",
    "\\begin{aligned}\n",
    "v(t+dt) &= v(t) + [v(t)-{v(t)^{3}/3}-w(t)+RI] * dt, \\\\\n",
    "w(t + dt) &= w(t) + [v(t) + a - b w(t)] * dt.\n",
    "\\end{aligned}\n",
    "$$"
   ]
  },
  {
   "cell_type": "markdown",
   "metadata": {},
   "source": [
    "We can inspect all update functions in the model by ``xxx.steps``. "
   ]
  },
  {
   "cell_type": "code",
   "execution_count": 3,
   "metadata": {},
   "outputs": [
    {
     "data": {
      "text/plain": [
       "{'update': <bound method FitzHughNagumoModel.update of <__main__.FitzHughNagumoModel object at 0x7fd7b8766610>>}"
      ]
     },
     "execution_count": 3,
     "metadata": {},
     "output_type": "execute_result"
    }
   ],
   "source": [
    "fnh = FitzHughNagumoModel()\n",
    "\n",
    "fnh.steps  # all update functions"
   ]
  },
  {
   "cell_type": "markdown",
   "metadata": {},
   "source": [
    "### Why to use DynamicalSystem?"
   ]
  },
  {
   "cell_type": "markdown",
   "metadata": {},
   "source": [
    "So, *why should I define my dynamical system as brainpy.DynamicalSystem?*"
   ]
  },
  {
   "cell_type": "markdown",
   "metadata": {},
   "source": [
    "There are several benefits. "
   ]
  },
  {
   "cell_type": "markdown",
   "metadata": {},
   "source": [
    "1. ``brainpy.DynamicalSystem`` has a systematic naming system. "
   ]
  },
  {
   "cell_type": "markdown",
   "metadata": {},
   "source": [
    "First, every instance of ``DynamicalSystem`` has its unique name."
   ]
  },
  {
   "cell_type": "code",
   "execution_count": 4,
   "metadata": {},
   "outputs": [
    {
     "data": {
      "text/plain": [
       "'FitzHughNagumoModel0'"
      ]
     },
     "execution_count": 4,
     "metadata": {},
     "output_type": "execute_result"
    }
   ],
   "source": [
    "fnh.name  # name for \"fnh\" instance"
   ]
  },
  {
   "cell_type": "code",
   "execution_count": 5,
   "metadata": {},
   "outputs": [
    {
     "name": "stdout",
     "output_type": "stream",
     "text": [
      "FitzHughNagumoModel1\n",
      "FitzHughNagumoModel2\n",
      "FitzHughNagumoModel3\n",
      "FitzHughNagumoModel4\n",
      "FitzHughNagumoModel5\n"
     ]
    }
   ],
   "source": [
    "# every instance has its unique name\n",
    "\n",
    "for _ in range(5):\n",
    "    print(FitzHughNagumoModel().name)"
   ]
  },
  {
   "cell_type": "code",
   "execution_count": 6,
   "metadata": {},
   "outputs": [
    {
     "data": {
      "text/plain": [
       "'X'"
      ]
     },
     "execution_count": 6,
     "metadata": {},
     "output_type": "execute_result"
    }
   ],
   "source": [
    "# the model name can be specified by yourself\n",
    "\n",
    "fnh2 = FitzHughNagumoModel(name='X')\n",
    "\n",
    "fnh2.name"
   ]
  },
  {
   "cell_type": "code",
   "execution_count": 7,
   "metadata": {},
   "outputs": [
    {
     "name": "stdout",
     "output_type": "stream",
     "text": [
      "In BrainPy, each object should have a unique name. However, we detect that <__main__.FitzHughNagumoModel object at 0x7fd757a87df0> has a used name \"X\".\n"
     ]
    }
   ],
   "source": [
    "# same name will cause error\n",
    "\n",
    "try:\n",
    "    FitzHughNagumoModel(name='X')\n",
    "except bp.errors.UniqueNameError as e:\n",
    "    print(e)"
   ]
  },
  {
   "cell_type": "markdown",
   "metadata": {},
   "source": [
    "Second, variables, children nodes, etc. inside an instance can be easily accessed by the *absolute* or *relative* path. "
   ]
  },
  {
   "cell_type": "code",
   "execution_count": 8,
   "metadata": {},
   "outputs": [
    {
     "data": {
      "text/plain": [
       "{'X.v': Variable(0.), 'X.w': Variable(0.), 'X.I': Variable(0.)}"
      ]
     },
     "execution_count": 8,
     "metadata": {},
     "output_type": "execute_result"
    }
   ],
   "source": [
    "# All variables can be acessed by \n",
    "# 1). the absolute path\n",
    "\n",
    "fnh2.vars()"
   ]
  },
  {
   "cell_type": "code",
   "execution_count": 9,
   "metadata": {
    "scrolled": true
   },
   "outputs": [
    {
     "data": {
      "text/plain": [
       "{'v': Variable(0.), 'w': Variable(0.), 'I': Variable(0.)}"
      ]
     },
     "execution_count": 9,
     "metadata": {},
     "output_type": "execute_result"
    }
   ],
   "source": [
    "# 2). or, the relative path\n",
    "\n",
    "fnh2.vars(method='relative')"
   ]
  },
  {
   "cell_type": "code",
   "execution_count": 10,
   "metadata": {},
   "outputs": [],
   "source": [
    "# If we wrap many instances into a container: brainpy.Network,\n",
    "# variables and nodes can also be accessed by absolute or relative path\n",
    "\n",
    "fnh_net = bp.Network(f1=fnh, f2=fnh2)"
   ]
  },
  {
   "cell_type": "code",
   "execution_count": 11,
   "metadata": {},
   "outputs": [
    {
     "data": {
      "text/plain": [
       "{'FitzHughNagumoModel0.v': Variable(0.),\n",
       " 'FitzHughNagumoModel0.w': Variable(0.),\n",
       " 'FitzHughNagumoModel0.I': Variable(0.),\n",
       " 'X.v': Variable(0.),\n",
       " 'X.w': Variable(0.),\n",
       " 'X.I': Variable(0.)}"
      ]
     },
     "execution_count": 11,
     "metadata": {},
     "output_type": "execute_result"
    }
   ],
   "source": [
    "# absolute access of variables\n",
    "\n",
    "fnh_net.vars()"
   ]
  },
  {
   "cell_type": "code",
   "execution_count": 12,
   "metadata": {},
   "outputs": [
    {
     "data": {
      "text/plain": [
       "{'f1.v': Variable(0.),\n",
       " 'f1.w': Variable(0.),\n",
       " 'f1.I': Variable(0.),\n",
       " 'f2.v': Variable(0.),\n",
       " 'f2.w': Variable(0.),\n",
       " 'f2.I': Variable(0.)}"
      ]
     },
     "execution_count": 12,
     "metadata": {},
     "output_type": "execute_result"
    }
   ],
   "source": [
    "# relative access of variables\n",
    "\n",
    "fnh_net.vars(method='relative')"
   ]
  },
  {
   "cell_type": "code",
   "execution_count": 13,
   "metadata": {},
   "outputs": [
    {
     "data": {
      "text/plain": [
       "{'FitzHughNagumoModel0': <__main__.FitzHughNagumoModel at 0x7fd7b8766610>,\n",
       " 'X': <__main__.FitzHughNagumoModel at 0x7fd757a87070>}"
      ]
     },
     "execution_count": 13,
     "metadata": {},
     "output_type": "execute_result"
    }
   ],
   "source": [
    "# absolute access of nodes\n",
    "\n",
    "fnh_net.nodes()"
   ]
  },
  {
   "cell_type": "code",
   "execution_count": 14,
   "metadata": {},
   "outputs": [
    {
     "data": {
      "text/plain": [
       "{'f1': <__main__.FitzHughNagumoModel at 0x7fd7b8766610>,\n",
       " 'f2': <__main__.FitzHughNagumoModel at 0x7fd757a87070>}"
      ]
     },
     "execution_count": 14,
     "metadata": {},
     "output_type": "execute_result"
    }
   ],
   "source": [
    "# relative access of nodes\n",
    "\n",
    "fnh_net.nodes(method='relative')"
   ]
  },
  {
   "cell_type": "markdown",
   "metadata": {},
   "source": [
    "2. Automatic monitors. Any instance of ``brainpy.DynamicalSystem`` can ``.run()``. During running, a [brainpy.Monitor](../apis/simulation/generated/brainpy.simulation.monitor.Monitor.rst) inside the dynamical system (``xxx.mon``) can be used to automatically monitor the history values of the interested variables during model running. Details please see the tutorial of [Monitor and Inputs](../tutorial_simulation/monitor_and_inputs.ipynb)."
   ]
  },
  {
   "cell_type": "code",
   "execution_count": 15,
   "metadata": {},
   "outputs": [],
   "source": [
    "# in \"fnh3\" instance, we try to monitor \"v\", \"w\", and \"I\" variables\n",
    "fnh3 = FitzHughNagumoModel(monitors=['v', 'w', 'I'])\n",
    "\n",
    "# in \"fnh4\" instance, we only monitor \"v\" variable\n",
    "fnh4 = FitzHughNagumoModel(monitors=['v'], name='Y')"
   ]
  },
  {
   "cell_type": "markdown",
   "metadata": {},
   "source": [
    "3. Convenient input operations. During model running, users can specify the inputs for each model component, with the format of ``(target, value, [type, operation])``. Details please see the tutorial of [Monitor and Inputs](../tutorial_simulation/monitor_and_inputs.ipynb).\n",
    "    - The ``target`` is the variable accessed by the *absolute* or *relative* path. *Absolute* path access will be very useful in a huge network model.\n",
    "    - The default input ``type`` is \"fix\", means the ``value`` must be a constant scalar or array over time. \"iter\" type of input is also allowed, which means the ``value`` can be an iterable objects (arrays, or iterable functions, etc.). \n",
    "    - The default ``operation`` is ``+``, which means the input ``value`` will be added to the ``target``. Allowed operations include ``+``, ``-``, ``*``, ``/``, and ``=``. "
   ]
  },
  {
   "cell_type": "code",
   "execution_count": 16,
   "metadata": {},
   "outputs": [],
   "source": [
    "%matplotlib inline\n",
    "\n",
    "import matplotlib.pyplot as plt"
   ]
  },
  {
   "cell_type": "code",
   "execution_count": 17,
   "metadata": {},
   "outputs": [
    {
     "data": {
      "text/plain": [
       "<matplotlib.legend.Legend at 0x7fd6c803c6d0>"
      ]
     },
     "execution_count": 17,
     "metadata": {},
     "output_type": "execute_result"
    },
    {
     "data": {
      "image/png": "[encoded data removed]",
      "text/plain": [
       "<Figure size 432x288 with 1 Axes>"
      ]
     },
     "metadata": {
      "needs_background": "light"
     },
     "output_type": "display_data"
    }
   ],
   "source": [
    "bp.math.set_dt(dt=0.01)\n",
    "\n",
    "fnh3.run(duration=100, \n",
    "         # relative path to access variable 'I'\n",
    "         inputs=('I', 1.5))\n",
    "\n",
    "plt.plot(fnh3.mon.ts, fnh3.mon.v, label='v')\n",
    "plt.plot(fnh3.mon.ts, fnh3.mon.w, label='w')\n",
    "plt.legend()"
   ]
  },
  {
   "cell_type": "code",
   "execution_count": 18,
   "metadata": {},
   "outputs": [
    {
     "data": {
      "text/plain": [
       "<matplotlib.legend.Legend at 0x7fd757a79f40>"
      ]
     },
     "execution_count": 18,
     "metadata": {},
     "output_type": "execute_result"
    },
    {
     "data": {
      "image/png": "[encoded data removed]",
      "text/plain": [
       "<Figure size 432x288 with 1 Axes>"
      ]
     },
     "metadata": {
      "needs_background": "light"
     },
     "output_type": "display_data"
    }
   ],
   "source": [
    "inputs = bp.math.linspace(1., 2., 10000)\n",
    "\n",
    "fnh4.run(duration=100, \n",
    "         inputs=('Y.I', # specify 'target' by the absolute path access\n",
    "                 inputs, # specify 'value' with the iterable \"inputs\"\n",
    "                 'iter'))  # \"iter\" input 'type' must be explicitly specified\n",
    "\n",
    "plt.plot(fnh4.mon.ts, fnh4.mon.v, label='v')\n",
    "plt.legend()"
   ]
  },
  {
   "cell_type": "markdown",
   "metadata": {},
   "source": [
    "4. ``brainpy.DynamicalSystem`` is a subclass of [brainpy.Base](../apis/generated/brainpy.base.Base.rst), therefore, any instance of ``brainpy.DynamicalSystem`` can be [just-in-time compiled](./jit_compilation.ipynb) into efficient machine codes targeting on CPUs, GPUs, or TPUs. "
   ]
  },
  {
   "cell_type": "code",
   "execution_count": 19,
   "metadata": {},
   "outputs": [
    {
     "data": {
      "text/plain": [
       "<matplotlib.legend.Legend at 0x7fd6885703a0>"
      ]
     },
     "execution_count": 19,
     "metadata": {},
     "output_type": "execute_result"
    },
    {
     "data": {
      "image/png": "[encoded data removed]",
      "text/plain": [
       "<Figure size 432x288 with 1 Axes>"
      ]
     },
     "metadata": {
      "needs_background": "light"
     },
     "output_type": "display_data"
    }
   ],
   "source": [
    "fnh3_jit = bp.math.jit(fnh3)\n",
    "\n",
    "fnh3_jit.run(duration=100, inputs=('I', 1.5))\n",
    "\n",
    "plt.plot(fnh3_jit.mon.ts, fnh3_jit.mon.v, label='v')\n",
    "plt.plot(fnh3_jit.mon.ts, fnh3_jit.mon.w, label='w')\n",
    "plt.legend()"
   ]
  },
  {
   "cell_type": "markdown",
   "metadata": {},
   "source": [
    "5. ``brainpy.DynamicalSystem`` can be combined arbitrarily. Any composed system can also benefit from the above convenient interfaces. "
   ]
  },
  {
   "cell_type": "code",
   "execution_count": 20,
   "metadata": {},
   "outputs": [
    {
     "data": {
      "text/plain": [
       "<matplotlib.legend.Legend at 0x7fd688545d90>"
      ]
     },
     "execution_count": 20,
     "metadata": {},
     "output_type": "execute_result"
    },
    {
     "data": {
      "image/png": "[encoded data removed]",
      "text/plain": [
       "<Figure size 432x288 with 1 Axes>"
      ]
     },
     "metadata": {
      "needs_background": "light"
     },
     "output_type": "display_data"
    }
   ],
   "source": [
    "# compose two FitzHughNagumoModel instances into a Network\n",
    "net2 = bp.Network(f1=fnh3, f2=fnh4, monitors=['f1.v', 'Y.v'])\n",
    "\n",
    "net2.run(100, inputs=[\n",
    "    ('f1.I', 1.5), # relative access variable \"I\" in 'fnh3'\n",
    "    ('Y.I', 1.0), # absolute access variable \"I\" in 'fnh4'\n",
    "])\n",
    "\n",
    "plt.plot(net2.mon.ts, net2.mon['f1.v'], label='v1')\n",
    "plt.plot(net2.mon.ts, net2.mon['Y.v'], label='v2')\n",
    "plt.legend()"
   ]
  },
  {
   "cell_type": "markdown",
   "metadata": {},
   "source": [
    "In next sections, we will illustrate how to define common brain objects by subclasses of ``brainpy.DynamicalSystem``. "
   ]
  },
  {
   "cell_type": "markdown",
   "metadata": {},
   "source": [
    "## ``brainpy.NeuGroup``"
   ]
  },
  {
   "cell_type": "markdown",
   "metadata": {},
   "source": [
    "`brainpy.NeuGroup` is used for neuron group modeling. User-defined neuron group models should inherit from the `brainpy.NeuGroup`. Let's take the [leaky integrate-and-fire](https://en.wikipedia.org/wiki/Biological_neuron_model#Leaky_integrate-and-fire) (LIF) model and [Hodgkin–Huxley neuron model](https://en.wikipedia.org/wiki/Hodgkin%E2%80%93Huxley_model) as the illustrated examples. "
   ]
  },
  {
   "cell_type": "markdown",
   "metadata": {},
   "source": [
    "### LIF neuron model"
   ]
  },
  {
   "cell_type": "markdown",
   "metadata": {},
   "source": [
    "The formal equations of a LIF model is given by:\n",
    "\n",
    "$$\n",
    "\\begin{aligned}\n",
    "\\tau_m \\frac{dV}{dt} = - (V(t) - V_{rest}) + I(t)  \\quad\\quad (1) \\\\\n",
    "\\text{after} \\, V(t) \\gt V_{th}, V(t) =V_{rest} \\,\n",
    "\\text{last} \\, \\tau_{ref} \\,  \\text{ms}        \\quad\\quad (2)\n",
    "\\end{aligned}\n",
    "$$\n",
    "\n",
    "where $V$ is the membrane potential, $V_{rest}$ is the rest membrane potential, $V_{th}$ is the spike threshold, $\\tau_m$ is the time constant, $\\tau_{ref}$ is the refractory time period, and $I$ is the time-variant synaptic inputs. "
   ]
  },
  {
   "cell_type": "markdown",
   "metadata": {},
   "source": [
    "The above two equations mean that: when the membrane potential $V$ is below $V_{th}$, the model integrates $V$ with the equation (1); once $V > V_{th}$, according to equation (2), we will reset the membrane potential to $V_{rest}$, and the model enters into the refractory period which lasts $\\tau_{ref}$ ms. In the refractory period, the membrane potential $V$ will no longer change.  "
   ]
  },
  {
   "cell_type": "markdown",
   "metadata": {},
   "source": [
    "Let's start to code this LIF neuron model. First, we will define the following items to store the neuron state:\n",
    "\n",
    "- ``V``: The membrane potential.\n",
    "- ``input``: The synaptic input.\n",
    "- ``spike``: Whether produce a spike.\n",
    "- ``refractory``: Whether the neuron is in refractory state.\n",
    "- ``t_last_spike``: The last spike time for calculating refractory state.\n",
    "\n",
    "Based on these states, the updating logic of LIF model from the current time $t$ to the next time $t+dt$ will be coded as:"
   ]
  },
  {
   "cell_type": "code",
   "execution_count": 21,
   "metadata": {
    "ExecuteTime": {
     "end_time": "2021-03-25T03:02:48.995265Z",
     "start_time": "2021-03-25T03:02:48.969008Z"
    },
    "scrolled": false
   },
   "outputs": [],
   "source": [
    "class LIF(bp.NeuGroup):\n",
    "  def __init__(self, size, t_refractory=1., V_rest=0., V_reset=-5.,\n",
    "               V_th=20., R=1., tau=10., **kwargs):\n",
    "    super(LIF, self).__init__(size=size, **kwargs)\n",
    "\n",
    "    # parameters\n",
    "    self.V_rest = V_rest\n",
    "    self.V_reset = V_reset\n",
    "    self.V_th = V_th\n",
    "    self.R = R\n",
    "    self.tau = tau\n",
    "    self.t_refractory = t_refractory\n",
    "\n",
    "    # variables\n",
    "\n",
    "    self.V = bp.math.Variable(bp.math.random.randn(self.num) * 5. + V_reset)\n",
    "    self.input = bp.math.Variable(bp.math.zeros(self.num))\n",
    "    self.t_last_spike = bp.math.Variable(bp.math.ones(self.num) * -1e7)\n",
    "    self.refractory = bp.math.Variable(bp.math.zeros(self.num, dtype=bool))\n",
    "    self.spike = bp.math.Variable(bp.math.zeros(self.num, dtype=bool))\n",
    "\n",
    "  @bp.odeint(method='exponential_euler')\n",
    "  def int_V(self, V, t, Iext):\n",
    "    dvdt = (- (V - self.V_rest) + self.R * Iext) / self.tau\n",
    "    return dvdt\n",
    "\n",
    "  def update(self, _t, _dt):\n",
    "    for i in range(self.num):\n",
    "      if _t - self.t_last_spike[i] <= self.t_refractory:\n",
    "        self.refractory[i] = True\n",
    "        self.spike[i] = False\n",
    "      else:\n",
    "        V = self.int_V(self.V[i], _t, self.input[i])\n",
    "        if V >= self.V_th:\n",
    "          self.V[i] = self.V_reset\n",
    "          self.t_last_spike[i] = _t\n",
    "          self.spike[i] = True\n",
    "          self.refractory[i] = True\n",
    "        else:\n",
    "          self.V[i] = V\n",
    "          self.spike[i] = False\n",
    "          self.refractory[i] = False\n",
    "      self.input[i] = 0."
   ]
  },
  {
   "cell_type": "markdown",
   "metadata": {},
   "source": [
    "That's all, we have coded a LIF neuron model. "
   ]
  },
  {
   "cell_type": "markdown",
   "metadata": {},
   "source": [
    "Each NeuGroup has a powerful function: ``.run()``. In this function, it receives the following arguments:\n",
    "\n",
    "- ``duration``: Specify the simulation duration. It can be a *tuple* with ``(start time, end time)``, or a *int* to specify the duration ``length`` (then the default start time is ``0``).\n",
    "- ``inputs``: Specify the inputs for each model component. With the format of ``(target, value, [type, operation])``. Details please see the tutorial of [Monitor and Inputs](../tutorial_simulation/monitor_and_inputs.ipynb).\n",
    "- ``report``: a *float* to specify the progress percent to report. \"0\" (default) means doesn't report running progress. "
   ]
  },
  {
   "cell_type": "markdown",
   "metadata": {},
   "source": [
    "Now, let's run the defined model."
   ]
  },
  {
   "cell_type": "code",
   "execution_count": 22,
   "metadata": {
    "ExecuteTime": {
     "end_time": "2021-03-25T03:02:49.010946Z",
     "start_time": "2021-03-25T03:02:49.000504Z"
    }
   },
   "outputs": [],
   "source": [
    "group = LIF(100, monitors=['V'])"
   ]
  },
  {
   "cell_type": "code",
   "execution_count": 23,
   "metadata": {
    "ExecuteTime": {
     "end_time": "2021-03-25T03:02:49.941507Z",
     "start_time": "2021-03-25T03:02:49.014011Z"
    }
   },
   "outputs": [
    {
     "name": "stdout",
     "output_type": "stream",
     "text": [
      "Compilation used 0.0003 s.\n",
      "Start running ...\n",
      "Run 50.0% used 3.288 s.\n",
      "Run 100.0% used 6.467 s.\n",
      "Simulation is done in 6.467 s.\n",
      "\n"
     ]
    },
    {
     "data": {
      "image/png": "[encoded data removed]",
      "text/plain": [
       "<Figure size 432x288 with 1 Axes>"
      ]
     },
     "metadata": {
      "needs_background": "light"
     },
     "output_type": "display_data"
    }
   ],
   "source": [
    "group.run(duration=200., inputs=('input', 26.), report=0.5)\n",
    "bp.visualize.line_plot(group.mon.ts, group.mon.V, show=True)"
   ]
  },
  {
   "cell_type": "code",
   "execution_count": 24,
   "metadata": {
    "ExecuteTime": {
     "end_time": "2021-03-25T03:02:50.811867Z",
     "start_time": "2021-03-25T03:02:49.944594Z"
    },
    "scrolled": false
   },
   "outputs": [
    {
     "name": "stdout",
     "output_type": "stream",
     "text": [
      "Compilation used 0.0004 s.\n",
      "Start running ...\n",
      "Run 20.0% used 1.370 s.\n",
      "Run 40.0% used 2.755 s.\n",
      "Run 60.0% used 4.166 s.\n",
      "Run 80.0% used 5.599 s.\n",
      "Run 100.0% used 7.034 s.\n",
      "Simulation is done in 7.034 s.\n",
      "\n"
     ]
    },
    {
     "data": {
      "image/png": "[encoded data removed]",
      "text/plain": [
       "<Figure size 432x288 with 1 Axes>"
      ]
     },
     "metadata": {
      "needs_background": "light"
     },
     "output_type": "display_data"
    }
   ],
   "source": [
    "group.run(duration=(200, 400.), report=0.2)\n",
    "bp.visualize.line_plot(group.mon.ts, group.mon.V, show=True)"
   ]
  },
  {
   "cell_type": "markdown",
   "metadata": {},
   "source": [
    "In the model definition, BrainPy endows you with the fully data/logic flow control. You can define models with any data you need and any logic you want. There are little limitations/constrains on your customization. \n",
    "\n",
    "1. you should \"super()\" initialize the `brainpy.NeuGroup` with the keyword of the group `size`. \n",
    "2. you should define the `update` function."
   ]
  },
  {
   "cell_type": "markdown",
   "metadata": {},
   "source": [
    "## ``brainpy.TwoEndConn``"
   ]
  },
  {
   "cell_type": "markdown",
   "metadata": {},
   "source": [
    "For synaptic computations, BrainPy provides `brainpy.TwoEndConn` to help you construct the connections between pre-synaptic and post-synaptic neuron groups, and provides `brainpy.connect.TwoEndConnector` for synaptic projections between pre- and post- groups. "
   ]
  },
  {
   "cell_type": "markdown",
   "metadata": {},
   "source": [
    "``brainpy.TwoEndConn`` can help to construct **automatic delay** in synaptic computations. The modeling of synapses usually includes a delay time (typically 0.3–0.5 ms) required for a neurotransmitter to be released from a presynaptic membrane, diffuse across the synaptic cleft, and bind to a receptor site on the post-synaptic membrane. BrainPy provides [register_constant_dely()](../apis/simulation/brainobjects.html#brainpy.simulation.brainobjects.TwoEndConn.register_constant_delay) for automatic state delay. "
   ]
  },
  {
   "cell_type": "markdown",
   "metadata": {},
   "source": [
    "``brainpy.connect.TwoEndConnector`` provides convenient interfaces for **connectivity structure construction**. Various synaptic structures, like *pre_ids*, *post_ids*, *conn_mat*, *pre2post*, *post2pre*, *pre2syn*, *post2syn*, *pre_slice*, and *post_slice*. Users can **require** such data structures by calling `connector.requires('pre_ids', 'post_ids', ...)`. We will detail this function in [Synaptic Connections](../tutorial_simulation/efficient_synaptic_computation.ipynb)."
   ]
  },
  {
   "cell_type": "markdown",
   "metadata": {},
   "source": [
    "Here, let's illustrate how to use `brainpy.TwoEndConn` with the [Exponential synapse model](https://brainmodels.readthedocs.io/en/latest/apis/generated/brainmodels.synapses.ExponentialCOBA.html)."
   ]
  },
  {
   "cell_type": "markdown",
   "metadata": {},
   "source": [
    "### Exponential synapse model"
   ]
  },
  {
   "cell_type": "markdown",
   "metadata": {},
   "source": [
    "Exponential synapse model assumes that once a pre-synaptic neuron generates a spike, the synaptic state arises instantaneously, then decays with a certain time constant $\\tau_{decay}$. Its dynamics is given by:\n",
    "\n",
    "$$\n",
    "\\frac{d s}{d t} = -\\frac{s}{\\tau_{decay}}+\\sum_{k} \\delta(t-D-t^{k})\n",
    "$$\n",
    "\n",
    "where $s$ is the synaptic state, $t^{k}$ is the spike time of the pre-synaptic neuron, and $D$ is the synaptic delay. "
   ]
  },
  {
   "cell_type": "markdown",
   "metadata": {},
   "source": [
    "Afterward, the current output onto the post-synaptic neuron is given in the conductance-based form\n",
    "\n",
    "$$\n",
    "I_{syn}(t) = g_{max} s \\left( V(t)-E \\right)\n",
    "$$\n",
    "\n",
    "where $E$ is the reversal potential of the synapse, $V$ is the post-synaptic membrane potential, $g_{max}$ is the maximum synaptic conductance. "
   ]
  },
  {
   "cell_type": "markdown",
   "metadata": {},
   "source": [
    "So, let's try to implement this synapse model. "
   ]
  },
  {
   "cell_type": "code",
   "execution_count": 25,
   "metadata": {
    "ExecuteTime": {
     "end_time": "2021-03-25T03:03:12.401462Z",
     "start_time": "2021-03-25T03:03:12.369072Z"
    },
    "scrolled": false
   },
   "outputs": [],
   "source": [
    "class Exponential(bp.TwoEndConn):\n",
    "  def __init__(self, pre, post, conn, g_max=1., delay=0., tau=8.0, E=0., **kwargs):\n",
    "    super(Exponential, self).__init__(pre=pre, post=post, conn=conn, **kwargs)\n",
    "\n",
    "    # parameters\n",
    "    self.g_max = g_max\n",
    "    self.E = E\n",
    "    self.tau = tau\n",
    "    self.delay = delay\n",
    "\n",
    "    # connections\n",
    "    self.pre_ids, self.post_ids = self.conn.requires('pre_ids', 'post_ids')\n",
    "    self.num = len(self.pre_ids)\n",
    "    \n",
    "    # variables\n",
    "    self.s = bp.math.Variable(bp.math.zeros(self.num))\n",
    "    self.pre_spike = self.register_constant_delay('ps', size=self.pre.num, delay=delay)\n",
    "\n",
    "  @bp.odeint(method='exponential_euler')\n",
    "  def int_s(self, s, t):\n",
    "    dsdt = - s / self.tau\n",
    "    return dsdt\n",
    "\n",
    "  def update(self, _t, _dt):\n",
    "    # P1: push the pre-synaptic spikes into the delay\n",
    "    self.pre_spike.push(self.pre.spike)\n",
    "    # P2: pull the delayed pre-synaptic spikes\n",
    "    delayed_pre_spike = self.pre_spike.pull()\n",
    "    # P3: update the synatic state\n",
    "    self.s[:] = self.int_s(self.s, _t)\n",
    "    for syn_i in range(self.num):\n",
    "      pre_i, post_i = self.pre_ids[syn_i], self.post_ids[syn_i]\n",
    "      # P4: whether pre-synaptic neuron generates a spike\n",
    "      if delayed_pre_spike[pre_i]:\n",
    "        self.s[syn_i] += 1.\n",
    "      # P5: output the synapse current onto the post-synaptic neuron\n",
    "      self.post.input[post_i] += self.g_max * self.s[syn_i] * (self.E - self.post.V[post_i])"
   ]
  },
  {
   "cell_type": "markdown",
   "metadata": {},
   "source": [
    "Here, we create a synaptic model by using the synaptic structures of *pre_ids* and *post_ids* , looks like this:"
   ]
  },
  {
   "cell_type": "markdown",
   "metadata": {},
   "source": [
    "<img src=\"../_static/syn-example-pre_ids-post_ids.png\" width=\"700 px\" align=\"left\">"
   ]
  },
  {
   "cell_type": "markdown",
   "metadata": {},
   "source": [
    "The pre-synaptic neuron index (``pre ids``) is shown in the green color. The post-synaptic neuron index (``post ids``) is shown in the red color. Each pair of *(pre id,  post id)* denotes a synapse between two neuron groups. Each synapse connection also has a unique index, called the *synapse index*, which is shown in the third row (``syn ids``). "
   ]
  },
  {
   "cell_type": "markdown",
   "metadata": {},
   "source": [
    "## ``brainpy.Network``"
   ]
  },
  {
   "cell_type": "markdown",
   "metadata": {},
   "source": [
    "In above, we have illustrated how to define **neurons** by [brainpy.NeuGroup](../apis/simulation/generated/brainpy.simulation.brainobjects.NeuGroup.rst) and **synapses** by [brainpy.TwoEndConn](../apis/simulation/generated/brainpy.simulation.brainobjects.TwoEndConn.rst). In the next, we talk about how to create a network by using [brainpy.Network](../apis/simulation/generated/brainpy.simulation.brainobjects.Network.rst). "
   ]
  },
  {
   "cell_type": "markdown",
   "metadata": {},
   "source": [
    "### E/I balanced network"
   ]
  },
  {
   "cell_type": "markdown",
   "metadata": {},
   "source": [
    "Here, we try to create a [E/I balanced network](https://brainmodels.readthedocs.io/en/latest/examples/EI_nets/Brette_2007_COBA.html) according to the reference [1]. "
   ]
  },
  {
   "cell_type": "markdown",
   "metadata": {},
   "source": [
    "This EI network has 4000 leaky integrate-and-fire neurons. Each integrate-and-fire neuron is characterized by a time constant, $\\tau$ = 20 ms, and a resting membrane potential, $V_{rest}$ = -60 mV. Whenever the membrane potential crosses a spiking threshold of -50 mV, an action potential is generated and the membrane potential is reset to the resting potential, where it remains clamped for a 5 ms refractory period. "
   ]
  },
  {
   "cell_type": "code",
   "execution_count": 26,
   "metadata": {},
   "outputs": [],
   "source": [
    "num_exc = 3200\n",
    "num_inh = 800\n",
    "\n",
    "E = LIF(num_exc, tau=20, V_th=-50, V_rest=-60, V_reset=-60, t_refractory=5., monitors=['spike'])\n",
    "I = LIF(num_inh, tau=20, V_th=-50, V_rest=-60, V_reset=-60, t_refractory=5.)"
   ]
  },
  {
   "cell_type": "markdown",
   "metadata": {},
   "source": [
    "The ratio of the excitatory and inhibitory neurons are 4:1. The neurons connect to each other randomly with a connection probability of 2%. "
   ]
  },
  {
   "cell_type": "markdown",
   "metadata": {},
   "source": [
    "The kinetics of the synapse is governed by the exponential synapse model shown above. Specifically, synaptic time constants $\\tau_e$ = 5 ms for excitatory synapses and $\\tau_i$ = 10 ms for inhibitory synapse. The maximum  synaptic conductance is $0.6$ for the excitatory synapse and $6.7$ for the inhibitory synapse. Reversal potentials are $E_e$ = 0 mV and $E_i$ = -80 mV. "
   ]
  },
  {
   "cell_type": "code",
   "execution_count": 27,
   "metadata": {},
   "outputs": [],
   "source": [
    "E2E = Exponential(E, E, bp.connect.FixedProb(prob=0.02), E=0., g_max=0.6, tau=5)\n",
    "E2I = Exponential(E, I, bp.connect.FixedProb(prob=0.02), E=0., g_max=0.6, tau=5)\n",
    "I2E = Exponential(I, E, bp.connect.FixedProb(prob=0.02), E=-80., g_max=6.7, tau=10)\n",
    "I2I = Exponential(I, I, bp.connect.FixedProb(prob=0.02), E=-80., g_max=6.7, tau=10)"
   ]
  },
  {
   "cell_type": "markdown",
   "metadata": {},
   "source": [
    "After this, we can create a network to wrap these object together. "
   ]
  },
  {
   "cell_type": "code",
   "execution_count": 28,
   "metadata": {
    "scrolled": false
   },
   "outputs": [],
   "source": [
    "net = bp.Network(E2E, E2I, I2I, I2E, E=E, I=I)\n",
    "net = bp.math.jit(net)"
   ]
  },
  {
   "cell_type": "code",
   "execution_count": 29,
   "metadata": {},
   "outputs": [
    {
     "name": "stdout",
     "output_type": "stream",
     "text": [
      "Compilation used 4.5976 s.\n",
      "Start running ...\n",
      "Run 10.0% used 1.305 s.\n",
      "Run 20.0% used 2.613 s.\n",
      "Run 30.0% used 3.945 s.\n",
      "Run 40.0% used 5.276 s.\n",
      "Run 50.0% used 6.630 s.\n",
      "Run 60.0% used 8.041 s.\n",
      "Run 70.0% used 9.364 s.\n",
      "Run 80.0% used 10.709 s.\n",
      "Run 90.0% used 12.052 s.\n",
      "Run 100.0% used 13.378 s.\n",
      "Simulation is done in 13.378 s.\n",
      "\n"
     ]
    },
    {
     "data": {
      "image/png": "[encoded data removed]",
      "text/plain": [
       "<Figure size 432x288 with 1 Axes>"
      ]
     },
     "metadata": {
      "needs_background": "light"
     },
     "output_type": "display_data"
    }
   ],
   "source": [
    "net.run(100., inputs=[('E.input', 20.), ('I.input', 20.)], report=0.1)\n",
    "bp.visualize.raster_plot(E.mon.ts, E.mon.spike, show=True)"
   ]
  },
  {
   "cell_type": "markdown",
   "metadata": {},
   "source": [
    "**References**: \n",
    "\n",
    "[1] Brette, R., Rudolph, M., Carnevale, T., Hines, M., Beeman, D., Bower, J. M., et al. (2007), Simulation of networks of spiking neurons: a review of tools and strategies., J. Comput. Neurosci., 23, 3, 349–98\n"
   ]
  },
  {
   "cell_type": "markdown",
   "metadata": {},
   "source": [
    "---\n",
    "\n",
    "- Chaoming Wang (adaduo@outlook.com)\n",
    "- Update at 2021.09.08\n",
    "\n",
    "---"
   ]
  }
 ],
 "metadata": {
  "hide_input": false,
  "jupytext": {
   "encoding": "# -*- coding: utf-8 -*-"
  },
  "kernelspec": {
   "display_name": "brainpy",
   "language": "python",
   "name": "brainpy"
  },
  "language_info": {
   "codemirror_mode": {
    "name": "ipython",
    "version": 3
   },
   "file_extension": ".py",
   "mimetype": "text/x-python",
   "name": "python",
   "nbconvert_exporter": "python",
   "pygments_lexer": "ipython3",
   "version": "3.8.10"
  },
  "latex_envs": {
   "LaTeX_envs_menu_present": true,
   "autoclose": false,
   "autocomplete": true,
   "bibliofile": "biblio.bib",
   "cite_by": "apalike",
   "current_citInitial": 1,
   "eqLabelWithNumbers": true,
   "eqNumInitial": 1,
   "hotkeys": {
    "equation": "Ctrl-E",
    "itemize": "Ctrl-I"
   },
   "labels_anchors": false,
   "latex_user_defs": false,
   "report_style_numbering": false,
   "user_envs_cfg": false
  },
  "toc": {
   "base_numbering": 1,
   "nav_menu": {
    "height": "411px",
    "width": "316px"
   },
   "number_sections": false,
   "sideBar": true,
   "skip_h1_title": false,
   "title_cell": "Table of Contents",
   "title_sidebar": "Contents",
   "toc_cell": false,
   "toc_position": {
    "height": "calc(100% - 180px)",
    "left": "10px",
    "top": "150px",
    "width": "243.07px"
   },
   "toc_section_display": true,
   "toc_window_display": true
  },
  "varInspector": {
   "cols": {
    "lenName": 16,
    "lenType": 16,
    "lenVar": 40
   },
   "kernels_config": {
    "python": {
     "delete_cmd_postfix": "",
     "delete_cmd_prefix": "del ",
     "library": "var_list.py",
     "varRefreshCmd": "print(var_dic_list())"
    },
    "r": {
     "delete_cmd_postfix": ") ",
     "delete_cmd_prefix": "rm(",
     "library": "var_list.r",
     "varRefreshCmd": "cat(var_dic_list()) "
    }
   },
   "types_to_exclude": [
    "module",
    "function",
    "builtin_function_or_method",
    "instance",
    "_Feature"
   ],
   "window_display": false
  }
 },
 "nbformat": 4,
 "nbformat_minor": 4
}
