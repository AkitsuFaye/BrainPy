{
 "cells": [
  {
   "cell_type": "markdown",
   "id": "f753f3ab",
   "metadata": {},
   "source": [
    "# More About Monitor "
   ]
  },
  {
   "cell_type": "markdown",
   "id": "1143dc69",
   "metadata": {},
   "source": [
    "In BrainPy, each object (any instance of `brainpy.DynamicalSystem`) has the inherent monitor. Users can set up the monitor when initializing the brain objects. For example, if you have the following `HH` neuron model,"
   ]
  },
  {
   "cell_type": "code",
   "execution_count": 1,
   "id": "19ba3a79",
   "metadata": {},
   "outputs": [],
   "source": [
    "import brainpy as bp\n",
    "\n",
    "class HH(bp.NeuGroup):\n",
    "    target_backend = 'numpy'\n",
    "\n",
    "    def __init__(self, size, ENa=50., EK=-77., EL=-54.387,\n",
    "                 C=1.0, gNa=120., gK=36., gL=0.03, V_th=20.,\n",
    "                 **kwargs):\n",
    "        super(HH, self).__init__(size=size, **kwargs)\n",
    "        \n",
    "        # parameters\n",
    "        self.ENa = ENa\n",
    "        self.EK = EK\n",
    "        self.EL = EL\n",
    "        self.C = C\n",
    "        self.gNa = gNa\n",
    "        self.gK = gK\n",
    "        self.gL = gL\n",
    "        self.V_th = V_th\n",
    "\n",
    "        # variables\n",
    "        self.V = bp.ops.ones(self.num) * -65.\n",
    "        self.m = bp.ops.ones(self.num) * 0.5\n",
    "        self.h = bp.ops.ones(self.num) * 0.6\n",
    "        self.n = bp.ops.ones(self.num) * 0.32\n",
    "        self.spike = bp.ops.zeros(self.num)\n",
    "        self.input = bp.ops.zeros(self.num)\n",
    "\n",
    "    @bp.odeint(method='exponential_euler')\n",
    "    def integral(self, V, m, h, n, t, Iext):\n",
    "        alpha = 0.1 * (V + 40) / (1 - bp.ops.exp(-(V + 40) / 10))\n",
    "        beta = 4.0 * bp.ops.exp(-(V + 65) / 18)\n",
    "        dmdt = alpha * (1 - m) - beta * m\n",
    "\n",
    "        alpha = 0.07 * bp.ops.exp(-(V + 65) / 20.)\n",
    "        beta = 1 / (1 + bp.ops.exp(-(V + 35) / 10))\n",
    "        dhdt = alpha * (1 - h) - beta * h\n",
    "\n",
    "        alpha = 0.01 * (V + 55) / (1 - bp.ops.exp(-(V + 55) / 10))\n",
    "        beta = 0.125 * bp.ops.exp(-(V + 65) / 80)\n",
    "        dndt = alpha * (1 - n) - beta * n\n",
    "\n",
    "        I_Na = (self.gNa * m ** 3 * h) * (V - self.ENa)\n",
    "        I_K = (self.gK * n ** 4) * (V - self.EK)\n",
    "        I_leak = self.gL * (V - self.EL)\n",
    "        dVdt = (- I_Na - I_K - I_leak + Iext) / self.C\n",
    "\n",
    "        return dVdt, dmdt, dhdt, dndt\n",
    "\n",
    "    def update(self, _t, _i, _dt):\n",
    "        V, m, h, n = self.integral(self.V, self.m, self.h, self.n, _t, self.input)\n",
    "        self.spike = (self.V < self.V_th) * (V >= self.V_th)\n",
    "        self.V = V\n",
    "        self.m = m\n",
    "        self.h = h\n",
    "        self.n = n\n",
    "        self.input[:] = 0"
   ]
  },
  {
   "cell_type": "markdown",
   "id": "77eda528",
   "metadata": {},
   "source": [
    "the monitor can be set up when users create a `HH` neuron group:"
   ]
  },
  {
   "cell_type": "code",
   "execution_count": 2,
   "id": "db284f81",
   "metadata": {},
   "outputs": [
    {
     "data": {
      "text/plain": [
       "brainpy.simulation.monitors.Monitor"
      ]
     },
     "execution_count": 2,
     "metadata": {},
     "output_type": "execute_result"
    }
   ],
   "source": [
    "# set up a monitor using a list/tuple of strings\n",
    "group1 = HH(size=10, monitors=['V', 'spike'])  \n",
    "\n",
    "type(group1.mon)"
   ]
  },
  {
   "cell_type": "code",
   "execution_count": 3,
   "id": "85524b4f",
   "metadata": {},
   "outputs": [],
   "source": [
    "# set up a monitor using the Monitor class\n",
    "group2 = HH(size=10, monitors=bp.simulation.Monitor(variables=['V', 'spike']))  "
   ]
  },
  {
   "cell_type": "markdown",
   "id": "fff55d35",
   "metadata": {},
   "source": [
    "Once we run the given model/network, the monitors will record the evolution of variables in the corresponding neural or synaptic models. "
   ]
  },
  {
   "cell_type": "code",
   "execution_count": 4,
   "id": "43451236",
   "metadata": {},
   "outputs": [
    {
     "data": {
      "image/png": "[encoded data removed]",
      "text/plain": [
       "<Figure size 432x288 with 1 Axes>"
      ]
     },
     "metadata": {
      "needs_background": "light"
     },
     "output_type": "display_data"
    }
   ],
   "source": [
    "group1.run(100., inputs=('input', 10))\n",
    "\n",
    "bp.visualize.line_plot(group1.mon.V_t, group1.mon.V, show=True)"
   ]
  },
  {
   "cell_type": "markdown",
   "id": "8c2c00ae",
   "metadata": {},
   "source": [
    "## Monitor variables at the selected index"
   ]
  },
  {
   "cell_type": "markdown",
   "id": "92e07213",
   "metadata": {},
   "source": [
    "However, we do not always take care of the all the content in a variable. We may be only interested in the values at the selected index. Moreover, for huge networks and long simulations, monitors will be a big part to consume RAM. Monitoring variables only at the selected index is a good solution. For these scenarios, we can initialize the monitors with the format of tuple/dict like this:"
   ]
  },
  {
   "cell_type": "code",
   "execution_count": 5,
   "id": "b7d0d089",
   "metadata": {
    "scrolled": true
   },
   "outputs": [
    {
     "name": "stdout",
     "output_type": "stream",
     "text": [
      "The monitor shape of \"V\" is (run length, variable size) = (1000, 10)\n",
      "The monitor shape of \"spike\" is (run length, index size) = (1000, 3)\n"
     ]
    }
   ],
   "source": [
    "group3 = HH(\n",
    "    size=10, \n",
    "    monitors=['V', ('spike', [1, 2, 3])]  # use a tuple to specify the (key, index)\n",
    ")\n",
    "\n",
    "group3.run(100., inputs=('input', 10.))\n",
    "\n",
    "print(f'The monitor shape of \"V\" is (run length, variable size) = {group3.mon.V.shape}')\n",
    "print(f'The monitor shape of \"spike\" is (run length, index size) = {group3.mon.spike.shape}')"
   ]
  },
  {
   "cell_type": "markdown",
   "id": "6d6ca9e4",
   "metadata": {},
   "source": [
    "Or, use a dictionary to specify the interested index of the variable:"
   ]
  },
  {
   "cell_type": "code",
   "execution_count": 6,
   "id": "a9b258e9",
   "metadata": {},
   "outputs": [
    {
     "name": "stdout",
     "output_type": "stream",
     "text": [
      "The monitor shape of \"V\" is (run length, variable size) = (1000, 10)\n",
      "The monitor shape of \"spike\" is (run length, index size) = (1000, 3)\n"
     ]
    }
   ],
   "source": [
    "group4 = HH(\n",
    "    size=10, \n",
    "    monitors={'V': None, 'spike': [1, 2, 3]}  # use a dict to specify the {key: index}\n",
    ")\n",
    "\n",
    "group4.run(100., inputs=('input', 10.))\n",
    "\n",
    "print(f'The monitor shape of \"V\" is (run length, variable size) = {group4.mon.V.shape}')\n",
    "print(f'The monitor shape of \"spike\" is (run length, index size) = {group4.mon.spike.shape}')"
   ]
  },
  {
   "cell_type": "markdown",
   "id": "c80036de",
   "metadata": {},
   "source": [
    "Also, an instance of `Monitor` class can also be used:"
   ]
  },
  {
   "cell_type": "code",
   "execution_count": 7,
   "id": "1440d3c1",
   "metadata": {},
   "outputs": [
    {
     "name": "stdout",
     "output_type": "stream",
     "text": [
      "The monitor shape of \"V\" is (run length, variable size) = (1000, 10)\n",
      "The monitor shape of \"spike\" is (run length, index size) = (1000, 3)\n"
     ]
    }
   ],
   "source": [
    "group5 = HH(\n",
    "    size=10, \n",
    "    # monitors=bp.simulation.Monitor(variables=['V', ('spike', [1, 2, 3])])\n",
    "    monitors=bp.simulation.Monitor(variables={'V': None, 'spike': [1, 2, 3]})  # initialize a Monitor \n",
    "                                                                               # to specify the key-index\n",
    ")\n",
    "\n",
    "group5.run(100., inputs=('input', 10.))\n",
    "\n",
    "print(f'The monitor shape of \"V\" is (run length, variable size) = {group5.mon.V.shape}')\n",
    "print(f'The monitor shape of \"spike\" is (run length, index size) = {group5.mon.spike.shape}')"
   ]
  },
  {
   "cell_type": "markdown",
   "id": "ccca1048",
   "metadata": {},
   "source": [
    "## Monitor variables with customized period"
   ]
  },
  {
   "cell_type": "markdown",
   "id": "e77b6a76",
   "metadata": {},
   "source": [
    "In long simulations with small `dt` time step, what we take care about is the trend of the variable evolution, not the exact values at each time point (especially when `dt` is very small). For this scenario, we can initializing the monitors with the `every` item specification (similar to the decorator `@brainpy.every(time=...)`):"
   ]
  },
  {
   "cell_type": "code",
   "execution_count": 8,
   "id": "2ff12f76",
   "metadata": {},
   "outputs": [],
   "source": [
    "group6 = HH(\n",
    "    size=10, \n",
    "    monitors=bp.simulation.Monitor(variables={'V': None, 'spike': [1, 2, 3]},\n",
    "                                   every={'V': None, 'spike': 1.}) \n",
    ")"
   ]
  },
  {
   "cell_type": "markdown",
   "id": "b3015fb9",
   "metadata": {},
   "source": [
    "In this example, we monitor \"spike\" variables at the index of [1, 2, 3] for each `1 ms`. "
   ]
  },
  {
   "cell_type": "code",
   "execution_count": 9,
   "id": "fafa9cf7",
   "metadata": {},
   "outputs": [
    {
     "name": "stdout",
     "output_type": "stream",
     "text": [
      "The monitor shape of \"V\" = (1000, 10)\n",
      "The monitor shape of \"spike\" = (100, 3)\n"
     ]
    }
   ],
   "source": [
    "group6.run(100., inputs=('input', 10.))\n",
    "\n",
    "print(f'The monitor shape of \"V\" = {group6.mon.V.shape}')\n",
    "print(f'The monitor shape of \"spike\" = {group6.mon.spike.shape}')"
   ]
  },
  {
   "cell_type": "markdown",
   "id": "342ad7b0",
   "metadata": {},
   "source": [
    "But what is different from the decorator `@brainpy.every(time=...)` is that the `time` can not receive a bool function. This is because the monitors will allocate the data need to record in advance. But the bool function makes the beforehand allocation more difficult. "
   ]
  },
  {
   "cell_type": "markdown",
   "id": "9ebb68c0",
   "metadata": {},
   "source": [
    "---\n",
    "\n",
    "**Author**:\n",
    "\n",
    "- Chaoming Wang\n",
    "- Email: adaduo@outlook.com\n",
    "- Date: 2021.05.24\n",
    "\n",
    "---"
   ]
  }
 ],
 "metadata": {
  "kernelspec": {
   "display_name": "brainpy",
   "language": "python",
   "name": "brainpy"
  },
  "language_info": {
   "codemirror_mode": {
    "name": "ipython",
    "version": 3
   },
   "file_extension": ".py",
   "mimetype": "text/x-python",
   "name": "python",
   "nbconvert_exporter": "python",
   "pygments_lexer": "ipython3",
   "version": "3.8.8"
  },
  "toc": {
   "base_numbering": 1,
   "nav_menu": {},
   "number_sections": false,
   "sideBar": true,
   "skip_h1_title": false,
   "title_cell": "Table of Contents",
   "title_sidebar": "Contents",
   "toc_cell": false,
   "toc_position": {},
   "toc_section_display": true,
   "toc_window_display": true
  }
 },
 "nbformat": 4,
 "nbformat_minor": 5
}
