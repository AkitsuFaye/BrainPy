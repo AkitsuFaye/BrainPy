{
 "cells": [
  {
   "cell_type": "markdown",
   "id": "premium-shield",
   "metadata": {},
   "source": [
    "# Numerical Solvers"
   ]
  },
  {
   "cell_type": "markdown",
   "id": "destroyed-smooth",
   "metadata": {},
   "source": [
    "Brain modeling toolkit provided in BrainPy is focused on **differential equations**. How to solve differential equations is the essence of the neurodynamics simulation. The exact algebraic solutions are only available for low-order differential equations. For the coupled high-dimensional non-linear brain dynamical systems, we need to resort to using numerical methods for solving such differential equations. In this section, I will illustrate how to define ordinary differential quations (ODEs), stochastic differential equations (SDEs), and how to define the numerical integration methods in BrainPy for these difined DEs."
   ]
  },
  {
   "cell_type": "code",
   "execution_count": 1,
   "id": "specialized-wyoming",
   "metadata": {
    "ExecuteTime": {
     "end_time": "2021-03-24T11:08:28.570200Z",
     "start_time": "2021-03-24T11:08:26.556045Z"
    }
   },
   "outputs": [],
   "source": [
    "import brainpy as bp\n",
    "\n",
    "import matplotlib.pyplot as plt\n",
    "from mpl_toolkits.mplot3d import Axes3D"
   ]
  },
  {
   "cell_type": "markdown",
   "id": "opposite-mixer",
   "metadata": {},
   "source": [
    "## ODEs"
   ]
  },
  {
   "cell_type": "markdown",
   "id": "complicated-italy",
   "metadata": {},
   "source": [
    "### How to define ODE functions?"
   ]
  },
  {
   "cell_type": "markdown",
   "id": "removed-championship",
   "metadata": {},
   "source": [
    "BrainPy provides a convenient and intuitive way to define ODE systems. For the ODE\n",
    "\n",
    "$$\n",
    "{dx \\over dt} = f_1(x, t, y, p_1)\\\\\n",
    "{dy \\over dt} = f_2(y, t, x, p_2)\n",
    "$$\n",
    "\n",
    "we can define this system as a Python function: "
   ]
  },
  {
   "cell_type": "code",
   "execution_count": 2,
   "id": "failing-headset",
   "metadata": {
    "ExecuteTime": {
     "end_time": "2021-03-24T11:08:28.586248Z",
     "start_time": "2021-03-24T11:08:28.573214Z"
    }
   },
   "outputs": [],
   "source": [
    "def diff(x, y, t, p1, p2):\n",
    "    dx = f1(x, t, y, p1)\n",
    "    dy = g1(y, t, x, p2)\n",
    "    return dx, dy"
   ]
  },
  {
   "cell_type": "markdown",
   "id": "devoted-television",
   "metadata": {},
   "source": [
    "where `t` denotes the current time, `p1` and `p2` which after the `t` are represented as parameters needed in this system, and `x` and `y` passed before `t` denotes the dynamical variables. In the function body, the derivative for each variable can be customized by the user need `f1` and `f2`. Finally, we return the corresponding derivatives `dx` and `dy` with the order the same as the variables in the function arguments.\n",
    "\n",
    "For each variable `x` or `y`, it can be a scalar (`var_type = bp.SCALAR_VAR`), a vector/matrix (`var_type = bp.POPU_VAR`), or a system (`var_type = bp.SYSTEM_VAR`). Here, the \"system\" means that the argument `x` denotes an array of vairables. Take the above example as the demonstration again, we can redefine it as:"
   ]
  },
  {
   "cell_type": "code",
   "execution_count": 3,
   "id": "historical-chapel",
   "metadata": {
    "ExecuteTime": {
     "end_time": "2021-03-24T11:08:28.602248Z",
     "start_time": "2021-03-24T11:08:28.591212Z"
    }
   },
   "outputs": [],
   "source": [
    "import numpy as np\n",
    "\n",
    "def diff(xy, t, p1, p2):\n",
    "    x, y = xy\n",
    "    dx = f1(x, t, y, p1)\n",
    "    dy = g1(y, t, x, p2)\n",
    "    return np.array([dx, dy])"
   ]
  },
  {
   "cell_type": "markdown",
   "id": "considered-surgery",
   "metadata": {},
   "source": [
    "### How to define the numerical integration for ODEs?"
   ]
  },
  {
   "cell_type": "markdown",
   "id": "mysterious-holiday",
   "metadata": {},
   "source": [
    "After the definition of ODE functions, the numerical integration of these functions are very easy in BrainPy. We just need put a decorator (`bp.odeint`). "
   ]
  },
  {
   "cell_type": "code",
   "execution_count": 4,
   "id": "apparent-structure",
   "metadata": {
    "ExecuteTime": {
     "end_time": "2021-03-24T11:08:28.617260Z",
     "start_time": "2021-03-24T11:08:28.605262Z"
    }
   },
   "outputs": [],
   "source": [
    "@bp.odeint\n",
    "def diff(x, y, t, p1, p2):\n",
    "    dx = f1(x, t, y, p1)\n",
    "    dy = g1(y, t, x, p2)\n",
    "    return dx, dy"
   ]
  },
  {
   "cell_type": "markdown",
   "id": "meaning-print",
   "metadata": {
    "ExecuteTime": {
     "end_time": "2021-03-23T15:04:17.122194Z",
     "start_time": "2021-03-23T15:04:15.983197Z"
    }
   },
   "source": [
    "`bp.odeint` receives \"method\", \"dt\" etc. specification. By providing \"method\", user can specify the numerical methods to integrate the ODE functions. The supported ODE method can be found by"
   ]
  },
  {
   "cell_type": "code",
   "execution_count": 5,
   "id": "artificial-curtis",
   "metadata": {
    "ExecuteTime": {
     "end_time": "2021-03-24T11:08:28.633269Z",
     "start_time": "2021-03-24T11:08:28.621269Z"
    }
   },
   "outputs": [
    {
     "data": {
      "text/plain": [
       "['bs',\n",
       " 'ck',\n",
       " 'euler',\n",
       " 'heun2',\n",
       " 'heun3',\n",
       " 'heun_euler',\n",
       " 'midpoint',\n",
       " 'ralston2',\n",
       " 'ralston3',\n",
       " 'ralston4',\n",
       " 'rk2',\n",
       " 'rk3',\n",
       " 'rk4',\n",
       " 'rk4_38rule',\n",
       " 'rkdp',\n",
       " 'rkf12',\n",
       " 'rkf45',\n",
       " 'ssprk3']"
      ]
     },
     "execution_count": 5,
     "metadata": {},
     "output_type": "execute_result"
    }
   ],
   "source": [
    "bp.integrators.SUPPORTED_ODE_METHODS"
   ]
  },
  {
   "cell_type": "markdown",
   "id": "surface-brush",
   "metadata": {},
   "source": [
    "Moreover, \"dt\" is a float which denotes the numerical integration precision. Here, for the above ODE function, we can define a four-order Runge-Kutta method for it:"
   ]
  },
  {
   "cell_type": "code",
   "execution_count": 6,
   "id": "bronze-sport",
   "metadata": {
    "ExecuteTime": {
     "end_time": "2021-03-24T11:08:28.649299Z",
     "start_time": "2021-03-24T11:08:28.636270Z"
    }
   },
   "outputs": [],
   "source": [
    "@bp.odeint(method='rk4', dt=0.01)\n",
    "def diff(x, y, t, p1, p2):\n",
    "    dx = f1(x, t, y, p1)\n",
    "    dy = g1(y, t, x, p2)\n",
    "    return dx, dy"
   ]
  },
  {
   "cell_type": "markdown",
   "id": "chubby-timing",
   "metadata": {},
   "source": [
    "### Example 1: FitzHugh–Nagumo model"
   ]
  },
  {
   "cell_type": "markdown",
   "id": "christian-receipt",
   "metadata": {},
   "source": [
    "Now, let's take the well known [FitzHugh–Nagumo model](https://en.wikipedia.org/wiki/FitzHugh%E2%80%93Nagumo_model) as an exmaple to illustrate how to define ODE solvers for brain modeling. The FitzHugh–Nagumo model (FHN) model has two dynamical variables, which are governed by the following equations:\n",
    "\n",
    "$$\n",
    "\\begin{align}\n",
    "\\tau {\\dot  {w}}&=v+a-bw\\\\\n",
    "{\\dot {v}} &=v-{\\frac {v^{3}}{3}}-w+I_{\\rm {ext}} \\\\\n",
    "\\end{align}\n",
    "$$\n",
    "\n",
    "For this FHN model, we can code it in BrainPy like this:"
   ]
  },
  {
   "cell_type": "code",
   "execution_count": 7,
   "id": "saved-participation",
   "metadata": {
    "ExecuteTime": {
     "end_time": "2021-03-24T11:08:28.665257Z",
     "start_time": "2021-03-24T11:08:28.653261Z"
    }
   },
   "outputs": [],
   "source": [
    "@bp.odeint(dt=0.01)\n",
    "def integral(V, w, t, Iext, a, b, tau):\n",
    "    dw = (V + a - b * w) / tau\n",
    "    dV = V - V * V * V / 3 - w + Iext\n",
    "    return dV, dw"
   ]
  },
  {
   "cell_type": "markdown",
   "id": "freelance-carpet",
   "metadata": {},
   "source": [
    "After defining the numerical solver, the solution of the ODE system in the given times can be easily solved. For example, for the given parameters,"
   ]
  },
  {
   "cell_type": "code",
   "execution_count": 8,
   "id": "annual-wrestling",
   "metadata": {
    "ExecuteTime": {
     "end_time": "2021-03-24T11:08:28.681259Z",
     "start_time": "2021-03-24T11:08:28.670264Z"
    }
   },
   "outputs": [],
   "source": [
    "a=0.7;   b=0.8;   tau=12.5;   Iext=1."
   ]
  },
  {
   "cell_type": "markdown",
   "id": "competitive-transition",
   "metadata": {},
   "source": [
    "the solution of the FHN model between 0 and 100 ms can be approximated by "
   ]
  },
  {
   "cell_type": "code",
   "execution_count": 9,
   "id": "dated-sunset",
   "metadata": {
    "ExecuteTime": {
     "end_time": "2021-03-24T11:08:28.952277Z",
     "start_time": "2021-03-24T11:08:28.686261Z"
    }
   },
   "outputs": [
    {
     "data": {
      "text/plain": [
       "[<matplotlib.lines.Line2D at 0x2124b062f88>]"
      ]
     },
     "execution_count": 9,
     "metadata": {},
     "output_type": "execute_result"
    },
    {
     "data": {
      "image/png": "[encoded data removed]",
      "text/plain": [
       "<Figure size 432x288 with 1 Axes>"
      ]
     },
     "metadata": {
      "needs_background": "light"
     },
     "output_type": "display_data"
    }
   ],
   "source": [
    "hist_times = np.arange(0, 100, integral.dt)\n",
    "hist_V = []\n",
    "V, w = 0., 0.\n",
    "for t in hist_times:\n",
    "    V, w = integral(V, w, t, Iext, a, b, tau)\n",
    "    hist_V.append(V)\n",
    "\n",
    "plt.plot(hist_times, hist_V)"
   ]
  },
  {
   "cell_type": "markdown",
   "id": "acute-prototype",
   "metadata": {},
   "source": [
    "### Example 2: Hodgkin–Huxley model"
   ]
  },
  {
   "cell_type": "markdown",
   "id": "whole-mother",
   "metadata": {},
   "source": [
    "Another more complex example is the classical [Hodgkin–Huxley neuron model](https://en.wikipedia.org/wiki/Hodgkin%E2%80%93Huxley_model). In HH model, four dynamical variables (`V, m, n, h`) are used for modeling the initiation and propagration of the action potential. Specificaly, they are governed by the following equations:\n",
    "\n",
    "$$\n",
    "\\begin{aligned}\n",
    "C_{m} \\frac{d V}{d t} &=-\\bar{g}_{\\mathrm{K}} n^{4}\\left(V-V_{K}\\right)- \\bar{g}_{\\mathrm{Na}} m^{3} h\\left(V-V_{N a}\\right)-\\bar{g}_{l}\\left(V-V_{l}\\right)+I_{s y n} \\\\\n",
    "\\frac{d m}{d t} &=\\alpha_{m}(V)(1-m)-\\beta_{m}(V) m \\\\\n",
    "\\frac{d h}{d t} &=\\alpha_{h}(V)(1-h)-\\beta_{h}(V) h \\\\\n",
    "\\frac{d n}{d t} &=\\alpha_{n}(V)(1-n)-\\beta_{n}(V) n\n",
    "\\end{aligned}\n",
    "$$\n",
    "\n",
    "In BrainPy, such dynamical system can be coded as:"
   ]
  },
  {
   "cell_type": "code",
   "execution_count": 10,
   "id": "sexual-butler",
   "metadata": {
    "ExecuteTime": {
     "end_time": "2021-03-24T11:08:28.968259Z",
     "start_time": "2021-03-24T11:08:28.955260Z"
    }
   },
   "outputs": [],
   "source": [
    "@bp.odeint(method='rk4', dt=0.01)\n",
    "def integral(V, m, h, n, t, Iext, gNa, ENa, gK, EK, gL, EL, C):\n",
    "    alpha = 0.1 * (V + 40) / (1 - np.exp(-(V + 40) / 10))\n",
    "    beta = 4.0 * np.exp(-(V + 65) / 18)\n",
    "    dmdt = alpha * (1 - m) - beta * m\n",
    "\n",
    "    alpha = 0.07 * np.exp(-(V + 65) / 20.)\n",
    "    beta = 1 / (1 + np.exp(-(V + 35) / 10))\n",
    "    dhdt = alpha * (1 - h) - beta * h\n",
    "\n",
    "    alpha = 0.01 * (V + 55) / (1 - np.exp(-(V + 55) / 10))\n",
    "    beta = 0.125 * np.exp(-(V + 65) / 80)\n",
    "    dndt = alpha * (1 - n) - beta * n\n",
    "\n",
    "    I_Na = (gNa * m ** 3.0 * h) * (V - ENa)\n",
    "    I_K = (gK * n ** 4.0) * (V - EK)\n",
    "    I_leak = gL * (V - EL)\n",
    "    dVdt = (- I_Na - I_K - I_leak + Iext) / C\n",
    "\n",
    "    return dVdt, dmdt, dhdt, dndt"
   ]
  },
  {
   "cell_type": "markdown",
   "id": "subjective-formation",
   "metadata": {},
   "source": [
    "Same as the FHN model, we can also integrate the HH model in the given parameters and time interval:"
   ]
  },
  {
   "cell_type": "code",
   "execution_count": 11,
   "id": "worthy-restriction",
   "metadata": {
    "ExecuteTime": {
     "end_time": "2021-03-24T11:08:28.984261Z",
     "start_time": "2021-03-24T11:08:28.971267Z"
    }
   },
   "outputs": [],
   "source": [
    "Iext=10.;   ENa=50.;   EK=-77.;   EL=-54.387\n",
    "C=1.0;      gNa=120.;  gK=36.;    gL=0.03"
   ]
  },
  {
   "cell_type": "code",
   "execution_count": 12,
   "id": "regular-kernel",
   "metadata": {
    "ExecuteTime": {
     "end_time": "2021-03-24T11:08:30.645360Z",
     "start_time": "2021-03-24T11:08:28.987259Z"
    }
   },
   "outputs": [
    {
     "data": {
      "text/plain": [
       "<matplotlib.legend.Legend at 0x2124b29b9c8>"
      ]
     },
     "execution_count": 12,
     "metadata": {},
     "output_type": "execute_result"
    },
    {
     "data": {
      "image/png": "[encoded data removed]",
      "text/plain": [
       "<Figure size 432x288 with 2 Axes>"
      ]
     },
     "metadata": {
      "needs_background": "light"
     },
     "output_type": "display_data"
    }
   ],
   "source": [
    "hist_times = np.arange(0, 100, integral.dt)\n",
    "hist_V, hist_m, hist_h, hist_n = [], [], [], []\n",
    "V, m, h, n = 0., 0., 0., 0.\n",
    "for t in hist_times:\n",
    "    V, m, h, n = integral(V, m, h, n, t, Iext, \n",
    "                  gNa, ENa, gK, EK, gL, EL, C)\n",
    "    hist_V.append(V)\n",
    "    hist_m.append(m)\n",
    "    hist_h.append(h)\n",
    "    hist_n.append(n)\n",
    "\n",
    "\n",
    "plt.subplot(211)\n",
    "plt.plot(hist_times, hist_V, label='V')\n",
    "plt.legend()\n",
    "plt.subplot(212)\n",
    "plt.plot(hist_times, hist_m, label='m')\n",
    "plt.plot(hist_times, hist_h, label='h')\n",
    "plt.plot(hist_times, hist_n, label='n')\n",
    "plt.legend()"
   ]
  },
  {
   "cell_type": "markdown",
   "id": "corrected-cream",
   "metadata": {},
   "source": [
    "## SDEs"
   ]
  },
  {
   "cell_type": "markdown",
   "id": "incoming-result",
   "metadata": {},
   "source": [
    "### How to define SDE functions?"
   ]
  },
  {
   "cell_type": "markdown",
   "id": "parental-rogers",
   "metadata": {},
   "source": [
    "For a one-dimensional stochastic differentiable equation (SDE) with scalar Wiener noise, it is given by\n",
    "\n",
    "$$\n",
    "\\begin{align}\n",
    "d X_{t}&=f\\left(X_{t}, t, p_1\\right) d t+g\\left(X_{t}, t, p_2\\right) d W_{t} \\quad (1)\n",
    "\\end{align}\n",
    "$$\n",
    "\n",
    "where $X_t = X(t)$ is the realization of a stochastic process or random variable, $f(X_t, t)$ is the drift coefficient, $g(X_t, t)$ denotes the diffusion coefficient, the stochastic process $W_t$ is called Wiener process. "
   ]
  },
  {
   "cell_type": "markdown",
   "id": "marine-pencil",
   "metadata": {},
   "source": [
    "For this SDE system, we can define two Python funtions $f$ and $g$ to represent it."
   ]
  },
  {
   "cell_type": "code",
   "execution_count": 13,
   "id": "skilled-continuity",
   "metadata": {
    "ExecuteTime": {
     "end_time": "2021-03-24T11:08:30.661294Z",
     "start_time": "2021-03-24T11:08:30.648269Z"
    }
   },
   "outputs": [],
   "source": [
    "def g_part(x, t, p1, p2):\n",
    "    dg = g(x, t, p2)\n",
    "    return dg\n",
    "\n",
    "def f_part(x, t, p1, p2):\n",
    "    df = f(x, t, p1)\n",
    "    return df"
   ]
  },
  {
   "cell_type": "markdown",
   "id": "worth-vertex",
   "metadata": {},
   "source": [
    "Same with the ODE functions, the arguments before $t$ denotes the random variables, while the arguments defined after $t$ represents the parameters.  For the SDE function with scalar noise, the size of the return data $dg$ and $df$ should be the same. For example, $df \\in R^d, dg \\in R^d$."
   ]
  },
  {
   "cell_type": "markdown",
   "id": "collect-connecticut",
   "metadata": {},
   "source": [
    "However, for a more general SDE system, it usually has multi-dimensional driving Wiener process:\n",
    "\n",
    "$$\n",
    "dX_t=f(X_t)dt+\\sum_{\\alpha=1}^{m}g_{\\alpha }(X_t)dW_t ^{\\alpha}\n",
    "$$\n",
    "\n",
    "For such $m$-dimensional noise system, the coding schema is the same with the scalar ones, but with the difference of that the data size of $dg$ has one more dimension. For example, $df \\in R^{d}, dg \\in R^{d \\times m}$."
   ]
  },
  {
   "cell_type": "markdown",
   "id": "human-virgin",
   "metadata": {},
   "source": [
    "### How to define the numerical integration for SDEs?"
   ]
  },
  {
   "cell_type": "markdown",
   "id": "numeric-success",
   "metadata": {},
   "source": [
    "Brefore the numerical integration of SDE functions, we should distinguish two kinds of SDE integrals. For the integration of system (1), we can get\n",
    "\n",
    "$$\n",
    "\\begin{align}\n",
    "X_{t}&=X_{t_{0}}+\\int_{t_{0}}^{t} f\\left(X_{s}, s\\right) d s+\\int_{t_{0}}^{t} g\\left(X_{s}, s\\right) d W_{s} \\quad (2)\n",
    "\\end{align}\n",
    "$$"
   ]
  },
  {
   "cell_type": "markdown",
   "id": "neutral-telescope",
   "metadata": {},
   "source": [
    "In 1940s, the Japanese mathematician K. Ito denoted a type of integral called *Ito stochastic integral*. In 1960s, the Russian physicist R. L. Stratonovich proposed an other kind of stochastic integral called *Stratonovich stochastic integral* and used the symbol \"$\\circ$\" to distinct it from the former Ito integral.\n",
    "\n",
    "$$\n",
    "\\begin{aligned}\n",
    "d X_{t} &=f\\left(X_{t}, t\\right) d t+g\\left(X_{t}, t\\right) \\circ d W_{t} \\\\\n",
    "X_{t} &=X_{t_{0}}+\\int_{t_{0}}^{t} f\\left(X_{s}, s\\right) d s+\\int_{t_{0}}^{t} g\\left(X_{s}, s\\right) \\circ d W_{s}  \\quad (3)\n",
    "\\end{aligned}\n",
    "$$"
   ]
  },
  {
   "cell_type": "markdown",
   "id": "classical-authority",
   "metadata": {},
   "source": [
    "The difference of Ito integral (2) and Stratonovich integral (3) lies at the second integral term, which can be written in a general form as\n",
    "\n",
    "$$\n",
    "\\begin{align}\n",
    "\\int_{t_{0}}^{t} g\\left(X_{s}, s\\right) d W_{s} &=\\lim _{h \\rightarrow 0} \\sum_{k=0}^{m-1} g\\left(X_{\\tau_{k}}, \\tau_{k}\\right)\\left(W\\left(t_{k+1}\\right)-W\\left(t_{k}\\right)\\right) \\\\\n",
    "\\mathrm{where} \\quad h &= t_{k+1} - t_{k} \\\\\n",
    "\\tau_k &= (1-\\lambda)t_k +\\lambda t_{k+1} \n",
    "\\end{align}\n",
    "$$\n",
    "\n",
    "- In the stochastic integral of the Ito SDE, $\\lambda=0$, thus $\\tau_k=t_k$; \n",
    "\n",
    "- In the definition of the Stratonovich integral, $\\lambda=0.5$, thus $\\tau_k=(t_{k+1} + t_{k}) / 2$."
   ]
  },
  {
   "cell_type": "markdown",
   "id": "japanese-chart",
   "metadata": {},
   "source": [
    "In BrainPy, these two different integrals can be easily implemented. What need the users do is to provide a keyword `sde_type` in decorator `bp.sdeint`. `sde_type` can be \"bp.STRA_SDE\" or \"bp.ITO_SDE\" (default). Also, the different type of Wiener process can also be easily distinguished by the `wiener_type` keyword. It can be \"bp.SCALAR_WIENER\"  (default) or \"bp.VECTOR_WIENER\"."
   ]
  },
  {
   "cell_type": "markdown",
   "id": "legislative-geography",
   "metadata": {},
   "source": [
    "Now, let's numerically integrate the SDE (1) by the Ito way with the Milstein method:"
   ]
  },
  {
   "cell_type": "code",
   "execution_count": 14,
   "id": "beginning-buying",
   "metadata": {
    "ExecuteTime": {
     "end_time": "2021-03-24T11:08:30.677270Z",
     "start_time": "2021-03-24T11:08:30.664263Z"
    }
   },
   "outputs": [],
   "source": [
    "def g_part(x, t, p1, p2):\n",
    "    dg = g(x, t, p2)\n",
    "    return dg  # shape=(d,)\n",
    "\n",
    "@bp.sdeint(g=g_part, method='milstein')\n",
    "def f_part(x, t, p1, p2):\n",
    "    df = f(x, t, p1)\n",
    "    return df  # shape=(d,)"
   ]
  },
  {
   "cell_type": "markdown",
   "id": "minimal-asthma",
   "metadata": {},
   "source": [
    "Or, it can be expressed as:"
   ]
  },
  {
   "cell_type": "code",
   "execution_count": 15,
   "id": "casual-architecture",
   "metadata": {
    "ExecuteTime": {
     "end_time": "2021-03-24T11:08:30.708260Z",
     "start_time": "2021-03-24T11:08:30.680263Z"
    }
   },
   "outputs": [],
   "source": [
    "def g_part(x, t, p1, p2):\n",
    "    dg = g(x, t, p2)\n",
    "    return dg  # shape=(d,)\n",
    "\n",
    "def f_part(x, t, p1, p2):\n",
    "    df = f(x, t, p1)\n",
    "    return df  # shape=(d,)\n",
    "\n",
    "integral = bp.sdeint(f=f_part, g=g_part, method='milstein')"
   ]
  },
  {
   "cell_type": "markdown",
   "id": "willing-clear",
   "metadata": {},
   "source": [
    "However, if you try to numerically integrate the SDE with multi-dimensional Wiener process by the Stratonovich ways, you can code it like this:"
   ]
  },
  {
   "cell_type": "code",
   "execution_count": 16,
   "id": "ready-conspiracy",
   "metadata": {
    "ExecuteTime": {
     "end_time": "2021-03-24T11:08:30.739259Z",
     "start_time": "2021-03-24T11:08:30.712276Z"
    }
   },
   "outputs": [],
   "source": [
    "def g_part(x, t, p1, p2):\n",
    "    dg = g(x, t, p2)\n",
    "    return dg  # shape=(d, m)\n",
    "\n",
    "def f_part(x, t, p1, p2):\n",
    "    df = f(x, t, p1)\n",
    "    return df  # shape=(d,)\n",
    "\n",
    "integral = bp.sdeint(f=f_part, g=g_part, method='milstein', \n",
    "                     sde_type=bp.STRA_SDE, \n",
    "                     wiener_type=bp.SCALAR_WIENER)"
   ]
  },
  {
   "cell_type": "markdown",
   "id": "challenging-rental",
   "metadata": {},
   "source": [
    "### Example 3: Noisy Lorenz system"
   ]
  },
  {
   "cell_type": "markdown",
   "id": "stretch-heaven",
   "metadata": {},
   "source": [
    "Here, let's demenstrate how to define a numerical solver for SDEs with the famous [Lorenz system](https://en.wikipedia.org/wiki/Lorenz_system): \n",
    "\n",
    "$$\n",
    "\\begin{array}{l}\n",
    "\\frac{d x}{dt}&=\\sigma(y-x) &+ px*\\xi_x \\\\\n",
    "\\frac{d y}{dt}&=x(\\rho-z)-y &+ py*\\xi_y\\\\\n",
    "\\frac{d z}{dt}&=x y-\\beta z &+ pz*\\xi_z\n",
    "\\end{array}\n",
    "$$"
   ]
  },
  {
   "cell_type": "code",
   "execution_count": 17,
   "id": "checked-greece",
   "metadata": {
    "ExecuteTime": {
     "end_time": "2021-03-24T11:08:30.755264Z",
     "start_time": "2021-03-24T11:08:30.742270Z"
    }
   },
   "outputs": [],
   "source": [
    "sigma = 10\n",
    "beta = 8 / 3\n",
    "rho = 28\n",
    "p = 0.1\n",
    "\n",
    "def lorenz_g(x, y, z, t):\n",
    "    return p * x, p * y, p * z\n",
    "\n",
    "def lorenz_f(x, y, z, t):\n",
    "    dx = sigma * (y - x)\n",
    "    dy = x * (rho - z) - y\n",
    "    dz = x * y - beta * z\n",
    "    return dx, dy, dz\n",
    "\n",
    "lorenz = bp.sdeint(f=lorenz_f, g=lorenz_g, sde_type=bp.ITO_SDE, wiener_type=bp.SCALAR_WIENER, dt=0.005)"
   ]
  },
  {
   "cell_type": "code",
   "execution_count": 19,
   "id": "thick-threat",
   "metadata": {
    "ExecuteTime": {
     "end_time": "2021-03-24T11:08:39.075036Z",
     "start_time": "2021-03-24T11:08:38.687662Z"
    },
    "scrolled": true
   },
   "outputs": [
    {
     "data": {
      "text/plain": [
       "Text(0.5, 0, 'z')"
      ]
     },
     "execution_count": 19,
     "metadata": {},
     "output_type": "execute_result"
    },
    {
     "data": {
      "image/png": "[encoded data removed]",
      "text/plain": [
       "<Figure size 432x288 with 1 Axes>"
      ]
     },
     "metadata": {
      "needs_background": "light"
     },
     "output_type": "display_data"
    }
   ],
   "source": [
    "hist_times = np.arange(0, 50, lorenz.dt)\n",
    "hist_x, hist_y, hist_z = [], [], []\n",
    "x, y, z = 1., 1., 1.\n",
    "for t in hist_times:\n",
    "    x, y, z = lorenz(x, y, z, t)\n",
    "    hist_x.append(x)\n",
    "    hist_y.append(y)\n",
    "    hist_z.append(z)\n",
    "\n",
    "fig = plt.figure()\n",
    "ax = plt.axes(projection='3d')\n",
    "ax.plot3D(hist_x, hist_y, hist_z)\n",
    "ax.set_xlabel('x')\n",
    "ax.set_xlabel('y')\n",
    "ax.set_xlabel('z')"
   ]
  },
  {
   "cell_type": "markdown",
   "id": "industrial-specific",
   "metadata": {},
   "source": [
    "## Backend-independent Property"
   ]
  },
  {
   "cell_type": "markdown",
   "id": "theoretical-beach",
   "metadata": {},
   "source": [
    "Actually, BrainPy provides general numerical solvers for user-defined differential equations. It is backend-independent. Users can define their differential equations with any computation backend they prefer, such as NumPy, PyTorch, TensorFlow, Jax. The only thing need to do is to provide the necessary operations to `brainpy.backend`. For the needed operations, you can inspect them by "
   ]
  },
  {
   "cell_type": "code",
   "execution_count": 20,
   "id": "loved-motion",
   "metadata": {
    "ExecuteTime": {
     "end_time": "2021-03-24T12:27:00.911802Z",
     "start_time": "2021-03-24T12:27:00.865495Z"
    }
   },
   "outputs": [
    {
     "data": {
      "text/plain": [
       "['normal',\n",
       " 'exp',\n",
       " 'matmul',\n",
       " 'sum',\n",
       " 'as_tensor',\n",
       " 'zeros',\n",
       " 'ones',\n",
       " 'arange',\n",
       " 'eye',\n",
       " 'vstack',\n",
       " 'reshape',\n",
       " 'shape']"
      ]
     },
     "execution_count": 20,
     "metadata": {},
     "output_type": "execute_result"
    }
   ],
   "source": [
    "bp.backend.NEEDED_OPS"
   ]
  },
  {
   "cell_type": "markdown",
   "id": "divine-pakistan",
   "metadata": {},
   "source": [
    "After you define the necessary functions, you need to register them by `bp.backend.set_ops(**kwargs)`. Or, you can put all these functions into a \".py\" file, then import this python script as a module and set `bp.backend.set_ops_from_module(module)`."
   ]
  },
  {
   "cell_type": "markdown",
   "id": "local-development",
   "metadata": {},
   "source": [
    "Currently, BrainPy inherently supports NumPy, Numba, PyTorch, TensorFlow. You can easily switch backend just by typing `bp.backend.set()`. For example,"
   ]
  },
  {
   "cell_type": "code",
   "execution_count": 21,
   "id": "protecting-stations",
   "metadata": {
    "ExecuteTime": {
     "end_time": "2021-03-24T12:36:39.156532Z",
     "start_time": "2021-03-24T12:36:39.140568Z"
    }
   },
   "outputs": [],
   "source": [
    "bp.backend.set('numpy')"
   ]
  },
  {
   "cell_type": "markdown",
   "id": "rolled-shopper",
   "metadata": {},
   "source": [
    "switch the backend to NumPy."
   ]
  },
  {
   "cell_type": "code",
   "execution_count": 22,
   "id": "natural-treaty",
   "metadata": {
    "ExecuteTime": {
     "end_time": "2021-03-24T12:36:40.646506Z",
     "start_time": "2021-03-24T12:36:40.528169Z"
    }
   },
   "outputs": [],
   "source": [
    "bp.backend.set('numba')"
   ]
  },
  {
   "cell_type": "markdown",
   "id": "choice-circulation",
   "metadata": {
    "ExecuteTime": {
     "end_time": "2021-03-24T12:36:42.284988Z",
     "start_time": "2021-03-24T12:36:42.258984Z"
    }
   },
   "source": [
    "switch the backend to Numba."
   ]
  },
  {
   "cell_type": "code",
   "execution_count": 24,
   "id": "sustained-builder",
   "metadata": {
    "ExecuteTime": {
     "end_time": "2021-03-24T12:36:51.150318Z",
     "start_time": "2021-03-24T12:36:49.517904Z"
    }
   },
   "outputs": [],
   "source": [
    "bp.backend.set('pytorch')"
   ]
  },
  {
   "cell_type": "markdown",
   "id": "advisory-upper",
   "metadata": {},
   "source": [
    "switch the backend to pytorch."
   ]
  }
 ],
 "metadata": {
  "hide_input": false,
  "kernelspec": {
   "display_name": "Python 3",
   "language": "python",
   "name": "python3"
  },
  "language_info": {
   "codemirror_mode": {
    "name": "ipython",
    "version": 3
   },
   "file_extension": ".py",
   "mimetype": "text/x-python",
   "name": "python",
   "nbconvert_exporter": "python",
   "pygments_lexer": "ipython3",
   "version": "3.7.9"
  },
  "toc": {
   "base_numbering": 1,
   "nav_menu": {
    "height": "265px",
    "width": "436px"
   },
   "number_sections": false,
   "sideBar": true,
   "skip_h1_title": false,
   "title_cell": "Table of Contents",
   "title_sidebar": "Contents",
   "toc_cell": false,
   "toc_position": {},
   "toc_section_display": true,
   "toc_window_display": false
  },
  "varInspector": {
   "cols": {
    "lenName": 16,
    "lenType": 16,
    "lenVar": 40
   },
   "kernels_config": {
    "python": {
     "delete_cmd_postfix": "",
     "delete_cmd_prefix": "del ",
     "library": "var_list.py",
     "varRefreshCmd": "print(var_dic_list())"
    },
    "r": {
     "delete_cmd_postfix": ") ",
     "delete_cmd_prefix": "rm(",
     "library": "var_list.r",
     "varRefreshCmd": "cat(var_dic_list()) "
    }
   },
   "types_to_exclude": [
    "module",
    "function",
    "builtin_function_or_method",
    "instance",
    "_Feature"
   ],
   "window_display": false
  }
 },
 "nbformat": 4,
 "nbformat_minor": 5
}
