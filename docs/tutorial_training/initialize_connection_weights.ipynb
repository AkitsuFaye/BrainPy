{
 "cells": [
  {
   "cell_type": "markdown",
   "id": "d67d4fa4",
   "metadata": {},
   "source": [
    "# Initialize Connection Weights"
   ]
  },
  {
   "cell_type": "markdown",
   "id": "d579e1e5",
   "metadata": {},
   "source": [
    "After a neural network is constructed, the connection weights of different layers should be initialized. The ``brainpy.training.initialize`` module provides some build-in initializers. Besides, users can customize the initializers of their own. Here we will briefly talk about how to use these build-in initializers and how to create customized initializers."
   ]
  },
  {
   "cell_type": "markdown",
   "id": "f82d6846",
   "metadata": {},
   "source": [
    "**Contents**\n",
    "\n",
    "- [General structure of initializers](#General-structure-of-initializers)\n",
    "- [Build-in regular initializers](#Build-in-regular-initializers)\n",
    "- [Build-in random initializers](#Build-in-random-initializers)\n",
    "- [Build-in decay initializers](#Build-in-decay-initializers)\n",
    "- [Customize your initializers](#Customize-your-initializers)"
   ]
  },
  {
   "cell_type": "markdown",
   "id": "2f48218a",
   "metadata": {},
   "source": [
    "## General structure of initializers"
   ]
  },
  {
   "cell_type": "markdown",
   "id": "804f757f",
   "metadata": {},
   "source": [
    "### Base Class: bp.init.Initializer"
   ]
  },
  {
   "cell_type": "markdown",
   "id": "456657ed",
   "metadata": {},
   "source": [
    "Initializers initialize the coonection weights between two groups of neurons (though they can refer to the same group). The base class of initializers are [`brainpy.training.initialize.Initializer`](../apis/auto/training/initialize.rst), which can be accessed by the shortcut `bp.init`. All initializers, build-in or costumized, should inherit the `Initializer` class. \n",
    "\n",
    "Weight initialization is implemented in the `__call__` function, so that it can be realized automatically when the initializer is called. The `__call__` function has a `shape` parameter that has different meanings in the following two superclasses and returns a matrix containing initialized weights."
   ]
  },
  {
   "cell_type": "code",
   "execution_count": 2,
   "id": "bde31457",
   "metadata": {},
   "outputs": [
    {
     "ename": "ImportError",
     "evalue": "ImportError: DLL load failed while importing _fblas: 找不到指定的模块。\n\nAt:\n  D:\\Users\\XiaoyuChen\\anaconda3\\lib\\site-packages\\scipy\\linalg\\blas.py(213): <module>\n  <frozen importlib._bootstrap>(219): _call_with_frames_removed\n  <frozen importlib._bootstrap_external>(783): exec_module\n  <frozen importlib._bootstrap>(686): _load_unlocked\n  <frozen importlib._bootstrap>(975): _find_and_load_unlocked\n  <frozen importlib._bootstrap>(991): _find_and_load\n  D:\\Users\\XiaoyuChen\\anaconda3\\lib\\site-packages\\scipy\\linalg\\misc.py(3): <module>\n  <frozen importlib._bootstrap>(219): _call_with_frames_removed\n  <frozen importlib._bootstrap_external>(783): exec_module\n  <frozen importlib._bootstrap>(686): _load_unlocked\n  <frozen importlib._bootstrap>(975): _find_and_load_unlocked\n  <frozen importlib._bootstrap>(991): _find_and_load\n  D:\\Users\\XiaoyuChen\\anaconda3\\lib\\site-packages\\scipy\\linalg\\__init__.py(195): <module>\n  <frozen importlib._bootstrap>(219): _call_with_frames_removed\n  <frozen importlib._bootstrap_external>(783): exec_module\n  <frozen importlib._bootstrap>(686): _load_unlocked\n  <frozen importlib._bootstrap>(975): _find_and_load_unlocked\n  <frozen importlib._bootstrap>(991): _find_and_load\n  <frozen importlib._bootstrap>(219): _call_with_frames_removed\n  <frozen importlib._bootstrap>(961): _find_and_load_unlocked\n  <frozen importlib._bootstrap>(991): _find_and_load\n  <frozen importlib._bootstrap>(219): _call_with_frames_removed\n  <frozen importlib._bootstrap_external>(1101): create_module\n  <frozen importlib._bootstrap>(556): module_from_spec\n  <frozen importlib._bootstrap>(657): _load_unlocked\n  <frozen importlib._bootstrap>(975): _find_and_load_unlocked\n  <frozen importlib._bootstrap>(991): _find_and_load\n  <frozen importlib._bootstrap>(219): _call_with_frames_removed\n  <frozen importlib._bootstrap>(1042): _handle_fromlist\n  D:\\Users\\XiaoyuChen\\anaconda3\\lib\\site-packages\\jaxlib\\lapack.py(21): <module>\n  <frozen importlib._bootstrap>(219): _call_with_frames_removed\n  <frozen importlib._bootstrap_external>(783): exec_module\n  <frozen importlib._bootstrap>(671): _load_unlocked\n  <frozen importlib._bootstrap>(975): _find_and_load_unlocked\n  <frozen importlib._bootstrap>(991): _find_and_load\n  D:\\Users\\XiaoyuChen\\anaconda3\\lib\\site-packages\\jax\\_src\\lib\\__init__.py(75): <module>\n  <frozen importlib._bootstrap>(219): _call_with_frames_removed\n  <frozen importlib._bootstrap_external>(783): exec_module\n  <frozen importlib._bootstrap>(671): _load_unlocked\n  <frozen importlib._bootstrap>(975): _find_and_load_unlocked\n  <frozen importlib._bootstrap>(991): _find_and_load\n  <frozen importlib._bootstrap>(219): _call_with_frames_removed\n  <frozen importlib._bootstrap>(1042): _handle_fromlist\n  D:\\Users\\XiaoyuChen\\anaconda3\\lib\\site-packages\\jax\\_src\\config.py(27): <module>\n  <frozen importlib._bootstrap>(219): _call_with_frames_removed\n  <frozen importlib._bootstrap_external>(783): exec_module\n  <frozen importlib._bootstrap>(671): _load_unlocked\n  <frozen importlib._bootstrap>(975): _find_and_load_unlocked\n  <frozen importlib._bootstrap>(991): _find_and_load\n  D:\\Users\\XiaoyuChen\\anaconda3\\lib\\site-packages\\jax\\config.py(18): <module>\n  <frozen importlib._bootstrap>(219): _call_with_frames_removed\n  <frozen importlib._bootstrap_external>(783): exec_module\n  <frozen importlib._bootstrap>(671): _load_unlocked\n  <frozen importlib._bootstrap>(975): _find_and_load_unlocked\n  <frozen importlib._bootstrap>(991): _find_and_load\n  <frozen importlib._bootstrap>(219): _call_with_frames_removed\n  <frozen importlib._bootstrap>(1042): _handle_fromlist\n  D:\\Users\\XiaoyuChen\\anaconda3\\lib\\site-packages\\jax\\__init__.py(37): <module>\n  <frozen importlib._bootstrap>(219): _call_with_frames_removed\n  <frozen importlib._bootstrap_external>(783): exec_module\n  <frozen importlib._bootstrap>(671): _load_unlocked\n  <frozen importlib._bootstrap>(975): _find_and_load_unlocked\n  <frozen importlib._bootstrap>(991): _find_and_load\n  D:\\Users\\XiaoyuChen\\anaconda3\\lib\\site-packages\\brain_py-2.0.0-py3.8.egg\\brainpy\\base\\collector.py(4): <module>\n  <frozen importlib._bootstrap>(219): _call_with_frames_removed\n  <frozen importlib._bootstrap_external>(783): exec_module\n  <frozen importlib._bootstrap>(671): _load_unlocked\n  <frozen importlib._bootstrap>(975): _find_and_load_unlocked\n  <frozen importlib._bootstrap>(991): _find_and_load\n  D:\\Users\\XiaoyuChen\\anaconda3\\lib\\site-packages\\brain_py-2.0.0-py3.8.egg\\brainpy\\base\\base.py(8): <module>\n  <frozen importlib._bootstrap>(219): _call_with_frames_removed\n  <frozen importlib._bootstrap_external>(783): exec_module\n  <frozen importlib._bootstrap>(671): _load_unlocked\n  <frozen importlib._bootstrap>(975): _find_and_load_unlocked\n  <frozen importlib._bootstrap>(991): _find_and_load\n  D:\\Users\\XiaoyuChen\\anaconda3\\lib\\site-packages\\brain_py-2.0.0-py3.8.egg\\brainpy\\base\\__init__.py(21): <module>\n  <frozen importlib._bootstrap>(219): _call_with_frames_removed\n  <frozen importlib._bootstrap_external>(783): exec_module\n  <frozen importlib._bootstrap>(671): _load_unlocked\n  <frozen importlib._bootstrap>(975): _find_and_load_unlocked\n  <frozen importlib._bootstrap>(991): _find_and_load\n  <frozen importlib._bootstrap>(219): _call_with_frames_removed\n  <frozen importlib._bootstrap>(1042): _handle_fromlist\n  D:\\Users\\XiaoyuChen\\anaconda3\\lib\\site-packages\\brain_py-2.0.0-py3.8.egg\\brainpy\\__init__.py(7): <module>\n  <frozen importlib._bootstrap>(219): _call_with_frames_removed\n  <frozen importlib._bootstrap_external>(783): exec_module\n  <frozen importlib._bootstrap>(671): _load_unlocked\n  <frozen importlib._bootstrap>(975): _find_and_load_unlocked\n  <frozen importlib._bootstrap>(991): _find_and_load\n  <ipython-input-2-7fc46dd2d3ca>(1): <module>\n  D:\\Users\\XiaoyuChen\\anaconda3\\lib\\site-packages\\IPython\\core\\interactiveshell.py(3437): run_code\n  D:\\Users\\XiaoyuChen\\anaconda3\\lib\\site-packages\\IPython\\core\\interactiveshell.py(3357): run_ast_nodes\n  D:\\Users\\XiaoyuChen\\anaconda3\\lib\\site-packages\\IPython\\core\\interactiveshell.py(3165): run_cell_async\n  D:\\Users\\XiaoyuChen\\anaconda3\\lib\\site-packages\\IPython\\core\\async_helpers.py(68): _pseudo_sync_runner\n  D:\\Users\\XiaoyuChen\\anaconda3\\lib\\site-packages\\IPython\\core\\interactiveshell.py(2940): _run_cell\n  D:\\Users\\XiaoyuChen\\anaconda3\\lib\\site-packages\\IPython\\core\\interactiveshell.py(2894): run_cell\n  D:\\Users\\XiaoyuChen\\anaconda3\\lib\\site-packages\\ipykernel\\zmqshell.py(536): run_cell\n  D:\\Users\\XiaoyuChen\\anaconda3\\lib\\site-packages\\ipykernel\\ipkernel.py(306): do_execute\n  D:\\Users\\XiaoyuChen\\anaconda3\\lib\\site-packages\\tornado\\gen.py(234): wrapper\n  D:\\Users\\XiaoyuChen\\anaconda3\\lib\\site-packages\\ipykernel\\kernelbase.py(543): execute_request\n  D:\\Users\\XiaoyuChen\\anaconda3\\lib\\site-packages\\tornado\\gen.py(234): wrapper\n  D:\\Users\\XiaoyuChen\\anaconda3\\lib\\site-packages\\ipykernel\\kernelbase.py(268): dispatch_shell\n  D:\\Users\\XiaoyuChen\\anaconda3\\lib\\site-packages\\tornado\\gen.py(234): wrapper\n  D:\\Users\\XiaoyuChen\\anaconda3\\lib\\site-packages\\ipykernel\\kernelbase.py(365): process_one\n  D:\\Users\\XiaoyuChen\\anaconda3\\lib\\site-packages\\tornado\\gen.py(775): run\n  D:\\Users\\XiaoyuChen\\anaconda3\\lib\\site-packages\\tornado\\gen.py(814): inner\n  D:\\Users\\XiaoyuChen\\anaconda3\\lib\\site-packages\\tornado\\ioloop.py(741): _run_callback\n  D:\\Users\\XiaoyuChen\\anaconda3\\lib\\site-packages\\tornado\\ioloop.py(688): <lambda>\n  D:\\Users\\XiaoyuChen\\anaconda3\\lib\\asyncio\\events.py(81): _run\n  D:\\Users\\XiaoyuChen\\anaconda3\\lib\\asyncio\\base_events.py(1859): _run_once\n  D:\\Users\\XiaoyuChen\\anaconda3\\lib\\asyncio\\base_events.py(570): run_forever\n  D:\\Users\\XiaoyuChen\\anaconda3\\lib\\site-packages\\tornado\\platform\\asyncio.py(199): start\n  D:\\Users\\XiaoyuChen\\anaconda3\\lib\\site-packages\\ipykernel\\kernelapp.py(612): start\n  D:\\Users\\XiaoyuChen\\anaconda3\\lib\\site-packages\\traitlets\\config\\application.py(845): launch_instance\n  D:\\Users\\XiaoyuChen\\anaconda3\\lib\\site-packages\\ipykernel_launcher.py(16): <module>\n  D:\\Users\\XiaoyuChen\\anaconda3\\lib\\runpy.py(87): _run_code\n  D:\\Users\\XiaoyuChen\\anaconda3\\lib\\runpy.py(194): _run_module_as_main\n",
     "output_type": "error",
     "traceback": [
      "\u001b[1;31m---------------------------------------------------------------------------\u001b[0m",
      "\u001b[1;31mImportError\u001b[0m                               Traceback (most recent call last)",
      "\u001b[1;32m<ipython-input-2-7fc46dd2d3ca>\u001b[0m in \u001b[0;36m<module>\u001b[1;34m\u001b[0m\n\u001b[1;32m----> 1\u001b[1;33m \u001b[1;32mimport\u001b[0m \u001b[0mbrainpy\u001b[0m \u001b[1;32mas\u001b[0m \u001b[0mbp\u001b[0m\u001b[1;33m\u001b[0m\u001b[1;33m\u001b[0m\u001b[0m\n\u001b[0m\u001b[0;32m      2\u001b[0m \u001b[1;31m# bp.training.initialize can be accessed by bp.init\u001b[0m\u001b[1;33m\u001b[0m\u001b[1;33m\u001b[0m\u001b[1;33m\u001b[0m\u001b[0m\n",
      "\u001b[1;32mD:\\Users\\XiaoyuChen\\anaconda3\\lib\\site-packages\\brain_py-2.0.0-py3.8.egg\\brainpy\\__init__.py\u001b[0m in \u001b[0;36m<module>\u001b[1;34m\u001b[0m\n\u001b[0;32m      5\u001b[0m \u001b[1;33m\u001b[0m\u001b[0m\n\u001b[0;32m      6\u001b[0m \u001b[1;31m# \"base\" module\u001b[0m\u001b[1;33m\u001b[0m\u001b[1;33m\u001b[0m\u001b[1;33m\u001b[0m\u001b[0m\n\u001b[1;32m----> 7\u001b[1;33m \u001b[1;32mfrom\u001b[0m \u001b[1;33m.\u001b[0m \u001b[1;32mimport\u001b[0m \u001b[0mbase\u001b[0m\u001b[1;33m\u001b[0m\u001b[1;33m\u001b[0m\u001b[0m\n\u001b[0m\u001b[0;32m      8\u001b[0m \u001b[1;32mfrom\u001b[0m \u001b[1;33m.\u001b[0m\u001b[0mbase\u001b[0m\u001b[1;33m.\u001b[0m\u001b[0mbase\u001b[0m \u001b[1;32mimport\u001b[0m \u001b[0mBase\u001b[0m\u001b[1;33m\u001b[0m\u001b[1;33m\u001b[0m\u001b[0m\n\u001b[0;32m      9\u001b[0m \u001b[1;32mfrom\u001b[0m \u001b[1;33m.\u001b[0m\u001b[0mbase\u001b[0m\u001b[1;33m.\u001b[0m\u001b[0mcollector\u001b[0m \u001b[1;32mimport\u001b[0m \u001b[0mCollector\u001b[0m\u001b[1;33m,\u001b[0m \u001b[0mTensorCollector\u001b[0m\u001b[1;33m\u001b[0m\u001b[1;33m\u001b[0m\u001b[0m\n",
      "\u001b[1;32mD:\\Users\\XiaoyuChen\\anaconda3\\lib\\site-packages\\brain_py-2.0.0-py3.8.egg\\brainpy\\base\\__init__.py\u001b[0m in \u001b[0;36m<module>\u001b[1;34m\u001b[0m\n\u001b[0;32m     19\u001b[0m \"\"\"\n\u001b[0;32m     20\u001b[0m \u001b[1;33m\u001b[0m\u001b[0m\n\u001b[1;32m---> 21\u001b[1;33m \u001b[1;32mfrom\u001b[0m \u001b[0mbrainpy\u001b[0m\u001b[1;33m.\u001b[0m\u001b[0mbase\u001b[0m\u001b[1;33m.\u001b[0m\u001b[0mbase\u001b[0m \u001b[1;32mimport\u001b[0m \u001b[1;33m*\u001b[0m\u001b[1;33m\u001b[0m\u001b[1;33m\u001b[0m\u001b[0m\n\u001b[0m\u001b[0;32m     22\u001b[0m \u001b[1;32mfrom\u001b[0m \u001b[0mbrainpy\u001b[0m\u001b[1;33m.\u001b[0m\u001b[0mbase\u001b[0m\u001b[1;33m.\u001b[0m\u001b[0mcollector\u001b[0m \u001b[1;32mimport\u001b[0m \u001b[1;33m*\u001b[0m\u001b[1;33m\u001b[0m\u001b[1;33m\u001b[0m\u001b[0m\n\u001b[0;32m     23\u001b[0m \u001b[1;32mfrom\u001b[0m \u001b[0mbrainpy\u001b[0m\u001b[1;33m.\u001b[0m\u001b[0mbase\u001b[0m\u001b[1;33m.\u001b[0m\u001b[0mfunction\u001b[0m \u001b[1;32mimport\u001b[0m \u001b[1;33m*\u001b[0m\u001b[1;33m\u001b[0m\u001b[1;33m\u001b[0m\u001b[0m\n",
      "\u001b[1;32mD:\\Users\\XiaoyuChen\\anaconda3\\lib\\site-packages\\brain_py-2.0.0-py3.8.egg\\brainpy\\base\\base.py\u001b[0m in \u001b[0;36m<module>\u001b[1;34m\u001b[0m\n\u001b[0;32m      6\u001b[0m \u001b[1;32mfrom\u001b[0m \u001b[0mbrainpy\u001b[0m \u001b[1;32mimport\u001b[0m \u001b[0merrors\u001b[0m\u001b[1;33m\u001b[0m\u001b[1;33m\u001b[0m\u001b[0m\n\u001b[0;32m      7\u001b[0m \u001b[1;32mfrom\u001b[0m \u001b[0mbrainpy\u001b[0m\u001b[1;33m.\u001b[0m\u001b[0mtools\u001b[0m \u001b[1;32mimport\u001b[0m \u001b[0mnamechecking\u001b[0m\u001b[1;33m\u001b[0m\u001b[1;33m\u001b[0m\u001b[0m\n\u001b[1;32m----> 8\u001b[1;33m \u001b[1;32mfrom\u001b[0m \u001b[0mbrainpy\u001b[0m\u001b[1;33m.\u001b[0m\u001b[0mbase\u001b[0m\u001b[1;33m.\u001b[0m\u001b[0mcollector\u001b[0m \u001b[1;32mimport\u001b[0m \u001b[0mCollector\u001b[0m\u001b[1;33m,\u001b[0m \u001b[0mTensorCollector\u001b[0m\u001b[1;33m\u001b[0m\u001b[1;33m\u001b[0m\u001b[0m\n\u001b[0m\u001b[0;32m      9\u001b[0m \u001b[1;32mfrom\u001b[0m \u001b[0mbrainpy\u001b[0m\u001b[1;33m.\u001b[0m\u001b[0mbase\u001b[0m \u001b[1;32mimport\u001b[0m \u001b[0mio\u001b[0m\u001b[1;33m\u001b[0m\u001b[1;33m\u001b[0m\u001b[0m\n\u001b[0;32m     10\u001b[0m \u001b[1;33m\u001b[0m\u001b[0m\n",
      "\u001b[1;32mD:\\Users\\XiaoyuChen\\anaconda3\\lib\\site-packages\\brain_py-2.0.0-py3.8.egg\\brainpy\\base\\collector.py\u001b[0m in \u001b[0;36m<module>\u001b[1;34m\u001b[0m\n\u001b[0;32m      2\u001b[0m \u001b[1;33m\u001b[0m\u001b[0m\n\u001b[0;32m      3\u001b[0m \u001b[1;33m\u001b[0m\u001b[0m\n\u001b[1;32m----> 4\u001b[1;33m \u001b[1;32mimport\u001b[0m \u001b[0mjax\u001b[0m\u001b[1;33m\u001b[0m\u001b[1;33m\u001b[0m\u001b[0m\n\u001b[0m\u001b[0;32m      5\u001b[0m \u001b[1;32mimport\u001b[0m \u001b[0mjax\u001b[0m\u001b[1;33m.\u001b[0m\u001b[0mnumpy\u001b[0m \u001b[1;32mas\u001b[0m \u001b[0mjnp\u001b[0m\u001b[1;33m\u001b[0m\u001b[1;33m\u001b[0m\u001b[0m\n\u001b[0;32m      6\u001b[0m \u001b[1;32mfrom\u001b[0m \u001b[0mcontextlib\u001b[0m \u001b[1;32mimport\u001b[0m \u001b[0mcontextmanager\u001b[0m\u001b[1;33m\u001b[0m\u001b[1;33m\u001b[0m\u001b[0m\n",
      "\u001b[1;32mD:\\Users\\XiaoyuChen\\anaconda3\\lib\\site-packages\\jax\\__init__.py\u001b[0m in \u001b[0;36m<module>\u001b[1;34m\u001b[0m\n\u001b[0;32m     35\u001b[0m \u001b[1;31m# We want the exported object to be the class, so we first import the module\u001b[0m\u001b[1;33m\u001b[0m\u001b[1;33m\u001b[0m\u001b[1;33m\u001b[0m\u001b[0m\n\u001b[0;32m     36\u001b[0m \u001b[1;31m# to make sure a later import doesn't overwrite the class.\u001b[0m\u001b[1;33m\u001b[0m\u001b[1;33m\u001b[0m\u001b[1;33m\u001b[0m\u001b[0m\n\u001b[1;32m---> 37\u001b[1;33m \u001b[1;32mfrom\u001b[0m \u001b[1;33m.\u001b[0m \u001b[1;32mimport\u001b[0m \u001b[0mconfig\u001b[0m \u001b[1;32mas\u001b[0m \u001b[0m_config_module\u001b[0m\u001b[1;33m\u001b[0m\u001b[1;33m\u001b[0m\u001b[0m\n\u001b[0m\u001b[0;32m     38\u001b[0m \u001b[1;32mdel\u001b[0m \u001b[0m_config_module\u001b[0m\u001b[1;33m\u001b[0m\u001b[1;33m\u001b[0m\u001b[0m\n\u001b[0;32m     39\u001b[0m \u001b[1;33m\u001b[0m\u001b[0m\n",
      "\u001b[1;32mD:\\Users\\XiaoyuChen\\anaconda3\\lib\\site-packages\\jax\\config.py\u001b[0m in \u001b[0;36m<module>\u001b[1;34m\u001b[0m\n\u001b[0;32m     16\u001b[0m \u001b[1;33m\u001b[0m\u001b[0m\n\u001b[0;32m     17\u001b[0m \u001b[1;31m# flake8: noqa: F401\u001b[0m\u001b[1;33m\u001b[0m\u001b[1;33m\u001b[0m\u001b[1;33m\u001b[0m\u001b[0m\n\u001b[1;32m---> 18\u001b[1;33m \u001b[1;32mfrom\u001b[0m \u001b[0mjax\u001b[0m\u001b[1;33m.\u001b[0m\u001b[0m_src\u001b[0m\u001b[1;33m.\u001b[0m\u001b[0mconfig\u001b[0m \u001b[1;32mimport\u001b[0m \u001b[0mconfig\u001b[0m\u001b[1;33m\u001b[0m\u001b[1;33m\u001b[0m\u001b[0m\n\u001b[0m",
      "\u001b[1;32mD:\\Users\\XiaoyuChen\\anaconda3\\lib\\site-packages\\jax\\_src\\config.py\u001b[0m in \u001b[0;36m<module>\u001b[1;34m\u001b[0m\n\u001b[0;32m     25\u001b[0m \u001b[1;32mimport\u001b[0m \u001b[0mwarnings\u001b[0m\u001b[1;33m\u001b[0m\u001b[1;33m\u001b[0m\u001b[0m\n\u001b[0;32m     26\u001b[0m \u001b[1;33m\u001b[0m\u001b[0m\n\u001b[1;32m---> 27\u001b[1;33m \u001b[1;32mfrom\u001b[0m \u001b[0mjax\u001b[0m\u001b[1;33m.\u001b[0m\u001b[0m_src\u001b[0m \u001b[1;32mimport\u001b[0m \u001b[0mlib\u001b[0m\u001b[1;33m\u001b[0m\u001b[1;33m\u001b[0m\u001b[0m\n\u001b[0m\u001b[0;32m     28\u001b[0m \u001b[1;32mfrom\u001b[0m \u001b[0mjax\u001b[0m\u001b[1;33m.\u001b[0m\u001b[0m_src\u001b[0m\u001b[1;33m.\u001b[0m\u001b[0mlib\u001b[0m \u001b[1;32mimport\u001b[0m \u001b[0mjax_jit\u001b[0m\u001b[1;33m\u001b[0m\u001b[1;33m\u001b[0m\u001b[0m\n\u001b[0;32m     29\u001b[0m \u001b[1;33m\u001b[0m\u001b[0m\n",
      "\u001b[1;32mD:\\Users\\XiaoyuChen\\anaconda3\\lib\\site-packages\\jax\\_src\\lib\\__init__.py\u001b[0m in \u001b[0;36m<module>\u001b[1;34m\u001b[0m\n\u001b[0;32m     73\u001b[0m \u001b[1;33m\u001b[0m\u001b[0m\n\u001b[0;32m     74\u001b[0m \u001b[1;32mimport\u001b[0m \u001b[0mjaxlib\u001b[0m\u001b[1;33m.\u001b[0m\u001b[0mxla_client\u001b[0m \u001b[1;32mas\u001b[0m \u001b[0mxla_client\u001b[0m\u001b[1;33m\u001b[0m\u001b[1;33m\u001b[0m\u001b[0m\n\u001b[1;32m---> 75\u001b[1;33m \u001b[1;32mimport\u001b[0m \u001b[0mjaxlib\u001b[0m\u001b[1;33m.\u001b[0m\u001b[0mlapack\u001b[0m \u001b[1;32mas\u001b[0m \u001b[0mlapack\u001b[0m\u001b[1;33m\u001b[0m\u001b[1;33m\u001b[0m\u001b[0m\n\u001b[0m\u001b[0;32m     76\u001b[0m \u001b[1;32mimport\u001b[0m \u001b[0mjaxlib\u001b[0m\u001b[1;33m.\u001b[0m\u001b[0mpocketfft\u001b[0m \u001b[1;32mas\u001b[0m \u001b[0mpocketfft\u001b[0m\u001b[1;33m\u001b[0m\u001b[1;33m\u001b[0m\u001b[0m\n\u001b[0;32m     77\u001b[0m \u001b[1;33m\u001b[0m\u001b[0m\n",
      "\u001b[1;32mD:\\Users\\XiaoyuChen\\anaconda3\\lib\\site-packages\\jaxlib\\lapack.py\u001b[0m in \u001b[0;36m<module>\u001b[1;34m\u001b[0m\n\u001b[0;32m     19\u001b[0m \u001b[1;32mfrom\u001b[0m \u001b[0mjaxlib\u001b[0m \u001b[1;32mimport\u001b[0m \u001b[0mxla_client\u001b[0m\u001b[1;33m\u001b[0m\u001b[1;33m\u001b[0m\u001b[0m\n\u001b[0;32m     20\u001b[0m \u001b[1;33m\u001b[0m\u001b[0m\n\u001b[1;32m---> 21\u001b[1;33m \u001b[1;32mfrom\u001b[0m \u001b[1;33m.\u001b[0m \u001b[1;32mimport\u001b[0m \u001b[0m_lapack\u001b[0m\u001b[1;33m\u001b[0m\u001b[1;33m\u001b[0m\u001b[0m\n\u001b[0m\u001b[0;32m     22\u001b[0m \u001b[1;32mfor\u001b[0m \u001b[0m_name\u001b[0m\u001b[1;33m,\u001b[0m \u001b[0m_value\u001b[0m \u001b[1;32min\u001b[0m \u001b[0m_lapack\u001b[0m\u001b[1;33m.\u001b[0m\u001b[0mregistrations\u001b[0m\u001b[1;33m(\u001b[0m\u001b[1;33m)\u001b[0m\u001b[1;33m.\u001b[0m\u001b[0mitems\u001b[0m\u001b[1;33m(\u001b[0m\u001b[1;33m)\u001b[0m\u001b[1;33m:\u001b[0m\u001b[1;33m\u001b[0m\u001b[1;33m\u001b[0m\u001b[0m\n\u001b[0;32m     23\u001b[0m   \u001b[0mxla_client\u001b[0m\u001b[1;33m.\u001b[0m\u001b[0mregister_custom_call_target\u001b[0m\u001b[1;33m(\u001b[0m\u001b[0m_name\u001b[0m\u001b[1;33m,\u001b[0m \u001b[0m_value\u001b[0m\u001b[1;33m,\u001b[0m \u001b[0mplatform\u001b[0m\u001b[1;33m=\u001b[0m\u001b[1;34m\"cpu\"\u001b[0m\u001b[1;33m)\u001b[0m\u001b[1;33m\u001b[0m\u001b[1;33m\u001b[0m\u001b[0m\n",
      "\u001b[1;31mImportError\u001b[0m: ImportError: DLL load failed while importing _fblas: 找不到指定的模块。\n\nAt:\n  D:\\Users\\XiaoyuChen\\anaconda3\\lib\\site-packages\\scipy\\linalg\\blas.py(213): <module>\n  <frozen importlib._bootstrap>(219): _call_with_frames_removed\n  <frozen importlib._bootstrap_external>(783): exec_module\n  <frozen importlib._bootstrap>(686): _load_unlocked\n  <frozen importlib._bootstrap>(975): _find_and_load_unlocked\n  <frozen importlib._bootstrap>(991): _find_and_load\n  D:\\Users\\XiaoyuChen\\anaconda3\\lib\\site-packages\\scipy\\linalg\\misc.py(3): <module>\n  <frozen importlib._bootstrap>(219): _call_with_frames_removed\n  <frozen importlib._bootstrap_external>(783): exec_module\n  <frozen importlib._bootstrap>(686): _load_unlocked\n  <frozen importlib._bootstrap>(975): _find_and_load_unlocked\n  <frozen importlib._bootstrap>(991): _find_and_load\n  D:\\Users\\XiaoyuChen\\anaconda3\\lib\\site-packages\\scipy\\linalg\\__init__.py(195): <module>\n  <frozen importlib._bootstrap>(219): _call_with_frames_removed\n  <frozen importlib._bootstrap_external>(783): exec_module\n  <frozen importlib._bootstrap>(686): _load_unlocked\n  <frozen importlib._bootstrap>(975): _find_and_load_unlocked\n  <frozen importlib._bootstrap>(991): _find_and_load\n  <frozen importlib._bootstrap>(219): _call_with_frames_removed\n  <frozen importlib._bootstrap>(961): _find_and_load_unlocked\n  <frozen importlib._bootstrap>(991): _find_and_load\n  <frozen importlib._bootstrap>(219): _call_with_frames_removed\n  <frozen importlib._bootstrap_external>(1101): create_module\n  <frozen importlib._bootstrap>(556): module_from_spec\n  <frozen importlib._bootstrap>(657): _load_unlocked\n  <frozen importlib._bootstrap>(975): _find_and_load_unlocked\n  <frozen importlib._bootstrap>(991): _find_and_load\n  <frozen importlib._bootstrap>(219): _call_with_frames_removed\n  <frozen importlib._bootstrap>(1042): _handle_fromlist\n  D:\\Users\\XiaoyuChen\\anaconda3\\lib\\site-packages\\jaxlib\\lapack.py(21): <module>\n  <frozen importlib._bootstrap>(219): _call_with_frames_removed\n  <frozen importlib._bootstrap_external>(783): exec_module\n  <frozen importlib._bootstrap>(671): _load_unlocked\n  <frozen importlib._bootstrap>(975): _find_and_load_unlocked\n  <frozen importlib._bootstrap>(991): _find_and_load\n  D:\\Users\\XiaoyuChen\\anaconda3\\lib\\site-packages\\jax\\_src\\lib\\__init__.py(75): <module>\n  <frozen importlib._bootstrap>(219): _call_with_frames_removed\n  <frozen importlib._bootstrap_external>(783): exec_module\n  <frozen importlib._bootstrap>(671): _load_unlocked\n  <frozen importlib._bootstrap>(975): _find_and_load_unlocked\n  <frozen importlib._bootstrap>(991): _find_and_load\n  <frozen importlib._bootstrap>(219): _call_with_frames_removed\n  <frozen importlib._bootstrap>(1042): _handle_fromlist\n  D:\\Users\\XiaoyuChen\\anaconda3\\lib\\site-packages\\jax\\_src\\config.py(27): <module>\n  <frozen importlib._bootstrap>(219): _call_with_frames_removed\n  <frozen importlib._bootstrap_external>(783): exec_module\n  <frozen importlib._bootstrap>(671): _load_unlocked\n  <frozen importlib._bootstrap>(975): _find_and_load_unlocked\n  <frozen importlib._bootstrap>(991): _find_and_load\n  D:\\Users\\XiaoyuChen\\anaconda3\\lib\\site-packages\\jax\\config.py(18): <module>\n  <frozen importlib._bootstrap>(219): _call_with_frames_removed\n  <frozen importlib._bootstrap_external>(783): exec_module\n  <frozen importlib._bootstrap>(671): _load_unlocked\n  <frozen importlib._bootstrap>(975): _find_and_load_unlocked\n  <frozen importlib._bootstrap>(991): _find_and_load\n  <frozen importlib._bootstrap>(219): _call_with_frames_removed\n  <frozen importlib._bootstrap>(1042): _handle_fromlist\n  D:\\Users\\XiaoyuChen\\anaconda3\\lib\\site-packages\\jax\\__init__.py(37): <module>\n  <frozen importlib._bootstrap>(219): _call_with_frames_removed\n  <frozen importlib._bootstrap_external>(783): exec_module\n  <frozen importlib._bootstrap>(671): _load_unlocked\n  <frozen importlib._bootstrap>(975): _find_and_load_unlocked\n  <frozen importlib._bootstrap>(991): _find_and_load\n  D:\\Users\\XiaoyuChen\\anaconda3\\lib\\site-packages\\brain_py-2.0.0-py3.8.egg\\brainpy\\base\\collector.py(4): <module>\n  <frozen importlib._bootstrap>(219): _call_with_frames_removed\n  <frozen importlib._bootstrap_external>(783): exec_module\n  <frozen importlib._bootstrap>(671): _load_unlocked\n  <frozen importlib._bootstrap>(975): _find_and_load_unlocked\n  <frozen importlib._bootstrap>(991): _find_and_load\n  D:\\Users\\XiaoyuChen\\anaconda3\\lib\\site-packages\\brain_py-2.0.0-py3.8.egg\\brainpy\\base\\base.py(8): <module>\n  <frozen importlib._bootstrap>(219): _call_with_frames_removed\n  <frozen importlib._bootstrap_external>(783): exec_module\n  <frozen importlib._bootstrap>(671): _load_unlocked\n  <frozen importlib._bootstrap>(975): _find_and_load_unlocked\n  <frozen importlib._bootstrap>(991): _find_and_load\n  D:\\Users\\XiaoyuChen\\anaconda3\\lib\\site-packages\\brain_py-2.0.0-py3.8.egg\\brainpy\\base\\__init__.py(21): <module>\n  <frozen importlib._bootstrap>(219): _call_with_frames_removed\n  <frozen importlib._bootstrap_external>(783): exec_module\n  <frozen importlib._bootstrap>(671): _load_unlocked\n  <frozen importlib._bootstrap>(975): _find_and_load_unlocked\n  <frozen importlib._bootstrap>(991): _find_and_load\n  <frozen importlib._bootstrap>(219): _call_with_frames_removed\n  <frozen importlib._bootstrap>(1042): _handle_fromlist\n  D:\\Users\\XiaoyuChen\\anaconda3\\lib\\site-packages\\brain_py-2.0.0-py3.8.egg\\brainpy\\__init__.py(7): <module>\n  <frozen importlib._bootstrap>(219): _call_with_frames_removed\n  <frozen importlib._bootstrap_external>(783): exec_module\n  <frozen importlib._bootstrap>(671): _load_unlocked\n  <frozen importlib._bootstrap>(975): _find_and_load_unlocked\n  <frozen importlib._bootstrap>(991): _find_and_load\n  <ipython-input-2-7fc46dd2d3ca>(1): <module>\n  D:\\Users\\XiaoyuChen\\anaconda3\\lib\\site-packages\\IPython\\core\\interactiveshell.py(3437): run_code\n  D:\\Users\\XiaoyuChen\\anaconda3\\lib\\site-packages\\IPython\\core\\interactiveshell.py(3357): run_ast_nodes\n  D:\\Users\\XiaoyuChen\\anaconda3\\lib\\site-packages\\IPython\\core\\interactiveshell.py(3165): run_cell_async\n  D:\\Users\\XiaoyuChen\\anaconda3\\lib\\site-packages\\IPython\\core\\async_helpers.py(68): _pseudo_sync_runner\n  D:\\Users\\XiaoyuChen\\anaconda3\\lib\\site-packages\\IPython\\core\\interactiveshell.py(2940): _run_cell\n  D:\\Users\\XiaoyuChen\\anaconda3\\lib\\site-packages\\IPython\\core\\interactiveshell.py(2894): run_cell\n  D:\\Users\\XiaoyuChen\\anaconda3\\lib\\site-packages\\ipykernel\\zmqshell.py(536): run_cell\n  D:\\Users\\XiaoyuChen\\anaconda3\\lib\\site-packages\\ipykernel\\ipkernel.py(306): do_execute\n  D:\\Users\\XiaoyuChen\\anaconda3\\lib\\site-packages\\tornado\\gen.py(234): wrapper\n  D:\\Users\\XiaoyuChen\\anaconda3\\lib\\site-packages\\ipykernel\\kernelbase.py(543): execute_request\n  D:\\Users\\XiaoyuChen\\anaconda3\\lib\\site-packages\\tornado\\gen.py(234): wrapper\n  D:\\Users\\XiaoyuChen\\anaconda3\\lib\\site-packages\\ipykernel\\kernelbase.py(268): dispatch_shell\n  D:\\Users\\XiaoyuChen\\anaconda3\\lib\\site-packages\\tornado\\gen.py(234): wrapper\n  D:\\Users\\XiaoyuChen\\anaconda3\\lib\\site-packages\\ipykernel\\kernelbase.py(365): process_one\n  D:\\Users\\XiaoyuChen\\anaconda3\\lib\\site-packages\\tornado\\gen.py(775): run\n  D:\\Users\\XiaoyuChen\\anaconda3\\lib\\site-packages\\tornado\\gen.py(814): inner\n  D:\\Users\\XiaoyuChen\\anaconda3\\lib\\site-packages\\tornado\\ioloop.py(741): _run_callback\n  D:\\Users\\XiaoyuChen\\anaconda3\\lib\\site-packages\\tornado\\ioloop.py(688): <lambda>\n  D:\\Users\\XiaoyuChen\\anaconda3\\lib\\asyncio\\events.py(81): _run\n  D:\\Users\\XiaoyuChen\\anaconda3\\lib\\asyncio\\base_events.py(1859): _run_once\n  D:\\Users\\XiaoyuChen\\anaconda3\\lib\\asyncio\\base_events.py(570): run_forever\n  D:\\Users\\XiaoyuChen\\anaconda3\\lib\\site-packages\\tornado\\platform\\asyncio.py(199): start\n  D:\\Users\\XiaoyuChen\\anaconda3\\lib\\site-packages\\ipykernel\\kernelapp.py(612): start\n  D:\\Users\\XiaoyuChen\\anaconda3\\lib\\site-packages\\traitlets\\config\\application.py(845): launch_instance\n  D:\\Users\\XiaoyuChen\\anaconda3\\lib\\site-packages\\ipykernel_launcher.py(16): <module>\n  D:\\Users\\XiaoyuChen\\anaconda3\\lib\\runpy.py(87): _run_code\n  D:\\Users\\XiaoyuChen\\anaconda3\\lib\\runpy.py(194): _run_module_as_main\n"
     ]
    }
   ],
   "source": [
    "import brainpy as bp\n",
    "# bp.training.initialize can be accessed by bp.init"
   ]
  },
  {
   "cell_type": "markdown",
   "id": "2edfba91",
   "metadata": {},
   "source": [
    "### Superclass 1: bp.init.InterLayerInitializer"
   ]
  },
  {
   "cell_type": "markdown",
   "id": "00908305",
   "metadata": {},
   "source": [
    "The [`InterLayerInitializer`](../apis/auto/training/initialize.rst) is an abstract subclass of `Initializer`. Subclasses of `InterLayerInitializer` initialize the weights between two fully connected layers. The `shape` parameter of the `__call__` function should be a 2-element tuple $(m, n)$, which refers to the number of presynaptic neurons $m$ and of postsynaptic neurons $n$. The output of the `__call__` function is a `bp.math.ndarray` with the shape of $(m, n)$, where the value at $(i, j)$ is the initialized weight of the presynaptic neuron $i$ to postsynpatic neuron $j$."
   ]
  },
  {
   "cell_type": "markdown",
   "id": "bd8fb450",
   "metadata": {},
   "source": [
    "### Superclass 2: bp.init.IntraLayerInitializer"
   ]
  },
  {
   "cell_type": "markdown",
   "id": "08c79681",
   "metadata": {},
   "source": [
    "The [`IntraLayerInitializer`](../apis/auto/training/initialize.rst) is also an abstract subclass of `Initializer`. Subclasses of `InterLayerInitializer` initialize the weights within a layer. The `shape` parameter of the `__call__` function refers to the the structure of the neural population $(n_1, n_2, ..., n_d)$. The `__call__` function returns a 2-D `bp.math.ndarray` with the shape of $(\\prod_{k=1}^d n_k, \\prod_{k=1}^d n_k)$. In the 2-D array, the value at $(i, j)$ is the initialized weight of neuron $i$ to neuron $j$ of the flattened neural sequence."
   ]
  },
  {
   "cell_type": "markdown",
   "id": "be9a3ca9",
   "metadata": {},
   "source": [
    "## Build-in regular initializers"
   ]
  },
  {
   "cell_type": "markdown",
   "id": "8d0f9f82",
   "metadata": {},
   "source": [
    "Regular initializers all belong to `InterLayerInitializer` and initialize the connection weights between two layers with a regular pattern. There are `ZeroInit`, `OneInit`, and `Identity` initializers in build-in regular initializers. Here we show how to use the `OneInit` initializer. The remaining two classes are used in a similar way. See [Weight Initialization](../apis/auto/training/initialize.rst) for more details."
   ]
  },
  {
   "cell_type": "markdown",
   "id": "6e528f29",
   "metadata": {},
   "source": [
    "### bp.init.OneInit"
   ]
  },
  {
   "cell_type": "markdown",
   "id": "c7419de2",
   "metadata": {},
   "source": [
    "This initializer initializes all the weights with the same given value. In the following example, 5 presynaptic neurons are fully connected to 6 postsynaptic neurons with the same weight value:"
   ]
  },
  {
   "cell_type": "code",
   "execution_count": null,
   "id": "62387bba",
   "metadata": {},
   "outputs": [],
   "source": [
    "import numpy as np\n",
    "import matplotlib.pyplot as plt\n",
    "\n",
    "# visualization\n",
    "def mat_visualize(matrix, cmap=plt.cm.get_cmap('coolwarm')):\n",
    "    im = plt.matshow(matrix, cmap=cmap)\n",
    "    plt.colorbar(mappable=im, shrink=0.8, aspect=15)\n",
    "    plt.show()"
   ]
  },
  {
   "cell_type": "code",
   "execution_count": null,
   "id": "a815be5f",
   "metadata": {},
   "outputs": [],
   "source": [
    "shape = (5, 6)\n",
    "one_init = bp.init.OneInit(value=2.5)\n",
    "weights = one_init(shape)\n",
    "print(weights)"
   ]
  },
  {
   "cell_type": "markdown",
   "id": "824db6d9",
   "metadata": {},
   "source": [
    "## Build-in random initializers"
   ]
  },
  {
   "cell_type": "markdown",
   "id": "c57a12b1",
   "metadata": {},
   "source": [
    "Random initializers all belong to `InterLayerInitializer` and initialize the connection weights between two layers with a random distribution. There are `Normal`, `Uniform`, `Orthogonal` and other initializers in build-in regular initializers. Here we show how to use the `Normal` and `Uniform` initializer. See [Weight Initialization](../apis/auto/training/initialize.rst) for more details."
   ]
  },
  {
   "cell_type": "markdown",
   "id": "ba256cfa",
   "metadata": {},
   "source": [
    "### bp.init.Normal"
   ]
  },
  {
   "cell_type": "markdown",
   "id": "518cede6",
   "metadata": {},
   "source": [
    "This initializer initializes the weights with a normal distribution. The variance of the distribution changes according to the `scale` parameter. In the following example, 10 presynaptic neurons are fully connected to 20 postsynaptic neurons with the same weight value:"
   ]
  },
  {
   "cell_type": "code",
   "execution_count": null,
   "id": "99f74e71",
   "metadata": {},
   "outputs": [],
   "source": [
    "shape = (10, 20)\n",
    "normal_init = bp.init.Normal(scale=1.0)\n",
    "weights = normal_init(shape)\n",
    "mat_visualize(weights)"
   ]
  },
  {
   "cell_type": "markdown",
   "id": "7ce49cea",
   "metadata": {},
   "source": [
    "### bp.init.Uniform"
   ]
  },
  {
   "cell_type": "markdown",
   "id": "36003d3b",
   "metadata": {},
   "source": [
    "This initializer initializes the weights with a uniform distribution. The variance of the distribution changes according to the `scale` parameter. In the following example, 10 presynaptic neurons are fully connected to 20 postsynaptic neurons with the same weight value:"
   ]
  },
  {
   "cell_type": "code",
   "execution_count": null,
   "id": "694f6017",
   "metadata": {},
   "outputs": [],
   "source": [
    "shape = (10, 20)\n",
    "uniform_init = bp.init.Uniform(min_val=0., max_val=1.)\n",
    "weights = uniform_init(shape)\n",
    "mat_visualize(weights)"
   ]
  },
  {
   "cell_type": "markdown",
   "id": "8d63ac24",
   "metadata": {},
   "source": [
    "## Build-in decay initializers"
   ]
  },
  {
   "cell_type": "markdown",
   "id": "aae2fd22",
   "metadata": {},
   "source": [
    "Decay initializers all belong to `IntraLayerInitializer` and initialize the connection weights within a layer with a decay function according to the neural distance. There are `GaussianDecay` and `DOGDecay` initializers in build-in decay initializers. Below are examples of how to use them."
   ]
  },
  {
   "cell_type": "markdown",
   "id": "b26c0a47",
   "metadata": {},
   "source": [
    "### brainpy.training.initialize.GaussianDecay"
   ]
  },
  {
   "cell_type": "markdown",
   "id": "17488f64",
   "metadata": {},
   "source": [
    "This initializer builds a Gaussian connectivity pattern within a population of neurons, where the weights decay with a gaussian function.\n",
    "Specifically, for any pair of neurons $ (i, j) $, the weight is computed as\n",
    "\n",
    "$$\n",
    "w(i, j) = w_{max} \\cdot \\exp(-\\frac{\\sum_{k=1}^n |v_k^i - v_k^j|^2 }{2\\sigma^2})\n",
    "$$\n",
    "\n",
    "where $ v_k^i $ is the $ i $-th neuron's encoded value (position) at dimension $ k $.\n",
    "\n",
    "The example below is a neural population with the size of $ 5 \\times 5 $. Note that this shape is the structure of the target neural population, not the size of presynaptic and postsynaptic neurons."
   ]
  },
  {
   "cell_type": "code",
   "execution_count": null,
   "id": "50c68a98",
   "metadata": {},
   "outputs": [],
   "source": [
    "size = (5, 5)\n",
    "gaussian_init = bp.init.GaussianDecay(sigma=2., max_w=10., include_self=True)\n",
    "weights = gaussian_init(size)\n",
    "print('shape of weights: {}'.format(weights.shape))"
   ]
  },
  {
   "cell_type": "markdown",
   "id": "6e23ccde",
   "metadata": {},
   "source": [
    "Self-connections are created if `include_self=True`. The connection weights of each neuron with others are stored in each row of `weights`. For instance, the connection weights of neuron(0, 0) to other neurons are stored in `weights[0]`. After reshaping, the weights are:"
   ]
  },
  {
   "cell_type": "code",
   "execution_count": null,
   "id": "5ead905c",
   "metadata": {},
   "outputs": [],
   "source": [
    "mat_visualize(weights[0].reshape(size), cmap=plt.cm.get_cmap('Reds'))"
   ]
  },
  {
   "cell_type": "markdown",
   "id": "f7a25e57",
   "metadata": {},
   "source": [
    "### brainpy.training.initialize.DOGDecay"
   ]
  },
  {
   "cell_type": "markdown",
   "id": "7b56e0dd",
   "metadata": {},
   "source": [
    "This initializer builds a Difference-Of-Gaussian (DOG) connectivity pattern within a population of neurons. Specifically, for the given pair of neurons $ (i, j) $, the weight between them is computed as\n",
    "\n",
    "$$\n",
    "w(i, j) = w_{max}^+ \\cdot \\exp(-\\frac{\\sum_{k=1}^n |v_k^i - v_k^j|^2}{2\\sigma_+^2}) - w_{max}^- \\cdot \\exp(-\\frac{\\sum_{k=1}^n |v_k^i - v_k^j|^2}{2\\sigma_-^2})\n",
    "$$\n",
    "\n",
    "where $ v_k^i $ is the $ i $-th neuron's encoded value (position) at dimension $ k $.\n",
    "\n",
    "<img src=\"../_static/DOGDecay.png\" width=\"200 px\">\n",
    "\n",
    "The example below is a neural population with the size of $ 10 \\times 10 $:"
   ]
  },
  {
   "cell_type": "code",
   "execution_count": null,
   "id": "9a4701d5",
   "metadata": {},
   "outputs": [],
   "source": [
    "size = (10, 10)\n",
    "gaussian_init = bp.init.DOGDecay(sigmas=(1., 3.), max_ws=(10., 5.), min_w=0.1, include_self=True)\n",
    "weights = gaussian_init(size)\n",
    "print('shape of weights: {}'.format(weights.shape))"
   ]
  },
  {
   "cell_type": "markdown",
   "id": "18203c26",
   "metadata": {},
   "source": [
    "Weights smaller than `min_w` will not be created. `min_w` $ = 0.005 \\times min( $ `max_ws` $ ) $ if it is not assigned with a value.\n",
    "The organization of `weights` is similar to that in the `GaussianDecay` initializer. For instance, the connection weights of neuron (3, 4) to other neurons after reshaping are shown as below:"
   ]
  },
  {
   "cell_type": "code",
   "execution_count": null,
   "id": "e29818d4",
   "metadata": {},
   "outputs": [],
   "source": [
    "mat_visualize(weights[34].reshape(size), cmap=plt.cm.get_cmap('Reds'))"
   ]
  },
  {
   "cell_type": "markdown",
   "id": "77c73b63",
   "metadata": {},
   "source": [
    "## Customize your initializers"
   ]
  },
  {
   "cell_type": "markdown",
   "id": "0a8852bf",
   "metadata": {},
   "source": [
    "BrainPy also allows users to customize the weight initializers of their own. When customizing a initializer, users should follow the instructions below:\n",
    "- Your initializer should inherit `brainpy.training.initialize.Initializer`.\n",
    "- Override the `__call__` funtion, to which the `shape` parameter should be given.\n",
    "\n",
    "Here is an example of creating an inter-layer initializer that initialize the weights as follows:\n",
    "\n",
    "$$\n",
    "w(i, j) = max(w_{max} - \\sigma |v_i - v_j|, 0)\n",
    "$$"
   ]
  },
  {
   "cell_type": "code",
   "execution_count": null,
   "id": "c0d03e7f",
   "metadata": {},
   "outputs": [],
   "source": [
    "class LinearDecay(bp.init.InterLayerInitializer):\n",
    "    def __init__(self, max_w, sigma=1.):\n",
    "        self.max_w = max_w\n",
    "        self.sigma = sigma\n",
    "    \n",
    "    def __call__(self, shape, dtype=None):\n",
    "        mat = bp.math.zeros(shape, dtype=dtype)\n",
    "        n_pre, n_post = shape\n",
    "        seq = np.arange(n_pre)\n",
    "        current_w = self.max_w\n",
    "        \n",
    "        for i in range(max(n_pre, n_post)):\n",
    "            if current_w <= 0:\n",
    "                break\n",
    "            seq_plus = ((seq + i) >= 0) & ((seq + i) < n_post)\n",
    "            seq_minus = ((seq - i) >= 0) & ((seq - i) < n_post)\n",
    "            mat[seq[seq_plus], (seq + i)[seq_plus]] = current_w\n",
    "            mat[seq[seq_minus], (seq - i)[seq_minus]] = current_w\n",
    "            current_w -= self.sigma\n",
    "        \n",
    "        return mat"
   ]
  },
  {
   "cell_type": "code",
   "execution_count": null,
   "id": "0c327190",
   "metadata": {},
   "outputs": [],
   "source": [
    "shape = (10, 15)\n",
    "lin_init = LinearDecay(max_w=5, sigma=1.)\n",
    "weights = lin_init(shape)\n",
    "mat_visualize(weights, cmap=plt.cm.get_cmap('Reds'))"
   ]
  },
  {
   "cell_type": "markdown",
   "id": "20d548ed",
   "metadata": {},
   "source": [
    "---\n",
    "\n",
    "- Xiaoyu Chen (c-xy17@tsinghua.org.cn)\n",
    "- Update at 2021.12.02\n",
    "\n",
    "---"
   ]
  },
  {
   "cell_type": "code",
   "execution_count": null,
   "id": "cd5d5480",
   "metadata": {},
   "outputs": [],
   "source": []
  }
 ],
 "metadata": {
  "kernelspec": {
   "display_name": "Python [conda env:root] *",
   "language": "python",
   "name": "conda-root-py"
  },
  "language_info": {
   "codemirror_mode": {
    "name": "ipython",
    "version": 3
   },
   "file_extension": ".py",
   "mimetype": "text/x-python",
   "name": "python",
   "nbconvert_exporter": "python",
   "pygments_lexer": "ipython3",
   "version": "3.8.8"
  }
 },
 "nbformat": 4,
 "nbformat_minor": 5
}
