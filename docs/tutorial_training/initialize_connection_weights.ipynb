{
 "cells": [
  {
   "cell_type": "markdown",
   "id": "d67d4fa4",
   "metadata": {},
   "source": [
    "# Initialize Connection Weights"
   ]
  },
  {
   "cell_type": "markdown",
   "id": "d579e1e5",
   "metadata": {},
   "source": [
    "After a neural network is constructed, the connection weights of different layers should be initialized. The ``brainpy.training.initialize`` module provides some build-in initializers. Besides, users can customize the initializers of their own. Here we will briefly talk about how to use these build-in initializers and how to create customized initializers."
   ]
  },
  {
   "cell_type": "markdown",
   "id": "f82d6846",
   "metadata": {},
   "source": [
    "**Contents**\n",
    "\n",
    "- [General structure of initializers](#General-structure-of-initializers)\n",
    "- [Build-in regular initializers](#Build-in-regular-initializers)\n",
    "- [Build-in random initializers](#Build-in-random-initializers)\n",
    "- [Build-in decay initializers](#Build-in-decay-initializers)\n",
    "- [Customize your initializers](#Customize-your-initializers)"
   ]
  },
  {
   "cell_type": "markdown",
   "id": "2f48218a",
   "metadata": {},
   "source": [
    "## General structure of initializers"
   ]
  },
  {
   "cell_type": "markdown",
   "id": "804f757f",
   "metadata": {},
   "source": [
    "### Base Class: bp.init.Initializer"
   ]
  },
  {
   "cell_type": "markdown",
   "id": "456657ed",
   "metadata": {},
   "source": [
    "Initializers initialize the coonection weights between two groups of neurons (though they can refer to the same group). The base class of initializers are [`brainpy.training.initialize.Initializer`](../apis/auto/training/initialize.rst), which can be accessed by the shortcut `bp.init`. All initializers, build-in or costumized, should inherit the `Initializer` class. \n",
    "\n",
    "Weight initialization is implemented in the `__call__` function, so that it can be realized automatically when the initializer is called. The `__call__` function has a `shape` parameter that has different meanings in the following two superclasses and returns a matrix containing initialized weights."
   ]
  },
  {
   "cell_type": "code",
   "execution_count": 2,
   "id": "bde31457",
   "metadata": {},
   "outputs": [],
   "source": [
    "import brainpy as bp\n",
    "# bp.training.initialize can be accessed by bp.init\n",
    "\n",
    "bp.math.set_platform('cpu')"
   ]
  },
  {
   "cell_type": "markdown",
   "id": "2edfba91",
   "metadata": {},
   "source": [
    "### Superclass 1: bp.init.InterLayerInitializer"
   ]
  },
  {
   "cell_type": "markdown",
   "id": "00908305",
   "metadata": {},
   "source": [
    "The [`InterLayerInitializer`](../apis/auto/training/initialize.rst) is an abstract subclass of `Initializer`. Subclasses of `InterLayerInitializer` initialize the weights between two fully connected layers. The `shape` parameter of the `__call__` function should be a 2-element tuple $(m, n)$, which refers to the number of presynaptic neurons $m$ and of postsynaptic neurons $n$. The output of the `__call__` function is a `bp.math.ndarray` with the shape of $(m, n)$, where the value at $(i, j)$ is the initialized weight of the presynaptic neuron $i$ to postsynpatic neuron $j$."
   ]
  },
  {
   "cell_type": "markdown",
   "id": "bd8fb450",
   "metadata": {},
   "source": [
    "### Superclass 2: bp.init.IntraLayerInitializer"
   ]
  },
  {
   "cell_type": "markdown",
   "id": "08c79681",
   "metadata": {},
   "source": [
    "The [`IntraLayerInitializer`](../apis/auto/training/initialize.rst) is also an abstract subclass of `Initializer`. Subclasses of `InterLayerInitializer` initialize the weights within a layer. The `shape` parameter of the `__call__` function refers to the the structure of the neural population $(n_1, n_2, ..., n_d)$. The `__call__` function returns a 2-D `bp.math.ndarray` with the shape of $(\\prod_{k=1}^d n_k, \\prod_{k=1}^d n_k)$. In the 2-D array, the value at $(i, j)$ is the initialized weight of neuron $i$ to neuron $j$ of the flattened neural sequence."
   ]
  },
  {
   "cell_type": "markdown",
   "id": "be9a3ca9",
   "metadata": {},
   "source": [
    "## Build-in regular initializers"
   ]
  },
  {
   "cell_type": "markdown",
   "id": "8d0f9f82",
   "metadata": {},
   "source": [
    "Regular initializers all belong to `InterLayerInitializer` and initialize the connection weights between two layers with a regular pattern. There are `ZeroInit`, `OneInit`, and `Identity` initializers in build-in regular initializers. Here we show how to use the `OneInit` initializer. The remaining two classes are used in a similar way. See [Weight Initialization](../apis/auto/training/initialize.rst) for more details."
   ]
  },
  {
   "cell_type": "markdown",
   "id": "6e528f29",
   "metadata": {},
   "source": [
    "### bp.init.OneInit"
   ]
  },
  {
   "cell_type": "markdown",
   "id": "c7419de2",
   "metadata": {},
   "source": [
    "This initializer initializes all the weights with the same given value. In the following example, 5 presynaptic neurons are fully connected to 6 postsynaptic neurons with the same weight value:"
   ]
  },
  {
   "cell_type": "code",
   "execution_count": 3,
   "id": "62387bba",
   "metadata": {},
   "outputs": [],
   "source": [
    "import numpy as np\n",
    "import matplotlib.pyplot as plt\n",
    "\n",
    "# visualization\n",
    "def mat_visualize(matrix, cmap=plt.cm.get_cmap('coolwarm')):\n",
    "    im = plt.matshow(matrix, cmap=cmap)\n",
    "    plt.colorbar(mappable=im, shrink=0.8, aspect=15)\n",
    "    plt.show()"
   ]
  },
  {
   "cell_type": "code",
   "execution_count": 4,
   "id": "a815be5f",
   "metadata": {},
   "outputs": [
    {
     "name": "stdout",
     "output_type": "stream",
     "text": [
      "JaxArray(DeviceArray([[2.5, 2.5, 2.5, 2.5, 2.5, 2.5],\n",
      "                      [2.5, 2.5, 2.5, 2.5, 2.5, 2.5],\n",
      "                      [2.5, 2.5, 2.5, 2.5, 2.5, 2.5],\n",
      "                      [2.5, 2.5, 2.5, 2.5, 2.5, 2.5],\n",
      "                      [2.5, 2.5, 2.5, 2.5, 2.5, 2.5]], dtype=float32))\n"
     ]
    }
   ],
   "source": [
    "shape = (5, 6)\n",
    "one_init = bp.init.OneInit(value=2.5)\n",
    "weights = one_init(shape)\n",
    "print(weights)"
   ]
  },
  {
   "cell_type": "markdown",
   "id": "824db6d9",
   "metadata": {},
   "source": [
    "## Build-in random initializers"
   ]
  },
  {
   "cell_type": "markdown",
   "id": "c57a12b1",
   "metadata": {},
   "source": [
    "Random initializers all belong to `InterLayerInitializer` and initialize the connection weights between two layers with a random distribution. There are `Normal`, `Uniform`, `Orthogonal` and other initializers in build-in regular initializers. Here we show how to use the `Normal` and `Uniform` initializer. See [Weight Initialization](../apis/auto/training/initialize.rst) for more details."
   ]
  },
  {
   "cell_type": "markdown",
   "id": "ba256cfa",
   "metadata": {},
   "source": [
    "### bp.init.Normal"
   ]
  },
  {
   "cell_type": "markdown",
   "id": "518cede6",
   "metadata": {},
   "source": [
    "This initializer initializes the weights with a normal distribution. The variance of the distribution changes according to the `scale` parameter. In the following example, 10 presynaptic neurons are fully connected to 20 postsynaptic neurons with the same weight value:"
   ]
  },
  {
   "cell_type": "code",
   "execution_count": 5,
   "id": "99f74e71",
   "metadata": {},
   "outputs": [
    {
     "data": {
      "image/png": "[encoded data removed]",
      "text/plain": [
       "<Figure size 576x288 with 2 Axes>"
      ]
     },
     "metadata": {
      "needs_background": "light"
     },
     "output_type": "display_data"
    }
   ],
   "source": [
    "shape = (10, 20)\n",
    "normal_init = bp.init.Normal(scale=1.0)\n",
    "weights = normal_init(shape)\n",
    "mat_visualize(weights)"
   ]
  },
  {
   "cell_type": "markdown",
   "id": "7ce49cea",
   "metadata": {},
   "source": [
    "### bp.init.Uniform"
   ]
  },
  {
   "cell_type": "markdown",
   "id": "36003d3b",
   "metadata": {},
   "source": [
    "This initializer initializes the weights with a uniform distribution. The variance of the distribution changes according to the `scale` parameter. In the following example, 10 presynaptic neurons are fully connected to 20 postsynaptic neurons with the same weight value:"
   ]
  },
  {
   "cell_type": "code",
   "execution_count": 6,
   "id": "694f6017",
   "metadata": {},
   "outputs": [
    {
     "data": {
      "image/png": "[encoded data removed]",
      "text/plain": [
       "<Figure size 576x288 with 2 Axes>"
      ]
     },
     "metadata": {
      "needs_background": "light"
     },
     "output_type": "display_data"
    }
   ],
   "source": [
    "shape = (10, 20)\n",
    "uniform_init = bp.init.Uniform(min_val=0., max_val=1.)\n",
    "weights = uniform_init(shape)\n",
    "mat_visualize(weights)"
   ]
  },
  {
   "cell_type": "markdown",
   "id": "8d63ac24",
   "metadata": {},
   "source": [
    "## Build-in decay initializers"
   ]
  },
  {
   "cell_type": "markdown",
   "id": "aae2fd22",
   "metadata": {},
   "source": [
    "Decay initializers all belong to `IntraLayerInitializer` and initialize the connection weights within a layer with a decay function according to the neural distance. There are `GaussianDecay` and `DOGDecay` initializers in build-in decay initializers. Below are examples of how to use them."
   ]
  },
  {
   "cell_type": "markdown",
   "id": "b26c0a47",
   "metadata": {},
   "source": [
    "### brainpy.training.initialize.GaussianDecay"
   ]
  },
  {
   "cell_type": "markdown",
   "id": "17488f64",
   "metadata": {},
   "source": [
    "This initializer builds a Gaussian connectivity pattern within a population of neurons, where the weights decay with a gaussian function.\n",
    "Specifically, for any pair of neurons $ (i, j) $, the weight is computed as\n",
    "\n",
    "$$\n",
    "w(i, j) = w_{max} \\cdot \\exp(-\\frac{\\sum_{k=1}^n |v_k^i - v_k^j|^2 }{2\\sigma^2})\n",
    "$$\n",
    "\n",
    "where $ v_k^i $ is the $ i $-th neuron's encoded value (position) at dimension $ k $.\n",
    "\n",
    "The example below is a neural population with the size of $ 5 \\times 5 $. Note that this shape is the structure of the target neural population, not the size of presynaptic and postsynaptic neurons."
   ]
  },
  {
   "cell_type": "code",
   "execution_count": 7,
   "id": "50c68a98",
   "metadata": {},
   "outputs": [
    {
     "name": "stdout",
     "output_type": "stream",
     "text": [
      "shape of weights: (25, 25)\n"
     ]
    }
   ],
   "source": [
    "size = (5, 5)\n",
    "gaussian_init = bp.init.GaussianDecay(sigma=2., max_w=10., include_self=True)\n",
    "weights = gaussian_init(size)\n",
    "print('shape of weights: {}'.format(weights.shape))"
   ]
  },
  {
   "cell_type": "markdown",
   "id": "6e23ccde",
   "metadata": {},
   "source": [
    "Self-connections are created if `include_self=True`. The connection weights of each neuron with others are stored in each row of `weights`. For instance, the connection weights of neuron(0, 0) to other neurons are stored in `weights[0]`. After reshaping, the weights are:"
   ]
  },
  {
   "cell_type": "code",
   "execution_count": 8,
   "id": "5ead905c",
   "metadata": {},
   "outputs": [
    {
     "data": {
      "image/png": "[encoded data removed]",
      "text/plain": [
       "<Figure size 288x288 with 2 Axes>"
      ]
     },
     "metadata": {
      "needs_background": "light"
     },
     "output_type": "display_data"
    }
   ],
   "source": [
    "mat_visualize(weights[0].reshape(size), cmap=plt.cm.get_cmap('Reds'))"
   ]
  },
  {
   "cell_type": "markdown",
   "id": "f7a25e57",
   "metadata": {},
   "source": [
    "### brainpy.training.initialize.DOGDecay"
   ]
  },
  {
   "cell_type": "markdown",
   "id": "7b56e0dd",
   "metadata": {},
   "source": [
    "This initializer builds a Difference-Of-Gaussian (DOG) connectivity pattern within a population of neurons. Specifically, for the given pair of neurons $ (i, j) $, the weight between them is computed as\n",
    "\n",
    "$$\n",
    "w(i, j) = w_{max}^+ \\cdot \\exp(-\\frac{\\sum_{k=1}^n |v_k^i - v_k^j|^2}{2\\sigma_+^2}) - w_{max}^- \\cdot \\exp(-\\frac{\\sum_{k=1}^n |v_k^i - v_k^j|^2}{2\\sigma_-^2})\n",
    "$$\n",
    "\n",
    "where $ v_k^i $ is the $ i $-th neuron's encoded value (position) at dimension $ k $.\n",
    "\n",
    "<img src=\"../_static/DOGDecay.png\" width=\"200 px\">\n",
    "\n",
    "The example below is a neural population with the size of $ 10 \\times 10 $:"
   ]
  },
  {
   "cell_type": "code",
   "execution_count": 9,
   "id": "9a4701d5",
   "metadata": {},
   "outputs": [
    {
     "name": "stdout",
     "output_type": "stream",
     "text": [
      "shape of weights: (100, 100)\n"
     ]
    }
   ],
   "source": [
    "size = (10, 10)\n",
    "gaussian_init = bp.init.DOGDecay(sigmas=(1., 3.), max_ws=(10., 5.), min_w=0.1, include_self=True)\n",
    "weights = gaussian_init(size)\n",
    "print('shape of weights: {}'.format(weights.shape))"
   ]
  },
  {
   "cell_type": "markdown",
   "id": "18203c26",
   "metadata": {},
   "source": [
    "Weights smaller than `min_w` will not be created. `min_w` $ = 0.005 \\times min( $ `max_ws` $ ) $ if it is not assigned with a value.\n",
    "The organization of `weights` is similar to that in the `GaussianDecay` initializer. For instance, the connection weights of neuron (3, 4) to other neurons after reshaping are shown as below:"
   ]
  },
  {
   "cell_type": "code",
   "execution_count": 10,
   "id": "e29818d4",
   "metadata": {},
   "outputs": [
    {
     "data": {
      "image/png": "[encoded data removed]",
      "text/plain": [
       "<Figure size 288x288 with 2 Axes>"
      ]
     },
     "metadata": {
      "needs_background": "light"
     },
     "output_type": "display_data"
    }
   ],
   "source": [
    "mat_visualize(weights[34].reshape(size), cmap=plt.cm.get_cmap('Reds'))"
   ]
  },
  {
   "cell_type": "markdown",
   "id": "77c73b63",
   "metadata": {},
   "source": [
    "## Customize your initializers"
   ]
  },
  {
   "cell_type": "markdown",
   "id": "0a8852bf",
   "metadata": {},
   "source": [
    "BrainPy also allows users to customize the weight initializers of their own. When customizing a initializer, users should follow the instructions below:\n",
    "- Your initializer should inherit `brainpy.training.initialize.Initializer`.\n",
    "- Override the `__call__` funtion, to which the `shape` parameter should be given.\n",
    "\n",
    "Here is an example of creating an inter-layer initializer that initialize the weights as follows:\n",
    "\n",
    "$$\n",
    "w(i, j) = max(w_{max} - \\sigma |v_i - v_j|, 0)\n",
    "$$"
   ]
  },
  {
   "cell_type": "code",
   "execution_count": 11,
   "id": "c0d03e7f",
   "metadata": {},
   "outputs": [],
   "source": [
    "class LinearDecay(bp.init.InterLayerInitializer):\n",
    "    def __init__(self, max_w, sigma=1.):\n",
    "        self.max_w = max_w\n",
    "        self.sigma = sigma\n",
    "    \n",
    "    def __call__(self, shape, dtype=None):\n",
    "        mat = bp.math.zeros(shape, dtype=dtype)\n",
    "        n_pre, n_post = shape\n",
    "        seq = np.arange(n_pre)\n",
    "        current_w = self.max_w\n",
    "        \n",
    "        for i in range(max(n_pre, n_post)):\n",
    "            if current_w <= 0:\n",
    "                break\n",
    "            seq_plus = ((seq + i) >= 0) & ((seq + i) < n_post)\n",
    "            seq_minus = ((seq - i) >= 0) & ((seq - i) < n_post)\n",
    "            mat[seq[seq_plus], (seq + i)[seq_plus]] = current_w\n",
    "            mat[seq[seq_minus], (seq - i)[seq_minus]] = current_w\n",
    "            current_w -= self.sigma\n",
    "        \n",
    "        return mat"
   ]
  },
  {
   "cell_type": "code",
   "execution_count": 12,
   "id": "0c327190",
   "metadata": {},
   "outputs": [
    {
     "data": {
      "image/png": "[encoded data removed]",
      "text/plain": [
       "<Figure size 432x288 with 2 Axes>"
      ]
     },
     "metadata": {
      "needs_background": "light"
     },
     "output_type": "display_data"
    }
   ],
   "source": [
    "shape = (10, 15)\n",
    "lin_init = LinearDecay(max_w=5, sigma=1.)\n",
    "weights = lin_init(shape)\n",
    "mat_visualize(weights, cmap=plt.cm.get_cmap('Reds'))"
   ]
  },
  {
   "cell_type": "markdown",
   "id": "20d548ed",
   "metadata": {},
   "source": [
    "---\n",
    "\n",
    "- Xiaoyu Chen (c-xy17@tsinghua.org.cn)\n",
    "- Update at 2021.12.02\n",
    "\n",
    "---"
   ]
  },
  {
   "cell_type": "code",
   "execution_count": null,
   "id": "cd5d5480",
   "metadata": {},
   "outputs": [],
   "source": []
  }
 ],
 "metadata": {
  "kernelspec": {
   "display_name": "Python 3",
   "language": "python",
   "name": "python3"
  },
  "language_info": {
   "codemirror_mode": {
    "name": "ipython",
    "version": 3
   },
   "file_extension": ".py",
   "mimetype": "text/x-python",
   "name": "python",
   "nbconvert_exporter": "python",
   "pygments_lexer": "ipython3",
   "version": "3.8.8"
  }
 },
 "nbformat": 4,
 "nbformat_minor": 5
}
