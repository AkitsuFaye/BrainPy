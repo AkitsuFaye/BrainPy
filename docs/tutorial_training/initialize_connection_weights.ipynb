{
 "cells": [
  {
   "cell_type": "markdown",
   "id": "d67d4fa4",
   "metadata": {},
   "source": [
    "# Initialize Connection Weights"
   ]
  },
  {
   "cell_type": "markdown",
   "id": "d579e1e5",
   "metadata": {},
   "source": [
    "After a neural network is constructed, the connection weights of different layers should be initialized. The ``brainpy.training.initialize`` module provides some build-in initializers that can be used for weight initialization. Here we will talk about how to use these initializers and how to create your customized initializers."
   ]
  },
  {
   "cell_type": "markdown",
   "id": "f82d6846",
   "metadata": {},
   "source": [
    "**Contents**\n",
    "\n",
    "- [General structure of initializers](#General-structure-of-initializers)\n",
    "- [Build-in regular initializers](#Build-in-regular-initializers)\n",
    "- [Build-in random initializers](#Build-in-random-initializers)\n",
    "- [Build-in decay initializers](#Build-in-decay-initializers)\n",
    "- [Customize your initializers](#Customize-your-initializers)"
   ]
  },
  {
   "cell_type": "markdown",
   "id": "2f48218a",
   "metadata": {},
   "source": [
    "## General structure of initializers"
   ]
  },
  {
   "cell_type": "markdown",
   "id": "456657ed",
   "metadata": {},
   "source": [
    "Initializers initialize the coonection weights between two groups of neurons (though they can refer to the same group). The base class of initializers are `brainpy.training.initialize.Initializer`. All initializers, build-in or costumized, should inherit the `Initializer` class. Besides, an initializer functions when it is called, so weight initialization should be implemented in the `__call__` function. The `__call__` function has a `shape` parameter as its input, which refers to the size of presynaptic and postsynaptic neurons or the shape of the neural population within wich self-connection weights are initialized."
   ]
  },
  {
   "cell_type": "code",
   "execution_count": 1,
   "id": "c50f4e9a",
   "metadata": {},
   "outputs": [],
   "source": [
    "import brainpy as bp\n",
    "from brainpy.training import initialize\n",
    "\n",
    "import numpy as np\n",
    "import matplotlib.pyplot as plt\n",
    "\n",
    "bp.math.set_platform('cpu')\n",
    "\n",
    "# visualization\n",
    "def mat_visualize(matrix, cmap=plt.cm.get_cmap('coolwarm')):\n",
    "    im = plt.matshow(matrix, cmap=cmap)\n",
    "    plt.colorbar(mappable=im, shrink=0.8, aspect=15)\n",
    "    plt.show()"
   ]
  },
  {
   "cell_type": "markdown",
   "id": "be9a3ca9",
   "metadata": {},
   "source": [
    "## Build-in regular initializers"
   ]
  },
  {
   "cell_type": "markdown",
   "id": "8d0f9f82",
   "metadata": {},
   "source": [
    "There are `ZeroInit`, `OneInit`, and `Identity` initializers in build-in regular initializers. It is supposed that the presynaptic layer and the postsynpatic layer is fully connected. When calling the initializer, a 2-D shape should be input that refers to the number of presynaptic and postsynaptic neurons $(n_{pre}, n_{post})$. After calling, it returns a `brainpy.math.jaxarray.JaxArray` of the input `shape`, where the value at $(i, j)$ is the initialized connection weight of presynaptic neuron $ i $ and postsynpatic neuron $ j $.\n",
    "\n",
    "Here we show how to use the `OneInit` initializer. The remaining two classes are used in a similar way. See ``brainpy.training.initialize`` for more details."
   ]
  },
  {
   "cell_type": "markdown",
   "id": "6e528f29",
   "metadata": {},
   "source": [
    "### brainpy.training.initialize.OneInit"
   ]
  },
  {
   "cell_type": "markdown",
   "id": "c7419de2",
   "metadata": {},
   "source": [
    "This initializer initializes all the weights with the same given value. In the following example, 5 presynaptic neurons are fully connected to 6 postsynaptic neurons with the same weight value:"
   ]
  },
  {
   "cell_type": "code",
   "execution_count": 2,
   "id": "a815be5f",
   "metadata": {},
   "outputs": [
    {
     "name": "stdout",
     "output_type": "stream",
     "text": [
      "JaxArray(DeviceArray([[2.5, 2.5, 2.5, 2.5, 2.5, 2.5],\n",
      "                      [2.5, 2.5, 2.5, 2.5, 2.5, 2.5],\n",
      "                      [2.5, 2.5, 2.5, 2.5, 2.5, 2.5],\n",
      "                      [2.5, 2.5, 2.5, 2.5, 2.5, 2.5],\n",
      "                      [2.5, 2.5, 2.5, 2.5, 2.5, 2.5]], dtype=float32))\n"
     ]
    }
   ],
   "source": [
    "shape = (5, 6)\n",
    "one_init = initialize.OneInit(value=2.5)\n",
    "weights = one_init(shape)\n",
    "print(weights)"
   ]
  },
  {
   "cell_type": "markdown",
   "id": "824db6d9",
   "metadata": {},
   "source": [
    "## Build-in random initializers"
   ]
  },
  {
   "cell_type": "markdown",
   "id": "c57a12b1",
   "metadata": {},
   "source": [
    "There are `Normal`, `Uniform`, `Orthogonal` and other initializers in build-in regular initializers. It is supposed that the presynaptic layer and the postsynpatic layer is fully connected. When calling the initializer, a 2-D shape should be input that refers to the number of presynaptic and postsynaptic neurons $(n_{pre}, n_{post})$. After calling, it returns a `brainpy.math.jaxarray.JaxArray` of the input `shape`, where the value at $(i, j)$ is the initialized connection weight of presynaptic neuron $i$ to postsynpatic neuron $j$.\n",
    "\n",
    "Here we show how to use the `Normal` initializer. See ``brainpy.training.initialize`` for more details."
   ]
  },
  {
   "cell_type": "markdown",
   "id": "ba256cfa",
   "metadata": {},
   "source": [
    "### brainpy.training.initialize.Normal"
   ]
  },
  {
   "cell_type": "markdown",
   "id": "518cede6",
   "metadata": {},
   "source": [
    "This initializer initializes the weights with a normal distribution. The variance of the distribution changes according to the `scale` parameter. In the following example, 10 presynaptic neurons are fully connected to 20 postsynaptic neurons with the same weight value:"
   ]
  },
  {
   "cell_type": "code",
   "execution_count": 3,
   "id": "99f74e71",
   "metadata": {},
   "outputs": [
    {
     "data": {
      "image/png": "[encoded data removed]",
      "text/plain": [
       "<Figure size 576x288 with 2 Axes>"
      ]
     },
     "metadata": {
      "needs_background": "light"
     },
     "output_type": "display_data"
    }
   ],
   "source": [
    "shape = (10, 20)\n",
    "normal_init = initialize.Normal(scale=1.0)\n",
    "weights = normal_init(shape)\n",
    "mat_visualize(weights)"
   ]
  },
  {
   "cell_type": "markdown",
   "id": "8d63ac24",
   "metadata": {},
   "source": [
    "## Build-in decay initializers"
   ]
  },
  {
   "cell_type": "markdown",
   "id": "aae2fd22",
   "metadata": {},
   "source": [
    "There are `GaussianDecay` and `DOGDecay` initializers in build-in regular initializers. Below are examples of how to use them in weight initialization. **For decay initializers, because the decay pattern is built within a group of neurons, the input `shape` refers to the structure of the neural population, which is different from the that in the previous two types of initializers.** The `__call__` function returns an 2-D array regardless of the dimension of the neural population matrix. In the 2-D array, the value at $(i, j)$ is the initialized connection weight of neuron $i$ to neuron $j$ at position $i$ and $j$, respectively, of the flattened neural sequence."
   ]
  },
  {
   "cell_type": "markdown",
   "id": "b26c0a47",
   "metadata": {},
   "source": [
    "### brainpy.training.initialize.GaussianDecay"
   ]
  },
  {
   "cell_type": "markdown",
   "id": "17488f64",
   "metadata": {},
   "source": [
    "This initializer builds a Gaussian connectivity pattern within a population of neurons, where the weights decay with a gaussian function.\n",
    "Specifically, for any pair of neurons $ (i, j) $, the weight is computed as\n",
    "\n",
    "$$\n",
    "w(i, j) = w_{max} \\cdot \\exp(-\\frac{\\sum_{k=1}^n |v_k^i - v_k^j|^2 }{2\\sigma^2})\n",
    "$$\n",
    "\n",
    "where $ v_k^i $ is the $ i $-th neuron's encoded value (position) at dimension $ k $.\n",
    "\n",
    "The example below is a neural population with the size of $ 5 \\times 5 $. Note that this shape is the structure of the target neural population, not the size of presynaptic and postsynaptic neurons."
   ]
  },
  {
   "cell_type": "code",
   "execution_count": 4,
   "id": "50c68a98",
   "metadata": {},
   "outputs": [
    {
     "name": "stdout",
     "output_type": "stream",
     "text": [
      "shape of weights: (25, 25)\n"
     ]
    }
   ],
   "source": [
    "size = (5, 5)\n",
    "gaussian_init = initialize.GaussianDecay(sigma=2., max_w=10., include_self=True)\n",
    "weights = gaussian_init(size)\n",
    "print('shape of weights: {}'.format(weights.shape))"
   ]
  },
  {
   "cell_type": "markdown",
   "id": "6e23ccde",
   "metadata": {},
   "source": [
    "Self-connections are created if `include_self=True`. The connection weights of each neuron with others are stored in each row of `weights`. For instance, the connection weights of neuron(0, 0) with others are stored in `weights`[0]. After reshaping, the weights are:"
   ]
  },
  {
   "cell_type": "code",
   "execution_count": 5,
   "id": "5ead905c",
   "metadata": {},
   "outputs": [
    {
     "data": {
      "image/png": "[encoded data removed]",
      "text/plain": [
       "<Figure size 288x288 with 2 Axes>"
      ]
     },
     "metadata": {
      "needs_background": "light"
     },
     "output_type": "display_data"
    }
   ],
   "source": [
    "mat_visualize(weights[0].reshape(size), cmap=plt.cm.get_cmap('Reds'))"
   ]
  },
  {
   "cell_type": "markdown",
   "id": "f7a25e57",
   "metadata": {},
   "source": [
    "### brainpy.training.initialize.DOGDecay"
   ]
  },
  {
   "cell_type": "markdown",
   "id": "7b56e0dd",
   "metadata": {},
   "source": [
    "This initializer builds a Difference-Of-Gaussian (DOG) connectivity pattern within a population of neurons. Specifically, for the given pair of neurons $ (i, j) $, the weight between them is computed as\n",
    "\n",
    "$$\n",
    "w(i, j) = w_{max}^+ \\cdot \\exp(-\\frac{\\sum_{k=1}^n |v_k^i - v_k^j|^2}{2\\sigma_+^2}) - w_{max}^- \\cdot \\exp(-\\frac{\\sum_{k=1}^n |v_k^i - v_k^j|^2}{2\\sigma_-^2})\n",
    "$$\n",
    "\n",
    "where $ v_k^i $ is the $ i $-th neuron's encoded value (position) at dimension $ k $.\n",
    "\n",
    "<img src=\"../_static/DOGDecay.png\" width=\"200 px\">\n",
    "\n",
    "The example below is a neural population with the size of $ 10 \\times 10 $:"
   ]
  },
  {
   "cell_type": "code",
   "execution_count": 6,
   "id": "9a4701d5",
   "metadata": {},
   "outputs": [
    {
     "name": "stdout",
     "output_type": "stream",
     "text": [
      "shape of weights: (100, 100)\n"
     ]
    }
   ],
   "source": [
    "size = (10, 10)\n",
    "gaussian_init = initialize.DOGDecay(sigmas=(1., 3.), max_ws=(10., 5.), min_w=0.1, include_self=True)\n",
    "weights = gaussian_init(size)\n",
    "print('shape of weights: {}'.format(weights.shape))"
   ]
  },
  {
   "cell_type": "markdown",
   "id": "18203c26",
   "metadata": {},
   "source": [
    "Weights smaller than `min_w` will not be created. `min_w` $ = 0.005 \\times min( $ `max_ws` $ ) $ if it is not assigned with a value.\n",
    "The organization of `weights` is similar to that in the `GaussianDecay` initializer. For instance, the connection weights of neuron (3, 4) with others after reshaping are shown as below:"
   ]
  },
  {
   "cell_type": "code",
   "execution_count": 7,
   "id": "e29818d4",
   "metadata": {},
   "outputs": [
    {
     "data": {
      "image/png": "[encoded data removed]",
      "text/plain": [
       "<Figure size 288x288 with 2 Axes>"
      ]
     },
     "metadata": {
      "needs_background": "light"
     },
     "output_type": "display_data"
    }
   ],
   "source": [
    "mat_visualize(weights[34].reshape(size), cmap=plt.cm.get_cmap('Reds'))"
   ]
  },
  {
   "cell_type": "markdown",
   "id": "77c73b63",
   "metadata": {},
   "source": [
    "## Customize your initializers"
   ]
  },
  {
   "cell_type": "markdown",
   "id": "0a8852bf",
   "metadata": {},
   "source": [
    "BrainPy also allows users to customize the weight initializers of their own. When customizing a initializer, users should follow the instructions below:\n",
    "- Your initializer should inherit `brainpy.training.initialize.Initializer`.\n",
    "- Override the `__call__` funtion, to which the `shape` parameter should be given.\n",
    "\n",
    "Here is an example of creating an initializer that initialize the weights as follows:\n",
    "\n",
    "$$\n",
    "w(i, j) = max(w_{max} - \\sigma |v_i - v_j|, 0)\n",
    "$$"
   ]
  },
  {
   "cell_type": "code",
   "execution_count": 8,
   "id": "c0d03e7f",
   "metadata": {},
   "outputs": [],
   "source": [
    "class LinearDecay(initialize.Initializer):\n",
    "    def __init__(self, max_w, sigma=1.):\n",
    "        self.max_w = max_w\n",
    "        self.sigma = sigma\n",
    "    \n",
    "    def __call__(self, shape, dtype=None):\n",
    "        mat = bp.math.zeros(shape, dtype=dtype)\n",
    "        n_pre, n_post = shape\n",
    "        seq = np.arange(n_pre)\n",
    "        current_w = self.max_w\n",
    "        \n",
    "        for i in range(max(n_pre, n_post)):\n",
    "            if current_w <= 0:\n",
    "                break\n",
    "            seq_plus = ((seq + i) >= 0) & ((seq + i) < n_post)\n",
    "            seq_minus = ((seq - i) >= 0) & ((seq - i) < n_post)\n",
    "            mat[seq[seq_plus], (seq + i)[seq_plus]] = current_w\n",
    "            mat[seq[seq_minus], (seq - i)[seq_minus]] = current_w\n",
    "            current_w -= self.sigma\n",
    "        \n",
    "        return mat"
   ]
  },
  {
   "cell_type": "code",
   "execution_count": 9,
   "id": "0c327190",
   "metadata": {},
   "outputs": [
    {
     "data": {
      "image/png": "[encoded data removed]",
      "text/plain": [
       "<Figure size 432x288 with 2 Axes>"
      ]
     },
     "metadata": {
      "needs_background": "light"
     },
     "output_type": "display_data"
    }
   ],
   "source": [
    "shape = (10, 15)\n",
    "lin_init = LinearDecay(max_w=5, sigma=1.)\n",
    "weights = lin_init(shape)\n",
    "mat_visualize(weights, cmap=plt.cm.get_cmap('Reds'))"
   ]
  },
  {
   "cell_type": "markdown",
   "id": "20d548ed",
   "metadata": {},
   "source": [
    "---\n",
    "\n",
    "- Xiaoyu Chen (c-xy17@tsinghua.org.cn)\n",
    "- Update at 2021.12.02\n",
    "\n",
    "---"
   ]
  },
  {
   "cell_type": "code",
   "execution_count": null,
   "id": "cd5d5480",
   "metadata": {},
   "outputs": [],
   "source": []
  }
 ],
 "metadata": {
  "kernelspec": {
   "display_name": "Python 3 (ipykernel)",
   "language": "python",
   "name": "python3"
  },
  "language_info": {
   "codemirror_mode": {
    "name": "ipython",
    "version": 3
   },
   "file_extension": ".py",
   "mimetype": "text/x-python",
   "name": "python",
   "nbconvert_exporter": "python",
   "pygments_lexer": "ipython3",
   "version": "3.9.7"
  }
 },
 "nbformat": 4,
 "nbformat_minor": 5
}
