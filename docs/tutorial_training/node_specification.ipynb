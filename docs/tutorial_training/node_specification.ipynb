{
 "cells": [
  {
   "cell_type": "markdown",
   "id": "6b37faba",
   "metadata": {},
   "source": [
    "# Node Specification"
   ]
  },
  {
   "cell_type": "markdown",
   "id": "1a0ce52b",
   "metadata": {},
   "source": [
    "@[Chaoming Wang](https://github.com/chaoming0625)"
   ]
  },
  {
   "cell_type": "markdown",
   "id": "0be37bce",
   "metadata": {},
   "source": [
    "Neural networks in BrainPy are used to build dynamical systems. The [brainpy.nn](../apis/nn.rst) module provides various classes representing the nodes of a neural network. All of them are subclasses of the ``brainpy.nn.Node`` base class."
   ]
  },
  {
   "cell_type": "code",
   "execution_count": 1,
   "id": "9fc48b8f",
   "metadata": {},
   "outputs": [],
   "source": [
    "import brainpy as bp\n",
    "import brainpy.math as bm\n",
    "\n",
    "# bp.math.set_platform('cpu')"
   ]
  },
  {
   "cell_type": "markdown",
   "id": "6f23bb67",
   "metadata": {},
   "source": [
    "## What is a node?"
   ]
  },
  {
   "cell_type": "markdown",
   "id": "d52fb72e",
   "metadata": {},
   "source": [
    "In BrainPy, the ``Node`` instance is the basic element to form a network model. It is a unit on a graph, connected to other nodes by edges. \n",
    "\n",
    "In general, each ``Node`` instance in BrainPy has four components: \n",
    "\n",
    "- Feedforward inputs\n",
    "- Feedback inputs\n",
    "- State\n",
    "- Output\n",
    "\n",
    "It is worthy to note that each ``Node`` instance may have multiple feedforward or feedback connections. However, it only has one state and one output. "
   ]
  },
  {
   "cell_type": "markdown",
   "id": "1a63c5da",
   "metadata": {},
   "source": [
    "<img src=\"../_static/node_specification.png\"  width=\"50%\" align=\"center\" />"
   ]
  },
  {
   "cell_type": "markdown",
   "id": "8bcb535f",
   "metadata": {},
   "source": [
    "Each node has the following attributes:\n",
    "\n",
    "- ``state``: the state of the node. It can be None if the node has no state to hold. \n",
    "- ``feedforward_shapes``: the shapes of the feedforward inputs. \n",
    "- ``feedback_shapes``: the shapes of the feedback inputs. \n",
    "- ``output_shape``: the output shape of the node. \n",
    "\n",
    "\n",
    "It also has several boolean attributes:\n",
    "\n",
    "- ``trainable``: whether the node can be trained by ``brainpy.nn.RNNTrainer`` or other specified training methods. \n",
    "- ``is_ff_initialized``: whether the node has initialized the feedforward (input) connections. \n",
    "- ``is_fb_initialized``: whether the node has initialized the feedback (input) connections. \n",
    "- ``is_state_initialized``: whether the node state has been initialized. \n"
   ]
  },
  {
   "cell_type": "markdown",
   "id": "53b39935",
   "metadata": {},
   "source": [
    "## Creating a node"
   ]
  },
  {
   "cell_type": "markdown",
   "id": "43d00efc",
   "metadata": {},
   "source": [
    "A layer can be created as an instance of a ``brainpy.nn.Node`` subclass. For example, a dense layer can be created as follows:"
   ]
  },
  {
   "cell_type": "code",
   "execution_count": 2,
   "id": "6b9953d0",
   "metadata": {},
   "outputs": [
    {
     "data": {
      "text/plain": "Dense(name=Dense0, trainable=True, forwards=None, feedbacks=None, \n      output=None, support_feedback=False, data_pass_type=PASS_SEQUENCE)"
     },
     "execution_count": 2,
     "metadata": {},
     "output_type": "execute_result"
    }
   ],
   "source": [
    "bp.nn.Dense(num_unit=100) "
   ]
  },
  {
   "cell_type": "markdown",
   "id": "27c628ad",
   "metadata": {},
   "source": [
    "This will create a dense layer with 100 units."
   ]
  },
  {
   "cell_type": "markdown",
   "id": "61510c36",
   "metadata": {},
   "source": [
    "Of course, if you have known the shapes of the feedforward connections, you can use ``input_shape``. "
   ]
  },
  {
   "cell_type": "code",
   "execution_count": 3,
   "id": "cffb6023",
   "metadata": {},
   "outputs": [
    {
     "data": {
      "text/plain": "Dense(name=Dense1, trainable=True, forwards=((None, 128),), feedbacks=None, \n      output=None, support_feedback=False, data_pass_type=PASS_SEQUENCE)"
     },
     "execution_count": 3,
     "metadata": {},
     "output_type": "execute_result"
    }
   ],
   "source": [
    "bp.nn.Dense(num_unit=100, input_shape=128) "
   ]
  },
  {
   "cell_type": "markdown",
   "id": "99f7f006",
   "metadata": {},
   "source": [
    "This create a densely connected layer which connected to another input layer with 128 dimension. "
   ]
  },
  {
   "cell_type": "markdown",
   "id": "b21290a6",
   "metadata": {},
   "source": [
    "## Naming a node"
   ]
  },
  {
   "cell_type": "markdown",
   "id": "8b2332b7",
   "metadata": {},
   "source": [
    "For convenience, you can name a layer by specifying the name keyword argument:"
   ]
  },
  {
   "cell_type": "code",
   "execution_count": 4,
   "id": "6e6c05bb",
   "metadata": {},
   "outputs": [
    {
     "data": {
      "text/plain": "Dense(name=hidden_layer, trainable=True, forwards=((None, 128),), feedbacks=None, \n      output=None, support_feedback=False, data_pass_type=PASS_SEQUENCE)"
     },
     "execution_count": 4,
     "metadata": {},
     "output_type": "execute_result"
    }
   ],
   "source": [
    "bp.nn.Dense(num_unit=100, input_shape=128, name='hidden_layer')"
   ]
  },
  {
   "cell_type": "markdown",
   "id": "9466b3d3",
   "metadata": {},
   "source": [
    "## Initializing parameters"
   ]
  },
  {
   "cell_type": "markdown",
   "id": "bcc96651",
   "metadata": {},
   "source": [
    "Many nodes have their parameters. We can set the parameter of a node will the following methods. "
   ]
  },
  {
   "cell_type": "markdown",
   "id": "ffb94bb7",
   "metadata": {},
   "source": [
    "- **Tensors**\n",
    "\n",
    "If a tensor variable instance is provided, this is used unchanged as the parameter variable. For example:"
   ]
  },
  {
   "cell_type": "code",
   "execution_count": 5,
   "id": "2d0c203c",
   "metadata": {},
   "outputs": [
    {
     "data": {
      "text/plain": "(10, 50)"
     },
     "execution_count": 5,
     "metadata": {},
     "output_type": "execute_result"
    }
   ],
   "source": [
    "l = bp.nn.Dense(num_unit=50, input_shape=10, \n",
    "                weight_initializer=bm.random.normal(0, 0.01, size=(10, 50)))\n",
    "l.initialize(num_batch=1)\n",
    "\n",
    "l.weights.shape"
   ]
  },
  {
   "cell_type": "markdown",
   "id": "1ea8dced",
   "metadata": {},
   "source": [
    "- **Callable function**\n",
    "\n",
    "If a callable function (which receives a ``shape`` argument) is provided, the callable will be called with the desired shape to generate suitable initial parameter values. The variable is then initialized with those values. For example:"
   ]
  },
  {
   "cell_type": "code",
   "execution_count": 6,
   "id": "619b8348",
   "metadata": {},
   "outputs": [
    {
     "data": {
      "text/plain": "(20, 30)"
     },
     "execution_count": 6,
     "metadata": {},
     "output_type": "execute_result"
    }
   ],
   "source": [
    "def init(shape):\n",
    "    return bm.random.random(shape)\n",
    "\n",
    "l = bp.nn.Dense(num_unit=30, input_shape=20, weight_initializer=init)\n",
    "l.initialize(num_batch=1)\n",
    "\n",
    "l.weights.shape"
   ]
  },
  {
   "cell_type": "markdown",
   "id": "67e609ea",
   "metadata": {},
   "source": [
    "- **Instance of** ``brainpy.init.Initializer`` \n",
    "\n",
    "If a ``brainpy.init.Initializer`` instance is provided, the initial parameter values will be generated with the desired shape by using the Initializer instance. For example:"
   ]
  },
  {
   "cell_type": "code",
   "execution_count": 7,
   "id": "752197ed",
   "metadata": {},
   "outputs": [
    {
     "data": {
      "text/plain": "(20, 100)"
     },
     "execution_count": 7,
     "metadata": {},
     "output_type": "execute_result"
    }
   ],
   "source": [
    "l = bp.nn.Dense(num_unit=100, input_shape=20, \n",
    "                weight_initializer=bp.init.Normal(0.01))\n",
    "l.initialize(num_batch=1)\n",
    "\n",
    "l.weights.shape"
   ]
  },
  {
   "cell_type": "markdown",
   "id": "81be43d0",
   "metadata": {},
   "source": [
    "The weight matrix $W$ of this dense layer will be initialized using samples from a normal distribution with standard deviation 0.01 (see [brainpy.initialize](../apis/auto/initialize.rst) for more information)."
   ]
  },
  {
   "cell_type": "markdown",
   "id": "53bf53f0",
   "metadata": {},
   "source": [
    "- **None parameter**\n",
    "\n",
    "Some types of parameter variables can also be set to ``None`` at initialization (e.g. biases). In that case, the parameter variable will be omitted. For example, creating a dense layer without biases is done as follows:"
   ]
  },
  {
   "cell_type": "code",
   "execution_count": 8,
   "id": "e546749d",
   "metadata": {
    "scrolled": false
   },
   "outputs": [
    {
     "name": "stdout",
     "output_type": "stream",
     "text": [
      "None\n"
     ]
    }
   ],
   "source": [
    "l = bp.nn.Dense(num_unit=100, input_shape=20, bias_initializer=None)\n",
    "l.initialize(num_batch=1)\n",
    "\n",
    "print(l.bias)"
   ]
  },
  {
   "cell_type": "markdown",
   "id": "cfdff98a",
   "metadata": {},
   "source": [
    "## ``trainable`` settings"
   ]
  },
  {
   "cell_type": "markdown",
   "id": "7121fd2e",
   "metadata": {},
   "source": [
    "Setting the node to be trainable or un-trainable can be easily achieved. This is controlled by the ``trainable`` argument when initializing a node. \n",
    "\n",
    "For example, for a un-trainable dense layer, the *weights* and *bias* are JaxArray instances. "
   ]
  },
  {
   "cell_type": "code",
   "execution_count": 9,
   "id": "cf2e457f",
   "metadata": {},
   "outputs": [
    {
     "data": {
      "text/plain": "JaxArray([[-0.12613049,  0.14836858,  0.7535165 ],\n          [-0.539558  ,  0.12115271, -0.46093628],\n          [-0.7500996 ,  0.01327358, -0.02536432],\n          [-0.3918407 , -0.07949126,  0.2674435 ]], dtype=float32)"
     },
     "execution_count": 9,
     "metadata": {},
     "output_type": "execute_result"
    }
   ],
   "source": [
    "l = bp.nn.Dense(num_unit=3, input_shape=4, trainable=False)\n",
    "l.initialize(num_batch=1)\n",
    "\n",
    "l.weights"
   ]
  },
  {
   "cell_type": "markdown",
   "id": "c468f5be",
   "metadata": {},
   "source": [
    "When creating a layer with trainable setting, ``TrainVar`` will be created for them and initialized automatically. For example:"
   ]
  },
  {
   "cell_type": "code",
   "execution_count": 10,
   "id": "8b9dc0a2",
   "metadata": {},
   "outputs": [
    {
     "data": {
      "text/plain": "TrainVar([[-0.24284273,  0.1005571 , -0.9604599 ],\n          [ 0.09039249,  0.4681486 ,  0.666192  ],\n          [ 0.24261971,  0.55806404, -0.30615446],\n          [-0.99454516, -0.06997029, -0.04132903]], dtype=float32)"
     },
     "execution_count": 10,
     "metadata": {},
     "output_type": "execute_result"
    }
   ],
   "source": [
    "l = bp.nn.Dense(num_unit=3, input_shape=4, trainable=True)\n",
    "l.initialize(num_batch=1)\n",
    "\n",
    "l.weights"
   ]
  }
 ],
 "metadata": {
  "kernelspec": {
   "display_name": "Python 3",
   "language": "python",
   "name": "python3"
  },
  "language_info": {
   "codemirror_mode": {
    "name": "ipython",
    "version": 3
   },
   "file_extension": ".py",
   "mimetype": "text/x-python",
   "name": "python",
   "nbconvert_exporter": "python",
   "pygments_lexer": "ipython3",
   "version": "3.8.11"
  },
  "latex_envs": {
   "LaTeX_envs_menu_present": true,
   "autoclose": false,
   "autocomplete": true,
   "bibliofile": "biblio.bib",
   "cite_by": "apalike",
   "current_citInitial": 1,
   "eqLabelWithNumbers": true,
   "eqNumInitial": 1,
   "hotkeys": {
    "equation": "Ctrl-E",
    "itemize": "Ctrl-I"
   },
   "labels_anchors": false,
   "latex_user_defs": false,
   "report_style_numbering": false,
   "user_envs_cfg": false
  },
  "toc": {
   "base_numbering": 1,
   "nav_menu": {},
   "number_sections": true,
   "sideBar": true,
   "skip_h1_title": false,
   "title_cell": "Table of Contents",
   "title_sidebar": "Contents",
   "toc_cell": false,
   "toc_position": {},
   "toc_section_display": true,
   "toc_window_display": true
  }
 },
 "nbformat": 4,
 "nbformat_minor": 5
}