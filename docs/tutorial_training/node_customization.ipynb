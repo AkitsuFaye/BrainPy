{
 "cells": [
  {
   "cell_type": "markdown",
   "id": "7661b7ca",
   "metadata": {},
   "source": [
    "# Node Customization"
   ]
  },
  {
   "cell_type": "markdown",
   "id": "f75becb3",
   "metadata": {},
   "source": [
    "@[Chaoming Wang](https://github.com/chaoming0625)"
   ]
  },
  {
   "cell_type": "markdown",
   "id": "332286a2",
   "metadata": {},
   "source": [
    "To implement a custom node in BrainPy, you will have to write a Python class that subclasses ``brainpy.nn.Node`` and implement several important methods. "
   ]
  },
  {
   "cell_type": "code",
   "execution_count": 1,
   "id": "6c1e1c72",
   "metadata": {},
   "outputs": [],
   "source": [
    "import brainpy as bp\n",
    "import brainpy.math as bm\n",
    "\n",
    "from brainpy.tools.checking import check_shape_consistency\n",
    "\n",
    "bp.math.set_platform('cpu')"
   ]
  },
  {
   "cell_type": "markdown",
   "id": "2ebf4dbb",
   "metadata": {},
   "source": [
    "Before we start, you need to know the minimal knowledge about the ``brainpy.nn.Node``. Please see the tutorial of [Node Specification](../node_specification.ipynb). "
   ]
  },
  {
   "cell_type": "markdown",
   "id": "f5dca8b6",
   "metadata": {},
   "source": [
    "## Customizing a feedforward node"
   ]
  },
  {
   "cell_type": "markdown",
   "id": "bda06121",
   "metadata": {},
   "source": [
    "In general, the variable initialization and the logic computation of each node in ``brainpy.nn`` module are separated from each other. If not, applying JIT compilation to these nodes will be difficult. "
   ]
  },
  {
   "cell_type": "markdown",
   "id": "06fc418b",
   "metadata": {},
   "source": [
    "If your node only has feedforward connections, "
   ]
  },
  {
   "cell_type": "markdown",
   "id": "f7c8274a",
   "metadata": {},
   "source": [
    "<center>\n",
    "    <img src=\"../_static/feedforward_node.png\" width=\"200 px\" >\n",
    "</center>"
   ]
  },
  {
   "cell_type": "markdown",
   "id": "3ec39f05",
   "metadata": {},
   "source": [
    "you need to implement two functions:\n",
    "\n",
    "- ``init_ff()``: This function aims to initialize the feedforward connections and compute the output shape according to the given ``feedforward_shapes``. \n",
    "- ``forward()``: This function implement the main computation logic of the node. It may calculate the new state of the node. But most importantly, this function shoud return the output value for feedforward data flow. "
   ]
  },
  {
   "cell_type": "markdown",
   "id": "0a308737",
   "metadata": {},
   "source": [
    "To show how this can be used, here is a node that multiplies its input by a matrix `W` (much like a typical fully connected layer in a neural network would). This matrix is a parameter of the layer. The shape of the matrix will be *(num_input, num_unit)*, where *num_input* is the number of input features and *num_unit* is the number of output features."
   ]
  },
  {
   "cell_type": "code",
   "execution_count": 2,
   "id": "e96c8fac",
   "metadata": {},
   "outputs": [],
   "source": [
    "class DotNode(bp.nn.Node):\n",
    "    def __init__(self, num_unit, W_initializer=bp.initialize.Normal(), **kwargs):\n",
    "        super(DotNode, self).__init__(**kwargs)\n",
    "        self.num_unit = num_unit\n",
    "        self.W_initializer = W_initializer\n",
    "    \n",
    "    def init_ff(self):\n",
    "        # This function should compute the output shape and  \n",
    "        # the feedforward (FF) connections\n",
    "        \n",
    "        # 1. First, due to multiple FF shapes, we need to know \n",
    "        #    the total shape when all FF inputs are concatenated. \n",
    "        #    Function \"check_shape_consistency()\" may help you \n",
    "        #    solve this problem quickly.\n",
    "        \n",
    "        unique_size, free_sizes = check_shape_consistency(self.feedforward_shapes, -1, True)\n",
    "        \n",
    "        # 2. Initialize the weight W\n",
    "        weight_shape = (sum(free_sizes), self.num_unit)\n",
    "        self.W = bp.nn.init_param(self.W_initializer, weight_shape)\n",
    "        #   If the user want to train this node, we need mark the \n",
    "        #   weight as a \"brainpy.math.TrainVar\"\n",
    "        if self.trainable:\n",
    "            self.W = bm.TrainVar(self.W)\n",
    "        \n",
    "        # 3. Set the output shape \n",
    "        self.set_output_shape(unique_size + (self.num_unit,))\n",
    "        \n",
    "    def forward(self, ff):\n",
    "        # 1. First, we concatenate all FF inputs\n",
    "        ff = bm.concatenate(ff, axis=-1)\n",
    "        \n",
    "        # 2. Then, we multiply the input with the weight\n",
    "        return bm.dot(ff, self.W)"
   ]
  },
  {
   "cell_type": "markdown",
   "id": "ab9a4bcc",
   "metadata": {},
   "source": [
    "A few things are worth noting here: when overriding the constructor, we need to call the superclass constructor on the first line. This is important to ensure the node functions properly. Note that we pass ``**kwargs`` - although this is not strictly necessary, it enables some other cool features, such as making it possible to give the layer a name: "
   ]
  },
  {
   "cell_type": "code",
   "execution_count": 3,
   "id": "d654c4e9",
   "metadata": {},
   "outputs": [
    {
     "data": {
      "text/plain": [
       "DotNode(name=my_dot_node, trainable=False, forwards=None, feedbacks=None, \n",
       "        output=None, support_feedback=False, data_pass_type=PASS_SEQUENCE)"
      ]
     },
     "execution_count": 3,
     "metadata": {},
     "output_type": "execute_result"
    }
   ],
   "source": [
    "DotNode(10, name='my_dot_node')"
   ]
  },
  {
   "cell_type": "markdown",
   "id": "20ea0217",
   "metadata": {},
   "source": [
    "Or, set this node trainable:"
   ]
  },
  {
   "cell_type": "code",
   "execution_count": 4,
   "id": "54a47296",
   "metadata": {},
   "outputs": [
    {
     "data": {
      "text/plain": [
       "DotNode(name=DotNode0, trainable=True, forwards=None, feedbacks=None, \n",
       "        output=None, support_feedback=False, data_pass_type=PASS_SEQUENCE)"
      ]
     },
     "execution_count": 4,
     "metadata": {},
     "output_type": "execute_result"
    }
   ],
   "source": [
    "DotNode(10, trainable=True)"
   ]
  },
  {
   "cell_type": "markdown",
   "id": "908ac9ce",
   "metadata": {},
   "source": [
    "Once we create this ``DotNode``, we can connect multiple feedforward nodes to its instance. "
   ]
  },
  {
   "cell_type": "code",
   "execution_count": 5,
   "id": "5b58656b",
   "metadata": {},
   "outputs": [
    {
     "name": "stdout",
     "output_type": "stream",
     "text": [
      "['DotNode1', 'i1', 'i2', 'i3']\n"
     ]
    },
    {
     "data": {
      "image/png": "[encoded data removed]",
      "text/plain": [
       "<Figure size 400x400 with 1 Axes>"
      ]
     },
     "metadata": {},
     "output_type": "display_data"
    }
   ],
   "source": [
    "l = DotNode(10)\n",
    "i1 = bp.nn.Input(1, name='i1')\n",
    "i2 = bp.nn.Input(2, name='i2')\n",
    "i3 = bp.nn.Input(3, name='i3')\n",
    "\n",
    "net = {i1, i2, i3} >> l\n",
    "\n",
    "net.plot_node_graph(fig_size=(4, 4), node_size=2000)"
   ]
  },
  {
   "cell_type": "code",
   "execution_count": 6,
   "id": "aaf74958",
   "metadata": {},
   "outputs": [
    {
     "data": {
      "text/plain": [
       "JaxArray([[ 1.6226772 ,  0.09378748, -0.42562214,  0.20474005,\n",
       "            0.01356437,  1.6992182 , -1.2981452 ,  0.47857544,\n",
       "           -0.75002587,  2.3831568 ]], dtype=float32)"
      ]
     },
     "execution_count": 6,
     "metadata": {},
     "output_type": "execute_result"
    }
   ],
   "source": [
    "net.initialize(num_batch=1)\n",
    "\n",
    "# given an input, let's compute its output\n",
    "net({'i1': bm.ones((1, 1)), \n",
    "     'i2': bm.zeros((1, 2)), \n",
    "     'i3': bm.random.random((1, 3))})"
   ]
  },
  {
   "cell_type": "markdown",
   "id": "4ec0d8d6",
   "metadata": {},
   "source": [
    "## Customizing a recurrent node"
   ]
  },
  {
   "cell_type": "markdown",
   "id": "f833b3d8",
   "metadata": {},
   "source": [
    "If your node is a recurrent node, which means it has its own ``state`` and has a self-to-self connection weights, "
   ]
  },
  {
   "cell_type": "markdown",
   "id": "9a404be4",
   "metadata": {},
   "source": [
    "<center>\n",
    "    <img src=\"../_static/recurrent_node.png\" width=\"200 px\" >\n",
    "</center>"
   ]
  },
  {
   "cell_type": "markdown",
   "id": "15ddaaa8",
   "metadata": {},
   "source": [
    "this time, you need to implement one more function:\n",
    "\n",
    "- ``init_state(num_batch)``: This function aims to initialize the Node state which depends on the batch size. "
   ]
  },
  {
   "cell_type": "markdown",
   "id": "57256c99",
   "metadata": {},
   "source": [
    "Furthermore, we recommend users' recurren node inherit from ``brainpy.nn.RecurrentNode``. Because this will instruct BrainPy to know it is a node has recurrent connections. "
   ]
  },
  {
   "cell_type": "markdown",
   "id": "1e0f9e94",
   "metadata": {},
   "source": [
    "Here, let's try to implement a Vanilla RNN model. "
   ]
  },
  {
   "cell_type": "code",
   "execution_count": 7,
   "id": "7d6585f8",
   "metadata": {},
   "outputs": [],
   "source": [
    "class VRNN(bp.nn.RecurrentNode):\n",
    "  def __init__(self, num_unit, \n",
    "               wi_initializer=bp.init.XavierNormal(),\n",
    "               wr_initializer=bp.init.XavierNormal(), **kwargs):\n",
    "    super(VRNN, self).__init__(**kwargs)\n",
    "    \n",
    "    self.num_unit = num_unit\n",
    "    self.wi_initializer = wi_initializer\n",
    "    self.wr_initializer = wr_initializer\n",
    "    \n",
    "  def init_ff(self):\n",
    "    unique_size, free_sizes = check_shape_consistency(self.feedforward_shapes, -1, True)\n",
    "    num_input = sum(free_sizes)\n",
    "    self.wi = bp.nn.init_param(self.wi_initializer, (num_input, self.num_unit))\n",
    "    self.wr = bp.nn.init_param(self.wr_initializer, (self.num_unit, self.num_unit))\n",
    "    if self.trainable:\n",
    "      self.wi = bm.TrainVar(self.wi)\n",
    "      self.wr = bm.TrainVar(self.wr)\n",
    "    \n",
    "  def init_state(self, num_batch=1):\n",
    "    state = bm.zeros((num_batch, self.num_unit))\n",
    "    self.set_state(state)\n",
    "  \n",
    "  def forward(self, ff):\n",
    "    ff = bm.concatenate(ff, axis=-1)\n",
    "    state = ff @ self.wi + self.state @ self.wr\n",
    "    self.state.value = state\n",
    "    return state"
   ]
  },
  {
   "cell_type": "markdown",
   "id": "8defeee2",
   "metadata": {},
   "source": [
    "## Customizing a node with feedbacks"
   ]
  },
  {
   "cell_type": "markdown",
   "id": "f44ed15d",
   "metadata": {},
   "source": [
    "Creating a layer receiving multiple feedback inputs is the same with the feedforward connections. "
   ]
  },
  {
   "cell_type": "markdown",
   "id": "4d448ed8",
   "metadata": {},
   "source": [
    "\n",
    "<center>\n",
    "    <img src=\"../_static/feedback_node.png\" width=\"400 px\" >\n",
    "</center>"
   ]
  },
  {
   "cell_type": "markdown",
   "id": "fe5405fd",
   "metadata": {},
   "source": [
    "Users need to implement one more function, that is:\n",
    "\n",
    "- ``init_fb()``: This function aims to initialize the feedback information, including the feedback connections, feedback weights, and others. "
   ]
  },
  {
   "cell_type": "markdown",
   "id": "8a611359",
   "metadata": {},
   "source": [
    "For the above ``DotNode``, if try to support feedback connection, you can define the model like:"
   ]
  },
  {
   "cell_type": "code",
   "execution_count": 8,
   "id": "528d3f2d",
   "metadata": {},
   "outputs": [],
   "source": [
    "class FeedBackDotNode(bp.nn.Node):\n",
    "  def __init__(self, num_unit, W_initializer=bp.initialize.Normal(), **kwargs):\n",
    "    super(FeedBackDotNode, self).__init__(**kwargs)\n",
    "    self.num_unit = num_unit\n",
    "    self.W_initializer = W_initializer\n",
    "\n",
    "  def init_ff(self):\n",
    "    # 1. FF shapes\n",
    "    unique_size, free_sizes = check_shape_consistency(self.feedforward_shapes, -1, True)\n",
    "    # 2. Initialize the feedforward weight Wff\n",
    "    weight_shape = (sum(free_sizes), self.num_unit)\n",
    "    self.Wff = bp.nn.init_param(self.W_initializer, weight_shape)\n",
    "    if self.trainable:\n",
    "      self.Wff = bm.TrainVar(self.Wff)\n",
    "    # 3. Set the output shape \n",
    "    self.set_output_shape(unique_size + (self.num_unit,))\n",
    "  \n",
    "  def init_fb(self):\n",
    "    # 1. FB shapes\n",
    "    unique_size, free_sizes = check_shape_consistency(self.feedback_shapes, -1, True)\n",
    "    # 2. Initialize the feedback weight Wfb\n",
    "    weight_shape = (sum(free_sizes), self.num_unit)\n",
    "    self.Wfb = bp.nn.init_param(self.W_initializer, weight_shape)\n",
    "    if self.trainable:\n",
    "      self.Wfb = bm.TrainVar(self.Wfb)\n",
    "    \n",
    "  def forward(self, ff, fb=None):\n",
    "    ff = bm.concatenate(ff, axis=-1)\n",
    "    res = bm.dot(ff, self.Wff)\n",
    "    if fb is None:\n",
    "      fb = bm.concatenate(fb, axis=-1)\n",
    "      res += bm.dot(fb, self.Wfb)\n",
    "    return res"
   ]
  },
  {
   "cell_type": "markdown",
   "id": "6bce8b94",
   "metadata": {},
   "source": [
    "Note the difference between ``DotNode`` and ``FeedBackDotNode``. The ``forward()`` function of the latter has one argument ``fb=None``, which means if this node has feedback connections, it will pass all feedback inputs to ``fb`` argument. "
   ]
  },
  {
   "cell_type": "markdown",
   "id": "c5e12798",
   "metadata": {},
   "source": [
    "```{note}\n",
    "\n",
    "Feedback connecting to a node which do not support feedbacks will raise an error.\n",
    "\n",
    "```"
   ]
  },
  {
   "cell_type": "code",
   "execution_count": 9,
   "id": "6359b940",
   "metadata": {},
   "outputs": [
    {
     "name": "stdout",
     "output_type": "stream",
     "text": [
      "<class 'ValueError'>\n",
      "Establish a feedback connection to \n",
      "DotNode(name=DotNode2, trainable=False, forwards=None, feedbacks=None, \n",
      "        output=None, support_feedback=False, data_pass_type=PASS_SEQUENCE)\n",
      "is not allowed. Because this node does not support feedback connections.\n"
     ]
    }
   ],
   "source": [
    "try:\n",
    "    DotNode(1) << bp.nn.Input(1)\n",
    "except Exception as e:\n",
    "    print(e.__class__)\n",
    "    print(e)"
   ]
  },
  {
   "cell_type": "code",
   "execution_count": 10,
   "id": "3cd1a4eb",
   "metadata": {},
   "outputs": [
    {
     "data": {
      "text/plain": [
       "Network(FeedBackDotNode0, Input1)"
      ]
     },
     "execution_count": 10,
     "metadata": {},
     "output_type": "execute_result"
    }
   ],
   "source": [
    "FeedBackDotNode(1) << bp.nn.Input(1)"
   ]
  },
  {
   "cell_type": "markdown",
   "id": "1f5acceb",
   "metadata": {},
   "source": [
    "## Customizing a node with multiple behaviors"
   ]
  },
  {
   "cell_type": "markdown",
   "id": "db2d17a0",
   "metadata": {},
   "source": [
    "Some nodes can have multiple behaviors. For example, a node implementing *dropout* should be able to be switched on or off. During training, we want it to apply dropout noise to its input and scale up the remaining values, but during evaluation we don’t want it to do anything.\n",
    "\n",
    "For this purpose, the ``forward()`` method takes optional keyword arguments (``kwargs``). When ``forward()`` is called to compute an expression for the output of a network, all specified keyword arguments are passed to the ``forward()`` methods of all layers in the network."
   ]
  },
  {
   "cell_type": "code",
   "execution_count": 11,
   "id": "9dc00ecb",
   "metadata": {},
   "outputs": [],
   "source": [
    "class Dropout(bp.nn.Node):\n",
    "    def __init__(self, prob, seed=None, **kwargs):\n",
    "        super(Dropout, self).__init__(**kwargs)\n",
    "        self.prob = prob\n",
    "        self.rng = bm.random.RandomState(seed=seed)\n",
    "\n",
    "    def init_ff(self):\n",
    "        assert len(self.feedback_shapes) == 1, 'Only support one feedforward input.'\n",
    "        self.set_output_shape(self.feedforward_shapes[0])\n",
    "\n",
    "    def forward(self, ff, **kwargs):\n",
    "        assert len(ff) == 1, 'Only support one feedforward input.'\n",
    "        if kwargs.get('train', True):\n",
    "            keep_mask = self.rng.bernoulli(self.prob, ff[0].shape)\n",
    "            return bm.where(keep_mask, ff[0] / self.prob, 0.)\n",
    "        else:\n",
    "            return ff[0]"
   ]
  },
  {
   "cell_type": "markdown",
   "id": "9174b66d",
   "metadata": {},
   "source": [
    "``Dropout`` node only supports one feedforward input. Therefore we have some check at the beginning of ``init_ff()`` and  ``forward()`` functions. "
   ]
  }
 ],
 "metadata": {
  "jupytext": {
   "encoding": "# -*- coding: utf-8 -*-"
  },
  "kernelspec": {
   "display_name": "brainpy",
   "language": "python",
   "name": "brainpy"
  },
  "language_info": {
   "codemirror_mode": {
    "name": "ipython",
    "version": 3
   },
   "file_extension": ".py",
   "mimetype": "text/x-python",
   "name": "python",
   "nbconvert_exporter": "python",
   "pygments_lexer": "ipython3",
   "version": "3.8.11"
  },
  "latex_envs": {
   "LaTeX_envs_menu_present": true,
   "autoclose": false,
   "autocomplete": true,
   "bibliofile": "biblio.bib",
   "cite_by": "apalike",
   "current_citInitial": 1,
   "eqLabelWithNumbers": true,
   "eqNumInitial": 1,
   "hotkeys": {
    "equation": "Ctrl-E",
    "itemize": "Ctrl-I"
   },
   "labels_anchors": false,
   "latex_user_defs": false,
   "report_style_numbering": false,
   "user_envs_cfg": false
  },
  "toc": {
   "base_numbering": 1,
   "nav_menu": {},
   "number_sections": true,
   "sideBar": true,
   "skip_h1_title": false,
   "title_cell": "Table of Contents",
   "title_sidebar": "Contents",
   "toc_cell": false,
   "toc_position": {},
   "toc_section_display": true,
   "toc_window_display": true
  }
 },
 "nbformat": 4,
 "nbformat_minor": 5
}
