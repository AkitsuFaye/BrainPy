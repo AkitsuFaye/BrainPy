{
 "cells": [
  {
   "cell_type": "markdown",
   "metadata": {
    "collapsed": true,
    "pycharm": {
     "name": "#%% md\n"
    }
   },
   "source": [
    "# Network Training"
   ]
  },
  {
   "cell_type": "markdown",
   "source": [
    "@[Chaoming Wang](mailto:adaduo@outlook.com)"
   ],
   "metadata": {
    "collapsed": false,
    "pycharm": {
     "name": "#%% md\n"
    }
   }
  },
  {
   "cell_type": "markdown",
   "source": [
    "To maker your model powerful, you need to train your created network models. In this section, we are going to talk about how to train your network models."
   ],
   "metadata": {
    "collapsed": false,
    "pycharm": {
     "name": "#%% md\n"
    }
   }
  },
  {
   "cell_type": "code",
   "execution_count": 1,
   "outputs": [],
   "source": [
    "import brainpy as bp\n",
    "import brainpy.math as bm\n",
    "\n",
    "bp.math.set_platform('cpu')"
   ],
   "metadata": {
    "collapsed": false,
    "pycharm": {
     "name": "#%%\n"
    }
   }
  },
  {
   "cell_type": "markdown",
   "source": [
    "## Setup a ``RNNTrainer``"
   ],
   "metadata": {
    "collapsed": false,
    "pycharm": {
     "name": "#%% md\n"
    }
   }
  },
  {
   "cell_type": "markdown",
   "source": [
    "Once you create a model, setuping a structural trainer is just to instantiating a ``RNNTrainer``."
   ],
   "metadata": {
    "collapsed": false,
    "pycharm": {
     "name": "#%% md\n"
    }
   }
  },
  {
   "cell_type": "code",
   "source": [
    "model = (\n",
    "    bp.nn.Input(1)\n",
    "    >>\n",
    "    bp.nn.VanillaRNN(100)\n",
    "    >>\n",
    "    bp.nn.Dense(1)\n",
    ")\n",
    "model.initialize(1)\n",
    "\n",
    "# set up a ridge regression trainer\n",
    "trainer = bp.nn.BPTT(model, loss='mean_squared_error')"
   ],
   "metadata": {
    "collapsed": false,
    "pycharm": {
     "name": "#%%\n"
    }
   },
   "execution_count": 2,
   "outputs": []
  },
  {
   "cell_type": "markdown",
   "source": [
    "In the next, all you need is to provide your training data to the ``.fit()`` function."
   ],
   "metadata": {
    "collapsed": false,
    "pycharm": {
     "name": "#%% md\n"
    }
   }
  },
  {
   "cell_type": "markdown",
   "source": [
    "The **training data** feeding into the ``.fit()`` function can be a tuple or a list of ``(X, Y)`` pair, or a callable function which generate ``(x, y)`` data pairs.\n",
    "\n",
    "- If the providing training data is the ``(X, Y)`` data pair, ``X`` should be the input data which has the shape of `(num_sample, num_time, num_feature)`, ``Y`` should be the target data which has the shape of `(num_sample, num_time, num_feature)` for ``many-to-many`` training data mapping, or a data with the shape of `(num_sample, num_feature)` for ``many-to-final`` training data mapping.\n",
    "\n",
    "![](../_static/rnn_training_mapping.png)\n"
   ],
   "metadata": {
    "collapsed": false,
    "pycharm": {
     "name": "#%% md\n"
    }
   }
  },
  {
   "cell_type": "markdown",
   "source": [
    "- If the training data is a callable function, it should generate a Python generator which yield the pair of ``(X, Y)`` data for training. For example,\n",
    "\n",
    "```python\n",
    "\n",
    "# when calling this function,\n",
    "# it will create a Python generator.\n",
    "\n",
    "def train_data():\n",
    "  num_data = 10\n",
    "  for _ in range(num_data):\n",
    "     # The (X, Y) data pair should be:\n",
    "     # - \"X\" is a tensor has the shape of\n",
    "     #   \"(num_batch, num_time, num_feature)\"\n",
    "     # - \"Y\" is a tensor has the shape of\n",
    "     #   \"(num_batch, num_time, num_feature)\"\n",
    "     #   or \"(num_batch, num_feature)\"\n",
    "     xs = bm.random.rand(1, 20, 2)\n",
    "     ys = bm.random.random((1, 20, 2))\n",
    "     yield xs, ys\n",
    "```\n"
   ],
   "metadata": {
    "collapsed": false,
    "pycharm": {
     "name": "#%% md\n"
    }
   }
  },
  {
   "cell_type": "markdown",
   "source": [
    "However, all these data constraints can be released when you customize your training procedures. Please see XXXXXX."
   ],
   "metadata": {
    "collapsed": false,
    "pycharm": {
     "name": "#%% md\n"
    }
   }
  },
  {
   "cell_type": "markdown",
   "source": [
    "It is worthy to note that before fitting your data by calling ``.fit()`` function, you need to **initialize the model** by specifying the batch size your data are using. Otherwise, an error will cause."
   ],
   "metadata": {
    "collapsed": false,
    "pycharm": {
     "name": "#%% md\n"
    }
   }
  },
  {
   "cell_type": "markdown",
   "source": [
    "## Supported training algorithms"
   ],
   "metadata": {
    "collapsed": false,
    "pycharm": {
     "name": "#%% md\n"
    }
   }
  },
  {
   "cell_type": "markdown",
   "source": [
    "Currently, BrainPy provides several ways to train recurrent neural networks, including ridge regression, FORCE learning, and back-propagation through time algorithms, etc. The full list of the supported training algorithms please see the [API documentation](../apis/auto/nn/runners.rst). Here we only talk about few of them."
   ],
   "metadata": {
    "collapsed": false,
    "pycharm": {
     "name": "#%% md\n"
    }
   }
  },
  {
   "cell_type": "markdown",
   "source": [
    "### Ridge regression"
   ],
   "metadata": {
    "collapsed": false,
    "pycharm": {
     "name": "#%% md\n"
    }
   }
  },
  {
   "cell_type": "code",
   "execution_count": null,
   "outputs": [],
   "source": [],
   "metadata": {
    "collapsed": false,
    "pycharm": {
     "name": "#%%\n"
    }
   }
  },
  {
   "cell_type": "code",
   "execution_count": null,
   "outputs": [],
   "source": [],
   "metadata": {
    "collapsed": false,
    "pycharm": {
     "name": "#%%\n"
    }
   }
  },
  {
   "cell_type": "markdown",
   "source": [
    "## Shared parameters"
   ],
   "metadata": {
    "collapsed": false,
    "pycharm": {
     "name": "#%% md\n"
    }
   }
  },
  {
   "cell_type": "markdown",
   "source": [
    "Sometimes, there are some global parameters which are shared across all nodes. For example, the training or testing phase control parameter ``train=True/False``. Here, we use one simple model to demonstrate how to provide shared parameters when we calling models."
   ],
   "metadata": {
    "collapsed": false,
    "pycharm": {
     "name": "#%% md\n"
    }
   }
  },
  {
   "cell_type": "code",
   "execution_count": 3,
   "outputs": [],
   "source": [
    "model = (\n",
    "    bp.nn.Input(1)\n",
    "    >>\n",
    "    bp.nn.VanillaRNN(100)\n",
    "    >>\n",
    "    bp.nn.Dropout(0.3)\n",
    "    >>\n",
    "    bp.nn.Dense(1)\n",
    ")\n",
    "model.initialize(3)"
   ],
   "metadata": {
    "collapsed": false,
    "pycharm": {
     "name": "#%%\n"
    }
   }
  },
  {
   "cell_type": "markdown",
   "source": [
    "These shared parameters can be provided as two kinds of ways:\n",
    "\n",
    "- When you are using the instantiated model directly, you can provide them when calling this model."
   ],
   "metadata": {
    "collapsed": false,
    "pycharm": {
     "name": "#%% md\n"
    }
   }
  },
  {
   "cell_type": "code",
   "execution_count": 4,
   "outputs": [
    {
     "data": {
      "text/plain": "JaxArray([[-2.1306934],\n          [ 1.4046229],\n          [ 1.2039466]], dtype=float32)"
     },
     "execution_count": 4,
     "metadata": {},
     "output_type": "execute_result"
    }
   ],
   "source": [
    "model(bm.random.rand(3, 1), train=True)"
   ],
   "metadata": {
    "collapsed": false,
    "pycharm": {
     "name": "#%%\n"
    }
   }
  },
  {
   "cell_type": "code",
   "execution_count": 5,
   "outputs": [
    {
     "data": {
      "text/plain": "JaxArray([[-0.18169183],\n          [-0.09682302],\n          [-0.09607743]], dtype=float32)"
     },
     "execution_count": 5,
     "metadata": {},
     "output_type": "execute_result"
    }
   ],
   "source": [
    "model(bm.random.rand(3, 1), train=False)"
   ],
   "metadata": {
    "collapsed": false,
    "pycharm": {
     "name": "#%%\n"
    }
   }
  },
  {
   "cell_type": "markdown",
   "source": [
    "- When you are using the structural runners like ``brainpy.nn.RNNRunner`` or ``brainpy.nn.BPTT`` trainer, you can warp all shared parameters in an argument ``shared_kwargs``."
   ],
   "metadata": {
    "collapsed": false,
    "pycharm": {
     "name": "#%% md\n"
    }
   }
  },
  {
   "cell_type": "code",
   "execution_count": 6,
   "outputs": [],
   "source": [
    "runner = bp.nn.RNNRunner(model)"
   ],
   "metadata": {
    "collapsed": false,
    "pycharm": {
     "name": "#%%\n"
    }
   }
  },
  {
   "cell_type": "code",
   "execution_count": 7,
   "outputs": [
    {
     "data": {
      "text/plain": "  0%|          | 0/10 [00:00<?, ?it/s]",
      "application/vnd.jupyter.widget-view+json": {
       "version_major": 2,
       "version_minor": 0,
       "model_id": "ea880617f374408d9a5cd758d136dd01"
      }
     },
     "metadata": {},
     "output_type": "display_data"
    },
    {
     "data": {
      "text/plain": "JaxArray([[[-0.34313297],\n           [-0.23117486],\n           [-0.30522805],\n           [-0.32745296],\n           [ 0.34081894],\n           [ 0.15859577],\n           [-0.12556326],\n           [-0.08884146],\n           [-0.11673015],\n           [ 0.07351794]],\n\n          [[ 0.58661526],\n           [-0.01611713],\n           [-0.28982073],\n           [-0.06223251],\n           [-0.02380377],\n           [-0.25092548],\n           [ 0.1635698 ],\n           [-0.21967886],\n           [ 0.20144288],\n           [-0.37496752]],\n\n          [[-0.30316865],\n           [-0.30312598],\n           [-0.19248168],\n           [-0.0053116 ],\n           [-0.19092566],\n           [-0.10831024],\n           [-0.04929686],\n           [ 0.00246187],\n           [-0.00367273],\n           [-0.03972476]]], dtype=float32)"
     },
     "execution_count": 7,
     "metadata": {},
     "output_type": "execute_result"
    }
   ],
   "source": [
    "runner.predict(bm.random.random((3, 10, 1)),\n",
    "               shared_kwargs={'train': True})"
   ],
   "metadata": {
    "collapsed": false,
    "pycharm": {
     "name": "#%%\n"
    }
   }
  },
  {
   "cell_type": "code",
   "execution_count": 8,
   "outputs": [
    {
     "data": {
      "text/plain": "  0%|          | 0/10 [00:00<?, ?it/s]",
      "application/vnd.jupyter.widget-view+json": {
       "version_major": 2,
       "version_minor": 0,
       "model_id": "0270dd8d9e284ed4a4621221aa7933d1"
      }
     },
     "metadata": {},
     "output_type": "display_data"
    },
    {
     "data": {
      "text/plain": "JaxArray([[[-0.04736265],\n           [-0.03275637],\n           [ 0.07194265],\n           [-0.07143855],\n           [-0.07852352],\n           [ 0.0554626 ],\n           [-0.07382635],\n           [-0.00669023],\n           [-0.04883794],\n           [-0.0540965 ]],\n\n          [[-0.06040927],\n           [ 0.10728423],\n           [-0.09903762],\n           [-0.04275577],\n           [ 0.03387596],\n           [-0.07266021],\n           [-0.01200375],\n           [ 0.00651347],\n           [-0.01666619],\n           [-0.08301818]],\n\n          [[-0.02191623],\n           [-0.10554922],\n           [ 0.01432531],\n           [-0.03919244],\n           [-0.05116755],\n           [ 0.10237596],\n           [-0.13605613],\n           [ 0.02815703],\n           [-0.02858308],\n           [-0.08084894]]], dtype=float32)"
     },
     "execution_count": 8,
     "metadata": {},
     "output_type": "execute_result"
    }
   ],
   "source": [
    "runner.predict(bm.random.random((3, 10, 1)),\n",
    "               shared_kwargs={'train': False})"
   ],
   "metadata": {
    "collapsed": false,
    "pycharm": {
     "name": "#%%\n"
    }
   }
  },
  {
   "cell_type": "markdown",
   "source": [
    "However, it's worthy to note that ``shared_kwargs`` should only have several values. Different value of ``shared_kwargs`` will trigger recompilation. If ``shared_kwargs`` change significantly and frequently, you’d better not declare it as ``shared_kwargs``."
   ],
   "metadata": {
    "collapsed": false,
    "pycharm": {
     "name": "#%% md\n"
    }
   }
  }
 ],
 "metadata": {
  "kernelspec": {
   "name": "brainpy",
   "language": "python",
   "display_name": "brainpy"
  },
  "language_info": {
   "codemirror_mode": {
    "name": "ipython",
    "version": 2
   },
   "file_extension": ".py",
   "mimetype": "text/x-python",
   "name": "python",
   "nbconvert_exporter": "python",
   "pygments_lexer": "ipython2",
   "version": "2.7.6"
  }
 },
 "nbformat": 4,
 "nbformat_minor": 0
}