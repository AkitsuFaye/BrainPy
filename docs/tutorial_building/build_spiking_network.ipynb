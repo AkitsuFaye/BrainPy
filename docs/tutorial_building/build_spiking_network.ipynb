{
 "cells": [
  {
   "cell_type": "markdown",
   "id": "f3477fbe",
   "metadata": {},
   "source": [
    "# Build Spiking Neural Networks"
   ]
  },
  {
   "cell_type": "markdown",
   "id": "eac8daff",
   "metadata": {},
   "source": [
    "The philosophy of BrainPy to build spiking neural networks is decomposing a complex network model into its elements, thus enabling modularity programming and debugging easily. "
   ]
  },
  {
   "cell_type": "code",
   "execution_count": null,
   "id": "426e7d28",
   "metadata": {},
   "outputs": [],
   "source": []
  },
  {
   "cell_type": "markdown",
   "id": "cc182ea7",
   "metadata": {},
   "source": [
    "![](../_static/inheritance.png)"
   ]
  },
  {
   "cell_type": "code",
   "execution_count": null,
   "id": "711f7f39",
   "metadata": {},
   "outputs": [],
   "source": []
  }
 ],
 "metadata": {
  "kernelspec": {
   "display_name": "Python 3 (ipykernel)",
   "language": "python",
   "name": "python3"
  },
  "language_info": {
   "codemirror_mode": {
    "name": "ipython",
    "version": 3
   },
   "file_extension": ".py",
   "mimetype": "text/x-python",
   "name": "python",
   "nbconvert_exporter": "python",
   "pygments_lexer": "ipython3",
   "version": "3.9.5"
  },
  "latex_envs": {
   "LaTeX_envs_menu_present": true,
   "autoclose": false,
   "autocomplete": true,
   "bibliofile": "biblio.bib",
   "cite_by": "apalike",
   "current_citInitial": 1,
   "eqLabelWithNumbers": true,
   "eqNumInitial": 1,
   "hotkeys": {
    "equation": "Ctrl-E",
    "itemize": "Ctrl-I"
   },
   "labels_anchors": false,
   "latex_user_defs": false,
   "report_style_numbering": false,
   "user_envs_cfg": false
  },
  "toc": {
   "base_numbering": 1,
   "nav_menu": {},
   "number_sections": true,
   "sideBar": true,
   "skip_h1_title": false,
   "title_cell": "Table of Contents",
   "title_sidebar": "Contents",
   "toc_cell": false,
   "toc_position": {},
   "toc_section_display": true,
   "toc_window_display": false
  }
 },
 "nbformat": 4,
 "nbformat_minor": 5
}
