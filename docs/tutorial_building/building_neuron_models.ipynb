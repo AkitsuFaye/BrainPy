{
 "cells": [
  {
   "cell_type": "markdown",
   "id": "118e3b1d",
   "metadata": {},
   "source": [
    "# Building Neuron Models"
   ]
  },
  {
   "cell_type": "markdown",
   "id": "6c68cbca",
   "metadata": {},
   "source": [
    "@[Xiaoyu Chen](mailto:c-xy17@tsinghua.org.cn)"
   ]
  },
  {
   "cell_type": "markdown",
   "id": "44d7957a",
   "metadata": {},
   "source": [
    "Neurons are the most basic components in neural dynamics simulation. In BrainPy, `brainpy.NeuGroup` is used for neuron group modeling. **All types of neural groups, build-in or user-customized, should inherit the `brainpy.NeuGroup` base class.**"
   ]
  },
  {
   "cell_type": "markdown",
   "id": "5d38f2b7",
   "metadata": {},
   "source": [
    "## brainpy.NeuGroup"
   ]
  },
  {
   "cell_type": "markdown",
   "id": "9520e950",
   "metadata": {},
   "source": [
    "When defining a neural group class, the `size` of the neural group should be speficied in initialization. `size` can be a integer referring to the number of neurons or a tuple/list of integers referring to the geometry of the neural group in different dimensions.\n",
    "\n",
    "While providing a flexible framework to realize various kinds of neurons, the `brianpy.NeuGroup` requires users to implement the `update(_t, dt)` function to update the neural group state during dymamics simulation."
   ]
  },
  {
   "cell_type": "markdown",
   "id": "b2993080",
   "metadata": {},
   "source": [
    "In the following part, a [Hodgkin-Huxley](https://brainmodels.readthedocs.io/en/latest/apis/generated/brainmodels.neurons.HH.html) (HH) model is used as an example for illustration."
   ]
  },
  {
   "cell_type": "markdown",
   "id": "3095ec6f",
   "metadata": {},
   "source": [
    "### [Hodgkin–Huxley (HH) Model](https://brainmodels.readthedocs.io/en/latest/apis/generated/brainmodels.neurons.HH.html)"
   ]
  },
  {
   "cell_type": "markdown",
   "id": "b5170763",
   "metadata": {},
   "source": [
    "The Hodgkin-Huxley (HH) model for the generation of the nerve action potential is one of the most successful mathematical models of a complex biological process that has ever been formulated.Mathematically, the model is given by:\n",
    "\n",
    "$$\n",
    "\\begin{aligned}\n",
    "    C_m \\frac {dV} {dt} = -(\\bar{g}_{Na} m^3 h (V &-E_{Na})\n",
    "    + \\bar{g}_K n^4 (V-E_K) + g_{leak} (V - E_{leak})) + I(t) \\quad\\quad(1) \\\\\n",
    "    \\frac {dx} {dt} &= \\alpha_x (1-x)  - \\beta_x, \\quad x\\in {\\rm{\\{m, h, n\\}}} \\quad\\quad(2) \\\\\n",
    "    &\\alpha_m(V) = \\frac {0.1(V+40)}{1-\\exp(\\frac{-(V + 40)} {10})} \\quad\\quad(3) \\\\\n",
    "    &\\beta_m(V) = 4.0 \\exp(\\frac{-(V + 65)} {18}) \\quad\\quad(4) \\\\\n",
    "    &\\alpha_h(V) = 0.07 \\exp(\\frac{-(V+65)}{20}) \\quad\\quad(5) \\\\\n",
    "    &\\beta_h(V) = \\frac 1 {1 + \\exp(\\frac{-(V + 35)} {10})} \\quad\\quad(6) \\\\\n",
    "    &\\alpha_n(V) = \\frac {0.01(V+55)}{1-\\exp(-(V+55)/10)} \\quad\\quad(7) \\\\\n",
    "    &\\beta_n(V) = 0.125 \\exp(\\frac{-(V + 65)} {80}) \\quad\\quad(8) \\\\\n",
    "\\end{aligned}\n",
    "$$\n",
    "\n",
    "where $V$ is the membrane potential, $C_m$ is the membrane capacitance per unit area, $E_K$ and $E_{Na}$ are the potassium and sodium reversal potentials, respectively, $E_l$ is the leak reversal potential, $\\bar{g}_K$ and $\\bar{g}_{Na}$ are the potassium and sodium conductances per unit area, respectively, and $\\bar{g}_l$ is the leak conductance per unit area.\n",
    "\n",
    "Because the potassium and sodium channels are voltage-sensitive, according to the biological experiments, $m$, $n$ and $h$ are used to simulate the activation of the channels. Speficially, $n$ measures the activatio of potassium channels, and $m$  and $h$ measures the activation and inactivation of sodium channels, respectively. $\\alpha_{x}$ and $\\beta_{x}$ are rate constants for the ion channel x and depend exclusively on the membrane potential.\n",
    "\n",
    "The HH model is a continuous-time dynamical system. Changes of the membrane potential influence the conductances of different cahnnels, elaborately modeling the neural activities in biological systems."
   ]
  },
  {
   "cell_type": "markdown",
   "id": "84f438ae",
   "metadata": {},
   "source": [
    "To implement the HH model, variables should be specified. According to the above equations, the folowing five state variables change with respect to time:\n",
    "- `V`: the membrane potential\n",
    "- `m`: the activation of sodium channels\n",
    "- `h`: the inactivation of sodium channels\n",
    "- `n`: the activation of potassium channels\n",
    "- `input`: the external/synaptic input\n",
    "\n",
    "Besides, the spiking state and the last spiking time can also be recorded for statistic analysis:\n",
    "- ``spike``: whether a spike is produced\n",
    "- ``t_last_spike``: the last spiking time\n",
    "\n",
    "Based on these state variables, the HH model can be implemented as below."
   ]
  },
  {
   "cell_type": "code",
   "execution_count": 24,
   "id": "3ea88e6d",
   "metadata": {},
   "outputs": [],
   "source": [
    "import brainpy as bp\n",
    "import brainpy.math as bm\n",
    "\n",
    "bm.set_platform('cpu')\n",
    "\n",
    "\n",
    "class HH(bp.NeuGroup):\n",
    "  def __init__(self, size, ENa=50., gNa=120., EK=-77., gK=36., EL=-54.387, gL=0.03,\n",
    "                 V_th=20., C=1.0, **kwargs):\n",
    "    super(HH, self).__init__(size=size, **kwargs)\n",
    "\n",
    "    # initialize parameters\n",
    "    self.ENa = ENa\n",
    "    self.EK = EK\n",
    "    self.EL = EL\n",
    "    self.gNa = gNa\n",
    "    self.gK = gK\n",
    "    self.gL = gL\n",
    "    self.C = C\n",
    "    self.V_th = V_th\n",
    "\n",
    "    # initialize variables\n",
    "    self.V = bm.Variable(bm.random.randn(self.num) - 70.)\n",
    "    self.m = bm.Variable(0.5 * bm.ones(self.num))\n",
    "    self.h = bm.Variable(0.6 * bm.ones(self.num))\n",
    "    self.n = bm.Variable(0.32 * bm.ones(self.num))\n",
    "    self.input = bm.Variable(bm.zeros(self.num))\n",
    "    self.t_last_spike = bm.Variable(bm.ones(self.num) * -1e7)\n",
    "    self.spike = bm.Variable(bm.zeros(self.num, dtype=bool))\n",
    "\n",
    "    # integral function\n",
    "    self.integral = bp.odeint(f=self.derivative, method='exponential_euler')\n",
    "\n",
    "  def derivative(self, V, m, h, n, t, Iext):\n",
    "    alpha = 0.1 * (V + 40) / (1 - bm.exp(-(V + 40) / 10))\n",
    "    beta = 4.0 * bm.exp(-(V + 65) / 18)\n",
    "    dmdt = alpha * (1 - m) - beta * m\n",
    "\n",
    "    alpha = 0.07 * bm.exp(-(V + 65) / 20.)\n",
    "    beta = 1 / (1 + bm.exp(-(V + 35) / 10))\n",
    "    dhdt = alpha * (1 - h) - beta * h\n",
    "\n",
    "    alpha = 0.01 * (V + 55) / (1 - bm.exp(-(V + 55) / 10))\n",
    "    beta = 0.125 * bm.exp(-(V + 65) / 80)\n",
    "    dndt = alpha * (1 - n) - beta * n\n",
    "\n",
    "    I_Na = (self.gNa * m ** 3.0 * h) * (V - self.ENa)\n",
    "    I_K = (self.gK * n ** 4.0) * (V - self.EK)\n",
    "    I_leak = self.gL * (V - self.EL)\n",
    "    dVdt = (- I_Na - I_K - I_leak + Iext) / self.C\n",
    "\n",
    "    return dVdt, dmdt, dhdt, dndt\n",
    "\n",
    "  def update(self, _t, _dt):\n",
    "    # compute V, m, h, n\n",
    "    V, m, h, n = self.integral(self.V, self.m, self.h, self.n, _t, self.input, dt=_dt)\n",
    "\n",
    "    # update the spiking state and the last spiking time\n",
    "    self.spike[:] = bm.logical_and(self.V < self.V_th, V >= self.V_th)\n",
    "    self.t_last_spike[:] = bm.where(self.spike, _t, self.t_last_spike)\n",
    "\n",
    "    # update V, m, h, n\n",
    "    self.V[:] = V\n",
    "    self.m[:] = m\n",
    "    self.h[:] = h\n",
    "    self.n[:] = n\n",
    "\n",
    "    # reset the external input\n",
    "    self.input[:] = 0."
   ]
  },
  {
   "cell_type": "markdown",
   "id": "d1223ce0",
   "metadata": {},
   "source": [
    "### Implementation Details"
   ]
  },
  {
   "cell_type": "markdown",
   "id": "8d523fb3",
   "metadata": {},
   "source": [
    "When defining the HH model, equation (1) is accomplished by [brainpy.odeint](../apis/integrators/generated/brainpy.integrators.odeint.rst) as an [ODEIntegrator](../apis/integrators/generated/brainpy.integrators.ODEIntegrator.rst). The details are contained in the [Numerical Solvers for ODEs](../tutorial_intg/ode_numerical_solvers.ipynb) tutorial.\n",
    "\n",
    "The variables, which will be updated during dynamics simulation, should be packed as `brainpy.math.Variable` and thus can be processed by JIT compliers to accelerate simulation. Besides, updating thses variables by vectorization, not by for loops, will also expedite the simulation speed."
   ]
  },
  {
   "cell_type": "markdown",
   "id": "215292d2",
   "metadata": {},
   "source": [
    "In the following part, a [leaky integrate-and-fire](https://brainmodels.readthedocs.io/en/latest/apis/generated/brainmodels.neurons.LIF.html) (LIF) model is introduced as another example for illustration."
   ]
  },
  {
   "cell_type": "markdown",
   "id": "04d7d580",
   "metadata": {},
   "source": [
    "### [Leaky Integrate-and-Fire (LIF) Model](https://brainmodels.readthedocs.io/en/latest/apis/generated/brainmodels.neurons.LIF.html)"
   ]
  },
  {
   "cell_type": "markdown",
   "id": "f45c7805",
   "metadata": {},
   "source": [
    "The formal equations of a LIF model is given by:\n",
    "\n",
    "$$\n",
    "\\begin{aligned}\n",
    "\\tau_m \\frac{dV}{dt} = - (V(t) - V_{rest}) + I(t)  \\quad\\quad (1) \\\\\n",
    "\\text{if} \\, V(t) \\gt V_{th}, V(t) =V_{rest} \\,\n",
    "\\text{after} \\, \\tau_{ref} \\,  \\text{ms}        \\quad\\quad (2)\n",
    "\\end{aligned}\n",
    "$$\n",
    "\n",
    "where $V$ is the membrane potential, $V_{rest}$ is the rest membrane potential, $V_{th}$ is the spike threshold, $\\tau_m$ is the time constant, $\\tau_{ref}$ is the refractory time period, and $I$ is the time-variant synaptic inputs. \n",
    "\n",
    "The above two equations model the continuous change and the spiking of neurons, respectively. The membrane potential $V$ is integrated according to equation (1) when it is below $V_{th}$. Once $V$ reaches the threshold $V_{th}$, according to equation (2), $V$ is reaet to $V_{rest}$, and the neuron enters the refractory period where the membrane potential $V$ will remain constant in the following $\\tau_{ref}$ ms."
   ]
  },
  {
   "cell_type": "markdown",
   "id": "76fa0aa2",
   "metadata": {},
   "source": [
    "Before implementing the LIF neuron model, the following variables are specified to store the neural states:\n",
    "\n",
    "- ``V``: the membrane potential\n",
    "- ``input``: the external/synaptic input\n",
    "- ``spike``: whether a spike is produced\n",
    "- ``refractory``: whether the neuron is in the refractory period\n",
    "- ``t_last_spike``: the last spiking time\n",
    "\n",
    "Based on these state variables, the LIF model can be implemented as below."
   ]
  },
  {
   "cell_type": "code",
   "execution_count": 4,
   "id": "4961244a",
   "metadata": {},
   "outputs": [],
   "source": [
    "class LIF(bp.NeuGroup):\n",
    "  def __init__(self, size, V_rest=0., V_reset=-5., V_th=20., R=1., tau=10., t_ref=5., **kwargs):\n",
    "    super(LIF, self).__init__(size=size, **kwargs)\n",
    "\n",
    "    # initialize parameters\n",
    "    self.V_rest = V_rest\n",
    "    self.V_reset = V_reset\n",
    "    self.V_th = V_th\n",
    "    self.R = R\n",
    "    self.tau = tau\n",
    "    self.t_ref = t_ref\n",
    "\n",
    "    # initialize variables\n",
    "    self.V = bm.Variable(bm.random.randn(self.num) + V_reset)\n",
    "    self.input = bm.Variable(bm.zeros(self.num))\n",
    "    self.t_last_spike = bm.Variable(bm.ones(self.num) * -1e7)\n",
    "    self.refractory = bm.Variable(bm.zeros(self.num, dtype=bool))\n",
    "    self.spike = bm.Variable(bm.zeros(self.num, dtype=bool))\n",
    "\n",
    "    # integral function\n",
    "    self.integral = bp.odeint(f=self.derivative, method='exponential_euler')\n",
    "\n",
    "  def derivative(self, V, t, Iext):\n",
    "    dvdt = (-V + self.V_rest + self.R * Iext) / self.tau\n",
    "    return dvdt\n",
    "\n",
    "  def update(self, _t, _dt):\n",
    "    # Whether the neurons are in the refractory period\n",
    "    refractory = (_t - self.t_last_spike) <= self.t_ref\n",
    "    \n",
    "    # compute the membrane potential\n",
    "    V = self.integral(self.V, _t, self.input, dt=_dt)\n",
    "    \n",
    "    # computed membrane potential is valid only when the neuron is not in the refractory period \n",
    "    V = bm.where(refractory, self.V, V)\n",
    "    \n",
    "    # update the spiking state\n",
    "    spike = self.V_th <= V\n",
    "    self.spike[:] = spike\n",
    "    \n",
    "    # update the last spiking time\n",
    "    self.t_last_spike[:] = bm.where(spike, _t, self.t_last_spike)\n",
    "    \n",
    "    # update the membrane potential and reset spiked neurons\n",
    "    self.V[:] = bm.where(spike, self.V_reset, V)\n",
    "    \n",
    "    # update the refractory state\n",
    "    self.refractory[:] = bm.logical_or(refractory, spike)\n",
    "    \n",
    "    # reset the external input\n",
    "    self.input[:] = 0."
   ]
  },
  {
   "cell_type": "markdown",
   "id": "0b80959f",
   "metadata": {},
   "source": [
    "## Instantiation and Running a Simulation"
   ]
  },
  {
   "cell_type": "markdown",
   "id": "05818ebb",
   "metadata": {},
   "source": [
    "The `HH` model can be instantiated as:"
   ]
  },
  {
   "cell_type": "code",
   "execution_count": 25,
   "id": "7afcd4ff",
   "metadata": {},
   "outputs": [],
   "source": [
    "neu = HH(10)"
   ]
  },
  {
   "cell_type": "markdown",
   "id": "e6be8d3d",
   "metadata": {},
   "source": [
    "By which a neural group containing 10 HH neurons is generated.\n",
    "\n",
    "Hwo to run and operate a dynamics simulation will be expanded in the [Dynamics Simulation](../tutorial_simulation/index.rst). In brief, neural groups should be packed in a runner (currently there is `brianpy.StructRunner` and `brainpy.ReportRunner`). The variables users want to monitor and the external input crrents should be specified when initializing the runner:"
   ]
  },
  {
   "cell_type": "code",
   "execution_count": 26,
   "id": "9a291f2f",
   "metadata": {},
   "outputs": [],
   "source": [
    "runner = bp.StructRunner(neu, monitors=['V'], inputs=('input', 22.))  # constant external inputs of 22 mA to all neurons"
   ]
  },
  {
   "cell_type": "markdown",
   "id": "00385de1",
   "metadata": {},
   "source": [
    "Then the simulation can be performed with a given time period, and the simulation result can be visualized:"
   ]
  },
  {
   "cell_type": "code",
   "execution_count": 27,
   "id": "f102b056",
   "metadata": {},
   "outputs": [
    {
     "data": {
      "image/png": "[encoded data removed]",
      "text/plain": [
       "<Figure size 432x288 with 1 Axes>"
      ]
     },
     "metadata": {
      "needs_background": "light"
     },
     "output_type": "display_data"
    }
   ],
   "source": [
    "runner(200)  # the running time is 200 ms\n",
    "bp.visualize.line_plot(runner.mon.ts, runner.mon.V, show=True)"
   ]
  },
  {
   "cell_type": "markdown",
   "id": "93208ac2",
   "metadata": {},
   "source": [
    "A LIF neural group can be instantiated and applied in simulation in a similar way:"
   ]
  },
  {
   "cell_type": "code",
   "execution_count": 28,
   "id": "929d85e4",
   "metadata": {},
   "outputs": [
    {
     "name": "stdout",
     "output_type": "stream",
     "text": [
      "Compilation used 0.0050 s.\n",
      "Start running ...\n",
      "Run 25.0% used 1.801 s.\n",
      "Run 50.0% used 3.572 s.\n",
      "Run 75.0% used 5.353 s.\n",
      "Run 100.0% used 7.125 s.\n",
      "Simulation is done in 7.125 s.\n",
      "\n"
     ]
    },
    {
     "data": {
      "image/png": "[encoded data removed]",
      "text/plain": [
       "<Figure size 432x288 with 1 Axes>"
      ]
     },
     "metadata": {
      "needs_background": "light"
     },
     "output_type": "display_data"
    }
   ],
   "source": [
    "group = LIF(10)\n",
    "runner = bp.ReportRunner(group, monitors=['V'], inputs=('input', 22.), report=0.25)\n",
    "runner(200)\n",
    "bp.visualize.line_plot(runner.mon.ts, runner.mon.V, show=True)"
   ]
  },
  {
   "cell_type": "code",
   "execution_count": null,
   "id": "3c3610c6",
   "metadata": {},
   "outputs": [],
   "source": []
  }
 ],
 "metadata": {
  "kernelspec": {
   "display_name": "Python 3",
   "language": "python",
   "name": "python3"
  },
  "language_info": {
   "codemirror_mode": {
    "name": "ipython",
    "version": 3
   },
   "file_extension": ".py",
   "mimetype": "text/x-python",
   "name": "python",
   "nbconvert_exporter": "python",
   "pygments_lexer": "ipython3",
   "version": "3.8.8"
  }
 },
 "nbformat": 4,
 "nbformat_minor": 5
}
