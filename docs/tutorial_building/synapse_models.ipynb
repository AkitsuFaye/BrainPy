{
 "cells": [
  {
   "cell_type": "markdown",
   "id": "096f2ee4",
   "metadata": {
    "pycharm": {
     "name": "#%% md\n"
    }
   },
   "source": [
    "# Building Synapse Models"
   ]
  },
  {
   "cell_type": "markdown",
   "id": "9c1ae039",
   "metadata": {
    "pycharm": {
     "name": "#%% md\n"
    }
   },
   "source": [
    "@[Chaoming Wang](https://github.com/chaoming0625) @[Xiaoyu Chen](mailto:c-xy17@tsinghua.org.cn) "
   ]
  },
  {
   "cell_type": "markdown",
   "id": "0bed1c4f",
   "metadata": {
    "pycharm": {
     "name": "#%% md\n"
    }
   },
   "source": [
    "Synaptic computation is the core of brain dynamics programming. This is beacuse in a real project most of the simulation time spends on the computation of synapses. In order to achieve efficient synaptic computation, BrainPy provides many useful supports. Here, we are going to explore the details of these supports. "
   ]
  },
  {
   "cell_type": "code",
   "execution_count": 1,
   "id": "1e518e11",
   "metadata": {
    "pycharm": {
     "name": "#%%\n"
    }
   },
   "outputs": [],
   "source": [
    "import brainpy as bp\n",
    "import brainpy.math as bm\n",
    "\n",
    "# bm.set_platform('cpu')"
   ]
  },
  {
   "cell_type": "markdown",
   "id": "f111708e",
   "metadata": {
    "pycharm": {
     "name": "#%% md\n"
    }
   },
   "source": [
    "## Synapse Models in Math"
   ]
  },
  {
   "cell_type": "markdown",
   "id": "3c5bbda2",
   "metadata": {
    "pycharm": {
     "name": "#%% md\n"
    }
   },
   "source": [
    "Before we talk about the implementation of synapses in BrainPy, it's better to understand the targets (synapse models) we are going to implement. For different illustration purposes, we are going to implement two synapse models: [exponential synapse model](https://brainmodels.readthedocs.io/en/latest/apis/generated/brainmodels.synapses.DualExpCOBA.html) and [AMPA synapse model](https://brainmodels.readthedocs.io/en/latest/apis/generated/brainmodels.synapses.AMPA.html)."
   ]
  },
  {
   "cell_type": "markdown",
   "id": "ee864f9e",
   "metadata": {
    "pycharm": {
     "name": "#%% md\n"
    }
   },
   "source": [
    "### 1. The exponential synapse model"
   ]
  },
  {
   "cell_type": "markdown",
   "id": "266c7fa7",
   "metadata": {
    "pycharm": {
     "name": "#%% md\n"
    }
   },
   "source": [
    "The exponential synapse model assumes that once a pre-synaptic neuron generates a spike, the synaptic state arises instantaneously, then decays with a certain time constant $\\tau_{decay}$. Its dynamics is given by:\n",
    "\n",
    "$$\n",
    "\\frac{d g}{d t} = -\\frac{g}{\\tau_{decay}}+\\sum_{k} \\delta(t-D-t^{k})\n",
    "$$\n",
    "\n",
    "where $g$ is the synaptic state, $t^{k}$ is the spike time of the pre-synaptic neuron, and $D$ is the synaptic delay. "
   ]
  },
  {
   "cell_type": "markdown",
   "id": "6f30b788",
   "metadata": {
    "pycharm": {
     "name": "#%% md\n"
    }
   },
   "source": [
    "Afterward, the current output onto the post-synaptic neuron is given in the conductance-based form:\n",
    "\n",
    "$$\n",
    "I_{syn}(t) = g_{max} g \\left( V-E \\right)\n",
    "$$\n",
    "\n",
    "where $E$ is the reversal potential of the synapse, $V$ is the post-synaptic membrane potential, $g_{max}$ is the maximum synaptic conductance. "
   ]
  },
  {
   "cell_type": "markdown",
   "id": "7de41ac6",
   "metadata": {
    "pycharm": {
     "name": "#%% md\n"
    }
   },
   "source": [
    "### 2. The AMPA synapse model"
   ]
  },
  {
   "cell_type": "markdown",
   "id": "07ffde7f",
   "metadata": {
    "pycharm": {
     "name": "#%% md\n"
    }
   },
   "source": [
    "A classical model of AMPA synapse is to use the Markov process to model ion channel switch. Here $g$ represents the probability of channel opening, $1-g$ represents the probability of ion channel closing, and $\\alpha$ and $\\beta$ are the transition probability. Specifically, its formula is given by\n",
    "\n",
    "$$\n",
    "\\frac{dg}{dt} =\\alpha[T](1-g)-\\beta g\n",
    "$$\n",
    "\n",
    "where $\\alpha [T]$ denotes the transition probability from state $(1-g)$\n",
    "to state $(g)$; and $\\beta$ represents the transition probability of\n",
    "the other direction. $\\alpha$ is the binding constant. $\\beta$ is the\n",
    "unbinding constant. $[T]$ is the neurotransmitter concentration, and\n",
    "has the duration of 0.5 ms."
   ]
  },
  {
   "cell_type": "markdown",
   "id": "ca0858af",
   "metadata": {
    "pycharm": {
     "name": "#%% md\n"
    }
   },
   "source": [
    "Moreover, the post-synaptic current on the post-synaptic neuron is formulated as\n",
    "\n",
    "$$I_{syn} = g_{max} g (V-E)$$\n",
    "\n",
    "where $g_{max}$ is the maximum conductance, and $E$ is the reverse potential."
   ]
  },
  {
   "cell_type": "markdown",
   "id": "3a8e0ffa",
   "metadata": {
    "pycharm": {
     "name": "#%% md\n"
    }
   },
   "source": [
    "## Synapse Models in Silicon"
   ]
  },
  {
   "cell_type": "markdown",
   "id": "d6c96d37",
   "metadata": {
    "pycharm": {
     "name": "#%% md\n"
    }
   },
   "source": [
    "The implementation of synapse models is accomplished by ``brainpy.dyn.TwoEndConn`` interface. In this section, we talk about what supports are provided for the implementation of synapse models in silicon. "
   ]
  },
  {
   "cell_type": "markdown",
   "id": "3e5f55f7",
   "metadata": {
    "pycharm": {
     "name": "#%% md\n"
    }
   },
   "source": [
    "### 1. ``brainpy.dyn.TwoEndConn``"
   ]
  },
  {
   "cell_type": "markdown",
   "id": "7aa075a6",
   "metadata": {
    "pycharm": {
     "name": "#%% md\n"
    }
   },
   "source": [
    "In BrainPy, `brainpy.dyn.TwoEndConn` is used to model two-end synaptic computations."
   ]
  },
  {
   "cell_type": "markdown",
   "id": "297b0de9",
   "metadata": {
    "pycharm": {
     "name": "#%% md\n"
    }
   },
   "source": [
    "To define a synapse model, two requirements should be satisfied:\n",
    "\n",
    "1\\. Constructor function ``__init__()``, in which three key arguments are needed.\n",
    "  - `pre`: the pre-synaptic neural group. It should be an instance of `brainpy.dyn.NeuGroup`.\n",
    "  - `post`: the post-synaptic neural group. It should be an instance of `brainpy.dyn.NeuGroup`.\n",
    "  - `conn` (optional): the connection type between these two groups. BrainPy has provided abundant connection types that are described in details in the [Synaptic Connections](../tutorial_toolbox/synaptic_connections.ipynb).\n",
    "\n",
    "2\\. Update function ``update(_t, _dt)`` describes the updating rule from the current time $\\mathrm{\\_t}$ to the next time $\\mathrm{\\_t + \\_dt}$."
   ]
  },
  {
   "cell_type": "markdown",
   "id": "f0f5d5a8",
   "metadata": {
    "pycharm": {
     "name": "#%% md\n"
    }
   },
   "source": [
    "### 2. Variable delays"
   ]
  },
  {
   "cell_type": "markdown",
   "id": "7e9c232a",
   "metadata": {
    "pycharm": {
     "name": "#%% md\n"
    }
   },
   "source": [
    "As seen in the above two synapse models, synaptic computations are usually involved with variable delays. A delay time (typically 0.3–0.5 ms) is usually required for a neurotransmitter to be released from a presynaptic membrane, diffuse across the synaptic cleft, and bind to a receptor site on the post-synaptic membrane.\n",
    "\n",
    "BrainPy provides several kinds of delay variables for users, including:\n",
    "\n",
    "- ``brainpy.math.LengthDelay``: a delay variable which defines a constant steps for delay.\n",
    "- ``brainpy.math.TimeDelay``: a delay variable which defines a constant time length for delay."
   ]
  },
  {
   "cell_type": "markdown",
   "source": [
    "Assume here we need a delay variable which has 1 ms delay. If the numerical integration precision ``dt`` is 0.1 ms, then we can create a ``brainpy.math.LengthDelay`` which has  10 delay time steps."
   ],
   "metadata": {
    "collapsed": false,
    "pycharm": {
     "name": "#%% md\n"
    }
   }
  },
  {
   "cell_type": "code",
   "execution_count": 2,
   "id": "b9ced2ed",
   "metadata": {
    "pycharm": {
     "name": "#%%\n"
    }
   },
   "outputs": [],
   "source": [
    "target_data_to_delay = bm.Variable(bm.zeros(10))\n",
    "\n",
    "example_delay = bm.LengthDelay(target_data_to_delay,\n",
    "                               delay_len=10)  # delay 10 steps"
   ]
  },
  {
   "cell_type": "code",
   "execution_count": 3,
   "outputs": [
    {
     "data": {
      "text/plain": "DeviceArray([0., 0., 0., 0., 0., 0., 0., 0., 0., 0.], dtype=float32)"
     },
     "execution_count": 3,
     "metadata": {},
     "output_type": "execute_result"
    }
   ],
   "source": [
    "example_delay(5)  # call the delay data at 5 delay step"
   ],
   "metadata": {
    "collapsed": false,
    "pycharm": {
     "name": "#%%\n"
    }
   }
  },
  {
   "cell_type": "code",
   "execution_count": 4,
   "outputs": [
    {
     "data": {
      "text/plain": "DeviceArray([0., 0., 0., 0., 0., 0., 0., 0., 0., 0.], dtype=float32)"
     },
     "execution_count": 4,
     "metadata": {},
     "output_type": "execute_result"
    }
   ],
   "source": [
    "example_delay(10)  # call the delay data at 10 delay step"
   ],
   "metadata": {
    "collapsed": false,
    "pycharm": {
     "name": "#%%\n"
    }
   }
  },
  {
   "cell_type": "markdown",
   "source": [],
   "metadata": {
    "collapsed": false,
    "pycharm": {
     "name": "#%% md\n"
    }
   }
  },
  {
   "cell_type": "markdown",
   "source": [
    "Alternatively, we can create an instance of ``brainpy.math.TimeDelay``, which use time ``t`` as the index to retrieve the delay data."
   ],
   "metadata": {
    "collapsed": false,
    "pycharm": {
     "name": "#%% md\n"
    }
   }
  },
  {
   "cell_type": "code",
   "execution_count": 5,
   "outputs": [],
   "source": [
    "t0 = 0.\n",
    "example_delay = bm.TimeDelay(target_data_to_delay,\n",
    "                             delay_len=1.0, t0=t0)  # delay 1.0 ms"
   ],
   "metadata": {
    "collapsed": false,
    "pycharm": {
     "name": "#%%\n"
    }
   }
  },
  {
   "cell_type": "code",
   "execution_count": 6,
   "outputs": [
    {
     "data": {
      "text/plain": "DeviceArray([0., 0., 0., 0., 0., 0., 0., 0., 0., 0.], dtype=float32)"
     },
     "execution_count": 6,
     "metadata": {},
     "output_type": "execute_result"
    }
   ],
   "source": [
    "example_delay(t0 - 1.0)  # the delay data at t-1. ms"
   ],
   "metadata": {
    "collapsed": false,
    "pycharm": {
     "name": "#%%\n"
    }
   }
  },
  {
   "cell_type": "code",
   "execution_count": 7,
   "outputs": [
    {
     "data": {
      "text/plain": "DeviceArray([0., 0., 0., 0., 0., 0., 0., 0., 0., 0.], dtype=float32)"
     },
     "execution_count": 7,
     "metadata": {},
     "output_type": "execute_result"
    }
   ],
   "source": [
    "example_delay(t0 - 0.5)  # the delay data at t-0.5 ms"
   ],
   "metadata": {
    "collapsed": false,
    "pycharm": {
     "name": "#%%\n"
    }
   }
  },
  {
   "cell_type": "markdown",
   "id": "a0a2bf84",
   "metadata": {
    "pycharm": {
     "name": "#%% md\n"
    }
   },
   "source": [
    "### 3. Synaptic connections"
   ]
  },
  {
   "cell_type": "markdown",
   "id": "f83608c5",
   "metadata": {
    "pycharm": {
     "name": "#%% md\n"
    }
   },
   "source": [
    "Synaptic computations usually need to create connection between groups. BrainPy provides many wonderful supports to construct [synaptic connections](./synaptic_connections.ipynb). Simply speaking, ``brainpy.conn.Connector`` can create various data sturctures you want through the ``require()`` function. Take the random connection ``brainpy.conn.FixedProb`` which will be used in follows as the example, "
   ]
  },
  {
   "cell_type": "code",
   "execution_count": 8,
   "id": "61de48c2",
   "metadata": {
    "pycharm": {
     "name": "#%%\n"
    }
   },
   "outputs": [],
   "source": [
    "example_conn = bp.conn.FixedProb(0.2)(pre_size=(5,), post_size=(8, ))"
   ]
  },
  {
   "cell_type": "markdown",
   "id": "88b50ec8",
   "metadata": {
    "pycharm": {
     "name": "#%% md\n"
    }
   },
   "source": [
    "we can require the connection matrix (has the shape of ``(num_pre, num_post)``:"
   ]
  },
  {
   "cell_type": "code",
   "execution_count": 9,
   "id": "b8e2ac09",
   "metadata": {
    "pycharm": {
     "name": "#%%\n"
    }
   },
   "outputs": [
    {
     "data": {
      "text/plain": "JaxArray([[False, False, False, False, False, False, False, False],\n          [False, False, False,  True, False,  True, False, False],\n          [False, False, False, False, False, False,  True, False],\n          [False, False,  True, False, False, False,  True,  True],\n          [False, False, False, False,  True, False,  True, False]],            dtype=bool)"
     },
     "execution_count": 9,
     "metadata": {},
     "output_type": "execute_result"
    }
   ],
   "source": [
    "example_conn.require('conn_mat')"
   ]
  },
  {
   "cell_type": "markdown",
   "id": "dff17faf",
   "metadata": {
    "pycharm": {
     "name": "#%% md\n"
    }
   },
   "source": [
    "we can also require the connected indices of pre-synaptic neurons (``pre_ids``) and post-synaptic neurons (``post_ids``):"
   ]
  },
  {
   "cell_type": "code",
   "execution_count": 10,
   "id": "3344a58d",
   "metadata": {
    "pycharm": {
     "name": "#%%\n"
    }
   },
   "outputs": [
    {
     "data": {
      "text/plain": "(JaxArray([0, 0, 1, 2, 3, 3, 3, 4], dtype=uint32),\n JaxArray([1, 7, 6, 7, 3, 4, 6, 7], dtype=uint32))"
     },
     "execution_count": 10,
     "metadata": {},
     "output_type": "execute_result"
    }
   ],
   "source": [
    "example_conn.require('pre_ids', 'post_ids')"
   ]
  },
  {
   "cell_type": "markdown",
   "id": "28e86024",
   "metadata": {
    "pycharm": {
     "name": "#%% md\n"
    }
   },
   "source": [
    "Or, we can require the connection structure of ``pre2post`` which stores the information how does each pre-synaptic neuron connect to post-synaptic neurons:"
   ]
  },
  {
   "cell_type": "code",
   "execution_count": 11,
   "id": "8db2a319",
   "metadata": {
    "pycharm": {
     "name": "#%%\n"
    }
   },
   "outputs": [
    {
     "data": {
      "text/plain": "(JaxArray([0, 2, 4, 6, 2, 4, 3, 6], dtype=uint32),\n JaxArray([0, 4, 6, 6, 7, 8], dtype=uint32))"
     },
     "execution_count": 11,
     "metadata": {},
     "output_type": "execute_result"
    }
   ],
   "source": [
    "example_conn.require('pre2post')"
   ]
  },
  {
   "cell_type": "markdown",
   "source": [
    "```{warning}\n",
    "Every require() function will establish a new connection pattern, and return the data structure users have required. Therefore any two require() will return different connection pattern, just like the examples above. Please keep in mind to require all the data structure at once if users want a consistent connection pattern.\n",
    "```"
   ],
   "metadata": {
    "collapsed": false
   }
  },
  {
   "cell_type": "markdown",
   "id": "44fa4941",
   "metadata": {
    "pycharm": {
     "name": "#%% md\n"
    }
   },
   "source": [
    "More details of the connection structures please see the tutorial of [Synaptic Connections](../tutorial_toolbox/synaptic_connections.ipynb)."
   ]
  },
  {
   "cell_type": "markdown",
   "id": "dc2af88d",
   "metadata": {
    "pycharm": {
     "name": "#%% md\n"
    }
   },
   "source": [
    "### Achieving efficient synaptic computation is difficult"
   ]
  },
  {
   "cell_type": "markdown",
   "id": "3ecabe94",
   "metadata": {
    "pycharm": {
     "name": "#%% md\n"
    }
   },
   "source": [
    "Synaptic computations usually need to transform the data of the pre-synaptic dimension into the data of the post-synaptic dimension, or the data with the shape of the synapse number. There does not exist a universal computation method that are efficient in all cases. Usually, we need different ways for different connection situations to achieve efficient synaptic computation. In the next two sections, we will talk about how to define efficient synaptic models when your connections are **sparse** or **dense**.   "
   ]
  },
  {
   "cell_type": "markdown",
   "id": "3e494598",
   "metadata": {
    "pycharm": {
     "name": "#%% md\n"
    }
   },
   "source": [
    "Before we start, we need to define some useful helper functions to define and show synapse models. Then, we will highlight the key differences of model difinition when using different synaptic connections. "
   ]
  },
  {
   "cell_type": "code",
   "execution_count": 12,
   "id": "bd522429",
   "metadata": {
    "code_folding": [],
    "pycharm": {
     "name": "#%%\n"
    }
   },
   "outputs": [],
   "source": [
    "# Basic Model to define the exponential synapse model. This class \n",
    "# defines the basic parameters, variables, and integral functions. \n",
    "\n",
    "\n",
    "class BaseExpSyn(bp.dyn.TwoEndConn):\n",
    "  def __init__(self, pre, post, conn, g_max=1., delay=0., tau=8.0, E=0., method='exp_auto'):\n",
    "    super(BaseExpSyn, self).__init__(pre=pre, post=post, conn=conn)\n",
    "\n",
    "    # check whether the pre group has the needed attribute: \"spike\"\n",
    "    self.check_pre_attrs('spike')\n",
    "\n",
    "    # check whether the post group has the needed attribute: \"input\" and \"V\"\n",
    "    self.check_post_attrs('input', 'V')\n",
    "\n",
    "    # parameters\n",
    "    self.E = E\n",
    "    self.tau = tau\n",
    "    self.delay = delay\n",
    "    self.g_max = g_max\n",
    "\n",
    "    # use \"LengthDelay\" to store the spikes of the pre-synaptic neuron group\n",
    "    self.delay_step = int(delay/bm.get_dt())\n",
    "    self.pre_spike = bm.LengthDelay(pre.spike, self.delay_step)\n",
    "\n",
    "    # integral function\n",
    "    self.integral = bp.odeint(lambda g, t: -g / self.tau, method=method)"
   ]
  },
  {
   "cell_type": "code",
   "execution_count": 13,
   "id": "0d47e7ef",
   "metadata": {
    "pycharm": {
     "name": "#%%\n"
    }
   },
   "outputs": [],
   "source": [
    "# Basic Model to define the AMPA synapse model. This class \n",
    "# defines the basic parameters, variables, and integral functions. \n",
    "\n",
    "\n",
    "class BaseAMPASyn(bp.dyn.TwoEndConn):\n",
    "  def __init__(self, pre, post, conn, delay=0., g_max=0.42, E=0., alpha=0.98,\n",
    "               beta=0.18, T=0.5, T_duration=0.5, method='exp_auto'):\n",
    "    super(BaseAMPASyn, self).__init__(pre=pre, post=post, conn=conn)\n",
    "\n",
    "    # check whether the pre group has the needed attribute: \"spike\"\n",
    "    self.check_pre_attrs('spike')\n",
    "\n",
    "    # check whether the post group has the needed attribute: \"input\" and \"V\"\n",
    "    self.check_post_attrs('input', 'V')\n",
    "\n",
    "    # parameters\n",
    "    self.delay = delay\n",
    "    self.g_max = g_max\n",
    "    self.E = E\n",
    "    self.alpha = alpha\n",
    "    self.beta = beta\n",
    "    self.T = T\n",
    "    self.T_duration = T_duration\n",
    "\n",
    "    # use \"LengthDelay\" to store the spikes of the pre-synaptic neuron group\n",
    "    self.delay_step = int(delay/bm.get_dt())\n",
    "    self.pre_spike = bm.LengthDelay(pre.spike, self.delay_step)\n",
    "\n",
    "    # store the arrival time of the pre-synaptic spikes\n",
    "    self.spike_arrival_time = bm.Variable(bm.ones(self.pre.num) * -1e7)\n",
    "\n",
    "    # integral function\n",
    "    self.integral = bp.odeint(self.derivative, method=method)\n",
    "\n",
    "  def derivative(self, g, t, TT):\n",
    "    dg = self.alpha * TT * (1 - g) - self.beta * g\n",
    "    return dg"
   ]
  },
  {
   "cell_type": "code",
   "execution_count": 14,
   "id": "d3640a4a",
   "metadata": {
    "pycharm": {
     "name": "#%%\n"
    }
   },
   "outputs": [],
   "source": [
    "# for more details of how to run a simulation please see the tutorials in \"Dynamics Simulation\"\n",
    "\n",
    "def show_syn_model(model):\n",
    "  pre = bp.neurons.LIF(1, V_rest=-60., V_reset=-60., V_th=-40.)\n",
    "  post = bp.neurons.LIF(1, V_rest=-60., V_reset=-60., V_th=-40.)\n",
    "  syn = model(pre, post, conn=bp.conn.One2One())\n",
    "  net = bp.dyn.Network(pre=pre, post=post, syn=syn)\n",
    "\n",
    "  runner = bp.DSRunner(net,\n",
    "                       monitors=['pre.V', 'post.V', 'syn.g'],\n",
    "                       inputs=['pre.input', 22.])\n",
    "  runner.run(100.)\n",
    "\n",
    "  fig, gs = bp.visualize.get_figure(1, 2, 3, 4)\n",
    "  fig.add_subplot(gs[0, 0])\n",
    "  bp.visualize.line_plot(runner.mon.ts, runner.mon['syn.g'], legend='syn.g')\n",
    "  fig.add_subplot(gs[0, 1])\n",
    "  bp.visualize.line_plot(runner.mon.ts, runner.mon['pre.V'], legend='pre.V')\n",
    "  bp.visualize.line_plot(runner.mon.ts, runner.mon['post.V'], legend='post.V', show=True)"
   ]
  },
  {
   "cell_type": "markdown",
   "id": "dde06bd8",
   "metadata": {
    "pycharm": {
     "name": "#%% md\n"
    }
   },
   "source": [
    "## Computation with Dense Connections"
   ]
  },
  {
   "cell_type": "markdown",
   "id": "1e5abebb",
   "metadata": {
    "pycharm": {
     "name": "#%% md\n"
    }
   },
   "source": [
    "Matrix-based synaptic computation is straightforward. Especially, when your models are connected densely, using matrix is highly efficient. "
   ]
  },
  {
   "cell_type": "markdown",
   "id": "984c65a4",
   "metadata": {
    "pycharm": {
     "name": "#%% md\n"
    }
   },
   "source": [
    "### ``conn_mat``"
   ]
  },
  {
   "cell_type": "markdown",
   "id": "2a5bad33",
   "metadata": {
    "pycharm": {
     "name": "#%% md\n"
    }
   },
   "source": [
    "Assume two neuron groups are connected through a fixed probability of 0.7. "
   ]
  },
  {
   "cell_type": "code",
   "execution_count": 15,
   "id": "102c71e7",
   "metadata": {
    "pycharm": {
     "name": "#%%\n"
    }
   },
   "outputs": [],
   "source": [
    "conn = bp.conn.FixedProb(0.7)(pre_size=6, post_size=8)"
   ]
  },
  {
   "cell_type": "markdown",
   "id": "5a791b6c",
   "metadata": {
    "pycharm": {
     "name": "#%% md\n"
    }
   },
   "source": [
    "Then you can create the connection matrix though ``conn.require(\"conn_mat\")``:"
   ]
  },
  {
   "cell_type": "code",
   "execution_count": 16,
   "id": "4bbb027f",
   "metadata": {
    "pycharm": {
     "name": "#%%\n"
    }
   },
   "outputs": [
    {
     "data": {
      "text/plain": "JaxArray([[ True,  True,  True,  True,  True,  True,  True,  True],\n          [False,  True,  True,  True,  True,  True, False,  True],\n          [ True,  True,  True,  True,  True,  True,  True,  True],\n          [False,  True, False,  True, False,  True,  True,  True],\n          [ True,  True,  True, False,  True, False,  True, False],\n          [ True, False,  True,  True,  True,  True, False,  True]],            dtype=bool)"
     },
     "execution_count": 16,
     "metadata": {},
     "output_type": "execute_result"
    }
   ],
   "source": [
    "conn.require('conn_mat')"
   ]
  },
  {
   "cell_type": "markdown",
   "id": "c925c9f4",
   "metadata": {
    "pycharm": {
     "name": "#%% md\n"
    }
   },
   "source": [
    "``conn_mat`` has the shape of ``(num_pre, num_post)``. Therefore, transforming the data with the pre-synaptic dimension into the date of the post-synaptic dimension is very easy. You just need make a matrix multiplication: ``brainpy.math.dot(pre_values,  conn_mat)`` ($\\mathbb{R}^\\mathrm{num\\_pre} @ \\mathbb{R}^\\mathrm{(num\\_pre, num\\_post)} \\to \\mathbb{R}^\\mathrm{num\\_post}$). "
   ]
  },
  {
   "cell_type": "markdown",
   "id": "7c2553fc",
   "metadata": {
    "pycharm": {
     "name": "#%% md\n"
    }
   },
   "source": [
    "With the synaptic connection of ``conn_mat`` in above, we can define the **exponential synapse model** as the follows. It's worthy to note that the evolution of states ouput onto the same post-synaptic neurons in exponential synapses can be superposed. This means we can declare the synapse variables with the shape of post-synaptic group, rather than the number of the total synapses. "
   ]
  },
  {
   "cell_type": "code",
   "execution_count": 18,
   "id": "b8e7b088",
   "metadata": {
    "pycharm": {
     "name": "#%%\n"
    }
   },
   "outputs": [],
   "source": [
    "class ExpConnMat(BaseExpSyn):\n",
    "  def __init__(self, *args, **kwargs):\n",
    "    super(ExpConnMat, self).__init__(*args, **kwargs)\n",
    "\n",
    "    # connection matrix\n",
    "    self.conn_mat = self.conn.require('conn_mat')\n",
    "\n",
    "    # synapse gating variable\n",
    "    # -------\n",
    "    # NOTE: Here the synapse number is the same with \n",
    "    #       the post-synaptic neuron number. This is \n",
    "    #       different from the AMPA synapse.\n",
    "    self.g = bm.Variable(bm.zeros(self.post.num))\n",
    "\n",
    "  def update(self, tdi, x=None):\n",
    "    _t, _dt = tdi.t, tdi.dt\n",
    "    # pull the delayed pre spikes for computation\n",
    "    delayed_spike = self.pre_spike(self.delay_step)\n",
    "    # push the latest pre spikes into the bottom\n",
    "    self.pre_spike.update(self.pre.spike)\n",
    "    # integrate the synapse state\n",
    "    self.g.value = self.integral(self.g, _t, dt=_dt)\n",
    "    # update synapse states according to the pre spikes\n",
    "    post_sps = bm.dot(delayed_spike, self.conn_mat)\n",
    "    self.g += post_sps\n",
    "    # get the post-synaptic current\n",
    "    self.post.input += self.g_max * self.g * (self.E - self.post.V)"
   ]
  },
  {
   "cell_type": "code",
   "execution_count": 21,
   "id": "4acb4081",
   "metadata": {
    "pycharm": {
     "name": "#%%\n"
    }
   },
   "outputs": [
    {
     "data": {
      "text/plain": "  0%|          | 0/1000 [00:00<?, ?it/s]",
      "application/vnd.jupyter.widget-view+json": {
       "version_major": 2,
       "version_minor": 0,
       "model_id": "6723a0894e2549f28c3ada067d457ea9"
      }
     },
     "metadata": {},
     "output_type": "display_data"
    },
    {
     "data": {
      "text/plain": "<Figure size 576x216 with 2 Axes>",
      "image/png": "[encoded data removed]"
     },
     "metadata": {
      "needs_background": "light"
     },
     "output_type": "display_data"
    }
   ],
   "source": [
    "show_syn_model(ExpConnMat)"
   ]
  },
  {
   "cell_type": "markdown",
   "id": "1eb27017",
   "metadata": {
    "pycharm": {
     "name": "#%% md\n"
    }
   },
   "source": [
    "We can also use ``conn_mat`` to define an **AMPA synapse model**. Note here the shape of the synapse variable $g$ is ``(num_pre, num_post)``, rather than ``self.post.num`` in the above exponential synapse model. This is because the synaptic states of AMPA model can not be superposed. "
   ]
  },
  {
   "cell_type": "code",
   "execution_count": 22,
   "id": "37736f86",
   "metadata": {
    "pycharm": {
     "name": "#%%\n"
    }
   },
   "outputs": [],
   "source": [
    "class AMPAConnMat(BaseAMPASyn):\n",
    "  def __init__(self, *args, **kwargs):\n",
    "    super(AMPAConnMat, self).__init__(*args, **kwargs)\n",
    "\n",
    "    # connection matrix\n",
    "    self.conn_mat = self.conn.require('conn_mat')\n",
    "\n",
    "    # synapse gating variable\n",
    "    # -------\n",
    "    # NOTE: Here the synapse shape is (num_pre, num_post),\n",
    "    #       in contrast to the ExpConnMat\n",
    "    self.g = bm.Variable(bm.zeros((self.pre.num, self.post.num)))\n",
    "\n",
    "  def update(self, tdi, x=None):\n",
    "    _t, _dt = tdi.t, tdi.dt\n",
    "    # pull the delayed pre spikes for computation\n",
    "    delayed_spike = self.pre_spike(self.delay_step)\n",
    "    # push the latest pre spikes into the bottom\n",
    "    self.pre_spike.update(self.pre.spike)\n",
    "    # get the time of pre spikes arrive at the post synapse\n",
    "    self.spike_arrival_time.value = bm.where(delayed_spike, _t, self.spike_arrival_time)\n",
    "    # get the neurotransmitter concentration at the current time\n",
    "    TT = ((_t - self.spike_arrival_time) < self.T_duration) * self.T\n",
    "    # integrate the synapse state\n",
    "    TT = TT.reshape((-1, 1)) * self.conn_mat  # NOTE: only keep the concentrations\n",
    "                                              #       on the invalid connections\n",
    "    self.g.value = self.integral(self.g, _t, TT, dt=_dt)\n",
    "    # get the post-synaptic current\n",
    "    g_post = self.g.sum(axis=0)\n",
    "    self.post.input += self.g_max * g_post * (self.E - self.post.V)"
   ]
  },
  {
   "cell_type": "code",
   "execution_count": 23,
   "id": "fab4f7cb",
   "metadata": {
    "pycharm": {
     "name": "#%%\n"
    }
   },
   "outputs": [
    {
     "data": {
      "text/plain": "  0%|          | 0/1000 [00:00<?, ?it/s]",
      "application/vnd.jupyter.widget-view+json": {
       "version_major": 2,
       "version_minor": 0,
       "model_id": "7fda5a9970ea48b7969e426b7c45a1f8"
      }
     },
     "metadata": {},
     "output_type": "display_data"
    },
    {
     "data": {
      "text/plain": "<Figure size 576x216 with 2 Axes>",
      "image/png": "[encoded data removed]"
     },
     "metadata": {
      "needs_background": "light"
     },
     "output_type": "display_data"
    }
   ],
   "source": [
    "show_syn_model(AMPAConnMat)"
   ]
  },
  {
   "cell_type": "markdown",
   "id": "e1a02e48",
   "metadata": {
    "pycharm": {
     "name": "#%% md\n"
    }
   },
   "source": [
    "### Special connections"
   ]
  },
  {
   "cell_type": "markdown",
   "id": "69362ac5",
   "metadata": {
    "pycharm": {
     "name": "#%% md\n"
    }
   },
   "source": [
    "Sometimes, we can define some synapse models with special connection types, such as all-to-all connection, or one-to-one connection. For these special situations, even the connection information can be ignored, i.e., we do not need ``conn_mat`` or other structures any more. "
   ]
  },
  {
   "cell_type": "markdown",
   "id": "f7b3f691",
   "metadata": {
    "pycharm": {
     "name": "#%% md\n"
    }
   },
   "source": [
    "Assume the pre-synaptic group connects to the post-synaptic group with a all-to-all fashion. \n",
    "Then, exponential synapse model can be defined as, "
   ]
  },
  {
   "cell_type": "code",
   "execution_count": 24,
   "id": "b41ef340",
   "metadata": {
    "pycharm": {
     "name": "#%%\n"
    }
   },
   "outputs": [],
   "source": [
    "class ExpAll2All(BaseExpSyn):\n",
    "  def __init__(self, *args, **kwargs):\n",
    "    super(ExpAll2All, self).__init__(*args, **kwargs)\n",
    "\n",
    "    # synapse gating variable\n",
    "    # -------\n",
    "    # The synapse variable has the shape of the post-synaptic group\n",
    "    self.g = bm.Variable(bm.zeros(self.post.num))\n",
    "\n",
    "  def update(self, tdi, x=None):\n",
    "    _t, _dt = tdi.t, tdi.dt\n",
    "    delayed_spike = self.pre_spike(self.delay_step)\n",
    "    self.pre_spike.update(self.pre.spike)\n",
    "    self.g.value = self.integral(self.g, _t, dt=_dt)\n",
    "    self.g += delayed_spike.sum()  # NOTE: HERE is the difference\n",
    "    self.post.input += self.g_max * self.g * (self.E - self.post.V)"
   ]
  },
  {
   "cell_type": "code",
   "execution_count": 25,
   "id": "d1f3cca3",
   "metadata": {
    "pycharm": {
     "name": "#%%\n"
    }
   },
   "outputs": [
    {
     "data": {
      "text/plain": "  0%|          | 0/1000 [00:00<?, ?it/s]",
      "application/vnd.jupyter.widget-view+json": {
       "version_major": 2,
       "version_minor": 0,
       "model_id": "54ad84a96a4744ad9549798958f64f86"
      }
     },
     "metadata": {},
     "output_type": "display_data"
    },
    {
     "data": {
      "text/plain": "<Figure size 576x216 with 2 Axes>",
      "image/png": "[encoded data removed]"
     },
     "metadata": {
      "needs_background": "light"
     },
     "output_type": "display_data"
    }
   ],
   "source": [
    "show_syn_model(ExpAll2All)"
   ]
  },
  {
   "cell_type": "markdown",
   "id": "d37e8b1d",
   "metadata": {
    "pycharm": {
     "name": "#%% md\n"
    }
   },
   "source": [
    "Similarly, the AMPA synapse model can be defined as"
   ]
  },
  {
   "cell_type": "code",
   "execution_count": 26,
   "id": "01ce8789",
   "metadata": {
    "pycharm": {
     "name": "#%%\n"
    }
   },
   "outputs": [],
   "source": [
    "class AMPAAll2All(BaseAMPASyn):\n",
    "  def __init__(self, *args, **kwargs):\n",
    "    super(AMPAAll2All, self).__init__(*args, **kwargs)\n",
    "\n",
    "    # synapse gating variable\n",
    "    # -------\n",
    "    # The synapse variable has the shape of the post-synaptic group\n",
    "    self.g = bm.Variable(bm.zeros((self.pre.num, self.post.num)))\n",
    "\n",
    "  def update(self, tdi, x=None):\n",
    "    _t, _dt = tdi.t, tdi.dt\n",
    "    delayed_spike = self.pre_spike(self.delay_step)\n",
    "    self.pre_spike.update(self.pre.spike)\n",
    "    self.spike_arrival_time.value = bm.where(delayed_spike, _t, self.spike_arrival_time)\n",
    "    TT = ((_t - self.spike_arrival_time) < self.T_duration) * self.T\n",
    "    TT = TT.reshape((-1, 1))  # NOTE: here is the difference\n",
    "    self.g.value = self.integral(self.g, _t, TT, dt=_dt)\n",
    "    g_post = self.g.sum(axis=0) # NOTE: here is also different\n",
    "    self.post.input += self.g_max * g_post * (self.E - self.post.V)"
   ]
  },
  {
   "cell_type": "code",
   "execution_count": 27,
   "id": "51a07101",
   "metadata": {
    "lines_to_next_cell": 1,
    "pycharm": {
     "name": "#%%\n"
    }
   },
   "outputs": [
    {
     "data": {
      "text/plain": "  0%|          | 0/1000 [00:00<?, ?it/s]",
      "application/vnd.jupyter.widget-view+json": {
       "version_major": 2,
       "version_minor": 0,
       "model_id": "87afdd52cced43e68e45459881315171"
      }
     },
     "metadata": {},
     "output_type": "display_data"
    },
    {
     "data": {
      "text/plain": "<Figure size 576x216 with 2 Axes>",
      "image/png": "[encoded data removed]"
     },
     "metadata": {
      "needs_background": "light"
     },
     "output_type": "display_data"
    }
   ],
   "source": [
    "show_syn_model(AMPAAll2All)"
   ]
  },
  {
   "cell_type": "markdown",
   "id": "8eb7c494",
   "metadata": {
    "pycharm": {
     "name": "#%% md\n"
    }
   },
   "source": [
    "Actually, the synaptic computation with these special connections can be very efficient! A concrete example please see a [decision making spiking model](https://brainpy-examples.readthedocs.io/en/latest/decision_making/Wang_2002_decision_making_spiking.html) in BrainPy-Examples. This implementation achievew at least four times acceleration comparing to the implementation in other frameworks. "
   ]
  },
  {
   "cell_type": "markdown",
   "id": "d819b14f",
   "metadata": {
    "pycharm": {
     "name": "#%% md\n"
    }
   },
   "source": [
    "## Computation with Sparse Connections"
   ]
  },
  {
   "cell_type": "markdown",
   "id": "2d0e7131",
   "metadata": {
    "pycharm": {
     "name": "#%% md\n"
    }
   },
   "source": [
    "However, in the real neural system, the neurons are connected **sparsely** in essence. \n",
    "\n",
    "Imaging you want to connect 10,000 pre-synaptic neurons to 10,000 post-synaptic neurons with a 10% random connection probability. Using matrix, you need $10^8$ floats to save the synaptic state, and at each update step, you need do computation on $10^8$ floats. Actually, the number of synapses you really connect is only $10^7$. See, there is a huge memory waste and computing resource inefficiency. Moreover, at the given time $\\mathrm{\\_t}$, the number of pre-synaptic neurons in the spiking state is small on average. This means we have made many useless computations when defining synaptic computations with matrix-based connections (zeros dot connection matrix results in zeros).\n",
    "\n",
    "Therefore, we need new ways to define synapse models. Specifically, we use vectors to store the connected neuron indices, like the ``pre_ids`` and ``post_ids`` (see [Synaptic Connections](../tutorial_toolbox/synaptic_connections.ipynb)). "
   ]
  },
  {
   "cell_type": "markdown",
   "id": "b67256b8",
   "metadata": {
    "pycharm": {
     "name": "#%% md\n"
    }
   },
   "source": [
    "In the below, we assume you have learned the synaptic connection types detailed in the tutorial of [Synaptic Connections](../tutorial_toolbox/synaptic_connections.ipynb)."
   ]
  },
  {
   "cell_type": "markdown",
   "id": "4806dc08",
   "metadata": {
    "pycharm": {
     "name": "#%% md\n"
    }
   },
   "source": [
    "### The ``pre2post`` operator"
   ]
  },
  {
   "cell_type": "markdown",
   "id": "882dd9de",
   "metadata": {
    "pycharm": {
     "name": "#%% md\n"
    }
   },
   "source": [
    "A notable difference of brain dynamics models from the deep learning is that they are sparse and event-driven. In order to support this significant different kind of computations, BrainPy has built many useful [operators](../apis/auto/math/operators.rst). In this section, we talk about a set of operators needed in ``pre2post`` computations. "
   ]
  },
  {
   "cell_type": "markdown",
   "id": "059255e0",
   "metadata": {
    "pycharm": {
     "name": "#%% md\n"
    }
   },
   "source": [
    "Note before we have said that exponential synapse model can make computations at the dimension of the post-synaptic group. Therefore, we can directly transform the pre-synaptic data into the data of the post-synaptic shape. [brainpy.math.pre2post_event_sum(events, pre2post, post_num, values)](../apis/auto/math/generated/brainpy.math.operators.pre2post_event_sum.rst) can satisfy your requirements. This operator needs the synaptic structure of ``pre2post`` (a tuple contains the ``post_ids`` and ``idnptr`` of pre-synaptic neurons). \n",
    "\n",
    "If ``values`` is a scalar, ``pre2post_event_sum`` is equivalent to:\n",
    "\n",
    "```python\n",
    "post_val = np.zeros(post_num)\n",
    "\n",
    "post_ids, idnptr = pre2post\n",
    "for i in range(pre_num):\n",
    "  if events[i]:\n",
    "    for j in range(idnptr[i], idnptr[i+1]):\n",
    "      post_val[post_ids[i]] += values\n",
    "```\n",
    "\n",
    "If ``values`` is a vector, ``pre2post_event_sum`` is equivalent to:\n",
    "\n",
    "```python\n",
    "post_val = np.zeros(post_num)\n",
    "\n",
    "post_ids, idnptr = pre2post\n",
    "for i in range(pre_num):\n",
    "  if events[i]:\n",
    "    for j in range(idnptr[i], idnptr[i+1]):\n",
    "      post_val[post_ids[i]] += values[j]\n",
    "```"
   ]
  },
  {
   "cell_type": "markdown",
   "id": "ff96270d",
   "metadata": {
    "pycharm": {
     "name": "#%% md\n"
    }
   },
   "source": [
    "With this operator, exponential synapse model can be defined as:"
   ]
  },
  {
   "cell_type": "code",
   "execution_count": 28,
   "id": "94d26b81",
   "metadata": {
    "pycharm": {
     "name": "#%%\n"
    }
   },
   "outputs": [],
   "source": [
    "class ExpSparse(BaseExpSyn):\n",
    "  def __init__(self, *args, **kwargs):\n",
    "    super(ExpSparse, self).__init__(*args, **kwargs)\n",
    "\n",
    "    # connections\n",
    "    self.pre2post = self.conn.require('pre2post')\n",
    "\n",
    "    # synapse variable\n",
    "    self.g = bm.Variable(bm.zeros(self.post.num))\n",
    "\n",
    "  def update(self, tdi, x=None):\n",
    "    _t, _dt = tdi.t, tdi.dt\n",
    "    delayed_spike = self.pre_spike(self.delay_step)\n",
    "    self.pre_spike.update(self.pre.spike)\n",
    "    self.g.value = self.integral(self.g, _t, dt=_dt)\n",
    "    # NOTE: update synapse states according to the pre spikes\n",
    "    post_sps = bm.pre2post_event_sum(delayed_spike, self.pre2post, self.post.num, 1.)\n",
    "    self.g += post_sps\n",
    "    self.post.input += self.g_max * self.g * (self.E - self.post.V)"
   ]
  },
  {
   "cell_type": "code",
   "execution_count": 29,
   "id": "afd6a770",
   "metadata": {
    "lines_to_next_cell": 1,
    "pycharm": {
     "name": "#%%\n"
    }
   },
   "outputs": [
    {
     "data": {
      "text/plain": "  0%|          | 0/1000 [00:00<?, ?it/s]",
      "application/vnd.jupyter.widget-view+json": {
       "version_major": 2,
       "version_minor": 0,
       "model_id": "2eca3090d9f5424a90c3143aa46cd05e"
      }
     },
     "metadata": {},
     "output_type": "display_data"
    },
    {
     "data": {
      "text/plain": "<Figure size 576x216 with 2 Axes>",
      "image/png": "[encoded data removed]"
     },
     "metadata": {
      "needs_background": "light"
     },
     "output_type": "display_data"
    }
   ],
   "source": [
    "show_syn_model(ExpSparse)"
   ]
  },
  {
   "cell_type": "markdown",
   "id": "eed2af26",
   "metadata": {
    "pycharm": {
     "name": "#%% md\n"
    }
   },
   "source": [
    "This model will be very efficient when your synapses are connected sparsely. "
   ]
  },
  {
   "cell_type": "markdown",
   "id": "6300cda5",
   "metadata": {
    "pycharm": {
     "name": "#%% md\n"
    }
   },
   "source": [
    "### The ``pre2syn`` and ``syn2post`` operators"
   ]
  },
  {
   "cell_type": "markdown",
   "id": "2f39c2f8",
   "metadata": {
    "pycharm": {
     "name": "#%% md\n"
    }
   },
   "source": [
    "However, for AMPA synapse model, the pre-synaptic values can not be directly transformed into the post-synaptic dimensional data. Therefore, we need to first change the pre data into the data of the synapse dimension, then transform the synapse-dimensional data into the post-dimensional data. "
   ]
  },
  {
   "cell_type": "markdown",
   "id": "ae7c55b3",
   "metadata": {
    "pycharm": {
     "name": "#%% md\n"
    }
   },
   "source": [
    "Therefore, the core problem of synaptic computation is how to convert values among different shape of arrays. Specifically, in the above AMPA synapse model, we have three kinds of array shapes (see the following figure): arrays with the dimension of pre-synaptic group, arrays of the dimension of post-synaptic group, and arrays with the shape of synaptic connections. Converting the pre-synaptic spiking state into the synaptic state and grouping the synaptic variable as the post-synaptic current value are central problems of synaptic computation."
   ]
  },
  {
   "cell_type": "markdown",
   "id": "89a546a3",
   "metadata": {
    "pycharm": {
     "name": "#%% md\n"
    }
   },
   "source": [
    "![](../_static/pre2syn2post.png)"
   ]
  },
  {
   "cell_type": "markdown",
   "id": "b4aeef36",
   "metadata": {
    "pycharm": {
     "name": "#%% md\n"
    }
   },
   "source": [
    "Here BrainPy provides two operators [brainpy.math.pre2syn(pre_values, pre_ids)](../apis/auto/math/generated/brainpy.math.operators.pre2syn.rst) and [brainpy.math.syn2post(syn_values, post_ids, post_num)](../apis/auto/math/generated/brainpy.math.operators.syn2post.rst) to convert vectors among different dimensions.\n",
    "\n",
    "- ``brainpy.math.pre2syn()`` receives two arguments: \"pre_values\" (the variable of the pre-synaptic dimension) and \"pre_ids\" (the connected pre-synaptic neuron index).\n",
    "- ``brainpy.math.syn2post()`` receives three arguments: \"syn_values\" (the variable with the synaptic size), \"post_ids\" (the connected post-synaptic neuron index) and \"post_num\" (the number of the post-synaptic neurons)."
   ]
  },
  {
   "cell_type": "markdown",
   "id": "8400124a",
   "metadata": {
    "pycharm": {
     "name": "#%% md\n"
    }
   },
   "source": [
    "Based on these two operators, we can define the AMPA synapse model as:"
   ]
  },
  {
   "cell_type": "code",
   "execution_count": 30,
   "id": "fa62799e",
   "metadata": {
    "pycharm": {
     "name": "#%%\n"
    }
   },
   "outputs": [],
   "source": [
    "class AMPASparse(BaseAMPASyn):\n",
    "  def __init__(self, *args, **kwargs):\n",
    "    super(AMPASparse, self).__init__(*args, **kwargs)\n",
    "\n",
    "    # connection matrix\n",
    "    self.pre_ids, self.post_ids = self.conn.require('pre_ids', 'post_ids')\n",
    "\n",
    "    # synapse gating variable\n",
    "    # -------\n",
    "    # NOTE: Here the synapse shape is (num_syn,)\n",
    "    self.g = bm.Variable(bm.zeros(len(self.pre_ids)))\n",
    "\n",
    "  def update(self, tdi, x=None):\n",
    "    _t, _dt = tdi.t, tdi.dt\n",
    "    delayed_spike = self.pre_spike(self.delay_step)\n",
    "    self.pre_spike.update(self.pre.spike)\n",
    "    # get the time of pre spikes arrive at the post synapse\n",
    "    self.spike_arrival_time.value = bm.where(delayed_spike, _t, self.spike_arrival_time)\n",
    "    # get the arrival time with the synapse dimension\n",
    "    arrival_times = bm.pre2syn(self.spike_arrival_time, self.pre_ids)\n",
    "    # get the neurotransmitter concentration at the current time\n",
    "    TT = ((_t - arrival_times) < self.T_duration) * self.T\n",
    "    # integrate the synapse state\n",
    "    self.g.value = self.integral(self.g, _t, TT, dt=_dt)\n",
    "    # get the post-synaptic current\n",
    "    g_post = bm.syn2post(self.g, self.post_ids, self.post.num)\n",
    "    self.post.input += self.g_max * g_post * (self.E - self.post.V)"
   ]
  },
  {
   "cell_type": "code",
   "execution_count": 31,
   "id": "3ccfcf3b",
   "metadata": {
    "pycharm": {
     "name": "#%%\n"
    }
   },
   "outputs": [
    {
     "data": {
      "text/plain": "  0%|          | 0/1000 [00:00<?, ?it/s]",
      "application/vnd.jupyter.widget-view+json": {
       "version_major": 2,
       "version_minor": 0,
       "model_id": "c3017b75427f4417a03cf78631510b33"
      }
     },
     "metadata": {},
     "output_type": "display_data"
    },
    {
     "data": {
      "text/plain": "<Figure size 576x216 with 2 Axes>",
      "image/png": "[encoded data removed]"
     },
     "metadata": {
      "needs_background": "light"
     },
     "output_type": "display_data"
    }
   ],
   "source": [
    "show_syn_model(AMPASparse)"
   ]
  },
  {
   "cell_type": "markdown",
   "id": "92903cb0",
   "metadata": {
    "pycharm": {
     "name": "#%% md\n"
    }
   },
   "source": [
    "We hope this tutorial will help your synapse models be defined efficiently. "
   ]
  }
 ],
 "metadata": {
  "jupytext": {
   "encoding": "# -*- coding: utf-8 -*-"
  },
  "kernelspec": {
   "name": "python3",
   "language": "python",
   "display_name": "Python 3 (ipykernel)"
  },
  "language_info": {
   "codemirror_mode": {
    "name": "ipython",
    "version": 3
   },
   "file_extension": ".py",
   "mimetype": "text/x-python",
   "name": "python",
   "nbconvert_exporter": "python",
   "pygments_lexer": "ipython3",
   "version": "3.8.8"
  },
  "latex_envs": {
   "LaTeX_envs_menu_present": true,
   "autoclose": false,
   "autocomplete": true,
   "bibliofile": "biblio.bib",
   "cite_by": "apalike",
   "current_citInitial": 1,
   "eqLabelWithNumbers": true,
   "eqNumInitial": 1,
   "hotkeys": {
    "equation": "Ctrl-E",
    "itemize": "Ctrl-I"
   },
   "labels_anchors": false,
   "latex_user_defs": false,
   "report_style_numbering": false,
   "user_envs_cfg": false
  },
  "toc": {
   "base_numbering": 1,
   "nav_menu": {},
   "number_sections": false,
   "sideBar": true,
   "skip_h1_title": false,
   "title_cell": "Table of Contents",
   "title_sidebar": "Contents",
   "toc_cell": false,
   "toc_position": {
    "height": "calc(100% - 180px)",
    "left": "10px",
    "top": "150px",
    "width": "279.273px"
   },
   "toc_section_display": true,
   "toc_window_display": true
  }
 },
 "nbformat": 4,
 "nbformat_minor": 5
}