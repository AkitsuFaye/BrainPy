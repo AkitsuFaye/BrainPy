{
 "cells": [
  {
   "cell_type": "markdown",
   "id": "096f2ee4",
   "metadata": {},
   "source": [
    "# Building Synapse Models"
   ]
  },
  {
   "cell_type": "markdown",
   "id": "9c1ae039",
   "metadata": {},
   "source": [
    "@[Xiaoyu Chen](mailto:c-xy17@tsinghua.org.cn)"
   ]
  },
  {
   "cell_type": "markdown",
   "id": "90473b47",
   "metadata": {},
   "source": [
    "After neural groups are defined, synaptic connections should be specified. In BrainPy, `brainpy.TwoEndConn` is used to model two-end synaptic connections. **All types of synapse models, build-in or user-customized, should inherit the `brainpy.TwoEndConn` base class.**"
   ]
  },
  {
   "cell_type": "markdown",
   "id": "ec1b4f4f",
   "metadata": {},
   "source": [
    "## brainpy.TwoEndConn"
   ]
  },
  {
   "cell_type": "markdown",
   "id": "297b0de9",
   "metadata": {},
   "source": [
    "To define a synapse class, three key parameters should be given in the `__init__` function:\n",
    "* `pre`: the presynaptic neural group. It should be a subclass of `brainpy.NeuGroup`.\n",
    "* `post`: the postsynaptic neural group. It should be a subclass of `brainpy.NeuGroup`.\n",
    "* `conn` (optional): the connection type between these two groups. Brainpy has provided abundant connection types that are described in details in the [Synaptic Connectivity](../tutorial_simulation/synaptic_connectivity.ipynb) section.\n",
    "\n",
    "Besides, the `update(_t, dt)` function should also be implemented to update the synaptic state during dynamics simulation."
   ]
  },
  {
   "cell_type": "markdown",
   "id": "348e7491",
   "metadata": {},
   "source": [
    "Below is an illustration of building an [Exponential synapse model](https://brainmodels.readthedocs.io/en/latest/apis/generated/brainmodels.synapses.ExpCOBA.html)."
   ]
  },
  {
   "cell_type": "markdown",
   "id": "ee864f9e",
   "metadata": {},
   "source": [
    "### Exponential Synapse Model"
   ]
  },
  {
   "cell_type": "markdown",
   "id": "266c7fa7",
   "metadata": {},
   "source": [
    "The exponential synapse model assumes that once a pre-synaptic neuron generates a spike, the synaptic state arises instantaneously, then decays with a certain time constant $\\tau_{decay}$. Its dynamics is given by:\n",
    "\n",
    "$$\n",
    "\\frac{d s}{d t} = -\\frac{s}{\\tau_{decay}}+\\sum_{k} \\delta(t-D-t^{k})\n",
    "$$\n",
    "\n",
    "where $s$ is the synaptic state, $t^{k}$ is the spike time of the pre-synaptic neuron, and $D$ is the synaptic delay. "
   ]
  },
  {
   "cell_type": "markdown",
   "id": "6f30b788",
   "metadata": {},
   "source": [
    "Afterward, the current output onto the post-synaptic neuron is given in the conductance-based form:\n",
    "\n",
    "$$\n",
    "I_{syn}(t) = g_{max} s \\left( V(t)-E \\right)\n",
    "$$\n",
    "\n",
    "where $E$ is the reversal potential of the synapse, $V$ is the post-synaptic membrane potential, $g_{max}$ is the maximum synaptic conductance. "
   ]
  },
  {
   "cell_type": "markdown",
   "id": "81f008e4",
   "metadata": {},
   "source": [
    "Below is the implementation of the exponential synapose model."
   ]
  },
  {
   "cell_type": "code",
   "execution_count": 3,
   "id": "db3325ce",
   "metadata": {},
   "outputs": [],
   "source": [
    "import brainpy as bp\n",
    "import brainpy.math as bm\n",
    "\n",
    "bm.set_platform('cpu')\n",
    "\n",
    "\n",
    "class Exponential(bp.TwoEndConn):\n",
    "  def __init__(self, pre, post, conn, g_max=1., delay=0., E=0., tau=8.0, **kwargs):\n",
    "    # connections are built in the initialization function of bp.TwoEndConn\n",
    "    super(Exponential, self).__init__(pre=pre, post=post, conn=conn, **kwargs)\n",
    "\n",
    "    # initialize parameters\n",
    "    self.tau = tau\n",
    "    self.g_max = g_max\n",
    "    self.delay = delay\n",
    "    self.E = E\n",
    "\n",
    "    # acquire desired properties of the connection\n",
    "    self.pre_ids, self.post_ids, self.pre2post = self.conn.requires('pre_ids', 'post_ids', 'pre2post')\n",
    "\n",
    "    # variables\n",
    "    self.s = bm.Variable(bm.zeros(self.post.num))\n",
    "    self.pre_spike = self.register_constant_delay('pre_spike', self.pre.num, delay)\n",
    "\n",
    "    self.integral = bp.odeint(f=self.derivative, method='exponential_euler')\n",
    "\n",
    "  def derivative(self, s, t):\n",
    "    dsdt = -s / self.tau\n",
    "    return dsdt\n",
    "\n",
    "  def update(self, _t, _dt):\n",
    "    # push the pre-synaptic spikes into the delay\n",
    "    self.pre_spike.push(self.pre.spike)\n",
    "\n",
    "    # pull the delayed pre-synaptic spikes\n",
    "    delayed_pre_spike = self.pre_spike.pull()\n",
    "\n",
    "    # get the spikes of each presynaptic neuron\n",
    "    spikes = bm.pre2syn(delayed_pre_spike, self.pre_ids)\n",
    "\n",
    "    # transmit the spikes to postsynaptic neurons\n",
    "    post_sp = bm.syn2post(spikes, self.post_ids, self.post.num)\n",
    "\n",
    "    # update the state variable\n",
    "    self.s[:] = self.integral(self.s, _t, dt=_dt) + post_sp\n",
    "\n",
    "    # update the output of currents, i.e. the postsynaptic input\n",
    "    self.post.input[:] += self.g_max * self.s * - (self.post.V - self.E)"
   ]
  },
  {
   "cell_type": "markdown",
   "id": "77595ed1",
   "metadata": {},
   "source": [
    "### Implementation Details"
   ]
  },
  {
   "cell_type": "markdown",
   "id": "19492270",
   "metadata": {},
   "source": [
    "To make synapse construction easier, Brainpy provides `brainpy.connect.Connector` for standardized interface to build synaptic connections. **It is strongly suggested that users use build-in connectors or specify their customized connectors in `brainpy.connect.Connector` to generate different types of connections.** \n",
    "\n",
    "After defining the connector, users may want to access some useful properties of the connetion, such as the indices of pre- and post-synaptic neurons. ``brainpy.connect.Connector`` provides a `require` function by which users can request those properties like *pre_ids*, *post_ids*, *conn_mat*, *pre2post*, *post2pre*, *pre2syn*, *post2syn*, etc. In the above example, *pre_ids* and *post_ids*, i.e. the indices of pre- and post-synaptic neurons, are requested in the `require` function, so they will be computed and returned by the connector.\n",
    "\n",
    "For more details, see [Synaptic Connectivity](../tutorial_building/synaptic_connectivity.ipynb)."
   ]
  },
  {
   "cell_type": "markdown",
   "id": "1f207b04",
   "metadata": {},
   "source": [
    "The modeling of synapses usually includes a delay time (typically 0.3–0.5 ms) required for a neurotransmitter to be released from a presynaptic membrane, diffuse across the synaptic cleft, and bind to a receptor site on the post-synaptic membrane. ``brainpy.TwoEndConn`` can help to construct **automatic delay** in synaptic computations. `brainpy.DynamicalSystem`, the superclass for all dynamical systems including `brainpy.TwoEndConn`, provides the [register_constant_delay()](../apis/simulation/brainobjects.html#brainpy.simulation.brainobjects.DynamicalSystem.register_constant_delay) function for automatic state delay. In the above example, `self.pre_spike` is defined as a delayed variable."
   ]
  },
  {
   "cell_type": "markdown",
   "id": "7cefbd49",
   "metadata": {},
   "source": [
    "## Building Synapses between Neural Groups"
   ]
  },
  {
   "cell_type": "markdown",
   "id": "6ab300f8",
   "metadata": {},
   "source": [
    "For convenience, a LIF model is imported from the `BrainModels` package which provides plentiful canonical brain models backended by BrainPy, and the pre- and post-synaptic nerual groups are constructed."
   ]
  },
  {
   "cell_type": "code",
   "execution_count": 14,
   "id": "24918d7e",
   "metadata": {},
   "outputs": [],
   "source": [
    "from brainmodels.neurons import LIF\n",
    "\n",
    "pre_size = (5, 4)\n",
    "post_size = 3\n",
    "pre_neu = LIF(pre_size, tau=10, V_th=-30, V_rest=-60, V_reset=-60, tau_ref=5.)\n",
    "post_neu = LIF(post_size, tau=20, V_th=-30, V_rest=-60, V_reset=-60, tau_ref=5.)"
   ]
  },
  {
   "cell_type": "markdown",
   "id": "58b7cdb1",
   "metadata": {},
   "source": [
    "The `Exponential` model can be instantiated as:"
   ]
  },
  {
   "cell_type": "code",
   "execution_count": 15,
   "id": "0c84f48f",
   "metadata": {},
   "outputs": [],
   "source": [
    "conn = bp.connect.All2All()  # all-to-all connections, a subclass of bp.connect.Connector\n",
    "exp_syn = Exponential(pre_neu, post_neu, conn, E=0., g_max=0.6, tau=5)"
   ]
  },
  {
   "cell_type": "markdown",
   "id": "53363acd",
   "metadata": {},
   "source": [
    "Here the all-to-all connection type is used, which connects each presynaptic neuron to all postsynaptic neurons. Because the `pre_ids` and `post_ids` have been **required** in the `Exponential` class, they can be accessed directly using `exp_syn.pre_ids` and `exp_.post_ids`."
   ]
  },
  {
   "cell_type": "code",
   "execution_count": 16,
   "id": "e284f323",
   "metadata": {},
   "outputs": [
    {
     "name": "stdout",
     "output_type": "stream",
     "text": [
      "indices of synapses:\n",
      "[ 0  1  2  3  4  5  6  7  8  9 10 11 12 13 14 15 16 17 18 19 20 21 22 23\n",
      " 24 25 26 27 28 29 30 31 32 33 34 35 36 37 38 39 40 41 42 43 44 45 46 47\n",
      " 48 49 50 51 52 53 54 55 56 57 58 59]\n",
      "indices of presynaptic neurons:\n",
      "[ 0  0  0  1  1  1  2  2  2  3  3  3  4  4  4  5  5  5  6  6  6  7  7  7\n",
      "  8  8  8  9  9  9 10 10 10 11 11 11 12 12 12 13 13 13 14 14 14 15 15 15\n",
      " 16 16 16 17 17 17 18 18 18 19 19 19]\n",
      "indices of postsynaptic neurons:\n",
      "[0 1 2 0 1 2 0 1 2 0 1 2 0 1 2 0 1 2 0 1 2 0 1 2 0 1 2 0 1 2 0 1 2 0 1 2 0\n",
      " 1 2 0 1 2 0 1 2 0 1 2 0 1 2 0 1 2 0 1 2 0 1 2]\n"
     ]
    }
   ],
   "source": [
    "import numpy as np\n",
    "\n",
    "print('indices of synapses:\\n{}'.format(np.arange(exp_syn.pre.num * exp_syn.post.num)))\n",
    "print('indices of presynaptic neurons:\\n{}'.format(exp_syn.pre_ids))\n",
    "print('indices of postsynaptic neurons:\\n{}'.format(exp_syn.post_ids))"
   ]
  },
  {
   "cell_type": "markdown",
   "id": "dcb34cb4",
   "metadata": {},
   "source": [
    "After neural groups and synaptic connections are constructed, a neural network can be built for dynamic simulation. Please see the next section [Building Network Models](building_network_models.ipynb)."
   ]
  },
  {
   "cell_type": "code",
   "execution_count": null,
   "id": "3ef8aae8",
   "metadata": {},
   "outputs": [],
   "source": []
  }
 ],
 "metadata": {
  "kernelspec": {
   "display_name": "Python 3",
   "language": "python",
   "name": "python3"
  },
  "language_info": {
   "codemirror_mode": {
    "name": "ipython",
    "version": 3
   },
   "file_extension": ".py",
   "mimetype": "text/x-python",
   "name": "python",
   "nbconvert_exporter": "python",
   "pygments_lexer": "ipython3",
   "version": "3.8.8"
  }
 },
 "nbformat": 4,
 "nbformat_minor": 5
}
