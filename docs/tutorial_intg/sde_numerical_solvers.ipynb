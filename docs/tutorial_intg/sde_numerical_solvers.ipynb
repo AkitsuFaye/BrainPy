{
 "cells": [
  {
   "cell_type": "markdown",
   "id": "premium-shield",
   "metadata": {},
   "source": [
    "# Numerical Solvers for SDEs"
   ]
  },
  {
   "cell_type": "markdown",
   "id": "0f1e62e8",
   "metadata": {},
   "source": [
    "`BrainPy` provides several numerical methods for stochastic differential equations (SDEs). Specifically, we provide explicit Runge-Kutta methods, derivative-free Milstein methods, and exponential Euler method for SDE numerical integration. For the introductionary tutorial for how to use  BrainPy provided numerical solversfor SDEs, please see the document in [Quickstart/Numerical Solvers](../quickstart/numerical_solvers.ipynb). "
   ]
  },
  {
   "cell_type": "code",
   "execution_count": 1,
   "id": "223eeef0",
   "metadata": {},
   "outputs": [
    {
     "data": {
      "text/plain": [
       "'1.1.0-alpha'"
      ]
     },
     "execution_count": 1,
     "metadata": {},
     "output_type": "execute_result"
    }
   ],
   "source": [
    "import brainpy as bp\n",
    "\n",
    "bp.__version__"
   ]
  },
  {
   "cell_type": "code",
   "execution_count": 2,
   "id": "0b93fde9",
   "metadata": {},
   "outputs": [],
   "source": [
    "import matplotlib.pyplot as plt\n",
    "\n",
    "%matplotlib inline"
   ]
  },
  {
   "cell_type": "markdown",
   "id": "2968e77f",
   "metadata": {},
   "source": [
    "### Supported methods for SDEs"
   ]
  },
  {
   "cell_type": "markdown",
   "id": "c71e9b24",
   "metadata": {},
   "source": [
    "`BrainPy` provides several numerical methods for stochastic differential equations (SDEs). Specifically, we provide explicit Runge-Kutta methods, derivative-free Milstein methods, and exponential Euler method for SDE numerical integration. "
   ]
  },
  {
   "cell_type": "markdown",
   "id": "318047d8",
   "metadata": {},
   "source": [
    "| Methods                   | Keywords           | Ito SDE support | Stratonovich SDE support | Scalar Wiener support | Vector Wiener support |\n",
    "| ------------------------- | ------------------ | --------------- | ------------------------ | --------------------- | --------------------- |\n",
    "| [Strong SRK scheme: SRI1W1](../apis/integrators/generated/brainpy.integrators.sde.srk1w1_scalar.html) | srk1w1_scalar     | Yes             |                          | Yes                   |                       |\n",
    "| [Strong SRK scheme: SRI2W1](../apis/integrators/generated/brainpy.integrators.sde.srk2w1_scalar.html) | srk2w1_scalar     | Yes             |                          | Yes                   |                       |\n",
    "|  [Strong SRK scheme: KlPl](../apis/integrators/generated/brainpy.integrators.sde.KlPl_scalar.html)  | KlPl_scalar       | Yes             |                          | Yes                   |                       |\n",
    "| [Euler method](../apis/integrators/generated/brainpy.integrators.sde.euler.html) | euler              | Yes             | Yes                      | Yes                   | Yes                   |\n",
    "| [Heun method](../apis/integrators/generated/brainpy.integrators.sde.heun.html) | heun               |                 | Yes                      | Yes                   | Yes                   |\n",
    "| [Derivative-free Milstein](../apis/integrators/generated/brainpy.integrators.sde.milstein.html) | milstein           | Yes             | Yes                      | Yes                   | Yes                   |\n",
    "| [Exponential Euler](../apis/integrators/generated/brainpy.integrators.sde.exponential_euler.html) | exponential_euler | Yes             |                          | Yes                   | Yes                   |"
   ]
  },
  {
   "cell_type": "markdown",
   "id": "029d87fc",
   "metadata": {},
   "source": [
    "---\n",
    "\n",
    "**Author**:\n",
    "\n",
    "- Chaoming Wang\n",
    "- Email: adaduo@outlook.com\n",
    "- Date: 2021.03.25, updated @2021.05.29 @2021.09.02\n",
    "\n",
    "---"
   ]
  }
 ],
 "metadata": {
  "hide_input": false,
  "jupytext": {
   "encoding": "# -*- coding: utf-8 -*-"
  },
  "kernelspec": {
   "display_name": "brainpy",
   "language": "python",
   "name": "brainpy"
  },
  "language_info": {
   "codemirror_mode": {
    "name": "ipython",
    "version": 3
   },
   "file_extension": ".py",
   "mimetype": "text/x-python",
   "name": "python",
   "nbconvert_exporter": "python",
   "pygments_lexer": "ipython3",
   "version": "3.8.11"
  },
  "latex_envs": {
   "LaTeX_envs_menu_present": true,
   "autoclose": false,
   "autocomplete": true,
   "bibliofile": "biblio.bib",
   "cite_by": "apalike",
   "current_citInitial": 1,
   "eqLabelWithNumbers": true,
   "eqNumInitial": 1,
   "hotkeys": {
    "equation": "Ctrl-E",
    "itemize": "Ctrl-I"
   },
   "labels_anchors": false,
   "latex_user_defs": false,
   "report_style_numbering": false,
   "user_envs_cfg": false
  },
  "toc": {
   "base_numbering": 1,
   "nav_menu": {
    "height": "265px",
    "width": "436px"
   },
   "number_sections": false,
   "sideBar": true,
   "skip_h1_title": false,
   "title_cell": "Table of Contents",
   "title_sidebar": "Contents",
   "toc_cell": false,
   "toc_position": {},
   "toc_section_display": true,
   "toc_window_display": true
  },
  "varInspector": {
   "cols": {
    "lenName": 16,
    "lenType": 16,
    "lenVar": 40
   },
   "kernels_config": {
    "python": {
     "delete_cmd_postfix": "",
     "delete_cmd_prefix": "del ",
     "library": "var_list.py",
     "varRefreshCmd": "print(var_dic_list())"
    },
    "r": {
     "delete_cmd_postfix": ") ",
     "delete_cmd_prefix": "rm(",
     "library": "var_list.r",
     "varRefreshCmd": "cat(var_dic_list()) "
    }
   },
   "types_to_exclude": [
    "module",
    "function",
    "builtin_function_or_method",
    "instance",
    "_Feature"
   ],
   "window_display": false
  }
 },
 "nbformat": 4,
 "nbformat_minor": 5
}
