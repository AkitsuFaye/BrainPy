{
 "cells": [
  {
   "cell_type": "markdown",
   "metadata": {},
   "source": [
    "# BrainPy Quickstart"
   ]
  },
  {
   "cell_type": "markdown",
   "metadata": {},
   "source": [
    "**BrainPy is a lightweight framework for prototyping and building your neuronal models on computational neuroscience and brain-inspired computation.** "
   ]
  },
  {
   "cell_type": "markdown",
   "metadata": {},
   "source": [
    "Two main functions are provided in BrainPy: *dynamics simulation* and *dynamics analysis*. In this part, I will focus on neuronal dynamics simulation, and tell you how to code a dynamics network in BrainPy."
   ]
  },
  {
   "cell_type": "markdown",
   "metadata": {},
   "source": [
    "First of all, import the package."
   ]
  },
  {
   "cell_type": "code",
   "execution_count": 3,
   "metadata": {},
   "outputs": [],
   "source": [
    "import sys\n",
    "sys.path.append('../../')\n",
    "\n",
    "import brainpy as bp"
   ]
  },
  {
   "cell_type": "markdown",
   "metadata": {},
   "source": [
    "BrainPy provide a unified backend for NumPy and Numba (and further we will support JAX, TensorFlow, PyTorch). Using the same NumPy-like API, your codes can run everywhere, such NumPy and Numba, or JAX, TensorFlow and PyTorch (will support in the next cycle of development).Therefore, compare to use ``import numpy as np``, we recommond you to use our unified backend as ``import brainpy.numpy as np``. Detailed implemented functions in various backends please see the comparison table (comming soon)."
   ]
  },
  {
   "cell_type": "code",
   "execution_count": 4,
   "metadata": {},
   "outputs": [],
   "source": [
    "import brainpy.numpy as np"
   ]
  },
  {
   "cell_type": "markdown",
   "metadata": {},
   "source": [
    "## How to build a neuron model?"
   ]
  },
  {
   "cell_type": "code",
   "execution_count": null,
   "metadata": {},
   "outputs": [],
   "source": [
    "spike_threshold = 0.\n",
    "\n",
    "C = 1.0\n",
    "gLeak = 0.1\n",
    "ELeak = -65\n",
    "gNa = 35.\n",
    "ENa = 55.\n",
    "gK = 9.\n",
    "EK = -90.\n",
    "phi = 5.0\n",
    "\n",
    "HH_ST = bp.types.NeuState({'V': -55., 'h': 0., 'n': 0., 'sp': 0., 'input': 0.})\n",
    "\n",
    "@bp.integrate\n",
    "def int_h(h, t, V):\n",
    "    alpha = 0.07 * np.exp(-(V + 58) / 20)\n",
    "    beta = 1 / (np.exp(-0.1 * (V + 28)) + 1)\n",
    "    dhdt = alpha * (1 - h) - beta * h\n",
    "    return phi * dhdt\n",
    "\n",
    "@bp.integrate\n",
    "def int_n(n, t, V):\n",
    "    alpha = -0.01 * (V + 34) / (np.exp(-0.1 * (V + 34)) - 1)\n",
    "    beta = 0.125 * np.exp(-(V + 44) / 80)\n",
    "    dndt = alpha * (1 - n) - beta * n\n",
    "    return phi * dndt\n",
    "\n",
    "@bp.integrate\n",
    "def int_V(V, t, h, n, Isyn):\n",
    "    m_alpha = -0.1 * (V + 35) / (np.exp(-0.1 * (V + 35)) - 1)\n",
    "    m_beta = 4 * np.exp(-(V + 60) / 18)\n",
    "    m = m_alpha / (m_alpha + m_beta)\n",
    "    INa = gNa * m ** 3 * h * (V - ENa)\n",
    "    IK = gK * n ** 4 * (V - EK)\n",
    "    IL = gLeak * (V - ELeak)\n",
    "    dvdt = (- INa - IK - IL + Isyn) / C\n",
    "    return dvdt\n",
    "\n",
    "def update(ST, _t_):\n",
    "    h = int_h(ST['h'], _t_, ST['V'])\n",
    "    n = int_n(ST['n'], _t_, ST['V'])\n",
    "    V = int_V(ST['V'], _t_, ST['h'], ST['n'], ST['inp'])\n",
    "    sp = np.logical_and(ST['V'] < spike_threshold, V >= spike_threshold)\n",
    "    ST['sp'] = sp\n",
    "    ST['V'] = V\n",
    "    ST['h'] = h\n",
    "    ST['n'] = n\n",
    "    ST['inp'] = 0.\n",
    "\n",
    "HH = bp.NeuType('HH_neuron', requires={\"ST\": HH_ST}, steps=update)"
   ]
  },
  {
   "cell_type": "code",
   "execution_count": null,
   "metadata": {},
   "outputs": [],
   "source": []
  },
  {
   "cell_type": "markdown",
   "metadata": {},
   "source": [
    "## How to build a synapse model?"
   ]
  },
  {
   "cell_type": "code",
   "execution_count": null,
   "metadata": {},
   "outputs": [],
   "source": []
  },
  {
   "cell_type": "code",
   "execution_count": null,
   "metadata": {},
   "outputs": [],
   "source": [
    "g_max = 0.1\n",
    "E = -75.\n",
    "alpha = 12.\n",
    "beta = 0.1\n",
    "\n",
    "requires = dict(\n",
    "    ST=bp.types.SynState(['g', 's', 'pre_above_th']),\n",
    "    pre=bp.types.NeuState(['V']),\n",
    "    post=bp.types.NeuState(['V', 'inp']),\n",
    "    pre2syn=bp.types.ListConn(),\n",
    "    post2syn=bp.types.ListConn(),\n",
    ")\n",
    "\n",
    "\n",
    "@bp.integrate\n",
    "def int_s(s, t, TT):\n",
    "    return alpha * TT * (1 - s) - beta * s\n",
    "\n",
    "\n",
    "def update(ST, _t_, pre, pre2syn):\n",
    "    for pre_id, syn_ids in enumerate(pre2syn):\n",
    "        ST['pre_above_th'][syn_ids] = pre['V'][pre_id] - spike_threshold\n",
    "    T = 1 / (1 + np.exp(-ST['pre_above_th'] / 2))\n",
    "    s = int_s(ST['s'], _t_, T)\n",
    "    ST['s'] = s\n",
    "    ST['g'] = g_max * s\n",
    "\n",
    "\n",
    "def output(ST, post, post2syn):\n",
    "    post_cond = np.zeros(len(post2syn), dtype=np.float_)\n",
    "    for post_id, syn_ids in enumerate(post2syn):\n",
    "        post_cond[post_id] = np.sum(ST['g'][syn_ids])\n",
    "    post['inp'] -= post_cond * (post['V'] - E)\n",
    "\n",
    "\n",
    "GABAa = bp.SynType('GABAa', requires=requires, steps=(update, output))"
   ]
  },
  {
   "cell_type": "code",
   "execution_count": null,
   "metadata": {},
   "outputs": [],
   "source": []
  },
  {
   "cell_type": "markdown",
   "metadata": {},
   "source": [
    "## How to construct a network?"
   ]
  },
  {
   "cell_type": "code",
   "execution_count": null,
   "metadata": {},
   "outputs": [],
   "source": [
    "num = 100\n",
    "v_init = -70. + np.random.random(num) * 20\n",
    "h_alpha = 0.07 * np.exp(-(v_init + 58) / 20)\n",
    "h_beta = 1 / (np.exp(-0.1 * (v_init + 28)) + 1)\n",
    "h_init = h_alpha / (h_alpha + h_beta)\n",
    "n_alpha = -0.01 * (v_init + 34) / (np.exp(-0.1 * (v_init + 34)) - 1)\n",
    "n_beta = 0.125 * np.exp(-(v_init + 44) / 80)\n",
    "n_init = n_alpha / (n_alpha + n_beta)\n",
    "\n",
    "neu = bp.NeuGroup(HH, geometry=num, monitors=['sp', 'V'])\n",
    "neu.ST['V'] = v_init\n",
    "neu.ST['h'] = h_init\n",
    "neu.ST['n'] = n_init"
   ]
  },
  {
   "cell_type": "code",
   "execution_count": null,
   "metadata": {},
   "outputs": [],
   "source": [
    "syn = bp.SynConn(GABAa, pre_group=neu, post_group=neu,\n",
    "                 conn=bp.connect.All2All(include_self=False),\n",
    "                 monitors=['s', 'g'])\n",
    "syn.pars['g_max'] = 0.1 / num"
   ]
  },
  {
   "cell_type": "code",
   "execution_count": null,
   "metadata": {},
   "outputs": [],
   "source": [
    "net = bp.Network(neu, syn)\n",
    "net.run(duration=500., inputs=[neu, 'ST.inp', 1.2], report=True, report_percent=0.2)"
   ]
  },
  {
   "cell_type": "code",
   "execution_count": null,
   "metadata": {},
   "outputs": [],
   "source": [
    "ts = net.ts\n",
    "fig, gs = bp.visualize.get_figure(2, 1, 3, 12)\n",
    "\n",
    "fig.add_subplot(gs[0, 0])\n",
    "plt.plot(ts, neu.mon.V[:, 0])\n",
    "plt.ylabel('Membrane potential (N0)')\n",
    "plt.xlim(net.t_start - 0.1, net.t_end + 0.1)\n",
    "\n",
    "fig.add_subplot(gs[1, 0])\n",
    "index, time = bp.measure.raster_plot(neu.mon.sp, net.ts)\n",
    "plt.plot(time, index, '.')\n",
    "plt.xlim(net.t_start - 0.1, net.t_end + 0.1)\n",
    "plt.xlabel('Time (ms)')\n",
    "plt.ylabel('Raster plot')\n",
    "\n",
    "plt.show()"
   ]
  }
 ],
 "metadata": {
  "kernelspec": {
   "display_name": "py37",
   "language": "python",
   "name": "py37"
  },
  "language_info": {
   "codemirror_mode": {
    "name": "ipython",
    "version": 3
   },
   "file_extension": ".py",
   "mimetype": "text/x-python",
   "name": "python",
   "nbconvert_exporter": "python",
   "pygments_lexer": "ipython3",
   "version": "3.7.7"
  },
  "toc": {
   "base_numbering": 1,
   "nav_menu": {
    "height": "151px",
    "width": "305px"
   },
   "number_sections": false,
   "sideBar": true,
   "skip_h1_title": false,
   "title_cell": "Table of Contents",
   "title_sidebar": "Contents",
   "toc_cell": false,
   "toc_position": {},
   "toc_section_display": true,
   "toc_window_display": true
  }
 },
 "nbformat": 4,
 "nbformat_minor": 4
}
