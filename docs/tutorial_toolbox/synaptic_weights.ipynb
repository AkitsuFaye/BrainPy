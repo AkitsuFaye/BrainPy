{
 "cells": [
  {
   "cell_type": "markdown",
   "id": "64dffee5",
   "metadata": {},
   "source": [
    "# Synaptic Weights"
   ]
  },
  {
   "cell_type": "markdown",
   "id": "45063cfc",
   "metadata": {},
   "source": [
    "@[Xiaoyu Chen](mailto:c-xy17@tsinghua.org.cn) "
   ]
  },
  {
   "cell_type": "markdown",
   "id": "2c6e09ce",
   "metadata": {},
   "source": [
    "In a brain model, synaptic weights, the strength of the connection between presynaptic and postsynaptic neurons, are crucial to the dynamics of the model. In this section, we will illutrate how to build synaptic weights in a synapse model."
   ]
  },
  {
   "cell_type": "code",
   "execution_count": 34,
   "id": "b2699aa1",
   "metadata": {},
   "outputs": [],
   "source": [
    "import brainpy as bp\n",
    "import brainpy.math as bm\n",
    "import numpy as np\n",
    "\n",
    "bp.math.set_platform('cpu')"
   ]
  },
  {
   "cell_type": "markdown",
   "id": "ab3c64d2",
   "metadata": {},
   "source": [
    "## Creating Static Weights\n",
    "\n",
    "Some computational models focus on the network structure and its influence on network dynamics, thus not modeling neural plasticity for simplicity. In this condition, synaptic weights are fixed and do not change in simulation. They can be stored as a scalar, a matrix or a vector depending on the connection strength and density."
   ]
  },
  {
   "cell_type": "markdown",
   "id": "5ac24926",
   "metadata": {},
   "source": [
    "### 1. Storing weights with a scalar\n",
    "\n",
    "If all synaptic weights are designed to be the same, the single weight value can be stored as a scalar in the synpase model to save memory space."
   ]
  },
  {
   "cell_type": "code",
   "execution_count": 2,
   "id": "f9ecb76d",
   "metadata": {},
   "outputs": [],
   "source": [
    "weight = 1."
   ]
  },
  {
   "cell_type": "markdown",
   "id": "9b1e9cba",
   "metadata": {},
   "source": [
    "The `weight` can be stored in a synapse model. When updating the synapse, this `weight` is assigned to all synapses by scalar multiplication. "
   ]
  },
  {
   "cell_type": "markdown",
   "id": "ca4e17d3",
   "metadata": {},
   "source": [
    "### 2. Storing weights with a matrix\n",
    "\n",
    "**When the synaptic connection is dense and the synapses are assigned with different weights**, weights can be stored in a matrix $W$, where $W(i, j)$ refers to the weight of presynaptic neuron $i$ to postsynaptic neuron $j$.\n",
    "\n",
    "BrainPy provides `brainpy.training.initialize.Initializer` (or `brainpy.init` for short), the tutorial of which is displayed in [Initializing Connection Weights](../tutorial_training/initializing_connection_weights.ipynb), to initialize synaptic weights as a matrix."
   ]
  },
  {
   "cell_type": "markdown",
   "id": "997cecd1",
   "metadata": {},
   "source": [
    "For example, a weight matrix can be constructed using `brainpy.init.Uniform`, which initializes weights with a random distribution:"
   ]
  },
  {
   "cell_type": "code",
   "execution_count": 15,
   "id": "6e977e0c",
   "metadata": {},
   "outputs": [
    {
     "name": "stdout",
     "output_type": "stream",
     "text": [
      "shape of weights: (16, 9)\n"
     ]
    }
   ],
   "source": [
    "pre_size = (4, 4)\n",
    "post_size = (3, 3)\n",
    "\n",
    "uniform_init = bp.init.Uniform(min_val=0., max_val=1.)\n",
    "weights = uniform_init((pre_size, post_size))\n",
    "print('shape of weights: {}'.format(weights.shape))"
   ]
  },
  {
   "cell_type": "markdown",
   "id": "dd071142",
   "metadata": {},
   "source": [
    "Then, the weights can be assigned to the corresponding connection. For example, an all-to-all connection matrix can be obtained as below (for creating synaptic connections, please refer to [Creating Synaptic Connections](synaptic_connections.ipynh)):"
   ]
  },
  {
   "cell_type": "code",
   "execution_count": 19,
   "id": "058a578a",
   "metadata": {},
   "outputs": [],
   "source": [
    "conn = bp.conn.All2All()\n",
    "conn(pre_size, post_size)\n",
    "conn_mat = conn.requires('conn_mat')  # request the connection matrix"
   ]
  },
  {
   "cell_type": "markdown",
   "id": "fd65d53c",
   "metadata": {},
   "source": [
    "Therefore, `weights[i, j]` refers to the synaptic weight of the connection `(i, j)`."
   ]
  },
  {
   "cell_type": "code",
   "execution_count": 20,
   "id": "ec98601a",
   "metadata": {},
   "outputs": [
    {
     "name": "stdout",
     "output_type": "stream",
     "text": [
      "whether (i, j) is connected: True\n",
      "synaptic weights of (i, j): 0.19848954677581787\n"
     ]
    }
   ],
   "source": [
    "i, j = (2, 3)\n",
    "print('whether (i, j) is connected: {}'.format(conn_mat[i, j]))\n",
    "print('synaptic weights of (i, j): {}'.format(weights[i, j]))"
   ]
  },
  {
   "cell_type": "markdown",
   "id": "b0870177",
   "metadata": {},
   "source": [
    "### 3. Storing weights with a vector\n",
    "\n",
    "**When the synaptic connection is sparse, using a matrix to store synaptic weights is too wasteful.** Instead, the weights can be stored in a vector which has the same length as the synaptic connections.\n",
    "\n",
    "<img src=\"../_static/synapses_and_weights.png\" width=\"400 px\">\n",
    "\n",
    "Weights can be assigned to the corresponding synapses as long as the they are aligned with each other."
   ]
  },
  {
   "cell_type": "code",
   "execution_count": 28,
   "id": "ea8a9701",
   "metadata": {},
   "outputs": [
    {
     "name": "stdout",
     "output_type": "stream",
     "text": [
      "presynaptic neuron ids: [0 1 2 3 4]\n",
      "postsynaptic neuron ids: [0 1 2 3 4]\n",
      "synapse ids: [0 1 2 3 4]\n"
     ]
    }
   ],
   "source": [
    "size = 5\n",
    "\n",
    "conn = bp.conn.One2One()\n",
    "conn(size, size)\n",
    "pre_ids, post_ids = conn.requires('pre_ids', 'post_ids')\n",
    "\n",
    "print('presynaptic neuron ids: {}'.format(pre_ids))\n",
    "print('postsynaptic neuron ids: {}'.format(post_ids))\n",
    "print('synapse ids: {}'.format(bm.arange(size)))"
   ]
  },
  {
   "cell_type": "markdown",
   "id": "5396727a",
   "metadata": {},
   "source": [
    "The weight vector is aligned with the synapse vector, i.e. synapse ids :"
   ]
  },
  {
   "cell_type": "code",
   "execution_count": 31,
   "id": "ca329166",
   "metadata": {},
   "outputs": [
    {
     "name": "stdout",
     "output_type": "stream",
     "text": [
      "weight of synapse 0: 1.1220934391021729\n",
      "weight of synapse 1: 1.3576321601867676\n",
      "weight of synapse 2: 0.12217831611633301\n",
      "weight of synapse 3: 0.8358919620513916\n",
      "weight of synapse 4: 1.6964213848114014\n"
     ]
    }
   ],
   "source": [
    "weights = bm.random.uniform(0, 2, size)\n",
    "\n",
    "for i in range(size):\n",
    "    print('weight of synapse {}: {}'.format(i, weights[i]))"
   ]
  },
  {
   "cell_type": "markdown",
   "id": "08c4f292",
   "metadata": {},
   "source": [
    "#### Conversion from a weight matrix to a weight vector\n",
    "For users who would like to obtain the weight vector from the weight matrix, they can first build a connection according to the non-zero elements in the weight matrix and then slice the weight matrix according to the connection:"
   ]
  },
  {
   "cell_type": "code",
   "execution_count": 39,
   "id": "7cbaa654",
   "metadata": {},
   "outputs": [
    {
     "name": "stdout",
     "output_type": "stream",
     "text": [
      "weight matrix: \n",
      "[[1.  1.5 0.  0.5]\n",
      " [0.  2.5 0.  0. ]\n",
      " [2.  0.  3.  0. ]]\n",
      "weight_vector: \n",
      "[1.  1.5 0.5 2.5 2.  3. ]\n"
     ]
    }
   ],
   "source": [
    "weight_mat = np.array([[1., 1.5, 0., 0.5], [0., 2.5, 0., 0.], [2., 0., 3, 0.]])\n",
    "print('weight matrix: \\n{}'.format(weight_mat))\n",
    "\n",
    "conn = bp.conn.MatConn(weight_mat)\n",
    "pre_ids, post_ids = conn.requires('pre_ids', 'post_ids')\n",
    "\n",
    "weight_vec = weight_mat[pre_ids, post_ids]\n",
    "print('weight_vector: \\n{}'.format(weight_vec))"
   ]
  },
  {
   "cell_type": "markdown",
   "id": "6a19ba6d",
   "metadata": {},
   "source": [
    "```{note}\n",
    "However, it is not recommended to use this function when the connection is sparse and of a large scale, because generating the weight matrix will take up too much space.\n",
    "```"
   ]
  },
  {
   "cell_type": "markdown",
   "id": "5b3f2206",
   "metadata": {},
   "source": [
    "## Creating Dynamic Weights\n",
    "\n",
    "Sometimes users may want to realize neural plasticity in a brain model, which requires the synaptic weights to change during simulation. In this condition, weights should be considered as **variables**, thus defined as `brainpy.math.Variable`. If it is packed in a synapse model, weight updating should be realized in the `update(_t, _dt)` function of the synapse model."
   ]
  },
  {
   "cell_type": "code",
   "execution_count": 40,
   "id": "24ef9880",
   "metadata": {},
   "outputs": [
    {
     "data": {
      "text/plain": [
       "Variable(DeviceArray([1., 1., 1., 1., 1., 1., 1., 1., 1., 1.], dtype=float32))"
      ]
     },
     "execution_count": 40,
     "metadata": {},
     "output_type": "execute_result"
    }
   ],
   "source": [
    "weights = bm.Variable(bm.ones(10))\n",
    "weights"
   ]
  },
  {
   "cell_type": "code",
   "execution_count": null,
   "id": "35f32612",
   "metadata": {},
   "outputs": [],
   "source": []
  }
 ],
 "metadata": {
  "kernelspec": {
   "display_name": "Python 3",
   "language": "python",
   "name": "python3"
  },
  "language_info": {
   "codemirror_mode": {
    "name": "ipython",
    "version": 3
   },
   "file_extension": ".py",
   "mimetype": "text/x-python",
   "name": "python",
   "nbconvert_exporter": "python",
   "pygments_lexer": "ipython3",
   "version": "3.8.8"
  }
 },
 "nbformat": 4,
 "nbformat_minor": 5
}