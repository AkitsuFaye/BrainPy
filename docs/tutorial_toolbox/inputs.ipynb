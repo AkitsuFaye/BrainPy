{
 "cells": [
  {
   "cell_type": "markdown",
   "id": "9f5ef59c",
   "metadata": {},
   "source": [
    "# Inputs"
   ]
  },
  {
   "cell_type": "markdown",
   "id": "95e252ca",
   "metadata": {},
   "source": [
    "@[Chaoming Wang](https://github.com/chaoming0625)\n",
    "@[Xiaoyu Chen](mailto:c-xy17@tsinghua.org.cn)"
   ]
  },
  {
   "cell_type": "markdown",
   "id": "f9c7d3ca",
   "metadata": {},
   "source": [
    "In brain dynamics simulation, various inpus are usually given to different units of the dynamical system. In BrainPy, `inputs` can be specified to [runners for dynamical systems](runners.ipynb). The aim of ``inputs`` is to mimic the input operations in experiments like Transcranial Magnetic Stimulation (TMS) and patch clamp recording.\n",
    "\n",
    "``inputs`` should have the format like ``(target, value, [type, operation])``, where \n",
    "- ``target`` is the target variable to inject the input.\n",
    "- ``value`` is the input value. It can be a scalar, a tensor, or a iterable object/function.\n",
    "- ``type`` is the type of the input value. It support two types of input: ``fix`` and ``iter``. The first one means that the data is static; the second one denotes the data can be iterable, no matter whether the input value is a tensor or a function. The `iter` type must be explicitly stated. \n",
    "- ``operation`` is the input operation on the target variable. It should be set as one of `{ + , - , * , / , = }`, and if users do not provide this item explicitly, it will be set to '+' by default, which means that the target variable will be updated as ``val = val + input``. "
   ]
  },
  {
   "cell_type": "markdown",
   "id": "3451b77b",
   "metadata": {},
   "source": [
    "Users can also give multiple inputs for different target variables, like:\n",
    "\n",
    "```python\n",
    "\n",
    "inputs=[(target1, value1, [type1, op1]),  \n",
    "        (target2, value2, [type2, op2]),\n",
    "              ... ]\n",
    "```"
   ]
  },
  {
   "cell_type": "markdown",
   "id": "e377d41a",
   "metadata": {},
   "source": [
    "The mechanism of ``inputs`` is the same as [``monitors``](monitors.ipynb). BrainPy finds the target variables for input operations through [the absolute or relative path](../tutorial_math/base.ipynb). "
   ]
  },
  {
   "cell_type": "markdown",
   "id": "844fcb78",
   "metadata": {},
   "source": [
    "## Input construction functions "
   ]
  },
  {
   "cell_type": "markdown",
   "id": "a4ff6914",
   "metadata": {},
   "source": [
    "Like electrophysiological experiments, model simulation also needs various kind of inputs. BrainPy provide several convenient input functions to help users construct input currents. "
   ]
  },
  {
   "cell_type": "markdown",
   "id": "64f9a99c",
   "metadata": {},
   "source": [
    "### 1\\. ``brainpy.inputs.section_input()``\n",
    "\n",
    "[brainpy.inputs.section_input()](../apis/simulation/generated/brainpy.simulation.inputs.section_input.rst) is an updated function of previous `brainpy.inputs.constant_input()` (see below). \n",
    "\n",
    "Sometimes, we need input currents with different values in different periods. For example, if you want to get an input that is 0 in the first 100 ms, 1 in the next 300 ms, and 0 again from the last 100 ms, you can define:"
   ]
  },
  {
   "cell_type": "code",
   "execution_count": 29,
   "id": "078fbd0d",
   "metadata": {},
   "outputs": [],
   "source": [
    "current1, duration = bp.inputs.section_input(values=[0, 1., 0.],\n",
    "                                             durations=[100, 300, 100],\n",
    "                                             return_length=True,\n",
    "                                             dt=0.1)"
   ]
  },
  {
   "cell_type": "markdown",
   "id": "579e8b2d",
   "metadata": {},
   "source": [
    "Where `values` receive a list/arrray of the current values in each section and `durations` receives a list/array of the duration of each section. The function returns a tensor as the current, the length of which is `duration`$/\\mathrm{d}t$ (if not specified, $\\mathrm{d}t=0.1 \\mathrm{ms}$). We can visualize the current input by:"
   ]
  },
  {
   "cell_type": "code",
   "execution_count": 30,
   "id": "54aec8c9",
   "metadata": {},
   "outputs": [],
   "source": [
    "import numpy as np\n",
    "import matplotlib.pyplot as plt\n",
    "\n",
    "def show(current, duration, title):\n",
    "    ts = np.arange(0, duration, 0.1)\n",
    "    plt.plot(ts, current)\n",
    "    plt.title(title)\n",
    "    plt.xlabel('Time [ms]')\n",
    "    plt.ylabel('Current Value')\n",
    "    plt.show()"
   ]
  },
  {
   "cell_type": "code",
   "execution_count": 31,
   "id": "1a18a549",
   "metadata": {},
   "outputs": [
    {
     "data": {
      "image/png": "[encoded data removed]",
      "text/plain": [
       "<Figure size 432x288 with 1 Axes>"
      ]
     },
     "metadata": {
      "needs_background": "light"
     },
     "output_type": "display_data"
    }
   ],
   "source": [
    "show(current1, duration, 'values=[0, 1, 0], durations=[100, 300, 100]')"
   ]
  },
  {
   "cell_type": "markdown",
   "id": "6b1eee02",
   "metadata": {},
   "source": [
    "### 2\\. ``brainpy.inputs.constant_input()``"
   ]
  },
  {
   "cell_type": "markdown",
   "id": "26708359",
   "metadata": {},
   "source": [
    "[brainpy.inputs.constant_input()](../apis/simulation/generated/brainpy.simulation.inputs.constant_input.rst) function helps users to format constant currents in several periods.\n",
    "\n",
    "We can generate the above input current with `constant_input()` by:"
   ]
  },
  {
   "cell_type": "code",
   "execution_count": 32,
   "id": "8ea6dea6",
   "metadata": {},
   "outputs": [],
   "source": [
    "current2, duration = bp.inputs.constant_input([(0, 100), (1, 300), (0, 100)])"
   ]
  },
  {
   "cell_type": "markdown",
   "id": "6cc74d90",
   "metadata": {},
   "source": [
    "Where each tuple in the list contains the value and duration of the input in this section."
   ]
  },
  {
   "cell_type": "code",
   "execution_count": 33,
   "id": "e862ebad",
   "metadata": {},
   "outputs": [
    {
     "data": {
      "image/png": "[encoded data removed]",
      "text/plain": [
       "<Figure size 432x288 with 1 Axes>"
      ]
     },
     "metadata": {
      "needs_background": "light"
     },
     "output_type": "display_data"
    }
   ],
   "source": [
    "show(current2, duration, '[(0, 100), (1, 300), (0, 100)]')"
   ]
  },
  {
   "cell_type": "markdown",
   "id": "067aae19",
   "metadata": {},
   "source": [
    "### 3\\. ``brainpy.inputs.spike_input()``"
   ]
  },
  {
   "cell_type": "markdown",
   "id": "e6ea2868",
   "metadata": {},
   "source": [
    "[brainpy.inputs.spike_input()](../apis/simulation/generated/brainpy.simulation.inputs.spike_input.rst) constructs an input containing a series of short-time spikes. It receives the following settings:\n",
    "\n",
    "- `sp_times` :  The spike time-points. Must be an iterable object. For example, list, tuple, or arrays.\n",
    "- `sp_lens` : The length of each point-current, mimicking the spike durations. It can be a scalar float to specify the unified duration. Or, it can be list/tuple/array of time lengths with the length same with `sp_times`. \n",
    "- `sp_sizes` : The current sizes. It can be a scalar value. Or, it can be a list/tuple/array of spike current sizes with the length same with `sp_times`.\n",
    "- `duration` : The total current duration.\n",
    "- `dt` : The time step precision. The default is None (will be initialized as the default `dt` step). "
   ]
  },
  {
   "cell_type": "markdown",
   "id": "146ebc19",
   "metadata": {},
   "source": [
    "For example, if you want to generate a spike train at 10 ms, 20 ms, 30 ms, 200 ms, 300 ms, where each spike lasts 1 ms and the average value for each spike is 0.5, then you can define the current by:"
   ]
  },
  {
   "cell_type": "code",
   "execution_count": 34,
   "id": "1eb035a2",
   "metadata": {},
   "outputs": [
    {
     "data": {
      "image/png": "[encoded data removed]",
      "text/plain": [
       "<Figure size 432x288 with 1 Axes>"
      ]
     },
     "metadata": {
      "needs_background": "light"
     },
     "output_type": "display_data"
    }
   ],
   "source": [
    "current3 = bp.inputs.spike_input(\n",
    "    sp_times=[10, 20, 30, 200, 300],\n",
    "    sp_lens=1.,  # can be a list to specify the spike length at each point\n",
    "    sp_sizes=0.5,  # can be a list to specify the spike current size at each point\n",
    "    duration=400.)\n",
    "\n",
    "show(current3, 400, 'Spike Input Example')"
   ]
  },
  {
   "cell_type": "markdown",
   "id": "68262531",
   "metadata": {},
   "source": [
    "### 4\\. ``brainpy.inputs.ramp_input()``"
   ]
  },
  {
   "cell_type": "markdown",
   "id": "ce29ec3c",
   "metadata": {},
   "source": [
    "[brainpy.inputs.ramp_input()](../apis/simulation/generated/brainpy.simulation.inputs.ramp_input.rst) mimics a ramp or a step current to the input of the circuit. It receives the following settings:\n",
    "\n",
    "- `c_start` : The minimum (or maximum) current size.\n",
    "- `c_end` : The maximum (or minimum) current size.\n",
    "- `duration` : The total duration.\n",
    "- `t_start` : The ramped current start time-point.\n",
    "- `t_end` : The ramped current end time-point. Default is the None.\n",
    "- `dt` : The current precision.\n",
    "\n",
    "We illustrate the usage of `brainpy.inputs.ramp_input()` by two examples."
   ]
  },
  {
   "cell_type": "markdown",
   "id": "7435a038",
   "metadata": {},
   "source": [
    "In the first example, we increase the current size from 0. to 1. between the start time (0 ms) and the end time (500 ms). "
   ]
  },
  {
   "cell_type": "code",
   "execution_count": 35,
   "id": "a667a133",
   "metadata": {},
   "outputs": [
    {
     "data": {
      "image/png": "[encoded data removed]",
      "text/plain": [
       "<Figure size 432x288 with 1 Axes>"
      ]
     },
     "metadata": {
      "needs_background": "light"
     },
     "output_type": "display_data"
    }
   ],
   "source": [
    "duration = 500\n",
    "current4 = bp.inputs.ramp_input(0, 1, duration)\n",
    "\n",
    "show(current4, duration, r'$c_{start}$=0, $c_{end}$=%d, duration, '\n",
    "                        r'$t_{start}$=0, $t_{end}$=None' % (duration))"
   ]
  },
  {
   "cell_type": "markdown",
   "id": "7f765623",
   "metadata": {},
   "source": [
    "In the second example, we increase the current size from 0. to 1. from the 100 ms to 400 ms."
   ]
  },
  {
   "cell_type": "code",
   "execution_count": 36,
   "id": "d0caf6ea",
   "metadata": {},
   "outputs": [
    {
     "data": {
      "image/png": "[encoded data removed]",
      "text/plain": [
       "<Figure size 432x288 with 1 Axes>"
      ]
     },
     "metadata": {
      "needs_background": "light"
     },
     "output_type": "display_data"
    }
   ],
   "source": [
    "duration, t_start, t_end = 500, 100, 400\n",
    "current5 = bp.inputs.ramp_input(0, 1, duration, t_start, t_end)\n",
    "\n",
    "show(current5, duration, r'$c_{start}$=0, $c_{end}$=1, duration=%d, '\n",
    "                        r'$t_{start}$=%d, $t_{end}$=%d' % (duration, t_start, t_end))"
   ]
  },
  {
   "cell_type": "markdown",
   "id": "5ec7e24c",
   "metadata": {},
   "source": [
    "Because the current input is stored as a tensor, a complex input can be realized by the combination of several simple currents."
   ]
  },
  {
   "cell_type": "code",
   "execution_count": 39,
   "id": "64ac8ffa",
   "metadata": {},
   "outputs": [
    {
     "data": {
      "image/png": "[encoded data removed]",
      "text/plain": [
       "<Figure size 432x288 with 1 Axes>"
      ]
     },
     "metadata": {
      "needs_background": "light"
     },
     "output_type": "display_data"
    }
   ],
   "source": [
    "show(current1 + current5, 500, 'A Complex Current Input')"
   ]
  },
  {
   "cell_type": "markdown",
   "id": "307b4eb1",
   "metadata": {},
   "source": [
    "## General properties of input functions"
   ]
  },
  {
   "cell_type": "markdown",
   "id": "4601f294",
   "metadata": {},
   "source": [
    "**1\\. Every input function receives a ``dt`` specification.**\n",
    "\n",
    "If ``dt`` is not provided, input functions will use the default ``dt`` in the whole BrainPy system. "
   ]
  },
  {
   "cell_type": "code",
   "execution_count": 44,
   "id": "bf9084a9",
   "metadata": {},
   "outputs": [
    {
     "name": "stdout",
     "output_type": "stream",
     "text": [
      "I1.shape: (600,)\n",
      "I2.shape: (6000,)\n"
     ]
    }
   ],
   "source": [
    "I1 = bp.inputs.section_input(values=[0, 1, 2], durations=[10, 20, 30], dt=0.1)\n",
    "I2 = bp.inputs.section_input(values=[0, 1, 2], durations=[10, 20, 30], dt=0.01)\n",
    "print('I1.shape: {}'.format(I1.shape))\n",
    "print('I2.shape: {}'.format(I2.shape))"
   ]
  },
  {
   "cell_type": "markdown",
   "id": "3b0ac63a",
   "metadata": {},
   "source": [
    "**2\\. All input functions can automatically broadcast the current shapes if they are heterogenous among different periods.**\n",
    "\n",
    "For example, during period 1 we give an input with a scalar value, during period 2 we give an input with a vector shape, and during period 3 we give a matrix input value. Input functions will broadcast them to the maximum shape. For example:"
   ]
  },
  {
   "cell_type": "code",
   "execution_count": 43,
   "id": "fa0679d0",
   "metadata": {},
   "outputs": [
    {
     "data": {
      "text/plain": [
       "(5000, 3, 10)"
      ]
     },
     "execution_count": 43,
     "metadata": {},
     "output_type": "execute_result"
    }
   ],
   "source": [
    "current = bp.inputs.section_input(values=[0, bm.ones(10), bm.random.random((3, 10))],\n",
    "                                  durations=[100, 300, 100])\n",
    "\n",
    "current.shape"
   ]
  },
  {
   "cell_type": "code",
   "execution_count": null,
   "id": "26d3e6e1",
   "metadata": {},
   "outputs": [],
   "source": []
  }
 ],
 "metadata": {
  "kernelspec": {
   "display_name": "Python 3",
   "language": "python",
   "name": "python3"
  },
  "language_info": {
   "codemirror_mode": {
    "name": "ipython",
    "version": 3
   },
   "file_extension": ".py",
   "mimetype": "text/x-python",
   "name": "python",
   "nbconvert_exporter": "python",
   "pygments_lexer": "ipython3",
   "version": "3.8.8"
  },
  "latex_envs": {
   "LaTeX_envs_menu_present": true,
   "autoclose": false,
   "autocomplete": true,
   "bibliofile": "biblio.bib",
   "cite_by": "apalike",
   "current_citInitial": 1,
   "eqLabelWithNumbers": true,
   "eqNumInitial": 1,
   "hotkeys": {
    "equation": "Ctrl-E",
    "itemize": "Ctrl-I"
   },
   "labels_anchors": false,
   "latex_user_defs": false,
   "report_style_numbering": false,
   "user_envs_cfg": false
  },
  "toc": {
   "base_numbering": 1,
   "nav_menu": {},
   "number_sections": true,
   "sideBar": true,
   "skip_h1_title": false,
   "title_cell": "Table of Contents",
   "title_sidebar": "Contents",
   "toc_cell": false,
   "toc_position": {},
   "toc_section_display": true,
   "toc_window_display": true
  }
 },
 "nbformat": 4,
 "nbformat_minor": 5
}
