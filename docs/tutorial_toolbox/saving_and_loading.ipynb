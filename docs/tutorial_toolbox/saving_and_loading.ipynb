{
 "cells": [
  {
   "cell_type": "markdown",
   "id": "fe5662bb",
   "metadata": {
    "pycharm": {
     "name": "#%% md\n"
    }
   },
   "source": [
    "# Saving and Loading"
   ]
  },
  {
   "cell_type": "markdown",
   "id": "56ea6a94",
   "metadata": {
    "pycharm": {
     "name": "#%% md\n"
    }
   },
   "source": [
    "@[Chaoming Wang](https://github.com/chaoming0625)\n",
    "@[Sichao He](https://github.com/routhleck)"
   ]
  },
  {
   "cell_type": "markdown",
   "id": "7ba75189",
   "metadata": {
    "pycharm": {
     "name": "#%% md\n"
    }
   },
   "source": [
    "Being able to save and load the variables of a model is essential in brain dynamics programming. In this tutorial we describe how to save/load the variables in a  model. "
   ]
  },
  {
   "cell_type": "code",
   "execution_count": 1,
   "id": "eff1932c",
   "metadata": {
    "pycharm": {
     "name": "#%%\n"
    }
   },
   "outputs": [],
   "source": [
    "import brainpy as bp\n",
    "import brainpy.math as bm\n",
    "\n",
    "bp.math.set_platform('cpu')"
   ]
  },
  {
   "cell_type": "markdown",
   "id": "4ef65b38",
   "metadata": {
    "pycharm": {
     "name": "#%% md\n"
    }
   },
   "source": [
    "## Saving and loading variables"
   ]
  },
  {
   "cell_type": "markdown",
   "id": "d8512796",
   "metadata": {
    "pycharm": {
     "name": "#%% md\n"
    }
   },
   "source": [
    "Model saving and loading in BrainPy are implemented with ``bp.checkpoints.save_pytree`` and ``bp.checkpoints.load_pytree`` functions. \n",
    "And using `.state_dict()` and ``load_state_dict()`` functions to save and load the state of a model."
   ]
  },
  {
   "cell_type": "markdown",
   "id": "01b7ac95",
   "metadata": {
    "pycharm": {
     "name": "#%% md\n"
    }
   },
   "source": [
    "Here’s a simple example:"
   ]
  },
  {
   "cell_type": "code",
   "execution_count": 2,
   "id": "bc2cab20",
   "metadata": {
    "pycharm": {
     "name": "#%%\n"
    }
   },
   "outputs": [],
   "source": [
    "class SNN(bp.DynamicalSystem):\n",
    "  def __init__(self, tau):\n",
    "    super().__init__()\n",
    "    self.l1 = bp.dnn.Dense(28 * 28, 10, b_initializer=None)\n",
    "    self.l2 = bp.dyn.Lif(10, V_rest=0., V_reset=0., V_th=1., tau=2.0, spk_fun=bm.surrogate.arctan)\n",
    "\n",
    "  def update(self, x):\n",
    "    return x >> self.l1 >> self.l2\n",
    "\n",
    "\n",
    "net = SNN(2.0)"
   ]
  },
  {
   "cell_type": "code",
   "execution_count": 3,
   "id": "edbfcc58",
   "metadata": {
    "pycharm": {
     "name": "#%%\n"
    }
   },
   "outputs": [],
   "source": [
    "# model saving\n",
    "for epoch_i in range(15):\n",
    "  \"\"\"\n",
    "  training process...\n",
    "  \"\"\"\n",
    "  if max_test_acc < test_acc:\n",
    "    max_test_acc = test_acc\n",
    "    states = {\n",
    "      'net': net.state_dict(), # save the state dict of the network in the checkpoint\n",
    "      'optimizer': optimizer.state_dict(),\n",
    "      'epoch_i': epoch_i,\n",
    "      'train_acc': train_acc,\n",
    "      'test_acc': test_acc,\n",
    "    }\n",
    "    bp.checkpoints.save_pytree(os.path.join(out_dir, 'mnist-lif.bp'), states) # save the checkpoint"
   ]
  },
  {
   "cell_type": "code",
   "execution_count": 4,
   "id": "621ac319",
   "metadata": {
    "code_folding": [],
    "pycharm": {
     "name": "#%%\n"
    }
   },
   "outputs": [],
   "source": [
    "# model loading\n",
    "\n",
    "state_dict = bp.checkpoints.load_pytree(os.path.join(out_dir, 'mnist-lif.bp')) # load the state dict\n",
    "net.load_state_dict(state_dict['net']) # unpack the state dict and load it into the network"
   ]
  },
  {
   "cell_type": "markdown",
   "id": "1aeba1f9",
   "metadata": {
    "pycharm": {
     "name": "#%% md\n"
    }
   },
   "source": [
    "- ``bp.checkpoints.save_pytree(filename: str, target: PyTree, overwrite: bool = True, async_manager: Optional[AsyncManager] = None, verbose: bool = True)`` \n",
    "function requires you to provide a `filename` which is the path where checkpoint files will be stored. \n",
    "You also need to supply a `target`, which is a state dict object. \n",
    "An optional `overwrite` argument allows you to decide whether to overwrite existing checkpoint files \n",
    "if a checkpoint for the current step or a later one already exists. \n",
    "If you provide an `async_manager`, the save operation will be non-blocking on the main thread, \n",
    "but note that this is only suitable for a single host. However, any ongoing save will still prevent \n",
    "new saves to ensure overwrite logic remains correct. \n",
    "Finally, you can set the `verbose` argument to specify if you want to receive printed information about the operation.\n",
    "\n",
    "- ``bp.checkpoints.load_pytree(filename: str, parallel: bool = True)`` \n",
    "function allows you to restore data from a given checkpoint file \n",
    "or a directory containing multiple checkpoints, which you specify with the `filename` argument. \n",
    "If you set the `parallel` argument to true, \n",
    "the function will attempt to load seekable checkpoints simultaneously for quicker results. \n",
    "When executed, the function returns the restored target from the checkpoint file. \n",
    "If no step is specified and there are no checkpoint files available, \n",
    "the function simply returns the input `target` without changes. \n",
    "If you specify a file path that doesn't exist, \n",
    "the function will also return the original `target`. \n",
    "This behavior mirrors the scenario where a directory path is given, \n",
    "but the directory hasn't been created yet.\n",
    "\n",
    "- ``.state_dict()`` \n",
    "function retrieves the entire state of the module and returns it as a dictionary. \n",
    "\n",
    "- ``.load_state_dict(self, state_dict: Dict[str, Any], warn: bool = True, compatible: str = 'v2')``\n",
    "function is used to import parameters and buffers from a provided `state_dict` \n",
    "into the current module and all its child modules. \n",
    "You need to provide the function with a `state_dict`, \n",
    "which is a dictionary containing the desired parameters and persistent buffers to be loaded. \n",
    "Optionally, you can also provide a `warn` parameter (defaulting to True) \n",
    "that will generate warnings if there are keys in the provided `state_dict` \n",
    "that either don't match the current module's structure (unexpected keys) \n",
    "or are missing from the `state_dict` but exist in the module (missing keys).\n",
    "When executed, the function returns a `StateLoadResult`, a named tuple with two fields:\n",
    "    - **missing_keys**: A list of keys that are present in the module but missing in the provided `state_dict`.\n",
    "    - **unexpected_keys**: A list of keys found in the `state_dict` that don't correspond to any part of the current module."
   ]
  },
  {
   "cell_type": "markdown",
   "id": "a34074f2",
   "metadata": {
    "pycharm": {
     "name": "#%% md\n"
    }
   },
   "source": [
    "```{note}\n",
    "By default, the model variables are retrived by the relative path. Relative path retrival usually results in duplicate variables in the returned ArrayCollector. Therefore, there will always be missing keys when loading the variables. \n",
    "```"
   ]
  },
  {
   "cell_type": "markdown",
   "id": "422be59e",
   "metadata": {
    "pycharm": {
     "name": "#%% md\n"
    }
   },
   "source": [
    "## Custom saving and loading"
   ]
  },
  {
   "cell_type": "markdown",
   "id": "8aef7f2d",
   "metadata": {
    "pycharm": {
     "name": "#%% md\n"
    }
   },
   "source": [
    "You can make your own saving and loading functions easily. Beacause all variables in the model can be easily collected through ``.vars()``.\n",
    "\n",
    "For customizing the saving and loading, users can overwrite ``__save_state__`` and ``__load_state__`` functions\n",
    "\n",
    "Here are two examples to customizing the saving and loading:\n",
    "```python\n",
    "class YourClass(bp.BrainPyObject):\n",
    "   def __save_state__(self):\n",
    "     ...\n",
    "```\n",
    "\n",
    "For customizing the loading, users can use:\n",
    "\n",
    "```python\n",
    "class YourClass(bp.BrainPyObject):\n",
    "   def __load_state__(self, state_dict):\n",
    "     ...\n",
    "```\n",
    "\n",
    "- ``__save_state__(self)`` function saves the state of the object's variables and returns a dictionary where the keys are the names of the variables and the values are the variables' contents.\n",
    "\n",
    "- ``__load_state__(self, state_dict: Dict)`` function loads the state of the object's variables from a provided dictionary (``state_dict``). \n",
    "At firstly it gets the current variables of the object.\n",
    "Then, it determines the intersection of keys from the provided state_dict and the object's variables.\n",
    "For each intersecting key, it updates the value of the object's variable with the value from state_dict.\n",
    "Finally, returns A tuple containing two lists:\n",
    "  - ``unexpected_keys``: Keys in state_dict that were not found in the object's variables.\n",
    "  - ``missing_keys``: Keys that are in the object's variables but were not found in state_dict."
   ]
  }
 ],
 "metadata": {
  "kernelspec": {
   "display_name": "brainpy",
   "language": "python",
   "name": "python3"
  },
  "language_info": {
   "codemirror_mode": {
    "name": "ipython",
    "version": 3
   },
   "file_extension": ".py",
   "mimetype": "text/x-python",
   "name": "python",
   "nbconvert_exporter": "python",
   "pygments_lexer": "ipython3",
   "version": "3.10.11"
  },
  "latex_envs": {
   "LaTeX_envs_menu_present": true,
   "autoclose": false,
   "autocomplete": true,
   "bibliofile": "biblio.bib",
   "cite_by": "apalike",
   "current_citInitial": 1,
   "eqLabelWithNumbers": true,
   "eqNumInitial": 1,
   "hotkeys": {
    "equation": "Ctrl-E",
    "itemize": "Ctrl-I"
   },
   "labels_anchors": false,
   "latex_user_defs": false,
   "report_style_numbering": false,
   "user_envs_cfg": false
  },
  "toc": {
   "base_numbering": 1,
   "nav_menu": {},
   "number_sections": true,
   "sideBar": true,
   "skip_h1_title": false,
   "title_cell": "Table of Contents",
   "title_sidebar": "Contents",
   "toc_cell": false,
   "toc_position": {},
   "toc_section_display": true,
   "toc_window_display": false
  }
 },
 "nbformat": 4,
 "nbformat_minor": 5
}
