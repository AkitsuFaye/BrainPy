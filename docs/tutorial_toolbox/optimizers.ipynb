{
 "cells": [
  {
   "cell_type": "markdown",
   "id": "e42071e4",
   "metadata": {},
   "source": [
    "# Gradient Descent Optimizers"
   ]
  },
  {
   "cell_type": "markdown",
   "id": "355bb9b6",
   "metadata": {},
   "source": [
    "@[Chaoming Wang](https://github.com/chaoming0625)\n",
    "@[Xiaoyu Chen](mailto:c-xy17@tsinghua.org.cn)"
   ]
  },
  {
   "cell_type": "markdown",
   "id": "95b9589c",
   "metadata": {},
   "source": [
    "Gradient descent is one of the most popular optimization methods. At present, gradient descent optimizers, combined with the loss function, are the key to machine learning, especially deep learning. In this section, we are going to understand:\n",
    "\n",
    "- how to use optimizers in BrainPy?\n",
    "- how to customize your own optimizer?"
   ]
  },
  {
   "cell_type": "code",
   "execution_count": 1,
   "id": "a9813ba0",
   "metadata": {},
   "outputs": [],
   "source": [
    "import brainpy as bp\n",
    "import brainpy.math as bm\n",
    "\n",
    "bp.math.set_platform('cpu')"
   ]
  },
  {
   "cell_type": "code",
   "execution_count": 2,
   "id": "92b9cd6d",
   "metadata": {},
   "outputs": [],
   "source": [
    "import matplotlib.pyplot as plt"
   ]
  },
  {
   "cell_type": "markdown",
   "id": "e62bdc0d",
   "metadata": {},
   "source": [
    "## Optimizers in BrainPy"
   ]
  },
  {
   "cell_type": "markdown",
   "id": "d00a3c84",
   "metadata": {},
   "source": [
    "The basic optimizer class in BrainPy is `brainpy.math.optimizers.Optimizer`, which inludes the following optimizers:\n",
    "\n",
    "- SGD\n",
    "- Momentum\n",
    "- Nesterov momentum\n",
    "- Adagrad\n",
    "- Adadelta\n",
    "- RMSProp\n",
    "- Adam\n",
    "\n",
    "All supported optimizers can be inspected through the [brainpy.math.optimizers APIs](../apis/auto/math/optimizers.rst). "
   ]
  },
  {
   "cell_type": "markdown",
   "id": "05adb1c4",
   "metadata": {},
   "source": [
    "Generally, an optimizer initialization receives the learning rate ``lr``, the trainable variables ``train_vars``, and other hyperparameters for the specific optimizer.  \n",
    "\n",
    "- ``lr`` can be a float, or an instance of ``bm.optimizers.Scheduler``. \n",
    "- ``train_vars`` should be a dict of JaxArray. "
   ]
  },
  {
   "cell_type": "markdown",
   "id": "180c2314",
   "metadata": {},
   "source": [
    "Here we launch a SGD optimizer."
   ]
  },
  {
   "cell_type": "code",
   "execution_count": 4,
   "id": "2d716811",
   "metadata": {},
   "outputs": [],
   "source": [
    "a = bm.ones((5, 4))\n",
    "b = bm.zeros((3, 3))\n",
    "\n",
    "op = bm.optimizers.SGD(lr=0.001, train_vars={'a': a, 'b': b})"
   ]
  },
  {
   "cell_type": "markdown",
   "id": "e9c3cb0d",
   "metadata": {},
   "source": [
    "When you try to update the parameters, you must provide the corresponding gradients for each parameter in the ``update()`` method. "
   ]
  },
  {
   "cell_type": "code",
   "execution_count": 5,
   "id": "0d4449f3",
   "metadata": {},
   "outputs": [
    {
     "name": "stdout",
     "output_type": "stream",
     "text": [
      "a: JaxArray(DeviceArray([[0.9997439 , 0.9991836 , 0.9999782 , 0.9990992 ],\n",
      "                      [0.999076  , 0.9997612 , 0.99925077, 0.99903256],\n",
      "                      [0.9996492 , 0.9998097 , 0.99977213, 0.99905187],\n",
      "                      [0.99963087, 0.99951845, 0.99903643, 0.99996334],\n",
      "                      [0.99986696, 0.99989676, 0.99937785, 0.99970794]],            dtype=float32))\n",
      "b: JaxArray(DeviceArray([[-7.7561024e-05, -4.1913200e-04, -6.5632869e-04],\n",
      "                      [-3.4492972e-05, -5.1765458e-04, -9.3037548e-04],\n",
      "                      [-9.2792397e-05, -3.1649830e-05, -5.2235392e-04]],            dtype=float32))\n"
     ]
    }
   ],
   "source": [
    "op.update({'a': bm.random.random(a.shape), 'b': bm.random.random(b.shape)})\n",
    "\n",
    "print('a:', a)\n",
    "print('b:', b)"
   ]
  },
  {
   "cell_type": "markdown",
   "id": "f25554d5",
   "metadata": {},
   "source": [
    "You can process the gradients before applying them. For example, we clip the graidents by the maximum L2-norm. "
   ]
  },
  {
   "cell_type": "code",
   "execution_count": 6,
   "id": "aad2ffcc",
   "metadata": {},
   "outputs": [
    {
     "data": {
      "text/plain": [
       "{'a': JaxArray(DeviceArray([[0.62677693, 0.56814206, 0.12360227, 0.257097  ],\n",
       "                       [0.8980639 , 0.33391   , 0.1802653 , 0.26349783],\n",
       "                       [0.9989817 , 0.25854266, 0.8259059 , 0.71850395],\n",
       "                       [0.6676611 , 0.5614054 , 0.7707871 , 0.16712415],\n",
       "                       [0.21876848, 0.8567476 , 0.7716671 , 0.7988616 ]],            dtype=float32)),\n",
       " 'b': JaxArray(DeviceArray([[0.4645934 , 0.2903055 , 0.08017159],\n",
       "                       [0.6825682 , 0.0905968 , 0.8062532 ],\n",
       "                       [0.32745683, 0.7631104 , 0.03143311]], dtype=float32))}"
      ]
     },
     "execution_count": 6,
     "metadata": {},
     "output_type": "execute_result"
    }
   ],
   "source": [
    "grads_pre = {'a': bm.random.random(a.shape), 'b': bm.random.random(b.shape)}\n",
    "\n",
    "grads_pre"
   ]
  },
  {
   "cell_type": "code",
   "execution_count": 7,
   "id": "6f593769",
   "metadata": {},
   "outputs": [
    {
     "data": {
      "text/plain": [
       "{'a': JaxArray(DeviceArray([[0.2291931 , 0.20775212, 0.04519756, 0.09401249],\n",
       "                       [0.3283944 , 0.12210064, 0.06591749, 0.09635308],\n",
       "                       [0.36529696, 0.09454112, 0.30200845, 0.26273486],\n",
       "                       [0.24414317, 0.20528874, 0.2818532 , 0.06111218],\n",
       "                       [0.07999692, 0.31328633, 0.282175  , 0.2921192 ]],            dtype=float32)),\n",
       " 'b': JaxArray(DeviceArray([[0.31898955, 0.19932356, 0.05504576],\n",
       "                       [0.46865088, 0.0622037 , 0.55357295],\n",
       "                       [0.22483166, 0.5239511 , 0.02158195]], dtype=float32))}"
      ]
     },
     "execution_count": 7,
     "metadata": {},
     "output_type": "execute_result"
    }
   ],
   "source": [
    "grads_post = bm.clip_by_norm(grads_pre, 1.)\n",
    "\n",
    "grads_post"
   ]
  },
  {
   "cell_type": "code",
   "execution_count": 8,
   "id": "dba80baf",
   "metadata": {},
   "outputs": [
    {
     "name": "stdout",
     "output_type": "stream",
     "text": [
      "a: JaxArray(DeviceArray([[0.9995147 , 0.9989758 , 0.999933  , 0.9990052 ],\n",
      "                      [0.9987476 , 0.9996391 , 0.99918485, 0.9989362 ],\n",
      "                      [0.9992839 , 0.99971515, 0.9994701 , 0.99878913],\n",
      "                      [0.9993867 , 0.9993132 , 0.99875456, 0.99990225],\n",
      "                      [0.999787  , 0.9995835 , 0.9990957 , 0.9994158 ]],            dtype=float32))\n",
      "b: JaxArray(DeviceArray([[-0.00039655, -0.00061846, -0.00071137],\n",
      "                      [-0.00050314, -0.00057986, -0.00148395],\n",
      "                      [-0.00031762, -0.0005556 , -0.00054394]], dtype=float32))\n"
     ]
    }
   ],
   "source": [
    "op.update(grads_post)\n",
    "\n",
    "print('a:', a)\n",
    "print('b:', b)"
   ]
  },
  {
   "cell_type": "markdown",
   "id": "05d98a0f",
   "metadata": {},
   "source": [
    "```{note}\n",
    "Optimizer usually has their own dynamically changed variables. If you JIT a function whose logic contains optimizer update, your ``dyn_vars`` in ``bm.jit()`` should include variables in ``Optimzier.vars()``.\n",
    "```"
   ]
  },
  {
   "cell_type": "code",
   "execution_count": 9,
   "id": "efc5c686",
   "metadata": {},
   "outputs": [
    {
     "data": {
      "text/plain": [
       "{'Constant0.step': Variable(DeviceArray([2], dtype=int32))}"
      ]
     },
     "execution_count": 9,
     "metadata": {},
     "output_type": "execute_result"
    }
   ],
   "source": [
    "op.vars()  # SGD optimzier only has an iterable `step` variable to record the training step"
   ]
  },
  {
   "cell_type": "code",
   "execution_count": 10,
   "id": "28965804",
   "metadata": {},
   "outputs": [
    {
     "data": {
      "text/plain": [
       "{'Constant1.step': Variable(DeviceArray([0], dtype=int32)),\n",
       " 'Momentum0.a_v': Variable(DeviceArray([[0., 0., 0., 0.],\n",
       "                       [0., 0., 0., 0.],\n",
       "                       [0., 0., 0., 0.],\n",
       "                       [0., 0., 0., 0.],\n",
       "                       [0., 0., 0., 0.]], dtype=float32)),\n",
       " 'Momentum0.b_v': Variable(DeviceArray([[0., 0., 0.],\n",
       "                       [0., 0., 0.],\n",
       "                       [0., 0., 0.]], dtype=float32))}"
      ]
     },
     "execution_count": 10,
     "metadata": {},
     "output_type": "execute_result"
    }
   ],
   "source": [
    "bm.optimizers.Momentum(lr=0.001, train_vars={'a': a, 'b': b}).vars()  # Momentum has velocity variables"
   ]
  },
  {
   "cell_type": "code",
   "execution_count": 11,
   "id": "fb272a40",
   "metadata": {
    "scrolled": true
   },
   "outputs": [
    {
     "data": {
      "text/plain": [
       "{'Constant2.step': Variable(DeviceArray([0], dtype=int32)),\n",
       " 'Adam0.a_m': Variable(DeviceArray([[0., 0., 0., 0.],\n",
       "                       [0., 0., 0., 0.],\n",
       "                       [0., 0., 0., 0.],\n",
       "                       [0., 0., 0., 0.],\n",
       "                       [0., 0., 0., 0.]], dtype=float32)),\n",
       " 'Adam0.b_m': Variable(DeviceArray([[0., 0., 0.],\n",
       "                       [0., 0., 0.],\n",
       "                       [0., 0., 0.]], dtype=float32)),\n",
       " 'Adam0.a_v': Variable(DeviceArray([[0., 0., 0., 0.],\n",
       "                       [0., 0., 0., 0.],\n",
       "                       [0., 0., 0., 0.],\n",
       "                       [0., 0., 0., 0.],\n",
       "                       [0., 0., 0., 0.]], dtype=float32)),\n",
       " 'Adam0.b_v': Variable(DeviceArray([[0., 0., 0.],\n",
       "                       [0., 0., 0.],\n",
       "                       [0., 0., 0.]], dtype=float32))}"
      ]
     },
     "execution_count": 11,
     "metadata": {},
     "output_type": "execute_result"
    }
   ],
   "source": [
    "bm.optimizers.Adam(lr=0.001, train_vars={'a': a, 'b': b}).vars()  # Adam has more variables"
   ]
  },
  {
   "cell_type": "markdown",
   "id": "28a63538",
   "metadata": {},
   "source": [
    "## Creating A Self-Customized Optimizer"
   ]
  },
  {
   "cell_type": "markdown",
   "id": "f9900e42",
   "metadata": {},
   "source": [
    "To create your own optimization algorithm, simply inherit from ``bm.optimizers.Optimizer`` class and override the following methods:\n",
    "\n",
    "- ``__init__()``: init function that receives the learning rate (``lr``) and trainable variables (``train_vars``). Do not forget to register your dynamical changed variables into ``implicit_vars``. \n",
    "- ``update(grads)``: update function that computes the updated parameters. \n",
    "\n",
    "The general structure is shown below:"
   ]
  },
  {
   "cell_type": "code",
   "execution_count": 12,
   "id": "f3c84821",
   "metadata": {},
   "outputs": [],
   "source": [
    "class CustomizeOp(bm.optimizers.Optimizer):\n",
    "    def __init__(self, lr, train_vars, *params, **other_params):\n",
    "        super(CustomizeOp, self).__init__(lr, train_vars)\n",
    "        \n",
    "        # customize your initialization\n",
    "        \n",
    "    def update(self, grads):\n",
    "        # customize your update logic\n",
    "        pass"
   ]
  },
  {
   "cell_type": "markdown",
   "id": "f5b91a31",
   "metadata": {},
   "source": [
    "## Schedulers"
   ]
  },
  {
   "cell_type": "markdown",
   "id": "b2c277e6",
   "metadata": {},
   "source": [
    "Scheduler seeks to adjust the learning rate during training through reducing the learning rate according to a pre-defined schedule.  Common learning rate schedules include time-based decay, step decay and exponential decay. "
   ]
  },
  {
   "cell_type": "markdown",
   "id": "e2c504d7",
   "metadata": {},
   "source": [
    "Here we set up an exponential decay scheduler, in which the learning rate will decay exponentially along the training step."
   ]
  },
  {
   "cell_type": "code",
   "execution_count": 13,
   "id": "75476a94",
   "metadata": {},
   "outputs": [],
   "source": [
    "sc = bm.optimizers.ExponentialDecay(lr=0.1, decay_steps=2, decay_rate=0.99)"
   ]
  },
  {
   "cell_type": "code",
   "execution_count": 14,
   "id": "fe673807",
   "metadata": {},
   "outputs": [],
   "source": [
    "def show(steps, rates):\n",
    "    plt.plot(steps, rates)\n",
    "    plt.xlabel('Train Step')\n",
    "    plt.ylabel('Learning Rate')\n",
    "    plt.show()"
   ]
  },
  {
   "cell_type": "code",
   "execution_count": 15,
   "id": "8c0b8a9c",
   "metadata": {},
   "outputs": [
    {
     "data": {
      "image/png": "[encoded data removed]",
      "text/plain": [
       "<Figure size 640x480 with 1 Axes>"
      ]
     },
     "metadata": {},
     "output_type": "display_data"
    }
   ],
   "source": [
    "steps = bm.arange(1000)\n",
    "rates = sc(steps)\n",
    "\n",
    "show(steps, rates)"
   ]
  },
  {
   "cell_type": "markdown",
   "id": "2958e220",
   "metadata": {},
   "source": [
    "After Optimizer initialization, the learning rate ``self.lr`` will always be an instance of ``bm.optimizers.Scheduler``. A scalar float learning rate initialization will result in a ``Constant`` scheduler. "
   ]
  },
  {
   "cell_type": "code",
   "execution_count": 16,
   "id": "d67a3c6e",
   "metadata": {},
   "outputs": [
    {
     "data": {
      "text/plain": [
       "<brainpy.math.optimizers.Constant at 0x14899c76dc0>"
      ]
     },
     "execution_count": 16,
     "metadata": {},
     "output_type": "execute_result"
    }
   ],
   "source": [
    "op.lr"
   ]
  },
  {
   "cell_type": "markdown",
   "id": "83340b85",
   "metadata": {},
   "source": [
    "One can get the current learning rate value by calling ``Scheduler.__call__(i=None)``.\n",
    "\n",
    "- If `i` is not provided, the learning rate value will be evaluated at the built-in training ``step``.\n",
    "- Otherwise, the learning rate value will be evaluated at the given step ``i``. "
   ]
  },
  {
   "cell_type": "code",
   "execution_count": 17,
   "id": "7b5dd012",
   "metadata": {},
   "outputs": [
    {
     "data": {
      "text/plain": [
       "0.001"
      ]
     },
     "execution_count": 17,
     "metadata": {},
     "output_type": "execute_result"
    }
   ],
   "source": [
    "op.lr()"
   ]
  },
  {
   "cell_type": "markdown",
   "id": "029e39db",
   "metadata": {},
   "source": [
    "In BrainPy, several commonly used learning rate schedulers are used:\n",
    "\n",
    "- Constant\n",
    "- ExponentialDecay\n",
    "- InverseTimeDecay\n",
    "- PolynomialDecay\n",
    "- PiecewiseConstant\n",
    "\n",
    "For more details, please see the [brainpy.math.optimizers APIs](../apis/auto/math/optimizers.rst). \n"
   ]
  },
  {
   "cell_type": "code",
   "execution_count": 18,
   "id": "f5da4916",
   "metadata": {},
   "outputs": [
    {
     "data": {
      "image/png": "[encoded data removed]",
      "text/plain": [
       "<Figure size 640x480 with 1 Axes>"
      ]
     },
     "metadata": {},
     "output_type": "display_data"
    }
   ],
   "source": [
    "# InverseTimeDecay scheduler\n",
    "\n",
    "rates = bm.optimizers.InverseTimeDecay(lr=0.01, decay_steps=10, decay_rate=0.999)(steps)\n",
    "show(steps, rates)"
   ]
  },
  {
   "cell_type": "code",
   "execution_count": 19,
   "id": "8a49e917",
   "metadata": {},
   "outputs": [
    {
     "data": {
      "image/png": "[encoded data removed]",
      "text/plain": [
       "<Figure size 640x480 with 1 Axes>"
      ]
     },
     "metadata": {},
     "output_type": "display_data"
    }
   ],
   "source": [
    "# PolynomialDecay scheduler\n",
    "\n",
    "rates = bm.optimizers.PolynomialDecay(lr=0.01, decay_steps=10, final_lr=0.0001)(steps)\n",
    "show(steps, rates)"
   ]
  },
  {
   "cell_type": "markdown",
   "id": "3ef61151",
   "metadata": {},
   "source": [
    "## Creating a Self-Customized Scheduler"
   ]
  },
  {
   "cell_type": "markdown",
   "id": "9dd71dab",
   "metadata": {},
   "source": [
    "If users try to implement their own scheduler, simply inherit from ``bm.optimizers.Scheduler`` class and override the following methods:\n",
    "\n",
    "- ``__init__()``: the init function. \n",
    "- ``__call__(i=None)``: the learning rate value evalution. "
   ]
  },
  {
   "cell_type": "code",
   "execution_count": 20,
   "id": "7466e67c",
   "metadata": {},
   "outputs": [],
   "source": [
    "class CustomizeScheduler(bm.optimizers.Scheduler):\n",
    "    def __init__(self, lr, *params, **other_params):\n",
    "        super(CustomizeScheduler, self).__init__(lr)\n",
    "        \n",
    "        # customize your initialization\n",
    "        \n",
    "    def __call__(self, i=None):\n",
    "        # customize your update logic\n",
    "        pass"
   ]
  }
 ],
 "metadata": {
  "kernelspec": {
   "display_name": "Python [conda env:root] *",
   "language": "python",
   "name": "conda-root-py"
  },
  "language_info": {
   "codemirror_mode": {
    "name": "ipython",
    "version": 3
   },
   "file_extension": ".py",
   "mimetype": "text/x-python",
   "name": "python",
   "nbconvert_exporter": "python",
   "pygments_lexer": "ipython3",
   "version": "3.8.8"
  },
  "latex_envs": {
   "LaTeX_envs_menu_present": true,
   "autoclose": false,
   "autocomplete": true,
   "bibliofile": "biblio.bib",
   "cite_by": "apalike",
   "current_citInitial": 1,
   "eqLabelWithNumbers": true,
   "eqNumInitial": 1,
   "hotkeys": {
    "equation": "Ctrl-E",
    "itemize": "Ctrl-I"
   },
   "labels_anchors": false,
   "latex_user_defs": false,
   "report_style_numbering": false,
   "user_envs_cfg": false
  },
  "toc": {
   "base_numbering": 1,
   "nav_menu": {},
   "number_sections": false,
   "sideBar": true,
   "skip_h1_title": false,
   "title_cell": "Table of Contents",
   "title_sidebar": "Contents",
   "toc_cell": false,
   "toc_position": {},
   "toc_section_display": true,
   "toc_window_display": true
  }
 },
 "nbformat": 4,
 "nbformat_minor": 5
}