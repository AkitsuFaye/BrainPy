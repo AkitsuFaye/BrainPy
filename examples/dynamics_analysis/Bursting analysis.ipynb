{
 "cells": [
  {
   "cell_type": "markdown",
   "metadata": {},
   "source": [
    "# Bursting analysis of the Hindmarsh-Rose model"
   ]
  },
  {
   "cell_type": "markdown",
   "metadata": {},
   "source": [
    "The Hindmarsh-Rose model describes bursting dynamics in neurons.\n",
    "\n",
    "\"x\" models the membrane potential of a bursting cell,\n",
    "\"y\" models the main currents into and out of the cell, and\n",
    "\"z\" models an adaptive (calcium-like) current."
   ]
  },
  {
   "cell_type": "code",
   "execution_count": null,
   "metadata": {},
   "outputs": [],
   "source": [
    "import brainpy as bp\n",
    "import numpy as np\n",
    "\n",
    "bp.profile.set(dt=0.02, numerical_method='rk4')\n",
    "\n",
    "\n",
    "def get_model(a=1., b=3., c=1., d=5., s=4., x_r=-1.6, r=0.001, Vth=1.9):\n",
    "    state = bp.types.NeuState({'x': 0., 'y': 0., 'z': 0.,\n",
    "                               'spike': 0., 'input': 0.})\n",
    "\n",
    "    @bp.integrate\n",
    "    def int_x(x, t, y, z, Isyn):\n",
    "        return y - a * x ** 3 + b * x * x - z + Isyn\n",
    "\n",
    "    @bp.integrate\n",
    "    def int_y(y, t, x):\n",
    "        return c - d * x * x - y\n",
    "\n",
    "    @bp.integrate\n",
    "    def int_z(z, t, x):\n",
    "        return r*(s * (x - x_r) - z)\n",
    "\n",
    "    def update(ST, _t):\n",
    "        ST['y'] = int_y(ST['y'], _t, ST['x'])\n",
    "        ST['z'] = int_z(ST['z'], _t, ST['x'])\n",
    "        x = int_x(ST['x'], _t, ST['y'], ST['z'], ST['input'])\n",
    "        ST['spike'] = np.logical_and(x >= Vth, ST['x'] < Vth)\n",
    "        ST['x'] = x\n",
    "        ST['input'] = 0.\n",
    "\n",
    "    return bp.NeuType(name='Hindmarsh_Rose_model',\n",
    "                      ST=state,\n",
    "                      steps=update)"
   ]
  },
  {
   "cell_type": "markdown",
   "metadata": {},
   "source": [
    "### Simulation"
   ]
  },
  {
   "cell_type": "code",
   "execution_count": null,
   "metadata": {},
   "outputs": [],
   "source": [
    "neuron = get_model()\n",
    "\n",
    "group = bp.NeuGroup(neuron, 1, monitors=['x', 'y', 'z'])\n",
    "group.run(100., inputs=('ST.input', 1.))\n",
    "bp.visualize.line_plot(group.mon.ts, group.mon.x, legend='x', )\n",
    "bp.visualize.line_plot(group.mon.ts, group.mon.y, legend='y', )\n",
    "bp.visualize.line_plot(group.mon.ts, group.mon.z, legend='z', show=True)"
   ]
  },
  {
   "cell_type": "markdown",
   "metadata": {},
   "source": [
    "### phase plane analysis"
   ]
  },
  {
   "cell_type": "code",
   "execution_count": null,
   "metadata": {},
   "outputs": [],
   "source": [
    "analyzer = bp.PhasePortraitAnalyzer(\n",
    "    model=neuron,\n",
    "    target_vars={'x': [-3, 3], 'y': [-10., 5.]},\n",
    "    fixed_vars={'Isyn': 1., 'z': 0.})\n",
    "analyzer.plot_nullcline()\n",
    "analyzer.plot_vector_filed()\n",
    "analyzer.plot_fixed_point()\n",
    "analyzer.plot_trajectory([(0., 0., 100.)],\n",
    "                         inputs=('ST.input', 1.),\n",
    "                         show=True)"
   ]
  },
  {
   "cell_type": "markdown",
   "metadata": {},
   "source": [
    "### codimension 1 bifurcation analysis"
   ]
  },
  {
   "cell_type": "code",
   "execution_count": null,
   "metadata": {},
   "outputs": [],
   "source": [
    "analyzer = bp.BifurcationAnalyzer(\n",
    "    model=neuron,\n",
    "    target_pars={'Isyn': [0., 1.]},\n",
    "    dynamical_vars={'x': [-3, 3], 'y': [-10., 5.]},\n",
    "    fixed_vars={'z': 0.},\n",
    "    par_resolution=0.0001,\n",
    ")\n",
    "analyzer.plot_bifurcation(plot_vars=['x'], show=True)"
   ]
  },
  {
   "cell_type": "markdown",
   "metadata": {},
   "source": [
    "### codimension 2 bifurcation analysis"
   ]
  },
  {
   "cell_type": "code",
   "execution_count": null,
   "metadata": {},
   "outputs": [],
   "source": [
    "analyzer = bp.BifurcationAnalyzer(\n",
    "    model=neuron,\n",
    "    target_pars={'Isyn': [0., 1.], 'a': [0.5, 1.5]},\n",
    "    dynamical_vars={'x': [-3, 3], 'y': [-10., 5.]},\n",
    "    fixed_vars={'z': 0.},\n",
    "    par_resolution=0.01,\n",
    ")\n",
    "analyzer.plot_bifurcation(plot_vars=['x'], show=True)"
   ]
  },
  {
   "cell_type": "markdown",
   "metadata": {},
   "source": [
    "**References**:\n",
    "\n",
    "James L Hindmarsh and RM Rose. A model of neuronal bursting using\n",
    "three coupled first order differential equations. Proceedings\n",
    "of the Royal society of London. Series B. Biological sciences,\n",
    "221(1222):87–102, 1984."
   ]
  },
  {
   "cell_type": "code",
   "execution_count": null,
   "metadata": {},
   "outputs": [],
   "source": []
  }
 ],
 "metadata": {
  "kernelspec": {
   "display_name": "Python 3",
   "language": "python",
   "name": "python3"
  },
  "language_info": {
   "codemirror_mode": {
    "name": "ipython",
    "version": 3
   },
   "file_extension": ".py",
   "mimetype": "text/x-python",
   "name": "python",
   "nbconvert_exporter": "python",
   "pygments_lexer": "ipython3",
   "version": "3.7.6"
  }
 },
 "nbformat": 4,
 "nbformat_minor": 4
}
