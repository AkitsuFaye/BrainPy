{
 "cells": [
  {
   "cell_type": "markdown",
   "metadata": {},
   "source": [
    "# Phase portrait of Izhikevich model"
   ]
  },
  {
   "cell_type": "code",
   "execution_count": null,
   "metadata": {},
   "outputs": [],
   "source": [
    "from collections import OrderedDict\n",
    "\n",
    "import brainpy as bp\n",
    "import matplotlib.pyplot as plt\n",
    "\n",
    "bp.profile.set(dt=0.01)"
   ]
  },
  {
   "cell_type": "code",
   "execution_count": null,
   "metadata": {},
   "outputs": [],
   "source": [
    "a = 0.02\n",
    "b = 0.20\n",
    "c = -65.\n",
    "d = 8.\n",
    "Vth = 30.\n",
    "\n",
    "\n",
    "def get_Izhikevich(mode=None):\n",
    "    state = bp.types.NeuState({'V': 0., 'u': 1., 'sp': 0., 'input': 0.})\n",
    "\n",
    "    global a, b, c, d\n",
    "\n",
    "    if mode in ['tonic', 'tonic spiking']:\n",
    "        a, b, c, d = [0.02, 0.40, -65.0, 2.0]\n",
    "    elif mode in ['phasic', 'phasic spiking']:\n",
    "        a, b, c, d = [0.02, 0.25, -65.0, 6.0]\n",
    "    elif mode in ['tonic bursting']:\n",
    "        a, b, c, d = [0.02, 0.20, -50.0, 2.0]\n",
    "    elif mode in ['phasic bursting']:\n",
    "        a, b, c, d = [0.02, 0.25, -55.0, 0.05]\n",
    "    elif mode in ['mixed mode']:\n",
    "        a, b, c, d = [0.02, 0.20, -55.0, 4.0]\n",
    "    elif mode in ['SFA', 'spike frequency adaptation']:\n",
    "        a, b, c, d = [0.01, 0.20, -65.0, 8.0]\n",
    "    elif mode in ['Class 1', 'class 1']:\n",
    "        a, b, c, d = [0.02, -0.1, -55.0, 6.0]\n",
    "    elif mode in ['Class 2', 'class 2']:\n",
    "        a, b, c, d = [0.20, 0.26, -65.0, 0.0]\n",
    "    elif mode in ['spike latency', ]:\n",
    "        a, b, c, d = [0.02, 0.20, -65.0, 6.0]\n",
    "    elif mode in ['subthreshold oscillation', ]:\n",
    "        a, b, c, d = [0.05, 0.26, -60.0, 0.0]\n",
    "    elif mode in ['resonator', ]:\n",
    "        a, b, c, d = [0.10, 0.26, -60.0, -1.0]\n",
    "    elif mode in ['integrator', ]:\n",
    "        a, b, c, d = [0.02, -0.1, -55.0, 6.0]\n",
    "    elif mode in ['rebound spike', ]:\n",
    "        a, b, c, d = [0.03, 0.25, -60.0, 4.0]\n",
    "    elif mode in ['rebound burst', ]:\n",
    "        a, b, c, d = [0.03, 0.25, -52.0, 0.0]\n",
    "    elif mode in ['threshold variability', ]:\n",
    "        a, b, c, d = [0.03, 0.25, -60.0, 4.0]\n",
    "    elif mode in ['bistability', ]:\n",
    "        a, b, c, d = [1.00, 1.50, -60.0, 0.0]\n",
    "    elif mode in ['DAP', 'depolarizing afterpotential']:\n",
    "        a, b, c, d = [1.00, 0.20, -60.0, -21.0]\n",
    "    elif mode in ['accomodation', ]:\n",
    "        a, b, c, d = [0.02, 1.00, -55.0, 4.0]\n",
    "    elif mode in ['inhibition-induced spiking', ]:\n",
    "        a, b, c, d = [-0.02, -1.00, -60.0, 8.0]\n",
    "    elif mode in ['inhibition-induced bursting', ]:\n",
    "        a, b, c, d = [-0.026, -1.00, -45.0, 0.0]\n",
    "\n",
    "    @bp.integrate\n",
    "    def int_u(u, t, V):\n",
    "        return a * (b * V - u)\n",
    "\n",
    "    @bp.integrate\n",
    "    def int_V(V, t, u, Isyn):\n",
    "        return 0.04 * V * V + 5 * V + 140 - u + Isyn\n",
    "\n",
    "    def update(ST, _t):\n",
    "        V = int_V(ST['V'], _t, ST['u'], ST['input'])\n",
    "        u = int_u(ST['u'], _t, ST['V'])\n",
    "        if V >= Vth:\n",
    "            V = c\n",
    "            u += d\n",
    "            ST['sp'] = True\n",
    "        ST['V'] = V\n",
    "        ST['u'] = u\n",
    "        ST['input'] = 0.\n",
    "\n",
    "    return bp.NeuType(name='Izhikevich',\n",
    "                      ST=state,\n",
    "                      steps=update,\n",
    "                      mode='scalar')"
   ]
  },
  {
   "cell_type": "markdown",
   "metadata": {},
   "source": [
    "### Simulation"
   ]
  },
  {
   "cell_type": "code",
   "execution_count": null,
   "metadata": {},
   "outputs": [],
   "source": [
    "neuron = get_Izhikevich()\n",
    "\n",
    "# group = bp.NeuGroup(neuron, 1, monitors=['V', 'u'])\n",
    "# group.run(100., inputs=('ST.input', 40.))\n",
    "# bp.visualize.line_plot(group.mon.ts, group.mon.V, ylabel='Potential (mV)')\n",
    "# bp.visualize.line_plot(group.mon.ts, group.mon.u, ylabel='u', show=True)"
   ]
  },
  {
   "cell_type": "markdown",
   "metadata": {},
   "source": [
    "### Phase plane analysis"
   ]
  },
  {
   "cell_type": "code",
   "execution_count": null,
   "metadata": {},
   "outputs": [],
   "source": [
    "analyzer = bp.PhasePortraitAnalyzer(\n",
    "    model=neuron,\n",
    "    target_vars=OrderedDict(V=[-100, 40], u=[-40., 40.]),\n",
    "    fixed_vars={'Isyn': 30.})\n",
    "plt.axvline(Vth, label='threshold')\n",
    "analyzer.plot_nullcline()\n",
    "analyzer.plot_vector_filed()\n",
    "analyzer.plot_fixed_point()\n",
    "analyzer.plot_trajectory([(-10, 0., 100.), (-10, 0., (50, 100.))],\n",
    "                         inputs=('ST.input', 30.),\n",
    "                         show=True)"
   ]
  }
 ],
 "metadata": {
  "kernelspec": {
   "display_name": "Python 3",
   "language": "python",
   "name": "python3"
  },
  "language_info": {
   "codemirror_mode": {
    "name": "ipython",
    "version": 3
   },
   "file_extension": ".py",
   "mimetype": "text/x-python",
   "name": "python",
   "nbconvert_exporter": "python",
   "pygments_lexer": "ipython3",
   "version": "3.7.6"
  }
 },
 "nbformat": 4,
 "nbformat_minor": 4
}
