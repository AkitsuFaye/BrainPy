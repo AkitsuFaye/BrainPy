{
 "cells": [
  {
   "cell_type": "markdown",
   "metadata": {},
   "source": [
    "# 1D system birfurcation codimension1"
   ]
  },
  {
   "cell_type": "code",
   "execution_count": null,
   "metadata": {},
   "outputs": [],
   "source": [
    "import brainpy as bp\n",
    "\n",
    "\n",
    "def define_model():\n",
    "    \"\"\"\n",
    "    A dummy 1D test neuronal model.\n",
    "\n",
    "    .. math::\n",
    "\n",
    "        \\dot{x} = x**3-x + I\n",
    "\n",
    "    \"\"\"\n",
    "\n",
    "    @bp.integrate\n",
    "    def int_x(x, t, input):\n",
    "        dxdt = x ** 3 - x + input\n",
    "        return dxdt\n",
    "\n",
    "    def update(ST, _t):\n",
    "        ST['x'] = int_x(ST['x'], _t, ST['input'])\n",
    "        ST['input'] = 0.\n",
    "\n",
    "    return bp.NeuType(name=\"dummy_model\",\n",
    "                      ST=bp.types.NeuState({'x': -10, 'input': 0.}),\n",
    "                      steps=update)\n",
    "\n",
    "\n",
    "an = bp.BifurcationAnalyzer(\n",
    "    model=define_model(),\n",
    "    target_pars={'input': [-0.5, 0.5]},\n",
    "    dynamical_vars={\"x\": [-2, 2]},\n",
    "    par_resolution=0.0001)\n",
    "\n",
    "an.plot_bifurcation(show=True)"
   ]
  },
  {
   "cell_type": "markdown",
   "metadata": {},
   "source": [
    "# 1D system birfurcation codimension2"
   ]
  },
  {
   "cell_type": "code",
   "execution_count": null,
   "metadata": {},
   "outputs": [],
   "source": [
    "import matplotlib.pyplot as plt\n",
    "\n",
    "import brainpy as bp\n",
    "\n",
    "\n",
    "def define_model():\n",
    "    \"\"\"\n",
    "    A 1D model for codimension 2 bifurcation testing.\n",
    "\n",
    "    .. math::\n",
    "\n",
    "        \\dot{x} = \\mu+ \\lambda x - x**3\n",
    "    \"\"\"\n",
    "\n",
    "    lambd = 0\n",
    "    mu = 0\n",
    "\n",
    "    @bp.integrate\n",
    "    def int_x(x, t):\n",
    "        dxdt = mu + lambd * x - x ** 3\n",
    "        return dxdt\n",
    "\n",
    "    def update(ST, _t):\n",
    "        ST['x'] = int_x(ST['x'], _t)\n",
    "\n",
    "    return bp.NeuType(name=\"dummy_model\",\n",
    "                      ST=bp.types.NeuState({'x': 0.}),\n",
    "                      steps=update)\n",
    "\n",
    "\n",
    "analyzer = bp.BifurcationAnalyzer(\n",
    "    model=define_model(),\n",
    "    target_pars={'mu': [-4, 4], 'lambd': [-1, 4]},\n",
    "    dynamical_vars={'x': [-3, 3]},\n",
    "    par_resolution=0.1)\n",
    "analyzer.plot_bifurcation(plot_vars=['x'], show=True)"
   ]
  }
 ],
 "metadata": {
  "kernelspec": {
   "display_name": "Python 3",
   "language": "python",
   "name": "python3"
  },
  "language_info": {
   "codemirror_mode": {
    "name": "ipython",
    "version": 3
   },
   "file_extension": ".py",
   "mimetype": "text/x-python",
   "name": "python",
   "nbconvert_exporter": "python",
   "pygments_lexer": "ipython3",
   "version": "3.7.6"
  }
 },
 "nbformat": 4,
 "nbformat_minor": 4
}
